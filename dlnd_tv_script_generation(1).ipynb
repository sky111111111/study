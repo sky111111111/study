{
 "cells": [
  {
   "cell_type": "markdown",
   "metadata": {},
   "source": [
    "# TV Script Generation\n",
    "In this project, you'll generate your own [Simpsons](https://en.wikipedia.org/wiki/The_Simpsons) TV scripts using RNNs.  You'll be using part of the [Simpsons dataset](https://www.kaggle.com/wcukierski/the-simpsons-by-the-data) of scripts from 27 seasons.  The Neural Network you'll build will generate a new TV script for a scene at [Moe's Tavern](https://simpsonswiki.com/wiki/Moe's_Tavern).\n",
    "## Get the Data\n",
    "The data is already provided for you.  You'll be using a subset of the original dataset.  It consists of only the scenes in Moe's Tavern.  This doesn't include other versions of the tavern, like \"Moe's Cavern\", \"Flaming Moe's\", \"Uncle Moe's Family Feed-Bag\", etc.."
   ]
  },
  {
   "cell_type": "code",
   "execution_count": 1,
   "metadata": {
    "collapsed": true
   },
   "outputs": [],
   "source": [
    "# Computer is setup similarly to that for hw 1 and 2\n",
    "# "
   ]
  },
  {
   "cell_type": "code",
   "execution_count": 2,
   "metadata": {
    "collapsed": true
   },
   "outputs": [],
   "source": [
    "\"\"\"\n",
    "DON'T MODIFY ANYTHING IN THIS CELL\n",
    "\"\"\"\n",
    "import helper\n",
    "\n",
    "data_dir = './data/simpsons/moes_tavern_lines.txt'\n",
    "text = helper.load_data(data_dir)\n",
    "# Ignore notice, since we don't use it for analysing the data\n",
    "text = text[81:]"
   ]
  },
  {
   "cell_type": "markdown",
   "metadata": {},
   "source": [
    "## Explore the Data\n",
    "Play around with `view_sentence_range` to view different parts of the data."
   ]
  },
  {
   "cell_type": "code",
   "execution_count": 3,
   "metadata": {
    "collapsed": true
   },
   "outputs": [],
   "source": [
    "# Why is there code in the cell bellow that is above the DONTMODIFY note?\n",
    "#I mean, why wouldn't that be in a differenet cell"
   ]
  },
  {
   "cell_type": "code",
   "execution_count": 4,
   "metadata": {},
   "outputs": [
    {
     "name": "stdout",
     "output_type": "stream",
     "text": [
      "Dataset Stats\n",
      "Roughly the number of unique words: 11492\n",
      "Number of scenes: 262\n",
      "Average number of sentences in each scene: 15.248091603053435\n",
      "Number of lines: 4257\n",
      "Average number of words in each line: 11.50434578341555\n",
      "\n",
      "The sentences 5 to 20:\n",
      "Homer_Simpson: I got my problems, Moe. Give me another one.\n",
      "Moe_Szyslak: Homer, hey, you should not drink to forget your problems.\n",
      "Barney_Gumble: Yeah, you should only drink to enhance your social skills.\n",
      "\n",
      "\n",
      "Moe_Szyslak: Ah, isn't that nice. Now, there is a politician who cares.\n",
      "Barney_Gumble: If I ever vote, it'll be for him. (BELCH)\n",
      "\n",
      "\n",
      "Barney_Gumble: Hey Homer, how's your neighbor's store doing?\n",
      "Homer_Simpson: Lousy. He just sits there all day. He'd have a great job if he didn't own the place. (CHUCKLES)\n",
      "Moe_Szyslak: (STRUGGLING WITH CORKSCREW) Crummy right-handed corkscrews! What does he sell?\n",
      "Homer_Simpson: Uh, well actually, Moe...\n",
      "HOMER_(CONT'D: I dunno.\n",
      "\n"
     ]
    }
   ],
   "source": [
    "view_sentence_range = (5, 20)\n",
    "\n",
    "\"\"\"\n",
    "DON'T MODIFY ANYTHING IN THIS CELL\n",
    "\"\"\"\n",
    "import numpy as np\n",
    "\n",
    "print('Dataset Stats')\n",
    "print('Roughly the number of unique words: {}'.format(len({word: None for word in text.split()})))\n",
    "scenes = text.split('\\n\\n')\n",
    "print('Number of scenes: {}'.format(len(scenes)))\n",
    "sentence_count_scene = [scene.count('\\n') for scene in scenes]\n",
    "print('Average number of sentences in each scene: {}'.format(np.average(sentence_count_scene)))\n",
    "\n",
    "sentences = [sentence for scene in scenes for sentence in scene.split('\\n')]\n",
    "print('Number of lines: {}'.format(len(sentences)))\n",
    "word_count_sentence = [len(sentence.split()) for sentence in sentences]\n",
    "print('Average number of words in each line: {}'.format(np.average(word_count_sentence)))\n",
    "\n",
    "print()\n",
    "print('The sentences {} to {}:'.format(*view_sentence_range))\n",
    "print('\\n'.join(text.split('\\n')[view_sentence_range[0]:view_sentence_range[1]]))"
   ]
  },
  {
   "cell_type": "markdown",
   "metadata": {},
   "source": [
    "## Implement Preprocessing Functions\n",
    "The first thing to do to any dataset is preprocessing.  Implement the following preprocessing functions below:\n",
    "- Lookup Table\n",
    "- Tokenize Punctuation\n",
    "\n",
    "### Lookup Table\n",
    "To create a word embedding, you first need to transform the words to ids.  In this function, create two dictionaries:\n",
    "- Dictionary to go from the words to an id, we'll call `vocab_to_int`\n",
    "- Dictionary to go from the id to word, we'll call `int_to_vocab`\n",
    "\n",
    "Return these dictionaries in the following tuple `(vocab_to_int, int_to_vocab)`"
   ]
  },
  {
   "cell_type": "code",
   "execution_count": 5,
   "metadata": {},
   "outputs": [
    {
     "name": "stdout",
     "output_type": "stream",
     "text": [
      "{'of': 0, \"you're\": 1, 'forget': 2, \"i'm\": 3, 'drink': 4, 'anybody': 5, 'self': 6, 'the': 7, 'there': 8, 'mike': 9, 'hey': 10, 'moe': 11, 'hello': 12, 'seen': 13, 'puke': 14, 'days': 15, 'to': 16, 'tavern': 17, 'homer': 18, 'homer_simpson': 19, 'lately': 20, 'one': 21, \"i'll\": 22, 'eh': 23, 'bart_simpson': 24, 'you': 25, 'ice': 26, 'normal': 27, 'got': 28, 'last': 29, 'yeah': 30, 'problems': 31, \"moe's\": 32, 'your': 33, 'i': 34, 'on': 35, 'check': 36, 'skills': 37, 'with': 38, 'another': 39, 'little': 40, 'gonna': 41, 'and': 42, 'meet': 43, 'effervescent': 44, 'elite': 45, 'not': 46, 'me': 47, 'should': 48, 'is': 49, 'an': 50, 'hold': 51, 'only': 52, 'name': 53, 'where': 54, 'enhance': 55, 'matter': 56, 'back': 57, 'has': 58, 'moe_szyslak': 59, 'these': 60, 'catch': 61, 'carve': 62, 'give': 63, 'barney_gumble': 64, 'whats': 65, 'social': 66, 'listen': 67, 'my': 68, 'rotch': 69, 'pick': 70}\n",
      "\n",
      "\n",
      "=========\n",
      "\n",
      "{0: 'of', 1: \"you're\", 2: 'forget', 3: \"i'm\", 4: 'drink', 5: 'anybody', 6: 'self', 7: 'the', 8: 'there', 9: 'mike', 10: 'hey', 11: 'moe', 12: 'hello', 13: 'seen', 14: 'puke', 15: 'days', 16: 'to', 17: 'tavern', 18: 'homer', 19: 'homer_simpson', 20: 'lately', 21: 'one', 22: \"i'll\", 23: 'eh', 24: 'bart_simpson', 25: 'you', 26: 'ice', 27: 'normal', 28: 'got', 29: 'last', 30: 'yeah', 31: 'problems', 32: \"moe's\", 33: 'your', 34: 'i', 35: 'on', 36: 'check', 37: 'skills', 38: 'with', 39: 'another', 40: 'little', 41: 'gonna', 42: 'and', 43: 'meet', 44: 'effervescent', 45: 'elite', 46: 'not', 47: 'me', 48: 'should', 49: 'is', 50: 'an', 51: 'hold', 52: 'only', 53: 'name', 54: 'where', 55: 'enhance', 56: 'matter', 57: 'back', 58: 'has', 59: 'moe_szyslak', 60: 'these', 61: 'catch', 62: 'carve', 63: 'give', 64: 'barney_gumble', 65: 'whats', 66: 'social', 67: 'listen', 68: 'my', 69: 'rotch', 70: 'pick'}\n",
      "Tests Passed\n"
     ]
    }
   ],
   "source": [
    "import numpy as np\n",
    "import problem_unittests as tests\n",
    "\n",
    "def create_lookup_tables(text):\n",
    "    \"\"\"\n",
    "    Create lookup tables for vocabulary\n",
    "    :param text: The text of tv scripts split into words\n",
    "    :return: A tuple of dicts (vocab_to_int, int_to_vocab)\n",
    "    \"\"\"\n",
    "    # DONE: Implement Function\n",
    "    \n",
    "    #see ing what shape text is:    \n",
    "    #print(text)\n",
    "    ##text.shape()\n",
    "    vocab_to_int = {}\n",
    "    int_to_vocab = {}\n",
    "    \n",
    "    #googled dictionaries from lists: https://stackoverflow.com/questions/1747817/create-a-dictionary-with-list-comprehension-in-python\n",
    "    #d = {k:v for k, v in iterable}\n",
    "    \n",
    "    #don't use int here because keyword, using val instead.\n",
    "        #vocab_to_int = {vocab: val for vocab, v in len(text)}\n",
    "        #vocab_to_int = {vocab: val for vocab, val in enumerate(text)}\n",
    "        #int_to_vocab = {val:vocab for val, vocab in vocab_to_int.items()}\n",
    "   \n",
    "        #int_to_vocab = {val:vocab for vocab, vocab in vocab_to_int.items()}\n",
    "\n",
    "        ##  vocab_to_int = {vocab: val for vocab, vocab in enumerate(text)}\n",
    "        #int_to_vocab = {val:vocab for val, val in vocab_to_int.items()}\n",
    "\n",
    "    # OK I understand this now. I think I could code this again without so much guessing next time\n",
    "        \n",
    "    #vocab_to_int = {vocab: val for val, vocab in enumerate(text)}\n",
    "    #int_to_vocab = {val:vocab for vocab, val in vocab_to_int.items()}\n",
    "\n",
    "    #ok that makes sense. in this case it should be closer to d = {k:v for v, k in enum} I don't know why that took me so long.. :/\n",
    "    \n",
    "    # print(vocab_to_int)\n",
    "    #print(\"\\n\\n=========\\n\")\n",
    "    # print(int_to_vocab)\n",
    "\n",
    "    # This looks right\n",
    "    \n",
    "    \n",
    "    #it looked right but I guess it was wrong even though it passes the test. Livesupport ta helped clean it to be\n",
    "    for num, word in enumerate(set(text)):\n",
    "        vocab_to_int[word] = num\n",
    "        int_to_vocab[num] = word\n",
    "    \n",
    "    \n",
    "    print(vocab_to_int)\n",
    "    print(\"\\n\\n=========\\n\")\n",
    "    print(int_to_vocab)\n",
    "    return vocab_to_int, int_to_vocab  #None, None\n",
    "\n",
    "\n",
    "\"\"\"\n",
    "DON'T MODIFY ANYTHING IN THIS CELL THAT IS BELOW THIS LINE\n",
    "\"\"\"\n",
    "tests.test_create_lookup_tables(create_lookup_tables)"
   ]
  },
  {
   "cell_type": "markdown",
   "metadata": {},
   "source": [
    "### Tokenize Punctuation\n",
    "We'll be splitting the script into a word array using spaces as delimiters.  However, punctuations like periods and exclamation marks make it hard for the neural network to distinguish between the word \"bye\" and \"bye!\".\n",
    "\n",
    "Implement the function `token_lookup` to return a dict that will be used to tokenize symbols like \"!\" into \"||Exclamation_Mark||\".  Create a dictionary for the following symbols where the symbol is the key and value is the token:\n",
    "- Period ( . )\n",
    "- Comma ( , )\n",
    "- Quotation Mark ( \" )\n",
    "- Semicolon ( ; )\n",
    "- Exclamation mark ( ! )\n",
    "- Question mark ( ? )\n",
    "- Left Parentheses ( ( )\n",
    "- Right Parentheses ( ) )\n",
    "- Dash ( -- )\n",
    "- Return ( \\n )\n",
    "\n",
    "This dictionary will be used to token the symbols and add the delimiter (space) around it.  This separates the symbols as it's own word, making it easier for the neural network to predict on the next word. Make sure you don't use a token that could be confused as a word. Instead of using the token \"dash\", try using something like \"||dash||\"."
   ]
  },
  {
   "cell_type": "code",
   "execution_count": 6,
   "metadata": {},
   "outputs": [
    {
     "name": "stdout",
     "output_type": "stream",
     "text": [
      "Tests Passed\n"
     ]
    }
   ],
   "source": [
    "def token_lookup():\n",
    "    \"\"\"\n",
    "    Generate a dict to turn punctuation into a token.\n",
    "    :return: Tokenize dictionary where the key is the punctuation and the value is the token\n",
    "    \"\"\"\n",
    "    # DONE: Implement Function\n",
    "    #ret = {}\n",
    "    \n",
    "    \n",
    "    \n",
    "    \n",
    "    #Period ( . )\n",
    "    #Comma ( , )\n",
    "    #Quotation Mark ( \" )\n",
    "    #Semicolon ( ; )\n",
    "    #Exclamation mark ( ! )\n",
    "    #Question mark ( ? )\n",
    "    #Left Parentheses ( ( )\n",
    "    #Right Parentheses ( ) )\n",
    "    #Dash ( -- )\n",
    "    #Return ( \\n )\n",
    "    #(\"Period\",\".\")\n",
    "    #\"Comma\",\",\")\n",
    "    #(\"Quotation_Mark\", \"\\\")\n",
    "    #(\"Semicolon\", \";\" )\n",
    "    #(\"Exclamation_mark,\"!\" )\n",
    "    #(\"Question mark\",\"?\")\n",
    "    #(\"Left_Parentheses\",\"(\")\n",
    "    #(\"Right_Parentheses\",\")\")\n",
    "    #(\"Dash\",\"--\"),\n",
    "    #(\"Return\",\"\\\\n\")\n",
    "    \n",
    "    \n",
    "    #there must be an easier way to move stuff aroudn or find replace in Jupyter Notebook.. I finally just used a text editor (geany) though.\n",
    "    \n",
    "    \n",
    "    # use lowercase just in case a to upper or to loower is used on the text later\n",
    "    # break out \\.\n",
    "    ret = {\n",
    "        '||period||':'.',\n",
    "        '||comma||':',',\n",
    "        '||quotation_mark||':'\"',  \n",
    "        '||semicolon||':';' ,\n",
    "        '||exclamation_mark||':'!',\n",
    "        '||question_mark||':'?',\n",
    "        '||left_parentheses||':'(',\n",
    "        '||right_parentheses||':')',\n",
    "        '||dash||':'--',\n",
    "        '||return||':'\\n'}\n",
    "\n",
    "    # I guess I typed this in reverse. Rather than edit it by hand again, I figure this is a good time to learn how to flip keys and values\n",
    "    # I did a google search, and found https://stackoverflow.com/questions/14131089/better-one-liner-to-flip-keys-and-values-of-a-dictionary\n",
    "    #e = {v: k for k, v in a.iteritems()}\n",
    "    # so that would be:\n",
    "    \n",
    "    #ret_corrected = {values : keys for keys , values in ret.iteritems()}\n",
    "    #AttributeError: 'dict' object has no attribute 'iteritems'\n",
    "    #I did something wrong I gues, this was another option:\n",
    "    \n",
    "    #d = dict(map(reversed, a.items()))\n",
    "    ret_corrected = dict(map(reversed,ret.items()))\n",
    "    \n",
    "    # cool that worked. must remember.\n",
    "    \n",
    "    \n",
    "    # I asked about this later on the Live support, this is a difference between python 3 and 2 with iteritems removed in 3. See: PEP-469\n",
    "    return ret_corrected#ret\n",
    "\n",
    "    \n",
    "\n",
    "\"\"\"\n",
    "DON'T MODIFY ANYTHING IN THIS CELL THAT IS BELOW THIS LINE\n",
    "\"\"\"\n",
    "tests.test_tokenize(token_lookup)"
   ]
  },
  {
   "cell_type": "markdown",
   "metadata": {},
   "source": [
    "## Preprocess all the data and save it\n",
    "Running the code cell below will preprocess all the data and save it to file."
   ]
  },
  {
   "cell_type": "code",
   "execution_count": 7,
   "metadata": {},
   "outputs": [
    {
     "name": "stdout",
     "output_type": "stream",
     "text": [
      "{'hi': 0, 'pursue': 1, 'forced': 2, 'branding': 3, 'handling': 4, 'bunch': 5, 'bumpy-like': 6, 'habitrail': 7, 'ripper': 8, \"pullin'\": 9, 'dennis_conroy:': 10, 'ihop': 11, 'pretend': 12, 'fires': 13, 'imagine': 14, 'sang': 15, 'sir': 16, 'bartholomé:': 17, 'ninth': 18, 'deep': 19, 'shopping': 20, 'ignorant': 21, 'completing': 22, 'hit': 23, 'parasol': 24, 'zeal': 25, \"comin'\": 26, 'befouled': 27, 'rub-a-dub': 28, 'freedom': 29, 'creature': 30, 'hour': 31, 'liable': 32, 'prep': 33, 'stacey': 34, 'boozehound': 35, 'surgery': 36, 'foundation': 37, 'glen': 38, 'miracle': 39, 'maher': 40, 'into': 41, 'shop': 42, 'hunting': 43, 'admiring': 44, 'mmm-hmm': 45, 'julep': 46, 'funniest': 47, 'michelin': 48, 'of': 49, 'bachelorhood': 50, '6': 51, 'gutenberg': 52, 'tracks': 53, 'goo': 54, 'hello': 55, 'beloved': 56, 'guttural': 57, 'bid': 58, 'hooray': 59, 'bump': 60, 'pernt': 61, 'melodramatic': 62, 'picky': 63, \"getting'\": 64, 'being': 65, 'rip-off': 66, 'cleaning': 67, 'nooo': 68, 'once': 69, 'actor': 70, 'fonda': 71, 'gallon': 72, 'haws': 73, 'course': 74, 'minors': 75, 'happiness': 76, 'harv:': 77, 'smitty:': 78, 'spits': 79, 'sesame': 80, 'clearly': 81, 'bret:': 82, 'passion': 83, 'possibly': 84, 'needs': 85, 'everything': 86, 'worthless': 87, 'wenceslas': 88, 'self-centered': 89, 'lachrymose': 90, \"poundin'\": 91, 'politicians': 92, 'amiable': 93, 'self-made': 94, 're-al': 95, \"mtv's\": 96, 'cobbling': 97, 'dumpster': 98, 'kidney': 99, 'scout': 100, 'stagehand:': 101, 'inquiries': 102, 'tonight': 103, 'lot': 104, 'mona_simpson:': 105, 'mel': 106, 'score': 107, 'ran': 108, 'may': 109, 'bloodball': 110, \"guy's\": 111, 'doll-baby': 112, 'weight': 113, 'brandy': 114, \"tramp's\": 115, 'loves': 116, 'deeper': 117, 'villanova': 118, 'ways': 119, 'fancy': 120, \"enjoyin'\": 121, 'dinks': 122, 'something': 123, 'doubt': 124, 'temporarily': 125, \"nothin's\": 126, 'flea:': 127, 'jukebox_record:': 128, 'pass': 129, 'junior': 130, 'evening': 131, 'pope': 132, 'pats': 133, \"g'ahead\": 134, 'traffic': 135, 'nevada': 136, 'debonair': 137, 'aquafresh': 138, 'combine': 139, 'typing': 140, 'phase': 141, 'uhhhh': 142, 'recorder': 143, 'entrance': 144, 'latin': 145, 'idioms': 146, 'whispered': 147, 'wistful': 148, 'mole': 149, 'grabbing': 150, 'oughtta': 151, \"who'da\": 152, 'this:': 153, 'lead': 154, 'sangre': 155, 'hitler': 156, 'radiator': 157, 'twenty': 158, 'happens': 159, 'anything': 160, 'beating': 161, 'rocks': 162, 'friendship': 163, 'stu': 164, 'volunteer': 165, 'singers:': 166, 'care': 167, 'sight-unseen': 168, 'outta': 169, 'mind-numbing': 170, 'blossoming': 171, 'selma_bouvier:': 172, 'obvious': 173, 'delivery_man:': 174, 'pity': 175, 'oblivious': 176, 'thousands': 177, 'puff': 178, 'two-drink': 179, 'slipped': 180, 'rebuttal': 181, 'dispenser': 182, 'sleep': 183, 'tolerable': 184, 'haiti': 185, \"c'mom\": 186, 'expense': 187, 'impeach': 188, 'cab_driver:': 189, 'wally': 190, 'bust': 191, \"man's\": 192, 'tell': 193, 'buzziness': 194, 'put': 195, 'beverage': 196, 'toilet': 197, 'twelveball': 198, 'stick': 199, '1895': 200, 'business': 201, 'wad': 202, 'poster': 203, 'apulina': 204, 'high': 205, 'ends': 206, 'whole': 207, 'hugh:': 208, 'kitchen': 209, 'iranian': 210, 'composer': 211, 'source': 212, 'businessman_#2:': 213, 'backwards': 214, 'verticality': 215, 'irrelevant': 216, 'diet': 217, 'coat': 218, 'using': 219, 'purveyor': 220, 'encores': 221, 'bubble': 222, 'jeff_gordon:': 223, 'shaker': 224, 'shtick': 225, 'cleveland': 226, 'authorized': 227, 'deer': 228, '/': 229, 'vengeance': 230, 'pit': 231, 'practice': 232, 'pledge': 233, 'compare': 234, 'sedaris': 235, 'lady': 236, 'anti-intellectualism': 237, 'betcha': 238, 'bullet-proof': 239, 'perfunctory': 240, 'sealed': 241, 'private': 242, 'pitcher': 243, 'trapped': 244, 'stripes': 245, 'snake': 246, 'correcting': 247, 'person': 248, 'freaky': 249, 'yourself': 250, 'understood:': 251, 'granted': 252, 'gentlemen': 253, 'crestfallen': 254, 'prettiest': 255, 'spot': 256, 'hook': 257, 'ridiculous': 258, 'sick': 259, 'root': 260, 'dating': 261, 'cap': 262, 'focused': 263, 'noosey': 264, 'dead': 265, 'monday': 266, 'knuckle-dragging': 267, 'rafters': 268, 'written': 269, 'marquee': 270, 'third': 271, 'move': 272, 'entirely': 273, 'natured': 274, 'know': 275, 'blade': 276, 'unable': 277, 'round': 278, 'fruit': 279, 'feels': 280, 'copy': 281, 'cash': 282, 'pal': 283, 'harmony': 284, 'bursts': 285, 'thesaurus': 286, 'town': 287, 'skins': 288, 'patting': 289, 'attitude': 290, 'botanical': 291, 'buttocks': 292, 'professor_jonathan_frink:': 293, 'ordered': 294, 'hiring': 295, 'forever': 296, 'sideshow_bob:': 297, 'acronyms': 298, 'vehicle': 299, 'fl': 300, \"renovatin'\": 301, 'three-man': 302, 'at': 303, 'pitch': 304, 'paints': 305, 'totalitarians': 306, 'supreme': 307, \"i'unno\": 308, 'rude': 309, 'smiling': 310, 'crunch': 311, 'that': 312, 'mafia': 313, 'uh-huh': 314, 'system': 315, 'buddha': 316, 'conference': 317, 'snotball': 318, 'gotcha': 319, 'compels': 320, 'mayor_joe_quimby:': 321, 'ton': 322, 'j': 323, \"how're\": 324, 'benjamin:': 325, 'salvador': 326, 'wheels': 327, 'real': 328, 'borrow': 329, 'whistles': 330, 'doors': 331, 'leprechaun': 332, 'since': 333, 'isle': 334, 'video': 335, 'tapping': 336, 'joined': 337, 'ohmygod': 338, 'moment': 339, 'milhouse': 340, 'walther_hotenhoffer:': 341, 'boxer': 342, 'countryman': 343, 'thinking': 344, 'tar-paper': 345, 'option': 346, 'parrot': 347, \"they'll\": 348, 'onions': 349, 'stained-glass': 350, 'guys': 351, 'depository': 352, 'state': 353, 'trip': 354, 'luckiest': 355, 'offer': 356, 'awed': 357, 'shrugs': 358, 'cruiser': 359, 'watashi': 360, 'danish': 361, 'handoff': 362, 'hop': 363, 'stalwart': 364, 'term': 365, 'village': 366, 'already': 367, 'don': 368, 'broncos': 369, 'sweaty': 370, 'pigs': 371, 'have': 372, 'jobless': 373, 'onion': 374, 'van': 375, 'ah-ha': 376, 'miss_lois_pennycandy:': 377, 'winces': 378, \"hangin'\": 379, 'inserted': 380, 'tremendous': 381, 'considering': 382, 'boston': 383, 'rev': 384, 'sieben-gruben': 385, 'synthesize': 386, 'scanning': 387, 'hole': 388, 'sleeps': 389, 'salvation': 390, 'wrong': 391, 'plastered': 392, 'planet': 393, 'lifters': 394, 'scum-sucking': 395, 'hibachi': 396, 'mouths': 397, 'bald': 398, 'writers': 399, 'refreshing': 400, 'addiction': 401, 'dumptruck': 402, 'upn': 403, 'ho-ly': 404, 'dames': 405, 'exhibit': 406, 'reentering': 407, 'shutup': 408, 'engine': 409, 'stillwater:': 410, 'diving': 411, 'vodka': 412, 'terrific': 413, 'awesome': 414, 'julienne': 415, 'marched': 416, 'serum': 417, 'device': 418, 'fell': 419, 'cowboys': 420, 'eye-gouger': 421, 'payday': 422, 'hold': 423, 'bless': 424, 'notice': 425, 'chicks': 426, 'gargoyles': 427, 'jewelry': 428, 'dee-fense': 429, 'andrew': 430, 'kneeling': 431, 'test-': 432, 'against': 433, 'roof': 434, \"donatin'\": 435, 'i-i': 436, 'conclusions': 437, 'martini': 438, 'sunglasses': 439, \"foolin'\": 440, 'cat': 441, 'there': 442, 'gossipy': 443, 'popping': 444, 's-a-u-r-c-e': 445, 'lease': 446, 'lifetime': 447, 'yours': 448, 'firing': 449, 'meals': 450, 'fevered': 451, 'gotten': 452, 'slugger': 453, 'ground': 454, 'vigilante': 455, 'guessing': 456, 'dropped': 457, 'blessing': 458, 'customers': 459, 'booger': 460, 'nuts': 461, \"askin'\": 462, 'absolutely': 463, 'post-suicide': 464, 'gorgeous': 465, 'california': 466, 'per': 467, 'accept': 468, 'percent': 469, 'friends': 470, 'dana_scully:': 471, 'immiggants': 472, 'd': 473, 'creates': 474, 'priority': 475, 'mountain': 476, 'food': 477, 'apply': 478, 'deacon': 479, 'proves': 480, 'slow': 481, 'reasonable': 482, 'haikus': 483, 'wonder': 484, 'sober': 485, 'fever': 486, 'right-handed': 487, 'rat': 488, 'audience': 489, 'balloon': 490, 'entertainer': 491, 'wha': 492, 'brainheaded': 493, 'wealthy': 494, 'switched': 495, 'disposal': 496, 'accident': 497, 'th': 498, 'glen:': 499, 'became': 500, 'worked': 501, 'coherent': 502, \"burnin'\": 503, 'fighter': 504, \"number's\": 505, 'whoopi': 506, 'fake': 507, 'orgasmville': 508, 'lend': 509, 'maximum': 510, 'sanitation': 511, 'pizza': 512, '/mr': 513, 'scruffy_blogger:': 514, 'shill': 515, 'force': 516, 'society': 517, 'lips': 518, 'mither': 519, 'nos': 520, 'son-of-a': 521, \"valentine's\": 522, 'swine': 523, 'semi-imported': 524, 'sound': 525, \"ball's\": 526, 'filed': 527, 'occurred': 528, 'bee': 529, 'radioactive': 530, 'massachusetts': 531, \"d'\": 532, 'recorded': 533, 'teriyaki': 534, 'rolled': 535, 'boxcars': 536, 'exact': 537, \"carl's\": 538, 'non-american': 539, 'stupidly': 540, 'billy_the_kid:': 541, 'letter': 542, 'drunk': 543, 'classy': 544, 'princesses': 545, 'forty': 546, 'lance': 547, 'kenny': 548, 'aggravated': 549, 'ointment': 550, 'yes': 551, 'pig': 552, 'nahasapeemapetilon': 553, 'jer': 554, 'corporation': 555, 'mmm': 556, 'ahhh': 557, 'landfill': 558, 'hike': 559, 'hate-hugs': 560, 'victory': 561, 'clearing': 562, 'shaved': 563, 'kemi:': 564, 'exquisite': 565, 'personal': 566, 'occupancy': 567, 'website': 568, 'assume': 569, 'lily-pond': 570, 'wh': 571, 'hammer': 572, 'briefly': 573, 'facebook': 574, \"couldn't\": 575, 'las': 576, 'geyser': 577, 'grain': 578, \"this'll\": 579, 'size': 580, \"won't\": 581, 'swimmers': 582, 'pantry': 583, 'whee': 584, 'homunculus': 585, 'gently': 586, 'spacey': 587, 'hotline': 588, '1979': 589, 'frescas': 590, 'low-blow': 591, 'man_with_tree_hat:': 592, 'clothespins:': 593, 'lipo': 594, 'homer_': 595, 'symphonies': 596, 'ye': 597, 'alfred': 598, 'employees': 599, 'plane': 600, \"can't-believe-how-bald-he-is\": 601, 'bear': 602, 'ho': 603, 'inspire': 604, 'week': 605, 'ninety-six': 606, 'kool': 607, 'dateline': 608, 'all': 609, 'demand': 610, 'and': 611, 'canyonero': 612, 'self-satisfied': 613, 'prize': 614, 'cough': 615, 'recipe': 616, 'sad': 617, 'voice_on_transmitter:': 618, 'weak': 619, 'tongue': 620, 'knocks': 621, 'buffalo': 622, 'premiering': 623, 'walks': 624, 'royal': 625, 'butt': 626, 'bell': 627, 'tow': 628, 'beatings': 629, 'slit': 630, 'stingy': 631, 'carmichael': 632, 'die': 633, 'smugglers': 634, 'relaxing': 635, 'certificate': 636, 'paper': 637, 'bathtub': 638, 'dennis': 639, 'opportunity': 640, 'sector': 641, 'breathtaking': 642, 'superior': 643, 'patty': 644, 'girl': 645, 'thomas': 646, 'pets': 647, 'lorre': 648, 'punching': 649, 'firm': 650, 'nigel_bakerbutcher:': 651, 'wipes': 652, 'sometimes': 653, 'schnapps': 654, 'hear': 655, 'spanish': 656, 'hampstead-on-cecil-cecil': 657, 'prove': 658, 'ultimate': 659, 'advice': 660, 'table': 661, 'b-day': 662, 'jeez': 663, \"fendin'\": 664, 'freeze': 665, 'dropping': 666, 'cross-country': 667, 'koji': 668, 'ehhhhhh': 669, 'bono': 670, 'clincher': 671, 'doctor': 672, 'toe': 673, 'wishes': 674, 'courts': 675, 'poplar': 676, 'piling': 677, 'duff_announcer:': 678, 'young_barfly:': 679, 'fist': 680, 'schizophrenia': 681, 'daniel': 682, 'maintenance': 683, 'gees': 684, 'indeed': 685, 'repairman': 686, 'cheerier': 687, 'straight': 688, 'forgets': 689, 'forehead': 690, 'county': 691, 'sodas': 692, 'larry': 693, 'moe_szyslak:': 694, 'including': 695, \"kids'\": 696, 'newspaper': 697, 'goes': 698, 'tire': 699, 'mistresses': 700, 'protestantism': 701, 'placing': 702, 'testing': 703, 'applesauce': 704, 'grumbling': 705, 'jasper_beardly:': 706, 'indifference': 707, 'irish': 708, 'poetry': 709, 'soon': 710, 'farthest': 711, 'fat_tony:': 712, 'beer-jerks': 713, 'normal': 714, 'boneheaded': 715, 'reconsidering': 716, 'see': 717, 'fausto': 718, 'price': 719, 'clown-like': 720, 'holding': 721, 'lawyer': 722, 'whip': 723, 'return': 724, 'grocery': 725, 'campaign': 726, 'meaning': 727, 'inside': 728, 'lighten': 729, 'cherry': 730, 'guilt': 731, 'displeased': 732, 'investigating': 733, 'threw': 734, 'birth': 735, 'quiet': 736, 'wooooo': 737, 'covers': 738, 'frink': 739, 'mini-beret': 740, 'windshield': 741, 'wipe': 742, 'booze': 743, 'neon': 744, 'laney_fontaine:': 745, 'buried': 746, 'clothes': 747, 'mike_mills:': 748, 'craft': 749, 'eddie': 750, 'shirt': 751, 'awe': 752, 'feisty': 753, 'tastes': 754, 'named': 755, 'frankly': 756, 'exited': 757, 'bye': 758, 'friendly': 759, 'renew': 760, 'jokes': 761, 'aidens': 762, 'adventure': 763, 'neighbors': 764, 'splash': 765, 'big': 766, 'tail': 767, 'noticing': 768, 'exhaust': 769, 'pen': 770, 'sledge-hammer': 771, 'offense': 772, 'cell-ee': 773, 'plywood': 774, 'activity': 775, \"'bout\": 776, 'insulted': 777, 'winks': 778, 'throws': 779, 'followed': 780, 'quick-like': 781, 'sail': 782, 'grandiose': 783, 'specials': 784, 'barney-shaped_form:': 785, 'fictional': 786, 'considering:': 787, 'relax': 788, 'macaulay': 789, 'gum': 790, 'conversations': 791, 'imaginary': 792, 'awwww': 793, \"i'd\": 794, 'having': 795, 'fill': 796, 'lift': 797, 'catch-phrase': 798, 'deliberately': 799, 'repay': 800, 'poured': 801, 'hah': 802, 'vacation': 803, 'two': 804, 'actors': 805, 'obama': 806, 'suffering': 807, \"bringin'\": 808, 'strips': 809, 'drive': 810, 'went': 811, 'missing': 812, \"o'clock\": 813, 'drawer': 814, \"floatin'\": 815, 'southern': 816, 'shakes': 817, 'rector': 818, 'boy': 819, 'acquaintance': 820, 'emporium': 821, 'you': 822, 'pile': 823, 'bushes': 824, 'emergency': 825, \"drawin'\": 826, 'coaster': 827, 'together': 828, 'brave': 829, 'coin': 830, 'oddest': 831, 'train': 832, 'frightened': 833, 'democrats': 834, 'avalanche': 835, 'fridge': 836, 'determined': 837, 'cutie': 838, 'musketeers': 839, 'kadlubowski': 840, 'flourish': 841, 'director': 842, 'players': 843, 'lying': 844, 'wacky': 845, 'spitting': 846, 'app': 847, 'susie-q': 848, 'joy': 849, 'sweetest': 850, 'ticket': 851, \"dog's\": 852, 'ugliness': 853, 'prank': 854, 'field': 855, 'place': 856, 'top': 857, \"town's\": 858, 'devastated': 859, 'stock': 860, 'portentous': 861, 'guiltily': 862, 'k-zug': 863, 'shoulda': 864, 'available': 865, 'koi': 866, 'killjoy': 867, 'indigenous': 868, 'ditched': 869, \"tinklin'\": 870, 'sickens': 871, 'hideous': 872, 'chum': 873, 'breaks': 874, 'cab': 875, 'fixed': 876, 'i': 877, 'prepared': 878, 'presidents': 879, 'frogs': 880, 'touched': 881, 'drummer': 882, 'nachos': 883, 'christopher': 884, 'beeps': 885, 'taught': 886, 'scam': 887, 'sings': 888, 'woooooo': 889, 'insecure': 890, 'lump': 891, 'thirty': 892, \"can'tcha\": 893, '_eugene_blatz:': 894, \"barney's\": 895, 'killed': 896, 'nein': 897, 'taxi': 898, 'boozebag': 899, 'swatch': 900, 'cage': 901, 'geez': 902, 'putting': 903, 'casting': 904, 'brewed': 905, 'loud': 906, 'jewish': 907, 'across': 908, 'backward': 909, 'internet': 910, 'hippies': 911, \"costume's\": 912, 'rain': 913, 'hooters': 914, 'robot': 915, 'morose': 916, 'brain-switching': 917, 'pickles': 918, 'gargoyle': 919, 'plus': 920, 'flat': 921, 'register': 922, 'bull': 923, 'mind': 924, 'chapter': 925, 'imported-sounding': 926, 'delays': 927, 'exchange': 928, 'run': 929, 'mayan': 930, 'naked': 931, 'jerks': 932, 'trapping': 933, 'boxers': 934, 'eyes': 935, 'thirteen': 936, 'teenage_barney:': 937, 'terrorizing': 938, 'moe-heads': 939, 'mcbain': 940, 'four-star': 941, 'traitor': 942, 'mason': 943, 'indignant': 944, 'computer_voice_2:': 945, 'gus': 946, 'oooh': 947, 'party': 948, 'awkward': 949, 'beans': 950, \"'\": 951, 'thoughtless': 952, 'sensible': 953, 'plaintive': 954, 'ura': 955, 'rich': 956, 'english': 957, 'stats': 958, 'sturdy': 959, 'through': 960, 'men:': 961, 'slaves': 962, 'bitter': 963, \"tryin'\": 964, 'friday': 965, 'transylvania': 966, 'braun:': 967, 'back': 968, 'nuked': 969, 'generous': 970, 'damned': 971, 'kids': 972, 'muscle': 973, 'walther': 974, 'huddle': 975, 'bedtime': 976, 'slaps': 977, 'man:': 978, 'hours': 979, 'arguing': 980, 'dull': 981, 'news': 982, 'brawled': 983, 'away': 984, 'mice': 985, 'scientific': 986, 'picked': 987, 'clammy': 988, 'special': 989, 'lucinda': 990, 'killer': 991, 'backbone': 992, 'innocuous': 993, 'led': 994, 'boozy': 995, 'turn': 996, 'publishers': 997, 'starving': 998, 'lindsay_naegle:': 999, 'billingsley': 1000, 'tabooger': 1001, 'bugging': 1002, 'talk-sings': 1003, 'kansas': 1004, \"gentleman's\": 1005, 'stripe': 1006, 'should': 1007, 'flack': 1008, 'panicked': 1009, 'orders': 1010, 'glass': 1011, 'homers': 1012, 'dice': 1013, 'hide': 1014, 'scared': 1015, 'snout': 1016, 'truck_driver:': 1017, 'miles': 1018, 'brain': 1019, 'audience:': 1020, 'wash': 1021, 'tied': 1022, 'fire': 1023, 'declan_desmond:': 1024, 'floated': 1025, 'formico': 1026, 'daughter': 1027, 'roses': 1028, 'extinguishers': 1029, 'low-life': 1030, \"kiddin'\": 1031, 'mulder': 1032, 'crab': 1033, 'unsourced': 1034, 'when': 1035, 'burps': 1036, 'bidet': 1037, 'nerve': 1038, 'flame': 1039, 'spread': 1040, 'lottery': 1041, 'lugs': 1042, 'wisconsin': 1043, 'herself': 1044, 'truck': 1045, 'poking': 1046, 'gives': 1047, 'operation': 1048, 'solely': 1049, \"he'd\": 1050, 'ones': 1051, '21': 1052, 'signed': 1053, 'affects': 1054, \"doin'\": 1055, 'marvelous': 1056, 'gator': 1057, 'crumble': 1058, 'dreamy': 1059, 'bowie': 1060, 'crossed': 1061, 'front': 1062, 'shaking': 1063, 'african': 1064, 'space-time': 1065, 'chill': 1066, 'nigeria': 1067, 'finishing': 1068, 'fat-free': 1069, 'positive': 1070, 'priest': 1071, 'tooth': 1072, \"grandmother's\": 1073, 'theatah': 1074, 'safety': 1075, 'david_byrne:': 1076, 'meyerhof': 1077, 'correct': 1078, 'fault': 1079, 'generosity': 1080, 'linda_ronstadt:': 1081, 'pizzicato': 1082, 'flashing': 1083, 'mint': 1084, 'surprised/thrilled': 1085, 'barbed': 1086, 'wa': 1087, 'stab': 1088, 'grind': 1089, 'rupert_murdoch:': 1090, 'words': 1091, 'spending': 1092, 'sudoku': 1093, 'disco_stu:': 1094, 'principles': 1095, 'along': 1096, 'harvesting': 1097, 'talked': 1098, 'confident': 1099, 'riding': 1100, 'soul-crushing': 1101, 'old': 1102, 'broom': 1103, 'kwik-e-mart': 1104, 'provide': 1105, 'light': 1106, 'senators': 1107, 'hears': 1108, 'musses': 1109, 'rob': 1110, 'market': 1111, 'ha-ha': 1112, 'bashir': 1113, 'mumbling': 1114, 'walked': 1115, 'rats': 1116, 'showing': 1117, \"moe's_thoughts:\": 1118, 'alva': 1119, 'lap': 1120, 'bathing': 1121, 'aww': 1122, 'pharmaceutical': 1123, 'expensive': 1124, 'more': 1125, 'teach': 1126, 'impatient': 1127, 'gift': 1128, \"it'd\": 1129, 'grampa': 1130, 'militia': 1131, 'common': 1132, 'most': 1133, 'nonsense': 1134, 'bon': 1135, 'candles': 1136, 'tapered': 1137, 'gabriel:': 1138, 'training': 1139, 'glasses': 1140, 'brusque': 1141, 'romantic': 1142, 'flatly': 1143, 'bouquet': 1144, 'dessert': 1145, 'planted': 1146, 'jets': 1147, 'trail': 1148, \"elmo's\": 1149, 'dilemma': 1150, 'beach': 1151, 'months': 1152, 'roy': 1153, 'moan': 1154, 'never': 1155, 'heliotrope': 1156, \"i'd'a\": 1157, 'ehhhhhhhhh': 1158, 'jacks': 1159, 'anthony_kiedis:': 1160, \"'kay-zugg'\": 1161, 'nightmare': 1162, \"haven't\": 1163, 'ninety-nine': 1164, 'cricket': 1165, 'small': 1166, 'savvy': 1167, 'farewell': 1168, 'telegraph': 1169, 'company': 1170, 'cockroaches': 1171, 'sperm': 1172, 'routine': 1173, 'uh': 1174, 'ungrateful': 1175, 'christian': 1176, 'side': 1177, 'banquet': 1178, 'blood-thirsty': 1179, 'break': 1180, 'pad': 1181, 'mother': 1182, 'rumaki': 1183, 'louder': 1184, 'apology': 1185, 'sensitivity': 1186, 'eats': 1187, '||semicolon||': 1188, 'attached': 1189, 'ahead': 1190, 'government': 1191, 'babe': 1192, 'everywhere': 1193, 'chew': 1194, 'harvey': 1195, 'allowed': 1196, 'blur': 1197, 'standards': 1198, 'data': 1199, 'great': 1200, 'astronaut': 1201, 'massive': 1202, 'why': 1203, '_babcock:': 1204, 'answered': 1205, 'things': 1206, 'by': 1207, 'mouth': 1208, 'ever': 1209, 'goodbye': 1210, 'waylon': 1211, 'oopsie': 1212, 'greetings': 1213, 'ringing': 1214, 'charged': 1215, 'lofty': 1216, 'point': 1217, 'stools': 1218, 'troy:': 1219, 'disgusted': 1220, 'thought': 1221, 'bitterly': 1222, 'alcohol': 1223, 'joke': 1224, 'begging': 1225, 'park': 1226, 'encouraged': 1227, 'femininity': 1228, 'cozies': 1229, 'finest': 1230, 'bite': 1231, 'whatever': 1232, 'majesty': 1233, 'pardon': 1234, 'upsetting': 1235, 'power': 1236, 'somehow': 1237, 'joey': 1238, 'sidekick': 1239, 'strategy': 1240, 'repeated': 1241, 'simultaneous': 1242, 'pepsi': 1243, 'boo': 1244, 'cozy': 1245, 'upgrade': 1246, 'dash': 1247, 'hero-phobia': 1248, 'glowers': 1249, 'designer': 1250, 'older': 1251, 'othello': 1252, 'handshake': 1253, 'rabbits': 1254, 'defeated': 1255, 'resenting': 1256, 'ha': 1257, 'cow': 1258, 'yea': 1259, 'jogging': 1260, 'loser': 1261, 'night-crawlers': 1262, 'shutting': 1263, 'pre-columbian': 1264, 'freshened': 1265, 'thousand-year': 1266, 'minutes': 1267, 'age': 1268, 'young_homer:': 1269, 'juan': 1270, 'off': 1271, \"money's\": 1272, 'wooden': 1273, 'write': 1274, 'treasure': 1275, 'dollface': 1276, 'pills': 1277, 'cannoli': 1278, 'answering': 1279, 'tickets': 1280, 'perch': 1281, 'zoomed': 1282, 'share': 1283, 'dealt': 1284, 'bible': 1285, \"rentin'\": 1286, 'spectacular': 1287, 'easily': 1288, 'fuhgetaboutit': 1289, 'beached': 1290, 'yogurt': 1291, 'contact': 1292, 'call': 1293, 'tears': 1294, 'raise': 1295, 'emotional': 1296, 'dressed': 1297, 'photographer': 1298, 'sumatran': 1299, 'clone': 1300, 'happily:': 1301, 'aunt': 1302, 'sense': 1303, 'trustworthy': 1304, 'ken:': 1305, 'drollery': 1306, 'fantastic': 1307, 'spit': 1308, 'deli': 1309, 'workers': 1310, 'rolls': 1311, 'grimly': 1312, 'amber_dempsey:': 1313, \"ma'am\": 1314, 'composite': 1315, 'admitting': 1316, 'folk': 1317, 'snatch': 1318, \"nick's\": 1319, 'aw': 1320, 'payback': 1321, \"hawkin'\": 1322, 'long': 1323, 'in-in-in': 1324, 'orifice': 1325, \"time's\": 1326, 'verdict': 1327, 'fights': 1328, 'machine': 1329, 'sack': 1330, 'eighteen': 1331, 'plums': 1332, 'super-tough': 1333, 'an': 1334, 'tall': 1335, \"what're\": 1336, 'ignoring': 1337, 'barkeeps': 1338, 'bumped': 1339, 'year': 1340, 'courthouse': 1341, 'sunny': 1342, 'twin': 1343, 'boisterous': 1344, 'toledo': 1345, \"ol'\": 1346, 'everybody': 1347, 'gals': 1348, 'whatcha': 1349, 'cola': 1350, 'darn': 1351, \"homer's_brain:\": 1352, 'calm': 1353, 'reach': 1354, 'cesss': 1355, 'replaced': 1356, 'neighboreeno': 1357, 'edna': 1358, 'live': 1359, 'sell': 1360, \"buyin'\": 1361, 'initially': 1362, 'doy': 1363, 'aside': 1364, 'snide': 1365, 'toxins': 1366, 'modest': 1367, 'whoa-ho': 1368, 'seething': 1369, 'pointedly': 1370, 'guess': 1371, 'attention': 1372, 'super': 1373, 'tha': 1374, 'teeth': 1375, 'drinking': 1376, 'pus-bucket': 1377, 'secrets': 1378, 'lousy': 1379, 'ruint': 1380, 'hawaii': 1381, 'tips': 1382, 'perón': 1383, 'revenge': 1384, 'fringe': 1385, 'moesy': 1386, 'grabs': 1387, 'ventriloquism': 1388, 'marmaduke': 1389, 'pfft': 1390, 'buttons': 1391, 'carl:': 1392, 'cloudy': 1393, 'stored': 1394, 'sugar-free': 1395, 'w-a-3-q-i-zed': 1396, 'applicant': 1397, 'derek': 1398, 'statues': 1399, 'befriend': 1400, 'flash': 1401, 'pepto-bismol': 1402, 'frankenstein': 1403, 'jams': 1404, 'fifteen': 1405, 'intoxicants': 1406, 'legal': 1407, 'spilled': 1408, 'aisle': 1409, 'stalking': 1410, 'please': 1411, \"countin'\": 1412, 'taunting': 1413, 'wasted': 1414, 'jay_leno:': 1415, 'broken': 1416, 'seeing': 1417, 'quarterback': 1418, 'buffet': 1419, 'throw': 1420, 'politician': 1421, 'w': 1422, 'reserved': 1423, 'schedule': 1424, 'soup': 1425, 'priceless': 1426, 'uncreeped-out': 1427, 'whatchamacallit': 1428, 'sign': 1429, 'acceptance': 1430, 'lurleen': 1431, 'brains': 1432, 'nervous': 1433, 'lives': 1434, 'boxer:': 1435, 'pair': 1436, 'conclude': 1437, 'manage': 1438, 'turkey': 1439, 'prison': 1440, \"liftin'\": 1441, 'her': 1442, 'other': 1443, 'liar': 1444, 'coins': 1445, 'kiss': 1446, 'reluctant': 1447, 'fink': 1448, 'washouts': 1449, 'we': 1450, 'nightmares': 1451, 'one-hour': 1452, 'worldview': 1453, 'evils': 1454, 'hiding': 1455, 'harv': 1456, 'researching': 1457, 'heart': 1458, 'kent_brockman:': 1459, 'whiny': 1460, 'champion': 1461, 'thing:': 1462, 'marjorie': 1463, 'smart': 1464, 'outrageous': 1465, 'easy-going': 1466, 'life:': 1467, 'environment': 1468, 'lou': 1469, 'ralphie': 1470, 'combines': 1471, 'coupon': 1472, 'punishment': 1473, 'op': 1474, 'way:': 1475, 'intimacy': 1476, 'brag': 1477, 'fwooof': 1478, 'steamed': 1479, 'espousing': 1480, 'timbuk-tee': 1481, 'comeback': 1482, 'supposed': 1483, 'watching': 1484, 'yammering': 1485, 'automobiles': 1486, 'bartender': 1487, 'waters': 1488, 'nah': 1489, 'africanized': 1490, 'coincidentally': 1491, 'bride': 1492, 'falling': 1493, \"he's\": 1494, \"dimwit's\": 1495, \"wouldn't\": 1496, 'die-hard': 1497, 'putty': 1498, 'bunion': 1499, \"mcstagger's\": 1500, 'rid': 1501, 'bus': 1502, 'nauseous': 1503, 'toasting': 1504, 'old-time': 1505, 'realizing': 1506, \"ma's\": 1507, 'owned': 1508, 'sob': 1509, 'media': 1510, 'reminds': 1511, \"challengin'\": 1512, 'pull': 1513, 'smile:': 1514, 'andy': 1515, 'boned': 1516, 'home': 1517, 'plans': 1518, 'outlook': 1519, 'proof': 1520, 'octa-': 1521, 'alien': 1522, 'different': 1523, 'pas': 1524, 'cutting': 1525, 'seas': 1526, \"we'd\": 1527, 'recent': 1528, 'three': 1529, 'shoe': 1530, 'warn': 1531, 'ees': 1532, 'fireworks': 1533, 'dignified': 1534, 'presents': 1535, 'sentimonies': 1536, 'choices': 1537, 'presumir': 1538, 'ram': 1539, 'shoulder': 1540, 'birthday': 1541, 'believer': 1542, 'churchy': 1543, 'twerpy': 1544, 'knocked': 1545, 'eyeing': 1546, 'pawed': 1547, 'whining': 1548, 'salary': 1549, '||right_parentheses||': 1550, \"pope's\": 1551, 'hanging': 1552, 'softer': 1553, 'wheeeee': 1554, 'alibi': 1555, 'bide': 1556, 'shores': 1557, 'greatest': 1558, 'unintelligent': 1559, 'thirty-five': 1560, 'exasperated': 1561, 'malabar': 1562, 'shakespeare': 1563, 'ralph': 1564, 'eaters': 1565, 'forgotten': 1566, 'glitterati': 1567, 'shows': 1568, 'snort': 1569, \"wearin'\": 1570, 'ma': 1571, \"feelin's\": 1572, 'homer_simpson:': 1573, 'colossal': 1574, 'drinks': 1575, \"'er\": 1576, \"boy's\": 1577, 'wondered': 1578, 'stands': 1579, 'heals': 1580, 'tyson/secretariat': 1581, 'theater': 1582, 'bliss': 1583, 'asses': 1584, 'searching': 1585, 'scotch': 1586, 'running': 1587, 'not': 1588, 'lifestyle': 1589, \"tootin'\": 1590, 'oh-ho': 1591, 'strolled': 1592, 'make:': 1593, 'grow': 1594, 'sec_agent_#2:': 1595, 'barely': 1596, 'sisters': 1597, 'single-mindedness': 1598, 'affection': 1599, 'life-threatening': 1600, 'graveyard': 1601, 'abercrombie': 1602, 'loafers': 1603, 'tones': 1604, 'haw': 1605, 'cueball': 1606, 'homesick': 1607, 'george': 1608, 'taylor': 1609, \"round's\": 1610, 'employment': 1611, 'disturbing': 1612, 'string': 1613, 'buy': 1614, 'plow': 1615, 'juke': 1616, 'toy': 1617, 'causes': 1618, 'lighting': 1619, 'working': 1620, 'halfway': 1621, \"b-52's:\": 1622, 'sandwich': 1623, 'sheriff': 1624, 'muttering': 1625, 'pugilist': 1626, 'people': 1627, 'beer-dorf': 1628, 'moxie': 1629, 'fontaine': 1630, 'cooler': 1631, 'jailbird': 1632, 'mid-seventies': 1633, 'billboard': 1634, 'happen': 1635, \"tonight's\": 1636, 'take-back': 1637, 'rules': 1638, \"'pu\": 1639, 'hosting': 1640, 'comes': 1641, 'earlier': 1642, 'murmur': 1643, 'twins': 1644, 'buying': 1645, \"ya'\": 1646, 'refill': 1647, \"stayin'\": 1648, \"friend's\": 1649, 'walking': 1650, 'corporate': 1651, 'punches': 1652, 'right': 1653, 'alternative': 1654, 'slapped': 1655, 'cheap': 1656, 'options': 1657, 'cell': 1658, 'relaxed': 1659, 'plotz': 1660, \"children's\": 1661, 'hooky': 1662, 'beefs': 1663, 'captain': 1664, 'jane': 1665, 'moving': 1666, 'reserve': 1667, 'flaking': 1668, 'military': 1669, 'dads': 1670, 'jockey': 1671, 'gambler': 1672, 'caveman': 1673, 'honor': 1674, 'enough': 1675, 'quimby': 1676, 'tape': 1677, 'swell': 1678, 'gone': 1679, 'otherwise': 1680, 'change': 1681, 'chapel': 1682, 'jaegermeister': 1683, 'eager': 1684, 'x-men': 1685, 'girl-bart': 1686, 'level': 1687, 'specialists': 1688, 'u2:': 1689, 'brassiest': 1690, 'capuchin': 1691, 'yawns': 1692, 'fresh': 1693, 'represents': 1694, 'suspended': 1695, 'young_moe:': 1696, 'helped': 1697, 'drove': 1698, 'düff': 1699, 'bupkus': 1700, 'stirrers': 1701, 'barkeep': 1702, 'way': 1703, 'achem': 1704, 'unearth': 1705, 'admiration': 1706, 'celeste': 1707, 'drift': 1708, 'crayola': 1709, 'lots': 1710, 'listens': 1711, 'jazz': 1712, 'aims': 1713, \"let's\": 1714, 'occasional': 1715, 'refresh': 1716, 'leaving': 1717, 'asking': 1718, 'stinks': 1719, 'wrecking': 1720, 'correction': 1721, 'foodie': 1722, \"life's\": 1723, 'christmas': 1724, 'peach': 1725, 'inherent': 1726, 'squeals': 1727, 'offa': 1728, 'tradition': 1729, 'parked': 1730, \"plaster's\": 1731, 'pulled': 1732, 'five': 1733, 'donation': 1734, 'beautiful': 1735, 'unsafe': 1736, 'stir': 1737, 'spied': 1738, 'savings': 1739, 'frazier': 1740, 'shoot': 1741, 'neanderthal': 1742, 'boggs': 1743, \"s'okay\": 1744, 'necessary': 1745, 'thirsty': 1746, 'fears': 1747, 'listening': 1748, 'yeah': 1749, 'misconstrue': 1750, 'heart-broken': 1751, 'fellow': 1752, 'watched': 1753, 'sideshow': 1754, \"daughter's\": 1755, 'p': 1756, 'interrupting': 1757, 'adjust': 1758, 'runaway': 1759, 'neighbor': 1760, 'mumble': 1761, \"world's\": 1762, 'difference': 1763, 'dictating': 1764, 'whispers': 1765, 'safe': 1766, 'ugliest': 1767, 'always': 1768, 'voodoo': 1769, 'pop': 1770, 'feast': 1771, \"kid's\": 1772, 'hops': 1773, 'bar-boy': 1774, 'everyday': 1775, 'stranger:': 1776, 'youuu': 1777, 'illegal': 1778, 'ago': 1779, 'motel': 1780, 'ballclub': 1781, 'creepy': 1782, 'homeless': 1783, 'corkscrew': 1784, \"must've\": 1785, 'severe': 1786, 'quitcher': 1787, 'portfolium': 1788, 'abandon': 1789, 'attracted': 1790, '-ry': 1791, 'taking': 1792, 'steam': 1793, 'gimme': 1794, 'minute': 1795, 'warm_female_voice:': 1796, 'bash': 1797, 'encore': 1798, 'chance': 1799, \"homer'll\": 1800, 'outstanding': 1801, \"i'm-so-stupid\": 1802, 'beginning': 1803, 'pretending': 1804, 'wikipedia': 1805, 'anyhow': 1806, 'quit': 1807, 'favor': 1808, 'piano': 1809, 'let': 1810, 'heavyset': 1811, 'vicious': 1812, 'grammys': 1813, 'believe': 1814, 'tinkle': 1815, 'half-back': 1816, 'access': 1817, 'pumping': 1818, 'bart': 1819, 'lib': 1820, 'show': 1821, 'sneeze': 1822, 'spiritual': 1823, 'roller': 1824, 'choking': 1825, 'nominated': 1826, 'suspenders': 1827, 'must': 1828, 'turned': 1829, 'dazed': 1830, 'obsessive-compulsive': 1831, 'legend': 1832, 'fox': 1833, \"watchin'\": 1834, 'chateau': 1835, 'cushions': 1836, 'towed': 1837, 'veux': 1838, 'horrors': 1839, 'sued': 1840, 'numeral': 1841, 'dory': 1842, 'nobel': 1843, 'religion': 1844, 'publish': 1845, 'celebration': 1846, 'getaway': 1847, \"wouldn't-a\": 1848, 'spit-backs': 1849, 'protesting': 1850, 'given': 1851, 'passports': 1852, 'halloween': 1853, 'polish': 1854, 'racially-diverse': 1855, 'sitcom': 1856, 'meet': 1857, 'settles': 1858, 'naval': 1859, 'figured': 1860, 'grand': 1861, 'some': 1862, 'emphasis': 1863, 'abe': 1864, 'jail': 1865, 'ninety-eight': 1866, 'cup': 1867, 'directions': 1868, 'angrily': 1869, 'detective': 1870, 'tender': 1871, 'ecru': 1872, 'color': 1873, 'barflies': 1874, 'contemplates': 1875, \"i've\": 1876, 'forgiven': 1877, 'crushed': 1878, 'moonlight': 1879, 'entire': 1880, 'knock-up': 1881, 'hoagie': 1882, 'sweet': 1883, 'trust': 1884, 'meaningful': 1885, 'black': 1886, 'dregs': 1887, 'grieving': 1888, 'allowance': 1889, 'mirror': 1890, \"shan't\": 1891, 'spreads': 1892, \"wonderin'\": 1893, 'smurfs': 1894, 'funeral': 1895, 'enthusiastically': 1896, 'wholeheartedly': 1897, 'flush-town': 1898, 'larry:': 1899, 'doreen': 1900, 'fritz:': 1901, 'jumping': 1902, 'allow': 1903, 'associate': 1904, \"mopin'\": 1905, 'risqué': 1906, 'hateful': 1907, 'contented': 1908, 'vegas': 1909, 'rekindle': 1910, \"bein'\": 1911, 'regretted': 1912, 'inclination': 1913, 'replace': 1914, 'guzzles': 1915, 'lose': 1916, 'shareholder': 1917, 'crowd': 1918, 'quickly': 1919, 'station': 1920, 'jig': 1921, 'lloyd:': 1922, 'exchanged': 1923, \"maggie's\": 1924, 'fiiiiile': 1925, 'began': 1926, 'spite': 1927, 'lord': 1928, 'kermit': 1929, 'alone': 1930, 'ominous': 1931, 'involved': 1932, 'dyspeptic': 1933, 'madman': 1934, 'forgive': 1935, 'michael': 1936, 'ten': 1937, 'renders': 1938, 'student': 1939, 'scrubbing': 1940, 'installed': 1941, 'disappeared': 1942, 'elder': 1943, 'ruuuule': 1944, 'over-pronouncing': 1945, 'weary': 1946, 'browns': 1947, 'gifts': 1948, 'a-lug': 1949, 'crowd:': 1950, 'jackass': 1951, 'skills': 1952, 'than': 1953, 'jeter': 1954, 'chinese': 1955, 'absentminded': 1956, 'butterball': 1957, 'hats': 1958, 'child': 1959, 'tow-joes': 1960, 'carlson': 1961, \"tatum'll\": 1962, 'mr': 1963, 'jobs': 1964, 'next': 1965, 'plenty': 1966, 'limited': 1967, 'bowl': 1968, 'worth': 1969, 'hmm': 1970, 'its': 1971, 'suck': 1972, 'corn': 1973, 'stage': 1974, 'slot': 1975, 'slim': 1976, 'understood': 1977, 'series': 1978, 'producers': 1979, 'little_hibbert_girl:': 1980, 'window': 1981, 'occurrence': 1982, 'monorails': 1983, 'ziff': 1984, 'unlocked': 1985, 'wienerschnitzel': 1986, 'dynamite': 1987, 'saga': 1988, 'marriage': 1989, \"'til\": 1990, 'up': 1991, 'swooning': 1992, 'bottom': 1993, 'celebrity': 1994, 'propose': 1995, 'minus': 1996, 'no': 1997, 'ratted': 1998, 'wish': 1999, 'saved': 2000, 'bono:': 2001, 'cuz': 2002, 'follow': 2003, 'gums': 2004, 'decide': 2005, 'hail': 2006, 'infiltrate': 2007, 'krabappel': 2008, \"drivin'\": 2009, 'placed': 2010, 'thousand': 2011, 'pews': 2012, 'lise:': 2013, \"you're\": 2014, 'bumblebee_man:': 2015, 'murdered': 2016, 'species': 2017, \"smokin'_joe_frazier:\": 2018, 'warranty': 2019, 'gruff': 2020, 'american': 2021, 'wells': 2022, 'cost': 2023, 'anti-crime': 2024, 'consider': 2025, 'beauty': 2026, 'also': 2027, 'owns': 2028, 'partner': 2029, 'complaining': 2030, 'burglary': 2031, 'application': 2032, 'full-bodied': 2033, \"'n'\": 2034, 'hollye': 2035, 'highway': 2036, 'lime': 2037, 'railroad': 2038, 'extreme': 2039, 'busted': 2040, 'cowardly': 2041, 'items': 2042, 'ears': 2043, 'blind': 2044, 'seen': 2045, 'laws': 2046, 'muertos': 2047, 'unrelated': 2048, 'commission': 2049, 'sharity': 2050, 'optimistic': 2051, 'on': 2052, 'grinch': 2053, 'doug:': 2054, 'goblins': 2055, \"cont'd:\": 2056, 'ons': 2057, 'fanciest': 2058, 'moments': 2059, 'shred': 2060, 'german': 2061, 'grampa_simpson:': 2062, 'premise': 2063, 'tv_wife:': 2064, 'lloyd': 2065, 'result': 2066, 'recreate': 2067, 'charity': 2068, 'hmmmm': 2069, 'eyeball': 2070, 'handed': 2071, 'mexicans': 2072, 'huge': 2073, 'hexa-': 2074, 'mac-who': 2075, 'starts': 2076, 'archaeologist': 2077, 'coy': 2078, 'potato': 2079, 'scream': 2080, 'his': 2081, 'lessons': 2082, 'service': 2083, 'chuckles': 2084, 'chosen': 2085, 'cries': 2086, \"spiffin'\": 2087, 'curse': 2088, 'luckily': 2089, 'sistine': 2090, 'therapist': 2091, 'awfully': 2092, 'authenticity': 2093, 'clandestine': 2094, 'wolverines': 2095, 'therapy': 2096, 'blaze': 2097, 'lotsa': 2098, 'four-drink': 2099, 'poor': 2100, 'remote': 2101, 'toward': 2102, 'fumes': 2103, 'h': 2104, 'sugar-me-do': 2105, 'lushmore': 2106, 'punch': 2107, 'fustigation': 2108, 'struggling': 2109, 'sketching': 2110, 'cyrano': 2111, 'complicated': 2112, 'ideas': 2113, 'plant': 2114, 'divine': 2115, 'tomato': 2116, 'adult': 2117, 'cocoa': 2118, 'four': 2119, 'nervously': 2120, 'threatening': 2121, 'compadre': 2122, 'stealings': 2123, 'box': 2124, 'weirded-out': 2125, 'carpet': 2126, 'pause': 2127, 'dae': 2128, 'truth': 2129, 'despite': 2130, '||exclamation_mark||': 2131, 'appendectomy': 2132, 'luck': 2133, 'm': 2134, 'medical': 2135, 'does': 2136, 'cheaped': 2137, 'cats': 2138, 'safecracker': 2139, 'pushes': 2140, 'stocking': 2141, 'cuckoo': 2142, 'paid': 2143, 'iddilies': 2144, '_hooper:': 2145, 'wang': 2146, 'beam': 2147, 'country': 2148, 'nantucket': 2149, 'tear': 2150, 'grade': 2151, 'loudly': 2152, 'promised': 2153, 'rugged': 2154, 'camp': 2155, 'jägermeister': 2156, 'check': 2157, 'tells': 2158, 'recap:': 2159, 'forty-five': 2160, 'talk': 2161, 'burger': 2162, 'kinds': 2163, 'grateful': 2164, \"today's\": 2165, 'these': 2166, 'still': 2167, 'meanwhile': 2168, 'clear': 2169, 'smells': 2170, \"here's\": 2171, 'butter': 2172, 'gil_gunderson:': 2173, 'dejected': 2174, 'slab': 2175, 'problems': 2176, 'crazy': 2177, 'closed': 2178, 'darts': 2179, 'fact': 2180, 'ineffective': 2181, 'collapse': 2182, 'lobster-based': 2183, 'wangs': 2184, '50%': 2185, 'telemarketing': 2186, 'attempting': 2187, 'trouble': 2188, 'department': 2189, 'few': 2190, 'moans': 2191, \"everyone's\": 2192, 'diablo': 2193, 'idiot': 2194, 'yell': 2195, 'innocence': 2196, 'washed': 2197, 'cover': 2198, 'wait': 2199, 'treat': 2200, 'tv': 2201, 'kodos:': 2202, 'contest': 2203, 'occurs': 2204, 'reed': 2205, 'lucius:': 2206, 'overturned': 2207, 'witty': 2208, 'fat': 2209, 'nickels': 2210, \"leavin'\": 2211, 'drunkening': 2212, 'screws': 2213, 'stadium': 2214, 'vacations': 2215, 'cans': 2216, 'thanking': 2217, 'sanitary': 2218, 'bret': 2219, 'derisive': 2220, 'bar': 2221, 'scrape': 2222, 'talkers': 2223, 'bill': 2224, \"we've\": 2225, 'world': 2226, 'fad': 2227, \"pickin'\": 2228, \"somethin's\": 2229, 'traitors': 2230, 'stopped': 2231, 'disappointed': 2232, 'leathery': 2233, 'happier': 2234, 'thoughtful': 2235, 'stamps': 2236, 'wrestle': 2237, 'slogan': 2238, 'noises': 2239, 'collette:': 2240, \"thinkin'\": 2241, 'twenty-nine': 2242, 'unusual': 2243, 'ratio': 2244, 'saturday': 2245, 'laughs': 2246, 'embarrassed': 2247, 'formico:': 2248, 'shout': 2249, 'kay': 2250, 'mic': 2251, 'loss': 2252, 'wave': 2253, 'cursed': 2254, 'trunk': 2255, 'sickened': 2256, 'electronic': 2257, 'newsweek': 2258, 'friend': 2259, 'rash': 2260, 'stagey': 2261, 'suburban': 2262, 'man_at_bar:': 2263, 'chase': 2264, 'safely': 2265, \"father's\": 2266, 'telephone': 2267, 'lennyy': 2268, 'seemed': 2269, 'gesture': 2270, 'criminal': 2271, 'wants': 2272, 'guy': 2273, 'modern': 2274, 'schmoe': 2275, \"stallin'\": 2276, 'endorsed': 2277, 'thrown': 2278, 'name:': 2279, 'detecting': 2280, 'channel': 2281, 'bedridden': 2282, 'homer_doubles:': 2283, 'changed': 2284, 'homie': 2285, \"cleanin'\": 2286, 'perfume': 2287, 'hammy': 2288, 'problem': 2289, 'books': 2290, 'genuinely': 2291, 'ech': 2292, 'accelerating': 2293, 'whup': 2294, 'hoping': 2295, \"depressin'\": 2296, 'multiple': 2297, 'saint': 2298, \"somethin'\": 2299, 'achebe': 2300, 'finally': 2301, 'diddilies': 2302, \"it'll\": 2303, \"dyin'\": 2304, 'action': 2305, 'benefits': 2306, 'survive': 2307, 'itchy': 2308, 'interested': 2309, 'surprised': 2310, 'chained': 2311, 'rough': 2312, 'lee': 2313, 'whoops': 2314, 'frink-y': 2315, 'especially': 2316, 'fayed': 2317, 'attractive': 2318, \"larry's\": 2319, 'sit': 2320, '250': 2321, \"where'd\": 2322, 'incredible': 2323, 'pain': 2324, 'chest': 2325, 'corner': 2326, 'told': 2327, 'effects': 2328, 'realized': 2329, 'game': 2330, 'cheaper': 2331, 'wrote': 2332, 'fills': 2333, 'proper': 2334, 'misfire': 2335, 'sooo': 2336, 'willy': 2337, 'poisoning': 2338, 'leno': 2339, 'trashed': 2340, 'privacy': 2341, 'puzzled': 2342, 'madison': 2343, 'lovejoy': 2344, 'moe-near-now': 2345, 'religious': 2346, 'set': 2347, 'delightfully': 2348, 'short': 2349, 'helps': 2350, 'exclusive:': 2351, 'moon': 2352, 'delivery_boy:': 2353, 'furiously': 2354, 'dryer': 2355, 'hangover': 2356, 'online': 2357, 'perfect': 2358, 'proudly': 2359, 'has': 2360, 'excuse': 2361, 'career': 2362, 'pusillanimous': 2363, 'al': 2364, 'businessman_#1:': 2365, 'vance': 2366, 'doppler': 2367, 'enabling': 2368, 'latour': 2369, 'painless': 2370, 'ping-pong': 2371, 'barf': 2372, 'motor': 2373, 'face-macer': 2374, 'ooh': 2375, 'finish': 2376, 'lincoln': 2377, 'squeeze': 2378, 'wounds': 2379, \"'now\": 2380, 'nibble': 2381, 'yup': 2382, 'socialize': 2383, 'did': 2384, 'deny': 2385, 'cut': 2386, 'supermarket': 2387, 'avec': 2388, 'gin': 2389, 'eighty-three': 2390, 'mural': 2391, '_julius_hibbert:': 2392, 'rockers': 2393, 'yap': 2394, 'snorts': 2395, 'eye': 2396, 'dude': 2397, 'nfl_narrator:': 2398, \"sayin'\": 2399, 'eight': 2400, 'hearse': 2401, 'toms': 2402, \"swishifyin'\": 2403, '||comma||': 2404, 'duh': 2405, 'sets': 2406, 'depending': 2407, 'sly': 2408, 'watch': 2409, 'chairman': 2410, 'teams': 2411, 'streetcorner': 2412, 'boxcar': 2413, 'made': 2414, 'beer': 2415, 'wound': 2416, 'quality': 2417, 'hans:': 2418, 'super-nice': 2419, 'patrons': 2420, 'yards': 2421, 'simp-sonnnn': 2422, 'saucy': 2423, 'smell': 2424, 'land': 2425, 'hyper-credits': 2426, 'contractors': 2427, 'generously': 2428, \"disrobin'\": 2429, 'onassis': 2430, 'bags': 2431, \"hell's\": 2432, 'scornful': 2433, 'knives': 2434, 'nbc': 2435, 'taps': 2436, 'disgracefully': 2437, 'dna': 2438, 'joey_kramer:': 2439, 'barflies:': 2440, 'lear': 2441, 'kramer': 2442, \"isn't\": 2443, 'held': 2444, 'ails': 2445, 'dear': 2446, 'kucinich': 2447, 'kept': 2448, 'room': 2449, \"who'll\": 2450, 'ali': 2451, 'delightful': 2452, 'rife': 2453, 'papa': 2454, \"stinkin'\": 2455, 'puzzle': 2456, 'runt': 2457, 'patented': 2458, 'blowfish': 2459, 'protecting': 2460, 'predictable': 2461, 'faith': 2462, 'wire': 2463, 'pregnancy': 2464, \"monroe's\": 2465, 'ancient': 2466, 'pages': 2467, 'troy': 2468, '2': 2469, 'rewound': 2470, 'swill': 2471, 'race': 2472, 'between': 2473, 'pointless': 2474, 'speaking': 2475, 'intervention': 2476, 'storms': 2477, 'sinister': 2478, 'annie': 2479, 'trivia': 2480, 'work': 2481, 'clown': 2482, 'agent_johnson:': 2483, 'developed': 2484, 'dizzy': 2485, 'bills': 2486, 'donate': 2487, \"s'cuse\": 2488, 'uh-oh': 2489, 'item': 2490, 'mater': 2491, \"president's\": 2492, 'accusing': 2493, 'loneliness': 2494, 'heaving': 2495, 'kick': 2496, 'trainers': 2497, 'reaches': 2498, 'pian-ee': 2499, 'presses': 2500, 'awww': 2501, 'underwear': 2502, 'sure': 2503, \"dolph's_dad:\": 2504, 'flanders': 2505, 'slip': 2506, 'stay': 2507, 'author': 2508, 'myself': 2509, 'we-we-we': 2510, \"fun's\": 2511, 'rancid': 2512, \"we're\": 2513, 'floor': 2514, 'kemi': 2515, 'won': 2516, 'blows': 2517, 'interesting': 2518, 'glove': 2519, 'night': 2520, 'carb': 2521, 'baby': 2522, 'troy_mcclure:': 2523, 'prolonged': 2524, 'unbelievable': 2525, 'deal': 2526, 'then:': 2527, \"'em\": 2528, 'fire_inspector:': 2529, 'investor': 2530, 'ruin': 2531, 'aggie': 2532, 'space': 2533, \"starla's\": 2534, 'dirt': 2535, 'fence': 2536, 'shorter': 2537, 'listened': 2538, 'freely': 2539, 'president': 2540, 'disapproving': 2541, 'scoffs': 2542, 'reasons': 2543, 'utensils': 2544, \"professor's\": 2545, \"department's\": 2546, 'bumbling': 2547, \"they're\": 2548, 'bulked': 2549, 'shove': 2550, 'mortal': 2551, 'breakdown': 2552, 'mt': 2553, 'waterfront': 2554, 'nailed': 2555, 'disgraceful': 2556, \"'morning\": 2557, 'sweetly': 2558, 'stomach': 2559, 'community': 2560, \"now's\": 2561, 'november': 2562, 'press': 2563, 'killarney': 2564, 'paintings': 2565, 'lemonade': 2566, 'voted': 2567, 'encouraging': 2568, 'weeks': 2569, 'mansions': 2570, 'santa': 2571, 'south': 2572, 'eu': 2573, 'backgammon': 2574, 'fica': 2575, 's': 2576, 'triangle': 2577, 'aggravazes': 2578, 'confidential': 2579, 'clenched': 2580, 'drank': 2581, 'chapstick': 2582, 'scare': 2583, 'landlord': 2584, 'lie': 2585, 'culkin': 2586, 'reporter:': 2587, 'drederick': 2588, 'over': 2589, 'lovely': 2590, \"blowin'\": 2591, 'dreams': 2592, 'famous': 2593, 'domestic': 2594, 'choice': 2595, 'feeling': 2596, 'keeps': 2597, \"somebody's\": 2598, 'moe-clone': 2599, 'less': 2600, 'worry': 2601, 'james': 2602, 'competing': 2603, 'pepper': 2604, 'quimbys:': 2605, 'charter': 2606, 'saw': 2607, 'ought': 2608, 'duke': 2609, 'stays': 2610, \"betsy'll\": 2611, 'degradation': 2612, 'appreciated': 2613, 'send': 2614, 'stool': 2615, 'founded': 2616, 'seamstress': 2617, 'spouses': 2618, 'screw': 2619, 'recommend': 2620, 'warned': 2621, 'zero': 2622, \"cuckold's\": 2623, 'psst': 2624, 'swamp': 2625, 'arm': 2626, 'elmer': 2627, 'choice:': 2628, 'strawberry': 2629, 'dishrag': 2630, 'steampunk': 2631, 'affectations': 2632, 'daaaaad': 2633, 'recruiter': 2634, \"bettin'\": 2635, 'customers-slash-only': 2636, 'blackjack': 2637, 'boxing_announcer:': 2638, 'afterglow': 2639, 'unexplained': 2640, 'abusive': 2641, 'hug': 2642, 'polenta': 2643, 'learn': 2644, 'persia': 2645, 'nation': 2646, 'assumed': 2647, 'cliff': 2648, 'byrne': 2649, 'exception:': 2650, 'half': 2651, 'furniture': 2652, 'staying': 2653, 'suit': 2654, 'italian': 2655, \"there's\": 2656, 'located': 2657, 'szyslak': 2658, 'winnings': 2659, 'honored': 2660, 'stories': 2661, 'sauce': 2662, 'pee': 2663, \"don't\": 2664, 'huggenkiss': 2665, 'prettied': 2666, 'woo': 2667, 'shaken': 2668, 'poem': 2669, 'handsome': 2670, 'them': 2671, 'consulting': 2672, 'enterprising': 2673, 'supplying': 2674, 'knows': 2675, 'nasa': 2676, 'middle': 2677, 'appropriate': 2678, 'accent': 2679, 'ripping': 2680, 'sink': 2681, 'fund': 2682, 'pajamas': 2683, 'organ': 2684, 'coast': 2685, \"sippin'\": 2686, '4x4': 2687, 'crawl': 2688, 'bachelor': 2689, 'well-wisher': 2690, 'rainier': 2691, 'parents': 2692, 'forbidden': 2693, 'tough': 2694, 'ab': 2695, 'played': 2696, 'play': 2697, 'defiantly': 2698, \"readin'\": 2699, 'bras': 2700, 'prince': 2701, 'unforgettable': 2702, 'tease': 2703, 'indicates': 2704, 'doll': 2705, 'macho': 2706, \"hasn't\": 2707, 'twenty-five': 2708, 'sweater': 2709, 'in-ground': 2710, 'connor': 2711, 'lovelorn': 2712, 'wrap': 2713, 'east': 2714, 'sequel': 2715, 'courage': 2716, 'direction': 2717, 'wittgenstein': 2718, 'ow': 2719, 'rascals': 2720, 'gr-aargh': 2721, 'donor': 2722, 'rump': 2723, 'goods': 2724, 'comfortable': 2725, 'santeria': 2726, 'injury': 2727, 'chipped': 2728, 'tsk': 2729, 'kinda': 2730, 'announcer:': 2731, 'jury': 2732, 'woodchucks': 2733, 'mad': 2734, 'ale': 2735, 'neither': 2736, 'crowded': 2737, 'warning': 2738, 'payments': 2739, 'blood': 2740, 'is:': 2741, 'switch': 2742, 'huhza': 2743, 'button-pusher': 2744, 'shoulders': 2745, 'bums': 2746, 'knowing': 2747, \"'evening\": 2748, 'hunter': 2749, \"playin'\": 2750, 'lady_duff:': 2751, 'chinese_restaurateur:': 2752, 'hot': 2753, 'ragtime': 2754, 'clothespins': 2755, 'righ': 2756, 'clinton': 2757, 'groans': 2758, 'neil_gaiman:': 2759, 'cracked': 2760, 'patriotic': 2761, 'crowned': 2762, 'yourselves': 2763, 'go': 2764, 'early': 2765, \"goin'\": 2766, 'word': 2767, 'gumbel': 2768, 'dipping': 2769, 'voters': 2770, 'hates': 2771, 'runners': 2772, 'was': 2773, 'coughs': 2774, 'general': 2775, \"hole'\": 2776, 'though': 2777, 'egg': 2778, 'closet': 2779, 'pirate': 2780, 'drivers': 2781, 'permitting': 2782, 'amber': 2783, 'insensitive': 2784, 'dramatically': 2785, 'sugar': 2786, 'chuck': 2787, 'push': 2788, 'danny': 2789, 'slop': 2790, 'store': 2791, 'youngsters': 2792, 'unlucky': 2793, 'viva': 2794, 'ride': 2795, 'laid': 2796, 'voyager': 2797, 'montrer': 2798, 'raccoons': 2799, 'champ': 2800, \"y'know\": 2801, 'appearance-altering': 2802, 'dough': 2803, 'bears': 2804, 'divorced': 2805, 'ehhh': 2806, 'meal': 2807, 'snapping': 2808, 'quick': 2809, 'astronauts': 2810, 'noise': 2811, 'pouring': 2812, 'stuck': 2813, 'vermont': 2814, 'chuckle': 2815, 'badmouths': 2816, 'portuguese': 2817, 'cheesecake': 2818, 'restaurant': 2819, 'wings': 2820, 'tanked-up': 2821, 'clientele': 2822, 'lame': 2823, 'blown': 2824, 'manatee': 2825, 'bank': 2826, 'intriguing': 2827, 'nash': 2828, 'cheese': 2829, 'around': 2830, 'fresco': 2831, 'poetics': 2832, 'our': 2833, 'mushy': 2834, 'kegs': 2835, 'say': 2836, \"she's\": 2837, 'how': 2838, \"year's\": 2839, 'scully': 2840, 'pulling': 2841, 'chic': 2842, 'draw': 2843, 'tribute': 2844, 'handler': 2845, 'pathetic': 2846, \"'round\": 2847, 'mcclure': 2848, 'calendars': 2849, 'squadron': 2850, 'nearly': 2851, 'might': 2852, 'i/you': 2853, 'highball': 2854, 'mis-statement': 2855, \"scammin'\": 2856, 'feminist': 2857, 'hygienically': 2858, 'marvin': 2859, 'least': 2860, 'knuckles': 2861, 'midnight': 2862, 'allegiance': 2863, 'dashes': 2864, 'raising': 2865, 'exit': 2866, 'cops': 2867, 'hardy': 2868, 'transfer': 2869, 'whoo': 2870, 'thrilled': 2871, 'eighty-five': 2872, 'plastic': 2873, 'adequate': 2874, 'from': 2875, 'same': 2876, 'dungeon': 2877, 'windelle': 2878, 'pocket': 2879, 'ear': 2880, 'alcoholic': 2881, 'shot': 2882, 'ourselves': 2883, 'filled': 2884, 'meant': 2885, 'wussy': 2886, 'tight': 2887, 'bites': 2888, 'snotty': 2889, 'referee': 2890, 'dad': 2891, 'jumps': 2892, 'closer': 2893, \"shootin'\": 2894, 'horses': 2895, 'rent': 2896, 'earth': 2897, 'most:': 2898, 'friend:': 2899, 'steak': 2900, 'skeptical': 2901, 'horribilis': 2902, 'boyfriend': 2903, 'liability': 2904, 'behavior': 2905, 'squirrels': 2906, 'body': 2907, 'yourse': 2908, 'mister': 2909, 'physical': 2910, 'straighten': 2911, 'polls': 2912, 'expression': 2913, 'expecting': 2914, 'seems': 2915, 'guard': 2916, 'crony': 2917, 'legoland': 2918, 'flashbacks': 2919, 'damn': 2920, 'title': 2921, \"that'll\": 2922, 'tries': 2923, 'else': 2924, 'nice': 2925, 'promise': 2926, 'queer': 2927, 'experience': 2928, 'violin': 2929, \"talkin'\": 2930, \"lady's\": 2931, 'drinking:': 2932, 'artie': 2933, 'b': 2934, 'charges': 2935, 'swelling': 2936, 'oughta': 2937, 'harvard': 2938, 'remains': 2939, 'absolut': 2940, 'troll': 2941, 'calls': 2942, 'sabermetrics': 2943, \"bo's\": 2944, 'norway': 2945, 'hydrant': 2946, 'now': 2947, 'arimasen': 2948, 'faulkner': 2949, 'fun': 2950, 'barter': 2951, 'be-stainèd': 2952, 'prime': 2953, 'air': 2954, 'billiard': 2955, 'mission': 2956, 'forget': 2957, 'hammock': 2958, 'cavern': 2959, 'gave': 2960, 'richer': 2961, 'richard:': 2962, 'center': 2963, 'mess': 2964, 'hardwood': 2965, 'laney': 2966, 'triumphantly': 2967, '_marvin_monroe:': 2968, 'chumbawamba': 2969, 'radical': 2970, 'ivana': 2971, 'delicately': 2972, 'traditions': 2973, 'science': 2974, 'para': 2975, 'polygon': 2976, 'eve': 2977, \"men's\": 2978, 'pointy': 2979, 'eyesore': 2980, 'stevie': 2981, 'mexican': 2982, 'suru': 2983, 'attack': 2984, 'jernt': 2985, 'afraid': 2986, 'lenny_leonard:': 2987, 'losers': 2988, 'car:': 2989, \"livin'\": 2990, 'suddenly': 2991, 'remembering': 2992, 'aerosmith': 2993, 'impending': 2994, 'dials': 2995, 'labor': 2996, 'specified': 2997, 'darkest': 2998, 'unsanitary': 2999, 'mount': 3000, 'fantasy': 3001, 'tons': 3002, 'layer': 3003, 'host': 3004, 'attractive_woman_#2:': 3005, 'modestly': 3006, 'clipped': 3007, 'clapping': 3008, 'hunky': 3009, 'bully': 3010, '$42': 3011, 'mckinley': 3012, \"rustlin'\": 3013, 'eminence': 3014, 'disturbance': 3015, 'jar': 3016, 'nudge': 3017, 'junkyard': 3018, 'writing': 3019, 'coney': 3020, \"he'll\": 3021, 'sacrifice': 3022, 'notably': 3023, 'expose': 3024, 'product': 3025, 'victorious': 3026, 'korea': 3027, 'act': 3028, 'defensive': 3029, 'clench': 3030, 'up-bup-bup': 3031, 'youse': 3032, 'hoo': 3033, 'chunky': 3034, 'background': 3035, 'express': 3036, 'methinks': 3037, 'bottles': 3038, 'investment': 3039, 'figures': 3040, 'your': 3041, 'ashamed': 3042, 'pageant': 3043, \"'s\": 3044, 'meteor': 3045, 'jovial': 3046, 'tapestry': 3047, 'virile': 3048, 'bender:': 3049, 'singer': 3050, 'opening': 3051, 'raining': 3052, 'anxious': 3053, 'anonymous': 3054, 'recall': 3055, 'shaky': 3056, 'kent': 3057, 'hillbillies': 3058, 'magic': 3059, 'playing': 3060, 'midge': 3061, 'predecessor': 3062, 'kissingher': 3063, 'lock': 3064, 'cuddling': 3065, 'wade_boggs:': 3066, 'states': 3067, 'arrest': 3068, 'p-k': 3069, 'charming': 3070, 'touch': 3071, 'bedbugs': 3072, 'heather': 3073, 'cent': 3074, 'blinded': 3075, 'sticking-place': 3076, 'chili': 3077, \"tree's\": 3078, \"lovers'\": 3079, 'indifferent': 3080, 'seymour': 3081, 'sudden': 3082, 'tuna': 3083, 'balls': 3084, 'drown': 3085, 'simplest': 3086, 'meaningfully': 3087, 'vampire': 3088, 'awake': 3089, 'agnes_skinner:': 3090, 'runs': 3091, 'burg': 3092, 'enthused': 3093, 'ring': 3094, 'pillows': 3095, 'society_matron:': 3096, 'afloat': 3097, 'desperately': 3098, 'enforced': 3099, 'desperate': 3100, 'brought': 3101, 'glum': 3102, 'thrust': 3103, 'justify': 3104, 'wobbly': 3105, 'powerful': 3106, 'suds': 3107, 'committing': 3108, 'perverted': 3109, '3rd_voice:': 3110, 'mid-conversation': 3111, \"pressure's\": 3112, 'restless': 3113, 'smiled': 3114, 'belts': 3115, 'chipper': 3116, 'wiping': 3117, 'ebullient': 3118, 'hootie': 3119, 'energy': 3120, 'alcoholism': 3121, 'value': 3122, 'dang': 3123, 'sending': 3124, 'ya': 3125, 'dumbest': 3126, 'mabel': 3127, \"ridin'\": 3128, 'dr': 3129, 'yuh-huh': 3130, 'giggle': 3131, 'rutabaga': 3132, 'jebediah': 3133, 'marguerite:': 3134, 'imitating': 3135, 'jesus': 3136, 'quietly': 3137, 'outside': 3138, 'arise': 3139, 'ivy-covered': 3140, 'camera': 3141, 'o': 3142, 'hare-brained': 3143, 'built': 3144, 'bastard': 3145, 'rest': 3146, 'partially': 3147, 'changing': 3148, 'tank': 3149, 'college': 3150, 'license': 3151, 'literature': 3152, 'anguished': 3153, 'rubbed': 3154, 'lager': 3155, 'pall': 3156, 'palmerston': 3157, \"idea's\": 3158, 'moved': 3159, 'slight': 3160, 'begins': 3161, 'brunch': 3162, 'distance': 3163, 'wow': 3164, \"listenin'\": 3165, 'pigtown': 3166, 'oh-so-sophisticated': 3167, 'mystery': 3168, 'dress': 3169, 'insightful': 3170, 'feel': 3171, 'miss': 3172, 'jay': 3173, 'stewart': 3174, 'yellow': 3175, 'playhouse': 3176, \"springfield's\": 3177, 'nuclear': 3178, 'gloop': 3179, 'mrs': 3180, 'any': 3181, 'punk': 3182, '||return||': 3183, 'refreshment': 3184, 'grumpy': 3185, 'regulations': 3186, 'busiest': 3187, 'court': 3188, 'been': 3189, 'lady-free': 3190, \"'cause\": 3191, 'swe-ee-ee-ee-eet': 3192, 'gunter:': 3193, 'colorado': 3194, 'enjoy': 3195, 'fly': 3196, 'single': 3197, 'certainly': 3198, 'lush': 3199, 'terrified': 3200, 'smooth': 3201, 'judgments': 3202, 'gayer': 3203, 'promotion': 3204, 'school': 3205, 'stepped': 3206, 'incapable': 3207, 'torn': 3208, 'tommy': 3209, 'jackpot-thief': 3210, 'barber': 3211, 'beady': 3212, 'measure': 3213, 'strategizing': 3214, 'bush': 3215, \"showin'\": 3216, 'kidding': 3217, 'brother': 3218, 'scary': 3219, 'celebrities': 3220, 'shape': 3221, 'good-looking': 3222, 'feld': 3223, 'woman_bystander:': 3224, 'avenue': 3225, 'grace': 3226, 'chauffeur:': 3227, 'brow': 3228, 'snap': 3229, \"gettin'\": 3230, 'comic_book_guy:': 3231, 'lobster-politans': 3232, \"cashin'\": 3233, 'dinner': 3234, 'tentative': 3235, 'accounta': 3236, 'waltz': 3237, 'weather': 3238, \"takin'\": 3239, 'crank': 3240, 'bathroom': 3241, 'said:': 3242, 'gestated': 3243, 'refiero': 3244, 'mozzarella': 3245, 'sucker': 3246, 'railroads': 3247, 'contemptuous': 3248, 'unless': 3249, 'nickel': 3250, 'drag': 3251, \"s'pose\": 3252, 'nagurski': 3253, 'notorious': 3254, 'health_inspector:': 3255, 'brightening': 3256, 'ingested': 3257, 'charlie': 3258, 'ticks': 3259, 'instead': 3260, 'golden': 3261, 'shock': 3262, 'dancing': 3263, 'prizefighters': 3264, 'me': 3265, 'whoever': 3266, 'john': 3267, 'enjoys': 3268, 'jerry': 3269, 'anarchy': 3270, 'sees': 3271, 'involving': 3272, 'ding-a-ding-ding-ding-ding-ding-ding': 3273, 'error': 3274, 'patient': 3275, 'clubs': 3276, 'frog': 3277, 'would': 3278, 'seat': 3279, 'liquor': 3280, 'ninety-seven': 3281, 'life-partner': 3282, 'guest': 3283, 'goal': 3284, 'ahh': 3285, 'faceful': 3286, \"tony's\": 3287, 'jigger': 3288, 'what-for': 3289, 'problemo': 3290, 'souvenir': 3291, 'growing': 3292, \"squeezin'\": 3293, 'e': 3294, 'hilarious': 3295, 'him': 3296, 'straining': 3297, 'fixes': 3298, 'stand': 3299, 'childless': 3300, 'handle': 3301, \"nixon's\": 3302, 'robin': 3303, 'stores': 3304, 'jeers': 3305, 'dawning': 3306, 'distributor': 3307, 'said': 3308, 'nascar': 3309, 'law': 3310, 'libraries': 3311, 'puke': 3312, 'roach': 3313, 'emotion': 3314, 'war': 3315, 'stalin': 3316, 'scornfully': 3317, 'aer': 3318, 'holy': 3319, 'sexy': 3320, 'carey': 3321, 'dollars': 3322, 'düffenbraus': 3323, 'bolting': 3324, 'venom': 3325, \"people's\": 3326, 'winch': 3327, 'hate': 3328, 'gasoline': 3329, 'wide': 3330, 'jukebox': 3331, 'broke': 3332, 'albert': 3333, 'headhunters': 3334, 'badge': 3335, 'anyone': 3336, 'xanders': 3337, 'quimby_#2:': 3338, 'reward': 3339, 'germans': 3340, 'uniforms': 3341, 'take': 3342, 'started': 3343, 'sixty-five': 3344, 'settled': 3345, '_burns_heads:': 3346, 'giving': 3347, 'poorer': 3348, 'philosophic': 3349, 'annual': 3350, 'waist': 3351, 'conversation': 3352, 'declan': 3353, 'dint': 3354, 'sing': 3355, 'saving': 3356, 'sanctuary': 3357, \"startin'\": 3358, 'gibson': 3359, 'thighs': 3360, 'ruined': 3361, 'dark': 3362, 'appear': 3363, 'legally': 3364, \"buffalo's\": 3365, 'seven': 3366, 'spine': 3367, 'grease': 3368, 'bridge': 3369, 'got': 3370, 'michael_stipe:': 3371, 'bulletin': 3372, 'crowds': 3373, 'upbeat': 3374, 'tired': 3375, 'civilization': 3376, 'gosh': 3377, 'distaste': 3378, 'natural': 3379, 'roll': 3380, \"soundin'\": 3381, \"where's\": 3382, 'mommy': 3383, 'funny': 3384, 'enter': 3385, 'chain': 3386, 'flown': 3387, 'janette': 3388, 'flynt': 3389, 'scram': 3390, 'dig': 3391, 'omigod': 3392, 'reader': 3393, 'bulldozing': 3394, 'ron_howard:': 3395, 'jacksons': 3396, 'ho-la': 3397, 'covering': 3398, 'holds': 3399, 'weapon': 3400, 'without:': 3401, 'circus': 3402, 'dimly': 3403, 'wordloaf': 3404, 'square': 3405, 'ugly': 3406, 'desire': 3407, 'gamble': 3408, 'malfeasance': 3409, 'prayer': 3410, 'soot': 3411, 'football_announcer:': 3412, 'pick': 3413, 'bubbles': 3414, 'gol-dangit': 3415, 'repressed': 3416, 'taken': 3417, 'kl5-4796': 3418, 'notch': 3419, 'bar:': 3420, 'occupation': 3421, 'bronco': 3422, 'ze-ro': 3423, 'grab': 3424, 'calvin': 3425, 'painted': 3426, 'crummy': 3427, 'fish': 3428, 'own': 3429, 'jerk-ass': 3430, 'choked': 3431, 'ohhhh': 3432, 'unfair': 3433, 'question': 3434, 'hopeful': 3435, 'burning': 3436, 'connor-politan': 3437, 'comic': 3438, 'often': 3439, \"ragin'\": 3440, 'equivalent': 3441, 'blob': 3442, 'dumb': 3443, 'sounded': 3444, 'rings': 3445, 'earrings': 3446, 'numbers': 3447, 'convinced': 3448, 'bachelorette': 3449, 'inspector': 3450, 'painting': 3451, 'princess': 3452, 'duffman': 3453, 'woe:': 3454, 'reluctantly': 3455, 'candy': 3456, 'passes': 3457, 'burns': 3458, 'satisfied': 3459, 'jamaican': 3460, 'raises': 3461, 'spooky': 3462, \"linin'\": 3463, 'morlocks': 3464, 'gal': 3465, 'apu_nahasapeemapetilon:': 3466, 'lovers': 3467, 'creeps': 3468, 'adult_bart:': 3469, 'cigars': 3470, 'wore': 3471, 'unkempt': 3472, 'dictator': 3473, 'wednesday': 3474, 'chief_wiggum:': 3475, 'restroom': 3476, 'burn': 3477, 'phone': 3478, 'vincent': 3479, 'commanding': 3480, 'estranged': 3481, 'such': 3482, 'dime': 3483, 'wham': 3484, 'managed': 3485, 'foot': 3486, 'eco-fraud': 3487, 'reminded': 3488, 'family': 3489, 'conversion': 3490, \"wallet's\": 3491, 'jam': 3492, 'because': 3493, 'singing': 3494, 'salad': 3495, 'reached': 3496, 'stairs': 3497, 'voice:': 3498, 'champignons': 3499, 'finger': 3500, 'till': 3501, 'alma': 3502, 'fat_in_the_hat:': 3503, 'near': 3504, 'flames': 3505, 'powered': 3506, \"meanin'\": 3507, 'sees/': 3508, 'reaching': 3509, 'retired': 3510, 'site': 3511, 'smuggled': 3512, 'fortune': 3513, 'dexterous': 3514, 'attach': 3515, 'faiths': 3516, 'civic': 3517, 'inflated': 3518, 'bottomless': 3519, 'whaaa': 3520, 'simon': 3521, 'fold': 3522, 'peeping': 3523, 'occasion': 3524, 'inexorable': 3525, 'hose': 3526, 'totally': 3527, 'shoes': 3528, 'pub': 3529, 'new_health_inspector:': 3530, 'resolution': 3531, 'ayyy': 3532, 'selective': 3533, 'progress': 3534, 'hafta': 3535, 'pleading': 3536, 'remembered': 3537, 'snow': 3538, 'banks': 3539, 'honest': 3540, 'folks': 3541, 'polishing': 3542, 'sagely': 3543, 'stan': 3544, 'heard': 3545, 'golf': 3546, 'insist': 3547, 'want': 3548, 'skinner': 3549, \"y'money's\": 3550, 'face': 3551, 'makes': 3552, 'yep': 3553, 'public': 3554, 'johnny_carson:': 3555, 'mediterranean': 3556, 'astrid': 3557, 'fast-paced': 3558, 'head': 3559, 'dog': 3560, 'journey': 3561, 'flew': 3562, 'grienke': 3563, 'arrange': 3564, 'gabriel': 3565, 'mention': 3566, 'baseball': 3567, 'rap': 3568, 'strong': 3569, 'male_inspector:': 3570, 'confidentially': 3571, 'faded': 3572, 'police': 3573, \"tv's\": 3574, \"'ere\": 3575, 'true': 3576, 'safer': 3577, 'although': 3578, 'sniffs': 3579, 'sobbing': 3580, 'sissy': 3581, 'tie': 3582, 'rag': 3583, 'fight': 3584, 'book_club_member:': 3585, 'film': 3586, 'yesterday': 3587, 'droning': 3588, 'city': 3589, '1973': 3590, 'answer': 3591, 'dumb-asses': 3592, 'disappointment': 3593, 'churchill': 3594, 'prefer': 3595, 'upset': 3596, 'hemoglobin': 3597, 'buds': 3598, 'healthier': 3599, 'ideal': 3600, 'lewis': 3601, 'chastity': 3602, 'aiden': 3603, 'finale': 3604, 'checks': 3605, \"patrick's\": 3606, 'disguise': 3607, 'curiosity': 3608, 'depression': 3609, 'depressing': 3610, 'spy': 3611, 'touchdown': 3612, \"g'on\": 3613, 'duffman:': 3614, 'ashtray': 3615, 'remorseful': 3616, 'email': 3617, 'boyhood': 3618, 'lighter': 3619, 'intruding': 3620, 'microphone': 3621, 'drapes': 3622, 'reckless': 3623, \"santa's\": 3624, 'metal': 3625, 'releases': 3626, 'coffee': 3627, 'remodel': 3628, \"fishin'\": 3629, 'washer': 3630, 'pained': 3631, 'mamma': 3632, 'enthusiasm': 3633, 'pantsless': 3634, 'open-casket': 3635, 'decency': 3636, 'moe-lennium': 3637, 'neighborhood': 3638, 'bet': 3639, 'alphabet': 3640, 'grammar': 3641, 'heading': 3642, 'monkeyshines': 3643, 'porn': 3644, 'slightly': 3645, 'unattractive': 3646, 'break-up': 3647, 'lay': 3648, 'able': 3649, 'executive': 3650, 'out': 3651, 'go-near-': 3652, 'amazing': 3653, 'blooded': 3654, 'wall': 3655, 'products': 3656, 'cure': 3657, 'mobile': 3658, 'multi-purpose': 3659, 'senator': 3660, 'goodwill': 3661, 'terrible': 3662, 'arrived': 3663, \"soakin's\": 3664, 'shower': 3665, 'germany': 3666, 'hmmm': 3667, 'program': 3668, 'blissful': 3669, 'stonewall': 3670, 'lessee': 3671, 'peace': 3672, 'skinny': 3673, 'characteristic': 3674, '3': 3675, 'mostly': 3676, 'weird': 3677, 'decadent': 3678, 'tokens': 3679, 'getting': 3680, 'experiments': 3681, 'graves': 3682, 'art': 3683, 'full': 3684, 'museum': 3685, 'har': 3686, 'yet': 3687, 'ice': 3688, \"puttin'\": 3689, 'shells': 3690, \"choosin'\": 3691, 'scores': 3692, \"i-i'm\": 3693, 'feat': 3694, 'mickey': 3695, 'sobs': 3696, 'years': 3697, 'irs': 3698, 'outs': 3699, 'rented': 3700, 'wallet': 3701, 'music': 3702, 'owe': 3703, 'cushion': 3704, 'victim': 3705, 'moe': 3706, \"duff's\": 3707, 'created': 3708, 'relieved': 3709, 'fella': 3710, 'tale': 3711, 'regret': 3712, 'phrase': 3713, 'himself': 3714, 'money': 3715, 'realize': 3716, 'denser': 3717, 'dentist': 3718, 'lied': 3719, 'wally:': 3720, \"knockin'\": 3721, 'snackie': 3722, 'where': 3723, 'relationship': 3724, 'sloe': 3725, 'cold': 3726, 'figure': 3727, 'hell': 3728, 'motorcycle': 3729, 'cause': 3730, 'tuborg': 3731, 'intakes': 3732, 'sighs': 3733, 'pancakes': 3734, 'duty': 3735, 'strap': 3736, 'lazy': 3737, 'tabs': 3738, 'comforting': 3739, 'team': 3740, 'chair': 3741, 'careful': 3742, 'shuts': 3743, 'eddie:': 3744, 'number': 3745, 'gift:': 3746, 'invulnerable': 3747, 'west': 3748, 'reading:': 3749, 'scum': 3750, 'fainted': 3751, 'turning': 3752, 'another': 3753, 'code': 3754, 'drunkenly': 3755, 'mocking': 3756, 'slobs': 3757, 'fishing': 3758, 'falsetto': 3759, 'extra': 3760, 'radio': 3761, 'local': 3762, '2nd_voice_on_transmitter:': 3763, 'mate': 3764, 'perplexed': 3765, 'shares': 3766, 'hat': 3767, 'streetlights': 3768, 'hyahh': 3769, 'sport': 3770, 'fdic': 3771, 'rummy': 3772, 'mike': 3773, 'squirrel': 3774, 'empty': 3775, \"cheerin'\": 3776, 'ducked': 3777, 'lodge': 3778, 'penmanship': 3779, 'mini-dumpsters': 3780, 'crotch': 3781, 'eww': 3782, 'a': 3783, 'atlanta': 3784, 'steal': 3785, 'shipment': 3786, 'stickers': 3787, \"calf's\": 3788, 'hated': 3789, 'ripcord': 3790, 'terror': 3791, 'rather': 3792, 'humiliation': 3793, 'enjoyed': 3794, 'acting': 3795, 'sister': 3796, 'themselves': 3797, 'spend': 3798, 'sixteen': 3799, 'ingrates': 3800, 'maiden': 3801, \"handwriting's\": 3802, 'loan': 3803, 'belches': 3804, 'halvsies': 3805, 'brace': 3806, 'island': 3807, 'find': 3808, 'slurps': 3809, 'dressing': 3810, 'koholic': 3811, \"you'll\": 3812, \"lookin'\": 3813, 'andalay': 3814, 'ivory': 3815, 'jubilation': 3816, 'they': 3817, 'leg': 3818, 'bread': 3819, 'naegle': 3820, 'football': 3821, 'steinbrenner': 3822, 'rickles': 3823, 'maggie': 3824, 'broken:': 3825, 'cleaner': 3826, 'shades': 3827, \"could've\": 3828, 'man': 3829, 'mill': 3830, 'tiger': 3831, 'boxing': 3832, 'prints': 3833, 'springfield': 3834, \"fightin'\": 3835, \"marge's\": 3836, 'choked-up': 3837, \"games'd\": 3838, '||quotation_mark||': 3839, 'therefore': 3840, 'cartoons': 3841, 'temples': 3842, 'stunned': 3843, 'specific': 3844, 'beer:': 3845, 'meaningless': 3846, 'if': 3847, 'swimming': 3848, 'incriminating': 3849, 'gee': 3850, 'yelling': 3851, 'coma': 3852, 'peter': 3853, 'excitement': 3854, 'coach:': 3855, 'chorus:': 3856, \"shouldn't\": 3857, 'looting': 3858, 'sitting': 3859, 'sacajawea': 3860, 'doreen:': 3861, 'swear': 3862, 'selfish': 3863, 'gulliver_dark:': 3864, 'flash-fry': 3865, 'unattended': 3866, 'broad': 3867, 'cruel': 3868, 'hey': 3869, 'smug': 3870, 'fool': 3871, 'it:': 3872, 'muscles': 3873, 'french': 3874, 'ambrose': 3875, 'odd': 3876, 'eggs': 3877, 'leak': 3878, 'silent': 3879, 'dismissive': 3880, 'cakes': 3881, 'ghouls': 3882, 'padre': 3883, 'disco': 3884, 'however': 3885, 'videotaped': 3886, 'brunswick': 3887, 'alfalfa': 3888, 'curious': 3889, 'minister': 3890, 'bindle': 3891, 'calmly': 3892, 'continuing': 3893, 'blues': 3894, 'jackson': 3895, 'busy': 3896, 'carefully': 3897, 'touches': 3898, 'network': 3899, 'nigerian': 3900, 'terrace': 3901, 'brotherhood': 3902, 'marge_simpson:': 3903, 'sooner': 3904, \"she'll\": 3905, 'barstools': 3906, 'crow': 3907, 'judges': 3908, 'charm': 3909, 'foil': 3910, \"tomorrow's\": 3911, 'st': 3912, 'americans': 3913, 'female_inspector:': 3914, 'diamond': 3915, \"doesn't\": 3916, 'ironic': 3917, 'fritz': 3918, 'conditioning': 3919, 'superhero': 3920, 'book': 3921, 'murdoch': 3922, 'male_singers:': 3923, 'illegally': 3924, 'cocks': 3925, 'hired': 3926, 'wowww': 3927, 'lists': 3928, 'points': 3929, 'retain': 3930, 'extended': 3931, 'amused': 3932, 'dum-dum': 3933, 'costume': 3934, 'conspiracy': 3935, 'protesters': 3936, 'wildest': 3937, 'short_man:': 3938, 'utility': 3939, 'nemo': 3940, \"jackpot's\": 3941, 'micronesian': 3942, 'charlie:': 3943, \"sittin'\": 3944, 'chuckling': 3945, 'all-all-all': 3946, 'groan': 3947, 'average': 3948, 'pridesters:': 3949, 'sexual': 3950, 'noggin': 3951, 'can': 3952, 'gasp': 3953, 'hounds': 3954, 'al_gore:': 3955, \"son's\": 3956, 'kidneys': 3957, 'aghast': 3958, 'car': 3959, 'mistake': 3960, 'loyal': 3961, 'voice': 3962, 'european': 3963, 'eleven': 3964, 'closes': 3965, 'splendid': 3966, 'first': 3967, 'baritone': 3968, 'mortgage': 3969, 'stares': 3970, 'matter-of-fact': 3971, 'gut': 3972, 'caricature': 3973, 'biggest': 3974, 'manchego': 3975, 'nature': 3976, 'consciousness': 3977, 'million': 3978, 'slobbo': 3979, 'brother-in-law': 3980, 'cheered': 3981, 'swishkabobs': 3982, 'chilly': 3983, 'possessions': 3984, 'groin': 3985, 'mall': 3986, 'warren': 3987, 'universe': 3988, 'effervescence': 3989, 'decent': 3990, 'literary': 3991, 'blue': 3992, 'history': 3993, \"raggin'\": 3994, 'crisis': 3995, 'booking': 3996, 'human': 3997, 'period': 3998, 'tasty': 3999, 'diapers': 4000, 'rosey': 4001, 'mary': 4002, 'all-star': 4003, 'total': 4004, 'means': 4005, 'extract': 4006, 'banquo': 4007, 'bourbon': 4008, 'trenchant': 4009, 'rush': 4010, 'completely': 4011, 'reliable': 4012, 'edner': 4013, 'noose': 4014, 'renovations': 4015, 'load': 4016, 'mccall': 4017, 'enlightened': 4018, 'forward': 4019, 'wiggle-frowns': 4020, 'tropical': 4021, 'hall': 4022, 'unhappy': 4023, 'exits': 4024, 'wild': 4025, 'amount': 4026, 'above': 4027, 'sun': 4028, 'moe-clone:': 4029, 'suspiciously': 4030, 'ask': 4031, 'door': 4032, 'detective_homer_simpson:': 4033, 'wanna': 4034, 'sticking': 4035, 'edna_krabappel-flanders:': 4036, 'says': 4037, 'dance': 4038, 'milks': 4039, 'nectar': 4040, 'refinanced': 4041, 'inanely': 4042, 'respect': 4043, 'spotting': 4044, 'underbridge': 4045, 'guts': 4046, 'belly': 4047, 'overflowing': 4048, 'grants': 4049, 'cummerbund': 4050, 'official': 4051, 'morning': 4052, \"game's\": 4053, 'nerd': 4054, 'results': 4055, 'chug-a-lug': 4056, 'não': 4057, 'remain': 4058, 'nelson': 4059, 'wedding': 4060, 'reynolds': 4061, 'comedies': 4062, 'taxes': 4063, 'sacrilicious': 4064, 'sales': 4065, 'century': 4066, 'slurred': 4067, 'yoink': 4068, 'crinkly': 4069, 'cool': 4070, 'cauliflower': 4071, 'knowingly': 4072, 'concentrate': 4073, 'cheers': 4074, 'fledgling': 4075, 'hmf': 4076, 'tying': 4077, 'damage': 4078, 'whaddaya': 4079, 'admit': 4080, 'rueful': 4081, 'tony': 4082, 'eightball': 4083, 'jacques': 4084, 'twentieth': 4085, 'sponsor': 4086, \"city's\": 4087, 'panties': 4088, 'even': 4089, 'rainbows': 4090, 'frustrated': 4091, 'born': 4092, 'drink': 4093, 'cheering': 4094, 'language': 4095, 'soul': 4096, 'checking': 4097, 'bad-mouth': 4098, 'movement': 4099, 'mop': 4100, 'mellow': 4101, 'bed': 4102, 'scratching': 4103, \"bladder's\": 4104, 'philip': 4105, 'erasers': 4106, 'municipal': 4107, 'gunter': 4108, 'el': 4109, 'kindly': 4110, 'apu': 4111, 'temper': 4112, \"didn't\": 4113, 'equal': 4114, 'cranberry': 4115, 'afford': 4116, 'job': 4117, 'x': 4118, 'kisser': 4119, 'spoon': 4120, 'in': 4121, 'sincere': 4122, 'hostile': 4123, 'instantly': 4124, \"murphy's\": 4125, \"bashir's\": 4126, 'counting': 4127, 'march': 4128, \"robbin'\": 4129, 'flustered': 4130, 'greatly': 4131, 'dallas': 4132, 'pilsner-pusher': 4133, 'pulitzer': 4134, 'hillary': 4135, 'surgeonnn': 4136, 'chubby': 4137, 'bold': 4138, 'turlet': 4139, 'time': 4140, 'flag': 4141, 'actually': 4142, 'us': 4143, 'fatso': 4144, 'meditative': 4145, 'taste': 4146, 'lizard': 4147, 'champs': 4148, 'bleeding': 4149, 'officer': 4150, 'showered': 4151, 'delivery': 4152, 'excited': 4153, 'professional': 4154, 'though:': 4155, 'excuses': 4156, 'sharing': 4157, 'squeezed': 4158, 'crippling': 4159, 'somewhere': 4160, 'karaoke': 4161, 'endorsement': 4162, 'krusty': 4163, 'tolerance': 4164, 'bannister': 4165, 'menacing': 4166, 'tidy': 4167, \"speakin'\": 4168, 'settlement': 4169, 'digging': 4170, 'stationery': 4171, 'paparazzo': 4172, 'mariah': 4173, 'solid': 4174, \"school's\": 4175, 'feelings': 4176, 'assistant': 4177, 'fourth': 4178, 'mmmmm': 4179, 'artist': 4180, 'recently': 4181, 'laughing': 4182, 'thought_bubble_homer:': 4183, 'sold': 4184, 'easier': 4185, 'world-class': 4186, 'pickle': 4187, 'betty:': 4188, 'gig': 4189, 'smiles': 4190, 'steely-eyed': 4191, \"wasn't\": 4192, 'jelly': 4193, 'brooklyn': 4194, 'needy': 4195, 'photos': 4196, 'hiya': 4197, 'dangerous': 4198, 'impress': 4199, 'scene': 4200, 'insults': 4201, 'label': 4202, 'it': 4203, 'diminish': 4204, 'wuss': 4205, 'fatty': 4206, 'screams': 4207, 'thoughtfully': 4208, 'edgy': 4209, 'fleabag': 4210, 'grim': 4211, 'drains': 4212, 'the_rich_texan:': 4213, 'naively': 4214, 'ireland': 4215, 'helpless': 4216, 'thing': 4217, 'choke': 4218, 'changes': 4219, 'stengel': 4220, 'er': 4221, 'alter': 4222, 'britannia': 4223, 'lobster': 4224, 'far': 4225, 'teenage': 4226, 'whaaaa': 4227, 'lone': 4228, 'jolly': 4229, 'stones': 4230, 'ape-like': 4231, 'feet': 4232, 'patterns': 4233, 'triple-sec': 4234, \"'ceptin'\": 4235, 'tree': 4236, 'give': 4237, 'helpful': 4238, 'pretentious_rat_lover:': 4239, 'wayne': 4240, 'rivalry': 4241, 'junebug': 4242, 'invited': 4243, 'frankie': 4244, 'womb': 4245, 'winner': 4246, 'binoculars': 4247, 'pushing': 4248, 'kid': 4249, 'sounds': 4250, \"liberty's\": 4251, 'vin': 4252, 'tigers': 4253, 'pays': 4254, 'kills': 4255, 'boozer': 4256, 'wing': 4257, 'domed': 4258, 'fuzzlepitch': 4259, '100': 4260, 'uncle': 4261, 'capitalists': 4262, 'additional-seating-capacity': 4263, 'regretful': 4264, 'package': 4265, 'dramatic': 4266, 'wish-meat': 4267, 'script': 4268, 'effigy': 4269, 'confession': 4270, 'cobra': 4271, \"yieldin'\": 4272, 'examples': 4273, \"i'm\": 4274, 'urge': 4275, 'bury': 4276, 'swig': 4277, 'moolah-stealing': 4278, 'sexton': 4279, 'enemies': 4280, 'getcha': 4281, 'church': 4282, 'mathis': 4283, 'ollie': 4284, 'hub': 4285, 'better': 4286, 'starting': 4287, 'attractive_woman_#1:': 4288, 'apartment': 4289, 'extremely': 4290, 'dry': 4291, 'cocktail': 4292, 'life-extension': 4293, '8': 4294, 'wears': 4295, 'rage': 4296, 'simpson': 4297, 'hottest': 4298, 'entering': 4299, 'pudgy': 4300, \"c'mon\": 4301, 'girls': 4302, 'who-o-oa': 4303, 'silence': 4304, 'radiation': 4305, 'flower': 4306, 'hospital': 4307, 'brine': 4308, 'worried': 4309, 'pour': 4310, 'planned': 4311, 'thunder': 4312, 'stay-puft': 4313, 'prompting': 4314, 'making': 4315, 'freed': 4316, \"who's\": 4317, 'inning': 4318, 'tv_husband:': 4319, 'citizens': 4320, 'took': 4321, 'repeating': 4322, \"bart's\": 4323, 'worse': 4324, 'a-a-b-b-a': 4325, 'scatter': 4326, 'advertising': 4327, 'macbeth': 4328, 'cigarettes': 4329, 'model': 4330, 'their': 4331, 'hm': 4332, 'tourist': 4333, 'dying': 4334, 'um': 4335, 'hushed': 4336, 'alley': 4337, 'floating': 4338, 'doof': 4339, \"when's\": 4340, 'flush': 4341, 'blurbs': 4342, 'presided': 4343, \"team's\": 4344, 'competitive': 4345, 'jack_larson:': 4346, 'approval': 4347, 'except': 4348, 'medicine': 4349, 'arse': 4350, 'louisiana': 4351, 'blame': 4352, 'getup': 4353, 'thorough': 4354, 'negative': 4355, 'pool': 4356, 'bookie': 4357, 'housework': 4358, 'waking-up': 4359, \"writin'\": 4360, \"lenny's\": 4361, 'grunts': 4362, \"should've\": 4363, 'devils:': 4364, 'cookies': 4365, 'sausage': 4366, 'securities': 4367, 'wildfever': 4368, 'passed': 4369, 'smelling': 4370, 'seats': 4371, 'counterfeit': 4372, 'leans': 4373, 'uglier': 4374, \"narratin'\": 4375, 'limericks': 4376, 'limits': 4377, \"coaster's\": 4378, 'wieners': 4379, 'whose': 4380, 'nope': 4381, 'accepting': 4382, 'squad': 4383, \"hobo's\": 4384, 'rem': 4385, 'message': 4386, 'page': 4387, 'house': 4388, 'turns': 4389, 'shesh': 4390, 'advertise': 4391, \"'im\": 4392, 'hero': 4393, 'just': 4394, 'defected': 4395, 'trench': 4396, 'twenty-six': 4397, 'bottle': 4398, 'cattle': 4399, 'statue': 4400, 'crap': 4401, 'wanted': 4402, 'suave': 4403, 'noble': 4404, 'hockey-fight': 4405, 'mayor': 4406, 'icelandic': 4407, 'so-ng': 4408, 'helicopter': 4409, 'practically': 4410, 'lenny': 4411, 'appreciate': 4412, 'pep': 4413, 'ginger': 4414, 'na': 4415, 'stolen': 4416, 'ad': 4417, 'oil': 4418, 'tomorrow': 4419, 'glummy': 4420, 'banned': 4421, 'yello': 4422, 'tense': 4423, 'louie:': 4424, 'willing': 4425, 'missed': 4426, 'drawing': 4427, 'tomatoes': 4428, 'beaumont': 4429, 'scarf': 4430, 'marshmallow': 4431, 'knew': 4432, 'help': 4433, 'speak': 4434, 'reporter': 4435, 'only': 4436, 'asks': 4437, 'suicide': 4438, 'index': 4439, 'pictured': 4440, 'lowers': 4441, 'bees': 4442, 'jerking': 4443, 'occupied': 4444, 'wolveriskey': 4445, 'rhode': 4446, \"you've\": 4447, 'tearfully': 4448, 'owner': 4449, 'prejudice': 4450, 'billion': 4451, 'failure': 4452, 'rome': 4453, 'popped': 4454, 'rainier_wolfcastle:': 4455, 'gulps': 4456, 'merchants': 4457, 'ate': 4458, 'atari': 4459, 'bounced': 4460, 'carlotta:': 4461, 'wrapped': 4462, 'lumpa': 4463, 'agreement': 4464, 'proposing': 4465, 'slender': 4466, 'astonishment': 4467, 'takeaway': 4468, 'ripped': 4469, 'knife': 4470, 'were': 4471, 'motto': 4472, 'shifty': 4473, 'bake': 4474, 'maitre': 4475, 'peppy': 4476, 'abolish': 4477, 'record': 4478, 'exploiter': 4479, 'noooooooooo': 4480, 'understand': 4481, 'joking': 4482, 'alpha-crow': 4483, 'frenchman': 4484, 'wagering': 4485, 'homer': 4486, 'vampires': 4487, 'judge': 4488, 'rice': 4489, 'venture': 4490, 'moon-bounce': 4491, 'hemorrhage-amundo': 4492, 'dozen': 4493, 'served': 4494, 'yak': 4495, 'falcons': 4496, 'buyer': 4497, 'bag': 4498, 'ew': 4499, 'beards': 4500, 'cameras': 4501, \"toot's\": 4502, 'beef': 4503, '14': 4504, 'whatsit': 4505, 'unfresh': 4506, 'calling': 4507, 'bottoms': 4508, \"what's\": 4509, 'ding-a-ding-ding-a-ding-ding': 4510, 'brown': 4511, 'pointing': 4512, 'perfected': 4513, 'logos': 4514, 'down': 4515, 'cards': 4516, 'yells': 4517, 'alky': 4518, 'apart': 4519, 'hope': 4520, 'luv': 4521, 'mouse': 4522, 'gimmick': 4523, 'wearing': 4524, 'whoa': 4525, 'spews': 4526, 'odor': 4527, 'rotten': 4528, 'paste': 4529, 'creme': 4530, 'wizard': 4531, 'paramedic:': 4532, 'blow': 4533, 'masks': 4534, \"i'll\": 4535, 'card': 4536, 'original': 4537, 'fbi': 4538, 'fiction': 4539, 'moustache': 4540, 'malibu': 4541, 'plug': 4542, 'partly': 4543, \"sat's\": 4544, 'expect': 4545, 'sheepish': 4546, 'stupid': 4547, 'bugs': 4548, 'tax': 4549, 'stretches': 4550, 'blew': 4551, 'woman': 4552, 'nonchalant': 4553, 'likes': 4554, 'thoughts': 4555, 'loathe': 4556, 'corkscrews': 4557, 'done': 4558, 'process': 4559, 'issues': 4560, 'hurts': 4561, '&': 4562, 'decide:': 4563, 'playoff': 4564, 'polite': 4565, 'ugh': 4566, 'academy': 4567, 'seriously': 4568, 'inspection': 4569, 'dirge-like': 4570, 'consoling': 4571, \"o'reilly\": 4572, 'lucius': 4573, \"stabbin'\": 4574, 'use': 4575, 'apron': 4576, 'fans': 4577, 'magazine': 4578, 'windowshade': 4579, 'appalled': 4580, 'plan': 4581, 'due': 4582, 'felony': 4583, 'jeff': 4584, 'beyond': 4585, 'rafter': 4586, 'monster': 4587, 'gheet': 4588, 'fast-food': 4589, 'vomit': 4590, 'watt': 4591, 'linda': 4592, '_kissingher:': 4593, 'opens': 4594, 'heck': 4595, 'poulet': 4596, 'angry': 4597, 'disaster': 4598, 'seem': 4599, 'met': 4600, 'laugh': 4601, 'hurt': 4602, 'sponge': 4603, 'today/': 4604, 'asked': 4605, 'deals': 4606, 'fine': 4607, \"how'd\": 4608, 'lanes': 4609, 'trolls': 4610, 'oof': 4611, 'nonchalantly': 4612, 'disappointing': 4613, 'thorn': 4614, 'could': 4615, 'heroism': 4616, 'len-ny': 4617, 'nelson_muntz:': 4618, 'please/': 4619, 'idea': 4620, 'for': 4621, 'sunday': 4622, 'each': 4623, 'trash': 4624, 'urinal': 4625, 'un-sults': 4626, 'patron_#2:': 4627, 'warmly': 4628, 'statistician': 4629, 'large': 4630, 'donut-shaped': 4631, \"singin'\": 4632, 'championship': 4633, 'la': 4634, 'stein-stengel-': 4635, 'moron': 4636, 'song': 4637, 'sister-in-law': 4638, 'arabs': 4639, 'grey': 4640, 'play/': 4641, 'yo': 4642, \"weren't\": 4643, 'mmmm': 4644, 'exhale': 4645, 'blank': 4646, 'sobriety': 4647, 'cousin': 4648, 'stinky': 4649, 'scrutinizing': 4650, \"cupid's\": 4651, 'raging': 4652, 'dreary': 4653, 'committee': 4654, 'amazed': 4655, 'hobo': 4656, 'de-scramble': 4657, 'hunka': 4658, 'important': 4659, 'office': 4660, 'filthy': 4661, 'gag': 4662, 'arrested:': 4663, 'studied': 4664, 'exactly': 4665, 'tab': 4666, 'bow': 4667, 'intelligent': 4668, 'whatchacallit': 4669, 'combination': 4670, 'manager': 4671, 'works': 4672, \"industry's\": 4673, 'colonel:': 4674, 'gel': 4675, \"g'night\": 4676, 'sec_agent_#1:': 4677, 'connection': 4678, 'behind': 4679, \"messin'\": 4680, 'swigmore': 4681, 'sympathy': 4682, 'will': 4683, 'edna-lover-one-seventy-two': 4684, 'salt': 4685, 'urine': 4686, 'hungry': 4687, 'son': 4688, 'build': 4689, 'knit': 4690, 'steel': 4691, 'lainie:': 4692, \"fine-lookin'\": 4693, 'manjula_nahasapeemapetilon:': 4694, 'cheryl': 4695, 'barney-guarding': 4696, 'project': 4697, 'grandé': 4698, 'cases': 4699, 'heave-ho': 4700, 'sixty-nine': 4701, 'sharps': 4702, 'manjula': 4703, 'used': 4704, 'reptile': 4705, 'lowest': 4706, 'favorite': 4707, 'kissing': 4708, 'pip': 4709, 'obese': 4710, 'aged': 4711, 'valley': 4712, 'jacques:': 4713, 'and:': 4714, 'fury': 4715, 'twice': 4716, 'furious': 4717, 'nobody': 4718, 'nucular': 4719, 'agh': 4720, 'called': 4721, 'gotta': 4722, 'demo': 4723, 'none': 4724, 'gangrene': 4725, 'stumble': 4726, 'nail': 4727, 'dump': 4728, 'bart_simpson:': 4729, 'edge': 4730, 'tempting': 4731, 'glitz': 4732, 'half-day': 4733, 'coal': 4734, 'palm': 4735, 'cowboy': 4736, 'meeting': 4737, 'intoxicated': 4738, 'fools': 4739, 'double': 4740, 'trick': 4741, 'artie_ziff:': 4742, 'maya': 4743, 'beats': 4744, 'chief': 4745, 'outlive': 4746, 'napkins': 4747, 'easy': 4748, 'date': 4749, \"aristotle's\": 4750, 'onto': 4751, 'absorbent': 4752, 'guide': 4753, 'blinds': 4754, 'dejected_barfly:': 4755, 'foibles': 4756, 't-shirt': 4757, 'sleeping': 4758, 'hibbert': 4759, 'daddy': 4760, 'helen': 4761, 'cockroach': 4762, 'anti-lock': 4763, 'hawking:': 4764, 'offshoot': 4765, 'adeleine': 4766, 'calculate': 4767, 'leftover': 4768, 'fulla': 4769, 'writer:': 4770, 'bothered': 4771, 'tavern': 4772, 'amnesia': 4773, 'united': 4774, 'half-beer': 4775, 'pockets': 4776, 'elephants': 4777, 'dammit': 4778, 'dingy': 4779, 'sizes': 4780, 'spelling': 4781, 'teacup': 4782, 'thirty-three': 4783, 'l': 4784, 'fail': 4785, \"o'problem\": 4786, 'speed': 4787, 'strains': 4788, 'tablecloth': 4789, 'enveloped': 4790, 'average-looking': 4791, 'partners': 4792, 'chunk': 4793, 'reviews': 4794, 'wind': 4795, 'almost': 4796, 'marge': 4797, 'thought_bubble_lenny:': 4798, 'clams': 4799, 'pre-game': 4800, 'cheapskates': 4801, 'idiots': 4802, \"high-falutin'\": 4803, 'fox_mulder:': 4804, 'tip': 4805, 'thank': 4806, 'ling': 4807, 'tv-station_announcer:': 4808, \"homer's\": 4809, 'hanh': 4810, 'sadly': 4811, 'rapidly': 4812, 'eat': 4813, 'edison': 4814, 'mags': 4815, 'sternly': 4816, 'wudgy': 4817, 'fonzie': 4818, 'beers': 4819, \"don'tcha\": 4820, 'both': 4821, 'schorr': 4822, 'butts': 4823, 'fletcherism': 4824, 'pronounce': 4825, 'stink': 4826, 'agency': 4827, 'togetherness': 4828, 'theory': 4829, 'title:': 4830, 'harrowing': 4831, 'abcs': 4832, 'spender': 4833, 'moe-ron': 4834, 'fall': 4835, 'cronies': 4836, 'zone': 4837, 'low': 4838, 'come': 4839, 'bartenders': 4840, 'hooch': 4841, 'illustrates': 4842, 'fork': 4843, 'superpower': 4844, 'one': 4845, 'playful': 4846, 'my-y-y-y-y-y': 4847, 'elect': 4848, 'maybe': 4849, 'squabbled': 4850, 'housing': 4851, '_montgomery_burns:': 4852, 'profiling': 4853, \"bartender's\": 4854, 'queen': 4855, 'increasingly': 4856, 'wishing': 4857, 'booze-bags': 4858, 'nineteen': 4859, 'ivanna': 4860, 'drug': 4861, 'bleacher': 4862, 'deeply': 4863, 'jerk': 4864, 'shindig': 4865, 'adjourned': 4866, 'feedbag': 4867, 'simple': 4868, 'someone': 4869, 'filth': 4870, 'contemporary': 4871, 'red': 4872, 'twelve': 4873, 'anybody': 4874, 'gumbo': 4875, \"kearney's_dad:\": 4876, 'mailbox': 4877, 'rounds': 4878, 'thinks': 4879, 'morning-after': 4880, \"wino's\": 4881, 'eggshell': 4882, 'kirk': 4883, 'marry': 4884, 'line': 4885, 'well': 4886, 'god': 4887, 'all-american': 4888, 'column': 4889, 'soaked': 4890, 'movies': 4891, 'angel': 4892, 'rip': 4893, 'knock': 4894, 'ancestors': 4895, 'soir': 4896, 'uninhibited': 4897, 'grenky': 4898, 'brief': 4899, 'higher': 4900, 'wife-swapping': 4901, 'sheet': 4902, 'milk': 4903, 'forty-seven': 4904, 'hank_williams_jr': 4905, 'howya': 4906, 'cosmetics': 4907, 'brockelstein': 4908, 'serve': 4909, 'hits': 4910, 'lookalike': 4911, 'discriminate': 4912, \"workin'\": 4913, 'aziz': 4914, 'sale': 4915, 'starla': 4916, 'influence': 4917, 'releasing': 4918, 'rotch': 4919, 'forget-me-drinks': 4920, 'spirit': 4921, 'this': 4922, 'life': 4923, 'bam': 4924, 'pleased': 4925, 'ronstadt': 4926, 'bought': 4927, 'i-i-i': 4928, 'suspicious': 4929, 'diaper': 4930, 'der': 4931, 'girlfriend': 4932, 'shame': 4933, 'bike': 4934, 'produce': 4935, 'flayvin': 4936, 'curds': 4937, 'delicate': 4938, 'waste': 4939, 'thankful': 4940, 'yee-haw': 4941, 'tap': 4942, 'mugs': 4943, 'order': 4944, 'declare': 4945, 'something:': 4946, 'hair': 4947, 'inches': 4948, '7g': 4949, 'buddies': 4950, 'hooked': 4951, 'startled': 4952, 'ironed': 4953, 'tenuous': 4954, 'inserts': 4955, 'uncomfortable': 4956, 're:': 4957, 'be': 4958, 'joining': 4959, 'microwave': 4960, 'ruled': 4961, \"'roids\": 4962, 'slap': 4963, 'sight': 4964, 'soothing': 4965, 'elves:': 4966, 'disdainful': 4967, 'los': 4968, 'bit': 4969, 'whale': 4970, 'chips': 4971, 'mean': 4972, 'serious': 4973, 'situation': 4974, 'attraction': 4975, 'army': 4976, 'fumigated': 4977, \"queen's\": 4978, 'throats': 4979, 'he': 4980, 'endorse': 4981, \"that'd\": 4982, 'strokkur': 4983, 'absentmindedly': 4984, 'event': 4985, 'wars': 4986, 'feed': 4987, 'breakfast': 4988, 'nameless': 4989, 'c': 4990, 'horrible': 4991, 'wood': 4992, 'carve': 4993, 'fit': 4994, 'pipes': 4995, 'beaumarchais': 4996, \"mo'\": 4997, 'eurotrash': 4998, 'blend': 4999, 'mimes': 5000, \"bar's\": 5001, 'sickly': 5002, 'madonna': 5003, 'teacher': 5004, 'decided': 5005, 'wise': 5006, 'aid': 5007, 'forget-me-shot': 5008, 'yelp': 5009, 'kisses': 5010, '||left_parentheses||': 5011, 'snaps': 5012, 'compressions': 5013, 'instrument': 5014, 'chanting': 5015, 'malted': 5016, 'legs': 5017, 'woman:': 5018, 'sustain': 5019, 'giggles': 5020, 'pulls': 5021, 'afternoon': 5022, 'fudd': 5023, 'cannot': 5024, 'longer': 5025, 'mechanical': 5026, 'peanut': 5027, 'again': 5028, 'america': 5029, 'sue': 5030, 'husband': 5031, 'ready': 5032, 'skirt': 5033, 'bluff': 5034, 'heaven': 5035, 'tin': 5036, 'is': 5037, 'f': 5038, 'grubby': 5039, \"rasputin's\": 5040, 'which': 5041, 'hotenhoffer': 5042, \"waitin'\": 5043, 'sweden': 5044, \"ain't\": 5045, 'bloodiest': 5046, 'snail': 5047, 'shortcomings': 5048, 'match': 5049, 'skin': 5050, \"jimbo's_dad:\": 5051, 'talkative': 5052, 'gregor': 5053, 'weekly': 5054, 'dutch': 5055, 'someplace': 5056, 'mix': 5057, 'toss': 5058, 'carl_carlson:': 5059, 'stars': 5060, 'finding': 5061, 'eliminate': 5062, 'bill_james:': 5063, 'mock': 5064, 'examines': 5065, 'finished': 5066, 'poke': 5067, 'ahem': 5068, \"'tis\": 5069, 'fbi_agent:': 5070, 'alright': 5071, 'cotton': 5072, 'make': 5073, 'explain': 5074, 'scooter': 5075, 'blimp': 5076, 'snake_jailbird:': 5077, 'slice': 5078, 'breathalyzer': 5079, \"smackin'\": 5080, 'leonard': 5081, 'came': 5082, 'driver': 5083, 'super-genius': 5084, 'cheated': 5085, 'rods': 5086, 'every': 5087, 'maude': 5088, 'alive': 5089, 'studio': 5090, 'introduce': 5091, 'menlo': 5092, 'need': 5093, 'oww': 5094, 'festival': 5095, 'mild': 5096, 'annoying': 5097, 'hearing': 5098, 'solved': 5099, 'pretzels': 5100, 'solo': 5101, '_zander:': 5102, 'griffith': 5103, 'gary:': 5104, 'a-b-': 5105, 'rock': 5106, 'furry': 5107, '7-year-old_brockman:': 5108, 'grunt': 5109, 'annus': 5110, 'the_edge:': 5111, 'keeping': 5112, 'accurate': 5113, 'gentleman:': 5114, 'beings': 5115, 'stood': 5116, 'dank': 5117, 'virtual': 5118, 'irishman': 5119, 'limber': 5120, \"lefty's\": 5121, \"it's\": 5122, 'broadway': 5123, 'loved': 5124, 'cock': 5125, 'frontrunner': 5126, 'games': 5127, 'shriners': 5128, 'kings': 5129, 'roomy': 5130, 'bets': 5131, 'lis': 5132, 'scrutinizes': 5133, 'satisfaction': 5134, 'terrifying': 5135, 'k': 5136, 'leave': 5137, 'forty-nine': 5138, 'administration': 5139, 'lindsay': 5140, 'bob': 5141, 'peabody': 5142, 'forbids': 5143, 'groveling': 5144, 'other_player:': 5145, \"drinkin'\": 5146, 'lungs': 5147, 'blokes': 5148, 'th-th-th-the': 5149, 'wishful': 5150, 'comedy': 5151, \"mecca's\": 5152, 'pressure': 5153, \"family's\": 5154, 'habit': 5155, 'doing': 5156, 'thanksgiving': 5157, 'aging': 5158, 'friction': 5159, 'walk': 5160, 'terminated': 5161, 'insured': 5162, 'sponge:': 5163, 'listen': 5164, 'humanity': 5165, 'youth': 5166, 'compromise:': 5167, 'kearney_zzyzwicz:': 5168, \"we'll\": 5169, \"can't\": 5170, 'wiggum': 5171, 'maxed': 5172, 'unavailable': 5173, 'pipe': 5174, 'best': 5175, 'crime': 5176, 'insulin': 5177, 'selling': 5178, 'squishee': 5179, 'refund': 5180, 'agent_miller:': 5181, 'cooker': 5182, 'plum': 5183, 'animals': 5184, 'lou:': 5185, 'pasta': 5186, 'fustigate': 5187, 'beast': 5188, 'buzz': 5189, 'sits': 5190, 'full-blooded': 5191, 'blocked': 5192, 'restaurants': 5193, 'senators:': 5194, 'statesmanlike': 5195, 'drop': 5196, 'fifth': 5197, 'locked': 5198, 'six-barrel': 5199, 'remaining': 5200, 'urban': 5201, 'assent': 5202, 'sitar': 5203, 'trying': 5204, 'delete': 5205, 'day': 5206, 'haircuts': 5207, 'view': 5208, 'sky': 5209, \"lisa's\": 5210, 'hairs': 5211, 'teenage_bart:': 5212, 'newsletter': 5213, 'takes': 5214, 'considers': 5215, 'heh': 5216, 'spoken': 5217, 'au': 5218, 'shooting': 5219, 'lurleen_lumpkin:': 5220, 'beard': 5221, 'shotgun': 5222, 'lover': 5223, 'mccarthy': 5224, 'sub-monkeys': 5225, 'fountain': 5226, 'tsking': 5227, 'mug': 5228, 'mexican_duffman:': 5229, 'lotta': 5230, 'gimmicks': 5231, 'cuff': 5232, 'hotel': 5233, 'telling': 5234, 'doooown': 5235, 'heartily': 5236, 'choose': 5237, 'hoax': 5238, 'cute': 5239, 'supports': 5240, 'eh': 5241, 'stop': 5242, \"phone's\": 5243, \"renee's\": 5244, 'white_rabbit:': 5245, 'glorious': 5246, 'shreda': 5247, 'gold': 5248, 'ball': 5249, 'gun': 5250, 'done:': 5251, 'hidden': 5252, 'type': 5253, 'subscriptions': 5254, 'after': 5255, 'do': 5256, 'orphan': 5257, 'add': 5258, 'burt_reynolds:': 5259, \"hadn't\": 5260, 'sidelines': 5261, 'holiday': 5262, 'acquitted': 5263, 'appeals': 5264, 'einstein': 5265, 'here-here-here': 5266, \"fans'll\": 5267, 'alec_baldwin:': 5268, 'manipulation': 5269, 'housewife': 5270, 'young_marge:': 5271, 'kicked': 5272, 'sniffing': 5273, 'dislike': 5274, 'rumor': 5275, 'theatrical': 5276, 'soap': 5277, 'hundreds': 5278, 'flanders:': 5279, 'or': 5280, 'quero': 5281, 'bucks': 5282, 'pinball': 5283, 'distract': 5284, 'selma': 5285, 'distraught': 5286, \"plank's\": 5287, 'expired': 5288, 'awful': 5289, 'burp': 5290, 'mitts': 5291, 'ing': 5292, 'casual': 5293, 'ignorance': 5294, 'sucked': 5295, 'late': 5296, 'many': 5297, 'cleaned': 5298, 'oblongata': 5299, \"'your\": 5300, 'reality': 5301, 'arm-pittish': 5302, 'nick': 5303, 'sponsoring': 5304, 'appealing': 5305, 'dies': 5306, 'sneering': 5307, 'love': 5308, 'successful': 5309, 'quarry': 5310, 'lard': 5311, \"o'\": 5312, 'chow': 5313, 'yard': 5314, 'unlike': 5315, 'cake': 5316, 'issuing': 5317, 'tang': 5318, 'to': 5319, 'dizer': 5320, \"tv'll\": 5321, \"america's\": 5322, 'samples': 5323, 'names': 5324, 'gruesome': 5325, 'country-fried': 5326, 'brings': 5327, 'talking': 5328, 'whenever': 5329, 'seductive': 5330, 'william': 5331, 'gags': 5332, 'cheerleaders:': 5333, 'handwriting': 5334, 'before': 5335, 'shoots': 5336, 'capitol': 5337, 'sweetie': 5338, 'crew': 5339, 'concerned': 5340, 'group': 5341, 'eva': 5342, 'days': 5343, 'dan': 5344, 'bedroom': 5345, 'maman': 5346, 'caught': 5347, 'lisa': 5348, 'grope': 5349, 'envy-tations': 5350, 'pretends': 5351, \"coffee'll\": 5352, 'certified': 5353, \"wife's\": 5354, 'wiener': 5355, 'movie': 5356, 'smallest': 5357, 'gator:': 5358, 'fragile': 5359, 'hollywood': 5360, 'donated': 5361, 'throat': 5362, 'image': 5363, 'packets': 5364, 'tv_daughter:': 5365, 'standing': 5366, 'fortensky': 5367, 'si-lent': 5368, 'zack': 5369, 'mob': 5370, 'labels': 5371, 'loboto-moth': 5372, 'icy': 5373, 'wolfe': 5374, 'fistiana': 5375, 'pronto': 5376, 'witches': 5377, 'part-time': 5378, 'ceremony': 5379, 'goodnight': 5380, 'yellow-belly': 5381, 'crayon': 5382, \"tab's\": 5383, 'mcstagger': 5384, 'offensive': 5385, 'sneak': 5386, 'improved': 5387, 'and/or': 5388, 'wheel': 5389, 'random': 5390, 'starters': 5391, 'england': 5392, 'garbage': 5393, 'fondest': 5394, 'eighty-six': 5395, 'underpants': 5396, 'tried': 5397, 'carny:': 5398, 'shard': 5399, 'unison': 5400, 'shut': 5401, 'stern': 5402, 'startup': 5403, 'tonic': 5404, 'helping': 5405, 'jerky': 5406, 'travel': 5407, 'shelf': 5408, 'uneasy': 5409, 'newsies': 5410, 'perverse': 5411, 'pretty': 5412, 'road': 5413, 'fraud': 5414, 'burnside': 5415, 'proud': 5416, 'computer': 5417, 'expert': 5418, 'stuff': 5419, '||period||': 5420, 'family-owned': 5421, 'little': 5422, 'side:': 5423, 'violations': 5424, 'store-bought': 5425, 'oh': 5426, 'indecipherable': 5427, 'badly': 5428, 'weekend': 5429, 'excellent': 5430, 'duel': 5431, 'okay': 5432, 'watered-down': 5433, 'television': 5434, 'liven': 5435, 'besides': 5436, \"dad's\": 5437, 'glee': 5438, 'married': 5439, 'tree_hoper:': 5440, 'row': 5441, 'shaggy': 5442, 'fourteen:': 5443, 'patty_bouvier:': 5444, 'guns': 5445, 'denver': 5446, 'bowled': 5447, 'grin': 5448, 'birthplace': 5449, 'texas': 5450, 'rusty': 5451, 'carolina': 5452, 'indeedy': 5453, 'read:': 5454, 'fuss': 5455, \"'topes\": 5456, 'ore': 5457, \"smokin'\": 5458, 'rookie': 5459, 'henry': 5460, 'summer': 5461, 'midge:': 5462, 'faint': 5463, 'old_jewish_man:': 5464, 'twenty-two': 5465, 'life-sized': 5466, 'visas': 5467, 'good': 5468, 'impressed': 5469, ':': 5470, \"bart'd\": 5471, 'scent': 5472, 'nurse': 5473, '35': 5474, 'managing': 5475, \"spaghetti-o's\": 5476, 'coming': 5477, 'genius': 5478, 'dunno': 5479, 'club': 5480, \"havin'\": 5481, 'jay:': 5482, 'forecast': 5483, 'sass': 5484, 'smoke': 5485, 'she-pu': 5486, 'gets': 5487, 'de': 5488, 'barney-type': 5489, 'chin': 5490, 'separator': 5491, 'omit': 5492, 'attend': 5493, 'fierce': 5494, 'skunk': 5495, 'roz': 5496, 'trees': 5497, 'advance': 5498, 'comment': 5499, 'multi-national': 5500, 'locklear': 5501, 'free': 5502, 'nicer': 5503, 'shrieks': 5504, 'kirk_voice_milhouse:': 5505, 'water': 5506, 'my': 5507, 'wazoo': 5508, 'errrrrrr': 5509, 'minimum': 5510, 'mom': 5511, 'cupid': 5512, 'western': 5513, 'nothing': 5514, 'depressant': 5515, 'bon-bons': 5516, 'mull': 5517, 'accidents': 5518, 'snake-handler': 5519, 'clean': 5520, 'somebody': 5521, \"c'mere\": 5522, 'lights': 5523, 'infestation': 5524, 'driveability': 5525, 'month': 5526, 'according': 5527, 'kinderhook': 5528, 'lecture': 5529, 'weirder': 5530, 'wakede': 5531, 'wear': 5532, 'grammy': 5533, 'selection': 5534, 'belt': 5535, 'spent': 5536, 'keep': 5537, 'conditioners': 5538, 'secret': 5539, 'sympathizer': 5540, 'british': 5541, 'helllp': 5542, 'arab_man:': 5543, 'lemme': 5544, 'focus': 5545, 'cajun': 5546, 'twenty-four': 5547, 'disillusioned': 5548, 'test-lady': 5549, 'sat-is-fac-tion': 5550, 'dracula': 5551, 'lonely': 5552, 'delts': 5553, 'brothers': 5554, 'mustard': 5555, 'microbrew': 5556, 'distinct': 5557, 'found': 5558, 'pleasure': 5559, 'pinchpenny': 5560, 'drinker': 5561, 'bum:': 5562, 'form': 5563, 'hubub': 5564, 'hourly': 5565, 'transmission': 5566, 'alarm': 5567, 'widow': 5568, 'africa': 5569, 'quarter': 5570, 'disguised': 5571, 'syrup': 5572, 'radishes': 5573, 'elocution': 5574, 'compared': 5575, 'plain': 5576, 'declared': 5577, 'lenses': 5578, 'bird': 5579, 'happily': 5580, 'hardhat': 5581, 'rainforest': 5582, 'presidential': 5583, 'chocolate': 5584, 'smithers': 5585, 'very': 5586, 'continuum': 5587, 'ehhhhhhhh': 5588, 'key': 5589, 'children': 5590, 'phony': 5591, 'overhearing': 5592, 'ned_flanders:': 5593, 'bits': 5594, 'coined': 5595, 'moonnnnnnnn': 5596, 'ga': 5597, 'pleasant': 5598, 'longest': 5599, 'spamming': 5600, 'margarita': 5601, 'sleigh-horses': 5602, 'wobble': 5603, 'thnord': 5604, 'moonshine': 5605, 'narrator:': 5606, 'gentle': 5607, 'augustus': 5608, 'ref': 5609, '||question_mark||': 5610, 'men': 5611, 'hurting': 5612, 'quite': 5613, \"neat's-foot\": 5614, 'following': 5615, 'hearts': 5616, 'cletus_spuckler:': 5617, 'breath': 5618, 'krusty_the_clown:': 5619, 'peter_buck:': 5620, 'kick-ass': 5621, 'anderson': 5622, 'new': 5623, 'forgot': 5624, 'chip': 5625, 'unfamiliar': 5626, 'civil': 5627, 'eyeballs': 5628, 'paint': 5629, 'congoleum': 5630, 'liver': 5631, 'f-l-a-n-r-d-s': 5632, 'sweeter': 5633, \"what'd\": 5634, 'ferry': 5635, 'sour': 5636, 'badmouth': 5637, 'skydiving': 5638, 'aristotle:': 5639, 'street': 5640, \"what'll\": 5641, 'crack': 5642, 'smokes': 5643, 'undermine': 5644, 'incredulous': 5645, 'heavyweight': 5646, 'cable': 5647, 'effervescent': 5648, 'blubberino': 5649, 'bridges': 5650, 'invite': 5651, 'hangout': 5652, 'seymour_skinner:': 5653, 'who': 5654, 'director:': 5655, 'wage': 5656, 'escort': 5657, \"changin'\": 5658, 'supply': 5659, 'sells': 5660, 'cop': 5661, 'carney': 5662, 'anyway': 5663, 'pink': 5664, 'so': 5665, 'caused': 5666, 'crappy': 5667, 'undies': 5668, 'france': 5669, 'majority': 5670, 'so-called': 5671, 'wine': 5672, 'overstressed': 5673, 'spinning': 5674, 'looking': 5675, 'happened': 5676, 'raggie': 5677, 'kidnaps': 5678, 'starla:': 5679, 'felt': 5680, 'valuable': 5681, 'sorry': 5682, 'duffed': 5683, 'close': 5684, 'menace': 5685, 'poison': 5686, 'awareness': 5687, 'hitchhike': 5688, 'duff': 5689, 'singing/pushing': 5690, 'fireball': 5691, 'aerospace': 5692, 'factor': 5693, 'worst': 5694, \"poisonin'\": 5695, 'dumbass': 5696, 'designated': 5697, 'seminar': 5698, 'last': 5699, 'tom': 5700, 'prices': 5701, 'relative': 5702, 'dea-d-d-dead': 5703, 'shhh': 5704, 'virility': 5705, 'king': 5706, 'sideshow_mel:': 5707, 'effect': 5708, 'discussing': 5709, 'quotes': 5710, 'fired': 5711, 'all:': 5712, 'admirer': 5713, 'decision': 5714, 'popular': 5715, 'mock-up': 5716, 'lifts': 5717, 'voicemail': 5718, 'milhouse_van_houten:': 5719, 'blobbo': 5720, 'twelve-step': 5721, 'election': 5722, 'permanent': 5723, 'suits': 5724, 'suspect': 5725, 'chug-monkeys': 5726, \"i-i'll\": 5727, 'insurance': 5728, 'oooo': 5729, 'ron': 5730, 'tipsy': 5731, 'handing': 5732, \"tester's\": 5733, 'breathless': 5734, 'button': 5735, 'steaming': 5736, 'grub': 5737, 'showed': 5738, 'benjamin': 5739, \"you'd\": 5740, 'guinea': 5741, \"washin'\": 5742, 'vote': 5743, 'wrestling': 5744, 'embarrassing': 5745, 'invented': 5746, 'eating': 5747, 'moe_recording:': 5748, '||dash||': 5749, 'parking': 5750, 'freaking': 5751, 'support': 5752, 'johnny': 5753, 'wins': 5754, 'sketch': 5755, 'cologne': 5756, 'mindless': 5757, 'wayne:': 5758, 'flowers': 5759, 'sotto': 5760, 'freak': 5761, 'gonna': 5762, 'unbelievably': 5763, 'guff': 5764, 'conspiratorial': 5765, 'larson': 5766, 'experienced': 5767, 'evasive': 5768, 'dealer': 5769, 'paris': 5770, 'edelbrock': 5771, 'infor': 5772, 'blamed': 5773, 'looser': 5774, 'hispanic_crowd:': 5775, 'innocent': 5776, 'kennedy': 5777, 'sucks': 5778, 'rebuilt': 5779, 'tornado': 5780, 'kickoff': 5781, 'appointment': 5782, \"what'sa\": 5783, 'manfred': 5784, 'newest': 5785, 'skoal': 5786, \"ladies'\": 5787, 'roz:': 5788, 'laughter': 5789, 'lookalike:': 5790, 'assassination': 5791, 'e-z': 5792, 'sucking': 5793, 'stupidest': 5794, 'like': 5795, 'engraved': 5796, 'sunk': 5797, 'harm': 5798, 'booth': 5799, 'luxury': 5800, 'badges': 5801, 'grave': 5802, 'belly-aching': 5803, 'wigs': 5804, 'died': 5805, 'small_boy:': 5806, 'future': 5807, 'solves': 5808, 'ocean': 5809, 'hand': 5810, 'mail': 5811, 'tow-talitarian': 5812, 'with': 5813, 'dame': 5814, 'quebec': 5815, 'vulgar': 5816, 'caholic': 5817, 'principal': 5818, 'louse': 5819, 'vanities': 5820, 'rom': 5821, 'finance': 5822, 'musta': 5823, 'horror': 5824, 'tobacky': 5825, 'dumbbell': 5826, 'measurements': 5827, 'prohibit': 5828, 'bowling': 5829, 'riveting': 5830, 'hustle': 5831, 'letters': 5832, 'sniffles': 5833, 'sassy': 5834, 'kako:': 5835, 'waitress': 5836, 'compliment': 5837, 'bucket': 5838, 'going': 5839, 'cruise': 5840, \"breakin'\": 5841, 'remembers': 5842, 'greedy': 5843, 'sports': 5844, 'surprising': 5845, 'arts': 5846, 'kind': 5847, 'cerebral': 5848, 'clips': 5849, 'chug': 5850, 'manuel': 5851, 'think': 5852, 'robbers': 5853, 'pants': 5854, 'invisible': 5855, 'open': 5856, 'elaborate': 5857, 'normals': 5858, 'souped': 5859, 'photo': 5860, 'pussycat': 5861, 'about': 5862, 'quadruple-sec': 5863, 'she': 5864, 'giant': 5865, 'gentles': 5866, 'kirk_van_houten:': 5867, 'frozen': 5868, 'horns': 5869, 'chauffeur': 5870, 'bars': 5871, 'vestigial': 5872, 'suppose': 5873, 'knowledge': 5874, 'holidays': 5875, 'milhouses': 5876, 'clears': 5877, 'industry': 5878, 'slyly': 5879, 'nordiques': 5880, 'tanking': 5881, 'exultant': 5882, 'under': 5883, 'known': 5884, 'bauer': 5885, 'rasputin': 5886, 'waylon_smithers:': 5887, 'thanks': 5888, 'easygoing': 5889, 'count': 5890, 'wreck': 5891, 'eyed': 5892, 'magnanimous': 5893, 'miserable': 5894, 'explanation': 5895, 'easter': 5896, 'mirthless': 5897, 'memories': 5898, 'reading': 5899, 'complaint': 5900, 'crystal': 5901, 'boat': 5902, 'romance': 5903, '50-60': 5904, 'haplessly': 5905, 'complete': 5906, 'stamp': 5907, 'winston': 5908, 'log': 5909, 'honey': 5910, 'file': 5911, 'tomahto': 5912, 'the': 5913, 'credit': 5914, 'necklace': 5915, 'asleep': 5916, 'character': 5917, 'improv': 5918, 'list': 5919, 'joe': 5920, 'caper': 5921, 'nose': 5922, 'amid': 5923, 'explaining': 5924, 'sex': 5925, 'two-thirds-empty': 5926, 'germs': 5927, 'maya:': 5928, 'compete': 5929, 'coms': 5930, 'counter': 5931, \"brady's\": 5932, \"d'ya\": 5933, 'technical': 5934, 'novel': 5935, 'class': 5936, 'tv_father:': 5937, 'ohh': 5938, 'smoker': 5939, 'squeal': 5940, 'ease': 5941, 'seconds': 5942, 'bleak': 5943, 'trusted': 5944, 'presto:': 5945, 'sinkhole': 5946, 'peeved': 5947, 'doom': 5948, 'until': 5949, 'supermodel': 5950, 'rubs': 5951, 'evergreen': 5952, \"other's\": 5953, 'harder': 5954, 'presently': 5955, 'certain': 5956, 'nods': 5957, 'warmth': 5958, 'reactions': 5959, 'tv_announcer:': 5960, \"eatin'\": 5961, 'teddy': 5962, 'heavens': 5963, 'savagely': 5964, 'unfortunately': 5965, 'further': 5966, 'puffy': 5967, 'ralph_wiggum:': 5968, 'firmly': 5969, 'argue': 5970, 'without': 5971, 'sorts': 5972, 'burt': 5973, 'dreamed': 5974, 'monkey': 5975, 'liser': 5976, 'mostrar': 5977, 'feminine': 5978, 'carnival': 5979, 'throwing': 5980, 'novelty': 5981, 'castle': 5982, 'ambrosia': 5983, 'kicks': 5984, 'joint': 5985, 'carl': 5986, 'panicky': 5987, 'whim': 5988, \"others'\": 5989, 'everyone': 5990, 'cream': 5991, 'informant': 5992, 'look': 5993, 'belong': 5994, 'crying': 5995, 'law-abiding': 5996, 'during': 5997, 'sloppy': 5998, 'closing': 5999, 'canoodling': 6000, 'baloney': 6001, 'sat': 6002, 'wolfcastle': 6003, 'sweat': 6004, 'lenny:': 6005, 'sigh': 6006, 'strongly': 6007, \"man's_voice:\": 6008, 'dan_gillick:': 6009, 'fondly': 6010, 'deserve': 6011, 'suing': 6012, 'jack': 6013, 'whaddya': 6014, \"battin'\": 6015, 'temp': 6016, 'ribbon': 6017, 'aged_moe:': 6018, \"wait'll\": 6019, \"crawlin'\": 6020, 'poin-dexterous': 6021, 'earpiece': 6022, 'links': 6023, 'sadistic_barfly:': 6024, 'hoped': 6025, \"duelin'\": 6026, 'nards': 6027, \"how's\": 6028, 'federal': 6029, 'story': 6030, 'customer': 6031, 'gary_chalmers:': 6032, 'bellyaching': 6033, 'had': 6034, 'uses': 6035, \"they've\": 6036, 'annoyed': 6037, 'flips': 6038, 'eaten': 6039, 'resist': 6040, 'honeys': 6041, 'yoo': 6042, 'wife': 6043, 'coyly': 6044, 'perhaps': 6045, 'adopted': 6046, 'u': 6047, 'procedure': 6048, 'couple': 6049, 'juice': 6050, 'star': 6051, 'agents': 6052, 'musical': 6053, 'pack': 6054, 'toys': 6055, 'rolling': 6056, 'shush': 6057, 'pro': 6058, 'kissed': 6059, 'incarcerated': 6060, 'bobo': 6061, 'hot-rod': 6062, 'jump': 6063, 'betrayed': 6064, \"beggin'\": 6065, 'barney': 6066, 'fabulous': 6067, 'really': 6068, 'hugh': 6069, 'father': 6070, \"mother's\": 6071, 'intense': 6072, 'newly-published': 6073, 'seek': 6074, 'cheat': 6075, 'gin-slingers': 6076, 'sneaky': 6077, 'become': 6078, 'laramie': 6079, 'answers': 6080, 'second': 6081, \"heat's\": 6082, 'languages': 6083, 'teen': 6084, 'exciting': 6085, 'dealie': 6086, 'lingus': 6087, 'bonfire': 6088, 'confidence': 6089, 'pickled': 6090, 'as': 6091, 'swan': 6092, 'non-losers': 6093, 'frat': 6094, 'agent': 6095, 'flailing': 6096, 'bagged': 6097, 'weep': 6098, 'launch': 6099, 'then': 6100, 'sec': 6101, 'elite': 6102, 'sap': 6103, 'reflected': 6104, 'chub': 6105, 'fix': 6106, 'justice': 6107, 'ooo': 6108, 'hollowed-out': 6109, 'isotopes': 6110, 'soft': 6111, \"drexel's\": 6112, 'gordon': 6113, 'nitwit': 6114, 'pride': 6115, 'mixed': 6116, 'familiar': 6117, 'tubman': 6118, 'charge': 6119, 'bright': 6120, 'foam': 6121, 'boys': 6122, 'intention': 6123, 'probably': 6124, 'muffled': 6125, \"seein'\": 6126, 'upon': 6127, '_timothy_lovejoy:': 6128, 'passenger': 6129, 'tee': 6130, 'gasps': 6131, 'smile': 6132, 'drop-off': 6133, 'beep': 6134, 'season': 6135, 'sympathetic': 6136, 'wonderful': 6137, 'sea': 6138, 'tiny': 6139, 'hilton': 6140, 'whisper': 6141, 'neat': 6142, 'swings': 6143, 'poker': 6144, 'young': 6145, 'smelly': 6146, 'eternity': 6147, 'thru': 6148, 'contract': 6149, 'kentucky': 6150, 'thirty-thousand': 6151, 'high-definition': 6152, 'yew': 6153, 'buddy': 6154, 'almond': 6155, 'proposition': 6156, 'updated': 6157, \"'cept\": 6158, '530': 6159, 'celebrate': 6160, 'bonding': 6161, 'fan': 6162, 'espn': 6163, 'losing': 6164, 'tummies': 6165, \"summer's\": 6166, 'wasting': 6167, 'woulda': 6168, 'increased': 6169, 'cappuccino': 6170, 'tenor:': 6171, 'material': 6172, 'etc': 6173, 'nasty': 6174, 'ass': 6175, 'meatpies': 6176, 'past': 6177, 'paying': 6178, 'ummmmmmmmm': 6179, 'rationalizing': 6180, 'various': 6181, 'address': 6182, 'regulars': 6183, 'am': 6184, 'rub': 6185, 'pine': 6186, 'teenage_homer:': 6187, 'shag': 6188, 'temple': 6189, \"one's\": 6190, 'beneath': 6191, 'mudflap': 6192, 'enhance': 6193, 'step': 6194, 'backing': 6195, 'itself': 6196, '_powers:': 6197, 'elizabeth': 6198, 'platinum': 6199, 'mistakes': 6200, 'donut': 6201, 'pissed': 6202, 'forty-two': 6203, 'dogs': 6204, 'y-you': 6205, 'reunion': 6206, 'memory': 6207, 'jubilant': 6208, 'fast': 6209, 'con': 6210, 'theme': 6211, 'kazoo': 6212, 'swallowed': 6213, 'challenge': 6214, 'politics': 6215, 'enemy': 6216, 'karaoke_machine:': 6217, \"y'see\": 6218, 'purse': 6219, 'pay': 6220, 'beligerent': 6221, 'williams': 6222, 'cheer': 6223, 'dive': 6224, 'ah': 6225, 'deadly': 6226, \"stealin'\": 6227, 'loaded': 6228, 'picnic': 6229, 'cutest': 6230, \"payin'\": 6231, 'oils': 6232, 'piece': 6233, 'hands': 6234, 'socratic': 6235, 'texan': 6236, 'horrified': 6237, 'bragging': 6238, 'philosophical': 6239, 'woozy': 6240, 'flophouse': 6241, 'kill': 6242, 'airport': 6243, 'while': 6244, 'pyramid': 6245, 'dollar': 6246, 'flexible': 6247, 'legs:': 6248, 'aah': 6249, 'failed': 6250, 'case': 6251, 'reciting': 6252, 'cigarette': 6253, 'notices': 6254, 'looooooooooooooooooong': 6255, 'inspiring': 6256, 'winning': 6257, 'babies': 6258, 'hunger': 6259, 'are': 6260, 'nap': 6261, \"show's\": 6262, 'needed': 6263, 'try': 6264, 'ads': 6265, 'breaking': 6266, 'part': 6267, 'owes': 6268, 'stirring': 6269, 'mm-hmm': 6270, 'chinua': 6271, 'watered': 6272, 'democracy': 6273, 'olive': 6274, 'but': 6275, 'ruby-studded': 6276, 'shall': 6277, 'frosty': 6278, 'kahlua': 6279, 'bad': 6280, 'libido': 6281, 'cecil': 6282, 'anyhoo': 6283, 'shrugging': 6284, 'choices:': 6285, 'ned': 6286, 'patrons:': 6287, 'du': 6288, 'awkwardly': 6289, 'whether': 6290, 'darjeeling': 6291, 'much': 6292, 'driving': 6293, 'rig': 6294, 'cecil_terwilliger:': 6295, 'fellas': 6296, 'full-time': 6297, 'heartless': 6298, 'dateline:': 6299, \"aren'tcha\": 6300, 'congratulations': 6301, 'either': 6302, 'control': 6303, 'sticker': 6304, \"doctor's\": 6305, 'pin': 6306, 'je': 6307, 'pure': 6308, 'catholic': 6309, 'north': 6310, 'david': 6311, 'eight-year-old': 6312, \"england's\": 6313, 'planning': 6314, 'dearest': 6315, 'lenford': 6316, 'represent': 6317, 'what': 6318, 'sent': 6319, 'depressed': 6320, 'naturally': 6321, 'kang:': 6322, 'puke-pail': 6323, 'thumb': 6324, 'saying': 6325, 'understanding': 6326, 'tune': 6327, 'r': 6328, 'hostages': 6329, \"callin'\": 6330, 'someday': 6331, 'fair': 6332, 'raking': 6333, 'thirty-nine': 6334, 'clap': 6335, 'based': 6336, 'mahatma': 6337, 'hurry': 6338, 'convenient': 6339, 'thawing': 6340, 'fastest': 6341, 'present': 6342, 'sobo': 6343, 'eventually': 6344, 'flying': 6345, \"yesterday's\": 6346, \"cat's\": 6347, \"neighbor's\": 6348, 'judge_snyder:': 6349, \"usin'\": 6350, 'wok': 6351, 'sometime': 6352, 'bring': 6353, 'crimes': 6354, 'learned': 6355, 'vulnerable': 6356, 'gardens': 6357, 'à': 6358, 'soaps': 6359, 'saget': 6360, 'ladder': 6361, 'other_book_club_member:': 6362, \"thing's\": 6363, 'starlets': 6364, 'wake': 6365, 'klown': 6366, 'lowering': 6367, 'zinged': 6368, 'yee-ha': 6369, 'offended': 6370, 'barbara': 6371, 'splattered': 6372, 'shark': 6373, 'detail': 6374, 'shyly': 6375, 'shack': 6376, 'courteous': 6377, 'bigger': 6378, 'wraps': 6379, 'padres': 6380, 'strain': 6381, 'discuss': 6382, 'medieval': 6383, 'officials': 6384, 'funds': 6385, 'start': 6386, 'faced': 6387, 'homeland': 6388, 'craphole': 6389, 'eighty-one': 6390, 'cars': 6391, 'treats': 6392, 'pontiff': 6393, 'looked': 6394, 'knees': 6395, 'y': 6396, 'peanuts': 6397, 'snitch': 6398, 'example': 6399, 'stagy': 6400, 'hang': 6401, 'poet': 6402, 'puke-holes': 6403, 'unjustly': 6404, 'crapmore': 6405, 'sam:': 6406, 'heatherton': 6407, 'brakes': 6408, 'crowbar': 6409, 'dreamily': 6410, 'babar': 6411, \"chewin'\": 6412, 'tragedy': 6413, 'donuts': 6414, 'flaming': 6415, 'simpsons': 6416, 'resigned': 6417, 'gunk': 6418, 'slick': 6419, 'collateral': 6420, 'destroyed': 6421, \"aren't\": 6422, 'chick': 6423, 'grudgingly': 6424, 'matter': 6425, '91': 6426, 'soaking': 6427, 'gay': 6428, 'health': 6429, 'umm': 6430, 'catch': 6431, 'navy': 6432, 'subject': 6433, 'bubbles-in-my-nose-y': 6434, 'pretzel': 6435, \"collector's\": 6436, 'highest': 6437, 'presentable': 6438, 'schabadoo': 6439, 'schemes': 6440, 'man_with_crazy_beard:': 6441, 'pint': 6442, 'published': 6443, 'drives': 6444, 'mm': 6445, 'disgrace': 6446, 'international': 6447, \"fallin'\": 6448, 'muslim': 6449, 'deliberate': 6450, 'jimmy': 6451, 'wondering': 6452, 'information': 6453, 'shoo': 6454, 'lurks': 6455, 'sniper': 6456, 'ziffcorp': 6457, 'excavating': 6458, 'richard': 6459, 'cocking': 6460, 'phlegm': 6461, 'nursemaid': 6462, 'punkin': 6463, 'brockman': 6464, \"fryer's\": 6465, \"spyin'\": 6466, 'living': 6467, 'trucks': 6468, 'xx': 6469, 'self-esteem': 6470, 'troubles': 6471, 'renee': 6472, 'disappear': 6473, \"tellin'\": 6474, 'test': 6475, 'speech': 6476, 'fighting': 6477, 'dirty': 6478, 'corpses': 6479, 'smoothly': 6480, 'cheery': 6481, 'gear-head': 6482, 'head-gunk': 6483, 'begin': 6484, 'difficult': 6485, 'kim_basinger:': 6486, 'chicken': 6487, 'peppers': 6488, 'sixty': 6489, 'gang': 6490, 'ford': 6491, \"tap-pullin'\": 6492, 'starve': 6493, 'heads': 6494, 'macgregor': 6495, 'wantcha': 6496, 'co-sign': 6497, 'goldarnit': 6498, 'territorial': 6499, 'arms': 6500, 'sweetheart': 6501, 'ahhhh': 6502, 'clock': 6503, 'whirlybird': 6504, 'barney_gumble:': 6505, 'lookalikes': 6506, \"beer's\": 6507, 'amends': 6508, 'too': 6509, 'warily': 6510, 'nine': 6511, 'dennis_kucinich:': 6512, \"they'd\": 6513, 'looks': 6514, \"table's\": 6515, 'crooks': 6516, 'those': 6517, 'join': 6518, 'design': 6519, 'ne': 6520, 'drawn': 6521, '10:15': 6522, '1-800-555-hugs': 6523, 'sports_announcer:': 6524, 'and-and': 6525, 'little_man:': 6526, 'anymore': 6527, 'couch': 6528, 'save': 6529, 'mines': 6530, 'catty': 6531, 'renee:': 6532, 'undated': 6533, 'happy': 6534, 'lucky': 6535, 'oak': 6536, 'hems': 6537, 'social': 6538, 'drunks': 6539, 'massage': 6540, 'eighty-seven': 6541, \"treatin'\": 6542, 'tofu': 6543, 'monroe': 6544, 'rope': 6545, 'albeit': 6546, 'trade': 6547, 'sarcastic': 6548, 'hers': 6549, 'glad': 6550, 'killing': 6551, 'perking': 6552, 'hellhole': 6553, 'sips': 6554, 'surprise': 6555, 'murmurs': 6556, 'you-need-man': 6557, 'kyoto': 6558, \"brockman's\": 6559, 'gas': 6560, 'conditioner': 6561, 'faces': 6562, 'sampler': 6563, 'love-matic': 6564, 'mine': 6565, 'beanbag': 6566, 'specializes': 6567, \"that's\": 6568, 'spare': 6569, 'gore': 6570, 'lisa_simpson:': 6571, 'precious': 6572, 'bail': 6573, 'tasimeter': 6574, 'left': 6575, 'grandkids': 6576, 'potatoes': 6577, 'rims': 6578, 'whistling': 6579, 'powers': 6580, 'fingers': 6581, 'show-off': 6582, 'winded': 6583, 'text': 6584, 'brainiac': 6585, 'treehouse': 6586, 'sen': 6587, 'captain:': 6588, 'sagacity': 6589, 'cadillac': 6590, 'pointed': 6591, 'six': 6592, 'bar_rag:': 6593, 'bathed': 6594, 'adrift': 6595, 'usually': 6596, 'win': 6597, \"secret's\": 6598, 'veteran': 6599, 'women': 6600, \"nothin'\": 6601, 'klingon': 6602, 'belch': 6603, 'boring': 6604, 'muhammad': 6605, 'rat-like': 6606, 'idealistic': 6607, 'dignity': 6608, 'keys': 6609, 'ball-sized': 6610, 'rule': 6611, 'worldly': 6612, 'end': 6613, 'gluten': 6614, 'basement': 6615, 'scratcher': 6616, 'population': 6617, 'ladies': 6618, 'preparation': 6619, 'stinger': 6620, 'sheets': 6621, 'band': 6622, 'plucked': 6623, 'unhook': 6624, 'carll': 6625, 'delighted': 6626, \"edna's\": 6627, 'reads': 6628, 'bones': 6629, 'reopen': 6630, 'puts': 6631, 'read': 6632, 'sing-song': 6633, 'sadder': 6634, 'rug': 6635, 'agree': 6636, 'unusually': 6637, 'aboard': 6638, 'pre-recorded': 6639, 'grrrreetings': 6640, 'commit': 6641, 'contemplated': 6642, 'manboobs': 6643, \"car's\": 6644, 'vacuum': 6645, 'greystash': 6646, 'praise': 6647, 'sincerely': 6648, 'later': 6649, 'shelbyville': 6650, 'strangles': 6651, 'candidate': 6652, 'grains': 6653, 'penny': 6654, 'hangs': 6655, 'stops': 6656, 'position': 6657, 'when-i-get-a-hold-of-you': 6658, 'scientists': 6659, 'bartending': 6660, 'glyco-load': 6661, \"somethin':\": 6662, 'supervising': 6663, 'japanese': 6664, 'tactful': 6665, 'lost': 6666, 'intrigued': 6667, '70': 6668, 'typed': 6669, 'patron_#1:': 6670, 'diets': 6671, 'sprawl': 6672, 'evil': 6673, 'assert': 6674, 'shocked': 6675, 'prayers': 6676, 'lately': 6677, 'darkness': 6678, 'today': 6679, 'fluoroscope': 6680, 'squashing': 6681, 'heh-heh': 6682, 'hundred': 6683, 'confused': 6684, 'reason': 6685, 'stole': 6686, 'stooges': 6687, 'rhyme': 6688, 'neck': 6689, \"she'd\": 6690, 'brick': 6691, 'vengeful': 6692, 'phasing': 6693, 'windex': 6694, 'picture': 6695, 'remember': 6696, 'iran': 6697, 'parenting': 6698, 'geysir': 6699, 'barn': 6700, 'batmobile': 6701, 'tester': 6702, 'superdad': 6703, 'wiggle': 6704, 'peaked': 6705, 'here': 6706, 'dishonor': 6707, \"moe's\": 6708, \"snappin'\": 6709, 'inspired': 6710, 'release': 6711, 'pennies': 6712, 'professor': 6713, 'anniversary': 6714, 'grandmother': 6715, 'five-fifteen': 6716, 'reaction': 6717, 'catching': 6718, 'generally': 6719, 'syndicate': 6720, 'nor': 6721, 'continued': 6722, 'fifty': 6723, 'beat': 6724, 'brilliant': 6725, 'welcome': 6726, 'tick': 6727, \"someone's\": 6728, \"football's\": 6729, 'cents': 6730, 'huh': 6731, 'anger': 6732, 'glamour': 6733, 'self': 6734, 'tatum': 6735, 'ballot': 6736, 'actress': 6737, 'signal': 6738, 'fry': 6739, 'white': 6740, 'get': 6741, 'delicious': 6742, 'amanda': 6743, 'versus': 6744, 'skinheads': 6745, 'pond': 6746, 'cooking': 6747, \"something's\": 6748, 'strictly': 6749, 'murderously': 6750, 'slays': 6751, 'coward': 6752, 'stayed': 6753, 'times': 6754, 'cares': 6755, 'canyoner-oooo': 6756, 'death': 6757, 'usual': 6758, 'refreshingness': 6759, 'spellbinding': 6760, 'anywhere': 6761, 'ingredient': 6762, 'compliments': 6763, 'stretch': 6764, 'alls': 6765, \"clancy's\": 6766, 'hard': 6767, 'infatuation': 6768, \"man'd\": 6769, 'plants': 6770, 'incognito': 6771, \"makin'\": 6772, 'name': 6773, 'advantage': 6774, 'dean': 6775, 'stiffening': 6776, 'woo-hoo': 6777, 'fortress': 6778}\n",
      "\n",
      "\n",
      "=========\n",
      "\n",
      "{0: 'hi', 1: 'pursue', 2: 'forced', 3: 'branding', 4: 'handling', 5: 'bunch', 6: 'bumpy-like', 7: 'habitrail', 8: 'ripper', 9: \"pullin'\", 10: 'dennis_conroy:', 11: 'ihop', 12: 'pretend', 13: 'fires', 14: 'imagine', 15: 'sang', 16: 'sir', 17: 'bartholomé:', 18: 'ninth', 19: 'deep', 20: 'shopping', 21: 'ignorant', 22: 'completing', 23: 'hit', 24: 'parasol', 25: 'zeal', 26: \"comin'\", 27: 'befouled', 28: 'rub-a-dub', 29: 'freedom', 30: 'creature', 31: 'hour', 32: 'liable', 33: 'prep', 34: 'stacey', 35: 'boozehound', 36: 'surgery', 37: 'foundation', 38: 'glen', 39: 'miracle', 40: 'maher', 41: 'into', 42: 'shop', 43: 'hunting', 44: 'admiring', 45: 'mmm-hmm', 46: 'julep', 47: 'funniest', 48: 'michelin', 49: 'of', 50: 'bachelorhood', 51: '6', 52: 'gutenberg', 53: 'tracks', 54: 'goo', 55: 'hello', 56: 'beloved', 57: 'guttural', 58: 'bid', 59: 'hooray', 60: 'bump', 61: 'pernt', 62: 'melodramatic', 63: 'picky', 64: \"getting'\", 65: 'being', 66: 'rip-off', 67: 'cleaning', 68: 'nooo', 69: 'once', 70: 'actor', 71: 'fonda', 72: 'gallon', 73: 'haws', 74: 'course', 75: 'minors', 76: 'happiness', 77: 'harv:', 78: 'smitty:', 79: 'spits', 80: 'sesame', 81: 'clearly', 82: 'bret:', 83: 'passion', 84: 'possibly', 85: 'needs', 86: 'everything', 87: 'worthless', 88: 'wenceslas', 89: 'self-centered', 90: 'lachrymose', 91: \"poundin'\", 92: 'politicians', 93: 'amiable', 94: 'self-made', 95: 're-al', 96: \"mtv's\", 97: 'cobbling', 98: 'dumpster', 99: 'kidney', 100: 'scout', 101: 'stagehand:', 102: 'inquiries', 103: 'tonight', 104: 'lot', 105: 'mona_simpson:', 106: 'mel', 107: 'score', 108: 'ran', 109: 'may', 110: 'bloodball', 111: \"guy's\", 112: 'doll-baby', 113: 'weight', 114: 'brandy', 115: \"tramp's\", 116: 'loves', 117: 'deeper', 118: 'villanova', 119: 'ways', 120: 'fancy', 121: \"enjoyin'\", 122: 'dinks', 123: 'something', 124: 'doubt', 125: 'temporarily', 126: \"nothin's\", 127: 'flea:', 128: 'jukebox_record:', 129: 'pass', 130: 'junior', 131: 'evening', 132: 'pope', 133: 'pats', 134: \"g'ahead\", 135: 'traffic', 136: 'nevada', 137: 'debonair', 138: 'aquafresh', 139: 'combine', 140: 'typing', 141: 'phase', 142: 'uhhhh', 143: 'recorder', 144: 'entrance', 145: 'latin', 146: 'idioms', 147: 'whispered', 148: 'wistful', 149: 'mole', 150: 'grabbing', 151: 'oughtta', 152: \"who'da\", 153: 'this:', 154: 'lead', 155: 'sangre', 156: 'hitler', 157: 'radiator', 158: 'twenty', 159: 'happens', 160: 'anything', 161: 'beating', 162: 'rocks', 163: 'friendship', 164: 'stu', 165: 'volunteer', 166: 'singers:', 167: 'care', 168: 'sight-unseen', 169: 'outta', 170: 'mind-numbing', 171: 'blossoming', 172: 'selma_bouvier:', 173: 'obvious', 174: 'delivery_man:', 175: 'pity', 176: 'oblivious', 177: 'thousands', 178: 'puff', 179: 'two-drink', 180: 'slipped', 181: 'rebuttal', 182: 'dispenser', 183: 'sleep', 184: 'tolerable', 185: 'haiti', 186: \"c'mom\", 187: 'expense', 188: 'impeach', 189: 'cab_driver:', 190: 'wally', 191: 'bust', 192: \"man's\", 193: 'tell', 194: 'buzziness', 195: 'put', 196: 'beverage', 197: 'toilet', 198: 'twelveball', 199: 'stick', 200: '1895', 201: 'business', 202: 'wad', 203: 'poster', 204: 'apulina', 205: 'high', 206: 'ends', 207: 'whole', 208: 'hugh:', 209: 'kitchen', 210: 'iranian', 211: 'composer', 212: 'source', 213: 'businessman_#2:', 214: 'backwards', 215: 'verticality', 216: 'irrelevant', 217: 'diet', 218: 'coat', 219: 'using', 220: 'purveyor', 221: 'encores', 222: 'bubble', 223: 'jeff_gordon:', 224: 'shaker', 225: 'shtick', 226: 'cleveland', 227: 'authorized', 228: 'deer', 229: '/', 230: 'vengeance', 231: 'pit', 232: 'practice', 233: 'pledge', 234: 'compare', 235: 'sedaris', 236: 'lady', 237: 'anti-intellectualism', 238: 'betcha', 239: 'bullet-proof', 240: 'perfunctory', 241: 'sealed', 242: 'private', 243: 'pitcher', 244: 'trapped', 245: 'stripes', 246: 'snake', 247: 'correcting', 248: 'person', 249: 'freaky', 250: 'yourself', 251: 'understood:', 252: 'granted', 253: 'gentlemen', 254: 'crestfallen', 255: 'prettiest', 256: 'spot', 257: 'hook', 258: 'ridiculous', 259: 'sick', 260: 'root', 261: 'dating', 262: 'cap', 263: 'focused', 264: 'noosey', 265: 'dead', 266: 'monday', 267: 'knuckle-dragging', 268: 'rafters', 269: 'written', 270: 'marquee', 271: 'third', 272: 'move', 273: 'entirely', 274: 'natured', 275: 'know', 276: 'blade', 277: 'unable', 278: 'round', 279: 'fruit', 280: 'feels', 281: 'copy', 282: 'cash', 283: 'pal', 284: 'harmony', 285: 'bursts', 286: 'thesaurus', 287: 'town', 288: 'skins', 289: 'patting', 290: 'attitude', 291: 'botanical', 292: 'buttocks', 293: 'professor_jonathan_frink:', 294: 'ordered', 295: 'hiring', 296: 'forever', 297: 'sideshow_bob:', 298: 'acronyms', 299: 'vehicle', 300: 'fl', 301: \"renovatin'\", 302: 'three-man', 303: 'at', 304: 'pitch', 305: 'paints', 306: 'totalitarians', 307: 'supreme', 308: \"i'unno\", 309: 'rude', 310: 'smiling', 311: 'crunch', 312: 'that', 313: 'mafia', 314: 'uh-huh', 315: 'system', 316: 'buddha', 317: 'conference', 318: 'snotball', 319: 'gotcha', 320: 'compels', 321: 'mayor_joe_quimby:', 322: 'ton', 323: 'j', 324: \"how're\", 325: 'benjamin:', 326: 'salvador', 327: 'wheels', 328: 'real', 329: 'borrow', 330: 'whistles', 331: 'doors', 332: 'leprechaun', 333: 'since', 334: 'isle', 335: 'video', 336: 'tapping', 337: 'joined', 338: 'ohmygod', 339: 'moment', 340: 'milhouse', 341: 'walther_hotenhoffer:', 342: 'boxer', 343: 'countryman', 344: 'thinking', 345: 'tar-paper', 346: 'option', 347: 'parrot', 348: \"they'll\", 349: 'onions', 350: 'stained-glass', 351: 'guys', 352: 'depository', 353: 'state', 354: 'trip', 355: 'luckiest', 356: 'offer', 357: 'awed', 358: 'shrugs', 359: 'cruiser', 360: 'watashi', 361: 'danish', 362: 'handoff', 363: 'hop', 364: 'stalwart', 365: 'term', 366: 'village', 367: 'already', 368: 'don', 369: 'broncos', 370: 'sweaty', 371: 'pigs', 372: 'have', 373: 'jobless', 374: 'onion', 375: 'van', 376: 'ah-ha', 377: 'miss_lois_pennycandy:', 378: 'winces', 379: \"hangin'\", 380: 'inserted', 381: 'tremendous', 382: 'considering', 383: 'boston', 384: 'rev', 385: 'sieben-gruben', 386: 'synthesize', 387: 'scanning', 388: 'hole', 389: 'sleeps', 390: 'salvation', 391: 'wrong', 392: 'plastered', 393: 'planet', 394: 'lifters', 395: 'scum-sucking', 396: 'hibachi', 397: 'mouths', 398: 'bald', 399: 'writers', 400: 'refreshing', 401: 'addiction', 402: 'dumptruck', 403: 'upn', 404: 'ho-ly', 405: 'dames', 406: 'exhibit', 407: 'reentering', 408: 'shutup', 409: 'engine', 410: 'stillwater:', 411: 'diving', 412: 'vodka', 413: 'terrific', 414: 'awesome', 415: 'julienne', 416: 'marched', 417: 'serum', 418: 'device', 419: 'fell', 420: 'cowboys', 421: 'eye-gouger', 422: 'payday', 423: 'hold', 424: 'bless', 425: 'notice', 426: 'chicks', 427: 'gargoyles', 428: 'jewelry', 429: 'dee-fense', 430: 'andrew', 431: 'kneeling', 432: 'test-', 433: 'against', 434: 'roof', 435: \"donatin'\", 436: 'i-i', 437: 'conclusions', 438: 'martini', 439: 'sunglasses', 440: \"foolin'\", 441: 'cat', 442: 'there', 443: 'gossipy', 444: 'popping', 445: 's-a-u-r-c-e', 446: 'lease', 447: 'lifetime', 448: 'yours', 449: 'firing', 450: 'meals', 451: 'fevered', 452: 'gotten', 453: 'slugger', 454: 'ground', 455: 'vigilante', 456: 'guessing', 457: 'dropped', 458: 'blessing', 459: 'customers', 460: 'booger', 461: 'nuts', 462: \"askin'\", 463: 'absolutely', 464: 'post-suicide', 465: 'gorgeous', 466: 'california', 467: 'per', 468: 'accept', 469: 'percent', 470: 'friends', 471: 'dana_scully:', 472: 'immiggants', 473: 'd', 474: 'creates', 475: 'priority', 476: 'mountain', 477: 'food', 478: 'apply', 479: 'deacon', 480: 'proves', 481: 'slow', 482: 'reasonable', 483: 'haikus', 484: 'wonder', 485: 'sober', 486: 'fever', 487: 'right-handed', 488: 'rat', 489: 'audience', 490: 'balloon', 491: 'entertainer', 492: 'wha', 493: 'brainheaded', 494: 'wealthy', 495: 'switched', 496: 'disposal', 497: 'accident', 498: 'th', 499: 'glen:', 500: 'became', 501: 'worked', 502: 'coherent', 503: \"burnin'\", 504: 'fighter', 505: \"number's\", 506: 'whoopi', 507: 'fake', 508: 'orgasmville', 509: 'lend', 510: 'maximum', 511: 'sanitation', 512: 'pizza', 513: '/mr', 514: 'scruffy_blogger:', 515: 'shill', 516: 'force', 517: 'society', 518: 'lips', 519: 'mither', 520: 'nos', 521: 'son-of-a', 522: \"valentine's\", 523: 'swine', 524: 'semi-imported', 525: 'sound', 526: \"ball's\", 527: 'filed', 528: 'occurred', 529: 'bee', 530: 'radioactive', 531: 'massachusetts', 532: \"d'\", 533: 'recorded', 534: 'teriyaki', 535: 'rolled', 536: 'boxcars', 537: 'exact', 538: \"carl's\", 539: 'non-american', 540: 'stupidly', 541: 'billy_the_kid:', 542: 'letter', 543: 'drunk', 544: 'classy', 545: 'princesses', 546: 'forty', 547: 'lance', 548: 'kenny', 549: 'aggravated', 550: 'ointment', 551: 'yes', 552: 'pig', 553: 'nahasapeemapetilon', 554: 'jer', 555: 'corporation', 556: 'mmm', 557: 'ahhh', 558: 'landfill', 559: 'hike', 560: 'hate-hugs', 561: 'victory', 562: 'clearing', 563: 'shaved', 564: 'kemi:', 565: 'exquisite', 566: 'personal', 567: 'occupancy', 568: 'website', 569: 'assume', 570: 'lily-pond', 571: 'wh', 572: 'hammer', 573: 'briefly', 574: 'facebook', 575: \"couldn't\", 576: 'las', 577: 'geyser', 578: 'grain', 579: \"this'll\", 580: 'size', 581: \"won't\", 582: 'swimmers', 583: 'pantry', 584: 'whee', 585: 'homunculus', 586: 'gently', 587: 'spacey', 588: 'hotline', 589: '1979', 590: 'frescas', 591: 'low-blow', 592: 'man_with_tree_hat:', 593: 'clothespins:', 594: 'lipo', 595: 'homer_', 596: 'symphonies', 597: 'ye', 598: 'alfred', 599: 'employees', 600: 'plane', 601: \"can't-believe-how-bald-he-is\", 602: 'bear', 603: 'ho', 604: 'inspire', 605: 'week', 606: 'ninety-six', 607: 'kool', 608: 'dateline', 609: 'all', 610: 'demand', 611: 'and', 612: 'canyonero', 613: 'self-satisfied', 614: 'prize', 615: 'cough', 616: 'recipe', 617: 'sad', 618: 'voice_on_transmitter:', 619: 'weak', 620: 'tongue', 621: 'knocks', 622: 'buffalo', 623: 'premiering', 624: 'walks', 625: 'royal', 626: 'butt', 627: 'bell', 628: 'tow', 629: 'beatings', 630: 'slit', 631: 'stingy', 632: 'carmichael', 633: 'die', 634: 'smugglers', 635: 'relaxing', 636: 'certificate', 637: 'paper', 638: 'bathtub', 639: 'dennis', 640: 'opportunity', 641: 'sector', 642: 'breathtaking', 643: 'superior', 644: 'patty', 645: 'girl', 646: 'thomas', 647: 'pets', 648: 'lorre', 649: 'punching', 650: 'firm', 651: 'nigel_bakerbutcher:', 652: 'wipes', 653: 'sometimes', 654: 'schnapps', 655: 'hear', 656: 'spanish', 657: 'hampstead-on-cecil-cecil', 658: 'prove', 659: 'ultimate', 660: 'advice', 661: 'table', 662: 'b-day', 663: 'jeez', 664: \"fendin'\", 665: 'freeze', 666: 'dropping', 667: 'cross-country', 668: 'koji', 669: 'ehhhhhh', 670: 'bono', 671: 'clincher', 672: 'doctor', 673: 'toe', 674: 'wishes', 675: 'courts', 676: 'poplar', 677: 'piling', 678: 'duff_announcer:', 679: 'young_barfly:', 680: 'fist', 681: 'schizophrenia', 682: 'daniel', 683: 'maintenance', 684: 'gees', 685: 'indeed', 686: 'repairman', 687: 'cheerier', 688: 'straight', 689: 'forgets', 690: 'forehead', 691: 'county', 692: 'sodas', 693: 'larry', 694: 'moe_szyslak:', 695: 'including', 696: \"kids'\", 697: 'newspaper', 698: 'goes', 699: 'tire', 700: 'mistresses', 701: 'protestantism', 702: 'placing', 703: 'testing', 704: 'applesauce', 705: 'grumbling', 706: 'jasper_beardly:', 707: 'indifference', 708: 'irish', 709: 'poetry', 710: 'soon', 711: 'farthest', 712: 'fat_tony:', 713: 'beer-jerks', 714: 'normal', 715: 'boneheaded', 716: 'reconsidering', 717: 'see', 718: 'fausto', 719: 'price', 720: 'clown-like', 721: 'holding', 722: 'lawyer', 723: 'whip', 724: 'return', 725: 'grocery', 726: 'campaign', 727: 'meaning', 728: 'inside', 729: 'lighten', 730: 'cherry', 731: 'guilt', 732: 'displeased', 733: 'investigating', 734: 'threw', 735: 'birth', 736: 'quiet', 737: 'wooooo', 738: 'covers', 739: 'frink', 740: 'mini-beret', 741: 'windshield', 742: 'wipe', 743: 'booze', 744: 'neon', 745: 'laney_fontaine:', 746: 'buried', 747: 'clothes', 748: 'mike_mills:', 749: 'craft', 750: 'eddie', 751: 'shirt', 752: 'awe', 753: 'feisty', 754: 'tastes', 755: 'named', 756: 'frankly', 757: 'exited', 758: 'bye', 759: 'friendly', 760: 'renew', 761: 'jokes', 762: 'aidens', 763: 'adventure', 764: 'neighbors', 765: 'splash', 766: 'big', 767: 'tail', 768: 'noticing', 769: 'exhaust', 770: 'pen', 771: 'sledge-hammer', 772: 'offense', 773: 'cell-ee', 774: 'plywood', 775: 'activity', 776: \"'bout\", 777: 'insulted', 778: 'winks', 779: 'throws', 780: 'followed', 781: 'quick-like', 782: 'sail', 783: 'grandiose', 784: 'specials', 785: 'barney-shaped_form:', 786: 'fictional', 787: 'considering:', 788: 'relax', 789: 'macaulay', 790: 'gum', 791: 'conversations', 792: 'imaginary', 793: 'awwww', 794: \"i'd\", 795: 'having', 796: 'fill', 797: 'lift', 798: 'catch-phrase', 799: 'deliberately', 800: 'repay', 801: 'poured', 802: 'hah', 803: 'vacation', 804: 'two', 805: 'actors', 806: 'obama', 807: 'suffering', 808: \"bringin'\", 809: 'strips', 810: 'drive', 811: 'went', 812: 'missing', 813: \"o'clock\", 814: 'drawer', 815: \"floatin'\", 816: 'southern', 817: 'shakes', 818: 'rector', 819: 'boy', 820: 'acquaintance', 821: 'emporium', 822: 'you', 823: 'pile', 824: 'bushes', 825: 'emergency', 826: \"drawin'\", 827: 'coaster', 828: 'together', 829: 'brave', 830: 'coin', 831: 'oddest', 832: 'train', 833: 'frightened', 834: 'democrats', 835: 'avalanche', 836: 'fridge', 837: 'determined', 838: 'cutie', 839: 'musketeers', 840: 'kadlubowski', 841: 'flourish', 842: 'director', 843: 'players', 844: 'lying', 845: 'wacky', 846: 'spitting', 847: 'app', 848: 'susie-q', 849: 'joy', 850: 'sweetest', 851: 'ticket', 852: \"dog's\", 853: 'ugliness', 854: 'prank', 855: 'field', 856: 'place', 857: 'top', 858: \"town's\", 859: 'devastated', 860: 'stock', 861: 'portentous', 862: 'guiltily', 863: 'k-zug', 864: 'shoulda', 865: 'available', 866: 'koi', 867: 'killjoy', 868: 'indigenous', 869: 'ditched', 870: \"tinklin'\", 871: 'sickens', 872: 'hideous', 873: 'chum', 874: 'breaks', 875: 'cab', 876: 'fixed', 877: 'i', 878: 'prepared', 879: 'presidents', 880: 'frogs', 881: 'touched', 882: 'drummer', 883: 'nachos', 884: 'christopher', 885: 'beeps', 886: 'taught', 887: 'scam', 888: 'sings', 889: 'woooooo', 890: 'insecure', 891: 'lump', 892: 'thirty', 893: \"can'tcha\", 894: '_eugene_blatz:', 895: \"barney's\", 896: 'killed', 897: 'nein', 898: 'taxi', 899: 'boozebag', 900: 'swatch', 901: 'cage', 902: 'geez', 903: 'putting', 904: 'casting', 905: 'brewed', 906: 'loud', 907: 'jewish', 908: 'across', 909: 'backward', 910: 'internet', 911: 'hippies', 912: \"costume's\", 913: 'rain', 914: 'hooters', 915: 'robot', 916: 'morose', 917: 'brain-switching', 918: 'pickles', 919: 'gargoyle', 920: 'plus', 921: 'flat', 922: 'register', 923: 'bull', 924: 'mind', 925: 'chapter', 926: 'imported-sounding', 927: 'delays', 928: 'exchange', 929: 'run', 930: 'mayan', 931: 'naked', 932: 'jerks', 933: 'trapping', 934: 'boxers', 935: 'eyes', 936: 'thirteen', 937: 'teenage_barney:', 938: 'terrorizing', 939: 'moe-heads', 940: 'mcbain', 941: 'four-star', 942: 'traitor', 943: 'mason', 944: 'indignant', 945: 'computer_voice_2:', 946: 'gus', 947: 'oooh', 948: 'party', 949: 'awkward', 950: 'beans', 951: \"'\", 952: 'thoughtless', 953: 'sensible', 954: 'plaintive', 955: 'ura', 956: 'rich', 957: 'english', 958: 'stats', 959: 'sturdy', 960: 'through', 961: 'men:', 962: 'slaves', 963: 'bitter', 964: \"tryin'\", 965: 'friday', 966: 'transylvania', 967: 'braun:', 968: 'back', 969: 'nuked', 970: 'generous', 971: 'damned', 972: 'kids', 973: 'muscle', 974: 'walther', 975: 'huddle', 976: 'bedtime', 977: 'slaps', 978: 'man:', 979: 'hours', 980: 'arguing', 981: 'dull', 982: 'news', 983: 'brawled', 984: 'away', 985: 'mice', 986: 'scientific', 987: 'picked', 988: 'clammy', 989: 'special', 990: 'lucinda', 991: 'killer', 992: 'backbone', 993: 'innocuous', 994: 'led', 995: 'boozy', 996: 'turn', 997: 'publishers', 998: 'starving', 999: 'lindsay_naegle:', 1000: 'billingsley', 1001: 'tabooger', 1002: 'bugging', 1003: 'talk-sings', 1004: 'kansas', 1005: \"gentleman's\", 1006: 'stripe', 1007: 'should', 1008: 'flack', 1009: 'panicked', 1010: 'orders', 1011: 'glass', 1012: 'homers', 1013: 'dice', 1014: 'hide', 1015: 'scared', 1016: 'snout', 1017: 'truck_driver:', 1018: 'miles', 1019: 'brain', 1020: 'audience:', 1021: 'wash', 1022: 'tied', 1023: 'fire', 1024: 'declan_desmond:', 1025: 'floated', 1026: 'formico', 1027: 'daughter', 1028: 'roses', 1029: 'extinguishers', 1030: 'low-life', 1031: \"kiddin'\", 1032: 'mulder', 1033: 'crab', 1034: 'unsourced', 1035: 'when', 1036: 'burps', 1037: 'bidet', 1038: 'nerve', 1039: 'flame', 1040: 'spread', 1041: 'lottery', 1042: 'lugs', 1043: 'wisconsin', 1044: 'herself', 1045: 'truck', 1046: 'poking', 1047: 'gives', 1048: 'operation', 1049: 'solely', 1050: \"he'd\", 1051: 'ones', 1052: '21', 1053: 'signed', 1054: 'affects', 1055: \"doin'\", 1056: 'marvelous', 1057: 'gator', 1058: 'crumble', 1059: 'dreamy', 1060: 'bowie', 1061: 'crossed', 1062: 'front', 1063: 'shaking', 1064: 'african', 1065: 'space-time', 1066: 'chill', 1067: 'nigeria', 1068: 'finishing', 1069: 'fat-free', 1070: 'positive', 1071: 'priest', 1072: 'tooth', 1073: \"grandmother's\", 1074: 'theatah', 1075: 'safety', 1076: 'david_byrne:', 1077: 'meyerhof', 1078: 'correct', 1079: 'fault', 1080: 'generosity', 1081: 'linda_ronstadt:', 1082: 'pizzicato', 1083: 'flashing', 1084: 'mint', 1085: 'surprised/thrilled', 1086: 'barbed', 1087: 'wa', 1088: 'stab', 1089: 'grind', 1090: 'rupert_murdoch:', 1091: 'words', 1092: 'spending', 1093: 'sudoku', 1094: 'disco_stu:', 1095: 'principles', 1096: 'along', 1097: 'harvesting', 1098: 'talked', 1099: 'confident', 1100: 'riding', 1101: 'soul-crushing', 1102: 'old', 1103: 'broom', 1104: 'kwik-e-mart', 1105: 'provide', 1106: 'light', 1107: 'senators', 1108: 'hears', 1109: 'musses', 1110: 'rob', 1111: 'market', 1112: 'ha-ha', 1113: 'bashir', 1114: 'mumbling', 1115: 'walked', 1116: 'rats', 1117: 'showing', 1118: \"moe's_thoughts:\", 1119: 'alva', 1120: 'lap', 1121: 'bathing', 1122: 'aww', 1123: 'pharmaceutical', 1124: 'expensive', 1125: 'more', 1126: 'teach', 1127: 'impatient', 1128: 'gift', 1129: \"it'd\", 1130: 'grampa', 1131: 'militia', 1132: 'common', 1133: 'most', 1134: 'nonsense', 1135: 'bon', 1136: 'candles', 1137: 'tapered', 1138: 'gabriel:', 1139: 'training', 1140: 'glasses', 1141: 'brusque', 1142: 'romantic', 1143: 'flatly', 1144: 'bouquet', 1145: 'dessert', 1146: 'planted', 1147: 'jets', 1148: 'trail', 1149: \"elmo's\", 1150: 'dilemma', 1151: 'beach', 1152: 'months', 1153: 'roy', 1154: 'moan', 1155: 'never', 1156: 'heliotrope', 1157: \"i'd'a\", 1158: 'ehhhhhhhhh', 1159: 'jacks', 1160: 'anthony_kiedis:', 1161: \"'kay-zugg'\", 1162: 'nightmare', 1163: \"haven't\", 1164: 'ninety-nine', 1165: 'cricket', 1166: 'small', 1167: 'savvy', 1168: 'farewell', 1169: 'telegraph', 1170: 'company', 1171: 'cockroaches', 1172: 'sperm', 1173: 'routine', 1174: 'uh', 1175: 'ungrateful', 1176: 'christian', 1177: 'side', 1178: 'banquet', 1179: 'blood-thirsty', 1180: 'break', 1181: 'pad', 1182: 'mother', 1183: 'rumaki', 1184: 'louder', 1185: 'apology', 1186: 'sensitivity', 1187: 'eats', 1188: '||semicolon||', 1189: 'attached', 1190: 'ahead', 1191: 'government', 1192: 'babe', 1193: 'everywhere', 1194: 'chew', 1195: 'harvey', 1196: 'allowed', 1197: 'blur', 1198: 'standards', 1199: 'data', 1200: 'great', 1201: 'astronaut', 1202: 'massive', 1203: 'why', 1204: '_babcock:', 1205: 'answered', 1206: 'things', 1207: 'by', 1208: 'mouth', 1209: 'ever', 1210: 'goodbye', 1211: 'waylon', 1212: 'oopsie', 1213: 'greetings', 1214: 'ringing', 1215: 'charged', 1216: 'lofty', 1217: 'point', 1218: 'stools', 1219: 'troy:', 1220: 'disgusted', 1221: 'thought', 1222: 'bitterly', 1223: 'alcohol', 1224: 'joke', 1225: 'begging', 1226: 'park', 1227: 'encouraged', 1228: 'femininity', 1229: 'cozies', 1230: 'finest', 1231: 'bite', 1232: 'whatever', 1233: 'majesty', 1234: 'pardon', 1235: 'upsetting', 1236: 'power', 1237: 'somehow', 1238: 'joey', 1239: 'sidekick', 1240: 'strategy', 1241: 'repeated', 1242: 'simultaneous', 1243: 'pepsi', 1244: 'boo', 1245: 'cozy', 1246: 'upgrade', 1247: 'dash', 1248: 'hero-phobia', 1249: 'glowers', 1250: 'designer', 1251: 'older', 1252: 'othello', 1253: 'handshake', 1254: 'rabbits', 1255: 'defeated', 1256: 'resenting', 1257: 'ha', 1258: 'cow', 1259: 'yea', 1260: 'jogging', 1261: 'loser', 1262: 'night-crawlers', 1263: 'shutting', 1264: 'pre-columbian', 1265: 'freshened', 1266: 'thousand-year', 1267: 'minutes', 1268: 'age', 1269: 'young_homer:', 1270: 'juan', 1271: 'off', 1272: \"money's\", 1273: 'wooden', 1274: 'write', 1275: 'treasure', 1276: 'dollface', 1277: 'pills', 1278: 'cannoli', 1279: 'answering', 1280: 'tickets', 1281: 'perch', 1282: 'zoomed', 1283: 'share', 1284: 'dealt', 1285: 'bible', 1286: \"rentin'\", 1287: 'spectacular', 1288: 'easily', 1289: 'fuhgetaboutit', 1290: 'beached', 1291: 'yogurt', 1292: 'contact', 1293: 'call', 1294: 'tears', 1295: 'raise', 1296: 'emotional', 1297: 'dressed', 1298: 'photographer', 1299: 'sumatran', 1300: 'clone', 1301: 'happily:', 1302: 'aunt', 1303: 'sense', 1304: 'trustworthy', 1305: 'ken:', 1306: 'drollery', 1307: 'fantastic', 1308: 'spit', 1309: 'deli', 1310: 'workers', 1311: 'rolls', 1312: 'grimly', 1313: 'amber_dempsey:', 1314: \"ma'am\", 1315: 'composite', 1316: 'admitting', 1317: 'folk', 1318: 'snatch', 1319: \"nick's\", 1320: 'aw', 1321: 'payback', 1322: \"hawkin'\", 1323: 'long', 1324: 'in-in-in', 1325: 'orifice', 1326: \"time's\", 1327: 'verdict', 1328: 'fights', 1329: 'machine', 1330: 'sack', 1331: 'eighteen', 1332: 'plums', 1333: 'super-tough', 1334: 'an', 1335: 'tall', 1336: \"what're\", 1337: 'ignoring', 1338: 'barkeeps', 1339: 'bumped', 1340: 'year', 1341: 'courthouse', 1342: 'sunny', 1343: 'twin', 1344: 'boisterous', 1345: 'toledo', 1346: \"ol'\", 1347: 'everybody', 1348: 'gals', 1349: 'whatcha', 1350: 'cola', 1351: 'darn', 1352: \"homer's_brain:\", 1353: 'calm', 1354: 'reach', 1355: 'cesss', 1356: 'replaced', 1357: 'neighboreeno', 1358: 'edna', 1359: 'live', 1360: 'sell', 1361: \"buyin'\", 1362: 'initially', 1363: 'doy', 1364: 'aside', 1365: 'snide', 1366: 'toxins', 1367: 'modest', 1368: 'whoa-ho', 1369: 'seething', 1370: 'pointedly', 1371: 'guess', 1372: 'attention', 1373: 'super', 1374: 'tha', 1375: 'teeth', 1376: 'drinking', 1377: 'pus-bucket', 1378: 'secrets', 1379: 'lousy', 1380: 'ruint', 1381: 'hawaii', 1382: 'tips', 1383: 'perón', 1384: 'revenge', 1385: 'fringe', 1386: 'moesy', 1387: 'grabs', 1388: 'ventriloquism', 1389: 'marmaduke', 1390: 'pfft', 1391: 'buttons', 1392: 'carl:', 1393: 'cloudy', 1394: 'stored', 1395: 'sugar-free', 1396: 'w-a-3-q-i-zed', 1397: 'applicant', 1398: 'derek', 1399: 'statues', 1400: 'befriend', 1401: 'flash', 1402: 'pepto-bismol', 1403: 'frankenstein', 1404: 'jams', 1405: 'fifteen', 1406: 'intoxicants', 1407: 'legal', 1408: 'spilled', 1409: 'aisle', 1410: 'stalking', 1411: 'please', 1412: \"countin'\", 1413: 'taunting', 1414: 'wasted', 1415: 'jay_leno:', 1416: 'broken', 1417: 'seeing', 1418: 'quarterback', 1419: 'buffet', 1420: 'throw', 1421: 'politician', 1422: 'w', 1423: 'reserved', 1424: 'schedule', 1425: 'soup', 1426: 'priceless', 1427: 'uncreeped-out', 1428: 'whatchamacallit', 1429: 'sign', 1430: 'acceptance', 1431: 'lurleen', 1432: 'brains', 1433: 'nervous', 1434: 'lives', 1435: 'boxer:', 1436: 'pair', 1437: 'conclude', 1438: 'manage', 1439: 'turkey', 1440: 'prison', 1441: \"liftin'\", 1442: 'her', 1443: 'other', 1444: 'liar', 1445: 'coins', 1446: 'kiss', 1447: 'reluctant', 1448: 'fink', 1449: 'washouts', 1450: 'we', 1451: 'nightmares', 1452: 'one-hour', 1453: 'worldview', 1454: 'evils', 1455: 'hiding', 1456: 'harv', 1457: 'researching', 1458: 'heart', 1459: 'kent_brockman:', 1460: 'whiny', 1461: 'champion', 1462: 'thing:', 1463: 'marjorie', 1464: 'smart', 1465: 'outrageous', 1466: 'easy-going', 1467: 'life:', 1468: 'environment', 1469: 'lou', 1470: 'ralphie', 1471: 'combines', 1472: 'coupon', 1473: 'punishment', 1474: 'op', 1475: 'way:', 1476: 'intimacy', 1477: 'brag', 1478: 'fwooof', 1479: 'steamed', 1480: 'espousing', 1481: 'timbuk-tee', 1482: 'comeback', 1483: 'supposed', 1484: 'watching', 1485: 'yammering', 1486: 'automobiles', 1487: 'bartender', 1488: 'waters', 1489: 'nah', 1490: 'africanized', 1491: 'coincidentally', 1492: 'bride', 1493: 'falling', 1494: \"he's\", 1495: \"dimwit's\", 1496: \"wouldn't\", 1497: 'die-hard', 1498: 'putty', 1499: 'bunion', 1500: \"mcstagger's\", 1501: 'rid', 1502: 'bus', 1503: 'nauseous', 1504: 'toasting', 1505: 'old-time', 1506: 'realizing', 1507: \"ma's\", 1508: 'owned', 1509: 'sob', 1510: 'media', 1511: 'reminds', 1512: \"challengin'\", 1513: 'pull', 1514: 'smile:', 1515: 'andy', 1516: 'boned', 1517: 'home', 1518: 'plans', 1519: 'outlook', 1520: 'proof', 1521: 'octa-', 1522: 'alien', 1523: 'different', 1524: 'pas', 1525: 'cutting', 1526: 'seas', 1527: \"we'd\", 1528: 'recent', 1529: 'three', 1530: 'shoe', 1531: 'warn', 1532: 'ees', 1533: 'fireworks', 1534: 'dignified', 1535: 'presents', 1536: 'sentimonies', 1537: 'choices', 1538: 'presumir', 1539: 'ram', 1540: 'shoulder', 1541: 'birthday', 1542: 'believer', 1543: 'churchy', 1544: 'twerpy', 1545: 'knocked', 1546: 'eyeing', 1547: 'pawed', 1548: 'whining', 1549: 'salary', 1550: '||right_parentheses||', 1551: \"pope's\", 1552: 'hanging', 1553: 'softer', 1554: 'wheeeee', 1555: 'alibi', 1556: 'bide', 1557: 'shores', 1558: 'greatest', 1559: 'unintelligent', 1560: 'thirty-five', 1561: 'exasperated', 1562: 'malabar', 1563: 'shakespeare', 1564: 'ralph', 1565: 'eaters', 1566: 'forgotten', 1567: 'glitterati', 1568: 'shows', 1569: 'snort', 1570: \"wearin'\", 1571: 'ma', 1572: \"feelin's\", 1573: 'homer_simpson:', 1574: 'colossal', 1575: 'drinks', 1576: \"'er\", 1577: \"boy's\", 1578: 'wondered', 1579: 'stands', 1580: 'heals', 1581: 'tyson/secretariat', 1582: 'theater', 1583: 'bliss', 1584: 'asses', 1585: 'searching', 1586: 'scotch', 1587: 'running', 1588: 'not', 1589: 'lifestyle', 1590: \"tootin'\", 1591: 'oh-ho', 1592: 'strolled', 1593: 'make:', 1594: 'grow', 1595: 'sec_agent_#2:', 1596: 'barely', 1597: 'sisters', 1598: 'single-mindedness', 1599: 'affection', 1600: 'life-threatening', 1601: 'graveyard', 1602: 'abercrombie', 1603: 'loafers', 1604: 'tones', 1605: 'haw', 1606: 'cueball', 1607: 'homesick', 1608: 'george', 1609: 'taylor', 1610: \"round's\", 1611: 'employment', 1612: 'disturbing', 1613: 'string', 1614: 'buy', 1615: 'plow', 1616: 'juke', 1617: 'toy', 1618: 'causes', 1619: 'lighting', 1620: 'working', 1621: 'halfway', 1622: \"b-52's:\", 1623: 'sandwich', 1624: 'sheriff', 1625: 'muttering', 1626: 'pugilist', 1627: 'people', 1628: 'beer-dorf', 1629: 'moxie', 1630: 'fontaine', 1631: 'cooler', 1632: 'jailbird', 1633: 'mid-seventies', 1634: 'billboard', 1635: 'happen', 1636: \"tonight's\", 1637: 'take-back', 1638: 'rules', 1639: \"'pu\", 1640: 'hosting', 1641: 'comes', 1642: 'earlier', 1643: 'murmur', 1644: 'twins', 1645: 'buying', 1646: \"ya'\", 1647: 'refill', 1648: \"stayin'\", 1649: \"friend's\", 1650: 'walking', 1651: 'corporate', 1652: 'punches', 1653: 'right', 1654: 'alternative', 1655: 'slapped', 1656: 'cheap', 1657: 'options', 1658: 'cell', 1659: 'relaxed', 1660: 'plotz', 1661: \"children's\", 1662: 'hooky', 1663: 'beefs', 1664: 'captain', 1665: 'jane', 1666: 'moving', 1667: 'reserve', 1668: 'flaking', 1669: 'military', 1670: 'dads', 1671: 'jockey', 1672: 'gambler', 1673: 'caveman', 1674: 'honor', 1675: 'enough', 1676: 'quimby', 1677: 'tape', 1678: 'swell', 1679: 'gone', 1680: 'otherwise', 1681: 'change', 1682: 'chapel', 1683: 'jaegermeister', 1684: 'eager', 1685: 'x-men', 1686: 'girl-bart', 1687: 'level', 1688: 'specialists', 1689: 'u2:', 1690: 'brassiest', 1691: 'capuchin', 1692: 'yawns', 1693: 'fresh', 1694: 'represents', 1695: 'suspended', 1696: 'young_moe:', 1697: 'helped', 1698: 'drove', 1699: 'düff', 1700: 'bupkus', 1701: 'stirrers', 1702: 'barkeep', 1703: 'way', 1704: 'achem', 1705: 'unearth', 1706: 'admiration', 1707: 'celeste', 1708: 'drift', 1709: 'crayola', 1710: 'lots', 1711: 'listens', 1712: 'jazz', 1713: 'aims', 1714: \"let's\", 1715: 'occasional', 1716: 'refresh', 1717: 'leaving', 1718: 'asking', 1719: 'stinks', 1720: 'wrecking', 1721: 'correction', 1722: 'foodie', 1723: \"life's\", 1724: 'christmas', 1725: 'peach', 1726: 'inherent', 1727: 'squeals', 1728: 'offa', 1729: 'tradition', 1730: 'parked', 1731: \"plaster's\", 1732: 'pulled', 1733: 'five', 1734: 'donation', 1735: 'beautiful', 1736: 'unsafe', 1737: 'stir', 1738: 'spied', 1739: 'savings', 1740: 'frazier', 1741: 'shoot', 1742: 'neanderthal', 1743: 'boggs', 1744: \"s'okay\", 1745: 'necessary', 1746: 'thirsty', 1747: 'fears', 1748: 'listening', 1749: 'yeah', 1750: 'misconstrue', 1751: 'heart-broken', 1752: 'fellow', 1753: 'watched', 1754: 'sideshow', 1755: \"daughter's\", 1756: 'p', 1757: 'interrupting', 1758: 'adjust', 1759: 'runaway', 1760: 'neighbor', 1761: 'mumble', 1762: \"world's\", 1763: 'difference', 1764: 'dictating', 1765: 'whispers', 1766: 'safe', 1767: 'ugliest', 1768: 'always', 1769: 'voodoo', 1770: 'pop', 1771: 'feast', 1772: \"kid's\", 1773: 'hops', 1774: 'bar-boy', 1775: 'everyday', 1776: 'stranger:', 1777: 'youuu', 1778: 'illegal', 1779: 'ago', 1780: 'motel', 1781: 'ballclub', 1782: 'creepy', 1783: 'homeless', 1784: 'corkscrew', 1785: \"must've\", 1786: 'severe', 1787: 'quitcher', 1788: 'portfolium', 1789: 'abandon', 1790: 'attracted', 1791: '-ry', 1792: 'taking', 1793: 'steam', 1794: 'gimme', 1795: 'minute', 1796: 'warm_female_voice:', 1797: 'bash', 1798: 'encore', 1799: 'chance', 1800: \"homer'll\", 1801: 'outstanding', 1802: \"i'm-so-stupid\", 1803: 'beginning', 1804: 'pretending', 1805: 'wikipedia', 1806: 'anyhow', 1807: 'quit', 1808: 'favor', 1809: 'piano', 1810: 'let', 1811: 'heavyset', 1812: 'vicious', 1813: 'grammys', 1814: 'believe', 1815: 'tinkle', 1816: 'half-back', 1817: 'access', 1818: 'pumping', 1819: 'bart', 1820: 'lib', 1821: 'show', 1822: 'sneeze', 1823: 'spiritual', 1824: 'roller', 1825: 'choking', 1826: 'nominated', 1827: 'suspenders', 1828: 'must', 1829: 'turned', 1830: 'dazed', 1831: 'obsessive-compulsive', 1832: 'legend', 1833: 'fox', 1834: \"watchin'\", 1835: 'chateau', 1836: 'cushions', 1837: 'towed', 1838: 'veux', 1839: 'horrors', 1840: 'sued', 1841: 'numeral', 1842: 'dory', 1843: 'nobel', 1844: 'religion', 1845: 'publish', 1846: 'celebration', 1847: 'getaway', 1848: \"wouldn't-a\", 1849: 'spit-backs', 1850: 'protesting', 1851: 'given', 1852: 'passports', 1853: 'halloween', 1854: 'polish', 1855: 'racially-diverse', 1856: 'sitcom', 1857: 'meet', 1858: 'settles', 1859: 'naval', 1860: 'figured', 1861: 'grand', 1862: 'some', 1863: 'emphasis', 1864: 'abe', 1865: 'jail', 1866: 'ninety-eight', 1867: 'cup', 1868: 'directions', 1869: 'angrily', 1870: 'detective', 1871: 'tender', 1872: 'ecru', 1873: 'color', 1874: 'barflies', 1875: 'contemplates', 1876: \"i've\", 1877: 'forgiven', 1878: 'crushed', 1879: 'moonlight', 1880: 'entire', 1881: 'knock-up', 1882: 'hoagie', 1883: 'sweet', 1884: 'trust', 1885: 'meaningful', 1886: 'black', 1887: 'dregs', 1888: 'grieving', 1889: 'allowance', 1890: 'mirror', 1891: \"shan't\", 1892: 'spreads', 1893: \"wonderin'\", 1894: 'smurfs', 1895: 'funeral', 1896: 'enthusiastically', 1897: 'wholeheartedly', 1898: 'flush-town', 1899: 'larry:', 1900: 'doreen', 1901: 'fritz:', 1902: 'jumping', 1903: 'allow', 1904: 'associate', 1905: \"mopin'\", 1906: 'risqué', 1907: 'hateful', 1908: 'contented', 1909: 'vegas', 1910: 'rekindle', 1911: \"bein'\", 1912: 'regretted', 1913: 'inclination', 1914: 'replace', 1915: 'guzzles', 1916: 'lose', 1917: 'shareholder', 1918: 'crowd', 1919: 'quickly', 1920: 'station', 1921: 'jig', 1922: 'lloyd:', 1923: 'exchanged', 1924: \"maggie's\", 1925: 'fiiiiile', 1926: 'began', 1927: 'spite', 1928: 'lord', 1929: 'kermit', 1930: 'alone', 1931: 'ominous', 1932: 'involved', 1933: 'dyspeptic', 1934: 'madman', 1935: 'forgive', 1936: 'michael', 1937: 'ten', 1938: 'renders', 1939: 'student', 1940: 'scrubbing', 1941: 'installed', 1942: 'disappeared', 1943: 'elder', 1944: 'ruuuule', 1945: 'over-pronouncing', 1946: 'weary', 1947: 'browns', 1948: 'gifts', 1949: 'a-lug', 1950: 'crowd:', 1951: 'jackass', 1952: 'skills', 1953: 'than', 1954: 'jeter', 1955: 'chinese', 1956: 'absentminded', 1957: 'butterball', 1958: 'hats', 1959: 'child', 1960: 'tow-joes', 1961: 'carlson', 1962: \"tatum'll\", 1963: 'mr', 1964: 'jobs', 1965: 'next', 1966: 'plenty', 1967: 'limited', 1968: 'bowl', 1969: 'worth', 1970: 'hmm', 1971: 'its', 1972: 'suck', 1973: 'corn', 1974: 'stage', 1975: 'slot', 1976: 'slim', 1977: 'understood', 1978: 'series', 1979: 'producers', 1980: 'little_hibbert_girl:', 1981: 'window', 1982: 'occurrence', 1983: 'monorails', 1984: 'ziff', 1985: 'unlocked', 1986: 'wienerschnitzel', 1987: 'dynamite', 1988: 'saga', 1989: 'marriage', 1990: \"'til\", 1991: 'up', 1992: 'swooning', 1993: 'bottom', 1994: 'celebrity', 1995: 'propose', 1996: 'minus', 1997: 'no', 1998: 'ratted', 1999: 'wish', 2000: 'saved', 2001: 'bono:', 2002: 'cuz', 2003: 'follow', 2004: 'gums', 2005: 'decide', 2006: 'hail', 2007: 'infiltrate', 2008: 'krabappel', 2009: \"drivin'\", 2010: 'placed', 2011: 'thousand', 2012: 'pews', 2013: 'lise:', 2014: \"you're\", 2015: 'bumblebee_man:', 2016: 'murdered', 2017: 'species', 2018: \"smokin'_joe_frazier:\", 2019: 'warranty', 2020: 'gruff', 2021: 'american', 2022: 'wells', 2023: 'cost', 2024: 'anti-crime', 2025: 'consider', 2026: 'beauty', 2027: 'also', 2028: 'owns', 2029: 'partner', 2030: 'complaining', 2031: 'burglary', 2032: 'application', 2033: 'full-bodied', 2034: \"'n'\", 2035: 'hollye', 2036: 'highway', 2037: 'lime', 2038: 'railroad', 2039: 'extreme', 2040: 'busted', 2041: 'cowardly', 2042: 'items', 2043: 'ears', 2044: 'blind', 2045: 'seen', 2046: 'laws', 2047: 'muertos', 2048: 'unrelated', 2049: 'commission', 2050: 'sharity', 2051: 'optimistic', 2052: 'on', 2053: 'grinch', 2054: 'doug:', 2055: 'goblins', 2056: \"cont'd:\", 2057: 'ons', 2058: 'fanciest', 2059: 'moments', 2060: 'shred', 2061: 'german', 2062: 'grampa_simpson:', 2063: 'premise', 2064: 'tv_wife:', 2065: 'lloyd', 2066: 'result', 2067: 'recreate', 2068: 'charity', 2069: 'hmmmm', 2070: 'eyeball', 2071: 'handed', 2072: 'mexicans', 2073: 'huge', 2074: 'hexa-', 2075: 'mac-who', 2076: 'starts', 2077: 'archaeologist', 2078: 'coy', 2079: 'potato', 2080: 'scream', 2081: 'his', 2082: 'lessons', 2083: 'service', 2084: 'chuckles', 2085: 'chosen', 2086: 'cries', 2087: \"spiffin'\", 2088: 'curse', 2089: 'luckily', 2090: 'sistine', 2091: 'therapist', 2092: 'awfully', 2093: 'authenticity', 2094: 'clandestine', 2095: 'wolverines', 2096: 'therapy', 2097: 'blaze', 2098: 'lotsa', 2099: 'four-drink', 2100: 'poor', 2101: 'remote', 2102: 'toward', 2103: 'fumes', 2104: 'h', 2105: 'sugar-me-do', 2106: 'lushmore', 2107: 'punch', 2108: 'fustigation', 2109: 'struggling', 2110: 'sketching', 2111: 'cyrano', 2112: 'complicated', 2113: 'ideas', 2114: 'plant', 2115: 'divine', 2116: 'tomato', 2117: 'adult', 2118: 'cocoa', 2119: 'four', 2120: 'nervously', 2121: 'threatening', 2122: 'compadre', 2123: 'stealings', 2124: 'box', 2125: 'weirded-out', 2126: 'carpet', 2127: 'pause', 2128: 'dae', 2129: 'truth', 2130: 'despite', 2131: '||exclamation_mark||', 2132: 'appendectomy', 2133: 'luck', 2134: 'm', 2135: 'medical', 2136: 'does', 2137: 'cheaped', 2138: 'cats', 2139: 'safecracker', 2140: 'pushes', 2141: 'stocking', 2142: 'cuckoo', 2143: 'paid', 2144: 'iddilies', 2145: '_hooper:', 2146: 'wang', 2147: 'beam', 2148: 'country', 2149: 'nantucket', 2150: 'tear', 2151: 'grade', 2152: 'loudly', 2153: 'promised', 2154: 'rugged', 2155: 'camp', 2156: 'jägermeister', 2157: 'check', 2158: 'tells', 2159: 'recap:', 2160: 'forty-five', 2161: 'talk', 2162: 'burger', 2163: 'kinds', 2164: 'grateful', 2165: \"today's\", 2166: 'these', 2167: 'still', 2168: 'meanwhile', 2169: 'clear', 2170: 'smells', 2171: \"here's\", 2172: 'butter', 2173: 'gil_gunderson:', 2174: 'dejected', 2175: 'slab', 2176: 'problems', 2177: 'crazy', 2178: 'closed', 2179: 'darts', 2180: 'fact', 2181: 'ineffective', 2182: 'collapse', 2183: 'lobster-based', 2184: 'wangs', 2185: '50%', 2186: 'telemarketing', 2187: 'attempting', 2188: 'trouble', 2189: 'department', 2190: 'few', 2191: 'moans', 2192: \"everyone's\", 2193: 'diablo', 2194: 'idiot', 2195: 'yell', 2196: 'innocence', 2197: 'washed', 2198: 'cover', 2199: 'wait', 2200: 'treat', 2201: 'tv', 2202: 'kodos:', 2203: 'contest', 2204: 'occurs', 2205: 'reed', 2206: 'lucius:', 2207: 'overturned', 2208: 'witty', 2209: 'fat', 2210: 'nickels', 2211: \"leavin'\", 2212: 'drunkening', 2213: 'screws', 2214: 'stadium', 2215: 'vacations', 2216: 'cans', 2217: 'thanking', 2218: 'sanitary', 2219: 'bret', 2220: 'derisive', 2221: 'bar', 2222: 'scrape', 2223: 'talkers', 2224: 'bill', 2225: \"we've\", 2226: 'world', 2227: 'fad', 2228: \"pickin'\", 2229: \"somethin's\", 2230: 'traitors', 2231: 'stopped', 2232: 'disappointed', 2233: 'leathery', 2234: 'happier', 2235: 'thoughtful', 2236: 'stamps', 2237: 'wrestle', 2238: 'slogan', 2239: 'noises', 2240: 'collette:', 2241: \"thinkin'\", 2242: 'twenty-nine', 2243: 'unusual', 2244: 'ratio', 2245: 'saturday', 2246: 'laughs', 2247: 'embarrassed', 2248: 'formico:', 2249: 'shout', 2250: 'kay', 2251: 'mic', 2252: 'loss', 2253: 'wave', 2254: 'cursed', 2255: 'trunk', 2256: 'sickened', 2257: 'electronic', 2258: 'newsweek', 2259: 'friend', 2260: 'rash', 2261: 'stagey', 2262: 'suburban', 2263: 'man_at_bar:', 2264: 'chase', 2265: 'safely', 2266: \"father's\", 2267: 'telephone', 2268: 'lennyy', 2269: 'seemed', 2270: 'gesture', 2271: 'criminal', 2272: 'wants', 2273: 'guy', 2274: 'modern', 2275: 'schmoe', 2276: \"stallin'\", 2277: 'endorsed', 2278: 'thrown', 2279: 'name:', 2280: 'detecting', 2281: 'channel', 2282: 'bedridden', 2283: 'homer_doubles:', 2284: 'changed', 2285: 'homie', 2286: \"cleanin'\", 2287: 'perfume', 2288: 'hammy', 2289: 'problem', 2290: 'books', 2291: 'genuinely', 2292: 'ech', 2293: 'accelerating', 2294: 'whup', 2295: 'hoping', 2296: \"depressin'\", 2297: 'multiple', 2298: 'saint', 2299: \"somethin'\", 2300: 'achebe', 2301: 'finally', 2302: 'diddilies', 2303: \"it'll\", 2304: \"dyin'\", 2305: 'action', 2306: 'benefits', 2307: 'survive', 2308: 'itchy', 2309: 'interested', 2310: 'surprised', 2311: 'chained', 2312: 'rough', 2313: 'lee', 2314: 'whoops', 2315: 'frink-y', 2316: 'especially', 2317: 'fayed', 2318: 'attractive', 2319: \"larry's\", 2320: 'sit', 2321: '250', 2322: \"where'd\", 2323: 'incredible', 2324: 'pain', 2325: 'chest', 2326: 'corner', 2327: 'told', 2328: 'effects', 2329: 'realized', 2330: 'game', 2331: 'cheaper', 2332: 'wrote', 2333: 'fills', 2334: 'proper', 2335: 'misfire', 2336: 'sooo', 2337: 'willy', 2338: 'poisoning', 2339: 'leno', 2340: 'trashed', 2341: 'privacy', 2342: 'puzzled', 2343: 'madison', 2344: 'lovejoy', 2345: 'moe-near-now', 2346: 'religious', 2347: 'set', 2348: 'delightfully', 2349: 'short', 2350: 'helps', 2351: 'exclusive:', 2352: 'moon', 2353: 'delivery_boy:', 2354: 'furiously', 2355: 'dryer', 2356: 'hangover', 2357: 'online', 2358: 'perfect', 2359: 'proudly', 2360: 'has', 2361: 'excuse', 2362: 'career', 2363: 'pusillanimous', 2364: 'al', 2365: 'businessman_#1:', 2366: 'vance', 2367: 'doppler', 2368: 'enabling', 2369: 'latour', 2370: 'painless', 2371: 'ping-pong', 2372: 'barf', 2373: 'motor', 2374: 'face-macer', 2375: 'ooh', 2376: 'finish', 2377: 'lincoln', 2378: 'squeeze', 2379: 'wounds', 2380: \"'now\", 2381: 'nibble', 2382: 'yup', 2383: 'socialize', 2384: 'did', 2385: 'deny', 2386: 'cut', 2387: 'supermarket', 2388: 'avec', 2389: 'gin', 2390: 'eighty-three', 2391: 'mural', 2392: '_julius_hibbert:', 2393: 'rockers', 2394: 'yap', 2395: 'snorts', 2396: 'eye', 2397: 'dude', 2398: 'nfl_narrator:', 2399: \"sayin'\", 2400: 'eight', 2401: 'hearse', 2402: 'toms', 2403: \"swishifyin'\", 2404: '||comma||', 2405: 'duh', 2406: 'sets', 2407: 'depending', 2408: 'sly', 2409: 'watch', 2410: 'chairman', 2411: 'teams', 2412: 'streetcorner', 2413: 'boxcar', 2414: 'made', 2415: 'beer', 2416: 'wound', 2417: 'quality', 2418: 'hans:', 2419: 'super-nice', 2420: 'patrons', 2421: 'yards', 2422: 'simp-sonnnn', 2423: 'saucy', 2424: 'smell', 2425: 'land', 2426: 'hyper-credits', 2427: 'contractors', 2428: 'generously', 2429: \"disrobin'\", 2430: 'onassis', 2431: 'bags', 2432: \"hell's\", 2433: 'scornful', 2434: 'knives', 2435: 'nbc', 2436: 'taps', 2437: 'disgracefully', 2438: 'dna', 2439: 'joey_kramer:', 2440: 'barflies:', 2441: 'lear', 2442: 'kramer', 2443: \"isn't\", 2444: 'held', 2445: 'ails', 2446: 'dear', 2447: 'kucinich', 2448: 'kept', 2449: 'room', 2450: \"who'll\", 2451: 'ali', 2452: 'delightful', 2453: 'rife', 2454: 'papa', 2455: \"stinkin'\", 2456: 'puzzle', 2457: 'runt', 2458: 'patented', 2459: 'blowfish', 2460: 'protecting', 2461: 'predictable', 2462: 'faith', 2463: 'wire', 2464: 'pregnancy', 2465: \"monroe's\", 2466: 'ancient', 2467: 'pages', 2468: 'troy', 2469: '2', 2470: 'rewound', 2471: 'swill', 2472: 'race', 2473: 'between', 2474: 'pointless', 2475: 'speaking', 2476: 'intervention', 2477: 'storms', 2478: 'sinister', 2479: 'annie', 2480: 'trivia', 2481: 'work', 2482: 'clown', 2483: 'agent_johnson:', 2484: 'developed', 2485: 'dizzy', 2486: 'bills', 2487: 'donate', 2488: \"s'cuse\", 2489: 'uh-oh', 2490: 'item', 2491: 'mater', 2492: \"president's\", 2493: 'accusing', 2494: 'loneliness', 2495: 'heaving', 2496: 'kick', 2497: 'trainers', 2498: 'reaches', 2499: 'pian-ee', 2500: 'presses', 2501: 'awww', 2502: 'underwear', 2503: 'sure', 2504: \"dolph's_dad:\", 2505: 'flanders', 2506: 'slip', 2507: 'stay', 2508: 'author', 2509: 'myself', 2510: 'we-we-we', 2511: \"fun's\", 2512: 'rancid', 2513: \"we're\", 2514: 'floor', 2515: 'kemi', 2516: 'won', 2517: 'blows', 2518: 'interesting', 2519: 'glove', 2520: 'night', 2521: 'carb', 2522: 'baby', 2523: 'troy_mcclure:', 2524: 'prolonged', 2525: 'unbelievable', 2526: 'deal', 2527: 'then:', 2528: \"'em\", 2529: 'fire_inspector:', 2530: 'investor', 2531: 'ruin', 2532: 'aggie', 2533: 'space', 2534: \"starla's\", 2535: 'dirt', 2536: 'fence', 2537: 'shorter', 2538: 'listened', 2539: 'freely', 2540: 'president', 2541: 'disapproving', 2542: 'scoffs', 2543: 'reasons', 2544: 'utensils', 2545: \"professor's\", 2546: \"department's\", 2547: 'bumbling', 2548: \"they're\", 2549: 'bulked', 2550: 'shove', 2551: 'mortal', 2552: 'breakdown', 2553: 'mt', 2554: 'waterfront', 2555: 'nailed', 2556: 'disgraceful', 2557: \"'morning\", 2558: 'sweetly', 2559: 'stomach', 2560: 'community', 2561: \"now's\", 2562: 'november', 2563: 'press', 2564: 'killarney', 2565: 'paintings', 2566: 'lemonade', 2567: 'voted', 2568: 'encouraging', 2569: 'weeks', 2570: 'mansions', 2571: 'santa', 2572: 'south', 2573: 'eu', 2574: 'backgammon', 2575: 'fica', 2576: 's', 2577: 'triangle', 2578: 'aggravazes', 2579: 'confidential', 2580: 'clenched', 2581: 'drank', 2582: 'chapstick', 2583: 'scare', 2584: 'landlord', 2585: 'lie', 2586: 'culkin', 2587: 'reporter:', 2588: 'drederick', 2589: 'over', 2590: 'lovely', 2591: \"blowin'\", 2592: 'dreams', 2593: 'famous', 2594: 'domestic', 2595: 'choice', 2596: 'feeling', 2597: 'keeps', 2598: \"somebody's\", 2599: 'moe-clone', 2600: 'less', 2601: 'worry', 2602: 'james', 2603: 'competing', 2604: 'pepper', 2605: 'quimbys:', 2606: 'charter', 2607: 'saw', 2608: 'ought', 2609: 'duke', 2610: 'stays', 2611: \"betsy'll\", 2612: 'degradation', 2613: 'appreciated', 2614: 'send', 2615: 'stool', 2616: 'founded', 2617: 'seamstress', 2618: 'spouses', 2619: 'screw', 2620: 'recommend', 2621: 'warned', 2622: 'zero', 2623: \"cuckold's\", 2624: 'psst', 2625: 'swamp', 2626: 'arm', 2627: 'elmer', 2628: 'choice:', 2629: 'strawberry', 2630: 'dishrag', 2631: 'steampunk', 2632: 'affectations', 2633: 'daaaaad', 2634: 'recruiter', 2635: \"bettin'\", 2636: 'customers-slash-only', 2637: 'blackjack', 2638: 'boxing_announcer:', 2639: 'afterglow', 2640: 'unexplained', 2641: 'abusive', 2642: 'hug', 2643: 'polenta', 2644: 'learn', 2645: 'persia', 2646: 'nation', 2647: 'assumed', 2648: 'cliff', 2649: 'byrne', 2650: 'exception:', 2651: 'half', 2652: 'furniture', 2653: 'staying', 2654: 'suit', 2655: 'italian', 2656: \"there's\", 2657: 'located', 2658: 'szyslak', 2659: 'winnings', 2660: 'honored', 2661: 'stories', 2662: 'sauce', 2663: 'pee', 2664: \"don't\", 2665: 'huggenkiss', 2666: 'prettied', 2667: 'woo', 2668: 'shaken', 2669: 'poem', 2670: 'handsome', 2671: 'them', 2672: 'consulting', 2673: 'enterprising', 2674: 'supplying', 2675: 'knows', 2676: 'nasa', 2677: 'middle', 2678: 'appropriate', 2679: 'accent', 2680: 'ripping', 2681: 'sink', 2682: 'fund', 2683: 'pajamas', 2684: 'organ', 2685: 'coast', 2686: \"sippin'\", 2687: '4x4', 2688: 'crawl', 2689: 'bachelor', 2690: 'well-wisher', 2691: 'rainier', 2692: 'parents', 2693: 'forbidden', 2694: 'tough', 2695: 'ab', 2696: 'played', 2697: 'play', 2698: 'defiantly', 2699: \"readin'\", 2700: 'bras', 2701: 'prince', 2702: 'unforgettable', 2703: 'tease', 2704: 'indicates', 2705: 'doll', 2706: 'macho', 2707: \"hasn't\", 2708: 'twenty-five', 2709: 'sweater', 2710: 'in-ground', 2711: 'connor', 2712: 'lovelorn', 2713: 'wrap', 2714: 'east', 2715: 'sequel', 2716: 'courage', 2717: 'direction', 2718: 'wittgenstein', 2719: 'ow', 2720: 'rascals', 2721: 'gr-aargh', 2722: 'donor', 2723: 'rump', 2724: 'goods', 2725: 'comfortable', 2726: 'santeria', 2727: 'injury', 2728: 'chipped', 2729: 'tsk', 2730: 'kinda', 2731: 'announcer:', 2732: 'jury', 2733: 'woodchucks', 2734: 'mad', 2735: 'ale', 2736: 'neither', 2737: 'crowded', 2738: 'warning', 2739: 'payments', 2740: 'blood', 2741: 'is:', 2742: 'switch', 2743: 'huhza', 2744: 'button-pusher', 2745: 'shoulders', 2746: 'bums', 2747: 'knowing', 2748: \"'evening\", 2749: 'hunter', 2750: \"playin'\", 2751: 'lady_duff:', 2752: 'chinese_restaurateur:', 2753: 'hot', 2754: 'ragtime', 2755: 'clothespins', 2756: 'righ', 2757: 'clinton', 2758: 'groans', 2759: 'neil_gaiman:', 2760: 'cracked', 2761: 'patriotic', 2762: 'crowned', 2763: 'yourselves', 2764: 'go', 2765: 'early', 2766: \"goin'\", 2767: 'word', 2768: 'gumbel', 2769: 'dipping', 2770: 'voters', 2771: 'hates', 2772: 'runners', 2773: 'was', 2774: 'coughs', 2775: 'general', 2776: \"hole'\", 2777: 'though', 2778: 'egg', 2779: 'closet', 2780: 'pirate', 2781: 'drivers', 2782: 'permitting', 2783: 'amber', 2784: 'insensitive', 2785: 'dramatically', 2786: 'sugar', 2787: 'chuck', 2788: 'push', 2789: 'danny', 2790: 'slop', 2791: 'store', 2792: 'youngsters', 2793: 'unlucky', 2794: 'viva', 2795: 'ride', 2796: 'laid', 2797: 'voyager', 2798: 'montrer', 2799: 'raccoons', 2800: 'champ', 2801: \"y'know\", 2802: 'appearance-altering', 2803: 'dough', 2804: 'bears', 2805: 'divorced', 2806: 'ehhh', 2807: 'meal', 2808: 'snapping', 2809: 'quick', 2810: 'astronauts', 2811: 'noise', 2812: 'pouring', 2813: 'stuck', 2814: 'vermont', 2815: 'chuckle', 2816: 'badmouths', 2817: 'portuguese', 2818: 'cheesecake', 2819: 'restaurant', 2820: 'wings', 2821: 'tanked-up', 2822: 'clientele', 2823: 'lame', 2824: 'blown', 2825: 'manatee', 2826: 'bank', 2827: 'intriguing', 2828: 'nash', 2829: 'cheese', 2830: 'around', 2831: 'fresco', 2832: 'poetics', 2833: 'our', 2834: 'mushy', 2835: 'kegs', 2836: 'say', 2837: \"she's\", 2838: 'how', 2839: \"year's\", 2840: 'scully', 2841: 'pulling', 2842: 'chic', 2843: 'draw', 2844: 'tribute', 2845: 'handler', 2846: 'pathetic', 2847: \"'round\", 2848: 'mcclure', 2849: 'calendars', 2850: 'squadron', 2851: 'nearly', 2852: 'might', 2853: 'i/you', 2854: 'highball', 2855: 'mis-statement', 2856: \"scammin'\", 2857: 'feminist', 2858: 'hygienically', 2859: 'marvin', 2860: 'least', 2861: 'knuckles', 2862: 'midnight', 2863: 'allegiance', 2864: 'dashes', 2865: 'raising', 2866: 'exit', 2867: 'cops', 2868: 'hardy', 2869: 'transfer', 2870: 'whoo', 2871: 'thrilled', 2872: 'eighty-five', 2873: 'plastic', 2874: 'adequate', 2875: 'from', 2876: 'same', 2877: 'dungeon', 2878: 'windelle', 2879: 'pocket', 2880: 'ear', 2881: 'alcoholic', 2882: 'shot', 2883: 'ourselves', 2884: 'filled', 2885: 'meant', 2886: 'wussy', 2887: 'tight', 2888: 'bites', 2889: 'snotty', 2890: 'referee', 2891: 'dad', 2892: 'jumps', 2893: 'closer', 2894: \"shootin'\", 2895: 'horses', 2896: 'rent', 2897: 'earth', 2898: 'most:', 2899: 'friend:', 2900: 'steak', 2901: 'skeptical', 2902: 'horribilis', 2903: 'boyfriend', 2904: 'liability', 2905: 'behavior', 2906: 'squirrels', 2907: 'body', 2908: 'yourse', 2909: 'mister', 2910: 'physical', 2911: 'straighten', 2912: 'polls', 2913: 'expression', 2914: 'expecting', 2915: 'seems', 2916: 'guard', 2917: 'crony', 2918: 'legoland', 2919: 'flashbacks', 2920: 'damn', 2921: 'title', 2922: \"that'll\", 2923: 'tries', 2924: 'else', 2925: 'nice', 2926: 'promise', 2927: 'queer', 2928: 'experience', 2929: 'violin', 2930: \"talkin'\", 2931: \"lady's\", 2932: 'drinking:', 2933: 'artie', 2934: 'b', 2935: 'charges', 2936: 'swelling', 2937: 'oughta', 2938: 'harvard', 2939: 'remains', 2940: 'absolut', 2941: 'troll', 2942: 'calls', 2943: 'sabermetrics', 2944: \"bo's\", 2945: 'norway', 2946: 'hydrant', 2947: 'now', 2948: 'arimasen', 2949: 'faulkner', 2950: 'fun', 2951: 'barter', 2952: 'be-stainèd', 2953: 'prime', 2954: 'air', 2955: 'billiard', 2956: 'mission', 2957: 'forget', 2958: 'hammock', 2959: 'cavern', 2960: 'gave', 2961: 'richer', 2962: 'richard:', 2963: 'center', 2964: 'mess', 2965: 'hardwood', 2966: 'laney', 2967: 'triumphantly', 2968: '_marvin_monroe:', 2969: 'chumbawamba', 2970: 'radical', 2971: 'ivana', 2972: 'delicately', 2973: 'traditions', 2974: 'science', 2975: 'para', 2976: 'polygon', 2977: 'eve', 2978: \"men's\", 2979: 'pointy', 2980: 'eyesore', 2981: 'stevie', 2982: 'mexican', 2983: 'suru', 2984: 'attack', 2985: 'jernt', 2986: 'afraid', 2987: 'lenny_leonard:', 2988: 'losers', 2989: 'car:', 2990: \"livin'\", 2991: 'suddenly', 2992: 'remembering', 2993: 'aerosmith', 2994: 'impending', 2995: 'dials', 2996: 'labor', 2997: 'specified', 2998: 'darkest', 2999: 'unsanitary', 3000: 'mount', 3001: 'fantasy', 3002: 'tons', 3003: 'layer', 3004: 'host', 3005: 'attractive_woman_#2:', 3006: 'modestly', 3007: 'clipped', 3008: 'clapping', 3009: 'hunky', 3010: 'bully', 3011: '$42', 3012: 'mckinley', 3013: \"rustlin'\", 3014: 'eminence', 3015: 'disturbance', 3016: 'jar', 3017: 'nudge', 3018: 'junkyard', 3019: 'writing', 3020: 'coney', 3021: \"he'll\", 3022: 'sacrifice', 3023: 'notably', 3024: 'expose', 3025: 'product', 3026: 'victorious', 3027: 'korea', 3028: 'act', 3029: 'defensive', 3030: 'clench', 3031: 'up-bup-bup', 3032: 'youse', 3033: 'hoo', 3034: 'chunky', 3035: 'background', 3036: 'express', 3037: 'methinks', 3038: 'bottles', 3039: 'investment', 3040: 'figures', 3041: 'your', 3042: 'ashamed', 3043: 'pageant', 3044: \"'s\", 3045: 'meteor', 3046: 'jovial', 3047: 'tapestry', 3048: 'virile', 3049: 'bender:', 3050: 'singer', 3051: 'opening', 3052: 'raining', 3053: 'anxious', 3054: 'anonymous', 3055: 'recall', 3056: 'shaky', 3057: 'kent', 3058: 'hillbillies', 3059: 'magic', 3060: 'playing', 3061: 'midge', 3062: 'predecessor', 3063: 'kissingher', 3064: 'lock', 3065: 'cuddling', 3066: 'wade_boggs:', 3067: 'states', 3068: 'arrest', 3069: 'p-k', 3070: 'charming', 3071: 'touch', 3072: 'bedbugs', 3073: 'heather', 3074: 'cent', 3075: 'blinded', 3076: 'sticking-place', 3077: 'chili', 3078: \"tree's\", 3079: \"lovers'\", 3080: 'indifferent', 3081: 'seymour', 3082: 'sudden', 3083: 'tuna', 3084: 'balls', 3085: 'drown', 3086: 'simplest', 3087: 'meaningfully', 3088: 'vampire', 3089: 'awake', 3090: 'agnes_skinner:', 3091: 'runs', 3092: 'burg', 3093: 'enthused', 3094: 'ring', 3095: 'pillows', 3096: 'society_matron:', 3097: 'afloat', 3098: 'desperately', 3099: 'enforced', 3100: 'desperate', 3101: 'brought', 3102: 'glum', 3103: 'thrust', 3104: 'justify', 3105: 'wobbly', 3106: 'powerful', 3107: 'suds', 3108: 'committing', 3109: 'perverted', 3110: '3rd_voice:', 3111: 'mid-conversation', 3112: \"pressure's\", 3113: 'restless', 3114: 'smiled', 3115: 'belts', 3116: 'chipper', 3117: 'wiping', 3118: 'ebullient', 3119: 'hootie', 3120: 'energy', 3121: 'alcoholism', 3122: 'value', 3123: 'dang', 3124: 'sending', 3125: 'ya', 3126: 'dumbest', 3127: 'mabel', 3128: \"ridin'\", 3129: 'dr', 3130: 'yuh-huh', 3131: 'giggle', 3132: 'rutabaga', 3133: 'jebediah', 3134: 'marguerite:', 3135: 'imitating', 3136: 'jesus', 3137: 'quietly', 3138: 'outside', 3139: 'arise', 3140: 'ivy-covered', 3141: 'camera', 3142: 'o', 3143: 'hare-brained', 3144: 'built', 3145: 'bastard', 3146: 'rest', 3147: 'partially', 3148: 'changing', 3149: 'tank', 3150: 'college', 3151: 'license', 3152: 'literature', 3153: 'anguished', 3154: 'rubbed', 3155: 'lager', 3156: 'pall', 3157: 'palmerston', 3158: \"idea's\", 3159: 'moved', 3160: 'slight', 3161: 'begins', 3162: 'brunch', 3163: 'distance', 3164: 'wow', 3165: \"listenin'\", 3166: 'pigtown', 3167: 'oh-so-sophisticated', 3168: 'mystery', 3169: 'dress', 3170: 'insightful', 3171: 'feel', 3172: 'miss', 3173: 'jay', 3174: 'stewart', 3175: 'yellow', 3176: 'playhouse', 3177: \"springfield's\", 3178: 'nuclear', 3179: 'gloop', 3180: 'mrs', 3181: 'any', 3182: 'punk', 3183: '||return||', 3184: 'refreshment', 3185: 'grumpy', 3186: 'regulations', 3187: 'busiest', 3188: 'court', 3189: 'been', 3190: 'lady-free', 3191: \"'cause\", 3192: 'swe-ee-ee-ee-eet', 3193: 'gunter:', 3194: 'colorado', 3195: 'enjoy', 3196: 'fly', 3197: 'single', 3198: 'certainly', 3199: 'lush', 3200: 'terrified', 3201: 'smooth', 3202: 'judgments', 3203: 'gayer', 3204: 'promotion', 3205: 'school', 3206: 'stepped', 3207: 'incapable', 3208: 'torn', 3209: 'tommy', 3210: 'jackpot-thief', 3211: 'barber', 3212: 'beady', 3213: 'measure', 3214: 'strategizing', 3215: 'bush', 3216: \"showin'\", 3217: 'kidding', 3218: 'brother', 3219: 'scary', 3220: 'celebrities', 3221: 'shape', 3222: 'good-looking', 3223: 'feld', 3224: 'woman_bystander:', 3225: 'avenue', 3226: 'grace', 3227: 'chauffeur:', 3228: 'brow', 3229: 'snap', 3230: \"gettin'\", 3231: 'comic_book_guy:', 3232: 'lobster-politans', 3233: \"cashin'\", 3234: 'dinner', 3235: 'tentative', 3236: 'accounta', 3237: 'waltz', 3238: 'weather', 3239: \"takin'\", 3240: 'crank', 3241: 'bathroom', 3242: 'said:', 3243: 'gestated', 3244: 'refiero', 3245: 'mozzarella', 3246: 'sucker', 3247: 'railroads', 3248: 'contemptuous', 3249: 'unless', 3250: 'nickel', 3251: 'drag', 3252: \"s'pose\", 3253: 'nagurski', 3254: 'notorious', 3255: 'health_inspector:', 3256: 'brightening', 3257: 'ingested', 3258: 'charlie', 3259: 'ticks', 3260: 'instead', 3261: 'golden', 3262: 'shock', 3263: 'dancing', 3264: 'prizefighters', 3265: 'me', 3266: 'whoever', 3267: 'john', 3268: 'enjoys', 3269: 'jerry', 3270: 'anarchy', 3271: 'sees', 3272: 'involving', 3273: 'ding-a-ding-ding-ding-ding-ding-ding', 3274: 'error', 3275: 'patient', 3276: 'clubs', 3277: 'frog', 3278: 'would', 3279: 'seat', 3280: 'liquor', 3281: 'ninety-seven', 3282: 'life-partner', 3283: 'guest', 3284: 'goal', 3285: 'ahh', 3286: 'faceful', 3287: \"tony's\", 3288: 'jigger', 3289: 'what-for', 3290: 'problemo', 3291: 'souvenir', 3292: 'growing', 3293: \"squeezin'\", 3294: 'e', 3295: 'hilarious', 3296: 'him', 3297: 'straining', 3298: 'fixes', 3299: 'stand', 3300: 'childless', 3301: 'handle', 3302: \"nixon's\", 3303: 'robin', 3304: 'stores', 3305: 'jeers', 3306: 'dawning', 3307: 'distributor', 3308: 'said', 3309: 'nascar', 3310: 'law', 3311: 'libraries', 3312: 'puke', 3313: 'roach', 3314: 'emotion', 3315: 'war', 3316: 'stalin', 3317: 'scornfully', 3318: 'aer', 3319: 'holy', 3320: 'sexy', 3321: 'carey', 3322: 'dollars', 3323: 'düffenbraus', 3324: 'bolting', 3325: 'venom', 3326: \"people's\", 3327: 'winch', 3328: 'hate', 3329: 'gasoline', 3330: 'wide', 3331: 'jukebox', 3332: 'broke', 3333: 'albert', 3334: 'headhunters', 3335: 'badge', 3336: 'anyone', 3337: 'xanders', 3338: 'quimby_#2:', 3339: 'reward', 3340: 'germans', 3341: 'uniforms', 3342: 'take', 3343: 'started', 3344: 'sixty-five', 3345: 'settled', 3346: '_burns_heads:', 3347: 'giving', 3348: 'poorer', 3349: 'philosophic', 3350: 'annual', 3351: 'waist', 3352: 'conversation', 3353: 'declan', 3354: 'dint', 3355: 'sing', 3356: 'saving', 3357: 'sanctuary', 3358: \"startin'\", 3359: 'gibson', 3360: 'thighs', 3361: 'ruined', 3362: 'dark', 3363: 'appear', 3364: 'legally', 3365: \"buffalo's\", 3366: 'seven', 3367: 'spine', 3368: 'grease', 3369: 'bridge', 3370: 'got', 3371: 'michael_stipe:', 3372: 'bulletin', 3373: 'crowds', 3374: 'upbeat', 3375: 'tired', 3376: 'civilization', 3377: 'gosh', 3378: 'distaste', 3379: 'natural', 3380: 'roll', 3381: \"soundin'\", 3382: \"where's\", 3383: 'mommy', 3384: 'funny', 3385: 'enter', 3386: 'chain', 3387: 'flown', 3388: 'janette', 3389: 'flynt', 3390: 'scram', 3391: 'dig', 3392: 'omigod', 3393: 'reader', 3394: 'bulldozing', 3395: 'ron_howard:', 3396: 'jacksons', 3397: 'ho-la', 3398: 'covering', 3399: 'holds', 3400: 'weapon', 3401: 'without:', 3402: 'circus', 3403: 'dimly', 3404: 'wordloaf', 3405: 'square', 3406: 'ugly', 3407: 'desire', 3408: 'gamble', 3409: 'malfeasance', 3410: 'prayer', 3411: 'soot', 3412: 'football_announcer:', 3413: 'pick', 3414: 'bubbles', 3415: 'gol-dangit', 3416: 'repressed', 3417: 'taken', 3418: 'kl5-4796', 3419: 'notch', 3420: 'bar:', 3421: 'occupation', 3422: 'bronco', 3423: 'ze-ro', 3424: 'grab', 3425: 'calvin', 3426: 'painted', 3427: 'crummy', 3428: 'fish', 3429: 'own', 3430: 'jerk-ass', 3431: 'choked', 3432: 'ohhhh', 3433: 'unfair', 3434: 'question', 3435: 'hopeful', 3436: 'burning', 3437: 'connor-politan', 3438: 'comic', 3439: 'often', 3440: \"ragin'\", 3441: 'equivalent', 3442: 'blob', 3443: 'dumb', 3444: 'sounded', 3445: 'rings', 3446: 'earrings', 3447: 'numbers', 3448: 'convinced', 3449: 'bachelorette', 3450: 'inspector', 3451: 'painting', 3452: 'princess', 3453: 'duffman', 3454: 'woe:', 3455: 'reluctantly', 3456: 'candy', 3457: 'passes', 3458: 'burns', 3459: 'satisfied', 3460: 'jamaican', 3461: 'raises', 3462: 'spooky', 3463: \"linin'\", 3464: 'morlocks', 3465: 'gal', 3466: 'apu_nahasapeemapetilon:', 3467: 'lovers', 3468: 'creeps', 3469: 'adult_bart:', 3470: 'cigars', 3471: 'wore', 3472: 'unkempt', 3473: 'dictator', 3474: 'wednesday', 3475: 'chief_wiggum:', 3476: 'restroom', 3477: 'burn', 3478: 'phone', 3479: 'vincent', 3480: 'commanding', 3481: 'estranged', 3482: 'such', 3483: 'dime', 3484: 'wham', 3485: 'managed', 3486: 'foot', 3487: 'eco-fraud', 3488: 'reminded', 3489: 'family', 3490: 'conversion', 3491: \"wallet's\", 3492: 'jam', 3493: 'because', 3494: 'singing', 3495: 'salad', 3496: 'reached', 3497: 'stairs', 3498: 'voice:', 3499: 'champignons', 3500: 'finger', 3501: 'till', 3502: 'alma', 3503: 'fat_in_the_hat:', 3504: 'near', 3505: 'flames', 3506: 'powered', 3507: \"meanin'\", 3508: 'sees/', 3509: 'reaching', 3510: 'retired', 3511: 'site', 3512: 'smuggled', 3513: 'fortune', 3514: 'dexterous', 3515: 'attach', 3516: 'faiths', 3517: 'civic', 3518: 'inflated', 3519: 'bottomless', 3520: 'whaaa', 3521: 'simon', 3522: 'fold', 3523: 'peeping', 3524: 'occasion', 3525: 'inexorable', 3526: 'hose', 3527: 'totally', 3528: 'shoes', 3529: 'pub', 3530: 'new_health_inspector:', 3531: 'resolution', 3532: 'ayyy', 3533: 'selective', 3534: 'progress', 3535: 'hafta', 3536: 'pleading', 3537: 'remembered', 3538: 'snow', 3539: 'banks', 3540: 'honest', 3541: 'folks', 3542: 'polishing', 3543: 'sagely', 3544: 'stan', 3545: 'heard', 3546: 'golf', 3547: 'insist', 3548: 'want', 3549: 'skinner', 3550: \"y'money's\", 3551: 'face', 3552: 'makes', 3553: 'yep', 3554: 'public', 3555: 'johnny_carson:', 3556: 'mediterranean', 3557: 'astrid', 3558: 'fast-paced', 3559: 'head', 3560: 'dog', 3561: 'journey', 3562: 'flew', 3563: 'grienke', 3564: 'arrange', 3565: 'gabriel', 3566: 'mention', 3567: 'baseball', 3568: 'rap', 3569: 'strong', 3570: 'male_inspector:', 3571: 'confidentially', 3572: 'faded', 3573: 'police', 3574: \"tv's\", 3575: \"'ere\", 3576: 'true', 3577: 'safer', 3578: 'although', 3579: 'sniffs', 3580: 'sobbing', 3581: 'sissy', 3582: 'tie', 3583: 'rag', 3584: 'fight', 3585: 'book_club_member:', 3586: 'film', 3587: 'yesterday', 3588: 'droning', 3589: 'city', 3590: '1973', 3591: 'answer', 3592: 'dumb-asses', 3593: 'disappointment', 3594: 'churchill', 3595: 'prefer', 3596: 'upset', 3597: 'hemoglobin', 3598: 'buds', 3599: 'healthier', 3600: 'ideal', 3601: 'lewis', 3602: 'chastity', 3603: 'aiden', 3604: 'finale', 3605: 'checks', 3606: \"patrick's\", 3607: 'disguise', 3608: 'curiosity', 3609: 'depression', 3610: 'depressing', 3611: 'spy', 3612: 'touchdown', 3613: \"g'on\", 3614: 'duffman:', 3615: 'ashtray', 3616: 'remorseful', 3617: 'email', 3618: 'boyhood', 3619: 'lighter', 3620: 'intruding', 3621: 'microphone', 3622: 'drapes', 3623: 'reckless', 3624: \"santa's\", 3625: 'metal', 3626: 'releases', 3627: 'coffee', 3628: 'remodel', 3629: \"fishin'\", 3630: 'washer', 3631: 'pained', 3632: 'mamma', 3633: 'enthusiasm', 3634: 'pantsless', 3635: 'open-casket', 3636: 'decency', 3637: 'moe-lennium', 3638: 'neighborhood', 3639: 'bet', 3640: 'alphabet', 3641: 'grammar', 3642: 'heading', 3643: 'monkeyshines', 3644: 'porn', 3645: 'slightly', 3646: 'unattractive', 3647: 'break-up', 3648: 'lay', 3649: 'able', 3650: 'executive', 3651: 'out', 3652: 'go-near-', 3653: 'amazing', 3654: 'blooded', 3655: 'wall', 3656: 'products', 3657: 'cure', 3658: 'mobile', 3659: 'multi-purpose', 3660: 'senator', 3661: 'goodwill', 3662: 'terrible', 3663: 'arrived', 3664: \"soakin's\", 3665: 'shower', 3666: 'germany', 3667: 'hmmm', 3668: 'program', 3669: 'blissful', 3670: 'stonewall', 3671: 'lessee', 3672: 'peace', 3673: 'skinny', 3674: 'characteristic', 3675: '3', 3676: 'mostly', 3677: 'weird', 3678: 'decadent', 3679: 'tokens', 3680: 'getting', 3681: 'experiments', 3682: 'graves', 3683: 'art', 3684: 'full', 3685: 'museum', 3686: 'har', 3687: 'yet', 3688: 'ice', 3689: \"puttin'\", 3690: 'shells', 3691: \"choosin'\", 3692: 'scores', 3693: \"i-i'm\", 3694: 'feat', 3695: 'mickey', 3696: 'sobs', 3697: 'years', 3698: 'irs', 3699: 'outs', 3700: 'rented', 3701: 'wallet', 3702: 'music', 3703: 'owe', 3704: 'cushion', 3705: 'victim', 3706: 'moe', 3707: \"duff's\", 3708: 'created', 3709: 'relieved', 3710: 'fella', 3711: 'tale', 3712: 'regret', 3713: 'phrase', 3714: 'himself', 3715: 'money', 3716: 'realize', 3717: 'denser', 3718: 'dentist', 3719: 'lied', 3720: 'wally:', 3721: \"knockin'\", 3722: 'snackie', 3723: 'where', 3724: 'relationship', 3725: 'sloe', 3726: 'cold', 3727: 'figure', 3728: 'hell', 3729: 'motorcycle', 3730: 'cause', 3731: 'tuborg', 3732: 'intakes', 3733: 'sighs', 3734: 'pancakes', 3735: 'duty', 3736: 'strap', 3737: 'lazy', 3738: 'tabs', 3739: 'comforting', 3740: 'team', 3741: 'chair', 3742: 'careful', 3743: 'shuts', 3744: 'eddie:', 3745: 'number', 3746: 'gift:', 3747: 'invulnerable', 3748: 'west', 3749: 'reading:', 3750: 'scum', 3751: 'fainted', 3752: 'turning', 3753: 'another', 3754: 'code', 3755: 'drunkenly', 3756: 'mocking', 3757: 'slobs', 3758: 'fishing', 3759: 'falsetto', 3760: 'extra', 3761: 'radio', 3762: 'local', 3763: '2nd_voice_on_transmitter:', 3764: 'mate', 3765: 'perplexed', 3766: 'shares', 3767: 'hat', 3768: 'streetlights', 3769: 'hyahh', 3770: 'sport', 3771: 'fdic', 3772: 'rummy', 3773: 'mike', 3774: 'squirrel', 3775: 'empty', 3776: \"cheerin'\", 3777: 'ducked', 3778: 'lodge', 3779: 'penmanship', 3780: 'mini-dumpsters', 3781: 'crotch', 3782: 'eww', 3783: 'a', 3784: 'atlanta', 3785: 'steal', 3786: 'shipment', 3787: 'stickers', 3788: \"calf's\", 3789: 'hated', 3790: 'ripcord', 3791: 'terror', 3792: 'rather', 3793: 'humiliation', 3794: 'enjoyed', 3795: 'acting', 3796: 'sister', 3797: 'themselves', 3798: 'spend', 3799: 'sixteen', 3800: 'ingrates', 3801: 'maiden', 3802: \"handwriting's\", 3803: 'loan', 3804: 'belches', 3805: 'halvsies', 3806: 'brace', 3807: 'island', 3808: 'find', 3809: 'slurps', 3810: 'dressing', 3811: 'koholic', 3812: \"you'll\", 3813: \"lookin'\", 3814: 'andalay', 3815: 'ivory', 3816: 'jubilation', 3817: 'they', 3818: 'leg', 3819: 'bread', 3820: 'naegle', 3821: 'football', 3822: 'steinbrenner', 3823: 'rickles', 3824: 'maggie', 3825: 'broken:', 3826: 'cleaner', 3827: 'shades', 3828: \"could've\", 3829: 'man', 3830: 'mill', 3831: 'tiger', 3832: 'boxing', 3833: 'prints', 3834: 'springfield', 3835: \"fightin'\", 3836: \"marge's\", 3837: 'choked-up', 3838: \"games'd\", 3839: '||quotation_mark||', 3840: 'therefore', 3841: 'cartoons', 3842: 'temples', 3843: 'stunned', 3844: 'specific', 3845: 'beer:', 3846: 'meaningless', 3847: 'if', 3848: 'swimming', 3849: 'incriminating', 3850: 'gee', 3851: 'yelling', 3852: 'coma', 3853: 'peter', 3854: 'excitement', 3855: 'coach:', 3856: 'chorus:', 3857: \"shouldn't\", 3858: 'looting', 3859: 'sitting', 3860: 'sacajawea', 3861: 'doreen:', 3862: 'swear', 3863: 'selfish', 3864: 'gulliver_dark:', 3865: 'flash-fry', 3866: 'unattended', 3867: 'broad', 3868: 'cruel', 3869: 'hey', 3870: 'smug', 3871: 'fool', 3872: 'it:', 3873: 'muscles', 3874: 'french', 3875: 'ambrose', 3876: 'odd', 3877: 'eggs', 3878: 'leak', 3879: 'silent', 3880: 'dismissive', 3881: 'cakes', 3882: 'ghouls', 3883: 'padre', 3884: 'disco', 3885: 'however', 3886: 'videotaped', 3887: 'brunswick', 3888: 'alfalfa', 3889: 'curious', 3890: 'minister', 3891: 'bindle', 3892: 'calmly', 3893: 'continuing', 3894: 'blues', 3895: 'jackson', 3896: 'busy', 3897: 'carefully', 3898: 'touches', 3899: 'network', 3900: 'nigerian', 3901: 'terrace', 3902: 'brotherhood', 3903: 'marge_simpson:', 3904: 'sooner', 3905: \"she'll\", 3906: 'barstools', 3907: 'crow', 3908: 'judges', 3909: 'charm', 3910: 'foil', 3911: \"tomorrow's\", 3912: 'st', 3913: 'americans', 3914: 'female_inspector:', 3915: 'diamond', 3916: \"doesn't\", 3917: 'ironic', 3918: 'fritz', 3919: 'conditioning', 3920: 'superhero', 3921: 'book', 3922: 'murdoch', 3923: 'male_singers:', 3924: 'illegally', 3925: 'cocks', 3926: 'hired', 3927: 'wowww', 3928: 'lists', 3929: 'points', 3930: 'retain', 3931: 'extended', 3932: 'amused', 3933: 'dum-dum', 3934: 'costume', 3935: 'conspiracy', 3936: 'protesters', 3937: 'wildest', 3938: 'short_man:', 3939: 'utility', 3940: 'nemo', 3941: \"jackpot's\", 3942: 'micronesian', 3943: 'charlie:', 3944: \"sittin'\", 3945: 'chuckling', 3946: 'all-all-all', 3947: 'groan', 3948: 'average', 3949: 'pridesters:', 3950: 'sexual', 3951: 'noggin', 3952: 'can', 3953: 'gasp', 3954: 'hounds', 3955: 'al_gore:', 3956: \"son's\", 3957: 'kidneys', 3958: 'aghast', 3959: 'car', 3960: 'mistake', 3961: 'loyal', 3962: 'voice', 3963: 'european', 3964: 'eleven', 3965: 'closes', 3966: 'splendid', 3967: 'first', 3968: 'baritone', 3969: 'mortgage', 3970: 'stares', 3971: 'matter-of-fact', 3972: 'gut', 3973: 'caricature', 3974: 'biggest', 3975: 'manchego', 3976: 'nature', 3977: 'consciousness', 3978: 'million', 3979: 'slobbo', 3980: 'brother-in-law', 3981: 'cheered', 3982: 'swishkabobs', 3983: 'chilly', 3984: 'possessions', 3985: 'groin', 3986: 'mall', 3987: 'warren', 3988: 'universe', 3989: 'effervescence', 3990: 'decent', 3991: 'literary', 3992: 'blue', 3993: 'history', 3994: \"raggin'\", 3995: 'crisis', 3996: 'booking', 3997: 'human', 3998: 'period', 3999: 'tasty', 4000: 'diapers', 4001: 'rosey', 4002: 'mary', 4003: 'all-star', 4004: 'total', 4005: 'means', 4006: 'extract', 4007: 'banquo', 4008: 'bourbon', 4009: 'trenchant', 4010: 'rush', 4011: 'completely', 4012: 'reliable', 4013: 'edner', 4014: 'noose', 4015: 'renovations', 4016: 'load', 4017: 'mccall', 4018: 'enlightened', 4019: 'forward', 4020: 'wiggle-frowns', 4021: 'tropical', 4022: 'hall', 4023: 'unhappy', 4024: 'exits', 4025: 'wild', 4026: 'amount', 4027: 'above', 4028: 'sun', 4029: 'moe-clone:', 4030: 'suspiciously', 4031: 'ask', 4032: 'door', 4033: 'detective_homer_simpson:', 4034: 'wanna', 4035: 'sticking', 4036: 'edna_krabappel-flanders:', 4037: 'says', 4038: 'dance', 4039: 'milks', 4040: 'nectar', 4041: 'refinanced', 4042: 'inanely', 4043: 'respect', 4044: 'spotting', 4045: 'underbridge', 4046: 'guts', 4047: 'belly', 4048: 'overflowing', 4049: 'grants', 4050: 'cummerbund', 4051: 'official', 4052: 'morning', 4053: \"game's\", 4054: 'nerd', 4055: 'results', 4056: 'chug-a-lug', 4057: 'não', 4058: 'remain', 4059: 'nelson', 4060: 'wedding', 4061: 'reynolds', 4062: 'comedies', 4063: 'taxes', 4064: 'sacrilicious', 4065: 'sales', 4066: 'century', 4067: 'slurred', 4068: 'yoink', 4069: 'crinkly', 4070: 'cool', 4071: 'cauliflower', 4072: 'knowingly', 4073: 'concentrate', 4074: 'cheers', 4075: 'fledgling', 4076: 'hmf', 4077: 'tying', 4078: 'damage', 4079: 'whaddaya', 4080: 'admit', 4081: 'rueful', 4082: 'tony', 4083: 'eightball', 4084: 'jacques', 4085: 'twentieth', 4086: 'sponsor', 4087: \"city's\", 4088: 'panties', 4089: 'even', 4090: 'rainbows', 4091: 'frustrated', 4092: 'born', 4093: 'drink', 4094: 'cheering', 4095: 'language', 4096: 'soul', 4097: 'checking', 4098: 'bad-mouth', 4099: 'movement', 4100: 'mop', 4101: 'mellow', 4102: 'bed', 4103: 'scratching', 4104: \"bladder's\", 4105: 'philip', 4106: 'erasers', 4107: 'municipal', 4108: 'gunter', 4109: 'el', 4110: 'kindly', 4111: 'apu', 4112: 'temper', 4113: \"didn't\", 4114: 'equal', 4115: 'cranberry', 4116: 'afford', 4117: 'job', 4118: 'x', 4119: 'kisser', 4120: 'spoon', 4121: 'in', 4122: 'sincere', 4123: 'hostile', 4124: 'instantly', 4125: \"murphy's\", 4126: \"bashir's\", 4127: 'counting', 4128: 'march', 4129: \"robbin'\", 4130: 'flustered', 4131: 'greatly', 4132: 'dallas', 4133: 'pilsner-pusher', 4134: 'pulitzer', 4135: 'hillary', 4136: 'surgeonnn', 4137: 'chubby', 4138: 'bold', 4139: 'turlet', 4140: 'time', 4141: 'flag', 4142: 'actually', 4143: 'us', 4144: 'fatso', 4145: 'meditative', 4146: 'taste', 4147: 'lizard', 4148: 'champs', 4149: 'bleeding', 4150: 'officer', 4151: 'showered', 4152: 'delivery', 4153: 'excited', 4154: 'professional', 4155: 'though:', 4156: 'excuses', 4157: 'sharing', 4158: 'squeezed', 4159: 'crippling', 4160: 'somewhere', 4161: 'karaoke', 4162: 'endorsement', 4163: 'krusty', 4164: 'tolerance', 4165: 'bannister', 4166: 'menacing', 4167: 'tidy', 4168: \"speakin'\", 4169: 'settlement', 4170: 'digging', 4171: 'stationery', 4172: 'paparazzo', 4173: 'mariah', 4174: 'solid', 4175: \"school's\", 4176: 'feelings', 4177: 'assistant', 4178: 'fourth', 4179: 'mmmmm', 4180: 'artist', 4181: 'recently', 4182: 'laughing', 4183: 'thought_bubble_homer:', 4184: 'sold', 4185: 'easier', 4186: 'world-class', 4187: 'pickle', 4188: 'betty:', 4189: 'gig', 4190: 'smiles', 4191: 'steely-eyed', 4192: \"wasn't\", 4193: 'jelly', 4194: 'brooklyn', 4195: 'needy', 4196: 'photos', 4197: 'hiya', 4198: 'dangerous', 4199: 'impress', 4200: 'scene', 4201: 'insults', 4202: 'label', 4203: 'it', 4204: 'diminish', 4205: 'wuss', 4206: 'fatty', 4207: 'screams', 4208: 'thoughtfully', 4209: 'edgy', 4210: 'fleabag', 4211: 'grim', 4212: 'drains', 4213: 'the_rich_texan:', 4214: 'naively', 4215: 'ireland', 4216: 'helpless', 4217: 'thing', 4218: 'choke', 4219: 'changes', 4220: 'stengel', 4221: 'er', 4222: 'alter', 4223: 'britannia', 4224: 'lobster', 4225: 'far', 4226: 'teenage', 4227: 'whaaaa', 4228: 'lone', 4229: 'jolly', 4230: 'stones', 4231: 'ape-like', 4232: 'feet', 4233: 'patterns', 4234: 'triple-sec', 4235: \"'ceptin'\", 4236: 'tree', 4237: 'give', 4238: 'helpful', 4239: 'pretentious_rat_lover:', 4240: 'wayne', 4241: 'rivalry', 4242: 'junebug', 4243: 'invited', 4244: 'frankie', 4245: 'womb', 4246: 'winner', 4247: 'binoculars', 4248: 'pushing', 4249: 'kid', 4250: 'sounds', 4251: \"liberty's\", 4252: 'vin', 4253: 'tigers', 4254: 'pays', 4255: 'kills', 4256: 'boozer', 4257: 'wing', 4258: 'domed', 4259: 'fuzzlepitch', 4260: '100', 4261: 'uncle', 4262: 'capitalists', 4263: 'additional-seating-capacity', 4264: 'regretful', 4265: 'package', 4266: 'dramatic', 4267: 'wish-meat', 4268: 'script', 4269: 'effigy', 4270: 'confession', 4271: 'cobra', 4272: \"yieldin'\", 4273: 'examples', 4274: \"i'm\", 4275: 'urge', 4276: 'bury', 4277: 'swig', 4278: 'moolah-stealing', 4279: 'sexton', 4280: 'enemies', 4281: 'getcha', 4282: 'church', 4283: 'mathis', 4284: 'ollie', 4285: 'hub', 4286: 'better', 4287: 'starting', 4288: 'attractive_woman_#1:', 4289: 'apartment', 4290: 'extremely', 4291: 'dry', 4292: 'cocktail', 4293: 'life-extension', 4294: '8', 4295: 'wears', 4296: 'rage', 4297: 'simpson', 4298: 'hottest', 4299: 'entering', 4300: 'pudgy', 4301: \"c'mon\", 4302: 'girls', 4303: 'who-o-oa', 4304: 'silence', 4305: 'radiation', 4306: 'flower', 4307: 'hospital', 4308: 'brine', 4309: 'worried', 4310: 'pour', 4311: 'planned', 4312: 'thunder', 4313: 'stay-puft', 4314: 'prompting', 4315: 'making', 4316: 'freed', 4317: \"who's\", 4318: 'inning', 4319: 'tv_husband:', 4320: 'citizens', 4321: 'took', 4322: 'repeating', 4323: \"bart's\", 4324: 'worse', 4325: 'a-a-b-b-a', 4326: 'scatter', 4327: 'advertising', 4328: 'macbeth', 4329: 'cigarettes', 4330: 'model', 4331: 'their', 4332: 'hm', 4333: 'tourist', 4334: 'dying', 4335: 'um', 4336: 'hushed', 4337: 'alley', 4338: 'floating', 4339: 'doof', 4340: \"when's\", 4341: 'flush', 4342: 'blurbs', 4343: 'presided', 4344: \"team's\", 4345: 'competitive', 4346: 'jack_larson:', 4347: 'approval', 4348: 'except', 4349: 'medicine', 4350: 'arse', 4351: 'louisiana', 4352: 'blame', 4353: 'getup', 4354: 'thorough', 4355: 'negative', 4356: 'pool', 4357: 'bookie', 4358: 'housework', 4359: 'waking-up', 4360: \"writin'\", 4361: \"lenny's\", 4362: 'grunts', 4363: \"should've\", 4364: 'devils:', 4365: 'cookies', 4366: 'sausage', 4367: 'securities', 4368: 'wildfever', 4369: 'passed', 4370: 'smelling', 4371: 'seats', 4372: 'counterfeit', 4373: 'leans', 4374: 'uglier', 4375: \"narratin'\", 4376: 'limericks', 4377: 'limits', 4378: \"coaster's\", 4379: 'wieners', 4380: 'whose', 4381: 'nope', 4382: 'accepting', 4383: 'squad', 4384: \"hobo's\", 4385: 'rem', 4386: 'message', 4387: 'page', 4388: 'house', 4389: 'turns', 4390: 'shesh', 4391: 'advertise', 4392: \"'im\", 4393: 'hero', 4394: 'just', 4395: 'defected', 4396: 'trench', 4397: 'twenty-six', 4398: 'bottle', 4399: 'cattle', 4400: 'statue', 4401: 'crap', 4402: 'wanted', 4403: 'suave', 4404: 'noble', 4405: 'hockey-fight', 4406: 'mayor', 4407: 'icelandic', 4408: 'so-ng', 4409: 'helicopter', 4410: 'practically', 4411: 'lenny', 4412: 'appreciate', 4413: 'pep', 4414: 'ginger', 4415: 'na', 4416: 'stolen', 4417: 'ad', 4418: 'oil', 4419: 'tomorrow', 4420: 'glummy', 4421: 'banned', 4422: 'yello', 4423: 'tense', 4424: 'louie:', 4425: 'willing', 4426: 'missed', 4427: 'drawing', 4428: 'tomatoes', 4429: 'beaumont', 4430: 'scarf', 4431: 'marshmallow', 4432: 'knew', 4433: 'help', 4434: 'speak', 4435: 'reporter', 4436: 'only', 4437: 'asks', 4438: 'suicide', 4439: 'index', 4440: 'pictured', 4441: 'lowers', 4442: 'bees', 4443: 'jerking', 4444: 'occupied', 4445: 'wolveriskey', 4446: 'rhode', 4447: \"you've\", 4448: 'tearfully', 4449: 'owner', 4450: 'prejudice', 4451: 'billion', 4452: 'failure', 4453: 'rome', 4454: 'popped', 4455: 'rainier_wolfcastle:', 4456: 'gulps', 4457: 'merchants', 4458: 'ate', 4459: 'atari', 4460: 'bounced', 4461: 'carlotta:', 4462: 'wrapped', 4463: 'lumpa', 4464: 'agreement', 4465: 'proposing', 4466: 'slender', 4467: 'astonishment', 4468: 'takeaway', 4469: 'ripped', 4470: 'knife', 4471: 'were', 4472: 'motto', 4473: 'shifty', 4474: 'bake', 4475: 'maitre', 4476: 'peppy', 4477: 'abolish', 4478: 'record', 4479: 'exploiter', 4480: 'noooooooooo', 4481: 'understand', 4482: 'joking', 4483: 'alpha-crow', 4484: 'frenchman', 4485: 'wagering', 4486: 'homer', 4487: 'vampires', 4488: 'judge', 4489: 'rice', 4490: 'venture', 4491: 'moon-bounce', 4492: 'hemorrhage-amundo', 4493: 'dozen', 4494: 'served', 4495: 'yak', 4496: 'falcons', 4497: 'buyer', 4498: 'bag', 4499: 'ew', 4500: 'beards', 4501: 'cameras', 4502: \"toot's\", 4503: 'beef', 4504: '14', 4505: 'whatsit', 4506: 'unfresh', 4507: 'calling', 4508: 'bottoms', 4509: \"what's\", 4510: 'ding-a-ding-ding-a-ding-ding', 4511: 'brown', 4512: 'pointing', 4513: 'perfected', 4514: 'logos', 4515: 'down', 4516: 'cards', 4517: 'yells', 4518: 'alky', 4519: 'apart', 4520: 'hope', 4521: 'luv', 4522: 'mouse', 4523: 'gimmick', 4524: 'wearing', 4525: 'whoa', 4526: 'spews', 4527: 'odor', 4528: 'rotten', 4529: 'paste', 4530: 'creme', 4531: 'wizard', 4532: 'paramedic:', 4533: 'blow', 4534: 'masks', 4535: \"i'll\", 4536: 'card', 4537: 'original', 4538: 'fbi', 4539: 'fiction', 4540: 'moustache', 4541: 'malibu', 4542: 'plug', 4543: 'partly', 4544: \"sat's\", 4545: 'expect', 4546: 'sheepish', 4547: 'stupid', 4548: 'bugs', 4549: 'tax', 4550: 'stretches', 4551: 'blew', 4552: 'woman', 4553: 'nonchalant', 4554: 'likes', 4555: 'thoughts', 4556: 'loathe', 4557: 'corkscrews', 4558: 'done', 4559: 'process', 4560: 'issues', 4561: 'hurts', 4562: '&', 4563: 'decide:', 4564: 'playoff', 4565: 'polite', 4566: 'ugh', 4567: 'academy', 4568: 'seriously', 4569: 'inspection', 4570: 'dirge-like', 4571: 'consoling', 4572: \"o'reilly\", 4573: 'lucius', 4574: \"stabbin'\", 4575: 'use', 4576: 'apron', 4577: 'fans', 4578: 'magazine', 4579: 'windowshade', 4580: 'appalled', 4581: 'plan', 4582: 'due', 4583: 'felony', 4584: 'jeff', 4585: 'beyond', 4586: 'rafter', 4587: 'monster', 4588: 'gheet', 4589: 'fast-food', 4590: 'vomit', 4591: 'watt', 4592: 'linda', 4593: '_kissingher:', 4594: 'opens', 4595: 'heck', 4596: 'poulet', 4597: 'angry', 4598: 'disaster', 4599: 'seem', 4600: 'met', 4601: 'laugh', 4602: 'hurt', 4603: 'sponge', 4604: 'today/', 4605: 'asked', 4606: 'deals', 4607: 'fine', 4608: \"how'd\", 4609: 'lanes', 4610: 'trolls', 4611: 'oof', 4612: 'nonchalantly', 4613: 'disappointing', 4614: 'thorn', 4615: 'could', 4616: 'heroism', 4617: 'len-ny', 4618: 'nelson_muntz:', 4619: 'please/', 4620: 'idea', 4621: 'for', 4622: 'sunday', 4623: 'each', 4624: 'trash', 4625: 'urinal', 4626: 'un-sults', 4627: 'patron_#2:', 4628: 'warmly', 4629: 'statistician', 4630: 'large', 4631: 'donut-shaped', 4632: \"singin'\", 4633: 'championship', 4634: 'la', 4635: 'stein-stengel-', 4636: 'moron', 4637: 'song', 4638: 'sister-in-law', 4639: 'arabs', 4640: 'grey', 4641: 'play/', 4642: 'yo', 4643: \"weren't\", 4644: 'mmmm', 4645: 'exhale', 4646: 'blank', 4647: 'sobriety', 4648: 'cousin', 4649: 'stinky', 4650: 'scrutinizing', 4651: \"cupid's\", 4652: 'raging', 4653: 'dreary', 4654: 'committee', 4655: 'amazed', 4656: 'hobo', 4657: 'de-scramble', 4658: 'hunka', 4659: 'important', 4660: 'office', 4661: 'filthy', 4662: 'gag', 4663: 'arrested:', 4664: 'studied', 4665: 'exactly', 4666: 'tab', 4667: 'bow', 4668: 'intelligent', 4669: 'whatchacallit', 4670: 'combination', 4671: 'manager', 4672: 'works', 4673: \"industry's\", 4674: 'colonel:', 4675: 'gel', 4676: \"g'night\", 4677: 'sec_agent_#1:', 4678: 'connection', 4679: 'behind', 4680: \"messin'\", 4681: 'swigmore', 4682: 'sympathy', 4683: 'will', 4684: 'edna-lover-one-seventy-two', 4685: 'salt', 4686: 'urine', 4687: 'hungry', 4688: 'son', 4689: 'build', 4690: 'knit', 4691: 'steel', 4692: 'lainie:', 4693: \"fine-lookin'\", 4694: 'manjula_nahasapeemapetilon:', 4695: 'cheryl', 4696: 'barney-guarding', 4697: 'project', 4698: 'grandé', 4699: 'cases', 4700: 'heave-ho', 4701: 'sixty-nine', 4702: 'sharps', 4703: 'manjula', 4704: 'used', 4705: 'reptile', 4706: 'lowest', 4707: 'favorite', 4708: 'kissing', 4709: 'pip', 4710: 'obese', 4711: 'aged', 4712: 'valley', 4713: 'jacques:', 4714: 'and:', 4715: 'fury', 4716: 'twice', 4717: 'furious', 4718: 'nobody', 4719: 'nucular', 4720: 'agh', 4721: 'called', 4722: 'gotta', 4723: 'demo', 4724: 'none', 4725: 'gangrene', 4726: 'stumble', 4727: 'nail', 4728: 'dump', 4729: 'bart_simpson:', 4730: 'edge', 4731: 'tempting', 4732: 'glitz', 4733: 'half-day', 4734: 'coal', 4735: 'palm', 4736: 'cowboy', 4737: 'meeting', 4738: 'intoxicated', 4739: 'fools', 4740: 'double', 4741: 'trick', 4742: 'artie_ziff:', 4743: 'maya', 4744: 'beats', 4745: 'chief', 4746: 'outlive', 4747: 'napkins', 4748: 'easy', 4749: 'date', 4750: \"aristotle's\", 4751: 'onto', 4752: 'absorbent', 4753: 'guide', 4754: 'blinds', 4755: 'dejected_barfly:', 4756: 'foibles', 4757: 't-shirt', 4758: 'sleeping', 4759: 'hibbert', 4760: 'daddy', 4761: 'helen', 4762: 'cockroach', 4763: 'anti-lock', 4764: 'hawking:', 4765: 'offshoot', 4766: 'adeleine', 4767: 'calculate', 4768: 'leftover', 4769: 'fulla', 4770: 'writer:', 4771: 'bothered', 4772: 'tavern', 4773: 'amnesia', 4774: 'united', 4775: 'half-beer', 4776: 'pockets', 4777: 'elephants', 4778: 'dammit', 4779: 'dingy', 4780: 'sizes', 4781: 'spelling', 4782: 'teacup', 4783: 'thirty-three', 4784: 'l', 4785: 'fail', 4786: \"o'problem\", 4787: 'speed', 4788: 'strains', 4789: 'tablecloth', 4790: 'enveloped', 4791: 'average-looking', 4792: 'partners', 4793: 'chunk', 4794: 'reviews', 4795: 'wind', 4796: 'almost', 4797: 'marge', 4798: 'thought_bubble_lenny:', 4799: 'clams', 4800: 'pre-game', 4801: 'cheapskates', 4802: 'idiots', 4803: \"high-falutin'\", 4804: 'fox_mulder:', 4805: 'tip', 4806: 'thank', 4807: 'ling', 4808: 'tv-station_announcer:', 4809: \"homer's\", 4810: 'hanh', 4811: 'sadly', 4812: 'rapidly', 4813: 'eat', 4814: 'edison', 4815: 'mags', 4816: 'sternly', 4817: 'wudgy', 4818: 'fonzie', 4819: 'beers', 4820: \"don'tcha\", 4821: 'both', 4822: 'schorr', 4823: 'butts', 4824: 'fletcherism', 4825: 'pronounce', 4826: 'stink', 4827: 'agency', 4828: 'togetherness', 4829: 'theory', 4830: 'title:', 4831: 'harrowing', 4832: 'abcs', 4833: 'spender', 4834: 'moe-ron', 4835: 'fall', 4836: 'cronies', 4837: 'zone', 4838: 'low', 4839: 'come', 4840: 'bartenders', 4841: 'hooch', 4842: 'illustrates', 4843: 'fork', 4844: 'superpower', 4845: 'one', 4846: 'playful', 4847: 'my-y-y-y-y-y', 4848: 'elect', 4849: 'maybe', 4850: 'squabbled', 4851: 'housing', 4852: '_montgomery_burns:', 4853: 'profiling', 4854: \"bartender's\", 4855: 'queen', 4856: 'increasingly', 4857: 'wishing', 4858: 'booze-bags', 4859: 'nineteen', 4860: 'ivanna', 4861: 'drug', 4862: 'bleacher', 4863: 'deeply', 4864: 'jerk', 4865: 'shindig', 4866: 'adjourned', 4867: 'feedbag', 4868: 'simple', 4869: 'someone', 4870: 'filth', 4871: 'contemporary', 4872: 'red', 4873: 'twelve', 4874: 'anybody', 4875: 'gumbo', 4876: \"kearney's_dad:\", 4877: 'mailbox', 4878: 'rounds', 4879: 'thinks', 4880: 'morning-after', 4881: \"wino's\", 4882: 'eggshell', 4883: 'kirk', 4884: 'marry', 4885: 'line', 4886: 'well', 4887: 'god', 4888: 'all-american', 4889: 'column', 4890: 'soaked', 4891: 'movies', 4892: 'angel', 4893: 'rip', 4894: 'knock', 4895: 'ancestors', 4896: 'soir', 4897: 'uninhibited', 4898: 'grenky', 4899: 'brief', 4900: 'higher', 4901: 'wife-swapping', 4902: 'sheet', 4903: 'milk', 4904: 'forty-seven', 4905: 'hank_williams_jr', 4906: 'howya', 4907: 'cosmetics', 4908: 'brockelstein', 4909: 'serve', 4910: 'hits', 4911: 'lookalike', 4912: 'discriminate', 4913: \"workin'\", 4914: 'aziz', 4915: 'sale', 4916: 'starla', 4917: 'influence', 4918: 'releasing', 4919: 'rotch', 4920: 'forget-me-drinks', 4921: 'spirit', 4922: 'this', 4923: 'life', 4924: 'bam', 4925: 'pleased', 4926: 'ronstadt', 4927: 'bought', 4928: 'i-i-i', 4929: 'suspicious', 4930: 'diaper', 4931: 'der', 4932: 'girlfriend', 4933: 'shame', 4934: 'bike', 4935: 'produce', 4936: 'flayvin', 4937: 'curds', 4938: 'delicate', 4939: 'waste', 4940: 'thankful', 4941: 'yee-haw', 4942: 'tap', 4943: 'mugs', 4944: 'order', 4945: 'declare', 4946: 'something:', 4947: 'hair', 4948: 'inches', 4949: '7g', 4950: 'buddies', 4951: 'hooked', 4952: 'startled', 4953: 'ironed', 4954: 'tenuous', 4955: 'inserts', 4956: 'uncomfortable', 4957: 're:', 4958: 'be', 4959: 'joining', 4960: 'microwave', 4961: 'ruled', 4962: \"'roids\", 4963: 'slap', 4964: 'sight', 4965: 'soothing', 4966: 'elves:', 4967: 'disdainful', 4968: 'los', 4969: 'bit', 4970: 'whale', 4971: 'chips', 4972: 'mean', 4973: 'serious', 4974: 'situation', 4975: 'attraction', 4976: 'army', 4977: 'fumigated', 4978: \"queen's\", 4979: 'throats', 4980: 'he', 4981: 'endorse', 4982: \"that'd\", 4983: 'strokkur', 4984: 'absentmindedly', 4985: 'event', 4986: 'wars', 4987: 'feed', 4988: 'breakfast', 4989: 'nameless', 4990: 'c', 4991: 'horrible', 4992: 'wood', 4993: 'carve', 4994: 'fit', 4995: 'pipes', 4996: 'beaumarchais', 4997: \"mo'\", 4998: 'eurotrash', 4999: 'blend', 5000: 'mimes', 5001: \"bar's\", 5002: 'sickly', 5003: 'madonna', 5004: 'teacher', 5005: 'decided', 5006: 'wise', 5007: 'aid', 5008: 'forget-me-shot', 5009: 'yelp', 5010: 'kisses', 5011: '||left_parentheses||', 5012: 'snaps', 5013: 'compressions', 5014: 'instrument', 5015: 'chanting', 5016: 'malted', 5017: 'legs', 5018: 'woman:', 5019: 'sustain', 5020: 'giggles', 5021: 'pulls', 5022: 'afternoon', 5023: 'fudd', 5024: 'cannot', 5025: 'longer', 5026: 'mechanical', 5027: 'peanut', 5028: 'again', 5029: 'america', 5030: 'sue', 5031: 'husband', 5032: 'ready', 5033: 'skirt', 5034: 'bluff', 5035: 'heaven', 5036: 'tin', 5037: 'is', 5038: 'f', 5039: 'grubby', 5040: \"rasputin's\", 5041: 'which', 5042: 'hotenhoffer', 5043: \"waitin'\", 5044: 'sweden', 5045: \"ain't\", 5046: 'bloodiest', 5047: 'snail', 5048: 'shortcomings', 5049: 'match', 5050: 'skin', 5051: \"jimbo's_dad:\", 5052: 'talkative', 5053: 'gregor', 5054: 'weekly', 5055: 'dutch', 5056: 'someplace', 5057: 'mix', 5058: 'toss', 5059: 'carl_carlson:', 5060: 'stars', 5061: 'finding', 5062: 'eliminate', 5063: 'bill_james:', 5064: 'mock', 5065: 'examines', 5066: 'finished', 5067: 'poke', 5068: 'ahem', 5069: \"'tis\", 5070: 'fbi_agent:', 5071: 'alright', 5072: 'cotton', 5073: 'make', 5074: 'explain', 5075: 'scooter', 5076: 'blimp', 5077: 'snake_jailbird:', 5078: 'slice', 5079: 'breathalyzer', 5080: \"smackin'\", 5081: 'leonard', 5082: 'came', 5083: 'driver', 5084: 'super-genius', 5085: 'cheated', 5086: 'rods', 5087: 'every', 5088: 'maude', 5089: 'alive', 5090: 'studio', 5091: 'introduce', 5092: 'menlo', 5093: 'need', 5094: 'oww', 5095: 'festival', 5096: 'mild', 5097: 'annoying', 5098: 'hearing', 5099: 'solved', 5100: 'pretzels', 5101: 'solo', 5102: '_zander:', 5103: 'griffith', 5104: 'gary:', 5105: 'a-b-', 5106: 'rock', 5107: 'furry', 5108: '7-year-old_brockman:', 5109: 'grunt', 5110: 'annus', 5111: 'the_edge:', 5112: 'keeping', 5113: 'accurate', 5114: 'gentleman:', 5115: 'beings', 5116: 'stood', 5117: 'dank', 5118: 'virtual', 5119: 'irishman', 5120: 'limber', 5121: \"lefty's\", 5122: \"it's\", 5123: 'broadway', 5124: 'loved', 5125: 'cock', 5126: 'frontrunner', 5127: 'games', 5128: 'shriners', 5129: 'kings', 5130: 'roomy', 5131: 'bets', 5132: 'lis', 5133: 'scrutinizes', 5134: 'satisfaction', 5135: 'terrifying', 5136: 'k', 5137: 'leave', 5138: 'forty-nine', 5139: 'administration', 5140: 'lindsay', 5141: 'bob', 5142: 'peabody', 5143: 'forbids', 5144: 'groveling', 5145: 'other_player:', 5146: \"drinkin'\", 5147: 'lungs', 5148: 'blokes', 5149: 'th-th-th-the', 5150: 'wishful', 5151: 'comedy', 5152: \"mecca's\", 5153: 'pressure', 5154: \"family's\", 5155: 'habit', 5156: 'doing', 5157: 'thanksgiving', 5158: 'aging', 5159: 'friction', 5160: 'walk', 5161: 'terminated', 5162: 'insured', 5163: 'sponge:', 5164: 'listen', 5165: 'humanity', 5166: 'youth', 5167: 'compromise:', 5168: 'kearney_zzyzwicz:', 5169: \"we'll\", 5170: \"can't\", 5171: 'wiggum', 5172: 'maxed', 5173: 'unavailable', 5174: 'pipe', 5175: 'best', 5176: 'crime', 5177: 'insulin', 5178: 'selling', 5179: 'squishee', 5180: 'refund', 5181: 'agent_miller:', 5182: 'cooker', 5183: 'plum', 5184: 'animals', 5185: 'lou:', 5186: 'pasta', 5187: 'fustigate', 5188: 'beast', 5189: 'buzz', 5190: 'sits', 5191: 'full-blooded', 5192: 'blocked', 5193: 'restaurants', 5194: 'senators:', 5195: 'statesmanlike', 5196: 'drop', 5197: 'fifth', 5198: 'locked', 5199: 'six-barrel', 5200: 'remaining', 5201: 'urban', 5202: 'assent', 5203: 'sitar', 5204: 'trying', 5205: 'delete', 5206: 'day', 5207: 'haircuts', 5208: 'view', 5209: 'sky', 5210: \"lisa's\", 5211: 'hairs', 5212: 'teenage_bart:', 5213: 'newsletter', 5214: 'takes', 5215: 'considers', 5216: 'heh', 5217: 'spoken', 5218: 'au', 5219: 'shooting', 5220: 'lurleen_lumpkin:', 5221: 'beard', 5222: 'shotgun', 5223: 'lover', 5224: 'mccarthy', 5225: 'sub-monkeys', 5226: 'fountain', 5227: 'tsking', 5228: 'mug', 5229: 'mexican_duffman:', 5230: 'lotta', 5231: 'gimmicks', 5232: 'cuff', 5233: 'hotel', 5234: 'telling', 5235: 'doooown', 5236: 'heartily', 5237: 'choose', 5238: 'hoax', 5239: 'cute', 5240: 'supports', 5241: 'eh', 5242: 'stop', 5243: \"phone's\", 5244: \"renee's\", 5245: 'white_rabbit:', 5246: 'glorious', 5247: 'shreda', 5248: 'gold', 5249: 'ball', 5250: 'gun', 5251: 'done:', 5252: 'hidden', 5253: 'type', 5254: 'subscriptions', 5255: 'after', 5256: 'do', 5257: 'orphan', 5258: 'add', 5259: 'burt_reynolds:', 5260: \"hadn't\", 5261: 'sidelines', 5262: 'holiday', 5263: 'acquitted', 5264: 'appeals', 5265: 'einstein', 5266: 'here-here-here', 5267: \"fans'll\", 5268: 'alec_baldwin:', 5269: 'manipulation', 5270: 'housewife', 5271: 'young_marge:', 5272: 'kicked', 5273: 'sniffing', 5274: 'dislike', 5275: 'rumor', 5276: 'theatrical', 5277: 'soap', 5278: 'hundreds', 5279: 'flanders:', 5280: 'or', 5281: 'quero', 5282: 'bucks', 5283: 'pinball', 5284: 'distract', 5285: 'selma', 5286: 'distraught', 5287: \"plank's\", 5288: 'expired', 5289: 'awful', 5290: 'burp', 5291: 'mitts', 5292: 'ing', 5293: 'casual', 5294: 'ignorance', 5295: 'sucked', 5296: 'late', 5297: 'many', 5298: 'cleaned', 5299: 'oblongata', 5300: \"'your\", 5301: 'reality', 5302: 'arm-pittish', 5303: 'nick', 5304: 'sponsoring', 5305: 'appealing', 5306: 'dies', 5307: 'sneering', 5308: 'love', 5309: 'successful', 5310: 'quarry', 5311: 'lard', 5312: \"o'\", 5313: 'chow', 5314: 'yard', 5315: 'unlike', 5316: 'cake', 5317: 'issuing', 5318: 'tang', 5319: 'to', 5320: 'dizer', 5321: \"tv'll\", 5322: \"america's\", 5323: 'samples', 5324: 'names', 5325: 'gruesome', 5326: 'country-fried', 5327: 'brings', 5328: 'talking', 5329: 'whenever', 5330: 'seductive', 5331: 'william', 5332: 'gags', 5333: 'cheerleaders:', 5334: 'handwriting', 5335: 'before', 5336: 'shoots', 5337: 'capitol', 5338: 'sweetie', 5339: 'crew', 5340: 'concerned', 5341: 'group', 5342: 'eva', 5343: 'days', 5344: 'dan', 5345: 'bedroom', 5346: 'maman', 5347: 'caught', 5348: 'lisa', 5349: 'grope', 5350: 'envy-tations', 5351: 'pretends', 5352: \"coffee'll\", 5353: 'certified', 5354: \"wife's\", 5355: 'wiener', 5356: 'movie', 5357: 'smallest', 5358: 'gator:', 5359: 'fragile', 5360: 'hollywood', 5361: 'donated', 5362: 'throat', 5363: 'image', 5364: 'packets', 5365: 'tv_daughter:', 5366: 'standing', 5367: 'fortensky', 5368: 'si-lent', 5369: 'zack', 5370: 'mob', 5371: 'labels', 5372: 'loboto-moth', 5373: 'icy', 5374: 'wolfe', 5375: 'fistiana', 5376: 'pronto', 5377: 'witches', 5378: 'part-time', 5379: 'ceremony', 5380: 'goodnight', 5381: 'yellow-belly', 5382: 'crayon', 5383: \"tab's\", 5384: 'mcstagger', 5385: 'offensive', 5386: 'sneak', 5387: 'improved', 5388: 'and/or', 5389: 'wheel', 5390: 'random', 5391: 'starters', 5392: 'england', 5393: 'garbage', 5394: 'fondest', 5395: 'eighty-six', 5396: 'underpants', 5397: 'tried', 5398: 'carny:', 5399: 'shard', 5400: 'unison', 5401: 'shut', 5402: 'stern', 5403: 'startup', 5404: 'tonic', 5405: 'helping', 5406: 'jerky', 5407: 'travel', 5408: 'shelf', 5409: 'uneasy', 5410: 'newsies', 5411: 'perverse', 5412: 'pretty', 5413: 'road', 5414: 'fraud', 5415: 'burnside', 5416: 'proud', 5417: 'computer', 5418: 'expert', 5419: 'stuff', 5420: '||period||', 5421: 'family-owned', 5422: 'little', 5423: 'side:', 5424: 'violations', 5425: 'store-bought', 5426: 'oh', 5427: 'indecipherable', 5428: 'badly', 5429: 'weekend', 5430: 'excellent', 5431: 'duel', 5432: 'okay', 5433: 'watered-down', 5434: 'television', 5435: 'liven', 5436: 'besides', 5437: \"dad's\", 5438: 'glee', 5439: 'married', 5440: 'tree_hoper:', 5441: 'row', 5442: 'shaggy', 5443: 'fourteen:', 5444: 'patty_bouvier:', 5445: 'guns', 5446: 'denver', 5447: 'bowled', 5448: 'grin', 5449: 'birthplace', 5450: 'texas', 5451: 'rusty', 5452: 'carolina', 5453: 'indeedy', 5454: 'read:', 5455: 'fuss', 5456: \"'topes\", 5457: 'ore', 5458: \"smokin'\", 5459: 'rookie', 5460: 'henry', 5461: 'summer', 5462: 'midge:', 5463: 'faint', 5464: 'old_jewish_man:', 5465: 'twenty-two', 5466: 'life-sized', 5467: 'visas', 5468: 'good', 5469: 'impressed', 5470: ':', 5471: \"bart'd\", 5472: 'scent', 5473: 'nurse', 5474: '35', 5475: 'managing', 5476: \"spaghetti-o's\", 5477: 'coming', 5478: 'genius', 5479: 'dunno', 5480: 'club', 5481: \"havin'\", 5482: 'jay:', 5483: 'forecast', 5484: 'sass', 5485: 'smoke', 5486: 'she-pu', 5487: 'gets', 5488: 'de', 5489: 'barney-type', 5490: 'chin', 5491: 'separator', 5492: 'omit', 5493: 'attend', 5494: 'fierce', 5495: 'skunk', 5496: 'roz', 5497: 'trees', 5498: 'advance', 5499: 'comment', 5500: 'multi-national', 5501: 'locklear', 5502: 'free', 5503: 'nicer', 5504: 'shrieks', 5505: 'kirk_voice_milhouse:', 5506: 'water', 5507: 'my', 5508: 'wazoo', 5509: 'errrrrrr', 5510: 'minimum', 5511: 'mom', 5512: 'cupid', 5513: 'western', 5514: 'nothing', 5515: 'depressant', 5516: 'bon-bons', 5517: 'mull', 5518: 'accidents', 5519: 'snake-handler', 5520: 'clean', 5521: 'somebody', 5522: \"c'mere\", 5523: 'lights', 5524: 'infestation', 5525: 'driveability', 5526: 'month', 5527: 'according', 5528: 'kinderhook', 5529: 'lecture', 5530: 'weirder', 5531: 'wakede', 5532: 'wear', 5533: 'grammy', 5534: 'selection', 5535: 'belt', 5536: 'spent', 5537: 'keep', 5538: 'conditioners', 5539: 'secret', 5540: 'sympathizer', 5541: 'british', 5542: 'helllp', 5543: 'arab_man:', 5544: 'lemme', 5545: 'focus', 5546: 'cajun', 5547: 'twenty-four', 5548: 'disillusioned', 5549: 'test-lady', 5550: 'sat-is-fac-tion', 5551: 'dracula', 5552: 'lonely', 5553: 'delts', 5554: 'brothers', 5555: 'mustard', 5556: 'microbrew', 5557: 'distinct', 5558: 'found', 5559: 'pleasure', 5560: 'pinchpenny', 5561: 'drinker', 5562: 'bum:', 5563: 'form', 5564: 'hubub', 5565: 'hourly', 5566: 'transmission', 5567: 'alarm', 5568: 'widow', 5569: 'africa', 5570: 'quarter', 5571: 'disguised', 5572: 'syrup', 5573: 'radishes', 5574: 'elocution', 5575: 'compared', 5576: 'plain', 5577: 'declared', 5578: 'lenses', 5579: 'bird', 5580: 'happily', 5581: 'hardhat', 5582: 'rainforest', 5583: 'presidential', 5584: 'chocolate', 5585: 'smithers', 5586: 'very', 5587: 'continuum', 5588: 'ehhhhhhhh', 5589: 'key', 5590: 'children', 5591: 'phony', 5592: 'overhearing', 5593: 'ned_flanders:', 5594: 'bits', 5595: 'coined', 5596: 'moonnnnnnnn', 5597: 'ga', 5598: 'pleasant', 5599: 'longest', 5600: 'spamming', 5601: 'margarita', 5602: 'sleigh-horses', 5603: 'wobble', 5604: 'thnord', 5605: 'moonshine', 5606: 'narrator:', 5607: 'gentle', 5608: 'augustus', 5609: 'ref', 5610: '||question_mark||', 5611: 'men', 5612: 'hurting', 5613: 'quite', 5614: \"neat's-foot\", 5615: 'following', 5616: 'hearts', 5617: 'cletus_spuckler:', 5618: 'breath', 5619: 'krusty_the_clown:', 5620: 'peter_buck:', 5621: 'kick-ass', 5622: 'anderson', 5623: 'new', 5624: 'forgot', 5625: 'chip', 5626: 'unfamiliar', 5627: 'civil', 5628: 'eyeballs', 5629: 'paint', 5630: 'congoleum', 5631: 'liver', 5632: 'f-l-a-n-r-d-s', 5633: 'sweeter', 5634: \"what'd\", 5635: 'ferry', 5636: 'sour', 5637: 'badmouth', 5638: 'skydiving', 5639: 'aristotle:', 5640: 'street', 5641: \"what'll\", 5642: 'crack', 5643: 'smokes', 5644: 'undermine', 5645: 'incredulous', 5646: 'heavyweight', 5647: 'cable', 5648: 'effervescent', 5649: 'blubberino', 5650: 'bridges', 5651: 'invite', 5652: 'hangout', 5653: 'seymour_skinner:', 5654: 'who', 5655: 'director:', 5656: 'wage', 5657: 'escort', 5658: \"changin'\", 5659: 'supply', 5660: 'sells', 5661: 'cop', 5662: 'carney', 5663: 'anyway', 5664: 'pink', 5665: 'so', 5666: 'caused', 5667: 'crappy', 5668: 'undies', 5669: 'france', 5670: 'majority', 5671: 'so-called', 5672: 'wine', 5673: 'overstressed', 5674: 'spinning', 5675: 'looking', 5676: 'happened', 5677: 'raggie', 5678: 'kidnaps', 5679: 'starla:', 5680: 'felt', 5681: 'valuable', 5682: 'sorry', 5683: 'duffed', 5684: 'close', 5685: 'menace', 5686: 'poison', 5687: 'awareness', 5688: 'hitchhike', 5689: 'duff', 5690: 'singing/pushing', 5691: 'fireball', 5692: 'aerospace', 5693: 'factor', 5694: 'worst', 5695: \"poisonin'\", 5696: 'dumbass', 5697: 'designated', 5698: 'seminar', 5699: 'last', 5700: 'tom', 5701: 'prices', 5702: 'relative', 5703: 'dea-d-d-dead', 5704: 'shhh', 5705: 'virility', 5706: 'king', 5707: 'sideshow_mel:', 5708: 'effect', 5709: 'discussing', 5710: 'quotes', 5711: 'fired', 5712: 'all:', 5713: 'admirer', 5714: 'decision', 5715: 'popular', 5716: 'mock-up', 5717: 'lifts', 5718: 'voicemail', 5719: 'milhouse_van_houten:', 5720: 'blobbo', 5721: 'twelve-step', 5722: 'election', 5723: 'permanent', 5724: 'suits', 5725: 'suspect', 5726: 'chug-monkeys', 5727: \"i-i'll\", 5728: 'insurance', 5729: 'oooo', 5730: 'ron', 5731: 'tipsy', 5732: 'handing', 5733: \"tester's\", 5734: 'breathless', 5735: 'button', 5736: 'steaming', 5737: 'grub', 5738: 'showed', 5739: 'benjamin', 5740: \"you'd\", 5741: 'guinea', 5742: \"washin'\", 5743: 'vote', 5744: 'wrestling', 5745: 'embarrassing', 5746: 'invented', 5747: 'eating', 5748: 'moe_recording:', 5749: '||dash||', 5750: 'parking', 5751: 'freaking', 5752: 'support', 5753: 'johnny', 5754: 'wins', 5755: 'sketch', 5756: 'cologne', 5757: 'mindless', 5758: 'wayne:', 5759: 'flowers', 5760: 'sotto', 5761: 'freak', 5762: 'gonna', 5763: 'unbelievably', 5764: 'guff', 5765: 'conspiratorial', 5766: 'larson', 5767: 'experienced', 5768: 'evasive', 5769: 'dealer', 5770: 'paris', 5771: 'edelbrock', 5772: 'infor', 5773: 'blamed', 5774: 'looser', 5775: 'hispanic_crowd:', 5776: 'innocent', 5777: 'kennedy', 5778: 'sucks', 5779: 'rebuilt', 5780: 'tornado', 5781: 'kickoff', 5782: 'appointment', 5783: \"what'sa\", 5784: 'manfred', 5785: 'newest', 5786: 'skoal', 5787: \"ladies'\", 5788: 'roz:', 5789: 'laughter', 5790: 'lookalike:', 5791: 'assassination', 5792: 'e-z', 5793: 'sucking', 5794: 'stupidest', 5795: 'like', 5796: 'engraved', 5797: 'sunk', 5798: 'harm', 5799: 'booth', 5800: 'luxury', 5801: 'badges', 5802: 'grave', 5803: 'belly-aching', 5804: 'wigs', 5805: 'died', 5806: 'small_boy:', 5807: 'future', 5808: 'solves', 5809: 'ocean', 5810: 'hand', 5811: 'mail', 5812: 'tow-talitarian', 5813: 'with', 5814: 'dame', 5815: 'quebec', 5816: 'vulgar', 5817: 'caholic', 5818: 'principal', 5819: 'louse', 5820: 'vanities', 5821: 'rom', 5822: 'finance', 5823: 'musta', 5824: 'horror', 5825: 'tobacky', 5826: 'dumbbell', 5827: 'measurements', 5828: 'prohibit', 5829: 'bowling', 5830: 'riveting', 5831: 'hustle', 5832: 'letters', 5833: 'sniffles', 5834: 'sassy', 5835: 'kako:', 5836: 'waitress', 5837: 'compliment', 5838: 'bucket', 5839: 'going', 5840: 'cruise', 5841: \"breakin'\", 5842: 'remembers', 5843: 'greedy', 5844: 'sports', 5845: 'surprising', 5846: 'arts', 5847: 'kind', 5848: 'cerebral', 5849: 'clips', 5850: 'chug', 5851: 'manuel', 5852: 'think', 5853: 'robbers', 5854: 'pants', 5855: 'invisible', 5856: 'open', 5857: 'elaborate', 5858: 'normals', 5859: 'souped', 5860: 'photo', 5861: 'pussycat', 5862: 'about', 5863: 'quadruple-sec', 5864: 'she', 5865: 'giant', 5866: 'gentles', 5867: 'kirk_van_houten:', 5868: 'frozen', 5869: 'horns', 5870: 'chauffeur', 5871: 'bars', 5872: 'vestigial', 5873: 'suppose', 5874: 'knowledge', 5875: 'holidays', 5876: 'milhouses', 5877: 'clears', 5878: 'industry', 5879: 'slyly', 5880: 'nordiques', 5881: 'tanking', 5882: 'exultant', 5883: 'under', 5884: 'known', 5885: 'bauer', 5886: 'rasputin', 5887: 'waylon_smithers:', 5888: 'thanks', 5889: 'easygoing', 5890: 'count', 5891: 'wreck', 5892: 'eyed', 5893: 'magnanimous', 5894: 'miserable', 5895: 'explanation', 5896: 'easter', 5897: 'mirthless', 5898: 'memories', 5899: 'reading', 5900: 'complaint', 5901: 'crystal', 5902: 'boat', 5903: 'romance', 5904: '50-60', 5905: 'haplessly', 5906: 'complete', 5907: 'stamp', 5908: 'winston', 5909: 'log', 5910: 'honey', 5911: 'file', 5912: 'tomahto', 5913: 'the', 5914: 'credit', 5915: 'necklace', 5916: 'asleep', 5917: 'character', 5918: 'improv', 5919: 'list', 5920: 'joe', 5921: 'caper', 5922: 'nose', 5923: 'amid', 5924: 'explaining', 5925: 'sex', 5926: 'two-thirds-empty', 5927: 'germs', 5928: 'maya:', 5929: 'compete', 5930: 'coms', 5931: 'counter', 5932: \"brady's\", 5933: \"d'ya\", 5934: 'technical', 5935: 'novel', 5936: 'class', 5937: 'tv_father:', 5938: 'ohh', 5939: 'smoker', 5940: 'squeal', 5941: 'ease', 5942: 'seconds', 5943: 'bleak', 5944: 'trusted', 5945: 'presto:', 5946: 'sinkhole', 5947: 'peeved', 5948: 'doom', 5949: 'until', 5950: 'supermodel', 5951: 'rubs', 5952: 'evergreen', 5953: \"other's\", 5954: 'harder', 5955: 'presently', 5956: 'certain', 5957: 'nods', 5958: 'warmth', 5959: 'reactions', 5960: 'tv_announcer:', 5961: \"eatin'\", 5962: 'teddy', 5963: 'heavens', 5964: 'savagely', 5965: 'unfortunately', 5966: 'further', 5967: 'puffy', 5968: 'ralph_wiggum:', 5969: 'firmly', 5970: 'argue', 5971: 'without', 5972: 'sorts', 5973: 'burt', 5974: 'dreamed', 5975: 'monkey', 5976: 'liser', 5977: 'mostrar', 5978: 'feminine', 5979: 'carnival', 5980: 'throwing', 5981: 'novelty', 5982: 'castle', 5983: 'ambrosia', 5984: 'kicks', 5985: 'joint', 5986: 'carl', 5987: 'panicky', 5988: 'whim', 5989: \"others'\", 5990: 'everyone', 5991: 'cream', 5992: 'informant', 5993: 'look', 5994: 'belong', 5995: 'crying', 5996: 'law-abiding', 5997: 'during', 5998: 'sloppy', 5999: 'closing', 6000: 'canoodling', 6001: 'baloney', 6002: 'sat', 6003: 'wolfcastle', 6004: 'sweat', 6005: 'lenny:', 6006: 'sigh', 6007: 'strongly', 6008: \"man's_voice:\", 6009: 'dan_gillick:', 6010: 'fondly', 6011: 'deserve', 6012: 'suing', 6013: 'jack', 6014: 'whaddya', 6015: \"battin'\", 6016: 'temp', 6017: 'ribbon', 6018: 'aged_moe:', 6019: \"wait'll\", 6020: \"crawlin'\", 6021: 'poin-dexterous', 6022: 'earpiece', 6023: 'links', 6024: 'sadistic_barfly:', 6025: 'hoped', 6026: \"duelin'\", 6027: 'nards', 6028: \"how's\", 6029: 'federal', 6030: 'story', 6031: 'customer', 6032: 'gary_chalmers:', 6033: 'bellyaching', 6034: 'had', 6035: 'uses', 6036: \"they've\", 6037: 'annoyed', 6038: 'flips', 6039: 'eaten', 6040: 'resist', 6041: 'honeys', 6042: 'yoo', 6043: 'wife', 6044: 'coyly', 6045: 'perhaps', 6046: 'adopted', 6047: 'u', 6048: 'procedure', 6049: 'couple', 6050: 'juice', 6051: 'star', 6052: 'agents', 6053: 'musical', 6054: 'pack', 6055: 'toys', 6056: 'rolling', 6057: 'shush', 6058: 'pro', 6059: 'kissed', 6060: 'incarcerated', 6061: 'bobo', 6062: 'hot-rod', 6063: 'jump', 6064: 'betrayed', 6065: \"beggin'\", 6066: 'barney', 6067: 'fabulous', 6068: 'really', 6069: 'hugh', 6070: 'father', 6071: \"mother's\", 6072: 'intense', 6073: 'newly-published', 6074: 'seek', 6075: 'cheat', 6076: 'gin-slingers', 6077: 'sneaky', 6078: 'become', 6079: 'laramie', 6080: 'answers', 6081: 'second', 6082: \"heat's\", 6083: 'languages', 6084: 'teen', 6085: 'exciting', 6086: 'dealie', 6087: 'lingus', 6088: 'bonfire', 6089: 'confidence', 6090: 'pickled', 6091: 'as', 6092: 'swan', 6093: 'non-losers', 6094: 'frat', 6095: 'agent', 6096: 'flailing', 6097: 'bagged', 6098: 'weep', 6099: 'launch', 6100: 'then', 6101: 'sec', 6102: 'elite', 6103: 'sap', 6104: 'reflected', 6105: 'chub', 6106: 'fix', 6107: 'justice', 6108: 'ooo', 6109: 'hollowed-out', 6110: 'isotopes', 6111: 'soft', 6112: \"drexel's\", 6113: 'gordon', 6114: 'nitwit', 6115: 'pride', 6116: 'mixed', 6117: 'familiar', 6118: 'tubman', 6119: 'charge', 6120: 'bright', 6121: 'foam', 6122: 'boys', 6123: 'intention', 6124: 'probably', 6125: 'muffled', 6126: \"seein'\", 6127: 'upon', 6128: '_timothy_lovejoy:', 6129: 'passenger', 6130: 'tee', 6131: 'gasps', 6132: 'smile', 6133: 'drop-off', 6134: 'beep', 6135: 'season', 6136: 'sympathetic', 6137: 'wonderful', 6138: 'sea', 6139: 'tiny', 6140: 'hilton', 6141: 'whisper', 6142: 'neat', 6143: 'swings', 6144: 'poker', 6145: 'young', 6146: 'smelly', 6147: 'eternity', 6148: 'thru', 6149: 'contract', 6150: 'kentucky', 6151: 'thirty-thousand', 6152: 'high-definition', 6153: 'yew', 6154: 'buddy', 6155: 'almond', 6156: 'proposition', 6157: 'updated', 6158: \"'cept\", 6159: '530', 6160: 'celebrate', 6161: 'bonding', 6162: 'fan', 6163: 'espn', 6164: 'losing', 6165: 'tummies', 6166: \"summer's\", 6167: 'wasting', 6168: 'woulda', 6169: 'increased', 6170: 'cappuccino', 6171: 'tenor:', 6172: 'material', 6173: 'etc', 6174: 'nasty', 6175: 'ass', 6176: 'meatpies', 6177: 'past', 6178: 'paying', 6179: 'ummmmmmmmm', 6180: 'rationalizing', 6181: 'various', 6182: 'address', 6183: 'regulars', 6184: 'am', 6185: 'rub', 6186: 'pine', 6187: 'teenage_homer:', 6188: 'shag', 6189: 'temple', 6190: \"one's\", 6191: 'beneath', 6192: 'mudflap', 6193: 'enhance', 6194: 'step', 6195: 'backing', 6196: 'itself', 6197: '_powers:', 6198: 'elizabeth', 6199: 'platinum', 6200: 'mistakes', 6201: 'donut', 6202: 'pissed', 6203: 'forty-two', 6204: 'dogs', 6205: 'y-you', 6206: 'reunion', 6207: 'memory', 6208: 'jubilant', 6209: 'fast', 6210: 'con', 6211: 'theme', 6212: 'kazoo', 6213: 'swallowed', 6214: 'challenge', 6215: 'politics', 6216: 'enemy', 6217: 'karaoke_machine:', 6218: \"y'see\", 6219: 'purse', 6220: 'pay', 6221: 'beligerent', 6222: 'williams', 6223: 'cheer', 6224: 'dive', 6225: 'ah', 6226: 'deadly', 6227: \"stealin'\", 6228: 'loaded', 6229: 'picnic', 6230: 'cutest', 6231: \"payin'\", 6232: 'oils', 6233: 'piece', 6234: 'hands', 6235: 'socratic', 6236: 'texan', 6237: 'horrified', 6238: 'bragging', 6239: 'philosophical', 6240: 'woozy', 6241: 'flophouse', 6242: 'kill', 6243: 'airport', 6244: 'while', 6245: 'pyramid', 6246: 'dollar', 6247: 'flexible', 6248: 'legs:', 6249: 'aah', 6250: 'failed', 6251: 'case', 6252: 'reciting', 6253: 'cigarette', 6254: 'notices', 6255: 'looooooooooooooooooong', 6256: 'inspiring', 6257: 'winning', 6258: 'babies', 6259: 'hunger', 6260: 'are', 6261: 'nap', 6262: \"show's\", 6263: 'needed', 6264: 'try', 6265: 'ads', 6266: 'breaking', 6267: 'part', 6268: 'owes', 6269: 'stirring', 6270: 'mm-hmm', 6271: 'chinua', 6272: 'watered', 6273: 'democracy', 6274: 'olive', 6275: 'but', 6276: 'ruby-studded', 6277: 'shall', 6278: 'frosty', 6279: 'kahlua', 6280: 'bad', 6281: 'libido', 6282: 'cecil', 6283: 'anyhoo', 6284: 'shrugging', 6285: 'choices:', 6286: 'ned', 6287: 'patrons:', 6288: 'du', 6289: 'awkwardly', 6290: 'whether', 6291: 'darjeeling', 6292: 'much', 6293: 'driving', 6294: 'rig', 6295: 'cecil_terwilliger:', 6296: 'fellas', 6297: 'full-time', 6298: 'heartless', 6299: 'dateline:', 6300: \"aren'tcha\", 6301: 'congratulations', 6302: 'either', 6303: 'control', 6304: 'sticker', 6305: \"doctor's\", 6306: 'pin', 6307: 'je', 6308: 'pure', 6309: 'catholic', 6310: 'north', 6311: 'david', 6312: 'eight-year-old', 6313: \"england's\", 6314: 'planning', 6315: 'dearest', 6316: 'lenford', 6317: 'represent', 6318: 'what', 6319: 'sent', 6320: 'depressed', 6321: 'naturally', 6322: 'kang:', 6323: 'puke-pail', 6324: 'thumb', 6325: 'saying', 6326: 'understanding', 6327: 'tune', 6328: 'r', 6329: 'hostages', 6330: \"callin'\", 6331: 'someday', 6332: 'fair', 6333: 'raking', 6334: 'thirty-nine', 6335: 'clap', 6336: 'based', 6337: 'mahatma', 6338: 'hurry', 6339: 'convenient', 6340: 'thawing', 6341: 'fastest', 6342: 'present', 6343: 'sobo', 6344: 'eventually', 6345: 'flying', 6346: \"yesterday's\", 6347: \"cat's\", 6348: \"neighbor's\", 6349: 'judge_snyder:', 6350: \"usin'\", 6351: 'wok', 6352: 'sometime', 6353: 'bring', 6354: 'crimes', 6355: 'learned', 6356: 'vulnerable', 6357: 'gardens', 6358: 'à', 6359: 'soaps', 6360: 'saget', 6361: 'ladder', 6362: 'other_book_club_member:', 6363: \"thing's\", 6364: 'starlets', 6365: 'wake', 6366: 'klown', 6367: 'lowering', 6368: 'zinged', 6369: 'yee-ha', 6370: 'offended', 6371: 'barbara', 6372: 'splattered', 6373: 'shark', 6374: 'detail', 6375: 'shyly', 6376: 'shack', 6377: 'courteous', 6378: 'bigger', 6379: 'wraps', 6380: 'padres', 6381: 'strain', 6382: 'discuss', 6383: 'medieval', 6384: 'officials', 6385: 'funds', 6386: 'start', 6387: 'faced', 6388: 'homeland', 6389: 'craphole', 6390: 'eighty-one', 6391: 'cars', 6392: 'treats', 6393: 'pontiff', 6394: 'looked', 6395: 'knees', 6396: 'y', 6397: 'peanuts', 6398: 'snitch', 6399: 'example', 6400: 'stagy', 6401: 'hang', 6402: 'poet', 6403: 'puke-holes', 6404: 'unjustly', 6405: 'crapmore', 6406: 'sam:', 6407: 'heatherton', 6408: 'brakes', 6409: 'crowbar', 6410: 'dreamily', 6411: 'babar', 6412: \"chewin'\", 6413: 'tragedy', 6414: 'donuts', 6415: 'flaming', 6416: 'simpsons', 6417: 'resigned', 6418: 'gunk', 6419: 'slick', 6420: 'collateral', 6421: 'destroyed', 6422: \"aren't\", 6423: 'chick', 6424: 'grudgingly', 6425: 'matter', 6426: '91', 6427: 'soaking', 6428: 'gay', 6429: 'health', 6430: 'umm', 6431: 'catch', 6432: 'navy', 6433: 'subject', 6434: 'bubbles-in-my-nose-y', 6435: 'pretzel', 6436: \"collector's\", 6437: 'highest', 6438: 'presentable', 6439: 'schabadoo', 6440: 'schemes', 6441: 'man_with_crazy_beard:', 6442: 'pint', 6443: 'published', 6444: 'drives', 6445: 'mm', 6446: 'disgrace', 6447: 'international', 6448: \"fallin'\", 6449: 'muslim', 6450: 'deliberate', 6451: 'jimmy', 6452: 'wondering', 6453: 'information', 6454: 'shoo', 6455: 'lurks', 6456: 'sniper', 6457: 'ziffcorp', 6458: 'excavating', 6459: 'richard', 6460: 'cocking', 6461: 'phlegm', 6462: 'nursemaid', 6463: 'punkin', 6464: 'brockman', 6465: \"fryer's\", 6466: \"spyin'\", 6467: 'living', 6468: 'trucks', 6469: 'xx', 6470: 'self-esteem', 6471: 'troubles', 6472: 'renee', 6473: 'disappear', 6474: \"tellin'\", 6475: 'test', 6476: 'speech', 6477: 'fighting', 6478: 'dirty', 6479: 'corpses', 6480: 'smoothly', 6481: 'cheery', 6482: 'gear-head', 6483: 'head-gunk', 6484: 'begin', 6485: 'difficult', 6486: 'kim_basinger:', 6487: 'chicken', 6488: 'peppers', 6489: 'sixty', 6490: 'gang', 6491: 'ford', 6492: \"tap-pullin'\", 6493: 'starve', 6494: 'heads', 6495: 'macgregor', 6496: 'wantcha', 6497: 'co-sign', 6498: 'goldarnit', 6499: 'territorial', 6500: 'arms', 6501: 'sweetheart', 6502: 'ahhhh', 6503: 'clock', 6504: 'whirlybird', 6505: 'barney_gumble:', 6506: 'lookalikes', 6507: \"beer's\", 6508: 'amends', 6509: 'too', 6510: 'warily', 6511: 'nine', 6512: 'dennis_kucinich:', 6513: \"they'd\", 6514: 'looks', 6515: \"table's\", 6516: 'crooks', 6517: 'those', 6518: 'join', 6519: 'design', 6520: 'ne', 6521: 'drawn', 6522: '10:15', 6523: '1-800-555-hugs', 6524: 'sports_announcer:', 6525: 'and-and', 6526: 'little_man:', 6527: 'anymore', 6528: 'couch', 6529: 'save', 6530: 'mines', 6531: 'catty', 6532: 'renee:', 6533: 'undated', 6534: 'happy', 6535: 'lucky', 6536: 'oak', 6537: 'hems', 6538: 'social', 6539: 'drunks', 6540: 'massage', 6541: 'eighty-seven', 6542: \"treatin'\", 6543: 'tofu', 6544: 'monroe', 6545: 'rope', 6546: 'albeit', 6547: 'trade', 6548: 'sarcastic', 6549: 'hers', 6550: 'glad', 6551: 'killing', 6552: 'perking', 6553: 'hellhole', 6554: 'sips', 6555: 'surprise', 6556: 'murmurs', 6557: 'you-need-man', 6558: 'kyoto', 6559: \"brockman's\", 6560: 'gas', 6561: 'conditioner', 6562: 'faces', 6563: 'sampler', 6564: 'love-matic', 6565: 'mine', 6566: 'beanbag', 6567: 'specializes', 6568: \"that's\", 6569: 'spare', 6570: 'gore', 6571: 'lisa_simpson:', 6572: 'precious', 6573: 'bail', 6574: 'tasimeter', 6575: 'left', 6576: 'grandkids', 6577: 'potatoes', 6578: 'rims', 6579: 'whistling', 6580: 'powers', 6581: 'fingers', 6582: 'show-off', 6583: 'winded', 6584: 'text', 6585: 'brainiac', 6586: 'treehouse', 6587: 'sen', 6588: 'captain:', 6589: 'sagacity', 6590: 'cadillac', 6591: 'pointed', 6592: 'six', 6593: 'bar_rag:', 6594: 'bathed', 6595: 'adrift', 6596: 'usually', 6597: 'win', 6598: \"secret's\", 6599: 'veteran', 6600: 'women', 6601: \"nothin'\", 6602: 'klingon', 6603: 'belch', 6604: 'boring', 6605: 'muhammad', 6606: 'rat-like', 6607: 'idealistic', 6608: 'dignity', 6609: 'keys', 6610: 'ball-sized', 6611: 'rule', 6612: 'worldly', 6613: 'end', 6614: 'gluten', 6615: 'basement', 6616: 'scratcher', 6617: 'population', 6618: 'ladies', 6619: 'preparation', 6620: 'stinger', 6621: 'sheets', 6622: 'band', 6623: 'plucked', 6624: 'unhook', 6625: 'carll', 6626: 'delighted', 6627: \"edna's\", 6628: 'reads', 6629: 'bones', 6630: 'reopen', 6631: 'puts', 6632: 'read', 6633: 'sing-song', 6634: 'sadder', 6635: 'rug', 6636: 'agree', 6637: 'unusually', 6638: 'aboard', 6639: 'pre-recorded', 6640: 'grrrreetings', 6641: 'commit', 6642: 'contemplated', 6643: 'manboobs', 6644: \"car's\", 6645: 'vacuum', 6646: 'greystash', 6647: 'praise', 6648: 'sincerely', 6649: 'later', 6650: 'shelbyville', 6651: 'strangles', 6652: 'candidate', 6653: 'grains', 6654: 'penny', 6655: 'hangs', 6656: 'stops', 6657: 'position', 6658: 'when-i-get-a-hold-of-you', 6659: 'scientists', 6660: 'bartending', 6661: 'glyco-load', 6662: \"somethin':\", 6663: 'supervising', 6664: 'japanese', 6665: 'tactful', 6666: 'lost', 6667: 'intrigued', 6668: '70', 6669: 'typed', 6670: 'patron_#1:', 6671: 'diets', 6672: 'sprawl', 6673: 'evil', 6674: 'assert', 6675: 'shocked', 6676: 'prayers', 6677: 'lately', 6678: 'darkness', 6679: 'today', 6680: 'fluoroscope', 6681: 'squashing', 6682: 'heh-heh', 6683: 'hundred', 6684: 'confused', 6685: 'reason', 6686: 'stole', 6687: 'stooges', 6688: 'rhyme', 6689: 'neck', 6690: \"she'd\", 6691: 'brick', 6692: 'vengeful', 6693: 'phasing', 6694: 'windex', 6695: 'picture', 6696: 'remember', 6697: 'iran', 6698: 'parenting', 6699: 'geysir', 6700: 'barn', 6701: 'batmobile', 6702: 'tester', 6703: 'superdad', 6704: 'wiggle', 6705: 'peaked', 6706: 'here', 6707: 'dishonor', 6708: \"moe's\", 6709: \"snappin'\", 6710: 'inspired', 6711: 'release', 6712: 'pennies', 6713: 'professor', 6714: 'anniversary', 6715: 'grandmother', 6716: 'five-fifteen', 6717: 'reaction', 6718: 'catching', 6719: 'generally', 6720: 'syndicate', 6721: 'nor', 6722: 'continued', 6723: 'fifty', 6724: 'beat', 6725: 'brilliant', 6726: 'welcome', 6727: 'tick', 6728: \"someone's\", 6729: \"football's\", 6730: 'cents', 6731: 'huh', 6732: 'anger', 6733: 'glamour', 6734: 'self', 6735: 'tatum', 6736: 'ballot', 6737: 'actress', 6738: 'signal', 6739: 'fry', 6740: 'white', 6741: 'get', 6742: 'delicious', 6743: 'amanda', 6744: 'versus', 6745: 'skinheads', 6746: 'pond', 6747: 'cooking', 6748: \"something's\", 6749: 'strictly', 6750: 'murderously', 6751: 'slays', 6752: 'coward', 6753: 'stayed', 6754: 'times', 6755: 'cares', 6756: 'canyoner-oooo', 6757: 'death', 6758: 'usual', 6759: 'refreshingness', 6760: 'spellbinding', 6761: 'anywhere', 6762: 'ingredient', 6763: 'compliments', 6764: 'stretch', 6765: 'alls', 6766: \"clancy's\", 6767: 'hard', 6768: 'infatuation', 6769: \"man'd\", 6770: 'plants', 6771: 'incognito', 6772: \"makin'\", 6773: 'name', 6774: 'advantage', 6775: 'dean', 6776: 'stiffening', 6777: 'woo-hoo', 6778: 'fortress'}\n"
     ]
    }
   ],
   "source": [
    "\"\"\"\n",
    "DON'T MODIFY ANYTHING IN THIS CELL\n",
    "\"\"\"\n",
    "# Preprocess Training, Validation, and Testing Data\n",
    "helper.preprocess_and_save_data(data_dir, token_lookup, create_lookup_tables)"
   ]
  },
  {
   "cell_type": "markdown",
   "metadata": {},
   "source": [
    "# Check Point\n",
    "This is your first checkpoint. If you ever decide to come back to this notebook or have to restart the notebook, you can start from here. The preprocessed data has been saved to disk."
   ]
  },
  {
   "cell_type": "code",
   "execution_count": 8,
   "metadata": {
    "collapsed": true
   },
   "outputs": [],
   "source": [
    "\"\"\"\n",
    "DON'T MODIFY ANYTHING IN THIS CELL\n",
    "\"\"\"\n",
    "import helper\n",
    "import numpy as np\n",
    "import problem_unittests as tests\n",
    "\n",
    "int_text, vocab_to_int, int_to_vocab, token_dict = helper.load_preprocess()"
   ]
  },
  {
   "cell_type": "markdown",
   "metadata": {},
   "source": [
    "## Build the Neural Network\n",
    "You'll build the components necessary to build a RNN by implementing the following functions below:\n",
    "- get_inputs\n",
    "- get_init_cell\n",
    "- get_embed\n",
    "- build_rnn\n",
    "- build_nn\n",
    "- get_batches\n",
    "\n",
    "### Check the Version of TensorFlow and Access to GPU"
   ]
  },
  {
   "cell_type": "code",
   "execution_count": 9,
   "metadata": {
    "scrolled": true
   },
   "outputs": [
    {
     "name": "stdout",
     "output_type": "stream",
     "text": [
      "Collecting tensorflow==1.0\n",
      "  Using cached tensorflow-1.0.0-cp36-cp36m-manylinux1_x86_64.whl\n",
      "Requirement already up-to-date: numpy>=1.11.0 in /home/josh/.conda/envs/dlndtf1/lib/python3.6/site-packages (from tensorflow==1.0)\n",
      "Collecting six>=1.10.0 (from tensorflow==1.0)\n",
      "  Using cached six-1.11.0-py2.py3-none-any.whl\n",
      "Requirement already up-to-date: protobuf>=3.1.0 in /home/josh/.conda/envs/dlndtf1/lib/python3.6/site-packages (from tensorflow==1.0)\n",
      "Requirement already up-to-date: wheel>=0.26 in /home/josh/.conda/envs/dlndtf1/lib/python3.6/site-packages (from tensorflow==1.0)\n",
      "Collecting setuptools (from protobuf>=3.1.0->tensorflow==1.0)\n",
      "  Using cached setuptools-36.5.0-py2.py3-none-any.whl\n",
      "Installing collected packages: six, tensorflow, setuptools\n",
      "  Found existing installation: six 1.10.0\n",
      "\u001b[31m    DEPRECATION: Uninstalling a distutils installed project (six) has been deprecated and will be removed in a future version. This is due to the fact that uninstalling a distutils project will only partially uninstall the project.\u001b[0m\n",
      "    Uninstalling six-1.10.0:\n",
      "      Successfully uninstalled six-1.10.0\n",
      "  Rolling back uninstall of six\n",
      "\u001b[31mException:\n",
      "Traceback (most recent call last):\n",
      "  File \"/home/josh/.conda/envs/dlndtf1/lib/python3.6/site-packages/pip/basecommand.py\", line 215, in main\n",
      "    status = self.run(options, args)\n",
      "  File \"/home/josh/.conda/envs/dlndtf1/lib/python3.6/site-packages/pip/commands/install.py\", line 342, in run\n",
      "    prefix=options.prefix_path,\n",
      "  File \"/home/josh/.conda/envs/dlndtf1/lib/python3.6/site-packages/pip/req/req_set.py\", line 784, in install\n",
      "    **kwargs\n",
      "  File \"/home/josh/.conda/envs/dlndtf1/lib/python3.6/site-packages/pip/req/req_install.py\", line 851, in install\n",
      "    self.move_wheel_files(self.source_dir, root=root, prefix=prefix)\n",
      "  File \"/home/josh/.conda/envs/dlndtf1/lib/python3.6/site-packages/pip/req/req_install.py\", line 1064, in move_wheel_files\n",
      "    isolated=self.isolated,\n",
      "  File \"/home/josh/.conda/envs/dlndtf1/lib/python3.6/site-packages/pip/wheel.py\", line 345, in move_wheel_files\n",
      "    clobber(source, lib_dir, True)\n",
      "  File \"/home/josh/.conda/envs/dlndtf1/lib/python3.6/site-packages/pip/wheel.py\", line 323, in clobber\n",
      "    shutil.copyfile(srcfile, destfile)\n",
      "  File \"/home/josh/.conda/envs/dlndtf1/lib/python3.6/shutil.py\", line 121, in copyfile\n",
      "    with open(dst, 'wb') as fdst:\n",
      "PermissionError: [Errno 13] Permission denied: '/home/josh/.conda/envs/dlndtf1/lib/python3.6/site-packages/six.py'\u001b[0m\n"
     ]
    }
   ],
   "source": [
    "# apparently 1.2.1 is a problem so Live support said to downgrade\n",
    "!pip install -U tensorflow==1.0"
   ]
  },
  {
   "cell_type": "code",
   "execution_count": 10,
   "metadata": {},
   "outputs": [
    {
     "name": "stdout",
     "output_type": "stream",
     "text": [
      "TensorFlow Version: 1.0.1\n",
      "Default GPU Device: /gpu:0\n"
     ]
    }
   ],
   "source": [
    "\"\"\"\n",
    "DON'T MODIFY ANYTHING IN THIS CELL\n",
    "\"\"\"\n",
    "from distutils.version import LooseVersion\n",
    "import warnings\n",
    "import tensorflow as tf\n",
    "\n",
    "# Check TensorFlow Version\n",
    "assert LooseVersion(tf.__version__) >= LooseVersion('1.0'), 'Please use TensorFlow version 1.0 or newer'\n",
    "print('TensorFlow Version: {}'.format(tf.__version__))\n",
    "\n",
    "# Check for a GPU\n",
    "if not tf.test.gpu_device_name():\n",
    "    warnings.warn('No GPU found. Please use a GPU to train your neural network.')\n",
    "else:\n",
    "    print('Default GPU Device: {}'.format(tf.test.gpu_device_name()))\n"
   ]
  },
  {
   "cell_type": "code",
   "execution_count": 11,
   "metadata": {},
   "outputs": [
    {
     "name": "stdout",
     "output_type": "stream",
     "text": [
      "TensorFlow Version: 1.0.1\n",
      "Default GPU Device: /gpu:0\n"
     ]
    }
   ],
   "source": [
    "\"\"\"\n",
    "DON'T MODIFY ANYTHING IN THIS CELL\n",
    "\"\"\"\n",
    "from distutils.version import LooseVersion\n",
    "import warnings\n",
    "import tensorflow as tf\n",
    "\n",
    "# Check TensorFlow Version\n",
    "assert LooseVersion(tf.__version__) >= LooseVersion('1.0'), 'Please use TensorFlow version 1.0 or newer'\n",
    "print('TensorFlow Version: {}'.format(tf.__version__))\n",
    "\n",
    "# Check for a GPU\n",
    "if not tf.test.gpu_device_name():\n",
    "    warnings.warn('No GPU found. Please use a GPU to train your neural network.')\n",
    "else:\n",
    "    print('Default GPU Device: {}'.format(tf.test.gpu_device_name()))"
   ]
  },
  {
   "cell_type": "markdown",
   "metadata": {},
   "source": [
    "### Input\n",
    "Implement the `get_inputs()` function to create TF Placeholders for the Neural Network.  It should create the following placeholders:\n",
    "- Input text placeholder named \"input\" using the [TF Placeholder](https://www.tensorflow.org/api_docs/python/tf/placeholder) `name` parameter.\n",
    "- Targets placeholder\n",
    "- Learning Rate placeholder\n",
    "\n",
    "Return the placeholders in the following tuple `(Input, Targets, LearningRate)`"
   ]
  },
  {
   "cell_type": "code",
   "execution_count": 12,
   "metadata": {},
   "outputs": [
    {
     "name": "stdout",
     "output_type": "stream",
     "text": [
      "Tests Passed\n"
     ]
    }
   ],
   "source": [
    "def get_inputs():\n",
    "    \"\"\"\n",
    "    Create TF Placeholders for input, targets, and learning rate.\n",
    "    :return: Tuple (input, targets, learning rate)\n",
    "    \"\"\"\n",
    "    # Done: Implement Function\n",
    "    #https://www.tensorflow.org/api_docs/python/tf/placeholder\n",
    "    # I don't think there is a char/text dtype, but int should be ok if python is like C. That said even though Python is so much \"easier\"*\" than C, but after years of low level coding, python is soooo much more confusing.. but not nearly as bad as R :p\n",
    "        # i joke, but sersiously statistics homework is hard enough without having to remember that data starts at location 1 instead of 0\n",
    "    \n",
    "    # P.S. if a reviewer actually does read my comments, sorry about commenting out broken code instead of deleting it always, sometimes at least in the case of this homework,it is helpful for me to see what I tried already\n",
    "    #  If I wasn't still learning all of this, I'd probably clean it up more. \n",
    "    \n",
    "    #Input = tf.placeholder(dtype=tf.int32,name=\"input\")\n",
    "    #Targets = tf.placeholder(dtype=tf.int32,name=\"Targets\")\n",
    "    #LearningRate = tf.placeholder(dtype=tf.int32,name=\"LearningRate\")\n",
    "    #ret = (Input, Targets, LearningRate)\n",
    "    \n",
    "    #AssertionError: Input has wrong rank.  Rank 0 found.\n",
    "    \n",
    "    #It should be ok, since the documentation says if nothing is specified that it will take anyshape, but for the unit test:\n",
    "    #Input = tf.placeholder(dtype=tf.int32,name=\"input\",shape=[None,None])\n",
    "    #Targets = tf.placeholder(dtype=tf.int32,name=\"Targets\",shape=[None,None])\n",
    "    #LearningRate = tf.placeholder(dtype=tf.int32,name=\"LearningRate\")\n",
    "    \n",
    "    # later it errored complaining:\n",
    "    #TypeError: Value passed to parameter 'indices' has DataType float32 not in list of allowed values: int32, int64\n",
    "    #32Input = tf.placeholder(dtype=tf.float32,name=\"input\",shape=[None,None])\n",
    "    #Targets = tf.placeholder(dtype=tf.float32,name=\"Targets\",shape=[None,None])\n",
    "    #LearningRate = tf.placeholder(dtype=tf.float32,name=\"LearningRate\")\n",
    "    \n",
    "    \n",
    "    #Input = tf.placeholder(dtype=tf.int32,name=\"input\",shape=[None,None])\n",
    "    #Targets = tf.placeholder(dtype=tf.int32,name=\"Targets\",shape=[None,None])\n",
    "    #LearningRate = tf.placeholder(dtype=tf.int32,name=\"LearningRate\")\n",
    "      \n",
    "    #now it says: AssertionError: Predicted word is wrong type. Found <class 'numpy.int64'> type.\n",
    "    Input = tf.placeholder(dtype=tf.int64,name=\"input\",shape=[None,None])\n",
    "    Targets = tf.placeholder(dtype=tf.int64,name=\"Targets\",shape=[None,None])\n",
    "    LearningRate = tf.placeholder(dtype=tf.int64,name=\"LearningRate\")\n",
    "    \n",
    "    \n",
    "    # Update: Actually, rank IS required. Just the values can be NONE, like in the case of an unknown batch size\n",
    "    ret = (Input, Targets, LearningRate)\n",
    "    \n",
    "    return ret#None, None, None\n",
    "\n",
    "\n",
    "\n",
    "\n",
    "\"\"\"\n",
    "DON'T MODIFY ANYTHING IN THIS CELL THAT IS BELOW THIS LINE\n",
    "\"\"\"\n",
    "tests.test_get_inputs(get_inputs)"
   ]
  },
  {
   "cell_type": "markdown",
   "metadata": {},
   "source": [
    "### Build RNN Cell and Initialize\n",
    "Stack one or more [`BasicLSTMCells`](https://www.tensorflow.org/api_docs/python/tf/contrib/rnn/BasicLSTMCell) in a [`MultiRNNCell`](https://www.tensorflow.org/api_docs/python/tf/contrib/rnn/MultiRNNCell).\n",
    "\n",
    "- The Rnn size should be set using `rnn_size`\n",
    "- Initalize Cell State using the MultiRNNCell's [`zero_state()`](https://www.tensorflow.org/api_docs/python/tf/contrib/rnn/MultiRNNCell#zero_state) function\n",
    "    - Apply the name \"initial_state\" to the initial state using [`tf.identity()`](https://www.tensorflow.org/api_docs/python/tf/identity)\n",
    "\n",
    "Return the cell and initial state in the following tuple `(Cell, InitialState)`"
   ]
  },
  {
   "cell_type": "code",
   "execution_count": 13,
   "metadata": {
    "scrolled": true
   },
   "outputs": [
    {
     "name": "stdout",
     "output_type": "stream",
     "text": [
      "Tests Passed\n"
     ]
    }
   ],
   "source": [
    "##### NO MATTERwhatidid it didn't work. II spoke with live support and we eentually found my code was OK, bt it only works with tf 1. I have 1.2.1\n",
    "#tensorflow-gpu            1.2.1                     <pip>\n",
    "#\n",
    "\n",
    "def get_init_cell(batch_size, rnn_size):\n",
    "    \"\"\"\n",
    "    Create an RNN Cell and initialize it.\n",
    "    :param batch_size: Size of batches\n",
    "    :param rnn_size: Size of RNNs\n",
    "    :return: Tuple (cell, initialize state)\n",
    "    \"\"\"\n",
    "    # doen: Implement Function\n",
    "    \n",
    "    #useful references: https://www.tensorflow.org/api_docs/python/tf/contrib/rnn/MultiRNNCell\n",
    "    # https://www.tensorflow.org/api_docs/python/tf/contrib/rnn/MultiRNNCell\n",
    "    # https://www.tensorflow.org/api_docs/python/tf/contrib/rnn/BasicLSTMCell\n",
    "    \n",
    "    # https://www.tensorflow.org/api_guides/python/contrib.rnn is also a useful link\n",
    "    \n",
    "    # Use parameter rnn_size\n",
    "    #slLSTM = tf.nn.rnn_cell.BasicRNNCell (rnn_size)\n",
    "    #singlelayer_LSTM = tf.nn.rnn_cell.BasicLSTMCells (rnn_size)\n",
    "     \n",
    "        \n",
    "    #AttributeError: module 'tensorflow.python.ops.rnn_cell' has no attribute 'BasicLSTMCells'\n",
    "    #loooks like theree is a typo in the expaination above.\n",
    "    #singlelayer_LSTM = tf.nn.rnn_cell.BasicLSTMCell (rnn_size)\n",
    "    singlelayer_LSTM = tf.contrib.rnn.BasicLSTMCell (rnn_size)\n",
    "     \n",
    "    \n",
    "    \n",
    "    #task: Stack one or more BasicLSTMCells in a MultiRNNCell.\n",
    "    \n",
    "    # These are both part of contrib. since they are the ones suggested by udacity I will use them, but i figure there should be official, non-contrib, rnn layer functions in tf bynow....\n",
    "    # oK. These are aliases\n",
    "    #Aliases:\n",
    "\n",
    "    #Class tf.contrib.rnn.MultiRNNCell\n",
    "    #Class tf.nn.rnn_cell.MultiRNNCell\n",
    "\n",
    "    # Does it matter how many i use? More is better right? I mean at the cost of speed / memory, but more ls tm cells really means that more \"histroy\\\" is possible to the rNN , ritght?\n",
    "    #cell = tf.nn.rnn_cell.MultiRNNCell([singlelayer_LSTM,singlelayer_LSTM,singlelayer_LSTM,singlelayer_LSTM])\n",
    "    #cell = tf.nn.rnn_cell.MultiRNNCell([singlelayer_LSTM,singlelayer_LSTM])\n",
    "    #rcell = tf.contrib.rnn.MultiRNNCell([singlelayer_LSTM,singlelayer_LSTM])\n",
    "    rcell = tf.contrib.rnn.MultiRNNCell([singlelayer_LSTM])\n",
    "    \n",
    "    \n",
    "    # 0 out its state of size batch\n",
    "\n",
    "    \n",
    "    # Honestly I don't get when to pick different types.\n",
    "    # unless it really should be int32, I figure float32 is the best I can do\n",
    "    # i see that float_  / float64 exist, but can I be garenteed that that would work on all gpus? I can't find a good answer\n",
    "    # but then woul;dn't I get better speeds with int either way..\n",
    "    #initialize_state = rcell.zero_state(batch_size,dtype=tf.float32)\n",
    "    initialize_state = rcell.zero_state(batch_size,dtype=tf.int32)\n",
    "    \n",
    "    \n",
    "    \n",
    "    #ValueError: prefix tensor must be either a scalar or vector, but saw tensor: Tensor(\"Placeholder:0\", dtype=int32)\n",
    "    initialize_state = tf.identity(initialize_state,name=\"initial_state\")\n",
    "    \n",
    "    #return: Tuple (cell, initialize state)\n",
    "    \n",
    "    \n",
    "    return (rcell, initialize_state)\n",
    "    #return None, None\n",
    "\n",
    "\n",
    "\"\"\"\n",
    "DON'T MODIFY ANYTHING IN THIS CELL THAT IS BELOW THIS LINE\n",
    "\"\"\"\n",
    "tests.test_get_init_cell(get_init_cell)"
   ]
  },
  {
   "cell_type": "markdown",
   "metadata": {},
   "source": [
    "### Word Embedding\n",
    "Apply embedding to `input_data` using TensorFlow.  Return the embedded sequence."
   ]
  },
  {
   "cell_type": "code",
   "execution_count": 14,
   "metadata": {},
   "outputs": [
    {
     "name": "stdout",
     "output_type": "stream",
     "text": [
      "Tests Passed\n"
     ]
    }
   ],
   "source": [
    "def get_embed(input_data, vocab_size, embed_dim):\n",
    "    \"\"\"\n",
    "    Create embedding for <input_data>.\n",
    "    :param input_data: TF placeholder for text input.\n",
    "    :param vocab_size: Number of words in vocabulary.\n",
    "    :param embed_dim: Number of embedding dimensions\n",
    "    :return: Embedded input.\n",
    "    \"\"\"\n",
    "    # done: Implement Function\n",
    "    #embedded sequence\n",
    "    #https://www.tensorflow.org/api_docs/python/tf/contrib/layers/embed_sequence\n",
    "\n",
    "    \n",
    "    \n",
    "    #embed_sequence(\n",
    "    #ids,\n",
    "    #vocab_size=None,vocab_size\n",
    "    #embed_dim=None,\n",
    "    #unique=False,\n",
    "    #initializer=None,\n",
    "    #regularizer=None,\n",
    "    #trainable=True,\n",
    "    #scope=None,\n",
    "    #reuse=None\n",
    "    #)\n",
    "\n",
    "    #(input_data, vocab_size, embed_dim):\n",
    "    #ret = tf.contrib.layers.embed_sequence ()\n",
    "    # so\n",
    "    ret =  tf.contrib.layers.embed_sequence (input_data,embed_dim=embed_dim,vocab_size=vocab_size)\n",
    "    \n",
    "    # from https://github.com/udacity/deep-learning/blob/master/embeddings/Skip-Grams-Solution.ipynb\n",
    "    #n_vocab = len(int_to_vocab)\n",
    "    #n_embedding = 200 # Number of embedding features \n",
    "    #with train_graph.as_default():\n",
    "    #    embedding = tf.Variable(tf.random_uniform((n_vocab, n_embedding), -1, 1))\n",
    "    #    embed = tf.nn.embedding_lookup(embedding, inputs)\n",
    "    \n",
    "    return ret\n",
    "\n",
    "\n",
    "\"\"\"\n",
    "DON'T MODIFY ANYTHING IN THIS CELL THAT IS BELOW THIS LINE\n",
    "\"\"\"\n",
    "tests.test_get_embed(get_embed)"
   ]
  },
  {
   "cell_type": "markdown",
   "metadata": {},
   "source": [
    "### Build RNN\n",
    "You created a RNN Cell in the `get_init_cell()` function.  Time to use the cell to create a RNN.\n",
    "- Build the RNN using the [`tf.nn.dynamic_rnn()`](https://www.tensorflow.org/api_docs/python/tf/nn/dynamic_rnn)\n",
    " - Apply the name \"final_state\" to the final state using [`tf.identity()`](https://www.tensorflow.org/api_docs/python/tf/identity)\n",
    "\n",
    "Return the outputs and final_state state in the following tuple `(Outputs, FinalState)` "
   ]
  },
  {
   "cell_type": "code",
   "execution_count": 15,
   "metadata": {
    "scrolled": true
   },
   "outputs": [
    {
     "name": "stdout",
     "output_type": "stream",
     "text": [
      "Tests Passed\n"
     ]
    }
   ],
   "source": [
    "def build_rnn(cell, inputs):\n",
    "    \"\"\"\n",
    "    Create a RNN using a RNN Cell\n",
    "    :param cell: RNN Cell\n",
    "    :param inputs: Input text data\n",
    "    :return: Tuple (Outputs, Final State)\n",
    "    \"\"\"\n",
    "    # done: Implement Functionre\n",
    "    \n",
    "    #https://www.tensorflow.org/api_docs/python/tf/nn/dynamic_rnn\n",
    "    \n",
    "    \n",
    "    #dynamic_rnn(\n",
    "    #cell,\n",
    "    #inputs,\n",
    "    #sequence_length=None,\n",
    "    #initial_state=None,\n",
    "    #type=None,\n",
    "    #parallel_iterations=None,\n",
    "    #swap_memory=False,\n",
    "    #time_major=False,\n",
    "    #scope=None\n",
    "    #)\n",
    "\n",
    "\n",
    "    \n",
    "    #ret= tf.nn.dynamic_rnn(cell, inputs)\n",
    "    #tf.identity(ret.state,name=\"final_state\")\n",
    "    #return ret#None, None\n",
    "    \n",
    "    retA,retB= tf.nn.dynamic_rnn(cell=cell,inputs= inputs,dtype=tf.float32)\n",
    "    #retA,retB= tf.nn.dynamic_rnn(cell=cell,inputs= inputs,dtype=tf.int32)\n",
    "    \n",
    "    \n",
    "    #identity(\n",
    "    #input,\n",
    "    # name=None\n",
    "    #)\n",
    "\n",
    "    retB = tf.identity(retB,name=\"final_state\")\n",
    "    return (retA, retB)   #None, None\n",
    "    \n",
    "    \n",
    "    #Ok let's trhy working with tuplez again  now once I fixed it\n",
    "    #ret= tf.nn.dynamic_rnn(cell, inputs)\n",
    "    #ret.state = tf.identity(ret.state,name=\"final_state\")\n",
    "    #return ret#None, None\n",
    "    \n",
    "\n",
    "\"\"\"\n",
    "DON'T MODIFY ANYTHING IN THIS CELL THAT IS BELOW THIS LINE\n",
    "\"\"\"\n",
    "tests.test_build_rnn(build_rnn)"
   ]
  },
  {
   "cell_type": "markdown",
   "metadata": {},
   "source": [
    "### Build the Neural Network\n",
    "Apply the functions you implemented above to:\n",
    "- Apply embedding to `input_data` using your `get_embed(input_data, vocab_size, embed_dim)` function.\n",
    "- Build RNN using `cell` and your `build_rnn(cell, inputs)` function.\n",
    "- Apply a fully connected layer with a linear activation and `vocab_size` as the number of outputs.\n",
    "\n",
    "Return the logits and final state in the following tuple (Logits, FinalState) "
   ]
  },
  {
   "cell_type": "code",
   "execution_count": 16,
   "metadata": {},
   "outputs": [
    {
     "name": "stdout",
     "output_type": "stream",
     "text": [
      "Tests Passed\n"
     ]
    }
   ],
   "source": [
    "def build_nn(cell, rnn_size, input_data, vocab_size, embed_dim):\n",
    "    \"\"\"\n",
    "    Build part of the neural network\n",
    "    :param cell: RNN cell\n",
    "    :param rnn_size: Size of rnns\n",
    "    :param input_data: Input data\n",
    "    :param vocab_size: Vocabulary size\n",
    "    :param embed_dim: Number of embedding dimensions\n",
    "    :return: Tuple (Logits, FinalState)\n",
    "    \"\"\"\n",
    "    #get._embed(input_data, vocab_size, embed_dim)\n",
    "    inputs= get_embed(input_data, vocab_size, embed_dim)#puts\n",
    "    #outputs, final_state = build_rnn(cell,embed_dim)\n",
    "    \n",
    "    outputs, final_state = build_rnn(cell,inputs)#ok that makes sense\n",
    "    \n",
    "    \n",
    "    \n",
    "    logits = tf.layers.dense(outputs, vocab_size)\n",
    "    return logits,final_state\n",
    "    \n",
    "    # doneO: Implement Function\n",
    "    #return None, None\n",
    "\n",
    "\n",
    "\"\"\"\n",
    "DON'T MODIFY ANYTHING IN THIS CELL THAT IS BELOW THIS LINE\n",
    "\"\"\"\n",
    "tests.test_build_nn(build_nn)"
   ]
  },
  {
   "cell_type": "markdown",
   "metadata": {},
   "source": [
    "### Batches\n",
    "Implement `get_batches` to create batches of input and targets using `int_text`.  The batches should be a Numpy array with the shape `(number of batches, 2, batch size, sequence length)`. Each batch contains two elements:\n",
    "- The first element is a single batch of **input** with the shape `[batch size, sequence length]`\n",
    "- The second element is a single batch of **targets** with the shape `[batch size, sequence length]`\n",
    "\n",
    "If you can't fill the last batch with enough data, drop the last batch.\n",
    "\n",
    "For exmple, `get_batches([1, 2, 3, 4, 5, 6, 7, 8, 9, 10, 11, 12, 13, 14, 15, 16, 17, 18, 19, 20], 3, 2)` would return a Numpy array of the following:\n",
    "```\n",
    "[\n",
    "  # First Batch\n",
    "  [\n",
    "    # Batch of Input\n",
    "    [[ 1  2], [ 7  8], [13 14]]\n",
    "    # Batch of targets\n",
    "    [[ 2  3], [ 8  9], [14 15]]\n",
    "  ]\n",
    "\n",
    "  # Second Batch\n",
    "  [\n",
    "    # Batch of Input\n",
    "    [[ 3  4], [ 9 10], [15 16]]\n",
    "    # Batch of targets\n",
    "    [[ 4  5], [10 11], [16 17]]\n",
    "  ]\n",
    "\n",
    "  # Third Batch\n",
    "  [\n",
    "    # Batch of Input\n",
    "    [[ 5  6], [11 12], [17 18]]\n",
    "    # Batch of targets\n",
    "    [[ 6  7], [12 13], [18  1]]\n",
    "  ]\n",
    "]\n",
    "```\n",
    "\n",
    "\n",
    "\n",
    "\n",
    "Notice that the last target value in the last batch is the first input value of the first batch. In this case, `1`. This is a common technique used when creating sequence batches, although it is rather unintuitive."
   ]
  },
  {
   "cell_type": "code",
   "execution_count": 17,
   "metadata": {},
   "outputs": [
    {
     "name": "stdout",
     "output_type": "stream",
     "text": [
      "Tests Passed\n"
     ]
    }
   ],
   "source": [
    "\n",
    "\n",
    "### another live help person helped me get rid of the last error. I don't understand what I dide wrong. please help, I want to use tf for other projects \n",
    "def get_batches(int_text, batch_size, seq_length):\n",
    "    n_batches = int(len(int_text)//(batch_size * seq_length))\n",
    "    \n",
    "    input_data = np.array(int_text[:n_batches *batch_size*seq_length])\n",
    "    targets_data = np.array(int_text[1:n_batches*batch_size*seq_length+1])\n",
    "    targets_data[-1]=input_data[0]\n",
    "    input_batches = np.split(input_data.reshape(batch_size,-1),n_batches,1)\n",
    "    targets_batches = np.split(targets_data.reshape(batch_size,-1),n_batches,1)\n",
    "    return np.array(list(zip(input_batches,targets_batches)))\n",
    "    \n",
    "def get_batches1old(int_text, batch_size, seq_length):\n",
    "    \"\"\"\n",
    "    Return batches of input and target\n",
    "    :param int_text: Text with the words replaced by their ids\n",
    "    :param batch_size: The size of batch\n",
    "    :param seq_length: The length of sequence\n",
    "    :return: Batches as a Numpy array\n",
    "    \"\"\"\n",
    "    # not yet done: Implement Function\n",
    "    #return 1\n",
    "    #The first element is a single batch of input with the shape [batch size, sequence length]\n",
    "    \n",
    "    #firstelement = \n",
    "    \n",
    "    # zip(...)\n",
    "    #ret \n",
    "    \n",
    "    ####### Realized this is just like the udacity course's embedding practices\n",
    "    # referenced: https://github.com/udacity/deep-learning/tree/master/embeddings\n",
    "    #n_batches = len(int_text) /batch_size * seq_length\n",
    "    \n",
    "    # only full batches\n",
    "    #texts = int_text[:n_batches*batch_size*seq_length]\n",
    "\n",
    "    \n",
    "    #for idx in range(0, len(int_text), batch_size):\n",
    "    #    x, y = [], []\n",
    "    #    batch = int_text[idx:idx+batch_size]\n",
    "    #    for ii in range(len(batch)):\n",
    "    #        batch_x = batch[ii]\n",
    "    #        batch_y = get_target(batch, ii, seq_length)\n",
    "    #        y.extend(batch_y)\n",
    "    #        x.extend([batch_x]*len(batch_y))\n",
    "    #    yield x,y\n",
    "    \n",
    "    #AssertionError: Batches is not a Numpy array\n",
    "    #return \n",
    "\n",
    "    #asked / got help from live support, who confirmed this is just a reshape problem\n",
    "    \n",
    "    \n",
    "    #n_batches = len(int_text)/batch_size * seq_length\n",
    "    \n",
    "    #maybe not still..\n",
    "    n_batches = (int(len(int_text)//(batch_size * seq_length)))\n",
    "    \n",
    "    \n",
    "    # I will say again, I HATE the [:::] nonsense. It takes me too long to figure this out\n",
    "    #x = np.array(int_text[:len(int_text)*seq_length])\n",
    "    #x = np.array(int_text[:len(int_text)/seq_length])\n",
    "    #TypeError: slice indices must be integers or None or have an __index__ metho\n",
    "    x = np.array(int_text[:(int(len(int_text)//seq_length))])\n",
    "    \n",
    "    \n",
    "    #live support pointed this line out. take the first and make it the last. for the shifting data thing\n",
    "    y = np.array(int_text[1:(int(len(int_text)//seq_length)+1)])\n",
    "    y[-1] = x[0]\n",
    "    #return 0\n",
    "    # it looks like i could have used np.roll too though\n",
    "    \n",
    "    #then to make it work,rehape\n",
    "    x = np.reshape(x,[batch_size,-1])\n",
    "   \n",
    "    y = np.reshape(y,[batch_size,-1]) \n",
    "   \n",
    "    #repackage\n",
    "    #ret = np.array(list(zip(x,y)))\n",
    "\n",
    "    \n",
    "    \n",
    "    #  oh split too\n",
    "    # add once it gets past reshape..\n",
    "    \n",
    "    return np.array(list(zip(x,y)))#ret\n",
    "\n",
    "    #note to self, don't misspell return. python does NOT have understandable errors\n",
    "   \n",
    "\n",
    "\"\"\"\n",
    "DON'T MODIFY ANYTHING IN THIS CELL THAT IS BELOW THIS LINE\n",
    "\"\"\"\n",
    "tests.test_get_batches(get_batches)"
   ]
  },
  {
   "cell_type": "markdown",
   "metadata": {},
   "source": [
    "## Neural Network Training\n",
    "### Hyperparameters\n",
    "Tune the following parameters:\n",
    "\n",
    "- Set `num_epochs` to the number of epochs.\n",
    "- Set `batch_size` to the batch size.\n",
    "- Set `rnn_size` to the size of the RNNs.\n",
    "- Set `embed_dim` to the size of the embedding.\n",
    "- Set `seq_length` to the length of sequence.\n",
    "- Set `learning_rate` to the learning rate.\n",
    "- Set `show_every_n_batches` to the number of batches the neural network should print progress."
   ]
  },
  {
   "cell_type": "code",
   "execution_count": 18,
   "metadata": {
    "collapsed": true
   },
   "outputs": [],
   "source": [
    "# Number of Epochs\n",
    "\n",
    "# This is small text, not an image, so I'm going to try for more thanlast homework\n",
    "num_epochs = 55 #32 #25 #256 #None\n",
    "# Batch Size\n",
    "batch_size = 512 #None\n",
    "# RNN Size\n",
    "rnn_size = 15 #10 #None\n",
    "# Embedding Dimension Size\n",
    "embed_dim = 10 #5 #None\n",
    "# Sequence Length\n",
    "seq_length = 32 #None\n",
    "# Learning Rate\n",
    "\n",
    "#I had good resuls with around 0.4 to 0.6 so far but terrible results with lower and higher - ths may be a function of my machine, but the live suppor for last homework said that it made sense (I was tring to use <0.09\n",
    "\n",
    "learning_rate = 0.8 #0.25 #0.35 #.4 #None\n",
    "# Show stats for every n number of batches\n",
    "show_every_n_batches = 32# $64 #None\n",
    "\n",
    "\"\"\"\n",
    "DON'T MODIFY ANYTHING IN THIS CELL THAT IS BELOW THIS LINE\n",
    "\"\"\"\n",
    "save_dir = './save'"
   ]
  },
  {
   "cell_type": "markdown",
   "metadata": {},
   "source": [
    "### Build the Graph\n",
    "Build the graph using the neural network you implemented."
   ]
  },
  {
   "cell_type": "code",
   "execution_count": 19,
   "metadata": {
    "collapsed": true
   },
   "outputs": [],
   "source": [
    "\"\"\"\n",
    "DON'T MODIFY ANYTHING IN THIS CELL\n",
    "\"\"\"\n",
    "from tensorflow.contrib import seq2seq\n",
    "\n",
    "train_graph = tf.Graph()\n",
    "with train_graph.as_default():\n",
    "    vocab_size = len(int_to_vocab)\n",
    "    input_text, targets, lr = get_inputs()\n",
    "    input_data_shape = tf.shape(input_text)\n",
    "    cell, initial_state = get_init_cell(input_data_shape[0], rnn_size)\n",
    "    logits, final_state = build_nn(cell, rnn_size, input_text, vocab_size, embed_dim)\n",
    "\n",
    "    # Probabilities for generating words\n",
    "    probs = tf.nn.softmax(logits, name='probs')\n",
    "\n",
    "    # Loss function\n",
    "    cost = seq2seq.sequence_loss(\n",
    "        logits,\n",
    "        targets,\n",
    "        tf.ones([input_data_shape[0], input_data_shape[1]]))\n",
    "\n",
    "    # Optimizer\n",
    "    optimizer = tf.train.AdamOptimizer(lr)\n",
    "\n",
    "    # Gradient Clipping\n",
    "    gradients = optimizer.compute_gradients(cost)\n",
    "    capped_gradients = [(tf.clip_by_value(grad, -1., 1.), var) for grad, var in gradients if grad is not None]\n",
    "    train_op = optimizer.apply_gradients(capped_gradients)"
   ]
  },
  {
   "cell_type": "markdown",
   "metadata": {},
   "source": [
    "## Train\n",
    "Train the neural network on the preprocessed data.  If you have a hard time getting a good loss, check the [forms](https://discussions.udacity.com/) to see if anyone is having the same problem."
   ]
  },
  {
   "cell_type": "code",
   "execution_count": 20,
   "metadata": {},
   "outputs": [
    {
     "name": "stdout",
     "output_type": "stream",
     "text": [
      "Epoch   0 Batch    0/4   train_loss = 8.822\n",
      "Epoch   8 Batch    0/4   train_loss = 8.822\n",
      "Epoch  16 Batch    0/4   train_loss = 8.822\n",
      "Epoch  24 Batch    0/4   train_loss = 8.822\n",
      "Epoch  32 Batch    0/4   train_loss = 8.822\n",
      "Epoch  40 Batch    0/4   train_loss = 8.822\n",
      "Epoch  48 Batch    0/4   train_loss = 8.822\n",
      "Model Trained and Saved\n"
     ]
    }
   ],
   "source": [
    "\"\"\"\n",
    "DON'T MODIFY ANYTHING IN THIS CELL\n",
    "\"\"\"\n",
    "batches = get_batches(int_text, batch_size, seq_length)\n",
    "\n",
    "with tf.Session(graph=train_graph) as sess:\n",
    "    sess.run(tf.global_variables_initializer())\n",
    "\n",
    "    for epoch_i in range(num_epochs):\n",
    "        state = sess.run(initial_state, {input_text: batches[0][0]})\n",
    "\n",
    "        for batch_i, (x, y) in enumerate(batches):\n",
    "            feed = {\n",
    "                input_text: x,\n",
    "                targets: y,\n",
    "                initial_state: state,\n",
    "                lr: learning_rate}\n",
    "            train_loss, state, _ = sess.run([cost, final_state, train_op], feed)\n",
    "\n",
    "            # Show every <show_every_n_batches> batches\n",
    "            if (epoch_i * len(batches) + batch_i) % show_every_n_batches == 0:\n",
    "                print('Epoch {:>3} Batch {:>4}/{}   train_loss = {:.3f}'.format(\n",
    "                    epoch_i,\n",
    "                    batch_i,\n",
    "                    len(batches),\n",
    "                    train_loss))\n",
    "\n",
    "    # Save Model\n",
    "    saver = tf.train.Saver()\n",
    "    saver.save(sess, save_dir)\n",
    "    print('Model Trained and Saved')"
   ]
  },
  {
   "cell_type": "markdown",
   "metadata": {},
   "source": [
    "## Save Parameters\n",
    "Save `seq_length` and `save_dir` for generating a new TV script."
   ]
  },
  {
   "cell_type": "code",
   "execution_count": 21,
   "metadata": {
    "collapsed": true
   },
   "outputs": [],
   "source": [
    "\"\"\"\n",
    "DON'T MODIFY ANYTHING IN THIS CELL\n",
    "\"\"\"\n",
    "# Save parameters for checkpoint\n",
    "helper.save_params((seq_length, save_dir))"
   ]
  },
  {
   "cell_type": "markdown",
   "metadata": {},
   "source": [
    "# Checkpoint"
   ]
  },
  {
   "cell_type": "code",
   "execution_count": 22,
   "metadata": {
    "collapsed": true
   },
   "outputs": [],
   "source": [
    "\"\"\"\n",
    "DON'T MODIFY ANYTHING IN THIS CELL\n",
    "\"\"\"\n",
    "import tensorflow as tf\n",
    "import numpy as np\n",
    "import helper\n",
    "import problem_unittests as tests\n",
    "\n",
    "_, vocab_to_int, int_to_vocab, token_dict = helper.load_preprocess()\n",
    "seq_length, load_dir = helper.load_params()"
   ]
  },
  {
   "cell_type": "markdown",
   "metadata": {},
   "source": [
    "## Implement Generate Functions\n",
    "### Get Tensors\n",
    "Get tensors from `loaded_graph` using the function [`get_tensor_by_name()`](https://www.tensorflow.org/api_docs/python/tf/Graph#get_tensor_by_name).  Get the tensors using the following names:\n",
    "- \"input:0\"\n",
    "- \"initial_state:0\"\n",
    "- \"final_state:0\"\n",
    "- \"probs:0\"\n",
    "\n",
    "Return the tensors in the following tuple `(InputTensor, InitialStateTensor, FinalStateTensor, ProbsTensor)` "
   ]
  },
  {
   "cell_type": "code",
   "execution_count": 23,
   "metadata": {},
   "outputs": [
    {
     "name": "stdout",
     "output_type": "stream",
     "text": [
      "Tests Passed\n"
     ]
    }
   ],
   "source": [
    "def get_tensors(loaded_graph):\n",
    "    \"\"\"\n",
    "    Get input, initial state, final state, and probabilities tensor from <loaded_graph>\n",
    "    :param loaded_graph: TensorFlow graph loaded from file\n",
    "    :return: Tuple (InputTensor, InitialStateTensor, FinalStateTensor, ProbsTensor)\n",
    "    \"\"\"\n",
    "    # Tdone: Implement Function\n",
    "    \n",
    "    \n",
    "    #using references provided by previous cell\n",
    "    #input\n",
    "    \n",
    "    #can I even use the term \"input\" jupyter  notbook hightlights it ike its a command\n",
    "    \n",
    "    inputs = loaded_graph.get_tensor_by_name(\"input:0\")\n",
    "    initial =loaded_graph.get_tensor_by_name(\"initial_state:0\")\n",
    "    final=loaded_graph.get_tensor_by_name(\"final_state:0\")\n",
    "    probabilities = loaded_graph.get_tensor_by_name(\"probs:0\")\n",
    "    return inputs, initial, final, probabilities\n",
    "\n",
    "\n",
    "\"\"\"\n",
    "DON'T MODIFY ANYTHING IN THIS CELL THAT IS BELOW THIS LINE\n",
    "\"\"\"\n",
    "tests.test_get_tensors(get_tensors)"
   ]
  },
  {
   "cell_type": "markdown",
   "metadata": {},
   "source": [
    "### Choose Word\n",
    "Implement the `pick_word()` function to select the next word using `probabilities`."
   ]
  },
  {
   "cell_type": "code",
   "execution_count": 24,
   "metadata": {},
   "outputs": [
    {
     "name": "stdout",
     "output_type": "stream",
     "text": [
      "Tests Passed\n"
     ]
    }
   ],
   "source": [
    "def pick_word(probabilities, int_to_vocab):\n",
    "    \"\"\"\n",
    "    Pick the next word in the generated text\n",
    "    :param probabilities: Probabilites of the next word\n",
    "    :param int_to_vocab: Dictionary of word ids as the keys and words as the values\n",
    "    :return: String of the predicted word\n",
    "    \"\"\"\n",
    "    # sonw: Implement Function\n",
    "    #print(int_to_vocab)\n",
    "    #print(vocab_to_int)\n",
    "    \n",
    "    #print(probabilities)\n",
    "    \n",
    "    #actually id din't read the info on param probabilities ... I should use argmax\n",
    "    #https://docs.scipy.org/doc/numpy-1.13.0/reference/generated/numpy.argmax.html\n",
    "    #ret = int_to_vocab[np.argmax(probabilities)]\n",
    "    #print(np.argmax(probabilities))\n",
    "    #print(ret)\n",
    "    \n",
    "    #ret = int_to_vocab[int(np.random.choice(len(probabilities),p=probabilities))]\n",
    "    \n",
    "    #### I keep getting KeyError: 0, which google says means it is tryhing to\n",
    "    # access 0 or less\n",
    "    \n",
    "    #select =  int(np.argmax(probabilities))\n",
    "    #if(select < 1):\n",
    "    #    select = 1\n",
    "    #if(select > len(int_to_vocab)):\n",
    "    #    select = len(int_to_vocab)\n",
    "    #ret = int_to_vocab[select]\n",
    "    #return ret\n",
    "    num_word = np.random.choice(len(int_to_vocab), p=probabilities)\n",
    "\n",
    "    return int_to_vocab[num_word]\n",
    "\n",
    "        \n",
    "    \n",
    "\n",
    "\n",
    "\"\"\"\n",
    "DON'T MODIFY ANYTHING IN THIS CELL THAT IS BELOW THIS LINE\n",
    "\"\"\"\n",
    "tests.test_pick_word(pick_word)"
   ]
  },
  {
   "cell_type": "markdown",
   "metadata": {},
   "source": [
    "## Generate TV Script\n",
    "This will generate the TV script for you.  Set `gen_length` to the length of TV script you want to generate."
   ]
  },
  {
   "cell_type": "code",
   "execution_count": 25,
   "metadata": {
    "scrolled": false
   },
   "outputs": [
    {
     "name": "stdout",
     "output_type": "stream",
     "text": [
      "moe_szyslak: reaction team's shores surprised/thrilled bubbles happiness swine mean rookie telephone militia mis-statement ocean sucking surgery sooo beady riveting upsetting marquee vote everything engraved doesn't moonlight liability america's authorized how's later pages twelve-step fired\n"
     ]
    }
   ],
   "source": [
    "#gen_length = #200\n",
    "\n",
    "\n",
    "\n",
    "# OK. So as I understand it in a TV episode there is about 1 page screenplay per minute.\n",
    "# at lets say aroudn 22 minute epidsode (commercials etc), that is 22 pages. 100 word s per page\n",
    "# 2200\n",
    "#gen_length =2200\n",
    "gen_length =33\n",
    "\n",
    "# homer_simpson, moe_szyslak, or Barney_Gumble\n",
    "prime_word = 'moe_szyslak'\n",
    "\n",
    "\n",
    "\n",
    "# Think I changed something below accidentally that was messing stuff up before. It should now work\n",
    "\n",
    "\n",
    "\"\"\"\n",
    "DON'T MODIFY ANYTHING IN THIS CELL THAT IS BELOW THIS LINE\n",
    "\"\"\"\n",
    "loaded_graph = tf.Graph()\n",
    "with tf.Session(graph=loaded_graph) as sess:\n",
    "    # Load saved model\n",
    "    loader = tf.train.import_meta_graph(load_dir + '.meta')\n",
    "    loader.restore(sess, load_dir)\n",
    "\n",
    "    # Get Tensors from loaded model\n",
    "    input_text, initial_state, final_state, probs = get_tensors(loaded_graph)\n",
    "\n",
    "    # Sentences generation setup\n",
    "    gen_sentences = [prime_word + ':']\n",
    "    prev_state = sess.run(initial_state, {input_text: np.array([[1]])})\n",
    "\n",
    "    # Generate sentences\n",
    "    for n in range(gen_length):\n",
    "        # Dynamic Input\n",
    "        dyn_input = [[vocab_to_int[word] for word in gen_sentences[-seq_length:]]]\n",
    "        dyn_seq_length = len(dyn_input[0])\n",
    "\n",
    "        # Get Prediction\n",
    "        probabilities, prev_state = sess.run(\n",
    "            [probs, final_state],\n",
    "            {input_text: dyn_input, initial_state: prev_state})\n",
    "        \n",
    "        pred_word = pick_word(probabilities[dyn_seq_length-1], int_to_vocab)\n",
    "\n",
    "        gen_sentences.append(pred_word)\n",
    "    \n",
    "    # Remove tokens\n",
    "    tv_script = ' '.join(gen_sentences)\n",
    "    for key, token in token_dict.items():\n",
    "        ending = ' ' if key in ['\\n', '(', '\"'] else ''\n",
    "        tv_script = tv_script.replace(' ' + token.lower(), key)\n",
    "    tv_script = tv_script.replace('\\n ', '\\n')\n",
    "    tv_script = tv_script.replace('( ', '(')\n",
    "        \n",
    "    #print(tv_script.values())\n",
    "    print(tv_script)"
   ]
  },
  {
   "cell_type": "markdown",
   "metadata": {},
   "source": [
    "# The TV Script is Nonsensical\n",
    "It's ok if the TV script doesn't make any sense.  We trained on less than a megabyte of text.  In order to get good results, you'll have to use a smaller vocabulary or get more data.  Luckly there's more data!  As we mentioned in the begging of this project, this is a subset of [another dataset](https://www.kaggle.com/wcukierski/the-simpsons-by-the-data).  We didn't have you train on all the data, because that would take too long.  However, you are free to train your neural network on all the data.  After you complete the project, of course.\n",
    "# Submitting This Project\n",
    "When submitting this project, make sure to run all the cells before saving the notebook. Save the notebook file as \"dlnd_tv_script_generation.ipynb\" and save it as a HTML file under \"File\" -> \"Download as\". Include the \"helper.py\" and \"problem_unittests.py\" files in your submission."
   ]
  }
 ],
 "metadata": {
  "kernelspec": {
   "display_name": "Python 3",
   "language": "python",
   "name": "python3"
  },
  "language_info": {
   "codemirror_mode": {
    "name": "ipython",
    "version": 3
   },
   "file_extension": ".py",
   "mimetype": "text/x-python",
   "name": "python",
   "nbconvert_exporter": "python",
   "pygments_lexer": "ipython3",
   "version": "3.6.2"
  },
  "widgets": {
   "state": {},
   "version": "1.1.2"
  }
 },
 "nbformat": 4,
 "nbformat_minor": 1
}
