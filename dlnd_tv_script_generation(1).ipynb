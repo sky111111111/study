{
 "cells": [
  {
   "cell_type": "markdown",
   "metadata": {},
   "source": [
    "# TV Script Generation\n",
    "In this project, you'll generate your own [Simpsons](https://en.wikipedia.org/wiki/The_Simpsons) TV scripts using RNNs.  You'll be using part of the [Simpsons dataset](https://www.kaggle.com/wcukierski/the-simpsons-by-the-data) of scripts from 27 seasons.  The Neural Network you'll build will generate a new TV script for a scene at [Moe's Tavern](https://simpsonswiki.com/wiki/Moe's_Tavern).\n",
    "## Get the Data\n",
    "The data is already provided for you.  You'll be using a subset of the original dataset.  It consists of only the scenes in Moe's Tavern.  This doesn't include other versions of the tavern, like \"Moe's Cavern\", \"Flaming Moe's\", \"Uncle Moe's Family Feed-Bag\", etc.."
   ]
  },
  {
   "cell_type": "code",
   "execution_count": 1,
   "metadata": {
    "collapsed": true
   },
   "outputs": [],
   "source": [
    "# Computer is setup similarly to that for hw 1 and 2\n",
    "# "
   ]
  },
  {
   "cell_type": "code",
   "execution_count": 2,
   "metadata": {
    "collapsed": true
   },
   "outputs": [],
   "source": [
    "\"\"\"\n",
    "DON'T MODIFY ANYTHING IN THIS CELL\n",
    "\"\"\"\n",
    "import helper\n",
    "\n",
    "data_dir = './data/simpsons/moes_tavern_lines.txt'\n",
    "text = helper.load_data(data_dir)\n",
    "# Ignore notice, since we don't use it for analysing the data\n",
    "text = text[81:]"
   ]
  },
  {
   "cell_type": "markdown",
   "metadata": {},
   "source": [
    "## Explore the Data\n",
    "Play around with `view_sentence_range` to view different parts of the data."
   ]
  },
  {
   "cell_type": "code",
   "execution_count": 3,
   "metadata": {
    "collapsed": true
   },
   "outputs": [],
   "source": [
    "# Why is there code in the cell bellow that is above the DONTMODIFY note?\n",
    "#I mean, why wouldn't that be in a differenet cell"
   ]
  },
  {
   "cell_type": "code",
   "execution_count": 4,
   "metadata": {},
   "outputs": [
    {
     "name": "stdout",
     "output_type": "stream",
     "text": [
      "Dataset Stats\n",
      "Roughly the number of unique words: 11492\n",
      "Number of scenes: 262\n",
      "Average number of sentences in each scene: 15.248091603053435\n",
      "Number of lines: 4257\n",
      "Average number of words in each line: 11.50434578341555\n",
      "\n",
      "The sentences 5 to 20:\n",
      "Homer_Simpson: I got my problems, Moe. Give me another one.\n",
      "Moe_Szyslak: Homer, hey, you should not drink to forget your problems.\n",
      "Barney_Gumble: Yeah, you should only drink to enhance your social skills.\n",
      "\n",
      "\n",
      "Moe_Szyslak: Ah, isn't that nice. Now, there is a politician who cares.\n",
      "Barney_Gumble: If I ever vote, it'll be for him. (BELCH)\n",
      "\n",
      "\n",
      "Barney_Gumble: Hey Homer, how's your neighbor's store doing?\n",
      "Homer_Simpson: Lousy. He just sits there all day. He'd have a great job if he didn't own the place. (CHUCKLES)\n",
      "Moe_Szyslak: (STRUGGLING WITH CORKSCREW) Crummy right-handed corkscrews! What does he sell?\n",
      "Homer_Simpson: Uh, well actually, Moe...\n",
      "HOMER_(CONT'D: I dunno.\n",
      "\n"
     ]
    }
   ],
   "source": [
    "view_sentence_range = (5, 20)\n",
    "\n",
    "\"\"\"\n",
    "DON'T MODIFY ANYTHING IN THIS CELL\n",
    "\"\"\"\n",
    "import numpy as np\n",
    "\n",
    "print('Dataset Stats')\n",
    "print('Roughly the number of unique words: {}'.format(len({word: None for word in text.split()})))\n",
    "scenes = text.split('\\n\\n')\n",
    "print('Number of scenes: {}'.format(len(scenes)))\n",
    "sentence_count_scene = [scene.count('\\n') for scene in scenes]\n",
    "print('Average number of sentences in each scene: {}'.format(np.average(sentence_count_scene)))\n",
    "\n",
    "sentences = [sentence for scene in scenes for sentence in scene.split('\\n')]\n",
    "print('Number of lines: {}'.format(len(sentences)))\n",
    "word_count_sentence = [len(sentence.split()) for sentence in sentences]\n",
    "print('Average number of words in each line: {}'.format(np.average(word_count_sentence)))\n",
    "\n",
    "print()\n",
    "print('The sentences {} to {}:'.format(*view_sentence_range))\n",
    "print('\\n'.join(text.split('\\n')[view_sentence_range[0]:view_sentence_range[1]]))"
   ]
  },
  {
   "cell_type": "markdown",
   "metadata": {},
   "source": [
    "## Implement Preprocessing Functions\n",
    "The first thing to do to any dataset is preprocessing.  Implement the following preprocessing functions below:\n",
    "- Lookup Table\n",
    "- Tokenize Punctuation\n",
    "\n",
    "### Lookup Table\n",
    "To create a word embedding, you first need to transform the words to ids.  In this function, create two dictionaries:\n",
    "- Dictionary to go from the words to an id, we'll call `vocab_to_int`\n",
    "- Dictionary to go from the id to word, we'll call `int_to_vocab`\n",
    "\n",
    "Return these dictionaries in the following tuple `(vocab_to_int, int_to_vocab)`"
   ]
  },
  {
   "cell_type": "code",
   "execution_count": 5,
   "metadata": {},
   "outputs": [
    {
     "name": "stdout",
     "output_type": "stream",
     "text": [
      "{'moe_szyslak': 82, \"moe's\": 1, 'tavern': 2, 'where': 3, 'the': 63, 'elite': 5, 'meet': 6, 'to': 99, 'drink': 98, 'bart_simpson': 9, 'eh': 10, 'yeah': 94, 'hello': 12, 'is': 13, 'mike': 32, 'there': 15, 'last': 16, 'name': 53, 'rotch': 33, 'hold': 20, 'on': 54, \"i'll\": 22, 'check': 23, 'hey': 84, 'has': 29, 'anybody': 30, 'seen': 31, 'lately': 34, 'listen': 36, 'you': 95, 'little': 38, 'puke': 39, 'one': 81, 'of': 41, 'these': 42, 'days': 43, \"i'm\": 49, 'gonna': 50, 'catch': 46, 'and': 48, 'carve': 51, 'my': 75, 'your': 101, 'back': 56, 'with': 57, 'an': 58, 'ice': 59, 'pick': 60, 'whats': 62, 'matter': 64, 'homer': 83, \"you're\": 66, 'not': 87, 'normal': 69, 'effervescent': 70, 'self': 71, 'homer_simpson': 72, 'i': 73, 'got': 74, 'problems': 92, 'moe': 77, 'give': 78, 'me': 79, 'another': 80, 'should': 96, 'forget': 90, 'barney_gumble': 93, 'only': 97, 'enhance': 100, 'social': 102, 'skills': 103}\n",
      "\n",
      "\n",
      "=========\n",
      "\n",
      "{82: 'moe_szyslak', 1: \"moe's\", 2: 'tavern', 3: 'where', 63: 'the', 5: 'elite', 6: 'meet', 99: 'to', 98: 'drink', 9: 'bart_simpson', 10: 'eh', 94: 'yeah', 12: 'hello', 13: 'is', 32: 'mike', 15: 'there', 16: 'last', 53: 'name', 33: 'rotch', 20: 'hold', 54: 'on', 22: \"i'll\", 23: 'check', 84: 'hey', 29: 'has', 30: 'anybody', 31: 'seen', 34: 'lately', 36: 'listen', 95: 'you', 38: 'little', 39: 'puke', 81: 'one', 41: 'of', 42: 'these', 43: 'days', 49: \"i'm\", 50: 'gonna', 46: 'catch', 48: 'and', 51: 'carve', 75: 'my', 101: 'your', 56: 'back', 57: 'with', 58: 'an', 59: 'ice', 60: 'pick', 62: 'whats', 64: 'matter', 83: 'homer', 66: \"you're\", 87: 'not', 69: 'normal', 70: 'effervescent', 71: 'self', 72: 'homer_simpson', 73: 'i', 74: 'got', 92: 'problems', 77: 'moe', 78: 'give', 79: 'me', 80: 'another', 96: 'should', 90: 'forget', 93: 'barney_gumble', 97: 'only', 100: 'enhance', 102: 'social', 103: 'skills'}\n",
      "Tests Passed\n"
     ]
    }
   ],
   "source": [
    "import numpy as np\n",
    "import problem_unittests as tests\n",
    "\n",
    "def create_lookup_tables(text):\n",
    "    \"\"\"\n",
    "    Create lookup tables for vocabulary\n",
    "    :param text: The text of tv scripts split into words\n",
    "    :return: A tuple of dicts (vocab_to_int, int_to_vocab)\n",
    "    \"\"\"\n",
    "    # DONE: Implement Function\n",
    "    \n",
    "    #see ing what shape text is:    \n",
    "    #print(text)\n",
    "    ##text.shape()\n",
    "    \n",
    "    \n",
    "    #googled dictionaries from lists: https://stackoverflow.com/questions/1747817/create-a-dictionary-with-list-comprehension-in-python\n",
    "    #d = {k:v for k, v in iterable}\n",
    "    \n",
    "    #don't use int here because keyword, using val instead.\n",
    "        #vocab_to_int = {vocab: val for vocab, v in len(text)}\n",
    "        #vocab_to_int = {vocab: val for vocab, val in enumerate(text)}\n",
    "        #int_to_vocab = {val:vocab for val, vocab in vocab_to_int.items()}\n",
    "   \n",
    "        #int_to_vocab = {val:vocab for vocab, vocab in vocab_to_int.items()}\n",
    "\n",
    "        ##  vocab_to_int = {vocab: val for vocab, vocab in enumerate(text)}\n",
    "        #int_to_vocab = {val:vocab for val, val in vocab_to_int.items()}\n",
    "\n",
    "    # OK I understand this now. I think I could code this again without so much guessing next time\n",
    "        \n",
    "    vocab_to_int = {vocab: val for val, vocab in enumerate(text)}\n",
    "    int_to_vocab = {val:vocab for vocab, val in vocab_to_int.items()}\n",
    "\n",
    "    #ok that makes sense. in this case it should be closer to d = {k:v for v, k in enum} I don't know why that took me so long.. :/\n",
    "    \n",
    "    print(vocab_to_int)\n",
    "    print(\"\\n\\n=========\\n\")\n",
    "    print(int_to_vocab)\n",
    "\n",
    "    # This looks right\n",
    "    \n",
    "    \n",
    "    \n",
    "    return vocab_to_int, int_to_vocab  #None, None\n",
    "\n",
    "\n",
    "\"\"\"\n",
    "DON'T MODIFY ANYTHING IN THIS CELL THAT IS BELOW THIS LINE\n",
    "\"\"\"\n",
    "tests.test_create_lookup_tables(create_lookup_tables)"
   ]
  },
  {
   "cell_type": "markdown",
   "metadata": {},
   "source": [
    "### Tokenize Punctuation\n",
    "We'll be splitting the script into a word array using spaces as delimiters.  However, punctuations like periods and exclamation marks make it hard for the neural network to distinguish between the word \"bye\" and \"bye!\".\n",
    "\n",
    "Implement the function `token_lookup` to return a dict that will be used to tokenize symbols like \"!\" into \"||Exclamation_Mark||\".  Create a dictionary for the following symbols where the symbol is the key and value is the token:\n",
    "- Period ( . )\n",
    "- Comma ( , )\n",
    "- Quotation Mark ( \" )\n",
    "- Semicolon ( ; )\n",
    "- Exclamation mark ( ! )\n",
    "- Question mark ( ? )\n",
    "- Left Parentheses ( ( )\n",
    "- Right Parentheses ( ) )\n",
    "- Dash ( -- )\n",
    "- Return ( \\n )\n",
    "\n",
    "This dictionary will be used to token the symbols and add the delimiter (space) around it.  This separates the symbols as it's own word, making it easier for the neural network to predict on the next word. Make sure you don't use a token that could be confused as a word. Instead of using the token \"dash\", try using something like \"||dash||\"."
   ]
  },
  {
   "cell_type": "code",
   "execution_count": 6,
   "metadata": {},
   "outputs": [
    {
     "name": "stdout",
     "output_type": "stream",
     "text": [
      "Tests Passed\n"
     ]
    }
   ],
   "source": [
    "def token_lookup():\n",
    "    \"\"\"\n",
    "    Generate a dict to turn punctuation into a token.\n",
    "    :return: Tokenize dictionary where the key is the punctuation and the value is the token\n",
    "    \"\"\"\n",
    "    # DONE: Implement Function\n",
    "    #ret = {}\n",
    "    \n",
    "    \n",
    "    \n",
    "    \n",
    "    #Period ( . )\n",
    "    #Comma ( , )\n",
    "    #Quotation Mark ( \" )\n",
    "    #Semicolon ( ; )\n",
    "    #Exclamation mark ( ! )\n",
    "    #Question mark ( ? )\n",
    "    #Left Parentheses ( ( )\n",
    "    #Right Parentheses ( ) )\n",
    "    #Dash ( -- )\n",
    "    #Return ( \\n )\n",
    "    #(\"Period\",\".\")\n",
    "    #\"Comma\",\",\")\n",
    "    #(\"Quotation_Mark\", \"\\\")\n",
    "    #(\"Semicolon\", \";\" )\n",
    "    #(\"Exclamation_mark,\"!\" )\n",
    "    #(\"Question mark\",\"?\")\n",
    "    #(\"Left_Parentheses\",\"(\")\n",
    "    #(\"Right_Parentheses\",\")\")\n",
    "    #(\"Dash\",\"--\"),\n",
    "    #(\"Return\",\"\\\\n\")\n",
    "    \n",
    "    \n",
    "    #there must be an easier way to move stuff aroudn or find replace in Jupyter Notebook.. I finally just used a text editor (geany) though.\n",
    "    \n",
    "    \n",
    "    # use lowercase just in case a to upper or to loower is used on the text later\n",
    "    # break out \\.\n",
    "    ret = {\n",
    "        '||period||':'.',\n",
    "        '||comma||':',',\n",
    "        '||quotation_mark||':'\"',  \n",
    "        '||semicolon||':';' ,\n",
    "        '||exclamation_mark||':'!',\n",
    "        '||question_mark||':'?',\n",
    "        '||left_parentheses||':'(',\n",
    "        '||right_parentheses||':')',\n",
    "        '||dash||':'--',\n",
    "        '||return||':'\\n'}\n",
    "\n",
    "    # I guess I typed this in reverse. Rather than edit it by hand again, I figure this is a good time to learn how to flip keys and values\n",
    "    # I did a google search, and found https://stackoverflow.com/questions/14131089/better-one-liner-to-flip-keys-and-values-of-a-dictionary\n",
    "    #e = {v: k for k, v in a.iteritems()}\n",
    "    # so that would be:\n",
    "    \n",
    "    #ret_corrected = {values : keys for keys , values in ret.iteritems()}\n",
    "    #AttributeError: 'dict' object has no attribute 'iteritems'\n",
    "    #I did something wrong I gues, this was another option:\n",
    "    \n",
    "    #d = dict(map(reversed, a.items()))\n",
    "    ret_corrected = dict(map(reversed,ret.items()))\n",
    "    \n",
    "    # cool that worked. must remember.\n",
    "    \n",
    "    \n",
    "    # I asked about this later on the Live support, this is a difference between python 3 and 2 with iteritems removed in 3. See: PEP-469\n",
    "    return ret_corrected#ret\n",
    "\n",
    "    \n",
    "\n",
    "\"\"\"\n",
    "DON'T MODIFY ANYTHING IN THIS CELL THAT IS BELOW THIS LINE\n",
    "\"\"\"\n",
    "tests.test_tokenize(token_lookup)"
   ]
  },
  {
   "cell_type": "markdown",
   "metadata": {},
   "source": [
    "## Preprocess all the data and save it\n",
    "Running the code cell below will preprocess all the data and save it to file."
   ]
  },
  {
   "cell_type": "code",
   "execution_count": 7,
   "metadata": {},
   "outputs": [
    {
     "name": "stdout",
     "output_type": "stream",
     "text": [
      "{'moe_szyslak:': 69068, '||left_parentheses||': 69053, 'into': 68576, 'phone': 68577, '||right_parentheses||': 69055, \"moe's\": 68522, 'tavern': 68523, '||period||': 69099, 'where': 67466, 'the': 68965, 'elite': 10, 'meet': 63566, 'to': 69097, 'drink': 66885, '||return||': 69079, 'bart_simpson:': 66805, 'eh': 69056, '||comma||': 69093, 'yeah': 68749, 'hello': 68520, 'is': 68549, 'mike': 28964, 'there': 68550, '||question_mark||': 69027, 'last': 69020, 'name': 68096, 'rotch': 60, 'hold': 66873, 'on': 68834, \"i'll\": 68299, 'check': 68820, 'barflies': 59393, 'hey': 68768, 'has': 66306, 'anybody': 37167, 'seen': 56868, 'lately': 27879, 'listen': 69046, 'you': 69085, 'little': 68582, 'puke': 58894, 'one': 68836, 'of': 68959, 'these': 66113, 'days': 63408, \"i'm\": 68942, 'gonna': 68595, 'catch': 66036, 'and': 69091, 'carve': 23820, 'my': 69062, 'your': 69019, 'back': 67501, 'with': 68600, 'an': 67458, 'ice': 57257, 'pick': 63281, \"what's\": 66959, 'matter': 66961, 'homer': 68940, \"you're\": 69088, 'not': 68943, 'normal': 58628, 'effervescent': 5688, 'self': 65778, 'homer_simpson:': 68924, 'i': 69049, 'got': 68957, 'problems': 66755, 'moe': 69065, 'give': 65311, 'me': 69026, 'another': 68617, 'should': 68342, 'forget': 62529, 'barney_gumble:': 69080, 'only': 68492, 'enhance': 150, 'social': 23361, 'skills': 153, 'ah': 68891, \"isn't\": 67472, 'that': 69006, 'nice': 66293, 'now': 69038, 'a': 69094, 'politician': 170, 'who': 68433, 'cares': 60264, 'if': 68369, 'ever': 68443, 'vote': 43206, \"it'll\": 68370, 'be': 68855, 'for': 69025, 'him': 64856, 'belch': 25140, \"how's\": 50596, \"neighbor's\": 198, 'store': 65288, 'doing': 68115, 'lousy': 66995, 'he': 67565, 'just': 69024, 'sits': 67556, 'all': 69076, 'day': 68024, \"he'd\": 68051, 'have': 67652, 'great': 64102, 'job': 66131, \"didn't\": 64395, 'own': 67836, 'place': 68758, 'chuckles': 64358, 'struggling': 55788, 'corkscrew': 68602, 'crummy': 66404, 'right-handed': 236, 'corkscrews': 237, '||exclamation_mark||': 69090, 'what': 69083, 'does': 68917, 'sell': 55587, 'uh': 66825, 'well': 69081, 'actually': 64581, 'homer_': 256, \"cont'd:\": 258, 'dunno': 53756, 'looks': 64572, 'like': 69005, 'this': 68918, 'end': 59254, \"that's\": 68751, 'right': 69089, \"couldn't\": 53238, 'led': 282, 'richer': 284, 'life': 65670, 'so': 68736, 'next': 68966, 'time': 69074, 'somebody': 65918, 'tells': 25892, 'county': 296, 'folk': 33605, 'are': 69015, 'good': 68400, 'honest': 68272, 'people': 68012, 'can': 69001, 'spit': 42972, 'in': 68938, 'their': 66296, 'faces': 309, 'lisa_simpson:': 62333, 'will': 68409, 'mr': 62994, 'gumbel': 24550, 'but': 68647, \"you'll\": 66017, 'excuse': 59266, 'profiling': 329, 'dad': 65813, 'school': 48520, 'paper': 335, 'thought': 65644, 'it': 68853, 'would': 67688, 'neat': 53506, 'follow': 46284, 'around': 65962, 'see': 68991, 'makes': 54616, 'tick': 12960, 'oh': 68847, 'sweet': 59362, 'used': 64004, 'lot': 65000, 'bars': 67470, 'too': 68450, 'here': 68553, 'go': 67782, 'beer': 68619, 'chocolate': 62943, 'milk': 62942, \"depressin'\": 419, 'effects': 26132, 'alcohol': 57476, 'usually': 67119, \"don't\": 69069, 'kick': 41042, \"'til\": 37102, 'closing': 54663, \"he's\": 66033, 'nervous': 66322, 'proudly': 34336, 'speech': 47815, 'tomorrow': 52005, '||quotation_mark||': 67617, 'how': 68772, 'keep': 68630, 'cool': 62925, 'crisis': 457, 'sobs': 63867, 'am': 68434, 'do': 69084, 'had': 68263, 'once': 67306, 'was': 68787, 'pretty': 66007, 'trick': 27059, 'pictured': 502, 'everyone': 62021, 'underwear': 506, 'judge': 50267, 'jury': 512, 'lawyer': 515, 'everybody': 68560, 'did': 65293, 'work': 68652, 'free': 63542, 'man': 69004, \"ain't\": 68040, 'whoa': 62726, 'huh': 66507, 'pretzel': 544, 'wow': 67699, 'pulled': 19033, 'patrons:': 558, 'mumbling': 64744, 'unison': 46806, 'happy': 68884, 'thoughts': 20676, 'we': 68984, 'love': 68697, 'boy': 66289, 'loud': 67422, 'stupid': 66341, 'moron': 58927, 'ugly': 68931, 'face': 61761, 'big': 68902, 'butt': 60838, 'smells': 60689, 'kiss': 47956, 'new': 59772, 'laughing': 65342, 'wait': 68571, 'minute': 68816, 'hurry': 62906, \"i've\": 68895, 'five': 67905, 'minutes': 68473, 'till': 66559, 'music': 62357, 'closes': 57792, 'why': 67967, 'first': 63161, 'tell': 68426, 'sorry': 68849, 'know': 69086, 'tip': 61035, 'glass': 60634, \"won't\": 68672, 'much': 68138, 'foam': 717, 'top': 59785, 'looking': 66836, 'at': 69022, 'watch': 59426, 'finished': 51657, 'fifteen': 68472, 'seconds': 29295, 'spare': 741, 'little_man:': 942, 'concerned': 51797, 'buddy': 60608, 'door': 55731, 'closed': 62340, 'early': 55157, 'stiffening': 766, 'happen': 67576, 'trenchant': 782, 'mouth': 67859, 'please': 68688, \"you've\": 68262, 'open': 59505, 'let': 68818, 'think': 68869, 'about': 68181, 'no': 68498, 'okay': 68465, 'want': 68324, 'picture': 66996, 'girl': 61250, 'disappointing': 831, 'goes': 59616, 'through': 65297, 'his': 67835, 'wallet': 66062, 'come': 68833, 'jer': 855, 'up': 68878, 'pal': 67027, 'remember': 61164, 'when': 68955, 'wife': 68420, 'out': 68958, 'burning': 40423, 'car': 64729, 'grudgingly': 881, \"we're\": 67530, 'even': 68067, 'daughter': 61445, 'need': 68395, 'smoothly': 2169, 'wrote': 52803, 'down': 68632, 'number': 64814, 'four': 67892, 'half': 50367, '||dash||': 68524, 'gum': 42349, 'reed': 936, 'whoo': 938, 'hoo': 63256, 'uh-huh': 56724, 'instrument': 947, 'she': 69060, 'play': 65563, 'sunk': 955, 'patrons': 966, 'figure': 968, 'hiya': 38087, 'sighs': 67674, 'business': 61895, 'slow': 63698, 'today': 66716, 'healthier': 1000, 'drinking': 64600, 'less': 62275, \"wasn't\": 60437, 'junior': 57340, 'high': 56855, 'use': 58938, 'cigarette': 37121, 'machine': 39550, 'full': 67860, 'things': 65592, 'tough': 68393, 'over': 68132, 'increased': 1043, 'satisfaction': 22728, 'family': 66728, 'togetherness': 1048, 'poison': 1050, 'purveyor': 1053, 'mind-numbing': 1055, 'intoxicants': 1056, 'myself': 69098, 'could': 66091, 'get': 69040, 'sure': 68282, 'forgot': 64818, 'behind': 66917, 'payments': 10949, 'distributor': 29539, 'cut': 57742, 'off': 68477, 'spent': 17185, 'ten': 68259, 'grand': 60174, 'tester': 63804, 'late': 62718, 'barney': 69072, 'sucked': 58768, 'dry': 35544, 'gums': 47127, 'bad': 68857, 'take': 67337, 'easy': 58214, 'learned': 63128, 'make': 68371, 'other': 68993, 'drinks': 65960, \"bartender's\": 50125, 'unfamiliar': 1164, 'gin': 60743, 'tonic': 1171, 'they': 68039, 'mix': 1175, 'brightening': 21035, 'really': 66383, 'hits': 57805, 'spot': 54927, 'invented': 61463, 'harv': 1962, 'sounds': 49922, 'hell': 67818, 'call': 68507, 'flaming': 2095, 'us': 66918, 'couple': 67135, 'homers': 31325, 'any': 63650, 'cough': 40264, 'syrup': 1985, 'lost': 64613, 'found': 60918, 'bowie': 1283, 'knife': 32335, 'troll': 63045, 'doll': 3330, 'eye': 49624, \"it's\": 68864, 'without': 57656, 'its': 56423, 'charm': 14457, 'try': 66912, 'lighting': 50372, 'fire': 57877, 'smiling': 40017, \"there's\": 67539, 'party': 63612, \"everyone's\": 49798, 'invited': 65494, 'larry:': 68056, \"tester's\": 14751, 'busted': 33373, 'nickel': 1351, 'coughs': 1355, 'house': 47129, 'delicious': 30430, 'phlegm': 1382, 'feels': 61217, 'looser': 1384, 'called': 67653, \"lookin'\": 52899, 'sneeze': 1470, 'guard': 1471, 'works': 65369, 'harv:': 1885, 'chuckling': 1484, \"haven't\": 66453, 'crowded': 1500, 'since': 65820, 'government': 67496, 'cracked': 1504, 'accepting': 1509, 'food': 60209, 'stamps': 1511, 'something': 66385, 'say': 67689, 'probably': 60387, 'combination': 1534, 'patron_#1:': 1539, 'pitcher': 69096, 'those': 67553, 'amazing': 53211, 'patron_#2:': 1555, 'hate': 62207, 'joint': 64887, 'collette:': 1734, 'barkeep': 2815, 'help': 66692, 'noticing': 28895, 'sign': 62435, 'says': 63309, 'bartenders': 61515, 'barf': 40735, 'above': 68093, 'store-bought': 1602, 'drollery': 1603, 'fill': 67107, 'application': 1616, 'reading': 60593, 'measurements': 1642, 'turn': 65084, 'ons': 1629, 'expect': 64369, 'find': 69002, 'way': 66418, 'more': 68441, 'accurate': 53296, 'fun': 65336, 'disgusted': 60498, 'offer': 65359, 'salary': 1677, 'minimum': 16169, 'wage': 1682, 'tips': 43358, 'meaningfully': 1687, 'course': 60495, 'fringe': 1693, 'benefits': 11000, 'such': 65790, 'as': 67685, 'unforgettable': 1704, 'weekend': 1705, 'club': 63682, 'prefer': 25957, 'vacations': 1717, 'someplace': 1718, 'hot': 60257, 'moxie': 1726, 'kid': 65874, 'hired': 42277, \"shan't\": 1744, 'regret': 38407, 'methinks': 1742, 'pardon': 35249, 'genius': 18047, 'yes': 69030, 'cutting': 56616, 'bannister': 1792, 'tipsy': 65537, \"mcstagger's\": 1799, 'eating': 63135, 'emporium': 1805, 'mcstagger': 1830, 'composite': 1835, 'successful': 53992, 'logos': 1839, 'from': 68197, 'mozzarella': 1855, 'stick': 45038, 'quickly': 63455, 'fine': 63888, 'anyway': 57323, 'proposition': 1875, \"talkin'\": 63089, 'feel': 67151, 'perfect': 64916, 'our': 66908, 'restaurant': 45925, 'chain': 1898, 'buy': 67331, 'recipe': 1905, 'dice': 1910, 'sale': 41921, 'blood': 66887, 'sweat': 1931, 'idiot': 39428, 'away': 69018, 'million': 64517, 'dollar': 57268, 'idea': 60886, 'secret': 65528, 'ingredient': 48084, 'dies': 1971, 'delivery_man:': 1976, 'thirty': 35012, 'cases': 1982, 'covering': 43132, 'hooked': 1999, 'stuff': 68305, 'service': 68961, 'quietly': 61255, 'hi': 66671, \"where's\": 68977, 'waitress': 2018, 'yours': 14043, 'left': 65451, 'pursue': 2029, 'movie': 51973, 'career': 17286, 'frankly': 51323, 'better': 68008, 'hundreds': 2051, 'thousands': 2053, 'dollars': 52472, 'maybe': 68307, 'some': 69041, 'kept': 64135, 'guess': 67993, 'compliments': 46534, 'warmly': 52593, 'ahh': 68398, 'thanks': 69034, 'greatest': 39275, 'friend': 64267, 'guy': 64487, 'aerosmith': 53221, 'tonight': 67155, 'doubt': 57787, 'shocked': 46803, 'cuz': 2147, 'bottle': 66762, 'refund': 24178, 'wanna': 68563, 'duff': 63621, \"i'd\": 68108, 'henry': 39413, 'k': 65743, \"duff's\": 2181, 'private': 64436, 'reserve': 18625, 'information': 2189, 'made': 68798, 'twenty-five': 40382, 'playing': 55549, 'market': 24592, 'low': 66085, 'motto': 2210, 'may': 59250, 'quit': 61202, 'power': 57194, 'plant': 67604, 'become': 67721, 'full-time': 2225, 'stock': 35017, 'boys': 66251, 'hans:': 2413, 'german': 40114, 'accent': 62771, 'friendly': 43756, 'thank': 64595, 'english': 64914, 'swill': 55680, 'saying': 68247, 'swine': 2283, 'fritz:': 2407, 'guys': 68839, \"aren't\": 68013, 'ech': 17225, 'nein': 52288, 'germany': 2325, 'east': 2331, 'west': 2337, 'company': 39095, 'very': 61698, 'interested': 39697, 'buying': 43762, 'owner': 37237, 'confident': 34841, 'than': 68442, '100': 2888, 'hundred': 60173, 'worry': 69070, \"we'll\": 59535, 'still': 68381, 'enough': 68988, 'cleveland': 2427, 'browns': 2428, 'speaking': 66784, 'mrs': 65741, \"o'problem\": 2503, 'bee': 58965, 'calling': 68542, \"c'mon\": 65122, 'realizing': 58885, 'awwww': 10114, 'head': 66937, 'bucket': 11521, 'paint': 41974, 'brains': 54499, 'voice': 64220, 'bart': 55070, 'simpson': 59180, 'years': 68968, 'pop': 61514, 'hear': 68741, 'monkeyshines': 2617, 'conspiratorial': 51155, 'bet': 57328, 'kinds': 2629, 'trouble': 68872, \"can't\": 66415, 'resist': 2652, 'crank': 27878, 'calls': 66822, 'musses': 2668, \"bart's\": 68870, 'hair': 65684, 'laughs': 64931, 'sing': 62628, 'old': 68401, 'song': 58967, 'embarrassed': 59240, 'anything': 64753, 'singing': 63834, 'every': 68479, 'teddy': 2759, 'bear': 27519, \"who's\": 65209, 'been': 68255, 'treat': 46139, 'today/': 2725, 'lots': 23648, 'marvelous': 2729, 'eat': 65073, 'wonderful': 65603, 'games': 40502, 'play/': 2738, 'beneath': 52981, 'trees': 2741, 'nobody': 66408, 'sees/': 2745, \"they'll\": 56686, 'hide': 61343, 'seek': 37673, 'long': 65937, 'please/': 2754, \"today's\": 55777, 'bears': 7055, 'picnic': 2763, 'pip': 2769, 'c': 62962, '_montgomery_burns:': 40023, 'mirthless': 2782, 'laugh': 62573, 'damned': 2786, 'nose': 59007, 'smithers': 65450, 'going': 67392, 'blend': 47622, 'cheap': 41300, 'domestic': 68490, 'greedy': 16509, 'reptile': 2840, 'saucy': 2851, 'fellow': 61487, 'waylon_smithers:': 65421, 'sir': 52192, 'sector': 2867, 'sieben-gruben': 2862, 'mean': 68141, '7g': 2868, 'recently': 28082, 'terminated': 2871, 'pointed': 49612, 'ask': 67810, 'money': 68182, 'cheer': 62005, 'feeling': 60291, 'blue': 42918, 'example': 2925, 'hug': 47266, 'home': 68725, 'night': 68069, 'shaken': 2977, \"doesn't\": 65399, 'sing-song': 2987, 'loves': 54595, 'yea': 3882, 'heavens': 3027, \"they're\": 68030, 'afraid': 68195, 'anymore': 68336, 'burns': 53742, 'letter': 47799, 'sent': 59196, 'recall': 13340, 'because': 66992, 'stamp': 3074, 'slays': 3086, 'accident': 60921, \"let's\": 69039, 'na': 3135, '/': 62632, 'barflies:': 67914, 'goodbye': 36576, 'inspire': 58035, 'terror': 3157, 'determined': 3164, 'peanut': 4706, 'bowl': 21162, 'freshened': 3186, 'hourly': 3187, 'twenty': 68157, 'denver': 21239, 'slyly': 28409, 'provide': 3211, 'um': 62469, 'chief': 64715, 'wiggum': 49193, 'hand': 67798, 'black': 47089, 'book': 63669, 'chief_wiggum:': 64732, 'thing': 68118, 'using': 50970, 'coaster': 65377, 'ones': 49805, 'pleasure': 21738, 'coyly': 3274, 'h': 3276, 's': 65577, 'tv': 67957, 'justify': 3291, 'football_announcer:': 4031, 'thirteen': 15318, 'england': 3308, 'seven': 67918, 'nothing': 56061, 'look': 69092, 'modest': 3323, 'studio': 9442, 'apartment': 3726, 'malibu': 3328, 'stacey': 3329, 'kitchen': 3335, 'prints': 3341, 'her': 68937, 'weekly': 60005, 'feminist': 3344, 'newsletter': 3345, 'daaaaad': 3351, 'listening': 52683, 'grumbling': 3362, 'usual': 3372, 'wad': 3380, 'bills': 3382, 'sarcastic': 38112, 'ya': 67088, 'lucky': 64621, 'thirty-five': 3407, 'sagely': 3413, 'smell': 57097, 'sweaty': 3423, 'feet': 68379, 'sniffs': 29006, 'deeply': 58057, 'victory': 29412, 'aw': 67519, 'shut': 68373, 'son-of-a': 3459, 'bowling': 56544, 'sunday': 23209, 'nuts': 63793, 'super': 67488, 'after': 67384, \"ma's\": 3500, 'coming': 66504, 'norway': 3504, 'belches': 53823, 'brunch': 3528, 'spectacular': 3529, 'baloney': 3535, 'bread': 56737, 'gotcha': 3545, 'forty': 11618, 'bucks': 66249, 'luck': 55467, 'eminence': 3555, 'outta': 67140, 'bookie': 3578, 'taking': 58442, 'bets': 49565, \"'bout\": 50434, \"bettin'\": 3626, 'gimme': 43851, 'gift': 30905, 'football': 3651, 'ruined': 63812, 'bret:': 3776, 'two': 67884, 'hours': 59207, 'forty-five': 3666, 'pre-game': 3670, 'show': 64352, \"we've\": 68130, 'ourselves': 67320, 'special': 55351, 'guest': 52354, 'actor': 3680, 'troy': 10645, 'mcclure': 3682, 'whose': 47340, 'sitcom': 3686, 'premiering': 3688, 'coincidentally': 3691, 'game': 65554, 'troy_mcclure:': 3751, 'bret': 3762, \"show's\": 3707, 'handle': 3718, 'care': 65400, 'jack': 44670, 'retired': 3729, 'cop': 57553, 'shares': 35014, 'criminal': 3730, 'original': 20324, 'odd': 47548, 'situation': 67175, 'comedy': 16935, 'fell': 3755, 'script': 3760, 'recent': 3766, 'irs': 3770, 'sealed': 3771, 'deal': 61675, \"drexel's\": 3780, 'class': 67997, 'ooh': 63618, 'almost': 57818, 'ready': 52021, 'kickoff': 3792, 'dallas': 4046, 'kicks': 3797, 'short': 49837, \"buffalo's\": 3821, 'start': 68376, 'excellent': 48836, 'field': 61904, 'position': 3817, 'win': 60021, 'lisa': 61300, 'hates': 42370, 'whatcha': 40476, 'riding': 4664, 'whistles': 18807, 'gambler': 3853, 'score': 3860, 'buffalo': 9811, 'fourteen:': 3866, 'duff_announcer:': 3886, 'touchdown': 4032, 'half-back': 3891, 'dan': 56551, 'beer-dorf': 3893, 'won': 60164, 'wanted': 65309, 'wins': 4048, 'aggravated': 49720, 'both': 66656, 'teams': 26845, 'cowboys': 4047, 'three': 68264, 'ticks': 3981, 'clock': 62694, 'comes': 65827, 'scores': 3998, \"fans'll\": 4002, 'looting': 4004, 'turning': 59382, 'cars': 42087, 'lone': 4011, 'star': 55825, 'state': 58718, \"here's\": 66450, 'handoff': 4018, 'fork': 14117, 'done': 67378, 'twenty-nine': 4051, 'eight': 68754, 'keeping': 60396, 'problem': 66552, 'maggie': 59205, 'scratching': 4137, \"maggie's\": 32126, 'chin': 4139, 'uncle': 45583, 'handing': 12946, 'careful': 38357, 'someone': 64686, 'stinky': 4177, 'sniffing': 4180, 'shirt': 61755, \"england's\": 4196, 'prime': 30823, 'minister': 13868, 'lord': 68318, 'palmerston': 4266, 'wade_boggs:': 4221, 'pit': 9600, 'elder': 4256, 'jumps': 34801, 'stool': 67873, 'poking': 35723, 'asked': 62797, 'boggs': 4239, 'scornfully': 4244, \"showin'\": 51859, 'amazed': 53546, 'pfft': 52105, 'lottery': 60167, 'exploiter': 4296, 'poor': 62775, 'ignorant': 4301, 'heard': 64238, \"jackpot's\": 4311, 'spitting': 4324, 'sadistic_barfly:': 55073, 'boozehound': 4338, 'cents': 34847, \"singin'\": 4351, 'gals': 4378, 'young_barfly:': 4383, 'rummy': 64669, 'offended': 47075, 'before': 68645, 'dog': 66342, 'sick': 45285, 'best': 64122, 'customer': 68486, 'dance': 39424, 'by': 68804, 'light': 59490, 'moonnnnnnnn': 4424, 'quarter': 4437, 'moan': 63809, 'went': 60469, 'bar': 68825, 'wha': 38472, 'fudd': 4498, 'took': 64551, 'hillbillies': 4511, 'blind': 4513, 'miles': 23318, 'town': 67400, 'sadly': 68607, \"smokin'_joe_frazier:\": 4681, 'pickled': 67136, 'eggs': 67137, \"comin'\": 61816, 'cleaned': 64582, \"smokin'\": 4554, 'joe': 58157, 'cummerbund': 4562, 'tight': 4564, 'miss': 40998, 'couch': 52025, 'heavyweight': 47067, 'championship': 20646, 'kind': 63073, 'walking': 62935, 'along': 64128, 'piece': 63840, 'furniture': 4640, 'frazier': 4653, 'step': 35589, 'outside': 53766, 'finishing': 9041, 'walk': 58158, 'washer': 4712, 'dryer': 4724, 'religious': 4746, 'holiday': 38906, 'feast': 62762, 'maximum': 4764, 'occupancy': 4765, 'slick': 4770, 'join': 63125, 'religion': 58430, 'kneeling': 4793, 'born': 68020, 'snake-handler': 4813, 'die': 68411, 'felt': 48181, 'unattractive': 4825, 'mmmm': 23183, 'second': 51438, 'sigh': 65440, 'tv_father:': 4922, 'each': 68992, 'toss': 61883, 'whee': 4882, 'wheeeee': 4886, 'camera': 60802, 'father': 53720, 'thinks': 69009, 'cutest': 4906, 'jack_larson:': 5003, 'prove': 14450, 'president': 67444, 'laramie': 4938, 'cigarettes': 35245, 'larson': 4931, 'year': 66193, 'sponsoring': 4940, 'springfield': 67620, 'pageant': 5069, 'regulations': 4951, 'prohibit': 4979, 'advertising': 4955, 'takes': 46545, 'smokes': 4966, 'carolina': 4973, 'smoke': 35260, 'holding': 65678, 'beauty': 63584, 'girls': 56967, 'age': 63863, 'nine': 67926, \"lisa's\": 44844, 'crowned': 5008, 'host': 5014, 'maitre': 5017, \"d'\": 5018, 'glee': 5020, 'krusty': 16903, 'clown': 21604, 'krusty_the_clown:': 54407, 'heartily': 5029, 'endorse': 30221, 'event': 5032, 'or': 68790, 'product': 59675, 'tv_daughter:': 5037, 'smoker': 5047, 'puff': 8590, 'morning': 67431, 'announcer:': 66719, '250': 5087, 'enter': 5075, 'blimp': 5091, 'ticket': 63333, 'gasps': 64558, \"where'd\": 28068, 'scientists': 5114, 'stopped': 47676, 'testing': 26057, 'animals': 50246, 'clean': 60866, '_powers:': 5177, 'lying': 62114, \"bo's\": 5171, 'cavern': 5172, 'welcome': 61486, 'mobile': 5190, 'knew': 63220, 'ruin': 33330, 'sec': 68539, 'amanda': 7675, 'huggenkiss': 7676, 'standards': 47341, 'o': 57646, 'b': 50641, 'shove': 20437, 'sausage': 16079, 'throat': 53701, 'starving': 5270, 'dogs': 5271, 'ah-ha': 52292, 'mistake': 42615, 'slip': 51227, 'sooner': 63222, 'later': 61115, 'rusty': 5303, 'dull': 5305, 'steal': 23288, 'while': 67309, 'gone': 64561, 'shaking': 36038, 'pathetic': 55727, 'drunk': 65675, 'gasp': 60215, 'spilled': 5341, 'ashtray': 5345, 'slurps': 5348, 'then': 68954, 'uh-oh': 62663, 'heart': 69063, 'beat': 69011, 'ivana': 5410, 'tinkle': 9561, 'put': 66914, 'glasses': 58249, 'captain:': 5414, 'har': 5419, 'plow': 58456, 'freed': 5453, 'iranian': 5454, 'hostages': 5455, 'teenage_barney:': 5719, \"sat's\": 5464, \"shouldn't\": 67651, 'real': 65046, 'hero': 53515, 'wish': 68050, 'wishing': 5501, 'pull': 68596, 'diaper': 5513, 'damn': 63846, 'world': 60294, \"he'll\": 58313, 'linda': 47851, 'ronstadt': 5566, \"how'd\": 50079, 'project': 24440, 'together': 68266, 'linda_ronstadt:': 5591, 'snow': 58455, 'starts': 57950, \"fallin'\": 11104, \"callin'\": 45704, 'kl5-4796': 5615, 'ring': 43917, '||semicolon||': 66650, '/mr': 5621, 'loser': 67568, 'boozer': 5634, 'king': 62756, 'intelligent': 5672, 'lachrymose': 5674, 'dyspeptic': 5677, 'ebullient': 5679, 'checks': 66073, 'answer': 63149, 'harvard': 5697, 'silent': 5744, 'prayer': 64642, 'six': 67909, 'admirer': 5795, 'gives': 55038, 'wave': 19411, 'yoo': 6464, 'god': 66376, 'snide': 5822, 'enjoy': 66295, 'fellas': 63117, 'cheery': 63604, \"homer's\": 62808, 'desperate': 59392, 'moesy': 5887, 'yesterday': 55358, 'worthless': 5899, 'sack': 47997, 'pipe': 47299, 'rub-a-dub': 5910, 'ow': 40222, 'fridge': 65096, 'date': 68899, 'pointing': 27903, 'close': 67468, 'never': 68989, 'leave': 67198, 'anthony_kiedis:': 5979, 'told': 68642, 'agent': 61622, 'holds': 65638, 'thirty-thousand': 5987, 'thousand': 60178, 'audience': 6010, \"gettin'\": 49354, 'restless': 6013, 'chilly': 6024, 'willy': 6025, 'red': 63605, 'chili': 6033, 'peppers': 6034, 'appear': 29826, 'klown': 6046, 'flea:': 6050, 'aside': 14599, 'gig': 6063, 'problemo': 6068, 'points': 63456, \"nothin'\": 58756, 'stop': 65626, 'soon': 57671, 'cost': 63853, 'excited': 60214, \"wallet's\": 6143, 'wall': 56223, 'stares': 6167, 'miss_lois_pennycandy:': 6170, 'ruby-studded': 6173, 'ordered': 51036, 'johnny_carson:': 6187, 'hope': 68999, 'remembered': 24332, 'save': 58624, 'dressed': 63482, 'dr': 66724, '_julius_hibbert:': 21800, 'times': 57903, 'snap': 28815, 'undies': 6254, 'again': 68994, 'kids': 67640, 'alright': 68415, 'getting': 66160, '50%': 6286, 't-shirt': 53862, 'sales': 6290, 'mad': 65145, 'sweetest': 6302, 'plum': 6985, 'deserve': 66116, 'entertainer': 6336, 'except': 67301, 'grampa_simpson:': 52335, 'bus': 39032, 'civic': 54825, 'center': 67723, 'seymour_skinner:': 54252, 'apu_nahasapeemapetilon:': 64714, 'all:': 48388, 'ma': 62507, 'baby': 62197, 'honey': 66547, 'ragtime': 6418, 'gal': 21748, 'send': 32827, 'wire': 54393, 'etc': 39481, 'afternoon': 63299, 'principal': 68850, 'skinner': 68978, 'apu': 34521, 'crowds': 6458, 'wild': 6460, 'sings': 62753, 'farewell': 6482, 'shop': 6491, 'kwik-e-mart': 64701, 'coney': 6512, 'isle': 6508, 'island': 46164, 'babe': 68461, 'nigel_bakerbutcher:': 6855, 'theatrical': 6522, 'represent': 58182, 'group': 59752, 'distaste': 6551, 'police': 49324, 'officer': 6557, 'noise': 65424, 'village': 38315, 'replace': 6570, 'sly': 25812, 'hands': 68590, 'seymour': 68564, 'nahasapeemapetilon': 6597, 'fit': 6602, 'marquee': 6605, 'luv': 6607, 'du': 6617, 'beaumarchais': 6618, 'dishonor': 6626, 'ancestors': 6629, 'applicant': 6643, 'tenor:': 6681, 'killarney': 6659, 'many': 59638, 'ago': 59208, 'mither': 6686, 'sang': 6687, 'tones': 6694, 'soft': 6696, 'crowd:': 57461, 'chanting': 63097, 'forever': 65394, 'swe-ee-ee-ee-eet': 6733, 'adeleine': 6758, 'my-y-y-y-y-y': 6749, 'paid': 20391, 'scream': 53605, 'pay': 66136, 'hanh': 6815, 'ad': 52758, 'lib': 37895, 'sounded': 6832, 'question': 53578, 'remains': 8890, 'gentlemen': 66471, 'handsome': 49756, 'plus': 62174, 'witty': 55104, 'seems': 50552, 'funny': 64907, 'sharps': 6926, 'chuckle': 66226, 'blame': 66390, 'trying': 52483, 'under': 44587, 'arrest': 35057, \"what'll\": 35220, 'kako:': 6980, 'single': 52776, 'floating': 6986, 'perfume': 6988, 'served': 42978, \"man's\": 6993, 'hat': 6994, 'knock': 68079, 'cops': 17927, \"'em\": 61884, 'andalay': 7062, 'sometimes': 68648, 'gotta': 68896, 'knows': 64810, 'darts': 37841, 'phasing': 7105, \"havin'\": 34050, 'advice': 46286, 'named': 61114, 'pause': 7891, 'joey': 53374, 'schabadoo': 7158, 'worst': 49302, 'attracted': 7195, 'woman': 63859, 'reciting': 7210, 'infatuation': 7214, 'based': 21335, 'physical': 7219, 'attraction': 7220, 'talk': 66416, 'realize': 46469, 'common': 7234, 'insightful': 24576, 'napkins': 7263, 'vigilante': 7275, 'handshake': 7276, 'code': 37054, 'names': 61609, 'cueball': 7311, 'eightball': 7294, 'twelveball': 7301, '_babcock:': 7518, 'clinton': 21261, 'figured': 64118, 'anyone': 67233, 'tang': 51077, \"it'd\": 9013, 'person': 64243, 'nasa': 10767, 'swear': 57819, 'stillwater:': 7500, 'higher': 57193, 'astronaut': 58462, 'aboard': 7425, 'respect': 36592, 'friends': 66673, 'nooo': 7452, 'fbi': 13206, 'file': 7479, 'fiiiiile': 7484, 'shrugging': 20557, 'them': 66429, 'necessary': 7507, 'astronauts': 7513, 'introduce': 7534, 'ned': 53079, 'flanders': 53326, 'evils': 7559, 'rap': 18077, 'ned_flanders:': 54786, 'hospital': 49169, 'reads': 46832, 'children': 68265, 'unfair': 7590, 'advantage': 8272, 'generous': 39060, 'marge_simpson:': 68446, 'hit': 57858, 'pin': 64813, 'rest': 57606, 'wobble': 7622, 'lemme': 57126, 'al': 67053, 'caholic': 7639, 'jacques': 66856, 'strap': 66857, 'pee': 7650, 'freely': 7651, 'butts': 68565, 'sexual': 68843, 'crotch': 7672, 'huge': 62245, 'ass': 64943, 'ivanna': 7684, 'fondest': 7730, 'desire': 7731, 'hm': 54695, 'invisible': 7751, 'cola': 58697, 'forbidden': 50562, 'donut': 7758, 'sacrilicious': 7762, 'indecipherable': 7767, 'goo': 7773, 'moments': 54661, 'romantic': 67361, 'story': 67562, 'ideal': 7822, 'thoughtless': 7838, 'birthday': 50058, 'present': 30868, 'shall': 43970, 'remain': 7845, 'nameless': 7846, 'alley': 61047, 'spite': 7859, 'clips': 7869, 'awfully': 7881, 'jacques:': 8151, 'entirely': 28972, 'fault': 52817, 'ball': 18931, 'flustered': 7916, \"ball's\": 7930, 'marge': 68508, 'fingers': 60926, 'slender': 7942, 'feminine': 7945, 'far': 64072, 'tapered': 7951, 'lighter': 7962, 'delicate': 7965, 'brunswick': 8004, 'hmmm': 42992, 'bold': 12968, 'bowled': 8042, 'teach': 64878, 'professional': 56887, 'roll': 18265, 'form': 49838, 'throw': 60192, 'teacher': 65735, 'lenny_leonard:': 64146, 'shifty': 8173, 'eyed': 8174, 'change': 59330, 'lenny': 65838, 'snake': 58206, 'cash': 62138, 'register': 62139, 'prank': 40774, 'flower': 52143, 'genuinely': 8245, 'enthused': 8246, 'patting': 8257, 'flames': 8259, \"burnin'\": 8262, 'soaked': 8276, 'clothes': 47571, 'serious': 62088, 'coffee': 58127, 'pass': 64033, 'sugar': 8338, 'himself': 64360, 'geez': 63372, 'were': 59848, \"messin'\": 8360, 'banned': 8378, 'pleading': 39174, 'gave': 66987, 'sugar-me-do': 8428, 'caricature': 8433, 'mt': 8436, 'lushmore': 8438, 'pulling': 27683, 'favorite': 38149, 'juke': 8451, 'box': 62356, 'raining': 8461, 'men': 51512, 'oww': 8477, 'label': 59840, 'suddenly': 61293, 'intrigued': 68914, 'ohh': 18537, 'jokes': 8495, 'alive': 58999, 'man:': 50639, 'polite': 45780, 'greetings': 13289, 'might': 67191, 'innocent': 46235, 'incognito': 8550, 'gr-aargh': 8557, 'exact': 8567, 'double': 66709, 'equal': 8573, 'astonishment': 8574, 'puffy': 8580, 'tail': 57893, 'giggles': 64404, 'liver': 38539, 'puzzled': 64654, 'hurts': 63053, 'loan': 10948, 'however': 8654, 'leans': 67381, 'confidentially': 8659, 'collateral': 8665, 'break': 57397, 'legs': 65185, 'advance': 54257, 'gosh': 60156, 'bash': 38490, 'shark': 8714, 'understand': 50921, 'finance': 8720, 'pulls': 66076, 'sledge-hammer': 8729, 'line': 61036, 'othello': 8746, 'drinker': 8750, 'sensible': 8755, 'fool': 38707, 'presently': 8765, 'beast': 8767, 'covers': 26149, 'woman:': 39362, 'brilliant': 63573, 'savagely': 8781, 'tender': 8784, 'soul': 66379, 'poet': 40731, 'crawl': 67313, 'alcoholic': 29820, 'scout': 8848, 'meeting': 55112, 'admit': 66571, 'kent_brockman:': 61120, 'following': 50837, 'celebrities': 16329, 'arrested:': 8880, 'heather': 8887, 'locklear': 8888, 'fortensky': 8889, 'large': 62490, 'consider': 58351, 'dangerous': 50635, 'hugh:': 9039, 'rather': 56508, 'pub': 61542, 'pouring': 47274, 'saved': 59084, 'war': 52326, 'true': 62237, 'hugh': 8963, 'cuff': 8978, 'links': 8979, 'wear': 46551, 'married': 59895, 'brought': 66487, 'imagine': 24741, 'happier': 51847, 'marriage': 43906, 'traditions': 9007, 'moved': 53030, 'honored': 34517, 'enthusiasm': 9044, 'virtual': 9074, 'pool': 60319, 'other_player:': 9078, \"fightin'\": 9088, 'loaded': 58223, 'fumes': 32131, 'charge': 61611, 'dizzy': 9130, 'nauseous': 9132, 'inflated': 9219, 'sense': 41769, 'self-esteem': 9222, 'male_inspector:': 9170, 'female_inspector:': 9158, 'detecting': 26287, 'different': 68147, 'toxins': 9164, 'air': 61464, 'pumping': 9182, 'oil': 50645, 'steely-eyed': 9198, 'rage': 64426, 'ahhhh': 9214, 'rascals': 9239, 'which': 64342, 'smelly': 9274, 'shtick': 9277, 'exhaust': 9337, 'faceful': 9287, 'soot': 9289, 'heh': 62400, 'kinda': 65081, 'hard': 65786, 'reasons': 51102, 'writers': 40857, 'william': 9332, 'faulkner': 9333, 'write': 59296, 'gag': 40778, 'shot': 64720, 'making': 68883, 'movies': 59422, 'aggie': 9380, 'stole': 27340, 'bit': 66164, 'director:': 9414, 'stagehand:': 9418, 'killed': 60645, 'alfalfa': 9435, 'luckily': 9433, 'orphan': 9438, 'owned': 9439, 'murmur': 22557, 'understanding': 50933, 'assent': 9449, 'wealthy': 9465, 'hollywood': 63354, 'local': 58141, 'merchants': 9473, 'forgiven': 9476, 'raising': 24197, 'prices': 9480, 'flailing': 9489, 'agh': 9491, 'natural': 50371, 'stools': 30402, 'table': 43341, 'little_hibbert_girl:': 9554, 'daddy': 45456, 'mmm-hmm': 9567, 'texas': 38629, 'cheesecake': 9577, 'depository': 9578, \"goin'\": 67153, 'restaurants': 9652, 'wants': 54089, 'hang': 58908, 'dank': 51207, 'carl_carlson:': 64060, 'thinking': 68252, 'rid': 39620, \"wouldn't\": 53891, 'ashamed': 30721, 'bring': 60674, 'all-american': 9711, 'cooking': 9712, 'chairman': 9718, 'magic': 61654, 'wok': 9721, 'barney-shaped_form:': 9782, 'nah': 67364, 'relaxing': 9744, 'madman': 9753, 'pressure': 61027, 'cooker': 9756, 'snaps': 60925, 'inspired': 53306, 'feedbag': 9779, 'deep': 58983, \"fryer's\": 9794, 'navy': 9805, 'flash-fry': 9809, 'whining': 9822, \"g'on\": 9832, 'extinguishers': 9859, 'memories': 12136, 'bright': 50558, 'side': 68214, 'cheering': 9890, 'broke': 69061, 'customers': 61837, 'blew': 68229, \"aren'tcha\": 9971, '50-60': 9979, 'mistakes': 10000, 'beginning': 54052, 'pad': 43097, 'gee': 67358, 'stinks': 27303, 'carl': 65833, 'ahhh': 49161, \"they've\": 63827, 'rolling': 24454, 'eyes': 68424, 'mistresses': 10064, 'sotto': 53197, 'dump': 59431, 'mayor_joe_quimby:': 55935, 'quimby_#2:': 10095, 'quimbys:': 10110, 'disappointed': 67275, 'wondering': 50263, 'ringing': 61268, 'bell': 10165, 'ye': 10171, 'jebediah': 10219, 'cutie': 47338, 'cute': 65260, 'bums': 40287, 'ahead': 48776, 'angel': 29105, 'evil': 45409, 'blood-thirsty': 10300, 'pirate': 10301, 'hated': 54198, '&': 23109, 'horrified': 30706, 'turns': 57982, \"y'know\": 58015, 'support': 10254, 'most': 65317, 'prejudice': 10257, 'hero-phobia': 10264, 'sickens': 10265, 'exit': 21639, 'breath': 57421, 'jubilation': 10309, 'committee': 10310, 'jubilant': 28472, 'waylon': 10367, 'vicious': 10374, 'pants': 68154, 'crap': 65009, 'tongue': 67667, 'boat': 43055, 'window': 54026, 'midnight': 25576, 'delivery': 10604, 'distract': 10468, 'until': 67406, 'safely': 10472, 'truck': 25462, 'forward': 40650, 'working': 65982, 'yourself': 66391, 'choices:': 10522, 'barney-guarding': 10532, 'contemplated': 10541, 'darkest': 17391, 'whatever': 54082, 'truck_driver:': 10602, 'dracula': 10638, 'marry': 10660, 'selma': 68919, 'jovial': 10703, 'kidding': 68436, 'compliment': 61686, 'beers': 66297, 'sickly': 10733, 'burp': 68949, 'ura': 10744, 'snotball': 10745, 'barn': 65972, 'said': 66363, 'calculate': 51047, 'tab': 63306, 'dead': 57464, 'results': 30228, 'came': 62287, 'owe': 40258, '70': 10814, 'billion': 10848, 'voyager': 10838, 'space': 29943, 'craft': 10840, \"tab's\": 10846, '14': 10847, 'alls': 10855, 'considering': 44435, 'halfway': 10871, 'snake_jailbird:': 53591, 'freeze': 34962, 'dude': 67695, 'move': 48218, 'muscle': 10888, 'blow': 46379, \"wino's\": 10893, 'muffled': 10900, 'inches': 10905, 'bullet-proof': 10907, 'reasonable': 11074, 'stay': 67032, 'student': 10947, 'ha-ha': 53541, \"stinkin'\": 59162, 'wonder': 67750, 'aggravazes': 10989, 'immiggants': 10994, \"livin'\": 35267, 'bothered': 11010, 'learn': 66749, 'themselves': 37668, 'language': 11015, 'exactly': 59965, 'sentimonies': 11025, \"jimbo's_dad:\": 11040, \"tellin'\": 51838, 'raise': 34849, \"dolph's_dad:\": 11053, 'live': 65697, 'throws': 11066, 'punch': 46986, 'oof': 15543, 'belt': 11176, 'ugh': 11090, \"kearney's_dad:\": 11093, \"somethin's\": 11096, 'wrong': 60699, \"fun's\": 11109, 'two-drink': 11127, 'jeez': 64957, 'stand': 68803, 'punishment': 11146, 'three-man': 11154, \"poundin'\": 11155, 'fall': 67370, 'glum': 24306, \"kid's\": 11175, 'beatings': 11191, 'spirit': 11204, 'prizefighters': 11210, 'boxing': 66485, 'perking': 11240, 'boxers': 11261, 'steak': 16982, 'lobster': 11267, 'salad': 54142, 'meal': 12682, 'awe': 22814, 'dressing': 11284, 'choice': 68800, 'test': 42542, 'limits': 11318, 'opportunity': 59143, 'arise': 11339, 'clincher': 11350, 'sixty': 11362, 'percent': 44078, 'woo': 63255, 'manage': 12030, 'wantcha': 11398, 'complete': 55412, 'faith': 11402, \"c'mere\": 65515, \"somethin'\": 58509, 'realized': 16019, \"hadn't\": 43521, 'ladies': 68068, '1979': 11443, 'turned': 55376, 'office': 11450, 'boxer': 12098, 'yep': 63743, 'gorgeous': 11585, 'presentable': 11483, 'gruesome': 11489, 'finally': 65469, \"meanin'\": 23479, 'empty': 66067, 'lucius': 11912, 'biggest': 67628, 'rich': 68011, 'famous': 34073, 'don': 42627, 'manager': 50720, 'somehow': 51974, \"'cause\": 67200, 'knocked': 36854, 'row': 40520, 'politics': 11634, 'bitter': 44707, 'agreement': 21870, 'democrats': 11646, \"you'd\": 61420, 'causes': 11661, 'brain': 50094, 'damage': 11663, 'fighting': 11719, 'boxcar': 11674, 'bob': 32347, 'brawled': 11679, 'boxcars': 11685, 'yet': 63656, 'lives': 66909, 'train': 59770, 'yard': 61903, 'hungry': 49258, 'young': 57358, 'fighter': 11712, 'fact': 37992, 'sandwich': 64012, 'mitts': 11735, 'touched': 65492, 'barbed': 11770, 'stinger': 11784, 'drawn': 11823, 'match': 67821, 'punches': 29343, \"tramp's\": 11847, 'energy': 40418, 'hobo': 12274, 'stops': 11861, 'punching': 11862, \"'cept\": 11866, 'bindle': 11871, 'tired': 55000, \"now's\": 11885, 'chance': 69021, 'nudge': 11892, 'lucius:': 12161, 'delightful': 11901, 'awed': 14503, 'glitterati': 11918, \"doin'\": 61043, 'managing': 11940, 'champ': 47068, 'drederick': 47108, 'highest': 11945, 'priority': 11946, 'though': 66242, 'temporarily': 11952, 'incarcerated': 11953, 'pushing': 11955, 'mother': 68217, 'stairs': 11960, 'impending': 11965, 'release': 42785, 'strategizing': 11970, 'glorious': 11973, 'return': 49143, 'shores': 11977, 'fistiana': 11979, 'comeback': 11993, 'fight': 68745, \"donatin'\": 12014, 'body': 51704, 'word': 67718, 'stalwart': 12032, 'pugilist': 12034, 'cannot': 30850, 'incredulous': 41269, 'tatum': 47070, 'fans': 66158, 'weary': 31114, 'fights': 12064, 'sustain': 12085, 'verticality': 12086, 'rounds': 12163, 'freak': 35396, \"tatum'll\": 12107, 'fustigate': 12108, 'fustigation': 12115, 'choice:': 12123, 'either': 68788, 'sit': 56687, 'room': 68545, 'faded': 12135, 'dramatic': 55129, 'tar-paper': 12192, 'naively': 12197, 'champion': 12218, 'saturday': 63528, 'parking': 62537, 'impressed': 48652, 'general': 47218, 'evasive': 12279, 'trust': 68034, \"buyin'\": 63561, 'bill': 57269, 'charged': 12358, 'landfill': 12367, 'remembering': 42730, 'fondly': 36872, 'worth': 17675, 'burg': 12389, 'against': 57320, 'pussycat': 12397, 'doll-baby': 12405, 'kirk_van_houten:': 52698, 'lady': 63620, 'starla': 12438, 'starla:': 12441, 'keys': 64025, 'lover': 15960, 'changing': 66040, 'wigs': 12457, \"starla's\": 12465, 'temp': 12467, 'k-zug': 12469, \"'kay-zugg'\": 12471, 'radio': 36566, '530': 12474, \"she's\": 68254, 'launch': 12481, 'demo': 12496, 'tape': 35144, 'borrow': 12518, 'front': 60560, 'already': 65343, 'happened': 67512, 'granted': 21820, 'twelve': 23317, 'helped': 51479, 'housework': 12584, \"could've\": 44163, 'least': 66426, 'stayed': 58474, 'shape': 59920, 'taken': 45878, 'sex': 61626, 'self-centered': 12653, 'though:': 12672, 'thawing': 12688, 'gas': 57060, 'station': 12695, 'sink': 12696, 'broken:': 12748, 'strong': 52538, 'built': 56447, 'solid': 64142, 'foundation': 12756, 'routine': 27944, 'mate': 12791, 'chum': 37456, 'helpful': 12812, 'crony': 12816, 'acquaintance': 37460, 'sam:': 12825, 'sympathizer': 12828, 'bumblebee_man:': 12831, 'compadre': 12832, 'kearney_zzyzwicz:': 12835, 'associate': 12836, 'contemporary': 12842, 'well-wisher': 12848, 'specific': 12857, 'harm': 12858, 'friday': 12874, 'düff': 12900, 'doof': 12903, 'sweden': 12906, 'skoal': 12914, 'sips': 60805, 'nasty': 12930, 'ha': 68512, 'hmm': 65720, 'refreshing': 12970, 'quite': 54524, 'finger': 65640, 'm': 52401, 'spend': 65240, 'quality': 16878, 'breathalyzer': 13018, 'drive': 63209, 'fox_mulder:': 13193, 'recreate': 13048, 'saw': 64685, 'alien': 13057, 'evening': 67362, 'began': 45676, \"gentleman's\": 53815, 'discussing': 56525, 'wittgenstein': 13075, 'backgammon': 13080, 'dana_scully:': 13083, 'felony': 13090, 'lie': 48023, 'sitting': 65929, \"barney's\": 67289, 'packets': 13109, 'mustard': 13111, 'scully': 13197, \"fine-lookin'\": 13125, 'remorseful': 13148, 'penny': 38630, 'anyhow': 13190, 'agents': 13194, 'mulder': 13195, 'edgy': 13204, \"s'cuse\": 13212, 'dimly': 13220, 'generously': 13242, \"money's\": 64865, 'raking': 13279, 'fat_tony:': 51274, 'clears': 45671, 'fat': 68904, 'tony': 40260, 'mafia': 26836, 'nervously': 13317, 'asking': 58536, 'favor': 63428, 'crime': 54439, 'syndicate': 13361, 'hurt': 66467, 'mob': 40311, 'indignant': 31693, 'hanging': 67714, 'ambrose': 13462, 'burnside': 13463, 'crazy': 65969, 'stonewall': 13474, 'jackson': 13475, 'south': 55243, 'entire': 27805, 'steel': 13515, 'mill': 13498, 'gay': 47886, 'surprised': 53111, \"industry's\": 13516, 'aerospace': 13523, 'railroads': 13529, 'else': 61019, 'nods': 67478, 'knowingly': 13539, 'broadway': 63344, 'always': 65587, 'hoped': 13547, \"bart'd\": 13548, 'grow': 65405, 'mystery': 13567, 'whole': 69095, 'modern': 57702, \"swishifyin'\": 13574, 'effect': 13575, \"mtv's\": 13582, 'diet': 30842, 'sodas': 13715, 'set': 62692, 'straight': 68421, 'neither': 13966, 'fast': 61824, 'lessee': 13632, \"shootin'\": 13650, \"man'd\": 13652, 'fix': 45293, 'wars': 13666, 'warren': 13673, 'christopher': 50253, 'shoot': 47335, 'deer': 18731, 'shooting': 38283, 'beautiful': 65683, 'bags': 49941, 'grandkids': 13732, 'considers': 13739, 'hunting': 22541, 'whiny': 40243, 'st': 13756, \"patrick's\": 64738, \"o'clock\": 68755, \"we'd\": 65893, 'kicked': 35276, 'metal': 13818, 'busiest': 13834, \"drinkin'\": 63903, 'designated': 32886, 'drivers': 59704, 'cheapskates': 13857, 'ireland': 13870, 'menacing': 13888, 'yew': 13892, 'bathtub': 13901, 'mint': 13902, 'julep': 13903, 'writing': 53965, 'believe': 65444, 'enemy': 30321, 'beloved': 65318, 'weird': 65748, 'accept': 34866, 'written': 36663, 'enemies': 49644, 'list': 61099, 'jane': 14015, 'fonda': 14016, 'daniel': 14018, 'schorr': 14019, 'anderson': 14022, 'richard': 14030, \"nixon's\": 14031, 'crossed': 60784, 'morose': 20308, 'invite': 45789, 'dinner': 67385, 'expecting': 14095, 'bam': 32566, 'chauffeur': 14136, 'lift': 14141, 'drug': 52254, 'yelling': 67840, \"washin'\": 14186, 'desperately': 14196, 'lonely': 44142, 'belly-aching': 14205, 'wh': 14217, 'abe': 14233, 'dea-d-d-dead': 14240, 'stooges': 14244, 'scared': 40374, 'sound': 64960, 'upbeat': 45382, 'love-matic': 14313, 'grampa': 52308, 'singers:': 60657, 'peppy': 30148, 'shopping': 14282, 'cans': 14285, 'passed': 24693, 'floated': 14486, 'toward': 28460, 'heaven': 63680, 'wise': 14318, 'socratic': 14319, 'swelling': 14324, 'mushy': 14326, 'hearts': 14332, 'pinball': 14365, 'quiet': 66287, 'western': 14388, 'dishrag': 14398, 'crab': 14410, 'talkers': 14415, 'defensive': 54137, 'sweeter': 48937, 'jewish': 14430, 'wine': 56580, 'walks': 50404, 'catch-phrase': 14472, 'grrrreetings': 14476, 'son': 67687, 'darn': 14514, \"tootin'\": 14515, 'fink': 14519, 'buried': 67682, 'naked': 54340, 'sold': 56084, 'suit': 59679, 'ping-pong': 14532, 'dismissive': 19960, 'snort': 19823, 'karaoke': 62777, 'plug': 14565, 'betty:': 14740, \"usin'\": 14589, \"phone's\": 14591, 'four-drink': 14593, 'mechanical': 68792, 'test-': 14623, 'test-lady': 14626, \"g'ahead\": 14630, 'clammy': 14643, 'suppose': 21814, 'lovelorn': 14671, 'you-need-man': 14673, 'moe-near-now': 14675, 'go-near-': 14677, 'confused': 49951, 'explaining': 56573, 'near': 57675, 'endorsement': 14704, 'sometime': 61398, 'fancy': 44246, 'french': 64311, 'sexy': 59866, 'having': 54828, 'breakfast': 14762, 'expert': 15771, 'dang': 48065, 'kissing': 67834, 'during': 53925, 'spread': 19291, 'germs': 61799, 'rush': 14826, 'clear': 67424, 'started': 67600, \"'evening\": 14856, \"'morning\": 14862, 'chauffeur:': 14867, '91': 14895, 'per': 68485, 'cent': 34869, 'traffic': 60380, 'accidents': 14901, 'caused': 33542, 'news': 61088, 'choose': 14934, 'same': 59160, 'pope': 41359, 'reach': 67792, 'draw': 47329, 'egg': 67182, 'whoever': 14954, 'gets': 59172, 'stays': 14959, 'sober': 36263, 'noooooooooo': 14965, 'peter': 36276, 'pantsless': 14986, 'pained': 40149, 'longer': 65036, 'duffman:': 56963, 'duffed': 15040, 'duffman': 54855, 'costume': 61550, 'creates': 15055, 'awareness': 15056, 'labels': 34609, 'bottomless': 15086, 'mug': 53137, 'extra': 54367, 'cold': 55026, 'card': 38014, 'cheerleaders:': 15107, 'cheers': 48705, 'and:': 15110, 'chug': 35843, 'straining': 52526, 'driver': 32887, 'perfunctory': 15136, 'brusque': 15138, 'ehhh': 15140, 'swell': 15145, 'wholeheartedly': 15148, 'supports': 15149, 'program': 44561, 'shaky': 15186, 'months': 66969, 'giving': 56754, 'lecture': 15200, 'villanova': 15202, 'streetcorner': 15212, 'anger': 15218, 'ought': 15235, 'parasol': 15265, 'conditioner': 26664, 'congratulations': 15289, 'chick': 68060, 'jar': 67157, 'cockroach': 15330, 'displeased': 15335, 'sweetheart': 33799, 'health': 37053, 'inspector': 36723, 'man_at_bar:': 15349, 'margarita': 58248, \"scammin'\": 15378, 'planning': 30476, 'vacation': 55229, 'easter': 15413, 'giant': 15424, 'heads': 51424, 'terrible': 64748, 'rumor': 15451, 'threw': 41645, 'recommend': 59819, 'severe': 49594, 'depression': 15499, 'booze': 64710, 'depressant': 15517, 'chase': 52838, 'blues': 62982, 'manjula': 34549, 'sight-unseen': 15563, \"countin'\": 22964, 'twenty-four': 15583, 'freedom': 35777, 'checking': 66974, 'chipper': 15597, 'showing': 19391, 'sad': 67693, 'dirge-like': 15640, 'blooded': 15647, 'fever': 23085, 'spending': 51926, 'bachelorhood': 15679, 'jasper_beardly:': 15717, 'reaching': 23005, 'switch': 54429, 'bubbles': 38577, 'hot-rod': 15740, 'souped': 15742, 'ways': 31735, 'gear-head': 15755, 'casual': 63199, 'six-barrel': 15780, 'hollye': 15781, 'carb': 15782, 'betcha': 15787, 'edelbrock': 15791, 'intakes': 15792, 'meyerhof': 15803, 'lifters': 15804, 'dignity': 15826, 'rough': 49927, 'christmas': 65947, 'breakdown': 15853, 'society': 15856, 'pissed': 60696, 'dateline:': 15919, 'kent': 45401, 'brockman': 57315, 'scene': 66683, 'burglary': 15931, 'creature': 15935, 'stirring': 62734, 'husband': 35282, \"ma'am\": 30671, 'church': 58419, 'intoxicated': 15981, 'smile': 68659, 'marjorie': 15994, 'threatening': 63703, 'absolutely': 56516, 'devastated': 16050, 'words': 68671, 'heart-broken': 16057, 'sweater': 16072, 'cajun': 16078, 'sneering': 16089, 'turkey': 30427, 'choke': 16108, 'scam': 19031, 'jesus': 20852, 'must': 68854, 'spinning': 65002, 'grave': 16386, 'illegal': 49626, 'enthusiastically': 16155, 'pats': 61853, 'stomach': 16175, 'cover': 66092, 'folks': 66167, 'bushes': 16210, 'tapping': 16214, 'mic': 27225, 'further': 16242, 'zinged': 16254, 'angry': 68382, 'spews': 16273, 'truth': 65863, 'orifice': 16277, 'indifference': 16291, \"watchin'\": 50565, 'clapping': 16313, \"seein'\": 52874, \"hawkin'\": 16330, 'products': 64166, 'vincent': 16336, 'price': 50369, \"floatin'\": 16338, 'toilet': 37129, 'cake': 62967, 'horrors': 16349, 'unfresh': 16353, 'winston': 16371, 'churchill': 16423, 'der': 37627, 'wienerschnitzel': 16377, 'madison': 16384, 'avenue': 16385, 'robbers': 16387, 'various': 16401, 'crowd': 63111, 'impeach': 16422, 'crooks': 16433, \"makin'\": 54568, 'agnes_skinner:': 48134, 'allowance': 16490, 'burn': 57466, 'cats': 16511, 'purse': 48285, '$42': 16531, 'everything': 67114, 'run': 68730, 'bury': 16541, 'mom': 66352, 'screw': 65792, 'businessman_#1:': 16598, 'businessman_#2:': 16592, 'firmly': 17809, 'boston': 16609, 'bag': 64711, 'case': 57854, \"drivin'\": 33117, 'suits': 16659, 'sports': 61715, 'utility': 17092, 'vehicle': 16673, 'oooo': 16677, 'ignoring': 16703, 'creeps': 16819, 'followed': 16737, 'begging': 16741, 'roomy': 16962, 'canyonero': 17165, 'combines': 16764, 'smooth': 65513, 'handling': 16767, 'european': 68707, 'rugged': 16775, 'driveability': 16776, 'sturdy': 16779, '4x4': 16780, 'noises': 61705, 'talking': 54617, \"ya'\": 16838, 'cadillac': 16844, 'automobiles': 16846, 'boo': 67851, 'plenty': 31732, 'beefs': 16870, 'fat-free': 16872, 'yogurt': 46638, 'th-th-th-the': 16877, 'computer': 64847, 'porn': 41296, 'groan': 16884, 'jay:': 16887, 'shoulda': 16891, 'shill': 16912, 'indifferent': 16918, 'thoughtfully': 18861, 'selling': 33703, 'ride': 56976, 'hank_williams_jr': 17160, ':': 54556, 'wheel': 68936, 'seats': 51030, '35': 16985, 'whip': 62926, 'crack': 17114, 'hammer': 17009, 'country-fried': 17014, 'endorsed': 17016, 'federal': 17032, 'highway': 17041, 'commission': 34967, 'ruled': 17036, 'unsafe': 17039, 'city': 67515, 'driving': 62375, 'chorus:': 17047, 'yards': 67354, 'lanes': 17062, 'wide': 62987, 'sixty-five': 17066, 'tons': 17067, 'american': 56440, 'pride': 55061, 'unexplained': 17096, 'fires': 17097, 'courts': 17103, 'blinds': 17121, 'beam': 40415, 'squirrel': 17132, 'squashing': 17133, \"smackin'\": 17136, 'canyoner-oooo': 17150, 'hyahh': 17154, 'toasting': 62300, 'blissful': 17182, 'hiding': 17186, 'rash': 17214, 'whatchacallit': 17245, 'mail': 34614, 'order': 39610, 'bride': 38755, 'homesick': 17267, 'diving': 17273, 'tourist': 17275, 'pennies': 17276, 'micronesian': 17279, 'swamp': 17280, 'mirror': 17304, 'puke-pail': 17315, 'fabulous': 37687, \"fendin'\": 17353, 'starlets': 17356, 'pointy': 17359, 'due': 55529, 'ugliness': 17371, 'dozen': 17409, 'roses': 37206, 'renee': 18385, 'treasure': 65383, 'ram': 17442, 'players': 17498, 'maxed': 17504, 'flowers': 67335, 'tenuous': 17523, 'girlfriend': 53902, 'pinchpenny': 17559, 'besides': 17577, 'tabs': 17613, 'bunch': 41519, 'ungrateful': 17620, 'ingrates': 17621, 'distraught': 35156, \"renee's\": 17640, 'kidney': 20206, 'insured': 17686, 'wreck': 17709, 'awkwardly': 17730, 'dropped': 49539, 'dearest': 18387, 'warily': 25932, 'insist': 17800, 'plan': 42331, 'placing': 43021, 'model': 17829, 'represents': 17831, 'olive': 17839, \"car's\": 17868, 'toy': 17881, 'waterfront': 17913, 'part': 63585, \"town's\": 49789, \"department's\": 17945, 'moonlight': 17946, 'charity': 34607, 'cruise': 17948, 'righ': 17979, 'alibi': 17997, 'park': 49480, 'railroad': 31093, 'tracks': 18010, '10:15': 18015, 'wham': 18024, 'insurance': 18027, 'pays': 63321, 'clams': 18033, 'troubles': 18053, 'coward': 33757, 'renee:': 18358, 'i-i': 62218, 'law': 57660, 'betrayed': 18116, 'wasting': 48879, 'low-life': 18137, 'y-you': 18155, 'hmf': 18182, 'being': 67550, 'locked': 18188, 'medicine': 33557, 'sudden': 59722, 'unless': 50860, 'clearing': 18219, 'hopeful': 68926, 'graveyard': 18243, 'corpses': 18370, 'stunned': 64418, 'we-we-we': 18267, 'pour': 63636, 'brandy': 18283, 'fwooof': 18326, 'hawaii': 18334, 'yelp': 18407, 'pain': 60625, 'murderously': 18424, 'oh-ho': 18443, 'attack': 40434, 'yell': 28603, 'sleep': 33495, 'also': 64768, \"g'night\": 18498, 'mommy': 18500, 'screams': 68715, \"world's\": 55556, 'rat': 67074, 'forgive': 68112, 'sincerely': 18550, 'tearfully': 18556, 'watching': 65672, 'aww': 54241, 'sobbing': 66947, 'puts': 35105, 'arm': 63180, 'beady': 18603, \"homer'll\": 18609, 'joined': 35170, 'naval': 18624, 'seeing': 42738, 'joining': 18685, 'although': 26992, 'strictly': 18694, 'forbids': 18695, 'military': 43172, 'hunter': 48556, 'hah': 18739, 'reminds': 32951, 'thorn': 18759, \"pope's\": 54338, 'grants': 18767, 'wondered': 18791, 'ironed': 18837, \"that'd\": 18809, 'heatherton': 18833, 'tempting': 18845, 'agent_miller:': 18868, 'flashing': 18873, 'badge': 18874, 'united': 18876, 'states': 18877, 'panicky': 54686, 'wiping': 18892, 'blown': 49663, 'signal': 18920, 'involved': 21303, 'activity': 18947, 'cause': 18949, 'agent_johnson:': 19115, \"sayin'\": 64950, 'commit': 18984, 'crimes': 19003, 'fired': 19007, 'running': 52761, 'moonshine': 19020, 'basement': 19024, 'telemarketing': 19030, 'uhhhh': 19037, 'involving': 61089, 'george': 19060, 'bush': 27609, 'seething': 19072, 'charlie:': 19081, 'militia': 19089, 'sorts': 19098, 'officials': 19101, \"that'll\": 66246, 'drag': 19107, 'high-definition': 19111, 'conspiracy': 19120, 'charlie': 56800, 'musta': 19133, 'ratted': 19134, 'ridiculous': 43271, 'transmission': 19148, 'campaign': 52759, 'disaster': 19161, 'public': 68692, 'wishful': 19178, \"they'd\": 45001, 'elect': 19183, 'vengeful': 19189, 'worried': 60421, 'focus': 59751, 'slogan': 19241, 'appeals': 19243, 'lazy': 23580, 'slobs': 19248, 'message': 52378, 'raises': 21275, 'arms': 65265, 'triumphantly': 19303, 'stagy': 46629, 'knowing': 60149, 'seriously': 58319, 'u2:': 19357, 'sanitation': 19359, 'jolly': 47635, 'blokes': 19365, 'courteous': 19367, 'easygoing': 19369, 'the_edge:': 19372, 'mop': 63466, 'overflowing': 19378, 'bono:': 19383, 'arse': 19389, 'broad': 63342, 'stands': 30095, 'ocean': 23312, 'knocks': 19412, 'bathing': 19594, 'omit': 19429, 'detail': 19431, 'small': 65137, 'filthy': 59434, 'spellbinding': 19487, 'upon': 43025, 'thomas': 19498, 'edison': 19644, 'dictating': 19505, 'fluoroscope': 19509, 'repeating': 19512, 'telegraph': 19513, 'increasingly': 49719, 'breathless': 19521, 'firm': 19530, 'believer': 19531, 'fletcherism': 19533, 'played': 50905, 'organ': 20239, 'heliotrope': 19547, 'middle': 37252, 'alva': 19556, 'wore': 19565, 'pajamas': 19566, 'dame': 68227, 'rubs': 19634, 'temples': 19635, 'worked': 45237, 'menlo': 19649, 'tasimeter': 19659, 'ore': 19662, 'separator': 19663, 'james': 50952, 'watt': 19673, 'steam': 19676, 'engine': 19677, 'boring': 53599, 'unusually': 19709, 'focused': 19710, 'squeal': 19718, 'hole': 55948, 'jockey': 40255, 'totally': 62555, 'waste': 19730, \"somebody's\": 19737, 'grumpy': 41005, 'gus': 19740, 'yoink': 19746, 'peeved': 19753, 'crying': 47678, \"springfield's\": 32036, 'citizens': 19771, 'murdered': 19773, 'bartender': 65891, 'szyslak': 50409, 'watered': 19782, 'highball': 19786, 'bigger': 19920, 'derisive': 19822, 'grocery': 19837, 'cotton': 41873, 'balls': 45454, 'absorbent': 19852, 'youuu': 19860, 'round': 62151, 'corner': 59810, 'ointment': 19880, 'aisle': 19881, 'none': 51022, 'mister': 58873, 'channel': 61033, '6': 45406, 'coy': 19926, 'promised': 62605, 'kim_basinger:': 19982, 'alec_baldwin:': 19991, 'ron_howard:': 20002, 'vodka': 60741, 'gentleman:': 20047, 'statesmanlike': 20013, 'celebrity': 40172, 'summer': 39600, 'bubble': 56185, 'telling': 67560, 'brave': 65571, 'operation': 20183, 'doctor': 20124, 'procedure': 20193, 'polenta': 20140, 'deadly': 20192, 'life-threatening': 20151, 'surgery': 23878, 'survive': 57757, 'correcting': 64159, 'point': 65847, 'able': 66134, \"tryin'\": 53511, 'scare': 68456, 'donor': 20240, 'sucker': 20241, 'lists': 20242, 'eyeball': 50099, 'spine': 20251, 'vestigial': 20254, 'plaintive': 20264, 'buttocks': 20291, 'comfortable': 61999, 'lips': 37517, 'catching': 60615, 'harvesting': 20341, 'eyeing': 20354, 'hostile': 20374, \"'round\": 20385, 'mess': 34246, 'bathroom': 32200, 'y': 20409, 'dime': 20417, 'mayor': 42296, 'quimby': 20420, 'puke-holes': 20440, 'reserved': 20450, 'cronies': 20456, 'düffenbraus': 20466, 'semi-imported': 20481, 'guzzles': 20484, 'generosity': 20499, 'greatly': 20501, 'appreciated': 20502, 'especially': 53371, 'inspection': 36896, 'season': 40178, 'stagey': 20533, \"workin'\": 63405, 'roach': 20546, 'grunt': 24109, 'hubub': 20576, 'isotopes': 26820, 'losers': 63822, 'sniper': 20621, 'all-star': 66484, 'blessing': 20628, 'disguise': 20630, 'wooooo': 20799, \"'topes\": 20899, 'ruuuule': 20653, 'die-hard': 20661, 'fan': 58041, 'history': 55397, 'winded': 20681, 'excitement': 59452, 'team': 38659, 'grabbing': 67066, \"brockman's\": 20735, 'microphone': 20736, 'woooooo': 20738, 'inspiring': 46931, \"who'll\": 47992, 'root': 20758, 'lose': 52049, 'ga': 20769, \"game's\": 40633, 'dennis_conroy:': 20888, 'bottom': 66759, 'ninth': 20823, 'outs': 20826, 'pitch': 23008, 'spanish': 64319, 'j': 20847, \"'s\": 20849, 'jumping': 20851, 'technical': 20880, 'director': 33641, 'stan': 20884, 'kadlubowski': 20885, 'rumaki': 20917, 'sports_announcer:': 20961, 'road': 59346, 'pointless': 52672, 'injury': 20950, \"football's\": 20952, 'conference': 21328, 'champs': 20967, 'harrowing': 20971, 'bye': 62782, 'week': 64092, 'enjoys': 20977, 'scornful': 20982, 'weeks': 49182, 'bronco': 20987, 'nagurski': 20988, 'reconsidering': 21001, 'wally:': 21247, 'coupon': 21040, 'flips': 62976, 'travel': 21059, 'agency': 21060, 'charter': 21067, 'dreamily': 21090, 'coach:': 21126, 'quarterback': 21107, \"wife's\": 68930, 'leg': 62590, 'wally': 21158, \"team's\": 26778, 'it:': 21177, 'atlanta': 21216, 'falcons': 21217, 'lowers': 27928, 'loved': 68985, 'count': 21233, 'broncos': 21240, 'grabs': 46829, 'hillary': 21282, 'adventure': 21299, 'mmm': 42495, 'foil': 56050, 'assassination': 21322, 'peace': 43536, 'character': 56954, 'yup': 53225, 'scarf': 21353, 'beating': 56816, 'lance': 21368, 'partner': 37446, 'detective_homer_simpson:': 21537, 'supervising': 21408, 'guns': 40044, 'toys': 34262, 'exasperated': 53593, 'simp-sonnnn': 21550, \"guy's\": 48943, 'changed': 65805, 'bumbling': 21471, 'sidekick': 21472, 'acting': 46912, 'infiltrate': 21496, 'gang': 57549, 'international': 49836, 'idiots': 21501, 'destroyed': 21513, 'shipment': 21516, 'indeedy': 21524, 'insulin': 21534, 'haplessly': 21539, \"spaghetti-o's\": 21543, 'act': 67324, 'dum-dum': 21589, 'unintelligent': 21593, 'shutup': 21599, 'diminish': 21607, 'bid': 21615, 'choking': 58911, 'who-o-oa': 21631, 'encore': 21652, 'encores': 21666, 'hour': 68885, \"valentine's\": 51927, 'men:': 21866, 'amid': 21899, \"men's\": 53410, 'reactions': 21713, 'edna': 53235, 'clap': 21727, 'erasers': 21729, 'sideshow_mel:': 21732, 'barbara': 21734, 'arts': 21743, 'stalking': 21750, 'bumped': 21753, 'murmurs': 21776, 'sympathy': 21765, 'yourselves': 36997, 'guiltily': 21802, 'maude': 21818, 'easier': 46907, 'curious': 21900, 'shriners': 21920, 'old_jewish_man:': 21923, 'traitor': 21941, 'matter-of-fact': 28343, 'astrid': 21972, 'dealer': 21976, 'gunter': 21985, 'kyoto': 53905, 'cecil': 21990, 'hampstead-on-cecil-cecil': 21991, 'eurotrash': 22002, 'gunter:': 22017, 'adrift': 22026, 'sea': 22048, 'decadent': 22031, 'luxury': 22032, 'meaningless': 22034, 'located': 22050, 'cecil_terwilliger:': 22053, 'hotel': 22060, 'practice': 22062, 'affectations': 22064, 'bon': 22068, 'soir': 22069, 'fritz': 52300, 'feld': 22074, 'priceless': 22096, 'sketch': 22097, 'certificate': 22100, 'authenticity': 22102, 'sketching': 22110, 'drawing': 53445, 'twelve-step': 22134, 'hilarious': 50229, 'novelty': 22216, 'item': 22217, 'chosen': 22296, 'justice': 25449, 'squadron': 22301, '8': 22303, 'monday': 22308, 'municipal': 22311, 'fortress': 22312, 'vengeance': 22314, 'professor_jonathan_frink:': 54277, 'studied': 22327, 'patterns': 47816, 'fastest': 22336, 'yellow': 57418, 'lights': 22350, 'frink': 51000, 'hawking:': 22421, 'theory': 22359, 'donut-shaped': 22362, 'universe': 22363, 'intriguing': 22365, \"hangin'\": 42144, 'paying': 61836, 'computer_voice_2:': 22416, 'larry': 22440, 'flynt': 22441, 'stink': 22447, 'japanese': 64327, \"hell's\": 22474, 'putting': 28179, 'tentative': 33322, 'annoyed': 55206, 'searching': 28169, 'umm': 35450, 'tap': 57745, 'jazz': 22519, 'regretted': 22524, 'supposed': 63206, 'helpless': 22567, 'frescas': 22583, 'hushed': 22594, 'embarrassing': 34472, 'needs': 56885, \"bladder's\": 22624, 'urine': 22632, 'past': 31521, 'heavyset': 22665, 'insulted': 22712, 'tommy': 22701, 'tune': 65170, 'honor': 37975, 'demand': 22727, 'slaps': 22731, 'glove': 22879, 'challenge': 32912, 'duel': 22748, 'extreme': 22758, 'given': 46267, 'slapped': 22798, \"duelin'\": 22801, 'slap': 32809, 'shack': 22840, \"b-52's:\": 22861, 'sat-is-fac-tion': 22877, 'feat': 22898, 'forgotten': 22904, 'depressed': 22917, 'tears': 58851, 'shred': 22948, 'shreda': 22955, 'cocktail': 25674, 'radishes': 22995, 'counting': 54659, 'fevered': 23011, 'rivalry': 23012, 'between': 30758, 'u': 28110, 'spreads': 23022, 'wildfever': 23024, 'th': 23026, 'writer:': 23038, 'thesaurus': 23059, 'preparation': 23074, 'stadium': 67621, 'caught': 61040, 'additional-seating-capacity': 23084, 'ivy-covered': 23115, 'cow': 39125, 'college': 56194, 'founded': 23144, 'kegs': 23162, 'finest': 57215, 'imported-sounding': 23166, 'tuborg': 23173, 'danish': 23185, 'kings': 23179, 'p': 58948, 'accounta': 23207, 'sun': 23239, 'across': 52932, 'sky': 23243, 'joking': 41804, 'sail': 23292, 'waters': 23296, 'theme': 23304, 'laws': 42265, 'held': 60377, 'tyson/secretariat': 23332, 'knees': 35307, 'throwing': 69017, 'wildest': 23359, 'seas': 45312, \"bein'\": 45779, 'eyesore': 55911, 'plastic': 58114, 'calendars': 23414, 'liquor': 23435, 'license': 23448, 'examines': 23441, 'expired': 23449, '1973': 23451, 'rhode': 23462, 'signed': 23467, 'updated': 23483, 'poster': 23498, 'moe-lennium': 23503, 'sticker': 23510, 'viva': 23521, 'la': 57019, 'jeff': 55826, 'relative': 23564, 'dumb': 67645, 'bald': 59938, 'worse': 68190, 'stickers': 23625, 'ugliest': 56511, 'uglier': 23651, 'white': 42027, 'castle': 57437, 'ho': 64002, 'pigtown': 23670, 'gargoyle': 63042, 'cauliflower': 23696, 'ear': 23697, 'lizard': 23702, 'caveman': 23718, 'brow': 43027, 'fish': 67489, 'snout': 23729, 'pleasant': 43481, 'emphasis': 23777, 'maher': 23789, 'dynamite': 46118, 'mount': 25353, 'crapmore': 23817, 'kisser': 23824, 'inside': 66077, 'carlson': 34380, 'spotting': 23894, 'windowshade': 23933, 'grope': 23949, 'softer': 23958, 'harder': 27485, 'women': 58021, 'busy': 68613, 're:': 67451, 'nearly': 30486, 'complicated': 24022, 'seem': 60915, 'maintenance': 24059, 'wash': 65470, 'rub': 63513, \"neat's-foot\": 24070, 'hooters': 24094, 'wraps': 24118, 'crushed': 24137, 'third': 68476, 'beats': 42143, 'tax': 24209, 'hike': 24210, 'mabel': 24217, 'trusted': 37379, 'voted': 24236, 'chastity': 24238, 'bono': 24239, 'influence': 24283, 'jerk': 59112, 'glummy': 24312, 'sincere': 62444, 'shindig': 24378, 'videotaped': 24386, 'slot': 24415, 'package': 24420, 'tha': 24429, 'poem': 24471, 'occasion': 24467, 'older': 24479, 'flew': 24483, 'grunts': 26410, 'planet': 24527, 'chinese': 45924, 'uncomfortable': 45848, 'upsetting': 24553, 'stage': 24563, 'professor': 28705, 'talkative': 24571, 'coherent': 24573, 'upset': 64761, 'yourse': 24612, 'precious': 63765, 'soaking': 24633, 'shag': 24635, 'disgrace': 26759, 'disgracefully': 24686, 'presents': 24702, 'mine': 67029, 'without:': 24721, 'morning-after': 24722, 'stationery': 47805, 'helicopter': 24838, 'flying': 36087, 'lessons': 64876, 'boozebag': 24743, 'whirlybird': 24749, 'tanked-up': 24793, 'sweetly': 47242, 'b-day': 24783, 'punkin': 24785, 'certain': 63862, 'tanking': 24815, 'fly': 31388, \"handwriting's\": 24911, 'afloat': 24918, \"bar's\": 36517, 'queer': 47974, 'guide': 35529, 'calmly': 66651, 'santeria': 24972, 'breaks': 24994, 'straighten': 25021, 'finish': 25030, 'seat': 49476, 'suspiciously': 25083, 'world-class': 25108, 'alcoholism': 25119, 'raging': 25122, 'barney-type': 25139, 'bad-mouth': 25183, 'suck': 34480, 'catty': 25248, 'consulting': 25257, 'amends': 25271, 'disgraceful': 25274, 'behavior': 25275, 'barstools': 25301, 'befouled': 25322, 'broom': 65161, 'closet': 25306, 'explain': 42459, 'drop-off': 25332, 'bulletin': 25344, 'broken': 25350, 'trapping': 25356, 'youngsters': 25358, 'unfortunately': 55388, 'trucks': 25379, 'unavailable': 25381, 'blaze': 25385, 'film': 38286, 'burt': 41611, 'reynolds': 41612, 'fireball': 25441, 'mudflap': 25443, 'burt_reynolds:': 25434, 'jerry': 39770, 'feisty': 25446, 'supreme': 25447, 'court': 25448, 'birth': 25454, 'competing': 25457, 'cross-country': 25460, 'race': 25463, 'garbage': 60223, 'flown': 25490, 'solo': 31447, 'heroism': 25505, 'charges': 25511, 'lowering': 61868, 'binoculars': 25517, 'sinister': 39968, 'grieving': 25533, \"ridin'\": 65257, 'slab': 25579, 'died': 43522, 'dear': 59948, 'tear': 25628, \"dad's\": 65655, 'reluctantly': 25635, 'onions': 25675, 'clenched': 25656, 'teeth': 57416, 'read': 67420, 'resigned': 25668, 'according': 25699, 'uses': 25721, 'appearance-altering': 25722, 'cosmetics': 25723, 'warned': 25731, 'x': 25915, 'closer': 60545, 'talked': 44306, 'tall': 25844, 'frosty': 36682, 'whisper': 46519, 'lotta': 64836, 'secrets': 51988, 'clandestine': 25960, 'disturbing': 25964, 'voice:': 52148, 'happily': 57234, 'pulitzer': 25983, 'rev': 58406, '_timothy_lovejoy:': 50143, 'helen': 26010, 'bible': 55183, 'human': 67326, 'guinea': 26046, 'pig': 67295, 'medical': 26063, \"chewin'\": 26078, 'chew': 26089, 'telephone': 26092, 'shock': 44300, 'satisfied': 29008, 'experiments': 26120, 'few': 68967, 'ears': 26141, 'winces': 26147, 'chest': 58961, 'hmmmm': 26161, 'effigy': 26183, 'dawning': 26186, 'appalled': 26203, 'fire_inspector:': 26206, 'brainiac': 26227, 'jobs': 58444, 'mention': 57967, 'smart': 67368, 'distinct': 26289, 'strain': 26290, 'anti-intellectualism': 26292, 'einstein': 26304, 'whaddaya': 48029, 'appendectomy': 26315, 'lipo': 26317, 'sampler': 26327, 'popular': 67760, 'dramatically': 26337, 'crayon': 26345, 'art': 26356, 'carney': 26357, 'flourish': 26359, \"ol'\": 64000, 'crayola': 26363, 'oblongata': 26364, 'deeper': 26382, 'pusillanimous': 26385, 'pilsner-pusher': 26386, 'inanely': 26399, 'dee-fense': 26407, 'twice': 26411, 'extended': 26432, 'warranty': 26433, 'sacajawea': 26464, 'manatee': 26493, 'comic_book_guy:': 53178, 'cranberry': 26546, 'schnapps': 61624, 'aah': 26566, 'painted': 26570, 'choices': 26576, 'scanning': 26586, 'sees': 66064, \"soakin's\": 26593, 'nectar': 26603, 'nitwit': 26606, \"knockin'\": 26613, 'badmouths': 26619, \"o'\": 26627, 'comic': 57021, 'mindless': 26657, 'droning': 26658, 'befriend': 26661, \"raggin'\": 26672, 'conditioners': 26675, 'klingon': 26715, 'loneliness': 26704, 'guttural': 26714, 'directions': 39749, 'baseball': 58533, 'mm': 47544, 'bought': 29969, 'heartless': 26789, 'corporation': 34941, 'owns': 26817, 'family-owned': 26844, 'tried': 59252, 'quick': 67123, 'thumb': 27350, 'eye-gouger': 26933, 'pickle': 42497, 'brine': 26937, 'fresh': 39673, 'massive': 26979, 'loss': 50847, 'occasional': 26997, 'total': 27018, 'rip-off': 27019, 'smurfs': 27026, 'gangrene': 27040, 'wake': 55441, 'cup': 27052, \"coffee'll\": 27056, 'waking-up': 27064, 'instantly': 27068, \"nick's\": 27077, 'disapproving': 37005, 'rude': 27092, 'moans': 57935, 'hitchhike': 27101, 'emergency': 27142, 'dollface': 27152, 'informant': 27283, 'wearing': 56306, 'nash': 27173, 'bridges': 27174, 'goods': 27200, 'smugglers': 27419, 'voice_on_transmitter:': 27256, 'delighted': 52361, 'illegally': 27198, 'smuggled': 27199, '2nd_voice_on_transmitter:': 27238, '3rd_voice:': 27248, 'presses': 27264, 'button': 45844, 'answering': 37412, 'snitch': 27299, 'mcbain': 30161, \"father's\": 27370, 'lotsa': 27407, 'mission': 27413, 'fireworks': 27418, 'incriminating': 27426, 'taps': 38668, 'recorder': 27432, 'hootie': 27443, 'blowfish': 27446, 'cheaper': 27453, 'blank': 27455, 'wells': 27472, 'aer': 27474, 'lingus': 27475, 'jets': 59701, 'leprechaun': 27494, 'cursed': 27503, 'dying': 58925, \"heat's\": 27604, 'dejected': 27624, 'slugger': 27643, 'italian': 27678, 'shotgun': 63462, 'rob': 68528, 'eventually': 28863, 'became': 67566, 'morlocks': 27729, 'future': 56394, 'liar': 45708, \"weren't\": 49637, \"spyin'\": 27777, 'naturally': 50239, 'assumed': 27788, 'stupidest': 27795, 'valley': 27807, 'series': 27809, 'drunks': 53596, 'shaggy': 27829, 'stories': 67752, 'quitcher': 27855, 'bellyaching': 27856, 'dumb-asses': 27914, 'gun': 38685, 'serve': 60665, 'yak': 27952, \"d'ya\": 27984, 'shesh': 27990, \"kiddin'\": 63062, 'smiled': 28007, 'nailed': 28012, 'passion': 58334, 'bartending': 48519, 'jigger': 28062, 'painting': 28103, 'illustrates': 28095, 'swigmore': 28109, 'fills': 28127, 'expression': 56786, 'coat': 58243, 'trip': 59379, 'alma': 28187, 'mater': 28188, 'rekindle': 28191, 'urban': 28233, \"tinklin'\": 28245, 'contest': 50271, 'potato': 52026, 'chips': 28268, \"when's\": 28358, 'mind': 65256, 'natured': 28453, 'jukebox': 65165, 'splattered': 28465, 'fonzie': 28504, 'ayyy': 28532, 'hemorrhage-amundo': 28516, 'yello': 28536, 'speak': 64432, 'tabooger': 28587, 'ollie': 28586, 'ooo': 48744, 'deliberate': 37989, 'booger': 28609, 'dirty': 28634, 'teen': 28635, 'hardhat': 28659, 'wrecking': 28668, 'giggle': 28680, 'fainted': 28684, 'prettied': 28709, 'renew': 28716, 'zeal': 28718, 'twentieth': 28749, 'century': 34137, 'formico:': 28770, 'formico': 28767, 'dean': 28759, 'design': 28761, 'spoken': 48026, 'certified': 28819, 'contractors': 28820, 'pages': 28832, 'glad': 63027, 'thanksgiving': 29024, 'band': 62968, 'hippies': 28903, 'rem': 28912, 'apology': 28914, 'eco-fraud': 28917, 'reluctant': 28922, 'rainforest': 28941, 'peter_buck:': 28944, 'thankful': 29019, 'michael': 28960, 'supplying': 28966, 'tofu': 28978, 'mike_mills:': 28977, 'gluten': 28980, 'ate': 28987, 'michael_stipe:': 28993, 'curds': 29013, 'mmmmm': 29011, 'alternative': 29030, 'rockers': 29031, 'gabriel': 29066, 'mortal': 29088, 'equivalent': 29089, 'ambrosia': 51749, 'gabriel:': 29095, 'temper': 29114, 'deliberately': 29137, 'girl-bart': 29145, 'loathe': 29160, 'knives': 29173, 'terrific': 58337, \"lady's\": 29195, 'cookies': 43591, \"'n'\": 29206, 'creme': 29207, 'martini': 29208, 'amber_dempsey:': 29211, 'beach': 56255, 'annoying': 29238, 'admiring': 39119, 'night-crawlers': 29260, 'bragging': 29265, 'mole': 29274, 'anywhere': 32382, 'wowww': 29282, 'amber': 29287, 'proves': 29292, 'buffet': 29298, 'clothespins': 29312, 'attach': 29316, 'eighty-seven': 58479, 'neck': 58906, 'palm': 40230, 'looked': 62758, 'clothespins:': 29371, 'swallowed': 29372, 'inserted': 29374, 'clipped': 29382, 'sixteen': 29391, 'magnanimous': 29410, 'tom': 61726, \"clancy's\": 29442, 'op': 29444, 'lovers': 29470, 'newsweek': 29489, 'failure': 29495, 'actors': 56343, 'thrust': 29512, 'trivia': 29530, 'lifetime': 29547, 'supply': 29548, 'chug-monkeys': 29556, 'beverage': 29559, 'brewed': 59557, 'ancient': 57688, 'hops': 29569, 'grains': 29571, 'hop': 57026, 'grain': 29580, 'juice': 41275, \"time's\": 29623, 'reading:': 29634, 'woulda': 29647, 'arrange': 29723, 'escort': 29726, 'orgasmville': 29737, 'losing': 46943, 'lindsay_naegle:': 37969, 'agree': 50833, 'enlightened': 29786, 'television': 29792, 'producers': 29793, 'booking': 29796, 'mid-seventies': 29799, 'alky': 29836, 'grandiose': 30173, \"round's\": 29846, 'payday': 29856, 'rented': 29881, 'boyfriend': 43942, 'swings': 29908, \"battin'\": 29912, 'cage': 29913, 'perverted': 29916, 'winner': 29925, 'sprawl': 29942, 'bed': 68304, 'hockey-fight': 29972, 'artie': 35063, 'spy': 49619, 'horrible': 60762, 'superior': 50818, 'settled': 30127, \"what'd\": 30136, 'lookalike:': 30146, 'chuck': 30153, 'exited': 30162, 'trunk': 30168, 'rainier': 30193, 'wolfcastle': 30194, 'teenage': 46700, 'ohmygod': 30206, 'ab': 30218, 'roller': 30219, 'gotten': 66315, 'rainier_wolfcastle:': 30278, 'backward': 30239, 'leftover': 30260, 'kill': 67087, 'authorized': 42783, 'lookalike': 30291, 'lookalikes': 30299, 'macaulay': 30308, 'culkin': 30309, 'killing': 30319, 'alpha-crow': 30326, 'uneasy': 46077, \"i-i'm\": 63927, 'enveloped': 30349, 'buttons': 52557, 'crow': 30384, 'crowbar': 30392, 'sloppy': 30420, 'wacky': 30447, 'tobacky': 30448, 'spacey': 30458, 'intervention': 30467, 'poisoning': 30481, 'excuses': 30498, 'funeral': 30504, 'interrupting': 30531, 'impatient': 44995, 'forty-seven': 30544, 'bottles': 59639, 'terrified': 64206, 'here-here-here': 30601, 'pepper': 30614, 'salt': 58226, 'shaker': 30620, 'dash': 30628, 'homie': 61958, 'eleven': 67934, 'dinks': 30667, 'squishee': 30695, 'canoodling': 30698, 'junkyard': 30700, 'rabbits': 30701, 'scum': 34989, 'soothing': 30730, 'promise': 30774, 'tropical': 30787, 'windex': 30808, 'windelle': 30803, 'afford': 64874, 'muhammad': 30818, 'ali': 30819, 'anti-lock': 30829, 'brakes': 30830, 'johnny': 30839, 'mathis': 30840, 'versus': 30841, 'pepsi': 30843, 'anniversary': 34540, 'koi': 30877, 'pond': 30878, 'meditative': 30885, 'lily-pond': 30886, 'fry': 30893, 'feed': 65558, 'squirrels': 30921, 'drown': 31079, 'super-genius': 30948, 'certainly': 30958, 'lenford': 30960, 'celebration': 30966, 'surprise': 51285, 'pasta': 30975, 'mini-beret': 30980, 'wang': 40483, 'gold': 39985, \"this'll\": 31004, 'speed': 31009, 'dating': 45428, 'nos': 31021, 'killer': 31033, 'sat': 39928, 'drank': 53708, 'i-i-i': 40276, 'stab': 31152, 'peanuts': 67127, 'à': 57018, 'simon': 31169, 'up-bup-bup': 31172, 'starting': 36126, 'force': 62822, 'badges': 31264, 'admitting': 56108, \"pickin'\": 31308, 'homer_doubles:': 31314, 'len-ny': 31319, 'billy_the_kid:': 31374, 'pian-ee': 31351, 'piano': 31346, 'cell-ee': 31360, 'cattle': 31370, \"rustlin'\": 31371, \"robbin'\": 64699, 'banks': 56355, 'shoo': 31389, \"calf's\": 31392, 'sneak': 31398, 'grab': 60736, \"'im\": 33763, 'bank': 56441, 'snatch': 31421, 'dough': 42043, 'ghouls': 31469, 'grammy': 31481, 'judges': 31482, 'perfected': 31500, 'device': 31502, 'flayvin': 31536, 'space-time': 31549, 'continuum': 31550, \"wait'll\": 31556, 'wasted': 31560, 'plotz': 31568, 'absentminded': 31583, 'polishing': 31585, 'diapers': 31640, 'fair': 65056, 'yuh-huh': 31724, 'alter': 31739, 'consciousness': 31741, 'glitz': 31789, 'glamour': 31791, 'emotional': 55332, 'color': 41991, 'skin': 60754, 'cries': 58603, 'alphabet': 38153, 'backwards': 60583, 'beligerent': 31873, 'rats': 57515, 'liable': 31938, 'taunting': 31951, 'jerks': 53360, 'smug': 31980, 'louder': 61273, 'accelerating': 32002, 'snapping': 32008, 'cab_driver:': 32016, 'newest': 32037, 'supermodel': 32038, 'longest': 32056, 'fuss': 32097, 'spit-backs': 32113, 'staying': 67008, \"tonight's\": 32150, 'cock': 32153, 'scoffs': 32172, 'tokens': 32205, 'reality': 32217, 'gimmick': 32236, '1895': 32258, 'lincoln': 32269, 'kennedy': 32275, 'mckinley': 32282, 'simple': 32321, 'slit': 32337, 'quick-like': 32341, 'sideshow_bob:': 32364, 'haikus': 32371, 'skinheads': 32373, 'soap': 37116, 'concentrate': 32381, 'aging': 65458, 'whenever': 61684, 'detective': 32455, 'unbelievable': 32457, 'digging': 32467, 'intimacy': 32478, 'cobbling': 32487, 'shoes': 32488, 'schizophrenia': 32499, 'hiring': 32508, 'swan': 32542, 'delts': 32562, 'clench': 32564, 'proud': 63103, 'bulked': 32589, 'managed': 32593, 'femininity': 32597, 'fierce': 32602, 'glyco-load': 32628, 'denser': 32643, 'ripping': 32633, 'gel': 32634, 'frightened': 32641, 'sacrifice': 32653, 'period': 32655, 'awkward': 38209, 'delicately': 32682, 'death': 58547, 'yammering': 32705, 'pile': 32716, 'disco_stu:': 32722, 'disco': 32731, 'stu': 32728, 'ducked': 32732, 'slim': 32761, 'bupkus': 32763, 'perplexed': 32780, 'complaining': 55216, 'rump': 32804, 'payback': 32812, 'revenge': 32816, 'magazine': 44825, 'subscriptions': 32830, 'brick': 32846, 'cerebral': 32864, 'booze-bags': 32873, 'andy': 58063, 'victorious': 32898, \"one's\": 61671, 'gallon': 32909, 'icelandic': 32956, 'boyhood': 32957, 'anti-crime': 32964, 'dealie': 32965, 'streetlights': 32971, 'strongly': 32980, 'pro': 32986, 'con': 32988, \"i'unno\": 32992, 'superdad': 32998, 'young_moe:': 33018, 'crystal': 33013, 'cheaped': 33022, 'shelf': 33026, 'memory': 42694, 'paramedic:': 33085, 'ingested': 33090, 'amount': 33105, 'defiantly': 33100, 'ihop': 33114, 'burger': 33123, 'absentmindedly': 33133, \"doctor's\": 33159, 'appointment': 60935, 'young_marge:': 65665, 'alone': 64200, 'video': 57781, 'neanderthal': 33189, 'taylor': 33252, 'mock': 49006, 'flatly': 33308, 'ing': 33285, 'bird': 65082, 'billboard': 39358, 'sisters': 60067, 'voters': 33353, 'decide': 61020, 'november': 33358, 'practically': 33404, 'everywhere': 33405, 'subject': 54915, 'resenting': 33475, 'appreciate': 33500, 'lush': 37702, 'shout': 33568, 'f-l-a-n-r-d-s': 33570, 'flame': 33594, 'david_byrne:': 33710, 'researching': 33603, 'indigenous': 33604, 'overhearing': 33614, 'delightfully': 33616, 'cruel': 53369, 'david': 58309, 'byrne': 33627, 'singer': 33635, 'artist': 33637, 'composer': 33639, 'wrestle': 33655, 'el': 33660, 'diablo': 33661, 'philip': 33670, 'wishes': 49059, 'rewound': 33707, 'produce': 33724, 'rolls': 33730, 'likes': 58095, 'kahlua': 33746, 'cream': 57258, 'fleabag': 33765, 'unsanitary': 33773, \"cat's\": 57750, \"sittin'\": 66197, 'nope': 43758, \"wearin'\": 33842, 'walked': 33851, 'instead': 67641, 'dark': 33890, 'dreary': 33892, 'boozy': 35848, 'drunkening': 33907, 'hangover': 33927, 'barber': 33954, 'frat': 33966, 'julienne': 33987, 'potatoes': 33988, 'dessert': 44666, 'peach': 53268, 'crumble': 34007, 'groin': 34013, 'shortcomings': 34040, 'banquet': 34052, 'poulet': 34074, 'au': 34075, 'vin': 34076, 'avec': 34077, 'champignons': 34078, 'kisses': 34085, 'botanical': 34124, 'gardens': 34125, 'blossoming': 34133, 'sumatran': 34136, 'occurs': 34142, 'customers-slash-only': 34155, 'cooler': 34175, 'replaced': 34172, \"mopin'\": 34192, 'alarm': 34213, 'tummies': 34237, 'elves:': 34258, 'cakes': 34264, 'pets': 34266, 'brotherhood': 34268, \"i'd'a\": 34297, 'delivery_boy:': 34318, 'pizza': 34305, \"y'money's\": 34309, 'counter': 34312, 'miserable': 55517, 'bastard': 62855, 'mona_simpson:': 34375, 'leonard': 34349, 'competitive': 34364, 'jump': 64831, 'dive': 37819, 'stevie': 34405, 'macgregor': 34390, 'musketeers': 34395, 'accusing': 34416, 'bless': 66377, 'woozy': 62365, 'lungs': 34494, 'attention': 67725, 'devils:': 34501, 'apulina': 34528, 'gifts': 44244, 'including': 34553, 'bouquet': 34555, 'diamond': 37771, 'earrings': 34560, 'paris': 34584, 'hilton': 34571, 'france': 55245, 'manjula_nahasapeemapetilon:': 49936, 'sheepish': 53974, 'address': 53181, \"city's\": 34647, 'society_matron:': 34675, 'remote': 34688, 'sharity': 34699, 'woman_bystander:': 34721, 'ziff': 34972, 'aristotle:': 34742, 'artie_ziff:': 35365, 'weep': 34766, 'cards': 48647, 'mamma': 34793, 'flush-town': 34798, 'population': 34805, 'nonchalant': 34811, 'fifty': 60177, 'fold': 52954, 'ninety-eight': 34867, 'outstanding': 34872, 'ziffcorp': 35099, 'achem': 34912, 'flush': 34916, 'jacks': 34926, 'multi-national': 34940, 'd': 52448, 'sec_agent_#1:': 35020, 'securities': 34980, 'exchange': 45093, 'sec_agent_#2:': 35043, 'manipulation': 34978, 'fraud': 57294, 'macho': 34986, 'undermine': 34993, 'investor': 34999, 'confidence': 35000, 'perhaps': 55231, 'affects': 35004, 'majority': 35023, 'shareholder': 35024, 'inherent': 35038, 'legal': 35039, 'liability': 35040, 'malfeasance': 35081, 'ground': 60328, 'result': 35129, 'deny': 35150, 'jail': 46299, 'showed': 35188, 'louse': 35193, 'nerve': 44582, 'patty_bouvier:': 69037, 'jogging': 35239, 'ran': 48107, 'intruding': 35252, 'selma_bouvier:': 69045, 'sending': 35280, 'prison': 49088, 'swooning': 35295, 'standing': 53810, 'odor': 35313, 'eaters': 35314, 'bedroom': 57998, 'beanbag': 35348, 'temple': 35360, 'doom': 35362, 'gentle': 35367, 'nightmares': 35418, 'orders': 35447, 'contemptuous': 35469, 'chateau': 35471, 'latour': 35472, 'eighteen': 35474, 'eighty-six': 35475, 'initially': 35514, 'value': 53845, \"collector's\": 35528, 'shakespeare': 36668, 'bidet': 35581, 'ladder': 35590, 'water': 60640, 'fountain': 35594, 'monster': 46973, 'watered-down': 55679, 'in-in-in': 35679, 'chipped': 35681, 'nail': 35689, 'sticking': 35690, 'poke': 35713, 'bachelor': 35746, 'peaked': 35751, 'and/or': 35759, 'underpants': 53007, 'buddies': 35798, \"kids'\": 53967, 'gary_chalmers:': 35874, 'chug-a-lug': 35837, 'a-lug': 35840, 'needy': 49252, 'kindly': 63719, 'funds': 66087, 'disposal': 35889, 'boisterous': 35894, 'exciting': 35904, 'photographer': 35913, 'van': 35925, 'notch': 35941, 'wiggle': 35946, 'lap': 43078, 'friction': 35962, 'dancing': 44081, \"what're\": 43198, 'killjoy': 35974, 'wussy': 35978, 'grinch': 35982, 'consoling': 35987, 'bugging': 36064, 'picked': 36073, 'seemed': 45433, 'zoomed': 36082, 'junebug': 36086, 'windshield': 36090, 'meaningful': 49126, \"secret's\": 36146, 'safe': 56416, 'bail': 36161, 'wedding': 51619, 'wiener': 52405, \"bringin'\": 36222, 'sauce': 61086, 'easily': 36245, 'sobriety': 36250, 'urge': 36261, 'sponsor': 36271, 'white_rabbit:': 36274, 'lorre': 36277, 'missed': 55713, 'warmth': 36310, 'penmanship': 36316, 'sucks': 36337, 'anyhoo': 36342, 'furious': 53620, 'cyrano': 36383, 'shoulder': 64723, 'americans': 36521, 'permanent': 36526, 'visas': 36527, 'dutch': 36542, \"leavin'\": 36554, \"president's\": 36564, 'rebuttal': 36572, 'vomit': 65687, 'mull': 36634, 'mugs': 36643, \"thinkin'\": 36645, 'symphonies': 36664, 'fuhgetaboutit': 36685, 'health_inspector:': 36918, 'filth': 36740, 'oughta': 36743, 'hideous': 36777, 'frankie': 36789, 'department': 55691, 'fella': 36817, 'dads': 36827, 'malted': 36847, 'tooth': 36850, 'blinded': 36862, 'bike': 44741, \"soundin'\": 36879, 'thorough': 36895, 'winks': 36900, 'infestation': 36906, 'sanitary': 36912, 'utensils': 36913, 'hygienically': 36922, 'stored': 36923, 'parked': 36953, 'hydrant': 36958, 'new_health_inspector:': 37112, 'exhale': 37017, 'whaddya': 37030, 'hunky': 37038, 'dory': 37039, 'rife': 37051, 'violations': 37144, 'starters': 37074, 'predecessor': 37080, 'floor': 63784, 'trash': 37099, 'wednesday': 37103, 'chicken': 37113, 'skins': 37114, 'dispenser': 37117, 'roof': 50206, 'shutting': 62779, 'john': 37175, 'danny': 37180, 'pipes': 48371, 'glen': 59584, 'mountain': 37197, \"summer's\": 37201, 'falling': 37207, \"'tis\": 37212, 'bide': 37220, 'tribute': 37227, 'e': 37257, 'acceptance': 37261, 'breaking': 59034, 'hafta': 37311, 'street': 62933, 'shrugs': 45970, \"beer's\": 40113, 'reopen': 37351, 'crestfallen': 37363, 'changes': 58842, 'nor': 37448, 'pen': 37463, 'parrot': 37467, 'conversation': 63665, 'brief': 37474, 'contact': 37478, 'suicide': 58834, 'hotline': 58699, 'dials': 43561, 'blocked': 37497, 'protecting': 37529, 'investment': 37531, 'cigars': 37574, 'allowed': 50490, 'sleeps': 58417, 'microwave': 37585, 'beans': 37600, 'stupidly': 37611, 'duh': 60012, 'jerk-ass': 37622, 'doy': 37629, 'cheerier': 37643, 'quotes': 58291, 'therefore': 44542, 'darkness': 37675, 'tactful': 37680, 'regulars': 39037, 'remodel': 37694, \"changin'\": 37722, 'skirt': 63317, 'susie-q': 37730, 'face-macer': 37733, 'prepared': 57769, 'trapped': 38369, 'guff': 37800, 'grub': 37812, 'proper': 37822, 'old-time': 37823, 'british': 37902, 'whaaa': 37831, 'rule': 57658, 'britannia': 37838, 'meatpies': 37843, 'lager': 37846, 'pint': 37961, 'classy': 37854, 'asses': 37861, 'so-ng': 37885, 'arm-pittish': 37906, \"renovatin'\": 37925, 'drapes': 37936, \"idea's\": 37944, 'judge_snyder:': 37986, 'lindsay': 37958, 'naegle': 37959, 'ale': 38567, 'mis-statement': 37990, 'allow': 37999, 'credit': 38009, 'numbers': 65431, 'bumpy-like': 38024, 'suds': 64108, 'counterfeit': 38056, 'cat': 58544, 'moe-clone': 38083, 'socialize': 38107, 'moe-clone:': 38176, 'attitude': 56749, 'letters': 48021, 'e-z': 38155, 'needed': 53659, 'clone': 38186, 'oopsie': 38212, 'edna_krabappel-flanders:': 43932, 'weirder': 54513, \"enjoyin'\": 38256, 'adult': 38285, 'tickets': 38312, \"santa's\": 38314, 'sleigh-horses': 38325, 'jerky': 67132, 'sells': 38329, 'impress': 38387, 'record': 51235, \"liftin'\": 38425, 'dumbbell': 38427, 'forty-nine': 38431, 'ninety-nine': 38436, \"lefty's\": 38454, 'victim': 38487, 'hustle': 38506, 'the_rich_texan:': 55095, 'bourbon': 59554, \"breakin'\": 38543, 'nerd': 38550, 'sugar-free': 38565, 'ginger': 51058, 'flat': 38574, 'buds': 38580, 'goldarnit': 38584, 'sissy': 38610, 'life-partner': 38608, 'whup': 38619, 'wrestling': 58569, 'yee-ha': 38635, 'gol-dangit': 38639, \"dimwit's\": 38646, 'kazoo': 38647, 'forehead': 65472, 'head-gunk': 38674, 'hears': 38684, 'cocking': 38686, 'texan': 38696, 're-al': 38776, 'moe-heads': 38797, 'polls': 38812, 'negative': 38818, 'ads': 38820, 'hurting': 38822, 'barely': 63508, 'homeless': 38838, 'bum:': 38847, 'flag': 55380, 'annual': 38905, 'tradition': 51681, 'attempting': 53284, 'sob': 63943, 'w-a-3-q-i-zed': 38950, 'push': 50753, 'mason': 39004, 'moment': 65861, 'arrived': 39024, \"rentin'\": 39029, \"takin'\": 47357, 'las': 39039, 'vegas': 39183, 'nevada': 39044, 'stingy': 39065, 'rat-like': 39067, 'rope': 58903, 'sued': 39092, 'settlement': 39100, 'partially': 39141, 'risqué': 39142, 'plane': 39157, 'soul-crushing': 39159, 'camp': 42230, 'cheat': 39202, 'blackjack': 39192, 'system': 57732, 'nelson_muntz:': 39241, 'haw': 39243, 'nelson': 39248, 'pair': 39282, 'paints': 39294, 'noggin': 39296, 'meanwhile': 39306, \"payin'\": 54366, \"yieldin'\": 39323, 'moe_recording:': 39327, 'ew': 39366, 'considering:': 39373, 'bar-boy': 39422, \"table's\": 39392, 'wobbly': 39393, 'jam': 39396, 'foot': 64139, 'ford': 39414, 'captain': 39416, 'kirk': 39417, \"i'm-so-stupid\": 39477, 'five-fifteen': 39500, 'eternity': 39508, 'fortune': 39512, 'fica': 39516, 'helping': 39518, 'steamed': 39543, 'cappuccino': 39549, '-ry': 39584, 'otherwise': 39625, 'known': 50637, 'bridge': 54286, 'neighbors': 39692, 'wife-swapping': 39699, 'strolled': 39733, 'museum': 39843, 'donation': 39761, 'lewis': 39771, 'coins': 39818, 'notorious': 39788, 'jailbird': 53622, 'idealistic': 39795, 'law-abiding': 39797, 'archaeologist': 39799, 'excavating': 39808, 'mayan': 39810, 'pyramid': 39811, 'unearth': 39815, 'pre-columbian': 39829, 'donate': 39838, 'wangs': 40541, 'statues': 39864, 'motel': 67398, 'handed': 39890, 'awful': 47408, 'dilemma': 39894, 'edner': 39917, \"playin'\": 39930, 'coin': 39951, 'poorer': 39976, 'worldly': 39994, 'possessions': 39995, \"'ceptin'\": 39997, 'nucular': 39999, 'photo': 56228, 'child': 57334, 'obsessive-compulsive': 40040, 'shoots': 45145, 'yee-haw': 40072, 'powered': 40097, 'non-american': 40099, 'workers': 48589, \"tv's\": 40118, 'america': 57680, 'then:': 65637, 'misfire': 40156, 'prolonged': 40170, 'playoff': 40177, \"hobo's\": 40188, 'louie:': 61890, 'owes': 40203, 'ominous': 57718, 'fist': 40227, 'clientele': 61546, \"puttin'\": 40313, 'screws': 40315, \"tony's\": 40367, 'all-all-all': 40378, 'reporter:': 40421, 'stars': 40410, 'firing': 40413, 'pure': 40417, 'irish': 40458, 'polish': 40466, \"drawin'\": 40540, 'marmaduke': 60760, 'heck': 40489, \"challengin'\": 40493, 'sudoku': 40500, 'puzzle': 40510, 'numeral': 40514, 'repeated': 40517, 'column': 40522, 'army': 40585, 'salvation': 40570, 'cocks': 40578, 'stripes': 40591, 'repay': 40608, 'colonel:': 40627, 'fishing': 40654, \"waitin'\": 60953, 'fragile': 56911, \"listenin'\": 40693, 'bursts': 40706, 'published': 40713, 'author': 40714, 'earlier': 40726, 'newly-published': 40730, 'snail': 40757, 'trail': 40758, 'name:': 40779, 'wolfe': 40788, 'bonfire': 40800, 'vanities': 40803, 'coined': 40807, 'phrase': 40809, 'radical': 40811, 'chic': 40812, \"squeezin'\": 40827, \"'roids\": 40829, 'wordloaf': 40847, 'festival': 40848, 'vermont': 40839, 'thrilled': 40844, \"wouldn't-a\": 40888, 'milhouse': 54972, 'greystash': 40940, 'dirt': 59465, 'outlive': 40975, 'fictional': 44559, 'wizard': 40978, \"what'sa\": 41720, 'upn': 41000, 'assert': 41053, 'herself': 41054, 'backbone': 41071, 'notices': 41075, 'fausto': 41155, 'doors': 51882, 'unlocked': 41195, 'beeps': 41207, 'declan': 41229, 'fruit': 41242, 'declan_desmond:': 41366, 'oddest': 41248, 'thing:': 41249, 'affection': 41253, 'knuckle-dragging': 41256, 'sub-monkeys': 41257, \"sippin'\": 41273, 'cuckoo': 41274, 'de-scramble': 41302, 'scrutinizing': 41307, 'shoe': 41313, 'inserts': 41314, \"writin'\": 41324, 'creepy': 41325, 'action': 66977, 'kills': 41361, 'title:': 41400, 'pontiff': 41402, 'gargoyles': 41439, 'good-looking': 41445, 'open-casket': 41461, 'material': 41462, 'pretending': 57073, 'sour': 41513, 'abandon': 55324, 'paparazzo': 41536, 'size': 47935, 'joy': 41558, 'robin': 41573, 'williams': 41574, 'bits': 41599, 'sister': 68932, 'airport': 52013, 'co-sign': 41621, 'mortgage': 44072, 'photos': 41669, \"ladies'\": 41703, 'turlet': 41673, 'dames': 50326, 'attractive_woman_#1:': 41695, 'attractive_woman_#2:': 41707, 'trade': 41711, 'bras': 41712, 'panties': 41714, 'appealing': 41786, 'reason': 60105, 'feelings': 63079, 'volunteer': 41827, 'assume': 41846, 'dentist': 41859, 'patient': 48561, 'mary': 41891, 'weirded-out': 61704, 'milhouse_van_houten:': 55032, \"school's\": 41917, 'bake': 41920, \"betsy'll\": 41926, 'runs': 41936, 'depending': 41988, 'strips': 42005, 'eggshell': 42007, 'malabar': 42011, 'ivory': 42012, 'mediterranean': 42016, 'ecru': 42017, 'tow': 42042, 'fanciest': 67397, 'lobster-politans': 42075, 'towed': 42198, 'smelling': 42112, 'one-hour': 42119, 'zone': 42121, 'eighty-one': 42138, 'correction': 42134, 'lobster-based': 42151, 'designer': 42152, 'joke': 42212, 'laughter': 42165, 'unhook': 42169, 'moving': 42192, 'tow-talitarian': 42206, 'totalitarians': 42216, 'stalin': 42222, 'grandmother': 60647, 'forced': 42228, 'labor': 42229, 'insensitive': 42241, 'bully': 46245, 'winch': 42257, 'enforced': 42269, 'fatty': 42278, 'ralph': 42288, 'ralphie': 42293, 'tow-joes': 42315, 'territorial': 42326, 'mel': 63294, 'bite': 67661, \"family's\": 42365, 'mixed': 47581, 'powerful': 61928, 'forget-me-shot': 42882, 'means': 64343, 'remembers': 42450, 'process': 42461, 'splash': 42469, 'jaegermeister': 42471, 'add': 42474, 'sloe': 42475, 'triple-sec': 42478, 'quadruple-sec': 42480, 'gunk': 42482, \"dog's\": 42485, 'absolut': 42488, 'stripe': 42505, 'aquafresh': 42507, 'funniest': 42515, 'venom': 42521, 'louisiana': 42524, 'loboto-moth': 42525, 'sweetie': 42531, 'stir': 51729, 'pregnancy': 42541, 'positive': 59440, 'presto:': 42555, 'ultimate': 42580, 'bleacher': 42582, 'slight': 44985, 'menace': 42586, 'swig': 42589, 'wipes': 42590, 'entering': 42602, 'forget-me-drinks': 42610, 'wipe': 42873, 'rickles': 42628, 'arabs': 42630, 'gibson': 42638, 'mexicans': 42640, 'latin': 51150, 'grammys': 42659, 'hispanic_crowd:': 42662, 'jeers': 42674, 'sternly': 42714, 'disturbance': 42720, 'filed': 42775, 'complaint': 55690, 'infor': 42787, 'ripper': 42814, 'doppler': 42822, \"queen's\": 42825, 'surgeonnn': 42827, 'piling': 42928, 'unkempt': 42943, 'obvious': 52077, 'thighs': 47946, 'attractive': 42967, 'spits': 42982, 'bottoms': 42987, 'retain': 43004, 'image': 62531, 'finding': 60896, 'misconstrue': 43017, \"cuckold's\": 43023, 'horns': 43024, 'moon-bounce': 43058, 'amiable': 43063, 'newsies': 43074, 'scruffy_blogger:': 43084, 'internet': 44082, 'access': 43089, 'mouse': 57410, 'politicians': 43118, 'media': 45346, 'issues': 43134, 'declare': 43140, 'frontrunner': 43142, 'mansions': 43148, 'abolish': 43155, 'democracy': 43156, 'dictator': 43173, 'juan': 43176, 'perón': 43177, 'disappeared': 43186, 'madonna': 43194, 'candidate': 43266, 'dennis': 43237, 'kucinich': 43238, 'dennis_kucinich:': 43250, 'twerpy': 43243, 'unbelievably': 43270, 'pockets': 66074, 'share': 60347, 'manuel': 43360, 'fake': 43367, 'moustache': 43368, 'ees': 43376, 'lurleen': 43454, 'jamaican': 47942, 'lurleen_lumpkin:': 43475, 'mild': 43404, 'backing': 43420, 'reminded': 43433, 'rock': 58225, 'quarry': 43462, 'stones': 43466, 'woodchucks': 43469, \"someone's\": 53700, 'mailbox': 43502, 'cell': 43558, 'l': 57648, 'butter': 43590, 'tasty': 43595, 'almond': 43599, 'listens': 43605, 'hangs': 67091, \"lenny's\": 44293, 'shows': 61748, 'midge': 62053, 'sneaky': 54644, 'pity': 62582, 'compromise:': 43776, 'luckiest': 43813, 'remaining': 43832, 'scratcher': 43833, 'winnings': 60308, 'kick-ass': 43837, 'shush': 43858, 'krabappel': 53083, 'difficult': 43900, 'propose': 43905, 'willing': 43911, 'halvsies': 43914, 'lugs': 43936, 'splendid': 43968, 'discuss': 55763, 'weather': 43977, 'gently': 59374, 'way:': 44035, 'unlike': 45914, 'tying': 44065, 'crippling': 44071, 'refinanced': 44075, 'twenty-six': 44077, 'cowboy': 44083, 'encouraged': 44108, 'compared': 56479, 'half-day': 44121, 'encouraging': 44126, 'decent': 50453, 'widow': 44143, 'option': 44148, 'pep': 44161, 'squad': 44162, 'cheered': 44164, 'runners': 44173, 'nineteen': 60142, 'ninety-seven': 44177, 'break-up': 44194, 'doreen': 44224, 'cheated': 44227, 'showered': 44241, 'soaps': 44247, 'massage': 44249, 'oils': 44250, 'doreen:': 44297, \"marge's\": 45290, 'maiden': 44349, 'nicer': 44373, \"she'll\": 44394, 'parenting': 44414, 'childless': 44417, 'available': 58828, 'goodwill': 44438, 'attached': 44439, 'direction': 44476, \"mecca's\": 44477, \"don'tcha\": 44483, 'oughtta': 44488, 'dint': 44492, \"son's\": 44495, \"bashir's\": 44503, 'derek': 44507, 'jeter': 44508, 'mariah': 44510, 'carey': 44511, 'bashir': 44621, 'muslim': 44539, 'espousing': 44562, 'view': 44566, 'fbi_agent:': 44569, 'fayed': 44575, 'arab_man:': 44595, 'statue': 44589, \"liberty's\": 44591, 'dress': 61547, 'principles': 44627, 'discriminate': 44631, 'employment': 44637, 'housing': 44639, 'patriotic': 44645, 'bauer': 44671, 'grimly': 64794, 'bees': 44907, 'sanctuary': 44715, 'lock': 67806, 'super-tough': 44814, 'africanized': 44815, 'african': 64696, 'honeys': 44829, 'combine': 44868, 'environment': 44856, 'dna': 44870, 'strains': 44873, 'species': 44877, 'protesting': 44912, 'meant': 47729, 'inclination': 44933, 'queen': 64240, 'anonymous': 44956, 'multiple': 61090, 'partners': 44960, 'privacy': 44973, 'buzziness': 44982, 'sniffles': 68626, 'vance': 45075, 'connor-politan': 45021, 'oh-so-sophisticated': 45032, 'connor': 45054, 'kidneys': 45062, 'election': 67459, 'guilt': 45097, 'haircuts': 45126, 'graves': 45138, 'dig': 45192, 'ballot': 45195, 'al_gore:': 45243, 'gore': 45210, 'presidential': 45219, 'stolen': 45221, 'nobel': 45268, 'prize': 45259, 'alfred': 45267, 'falsetto': 45264, 'albert': 45274, 'landlord': 45291, 'shower': 48764, 'and-and': 45302, 'getaway': 45308, 'flanders:': 45341, 'expose': 45351, 'dateline': 45368, 'nominated': 45388, 'peabody': 45391, 'exclusive:': 45407, 'forty-two': 45415, 'evergreen': 45416, 'terrace': 45417, 'tiny': 49887, 'slice': 51739, 'suburban': 45423, 'actress': 45430, 'billiard': 45453, 'sadder': 54967, \"spiffin'\": 45479, 'inquiries': 45501, 'enabling': 45553, 'yo': 55903, 'mags': 45573, 'playful': 46030, 'taught': 45588, 'abcs': 45591, 'a-b-': 45596, 'forgets': 45598, 'p-k': 45602, \"s'pose\": 45618, \"wonderin'\": 52172, \"cleanin'\": 45626, 'month': 45679, \"she'd\": 45690, 'defeated': 61939, 'stood': 45725, 'maya:': 45989, 'regretful': 45749, 'correct': 62700, 'term': 45762, 'pleased': 64787, 'tidy': 45812, 'maya': 46345, 'benjamin': 45843, 'life-sized': 45872, 'legoland': 45880, 'cable': 68789, \"stealin'\": 45920, 'chinese_restaurateur:': 45932, 'espn': 45937, 'ling': 45951, 'chow': 45952, 'whether': 68332, 'passenger': 46007, 'incredible': 46041, 'awww': 56129, 'thought_bubble_lenny:': 46094, \"somethin':\": 46109, 'generally': 46117, 'limericks': 46148, 'coast': 46167, 'massachusetts': 46169, 'nantucket': 46175, 'unusual': 46188, 'personal': 46189, 'characteristic': 46190, 'simplest': 46215, 'rhyme': 60718, 'a-a-b-b-a': 46221, 'dumbass': 46223, 'babies': 65904, 'whistling': 46237, 'nonchalantly': 46238, 'chained': 46323, 'tomato': 46335, 'tomahto': 46337, 'comedies': 46358, 'reckless': 46369, 'gesture': 46370, 'blows': 46391, 'sidelines': 46453, \"who'da\": 46500, 'chapter': 46524, 'un-sults': 46608, 'insults': 46531, 'disguised': 46532, 'courage': 46919, 'suspenders': 46552, 'circus': 46558, 'clown-like': 46579, 'insecure': 46587, 'envy-tations': 46616, 'hate-hugs': 46618, 'spamming': 46620, 'faint': 46622, 'praise': 46623, 'frozen': 46637, 'clearly': 55613, 'toledo': 46737, 'take-back': 46738, \"people's\": 46749, 'eager': 46817, 'reviews': 46884, 'happily:': 46833, 'community': 46839, 'playhouse': 46840, 'bathed': 46842, 'hibbert': 47121, 'banquo': 46871, 'glowers': 46876, 'sticking-place': 46922, 'fail': 46926, 'x-men': 46937, '2': 46938, 'macbeth': 46946, 'mac-who': 46950, 'gulliver_dark:': 46955, 'unlucky': 47377, 'bedridden': 46991, 'unable': 47000, 'toe': 47007, 'thought_bubble_homer:': 47031, 'paintings': 47027, 'melodramatic': 47033, 'somewhere': 54759, 'nonsense': 47050, 'training': 47060, 'met': 66454, 'bleeding': 47126, \"murphy's\": 47128, \"pressure's\": 47169, 'yap': 66578, 'bon-bons': 47215, 'declared': 47260, 'microbrew': 47289, 'cobra': 47305, 'solves': 47306, 'tries': 63771, 'cupid': 47326, 'bow': 64372, 'unattended': 47353, 'relax': 47399, 'wing': 48096, 'fl': 47450, 'anguished': 55631, 'helllp': 58608, 'ventriloquism': 47503, 'approval': 47523, 'cure': 47537, 'ails': 47539, 'talk-sings': 47882, 'tastes': 47576, 'cuddling': 47564, 'steaming': 47579, 'cocoa': 47580, 'rainbows': 47583, 'surprised/thrilled': 47590, 'full-bodied': 47600, 'full-blooded': 47609, 'lovely': 63779, 'harmony': 47632, 'loyal': 47638, 'hemoglobin': 47662, \"disrobin'\": 47668, 'rosey': 47688, 'cozy': 63747, 'bubbles-in-my-nose-y': 47692, \"mo'\": 47701, 'kang:': 48406, 'musical': 47709, 'kodos:': 47715, 'measure': 47718, 'distance': 47719, 'unrelated': 47751, 'seductive': 47755, 'cologne': 47761, 'shaved': 47763, 'knuckles': 47765, 'hoping': 63564, 'shakes': 47780, 'handwriting': 47809, 'idioms': 47813, 'begins': 66946, 'midge:': 47824, 'youse': 64157, 'gayer': 47877, 'occurred': 47893, 'timbuk-tee': 47912, 'fast-paced': 47919, 'nibble': 47940, 'teriyaki': 47945, 'frenchman': 47958, 'spoon': 47961, 'duke': 47964, 'amnesia': 48060, 'missing': 48068, 'squeeze': 48076, 'irishman': 48110, 'pretends': 48113, \"o'reilly\": 48131, 'radiator': 48154, 'rebuilt': 48163, 'briefly': 48173, 'uncreeped-out': 48190, 'mines': 48205, 'torn': 55267, 'warn': 62068, 'taste': 48241, 'romance': 48243, 'perverse': 48246, 'hearse': 48258, 'civil': 48271, 'nurse': 48273, 'proof': 48307, 'simultaneous': 48316, 'i/you': 48318, 'finale': 48330, 'possibly': 61106, 'indicates': 48370, 'half-beer': 48374, 'enjoyed': 48392, \"year's\": 51145, 'halloween': 48395, 'treehouse': 48398, 'horror': 48400, 'xx': 48403, 'shhh': 48407, 'habitrail': 48420, 'donuts': 48428, 'meals': 48437, 'philosophical': 48470, 'stranger:': 48545, 'southern': 48487, 'indeed': 48542, 'gator': 48550, 'mccall': 48551, 'gator:': 48645, 'corporate': 59700, 'recruiter': 48567, 'specializes': 48569, 'nuclear': 67603, 'headhunters': 48580, 'valuable': 48594, 'industry': 62082, 'protesters': 48611, 'marched': 48613, 'plants': 48619, 'radiation': 48624, \"poisonin'\": 48625, 'thoughtful': 62803, 'passports': 48638, 'awesome': 53648, 'loafers': 48681, 'hooray': 48719, 'nap': 48757, 'awake': 48760, 'meteor': 48763, 'flexible': 48773, 'marshmallow': 48889, 'dumbest': 48930, \"stabbin'\": 48947, 'humanity': 48980, 'decency': 49009, 'extremely': 63187, 'mocking': 49001, 'official': 49014, 'releasing': 49029, 'hounds': 49030, 'releases': 49033, 'wolverines': 49034, 'horses': 49061, \"eatin'\": 49064, 'wish-meat': 49065, 'bust': 49090, 'exchanged': 49125, 'whispered': 49146, 'huddle': 49147, 'bitterly': 68886, 'nursemaid': 49190, 'saint': 64737, \"elmo's\": 49227, 'reunion': 49230, 'andrew': 49232, 'mccarthy': 49233, 'attend': 49238, 'lied': 49246, 'itchy': 49263, 'type': 54682, 'planted': 49312, 'lou:': 66282, 'chair': 49356, 'refill': 49392, 'cozies': 49459, 'sassy': 49469, 'cushions': 49471, 'cushion': 49477, 'flash': 49486, 'drives': 49487, 'data': 49499, 'hammy': 49502, 'estranged': 49530, \"tomorrow's\": 49556, 'forecast': 49557, 'is:': 54255, 'partly': 49574, 'cloudy': 49570, 'sunny': 49575, 'guessing': 49580, 'golf': 49598, 'ball-sized': 49599, 'hail': 49600, 'continuing': 52939, 'thunder': 49595, 'storms': 49596, 'exultant': 49605, 'woo-hoo': 61437, 'ahem': 49614, 'electronic': 62128, 'wagering': 49627, 'cameras': 56720, 'installed': 49640, \"america's\": 49643, \"blowin'\": 49646, 'homeland': 49649, 'zero': 54635, 'mm-hmm': 49681, 'tsk': 49709, 'tsking': 49714, 'presided': 49750, 'suave': 49758, 'debonair': 49760, 'offa': 49771, \"narratin'\": 49775, 'tale': 62318, 'restroom': 49855, 'cricket': 49821, 'uniforms': 49822, 'rain': 49831, 'rules': 60992, 'calm': 62556, \"'pu\": 49847, 'she-pu': 49849, 'everyday': 49876, 'mimes': 49885, 'sitar': 49895, 'smallest': 55557, 'saving': 49906, 'gheet': 49912, 'sympathetic': 56027, 'darjeeling': 49944, 'limited': 49945, 'slightly': 51796, 'low-blow': 49987, 'boxer:': 49994, 'pre-recorded': 49996, 'nards': 50008, 'rug': 50029, \"mother's\": 50057, 'panicked': 50063, 'carny:': 50076, 'teacup': 50077, 'whispers': 50086, 'rutabaga': 50093, 'soup': 62912, 'putty': 50122, 'padre': 58253, 'innocuous': 50135, 'flashbacks': 50138, 'grim': 61498, 'ferry': 50162, 'pointedly': 50186, 'lovejoy': 50189, 'ralph_wiggum:': 50197, 'popping': 50199, 'man_with_crazy_beard:': 50249, 'lloyd': 57639, 'outrageous': 50269, 'beard': 50270, 'expense': 50287, 'beards': 50295, \"askin'\": 50313, 'scatter': 50396, 'cockroaches': 50399, 'candy': 60661, 'scary': 50440, 'rip': 50470, 'stretch': 50479, 'tee': 50482, 'california': 50493, 'judgments': 50502, 'legally': 50521, 'beep': 50547, 'side:': 50559, 'fox': 53089, 'murdoch': 50603, 'rupert_murdoch:': 50606, 'jay': 50614, 'leno': 50615, 'jay_leno:': 50619, 'iran': 50628, 'weapon': 50636, 'rig': 50646, 'leak': 50661, 'disappear': 50662, 'nbc': 50667, 'howya': 50685, 'strategy': 50715, 'button-pusher': 50735, 'obama': 50765, 'answers': 66752, 'frustrated': 61311, 'booth': 50804, 'gary:': 51062, 'cliff': 50814, 'lee': 50815, 'zack': 50820, 'grenky': 50822, 'grienke': 50858, 'completely': 50832, 'colossal': 50838, 'exception:': 50839, 'fourth': 65776, 'inning': 50843, 'domed': 50850, 'bunion': 50864, 'notably': 50871, 'ineffective': 50872, 'sport': 61932, 'portentous': 50896, 'dexterous': 50908, 'understood': 50911, 'poin-dexterous': 50914, 'laid': 50924, 'doug:': 51052, 'key': 50931, 'sabermetrics': 50971, 'developed': 50948, 'statistician': 50950, 'bill_james:': 50957, 'taxes': 50966, 'eight-year-old': 50975, 'ballclub': 50980, 'sagacity': 50983, 'stengel': 50986, 'single-mindedness': 50989, 'steinbrenner': 50992, 'stein-stengel-': 50998, 'stats': 51019, 'ratio': 51027, 'occupied': 51031, 'sobo': 51044, 'conversion': 51055, 'factor': 51056, 'refreshingness': 51068, 'effervescence': 51070, 'benjamin:': 51073, 'minus': 51076, 'rueful': 51082, 'advertise': 51087, 'specials': 51090, 'scientific': 51092, 'annus': 51134, 'horribilis': 51135, \"others'\": 51687, 'resolution': 51146, 'fixes': 51167, 'fixed': 62176, 'courthouse': 51224, 'compare': 51256, 'exquisite': 51275, 'reward': 51279, 'planned': 51282, 'scotch': 51307, 'addiction': 51347, 'compels': 51348, 'executive': 51363, 'assistant': 53751, 'average-looking': 51386, '_burns_heads:': 51394, 'admiration': 51433, 'self-made': 51441, 'suspect': 51462, 'hangout': 51486, 'proposing': 61538, 'offense': 51529, 'whatchamacallit': 51549, 'swishkabobs': 51555, \"grandmother's\": 51618, 'urinal': 51620, \"getting'\": 51643, 'renovations': 51650, \"friend's\": 51699, 'lainie:': 51707, 'carlotta:': 51716, 'drop': 52269, 'jägermeister': 51733, 'pink': 51736, 'lemonade': 51737, 'strawberry': 51742, 'chapstick': 51743, \"cupid's\": 51748, 'wazoo': 51758, 'drains': 51773, 'plans': 60305, 'scram': 51827, 'crinkly': 51864, 'weak': 54302, 'opening': 63982, 'hitler': 51918, 'eva': 51903, 'braun:': 51904, \"man's_voice:\": 51921, 'huhza': 51937, '_kissingher:': 51997, '3': 51957, 'whoopi': 51961, 'seminar': 52009, 'motor': 52014, 'lodge': 52015, 'tornado': 52029, 'kissingher': 52038, 'earth': 52059, 'casting': 52092, 'pall': 52094, 'dungeon': 52107, 'serum': 52130, 'walther_hotenhoffer:': 52324, 'walther': 52159, 'hotenhoffer': 52160, 'pharmaceutical': 52165, 'occupation': 52182, 'renders': 52201, 'tolerable': 52204, 'normals': 52207, 'irrelevant': 52227, 'stern': 58067, 'elaborate': 52236, 'extract': 52247, 'synthesize': 52252, 'scrutinizes': 52260, 'waltz': 56593, 'grease': 52309, 'suspicious': 58361, 'germans': 52342, 'roz:': 53826, 'text': 57127, 'when-i-get-a-hold-of-you': 52434, 'dammit': 52439, 'typed': 52442, 'f': 62960, 'rapidly': 52455, 'delete': 58490, 'donated': 52470, 'haiti': 52474, '_zander:': 52621, 'burps': 68710, \"y'see\": 52548, 'pushes': 52555, 'strangles': 52570, 'relieved': 64097, 'suing': 56450, 'therapist': 60938, 'sue': 52622, 'hollowed-out': 52631, 'tree': 57309, 'contented': 52637, 'skeptical': 57882, 'therapy': 66729, 'phony': 52686, 'grin': 52687, 'plastered': 52688, 'foibles': 52738, 'freaky': 52757, 'slipped': 52798, 'mickey': 52801, 'churchy': 52805, 'boneheaded': 52869, 'brainheaded': 52882, 'fence': 52902, 'relationship': 56810, 'twin': 54042, 'hall': 54800, 'sheet': 52951, 'wistful': 52959, 'prayers': 52966, 'choked': 52971, 'dreamed': 63068, 'iddilies': 52983, 'diddilies': 52985, 'christian': 53006, 'wuss': 53025, 'confession': 53037, 'make:': 53039, 'solely': 53046, 'noble': 53049, 'intention': 53050, 'two-thirds-empty': 53135, 'poetry': 53148, 'multi-purpose': 53163, 'email': 53180, 'edna-lover-one-seventy-two': 53183, 'lowest': 53188, 'joey_kramer:': 53224, \"edna's\": 53210, 'kramer': 53375, 'drummer': 53219, 'gulps': 53264, 'plucked': 53266, 'wikipedia': 53295, 'frankenstein': 53310, 'neighbor': 53354, 'neighboreeno': 53345, 'plain': 53353, 'bagged': 53387, 'tiger': 53389, 'wayne:': 53651, 'completing': 53429, \"other's\": 53431, 'prompting': 53427, 'sen': 53435, 'cesss': 53449, 'surprising': 53456, 'entrance': 53457, 'jewelry': 53466, 'pronto': 53468, 'drawer': 53490, \"linin'\": 53499, 'presidents': 53503, 'upgrade': 53539, 'wayne': 53633, 'commanding': 53553, 'appropriate': 53584, 'reaction': 53585, 'sooo': 53598, 'fresco': 53608, 'stealings': 53629, \"speakin'\": 53671, 'farthest': 53690, 'narrator:': 57764, 'drove': 53726, 'roz': 53738, 'ditched': 53744, 'lady-free': 53800, 'eighty-three': 53802, 'souvenir': 53861, 'sizes': 53870, 'hare-brained': 53896, 'schemes': 53897, 'pillows': 53903, 'adopted': 53915, 'capuchin': 53917, 'monkey': 54502, 'bonding': 53927, 'phase': 53928, 'crew': 65572, 'safecracker': 53954, 'caper': 53963, 'fantasy': 53968, 'novel': 53969, 'brag': 53982, 'publish': 53989, 'modestly': 53991, \"children's\": 60726, 'books': 65021, 'lucinda': 54018, 'placed': 54019, 'fifth': 54021, 'shard': 54022, 'stained-glass': 54025, 'read:': 54031, \"'your\": 54032, 'parents': 54033, \"'\": 54037, 'gregor': 54038, 'understood:': 54047, 'journey': 54049, 'reader': 54065, 'selection': 54067, 'steampunk': 54080, 'frink-y': 54095, 'mock-up': 54097, 'title': 54104, 'twins': 56159, 'underbridge': 54155, 'academy': 54156, 'neil_gaiman:': 54135, 'tuna': 54140, 'itself': 54143, 'square': 54173, 'kansas': 54168, 'golden': 54176, 'vulnerable': 58861, 'literary': 54202, 'lis': 54208, 'milhouses': 54223, 'jacksons': 54229, 'xanders': 54231, 'aidens': 54234, 'dreamy': 54239, 'aiden': 54247, 'copy': 64023, 'vampire': 54264, 'transylvania': 54267, 'prep': 54268, 'trolls': 54279, 'vampires': 54333, 'brooklyn': 54285, 'fuzzlepitch': 54293, 'bloodball': 54296, 'lame': 54305, 'publishers': 54312, 'sistine': 54325, 'chapel': 54326, 'mural': 54342, 'hems': 54349, 'haws': 54351, \"hasn't\": 65804, 'watched': 54390, 'bluff': 54398, 'conversations': 54404, 'annie': 54410, 'meaning': 54427, 'lenny:': 54493, 'carl:': 54566, 'brain-switching': 54465, 'ceremony': 54466, 'carll': 54518, 'sleeping': 54485, 'switched': 54498, 'dashes': 54550, 'lennyy': 54554, 'website': 56410, 'safer': 56437, 'sheets': 54636, 'wind': 54639, 'dignified': 54654, 'stumble': 54668, 'typing': 54697, 'lead': 54741, 'pledge': 54745, 'allegiance': 54747, 'conclude': 54767, 'thanking': 54769, 'hosting': 54774, 'fumigated': 54781, 'bedbugs': 54790, 'er': 54804, 'adjourned': 54809, 'convenient': 54816, 'duty': 66234, 'sangre': 54846, 'de': 54847, 'los': 54848, 'muertos': 54849, 'friend:': 54853, 'mexican': 54854, 'mexican_duffman:': 54858, 'ho-la': 54866, 'pepto-bismol': 54901, 'facebook': 54903, 'intense': 63188, 'scrubbing': 54939, 'rag': 55301, 'hardy': 54962, 'unhappy': 54983, 'friendship': 55028, 'taxi': 55033, \"crawlin'\": 65182, 'wears': 55051, 'nemo': 55055, 'brace': 55058, 'bar_rag:': 55432, 'lear': 55133, 'be-stainèd': 55142, 'swatch': 55143, 'gentles': 55152, 'begin': 55155, 'medieval': 55158, 'self-satisfied': 55167, 'tapestry': 55170, 'sponge:': 55175, 'gutenberg': 55182, 'bartholomé:': 55186, 'maman': 55220, 'failed': 59714, 'lise:': 55219, 'marguerite:': 55239, 'overstressed': 55224, 'helps': 55256, 'recap:': 55262, 'unjustly': 55266, 'lofty': 55270, 'perch': 55271, 'wound': 55276, 'barter': 55280, 'persia': 55282, 'raggie': 55327, 'cheese': 65091, 'degradation': 67754, 'continued': 55369, 'enterprising': 55374, 'seamstress': 55375, 'fledgling': 55383, 'nation': 56445, 'thousand-year': 55407, 'grace': 55410, 'predictable': 55427, 'startled': 55434, 'sensitivity': 55499, 'jobless': 55502, 'washouts': 55503, 'error': 55532, 'blamed': 55537, 'violin': 55615, 'rent': 55570, 'pizzicato': 55607, 'buyer': 55612, 'specified': 55614, 'heading': 62407, 'stepped': 55637, 'done:': 55659, 'arguing': 55668, 'guts': 55709, 'rationalizing': 55728, 'pack': 55768, 'raccoons': 58234, 'adjust': 55815, 'runaway': 55819, 'monorails': 55820, 'nascar': 55824, 'gordon': 55827, 'jeff_gordon:': 55832, \"plank's\": 55870, 'land': 55883, 'traitors': 55887, 'lou': 55899, 'eliminate': 55909, 'bulldozing': 55916, 'tire': 55918, 'sinkhole': 55923, 'administration': 55941, 'solved': 55943, 'filled': 63557, 'fears': 55956, 'most:': 55957, \"s'okay\": 56002, 'nuked': 56020, 'swimmers': 56022, 'shame': 56033, 'wrap': 56045, 'plums': 56047, 'tin': 56049, 'philosophic': 56057, 'samples': 56082, 'shelbyville': 56089, 'sperm': 56090, 'necklace': 56125, 'eww': 56136, 'fund': 56195, 'rolled': 56259, 'lend': 56290, 'sesame': 56299, 'kermit': 56336, 'trench': 56321, 'frog': 56342, 'frogs': 56331, 'keeps': 66039, 'settles': 56351, 'woe:': 56380, 'gamble': 56390, \"daughter's\": 56393, 'poker': 56433, 'fdic': 56420, 'grubby': 56424, 'site': 56434, 'onion': 56453, 'rings': 56454, 'badmouth': 56475, 'country': 56477, 'prettiest': 56503, \"aristotle's\": 56526, 'poetics': 56527, 'rice': 56579, 'promotion': 56581, 'dan_gillick:': 56723, 'poured': 56624, 'hooky': 56645, 'throats': 56677, 'grind': 56679, 'crunch': 56684, 'nature': 56714, 'dipping': 56738, 'edge': 56757, 'groveling': 56764, 'brown': 56801, 'wiggle-frowns': 56802, 'abusive': 56809, 'cowardly': 66866, 'tolerance': 56852, 'dejected_barfly:': 56858, 'slurred': 56862, 'hammock': 56919, 'bleak': 56939, 'outlook': 59333, 'icy': 56946, 'chill': 56947, 'dropping': 56953, 'janette': 56969, 'cheryl': 56971, 'rotten': 56990, 'pretend': 57011, 'improv': 57020, 'imaginary': 57029, 'motorcycle': 57044, 'belly': 62904, 'chip': 57057, 'ends': 57074, 'skydiving': 57120, \"pullin'\": 57139, 'ripcord': 57151, 'app': 57152, 'random': 57185, 'occurrence': 57186, 'reached': 58694, 'squeezed': 57198, 'sap': 57200, \"choosin'\": 57206, 'adequate': 57225, 'carnival': 57259, 'so-called': 57536, 'miracle': 57281, \"tree's\": 57292, 'disillusioned': 57330, '7-year-old_brockman:': 57356, 'reporter': 57341, 'kenny': 57342, 'brockelstein': 57343, 'investigating': 57344, 'cartoons': 57375, 'thirty-three': 57378, 'short_man:': 57381, 'gruff': 57383, 'muttering': 58575, 'rancid': 57423, 'innocence': 57426, 'plywood': 57439, 'man_with_tree_hat:': 57446, 'hoax': 57451, 'tree_hoper:': 57454, 'hats': 57468, 'crappy': 57506, 'pretentious_rat_lover:': 57518, 'manchego': 57520, 'aziz': 57522, 'despite': 64359, 'civilization': 57668, 'anarchy': 57663, 'lurks': 57540, 'racially-diverse': 57547, 'network': 57552, 'lloyd:': 57822, 'experienced': 57563, 'w': 57642, 'r': 58950, 'acronyms': 57594, 'kinderhook': 57632, 'collapse': 57682, 'rome': 57689, 'inexorable': 57706, 'march': 57707, 'progress': 57709, '_eugene_blatz:': 57727, 'slaves': 57729, 'supermarket': 57736, 'starve': 57740, 'unsourced': 57778, 'undated': 57780, 'convinced': 57783, 'beyond': 57785, 'suspended': 57839, 'voodoo': 57861, 'curse': 57862, 'gestated': 57865, 'popped': 57872, 'acquitted': 57909, 'nightmare': 57914, 'in-ground': 57928, \"readin'\": 65332, 'shades': 57976, 'grey': 57978, 'chicks': 60892, 'what-for': 57995, 'fiction': 58042, 'sheriff': 58047, 'kissed': 58055, 'said:': 58060, 'imitating': 58062, 'griffith': 58064, \"'now\": 58069, 'aunt': 58071, 'asks': 58073, \"fishin'\": 58080, \"hole'\": 58081, 'wooden': 58110, 'argue': 58125, 'stirrers': 58128, '_hooper:': 58408, 'theater': 64978, 'holy': 58156, 'faiths': 58171, 'easy-going': 58184, 'offshoot': 58185, 'protestantism': 58187, 'handler': 58207, \"thing's\": 58221, 'rims': 58245, 'ribbon': 58267, 'cherry': 58276, 'blurbs': 58302, 'sedaris': 58310, 'flack': 58314, 'pews': 58322, 'deacon': 58358, 'catholic': 58370, 'priest': 58539, 'sexton': 58387, 'rector': 58391, 'whim': 58447, \"nothin's\": 58488, 'important': 63132, 'mid-conversation': 58515, 'padres': 58524, 'tigers': 58527, 'polygon': 58553, 'hexa-': 58557, 'octa-': 58559, 'decide:': 58567, 'loudly': 58606, \"beggin'\": 58640, 'legend': 58686, 'warm_female_voice:': 58822, 'buzz': 58696, 'recorded': 58704, 'options': 58707, 'carefully': 58714, 'committing': 58723, 'vacuum': 58801, 'cleaner': 58802, 'press': 58805, 'life-extension': 58829, 'male_singers:': 58833, 'painless': 58836, 'brings': 58839, 'delays': 58856, 'ron': 58874, 'moe-ron': 58882, 'tie': 63170, 'libraries': 58937, 'newspaper': 58939, 'rods': 58940, 'compressions': 58962, 'gees': 58966, 'singing/pushing': 58972, \"stayin'\": 58998, 'living': 59020, 'fools': 59025, 'belong': 64187, 'lease': 59134, 'post-suicide': 59170, 'afterglow': 59171, 'shorter': 59173, 'applesauce': 59203, 'leaving': 59219, 'choked-up': 59273, 'passes': 59302, 'reentering': 59352, 'noosey': 59367, 'noose': 59417, 'worldview': 59441, 'cleaning': 59446, 'growing': 59451, 'carpet': 59458, 'layer': 59463, 'congoleum': 59469, 'hardwood': 59473, 'jig': 59483, 'improved': 59502, 'non-losers': 59513, 'getcha': 59531, 'glen:': 59734, 'aged': 59540, 'ken:': 59745, 'venture': 59603, 'capitalists': 59604, 'dreams': 65693, 'mostly': 59615, 'kentucky': 59642, 'kool': 59643, 'aid': 59644, 'fantastic': 59678, 'startup': 59692, 'branding': 59695, 'specialists': 59696, 'touch': 59709, 'rafter': 59791, 'comforting': 59793, 'holidays': 59805, 'expensive': 59825, 'beer:': 59826, 'platinum': 59828, 'paste': 59841, 'hairs': 59847, 'youth': 59854, 'babar': 59876, 'elephants': 59913, 'confidential': 59892, 'cousin': 59897, 'celeste': 59899, 'takeaway': 59907, 'royal': 59912, 'trainers': 59915, 'average': 59922, 'schmoe': 59923, \"can't-believe-how-bald-he-is\": 59945, 'science': 59981, 'exhibit': 59982, 'brothers': 64839, 'hunger': 60073, \"games'd\": 60074, 'womb': 60079, 'life:': 60094, 'ninety-six': 60096, \"number's\": 60101, 'twenty-two': 60144, 'sixty-nine': 60146, 'winning': 60134, 'celebrate': 60190, \"ragin'\": 60194, 'mini-dumpsters': 60219, 'wings': 60224, 'gasoline': 60255, 'build': 60313, 'swimming': 60318, 'freaking': 60324, \"cashin'\": 60365, \"carl's\": 60535, 'safety': 60424, 'ripped': 60430, 'tense': 60463, 'voicemail': 60472, 'offensive': 60483, 'sickened': 60490, 'moolah-stealing': 60519, 'jackpot-thief': 60520, \"something's\": 60529, 'reflected': 60530, 'lenses': 60533, 'sunglasses': 60536, 'geyser': 60553, 'strokkur': 60596, 'geysir': 60597, 'minors': 60675, 'fat_in_the_hat:': 60680, 'pawed': 60684, 'skunk': 60691, 'furry': 60702, 'knit': 60747, 'thnord': 60750, 'leathery': 60753, 'spied': 60900, 'hidden': 60801, 'selfish': 60810, 'radioactive': 60842, 'hellhole': 60843, 'superpower': 60854, 'whoa-ho': 60883, 'looooooooooooooooooong': 60906, 'experience': 60907, 'schedule': 60933, 'hers': 60941, 'bump': 66202, 'ideas': 60970, 'divorced': 60980, 'senator': 61127, 'senators': 61108, 'reliable': 61085, 'source': 61067, 's-a-u-r-c-e': 61070, 'touches': 61076, 'earpiece': 61077, 'senators:': 61118, 'abercrombie': 61122, 'billingsley': 61125, 'beaumont': 61128, \"plaster's\": 61138, 'flaking': 61139, 'lay': 61194, \"stallin'\": 61203, 'groans': 61215, 'squeals': 61241, 'omigod': 61279, 'brother': 64806, 'liser': 61355, 'cletus_spuckler:': 61448, 'conditioning': 61465, 'barkeeps': 61488, 'gin-slingers': 61490, 'beer-jerks': 61493, 'compete': 61517, 'stores': 61521, 'hooch': 61526, 'cap': 61533, 'superhero': 61607, 'masks': 61560, 'uninhibited': 61564, 'invulnerable': 61567, 'shuts': 61599, 'nick': 61619, 'fury': 61620, 'batmobile': 61629, 'wolveriskey': 61633, \"'ere\": 61635, 'portfolium': 61642, \"boy's\": 61652, 'knock-up': 61655, 'powers': 61656, 'created': 61665, 'virility': 61688, 'virile': 61699, \"brady's\": 61727, 'libido': 61728, 'rocks': 61758, 'sets': 61764, 'legs:': 61812, 'kidnaps': 61834, 'grateful': 61842, \"must've\": 61858, 'corn': 61881, 'pigs': 67299, 'eighty-five': 61902, 'goal': 61905, 'refresh': 61915, 'nfl_narrator:': 61918, 'breathtaking': 61924, 'ignorance': 61925, 'dislike': 61929, 'rookie': 61935, 'housewife': 61936, 'savvy': 61942, 'veteran': 61943, \"tv'll\": 62004, \"yesterday's\": 62016, 'whatsit': 62017, 'express': 62044, 'lifestyle': 62039, 'contract': 62063, 'fast-food': 62081, 'hibachi': 62101, \"how're\": 62104, 'bender:': 62281, 'transfer': 62123, 'hyper-credits': 62129, 'ding-a-ding-ding-ding-ding-ding-ding': 62142, 'ding-a-ding-ding-a-ding-ding': 62156, 'blade': 62163, 'spender': 62172, 'gossipy': 62181, 'jukebox_record:': 62192, 'robot': 62222, 'incapable': 62224, 'emotion': 62226, 'terrifying': 62317, 'quebec': 62322, 'nordiques': 62323, 'spooky': 62326, 'colorado': 62329, 'avalanche': 62330, \"toot's\": 62338, 'verdict': 62393, 'overturned': 62395, 'sequel': 62398, 'neon': 62434, 'repairman': 62456, 'mall': 65989, 'bolting': 62534, 'wrapped': 62587, 'shoulders': 62615, 'si-lent': 62630, 'ho-ly': 62633, 'eve': 62644, \"moe's_thoughts:\": 64854, \"startin'\": 62667, 'gift:': 62689, 'shrieks': 62713, 'angrily': 62741, 'wenceslas': 62757, 'karaoke_machine:': 62768, 'doooown': 62780, 'santa': 65985, 'weight': 62809, 'thirty-nine': 62812, \"foolin'\": 62816, 'car:': 62821, 'habit': 62824, 'hateful': 62841, 'chubby': 62846, 'chunky': 62848, 'blobbo': 62850, 'slobbo': 62852, 'michelin': 62857, 'stay-puft': 62860, 'chumbawamba': 62862, 'balloon': 62870, 'papa': 62873, 'grandé': 62874, 'augustus': 62876, 'gloop': 62877, 'beached': 62879, 'whale': 62880, 'boned': 62883, 'wisconsin': 62885, 'skinny': 62886, 'butterball': 62888, 'dumptruck': 62890, 'jelly': 62892, 'pudgy': 62895, 'wudgy': 62896, 'lard': 62898, 'blubberino': 62901, 'buddha': 62903, 'tubman': 62908, 'ton': 62911, 'page': 62977, 'blob': 62918, 'saget': 62919, 'chub': 62921, 'hub': 62922, 'calvin': 62924, 'manfred': 62928, 'manboobs': 62929, '21': 62931, 'lump': 62932, 'fatso': 62939, 'harvey': 62941, 'obese': 62945, 'cannoli': 62947, 'mahatma': 62949, 'gumbo': 62950, 'salvador': 62952, 'deli': 62953, 'elmer': 62955, 'pantry': 62956, 'sponge': 62966, 'snackie': 62970, 'onassis': 62971, 'foodie': 62981, 'hoagie': 62984, 'carmichael': 62985, 'load': 62988, 'belts': 62997, 'homunculus': 63049, \"feelin's\": 63055, 'goblins': 63077, 'pridesters:': 63095, 'movement': 63121, 'drinking:': 63134, 'relaxed': 63156, 'apron': 63173, 'limber': 63175, \"tap-pullin'\": 63179, 'hook': 63260, 'sideshow': 63293, 'laney': 63336, 'fontaine': 63337, 'brassiest': 63839, 'vulgar': 63351, 'fulla': 63353, 'jimmy': 63363, 'stewart': 63364, 'super-nice': 63367, \"can'tcha\": 63382, 'items': 63458, 'shells': 63463, 'lime': 63470, \"high-falutin'\": 63489, 'theatah': 63492, 'exits': 63501, 'nickels': 63962, 'sight': 63596, 'tomatoes': 63606, 'bachelorette': 63611, 'lady_duff:': 63624, 'hearing': 63662, 'interesting': 63664, 'clubs': 63670, 'book_club_member:': 63769, \"lovers'\": 63681, 'spiritual': 63687, 'other_book_club_member:': 63690, 'liven': 63710, 'laney_fontaine:': 63815, 'charming': 63733, 'whaaaa': 63756, 'craphole': 63766, 'bones': 63780, 'dazed': 63789, 'bounced': 63828, 'sass': 63842, 'heaving': 63866, \"coaster's\": 63887, 'mouths': 63902, \"snappin'\": 63930, 'ruint': 63939, \"i-i'll\": 63945, 'savings': 63951, 'rubbed': 63960, 'defected': 63992, 'north': 63994, 'korea': 63995, 'dae': 64001, 'pickles': 64009, 'background': 64035, 'ummmmmmmmm': 64040, 'ehhhhhhhh': 64044, 'errrrrrr': 64048, 'ehhhhhhhhh': 64052, 'ehhhhhh': 64056, 'kay': 64085, 'apply': 64089, 'jerking': 64106, 'chunk': 64140, 'oak': 64143, 'poplar': 64150, 'knowledge': 64163, 'wood': 64165, 'smile:': 64216, 'baritone': 64219, 'something:': 64236, 'elizabeth': 64241, 'kemi:': 65380, 'africa': 64261, 'languages': 64289, 'snorts': 64672, 'portuguese': 64302, 'eu': 64304, 'não': 64305, 'quero': 64306, 'dizer': 64307, 'para': 64308, 'mostrar': 64309, 'je': 64313, 'ne': 64314, 'veux': 64315, 'pas': 64316, 'montrer': 64317, 'refiero': 64323, 'presumir': 64325, 'watashi': 64329, 'wa': 64334, 'koji': 64331, 'suru': 64332, 'wakede': 64333, 'arimasen': 64335, 'scrape': 64382, 'majesty': 64391, 'notice': 64393, 'nigeria': 64420, 'repressed': 64425, 'level': 67167, 'spelling': 64496, 'grammar': 64498, 'ze-ro': 64521, 'kemi': 64535, 'nigerian': 64548, 'princess': 65212, 'prince': 64549, 'trashed': 64567, 'happens': 64627, 'cruiser': 64635, 'answered': 64649, 'tank': 64667, 'gil_gunderson:': 64680, 'princesses': 64990, 'mumble': 64755, 'conclusions': 64833, 'tied': 64866, 'jernt': 64870, 'elocution': 64875, 'pronounce': 64882, 'over-pronouncing': 64884, 'online': 64896, 'pernt': 64901, 'tease': 64936, 'thrown': 64939, 'rom': 64968, 'coms': 64969, 'wheels': 65003, 'witches': 65005, \"treatin'\": 65006, 'familiar': 66685, 'countryman': 65024, 'chinua': 65025, 'achebe': 65026, 'apart': 65031, 'ease': 65038, 'optimistic': 65047, 'literature': 65363, 'amused': 65054, 'comment': 65057, 'yawns': 65120, 'eaten': 65066, 'string': 65090, 'eats': 65110, 'stretches': 65118, 'stuck': 66358, 'goodnight': 65193, 'moon': 65155, 'dregs': 65178, 'bugs': 65181, 'mice': 65191, 'treats': 65196, 'bar:': 65227, 'cab': 65231, 'scooter': 65287, 'waist': 65268, 'shyly': 65273, 'lifts': 65281, 'index': 65282, 'examples': 65314, 'albeit': 65320, 'depressing': 65321, 'bedtime': 65331, 'premise': 65337, \"cheerin'\": 65349, 'pine': 65393, 'suffering': 65416, 'silence': 65418, 'rafters': 65435, 'aged_moe:': 65475, 'badly': 65459, 'smiles': 65477, 'divine': 65479, 'troy:': 65520, 'four-star': 65505, 'brother-in-law': 65506, 'young_homer:': 65612, 'nachos': 65560, 'triangle': 65579, 'atari': 65609, 'oblivious': 65614, 'aims': 65619, 'dumpster': 65629, 'gags': 65635, 'teenage_homer:': 65705, 'psst': 65650, 'asleep': 65656, 'mellow': 65713, 'teenage_bart:': 65765, 'aghast': 65727, 'grade': 65777, 'adult_bart:': 65841, \"homer's_brain:\": 65877, 'kirk_voice_milhouse:': 65889, 'milks': 65896, 'lumpa': 65921, 'coal': 65922, 'stocking': 65925, 'sucking': 65931, 'getup': 65970, 'part-time': 65980, 'selective': 66008, 'punk': 67102, 'someday': 67103, 'reaches': 66047, 'pocket': 68160, 'opens': 66061, 'whoops': 66070, 'explanation': 66118, 'boxing_announcer:': 66457, 'anxious': 66165, 'bloodiest': 66189, 'thirsty': 66201, 'log': 66205, 'eddie': 66209, 'eddie:': 66333, 'pretzels': 66221, 'peeping': 66272, 'toms': 66273, 'terrorizing': 66277, 'neighborhood': 66279, 'scent': 66308, 'bobo': 66317, 'wieners': 66327, 'figures': 66335, 'disappointment': 66371, 'onto': 66384, 'dealt': 66397, 'control': 66410, 'tremendous': 66460, 'tv-station_announcer:': 66479, 'marvin': 66726, \"monroe's\": 66727, 'tv_wife:': 66628, 'tv_husband:': 66637, 'this:': 66572, 'small_boy:': 66646, 'furiously': 66658, '_marvin_monroe:': 66666, 'monroe': 66679, 'gimmicks': 66695, 'pills': 66698, 'fad': 66701, 'diets': 66702, 'bliss': 66706, '1-800-555-hugs': 66732, \"life's\": 66754, 'heh-heh': 66764, 'thru': 66807, 'runt': 66868, 'gut': 66879, 'tragedy': 66916, 'ohhhh': 66943, 'hottest': 66965, 'heave-ho': 66991, 'dingy': 67035, 'flophouse': 67036, 'koholic': 67054, 'yellow-belly': 67073, 'jackass': 67075, \"'er\": 67108, 'hunka': 67130, 'beef': 67131, 'contemplates': 67180, 'jams': 67185, 'yells': 67243, 'drunkenly': 67257, \"larry's\": 67293, 'difference': 67304, 'slop': 67317, 'hose': 67319, 'beings': 67327, 'candles': 67347, 'tablecloth': 67349, 'drift': 67415, 'deals': 67465, 'capitol': 67514, \"dyin'\": 67981, 'curiosity': 67533, \"c'mom\": 67588, 'employees': 67605, 'spouses': 67607, 'decision': 67629, 'simpsons': 67631, 'faced': 67633, \"should've\": 67636, 'listened': 67637, 'bites': 67666, 'oooh': 67669, \"costume's\": 67681, 'ape-like': 67694, 'saga': 67705, 'riveting': 67732, 'humiliation': 67756, \"rasputin's\": 67789, \"professor's\": 67801, 'patented': 67804, 'coma': 67805, 'show-off': 67830, 'muscles': 67837, 'engraved': 67869, 'richard:': 67876, 'audience:': 67897, 'tv_announcer:': 67954, 'ref': 67945, 'issuing': 67947, 'warning': 67949, 'rasputin': 67951, 'referee': 67970, 'permitting': 67971, 'smitty:': 67977, 'squabbled': 68131, 'washed': 68152, 'refreshment': 68396, 'trustworthy': 68402, 'sharing': 68499, 'birthplace': 68525, 'roy': 68529, 'scum-sucking': 68583, 'pus-bucket': 68584, 'eyeballs': 68599, 'often': 68662, 'bull': 68793, 'connection': 68858, 'lighten': 68877, 'ironic': 68887, 'snotty': 68906, 'sister-in-law': 68907, 'picky': 68945, 'blur': 68971, 'patty': 69013, 'decided': 68983, 'happiness': 69023, 'pancakes': 69042, 'disdainful': 69054, 'heals': 69075, 'wounds': 69077}\n",
      "\n",
      "\n",
      "=========\n",
      "\n",
      "{69068: 'moe_szyslak:', 69053: '||left_parentheses||', 68576: 'into', 68577: 'phone', 69055: '||right_parentheses||', 68522: \"moe's\", 68523: 'tavern', 69099: '||period||', 67466: 'where', 68965: 'the', 10: 'elite', 63566: 'meet', 69097: 'to', 66885: 'drink', 69079: '||return||', 66805: 'bart_simpson:', 69056: 'eh', 69093: '||comma||', 68749: 'yeah', 68520: 'hello', 68549: 'is', 28964: 'mike', 68550: 'there', 69027: '||question_mark||', 69020: 'last', 68096: 'name', 60: 'rotch', 66873: 'hold', 68834: 'on', 68299: \"i'll\", 68820: 'check', 59393: 'barflies', 68768: 'hey', 66306: 'has', 37167: 'anybody', 56868: 'seen', 27879: 'lately', 69046: 'listen', 69085: 'you', 68582: 'little', 58894: 'puke', 68836: 'one', 68959: 'of', 66113: 'these', 63408: 'days', 68942: \"i'm\", 68595: 'gonna', 66036: 'catch', 69091: 'and', 23820: 'carve', 69062: 'my', 69019: 'your', 67501: 'back', 68600: 'with', 67458: 'an', 57257: 'ice', 63281: 'pick', 66959: \"what's\", 66961: 'matter', 68940: 'homer', 69088: \"you're\", 68943: 'not', 58628: 'normal', 5688: 'effervescent', 65778: 'self', 68924: 'homer_simpson:', 69049: 'i', 68957: 'got', 66755: 'problems', 69065: 'moe', 65311: 'give', 69026: 'me', 68617: 'another', 68342: 'should', 62529: 'forget', 69080: 'barney_gumble:', 68492: 'only', 150: 'enhance', 23361: 'social', 153: 'skills', 68891: 'ah', 67472: \"isn't\", 69006: 'that', 66293: 'nice', 69038: 'now', 69094: 'a', 170: 'politician', 68433: 'who', 60264: 'cares', 68369: 'if', 68443: 'ever', 43206: 'vote', 68370: \"it'll\", 68855: 'be', 69025: 'for', 64856: 'him', 25140: 'belch', 50596: \"how's\", 198: \"neighbor's\", 65288: 'store', 68115: 'doing', 66995: 'lousy', 67565: 'he', 69024: 'just', 67556: 'sits', 69076: 'all', 68024: 'day', 68051: \"he'd\", 67652: 'have', 64102: 'great', 66131: 'job', 64395: \"didn't\", 67836: 'own', 68758: 'place', 64358: 'chuckles', 55788: 'struggling', 68602: 'corkscrew', 66404: 'crummy', 236: 'right-handed', 237: 'corkscrews', 69090: '||exclamation_mark||', 69083: 'what', 68917: 'does', 55587: 'sell', 66825: 'uh', 69081: 'well', 64581: 'actually', 256: 'homer_', 258: \"cont'd:\", 53756: 'dunno', 64572: 'looks', 69005: 'like', 68918: 'this', 59254: 'end', 68751: \"that's\", 69089: 'right', 53238: \"couldn't\", 282: 'led', 284: 'richer', 65670: 'life', 68736: 'so', 68966: 'next', 69074: 'time', 65918: 'somebody', 25892: 'tells', 296: 'county', 33605: 'folk', 69015: 'are', 68400: 'good', 68272: 'honest', 68012: 'people', 69001: 'can', 42972: 'spit', 68938: 'in', 66296: 'their', 309: 'faces', 62333: 'lisa_simpson:', 68409: 'will', 62994: 'mr', 24550: 'gumbel', 68647: 'but', 66017: \"you'll\", 59266: 'excuse', 329: 'profiling', 65813: 'dad', 48520: 'school', 335: 'paper', 65644: 'thought', 68853: 'it', 67688: 'would', 53506: 'neat', 46284: 'follow', 65962: 'around', 68991: 'see', 54616: 'makes', 12960: 'tick', 68847: 'oh', 59362: 'sweet', 64004: 'used', 65000: 'lot', 67470: 'bars', 68450: 'too', 68553: 'here', 67782: 'go', 68619: 'beer', 62943: 'chocolate', 62942: 'milk', 419: \"depressin'\", 26132: 'effects', 57476: 'alcohol', 67119: 'usually', 69069: \"don't\", 41042: 'kick', 37102: \"'til\", 54663: 'closing', 66033: \"he's\", 66322: 'nervous', 34336: 'proudly', 47815: 'speech', 52005: 'tomorrow', 67617: '||quotation_mark||', 68772: 'how', 68630: 'keep', 62925: 'cool', 457: 'crisis', 63867: 'sobs', 68434: 'am', 69084: 'do', 68263: 'had', 67306: 'once', 68787: 'was', 66007: 'pretty', 27059: 'trick', 502: 'pictured', 62021: 'everyone', 506: 'underwear', 50267: 'judge', 512: 'jury', 515: 'lawyer', 68560: 'everybody', 65293: 'did', 68652: 'work', 63542: 'free', 69004: 'man', 68040: \"ain't\", 62726: 'whoa', 66507: 'huh', 544: 'pretzel', 67699: 'wow', 19033: 'pulled', 558: 'patrons:', 64744: 'mumbling', 46806: 'unison', 68884: 'happy', 20676: 'thoughts', 68984: 'we', 68697: 'love', 66289: 'boy', 67422: 'loud', 66341: 'stupid', 58927: 'moron', 68931: 'ugly', 61761: 'face', 68902: 'big', 60838: 'butt', 60689: 'smells', 47956: 'kiss', 59772: 'new', 65342: 'laughing', 68571: 'wait', 68816: 'minute', 62906: 'hurry', 68895: \"i've\", 67905: 'five', 68473: 'minutes', 66559: 'till', 62357: 'music', 57792: 'closes', 67967: 'why', 63161: 'first', 68426: 'tell', 68849: 'sorry', 69086: 'know', 61035: 'tip', 60634: 'glass', 68672: \"won't\", 68138: 'much', 717: 'foam', 59785: 'top', 66836: 'looking', 69022: 'at', 59426: 'watch', 51657: 'finished', 68472: 'fifteen', 29295: 'seconds', 741: 'spare', 942: 'little_man:', 51797: 'concerned', 60608: 'buddy', 55731: 'door', 62340: 'closed', 55157: 'early', 766: 'stiffening', 67576: 'happen', 782: 'trenchant', 67859: 'mouth', 68688: 'please', 68262: \"you've\", 59505: 'open', 68818: 'let', 68869: 'think', 68181: 'about', 68498: 'no', 68465: 'okay', 68324: 'want', 66996: 'picture', 61250: 'girl', 831: 'disappointing', 59616: 'goes', 65297: 'through', 67835: 'his', 66062: 'wallet', 68833: 'come', 855: 'jer', 68878: 'up', 67027: 'pal', 61164: 'remember', 68955: 'when', 68420: 'wife', 68958: 'out', 40423: 'burning', 64729: 'car', 881: 'grudgingly', 67530: \"we're\", 68067: 'even', 61445: 'daughter', 68395: 'need', 2169: 'smoothly', 52803: 'wrote', 68632: 'down', 64814: 'number', 67892: 'four', 50367: 'half', 68524: '||dash||', 42349: 'gum', 936: 'reed', 938: 'whoo', 63256: 'hoo', 56724: 'uh-huh', 947: 'instrument', 69060: 'she', 65563: 'play', 955: 'sunk', 966: 'patrons', 968: 'figure', 38087: 'hiya', 67674: 'sighs', 61895: 'business', 63698: 'slow', 66716: 'today', 1000: 'healthier', 64600: 'drinking', 62275: 'less', 60437: \"wasn't\", 57340: 'junior', 56855: 'high', 58938: 'use', 37121: 'cigarette', 39550: 'machine', 67860: 'full', 65592: 'things', 68393: 'tough', 68132: 'over', 1043: 'increased', 22728: 'satisfaction', 66728: 'family', 1048: 'togetherness', 1050: 'poison', 1053: 'purveyor', 1055: 'mind-numbing', 1056: 'intoxicants', 69098: 'myself', 66091: 'could', 69040: 'get', 68282: 'sure', 64818: 'forgot', 66917: 'behind', 10949: 'payments', 29539: 'distributor', 57742: 'cut', 68477: 'off', 17185: 'spent', 68259: 'ten', 60174: 'grand', 63804: 'tester', 62718: 'late', 69072: 'barney', 58768: 'sucked', 35544: 'dry', 47127: 'gums', 68857: 'bad', 67337: 'take', 58214: 'easy', 63128: 'learned', 68371: 'make', 68993: 'other', 65960: 'drinks', 50125: \"bartender's\", 1164: 'unfamiliar', 60743: 'gin', 1171: 'tonic', 68039: 'they', 1175: 'mix', 21035: 'brightening', 66383: 'really', 57805: 'hits', 54927: 'spot', 61463: 'invented', 1962: 'harv', 49922: 'sounds', 67818: 'hell', 68507: 'call', 2095: 'flaming', 66918: 'us', 67135: 'couple', 31325: 'homers', 63650: 'any', 40264: 'cough', 1985: 'syrup', 64613: 'lost', 60918: 'found', 1283: 'bowie', 32335: 'knife', 63045: 'troll', 3330: 'doll', 49624: 'eye', 68864: \"it's\", 57656: 'without', 56423: 'its', 14457: 'charm', 66912: 'try', 50372: 'lighting', 57877: 'fire', 40017: 'smiling', 67539: \"there's\", 63612: 'party', 49798: \"everyone's\", 65494: 'invited', 68056: 'larry:', 14751: \"tester's\", 33373: 'busted', 1351: 'nickel', 1355: 'coughs', 47129: 'house', 30430: 'delicious', 1382: 'phlegm', 61217: 'feels', 1384: 'looser', 67653: 'called', 52899: \"lookin'\", 1470: 'sneeze', 1471: 'guard', 65369: 'works', 1885: 'harv:', 1484: 'chuckling', 66453: \"haven't\", 1500: 'crowded', 65820: 'since', 67496: 'government', 1504: 'cracked', 1509: 'accepting', 60209: 'food', 1511: 'stamps', 66385: 'something', 67689: 'say', 60387: 'probably', 1534: 'combination', 1539: 'patron_#1:', 69096: 'pitcher', 67553: 'those', 53211: 'amazing', 1555: 'patron_#2:', 62207: 'hate', 64887: 'joint', 1734: 'collette:', 2815: 'barkeep', 66692: 'help', 28895: 'noticing', 62435: 'sign', 63309: 'says', 61515: 'bartenders', 40735: 'barf', 68093: 'above', 1602: 'store-bought', 1603: 'drollery', 67107: 'fill', 1616: 'application', 60593: 'reading', 1642: 'measurements', 65084: 'turn', 1629: 'ons', 64369: 'expect', 69002: 'find', 66418: 'way', 68441: 'more', 53296: 'accurate', 65336: 'fun', 60498: 'disgusted', 65359: 'offer', 1677: 'salary', 16169: 'minimum', 1682: 'wage', 43358: 'tips', 1687: 'meaningfully', 60495: 'course', 1693: 'fringe', 11000: 'benefits', 65790: 'such', 67685: 'as', 1704: 'unforgettable', 1705: 'weekend', 63682: 'club', 25957: 'prefer', 1717: 'vacations', 1718: 'someplace', 60257: 'hot', 1726: 'moxie', 65874: 'kid', 42277: 'hired', 1744: \"shan't\", 38407: 'regret', 1742: 'methinks', 35249: 'pardon', 18047: 'genius', 69030: 'yes', 56616: 'cutting', 1792: 'bannister', 65537: 'tipsy', 1799: \"mcstagger's\", 63135: 'eating', 1805: 'emporium', 1830: 'mcstagger', 1835: 'composite', 53992: 'successful', 1839: 'logos', 68197: 'from', 1855: 'mozzarella', 45038: 'stick', 63455: 'quickly', 63888: 'fine', 57323: 'anyway', 1875: 'proposition', 63089: \"talkin'\", 67151: 'feel', 64916: 'perfect', 66908: 'our', 45925: 'restaurant', 1898: 'chain', 67331: 'buy', 1905: 'recipe', 1910: 'dice', 41921: 'sale', 66887: 'blood', 1931: 'sweat', 39428: 'idiot', 69018: 'away', 64517: 'million', 57268: 'dollar', 60886: 'idea', 65528: 'secret', 48084: 'ingredient', 1971: 'dies', 1976: 'delivery_man:', 35012: 'thirty', 1982: 'cases', 43132: 'covering', 1999: 'hooked', 68305: 'stuff', 68961: 'service', 61255: 'quietly', 66671: 'hi', 68977: \"where's\", 2018: 'waitress', 14043: 'yours', 65451: 'left', 2029: 'pursue', 51973: 'movie', 17286: 'career', 51323: 'frankly', 68008: 'better', 2051: 'hundreds', 2053: 'thousands', 52472: 'dollars', 68307: 'maybe', 69041: 'some', 64135: 'kept', 67993: 'guess', 46534: 'compliments', 52593: 'warmly', 68398: 'ahh', 69034: 'thanks', 39275: 'greatest', 64267: 'friend', 64487: 'guy', 53221: 'aerosmith', 67155: 'tonight', 57787: 'doubt', 46803: 'shocked', 2147: 'cuz', 66762: 'bottle', 24178: 'refund', 68563: 'wanna', 63621: 'duff', 68108: \"i'd\", 39413: 'henry', 65743: 'k', 2181: \"duff's\", 64436: 'private', 18625: 'reserve', 2189: 'information', 68798: 'made', 40382: 'twenty-five', 55549: 'playing', 24592: 'market', 66085: 'low', 2210: 'motto', 59250: 'may', 61202: 'quit', 57194: 'power', 67604: 'plant', 67721: 'become', 2225: 'full-time', 35017: 'stock', 66251: 'boys', 2413: 'hans:', 40114: 'german', 62771: 'accent', 43756: 'friendly', 64595: 'thank', 64914: 'english', 55680: 'swill', 68247: 'saying', 2283: 'swine', 2407: 'fritz:', 68839: 'guys', 68013: \"aren't\", 17225: 'ech', 52288: 'nein', 2325: 'germany', 2331: 'east', 2337: 'west', 39095: 'company', 61698: 'very', 39697: 'interested', 43762: 'buying', 37237: 'owner', 34841: 'confident', 68442: 'than', 2888: '100', 60173: 'hundred', 69070: 'worry', 59535: \"we'll\", 68381: 'still', 68988: 'enough', 2427: 'cleveland', 2428: 'browns', 66784: 'speaking', 65741: 'mrs', 2503: \"o'problem\", 58965: 'bee', 68542: 'calling', 65122: \"c'mon\", 58885: 'realizing', 10114: 'awwww', 66937: 'head', 11521: 'bucket', 41974: 'paint', 54499: 'brains', 64220: 'voice', 55070: 'bart', 59180: 'simpson', 68968: 'years', 61514: 'pop', 68741: 'hear', 2617: 'monkeyshines', 51155: 'conspiratorial', 57328: 'bet', 2629: 'kinds', 68872: 'trouble', 66415: \"can't\", 2652: 'resist', 27878: 'crank', 66822: 'calls', 2668: 'musses', 68870: \"bart's\", 65684: 'hair', 64931: 'laughs', 62628: 'sing', 68401: 'old', 58967: 'song', 59240: 'embarrassed', 64753: 'anything', 63834: 'singing', 68479: 'every', 2759: 'teddy', 27519: 'bear', 65209: \"who's\", 68255: 'been', 46139: 'treat', 2725: 'today/', 23648: 'lots', 2729: 'marvelous', 65073: 'eat', 65603: 'wonderful', 40502: 'games', 2738: 'play/', 52981: 'beneath', 2741: 'trees', 66408: 'nobody', 2745: 'sees/', 56686: \"they'll\", 61343: 'hide', 37673: 'seek', 65937: 'long', 2754: 'please/', 55777: \"today's\", 7055: 'bears', 2763: 'picnic', 2769: 'pip', 62962: 'c', 40023: '_montgomery_burns:', 2782: 'mirthless', 62573: 'laugh', 2786: 'damned', 59007: 'nose', 65450: 'smithers', 67392: 'going', 47622: 'blend', 41300: 'cheap', 68490: 'domestic', 16509: 'greedy', 2840: 'reptile', 2851: 'saucy', 61487: 'fellow', 65421: 'waylon_smithers:', 52192: 'sir', 2867: 'sector', 2862: 'sieben-gruben', 68141: 'mean', 2868: '7g', 28082: 'recently', 2871: 'terminated', 49612: 'pointed', 67810: 'ask', 68182: 'money', 62005: 'cheer', 60291: 'feeling', 42918: 'blue', 2925: 'example', 47266: 'hug', 68725: 'home', 68069: 'night', 2977: 'shaken', 65399: \"doesn't\", 2987: 'sing-song', 54595: 'loves', 3882: 'yea', 3027: 'heavens', 68030: \"they're\", 68195: 'afraid', 68336: 'anymore', 53742: 'burns', 47799: 'letter', 59196: 'sent', 13340: 'recall', 66992: 'because', 3074: 'stamp', 3086: 'slays', 60921: 'accident', 69039: \"let's\", 3135: 'na', 62632: '/', 67914: 'barflies:', 36576: 'goodbye', 58035: 'inspire', 3157: 'terror', 3164: 'determined', 4706: 'peanut', 21162: 'bowl', 3186: 'freshened', 3187: 'hourly', 68157: 'twenty', 21239: 'denver', 28409: 'slyly', 3211: 'provide', 62469: 'um', 64715: 'chief', 49193: 'wiggum', 67798: 'hand', 47089: 'black', 63669: 'book', 64732: 'chief_wiggum:', 68118: 'thing', 50970: 'using', 65377: 'coaster', 49805: 'ones', 21738: 'pleasure', 3274: 'coyly', 3276: 'h', 65577: 's', 67957: 'tv', 3291: 'justify', 4031: 'football_announcer:', 15318: 'thirteen', 3308: 'england', 67918: 'seven', 56061: 'nothing', 69092: 'look', 3323: 'modest', 9442: 'studio', 3726: 'apartment', 3328: 'malibu', 3329: 'stacey', 3335: 'kitchen', 3341: 'prints', 68937: 'her', 60005: 'weekly', 3344: 'feminist', 3345: 'newsletter', 3351: 'daaaaad', 52683: 'listening', 3362: 'grumbling', 3372: 'usual', 3380: 'wad', 3382: 'bills', 38112: 'sarcastic', 67088: 'ya', 64621: 'lucky', 3407: 'thirty-five', 3413: 'sagely', 57097: 'smell', 3423: 'sweaty', 68379: 'feet', 29006: 'sniffs', 58057: 'deeply', 29412: 'victory', 67519: 'aw', 68373: 'shut', 3459: 'son-of-a', 56544: 'bowling', 23209: 'sunday', 63793: 'nuts', 67488: 'super', 67384: 'after', 3500: \"ma's\", 66504: 'coming', 3504: 'norway', 53823: 'belches', 3528: 'brunch', 3529: 'spectacular', 3535: 'baloney', 56737: 'bread', 3545: 'gotcha', 11618: 'forty', 66249: 'bucks', 55467: 'luck', 3555: 'eminence', 67140: 'outta', 3578: 'bookie', 58442: 'taking', 49565: 'bets', 50434: \"'bout\", 3626: \"bettin'\", 43851: 'gimme', 30905: 'gift', 3651: 'football', 63812: 'ruined', 3776: 'bret:', 67884: 'two', 59207: 'hours', 3666: 'forty-five', 3670: 'pre-game', 64352: 'show', 68130: \"we've\", 67320: 'ourselves', 55351: 'special', 52354: 'guest', 3680: 'actor', 10645: 'troy', 3682: 'mcclure', 47340: 'whose', 3686: 'sitcom', 3688: 'premiering', 3691: 'coincidentally', 65554: 'game', 3751: 'troy_mcclure:', 3762: 'bret', 3707: \"show's\", 3718: 'handle', 65400: 'care', 44670: 'jack', 3729: 'retired', 57553: 'cop', 35014: 'shares', 3730: 'criminal', 20324: 'original', 47548: 'odd', 67175: 'situation', 16935: 'comedy', 3755: 'fell', 3760: 'script', 3766: 'recent', 3770: 'irs', 3771: 'sealed', 61675: 'deal', 3780: \"drexel's\", 67997: 'class', 63618: 'ooh', 57818: 'almost', 52021: 'ready', 3792: 'kickoff', 4046: 'dallas', 3797: 'kicks', 49837: 'short', 3821: \"buffalo's\", 68376: 'start', 48836: 'excellent', 61904: 'field', 3817: 'position', 60021: 'win', 61300: 'lisa', 42370: 'hates', 40476: 'whatcha', 4664: 'riding', 18807: 'whistles', 3853: 'gambler', 3860: 'score', 9811: 'buffalo', 3866: 'fourteen:', 3886: 'duff_announcer:', 4032: 'touchdown', 3891: 'half-back', 56551: 'dan', 3893: 'beer-dorf', 60164: 'won', 65309: 'wanted', 4048: 'wins', 49720: 'aggravated', 66656: 'both', 26845: 'teams', 4047: 'cowboys', 68264: 'three', 3981: 'ticks', 62694: 'clock', 65827: 'comes', 3998: 'scores', 4002: \"fans'll\", 4004: 'looting', 59382: 'turning', 42087: 'cars', 4011: 'lone', 55825: 'star', 58718: 'state', 66450: \"here's\", 4018: 'handoff', 14117: 'fork', 67378: 'done', 4051: 'twenty-nine', 68754: 'eight', 60396: 'keeping', 66552: 'problem', 59205: 'maggie', 4137: 'scratching', 32126: \"maggie's\", 4139: 'chin', 45583: 'uncle', 12946: 'handing', 38357: 'careful', 64686: 'someone', 4177: 'stinky', 4180: 'sniffing', 61755: 'shirt', 4196: \"england's\", 30823: 'prime', 13868: 'minister', 68318: 'lord', 4266: 'palmerston', 4221: 'wade_boggs:', 9600: 'pit', 4256: 'elder', 34801: 'jumps', 67873: 'stool', 35723: 'poking', 62797: 'asked', 4239: 'boggs', 4244: 'scornfully', 51859: \"showin'\", 53546: 'amazed', 52105: 'pfft', 60167: 'lottery', 4296: 'exploiter', 62775: 'poor', 4301: 'ignorant', 64238: 'heard', 4311: \"jackpot's\", 4324: 'spitting', 55073: 'sadistic_barfly:', 4338: 'boozehound', 34847: 'cents', 4351: \"singin'\", 4378: 'gals', 4383: 'young_barfly:', 64669: 'rummy', 47075: 'offended', 68645: 'before', 66342: 'dog', 45285: 'sick', 64122: 'best', 68486: 'customer', 39424: 'dance', 68804: 'by', 59490: 'light', 4424: 'moonnnnnnnn', 4437: 'quarter', 63809: 'moan', 60469: 'went', 68825: 'bar', 38472: 'wha', 4498: 'fudd', 64551: 'took', 4511: 'hillbillies', 4513: 'blind', 23318: 'miles', 67400: 'town', 68607: 'sadly', 4681: \"smokin'_joe_frazier:\", 67136: 'pickled', 67137: 'eggs', 61816: \"comin'\", 64582: 'cleaned', 4554: \"smokin'\", 58157: 'joe', 4562: 'cummerbund', 4564: 'tight', 40998: 'miss', 52025: 'couch', 47067: 'heavyweight', 20646: 'championship', 63073: 'kind', 62935: 'walking', 64128: 'along', 63840: 'piece', 4640: 'furniture', 4653: 'frazier', 35589: 'step', 53766: 'outside', 9041: 'finishing', 58158: 'walk', 4712: 'washer', 4724: 'dryer', 4746: 'religious', 38906: 'holiday', 62762: 'feast', 4764: 'maximum', 4765: 'occupancy', 4770: 'slick', 63125: 'join', 58430: 'religion', 4793: 'kneeling', 68020: 'born', 4813: 'snake-handler', 68411: 'die', 48181: 'felt', 4825: 'unattractive', 23183: 'mmmm', 51438: 'second', 65440: 'sigh', 4922: 'tv_father:', 68992: 'each', 61883: 'toss', 4882: 'whee', 4886: 'wheeeee', 60802: 'camera', 53720: 'father', 69009: 'thinks', 4906: 'cutest', 5003: 'jack_larson:', 14450: 'prove', 67444: 'president', 4938: 'laramie', 35245: 'cigarettes', 4931: 'larson', 66193: 'year', 4940: 'sponsoring', 67620: 'springfield', 5069: 'pageant', 4951: 'regulations', 4979: 'prohibit', 4955: 'advertising', 46545: 'takes', 4966: 'smokes', 4973: 'carolina', 35260: 'smoke', 65678: 'holding', 63584: 'beauty', 56967: 'girls', 63863: 'age', 67926: 'nine', 44844: \"lisa's\", 5008: 'crowned', 5014: 'host', 5017: 'maitre', 5018: \"d'\", 5020: 'glee', 16903: 'krusty', 21604: 'clown', 54407: 'krusty_the_clown:', 5029: 'heartily', 30221: 'endorse', 5032: 'event', 68790: 'or', 59675: 'product', 5037: 'tv_daughter:', 5047: 'smoker', 8590: 'puff', 67431: 'morning', 66719: 'announcer:', 5087: '250', 5075: 'enter', 5091: 'blimp', 63333: 'ticket', 64558: 'gasps', 28068: \"where'd\", 5114: 'scientists', 47676: 'stopped', 26057: 'testing', 50246: 'animals', 60866: 'clean', 5177: '_powers:', 62114: 'lying', 5171: \"bo's\", 5172: 'cavern', 61486: 'welcome', 5190: 'mobile', 63220: 'knew', 33330: 'ruin', 68539: 'sec', 7675: 'amanda', 7676: 'huggenkiss', 47341: 'standards', 57646: 'o', 50641: 'b', 20437: 'shove', 16079: 'sausage', 53701: 'throat', 5270: 'starving', 5271: 'dogs', 52292: 'ah-ha', 42615: 'mistake', 51227: 'slip', 63222: 'sooner', 61115: 'later', 5303: 'rusty', 5305: 'dull', 23288: 'steal', 67309: 'while', 64561: 'gone', 36038: 'shaking', 55727: 'pathetic', 65675: 'drunk', 60215: 'gasp', 5341: 'spilled', 5345: 'ashtray', 5348: 'slurps', 68954: 'then', 62663: 'uh-oh', 69063: 'heart', 69011: 'beat', 5410: 'ivana', 9561: 'tinkle', 66914: 'put', 58249: 'glasses', 5414: 'captain:', 5419: 'har', 58456: 'plow', 5453: 'freed', 5454: 'iranian', 5455: 'hostages', 5719: 'teenage_barney:', 5464: \"sat's\", 67651: \"shouldn't\", 65046: 'real', 53515: 'hero', 68050: 'wish', 5501: 'wishing', 68596: 'pull', 5513: 'diaper', 63846: 'damn', 60294: 'world', 58313: \"he'll\", 47851: 'linda', 5566: 'ronstadt', 50079: \"how'd\", 24440: 'project', 68266: 'together', 5591: 'linda_ronstadt:', 58455: 'snow', 57950: 'starts', 11104: \"fallin'\", 45704: \"callin'\", 5615: 'kl5-4796', 43917: 'ring', 66650: '||semicolon||', 5621: '/mr', 67568: 'loser', 5634: 'boozer', 62756: 'king', 5672: 'intelligent', 5674: 'lachrymose', 5677: 'dyspeptic', 5679: 'ebullient', 66073: 'checks', 63149: 'answer', 5697: 'harvard', 5744: 'silent', 64642: 'prayer', 67909: 'six', 5795: 'admirer', 55038: 'gives', 19411: 'wave', 6464: 'yoo', 66376: 'god', 5822: 'snide', 66295: 'enjoy', 63117: 'fellas', 63604: 'cheery', 62808: \"homer's\", 59392: 'desperate', 5887: 'moesy', 55358: 'yesterday', 5899: 'worthless', 47997: 'sack', 47299: 'pipe', 5910: 'rub-a-dub', 40222: 'ow', 65096: 'fridge', 68899: 'date', 27903: 'pointing', 67468: 'close', 68989: 'never', 67198: 'leave', 5979: 'anthony_kiedis:', 68642: 'told', 61622: 'agent', 65638: 'holds', 5987: 'thirty-thousand', 60178: 'thousand', 6010: 'audience', 49354: \"gettin'\", 6013: 'restless', 6024: 'chilly', 6025: 'willy', 63605: 'red', 6033: 'chili', 6034: 'peppers', 29826: 'appear', 6046: 'klown', 6050: 'flea:', 14599: 'aside', 6063: 'gig', 6068: 'problemo', 63456: 'points', 58756: \"nothin'\", 65626: 'stop', 57671: 'soon', 63853: 'cost', 60214: 'excited', 6143: \"wallet's\", 56223: 'wall', 6167: 'stares', 6170: 'miss_lois_pennycandy:', 6173: 'ruby-studded', 51036: 'ordered', 6187: 'johnny_carson:', 68999: 'hope', 24332: 'remembered', 58624: 'save', 63482: 'dressed', 66724: 'dr', 21800: '_julius_hibbert:', 57903: 'times', 28815: 'snap', 6254: 'undies', 68994: 'again', 67640: 'kids', 68415: 'alright', 66160: 'getting', 6286: '50%', 53862: 't-shirt', 6290: 'sales', 65145: 'mad', 6302: 'sweetest', 6985: 'plum', 66116: 'deserve', 6336: 'entertainer', 67301: 'except', 52335: 'grampa_simpson:', 39032: 'bus', 54825: 'civic', 67723: 'center', 54252: 'seymour_skinner:', 64714: 'apu_nahasapeemapetilon:', 48388: 'all:', 62507: 'ma', 62197: 'baby', 66547: 'honey', 6418: 'ragtime', 21748: 'gal', 32827: 'send', 54393: 'wire', 39481: 'etc', 63299: 'afternoon', 68850: 'principal', 68978: 'skinner', 34521: 'apu', 6458: 'crowds', 6460: 'wild', 62753: 'sings', 6482: 'farewell', 6491: 'shop', 64701: 'kwik-e-mart', 6512: 'coney', 6508: 'isle', 46164: 'island', 68461: 'babe', 6855: 'nigel_bakerbutcher:', 6522: 'theatrical', 58182: 'represent', 59752: 'group', 6551: 'distaste', 49324: 'police', 6557: 'officer', 65424: 'noise', 38315: 'village', 6570: 'replace', 25812: 'sly', 68590: 'hands', 68564: 'seymour', 6597: 'nahasapeemapetilon', 6602: 'fit', 6605: 'marquee', 6607: 'luv', 6617: 'du', 6618: 'beaumarchais', 6626: 'dishonor', 6629: 'ancestors', 6643: 'applicant', 6681: 'tenor:', 6659: 'killarney', 59638: 'many', 59208: 'ago', 6686: 'mither', 6687: 'sang', 6694: 'tones', 6696: 'soft', 57461: 'crowd:', 63097: 'chanting', 65394: 'forever', 6733: 'swe-ee-ee-ee-eet', 6758: 'adeleine', 6749: 'my-y-y-y-y-y', 20391: 'paid', 53605: 'scream', 66136: 'pay', 6815: 'hanh', 52758: 'ad', 37895: 'lib', 6832: 'sounded', 53578: 'question', 8890: 'remains', 66471: 'gentlemen', 49756: 'handsome', 62174: 'plus', 55104: 'witty', 50552: 'seems', 64907: 'funny', 6926: 'sharps', 66226: 'chuckle', 66390: 'blame', 52483: 'trying', 44587: 'under', 35057: 'arrest', 35220: \"what'll\", 6980: 'kako:', 52776: 'single', 6986: 'floating', 6988: 'perfume', 42978: 'served', 6993: \"man's\", 6994: 'hat', 68079: 'knock', 17927: 'cops', 61884: \"'em\", 7062: 'andalay', 68648: 'sometimes', 68896: 'gotta', 64810: 'knows', 37841: 'darts', 7105: 'phasing', 34050: \"havin'\", 46286: 'advice', 61114: 'named', 7891: 'pause', 53374: 'joey', 7158: 'schabadoo', 49302: 'worst', 7195: 'attracted', 63859: 'woman', 7210: 'reciting', 7214: 'infatuation', 21335: 'based', 7219: 'physical', 7220: 'attraction', 66416: 'talk', 46469: 'realize', 7234: 'common', 24576: 'insightful', 7263: 'napkins', 7275: 'vigilante', 7276: 'handshake', 37054: 'code', 61609: 'names', 7311: 'cueball', 7294: 'eightball', 7301: 'twelveball', 7518: '_babcock:', 21261: 'clinton', 64118: 'figured', 67233: 'anyone', 51077: 'tang', 9013: \"it'd\", 64243: 'person', 10767: 'nasa', 57819: 'swear', 7500: 'stillwater:', 57193: 'higher', 58462: 'astronaut', 7425: 'aboard', 36592: 'respect', 66673: 'friends', 7452: 'nooo', 13206: 'fbi', 7479: 'file', 7484: 'fiiiiile', 20557: 'shrugging', 66429: 'them', 7507: 'necessary', 7513: 'astronauts', 7534: 'introduce', 53079: 'ned', 53326: 'flanders', 7559: 'evils', 18077: 'rap', 54786: 'ned_flanders:', 49169: 'hospital', 46832: 'reads', 68265: 'children', 7590: 'unfair', 8272: 'advantage', 39060: 'generous', 68446: 'marge_simpson:', 57858: 'hit', 64813: 'pin', 57606: 'rest', 7622: 'wobble', 57126: 'lemme', 67053: 'al', 7639: 'caholic', 66856: 'jacques', 66857: 'strap', 7650: 'pee', 7651: 'freely', 68565: 'butts', 68843: 'sexual', 7672: 'crotch', 62245: 'huge', 64943: 'ass', 7684: 'ivanna', 7730: 'fondest', 7731: 'desire', 54695: 'hm', 7751: 'invisible', 58697: 'cola', 50562: 'forbidden', 7758: 'donut', 7762: 'sacrilicious', 7767: 'indecipherable', 7773: 'goo', 54661: 'moments', 67361: 'romantic', 67562: 'story', 7822: 'ideal', 7838: 'thoughtless', 50058: 'birthday', 30868: 'present', 43970: 'shall', 7845: 'remain', 7846: 'nameless', 61047: 'alley', 7859: 'spite', 7869: 'clips', 7881: 'awfully', 8151: 'jacques:', 28972: 'entirely', 52817: 'fault', 18931: 'ball', 7916: 'flustered', 7930: \"ball's\", 68508: 'marge', 60926: 'fingers', 7942: 'slender', 7945: 'feminine', 64072: 'far', 7951: 'tapered', 7962: 'lighter', 7965: 'delicate', 8004: 'brunswick', 42992: 'hmmm', 12968: 'bold', 8042: 'bowled', 64878: 'teach', 56887: 'professional', 18265: 'roll', 49838: 'form', 60192: 'throw', 65735: 'teacher', 64146: 'lenny_leonard:', 8173: 'shifty', 8174: 'eyed', 59330: 'change', 65838: 'lenny', 58206: 'snake', 62138: 'cash', 62139: 'register', 40774: 'prank', 52143: 'flower', 8245: 'genuinely', 8246: 'enthused', 8257: 'patting', 8259: 'flames', 8262: \"burnin'\", 8276: 'soaked', 47571: 'clothes', 62088: 'serious', 58127: 'coffee', 64033: 'pass', 8338: 'sugar', 64360: 'himself', 63372: 'geez', 59848: 'were', 8360: \"messin'\", 8378: 'banned', 39174: 'pleading', 66987: 'gave', 8428: 'sugar-me-do', 8433: 'caricature', 8436: 'mt', 8438: 'lushmore', 27683: 'pulling', 38149: 'favorite', 8451: 'juke', 62356: 'box', 8461: 'raining', 51512: 'men', 8477: 'oww', 59840: 'label', 61293: 'suddenly', 68914: 'intrigued', 18537: 'ohh', 8495: 'jokes', 58999: 'alive', 50639: 'man:', 45780: 'polite', 13289: 'greetings', 67191: 'might', 46235: 'innocent', 8550: 'incognito', 8557: 'gr-aargh', 8567: 'exact', 66709: 'double', 8573: 'equal', 8574: 'astonishment', 8580: 'puffy', 57893: 'tail', 64404: 'giggles', 38539: 'liver', 64654: 'puzzled', 63053: 'hurts', 10948: 'loan', 8654: 'however', 67381: 'leans', 8659: 'confidentially', 8665: 'collateral', 57397: 'break', 65185: 'legs', 54257: 'advance', 60156: 'gosh', 38490: 'bash', 8714: 'shark', 50921: 'understand', 8720: 'finance', 66076: 'pulls', 8729: 'sledge-hammer', 61036: 'line', 8746: 'othello', 8750: 'drinker', 8755: 'sensible', 38707: 'fool', 8765: 'presently', 8767: 'beast', 26149: 'covers', 39362: 'woman:', 63573: 'brilliant', 8781: 'savagely', 8784: 'tender', 66379: 'soul', 40731: 'poet', 67313: 'crawl', 29820: 'alcoholic', 8848: 'scout', 55112: 'meeting', 66571: 'admit', 61120: 'kent_brockman:', 50837: 'following', 16329: 'celebrities', 8880: 'arrested:', 8887: 'heather', 8888: 'locklear', 8889: 'fortensky', 62490: 'large', 58351: 'consider', 50635: 'dangerous', 9039: 'hugh:', 56508: 'rather', 61542: 'pub', 47274: 'pouring', 59084: 'saved', 52326: 'war', 62237: 'true', 8963: 'hugh', 8978: 'cuff', 8979: 'links', 46551: 'wear', 59895: 'married', 66487: 'brought', 24741: 'imagine', 51847: 'happier', 43906: 'marriage', 9007: 'traditions', 53030: 'moved', 34517: 'honored', 9044: 'enthusiasm', 9074: 'virtual', 60319: 'pool', 9078: 'other_player:', 9088: \"fightin'\", 58223: 'loaded', 32131: 'fumes', 61611: 'charge', 9130: 'dizzy', 9132: 'nauseous', 9219: 'inflated', 41769: 'sense', 9222: 'self-esteem', 9170: 'male_inspector:', 9158: 'female_inspector:', 26287: 'detecting', 68147: 'different', 9164: 'toxins', 61464: 'air', 9182: 'pumping', 50645: 'oil', 9198: 'steely-eyed', 64426: 'rage', 9214: 'ahhhh', 9239: 'rascals', 64342: 'which', 9274: 'smelly', 9277: 'shtick', 9337: 'exhaust', 9287: 'faceful', 9289: 'soot', 62400: 'heh', 65081: 'kinda', 65786: 'hard', 51102: 'reasons', 40857: 'writers', 9332: 'william', 9333: 'faulkner', 59296: 'write', 40778: 'gag', 64720: 'shot', 68883: 'making', 59422: 'movies', 9380: 'aggie', 27340: 'stole', 66164: 'bit', 9414: 'director:', 9418: 'stagehand:', 60645: 'killed', 9435: 'alfalfa', 9433: 'luckily', 9438: 'orphan', 9439: 'owned', 22557: 'murmur', 50933: 'understanding', 9449: 'assent', 9465: 'wealthy', 63354: 'hollywood', 58141: 'local', 9473: 'merchants', 9476: 'forgiven', 24197: 'raising', 9480: 'prices', 9489: 'flailing', 9491: 'agh', 50371: 'natural', 30402: 'stools', 43341: 'table', 9554: 'little_hibbert_girl:', 45456: 'daddy', 9567: 'mmm-hmm', 38629: 'texas', 9577: 'cheesecake', 9578: 'depository', 67153: \"goin'\", 9652: 'restaurants', 54089: 'wants', 58908: 'hang', 51207: 'dank', 64060: 'carl_carlson:', 68252: 'thinking', 39620: 'rid', 53891: \"wouldn't\", 30721: 'ashamed', 60674: 'bring', 9711: 'all-american', 9712: 'cooking', 9718: 'chairman', 61654: 'magic', 9721: 'wok', 9782: 'barney-shaped_form:', 67364: 'nah', 9744: 'relaxing', 9753: 'madman', 61027: 'pressure', 9756: 'cooker', 60925: 'snaps', 53306: 'inspired', 9779: 'feedbag', 58983: 'deep', 9794: \"fryer's\", 9805: 'navy', 9809: 'flash-fry', 9822: 'whining', 9832: \"g'on\", 9859: 'extinguishers', 12136: 'memories', 50558: 'bright', 68214: 'side', 9890: 'cheering', 69061: 'broke', 61837: 'customers', 68229: 'blew', 9971: \"aren'tcha\", 9979: '50-60', 10000: 'mistakes', 54052: 'beginning', 43097: 'pad', 67358: 'gee', 27303: 'stinks', 65833: 'carl', 49161: 'ahhh', 63827: \"they've\", 24454: 'rolling', 68424: 'eyes', 10064: 'mistresses', 53197: 'sotto', 59431: 'dump', 55935: 'mayor_joe_quimby:', 10095: 'quimby_#2:', 10110: 'quimbys:', 67275: 'disappointed', 50263: 'wondering', 61268: 'ringing', 10165: 'bell', 10171: 'ye', 10219: 'jebediah', 47338: 'cutie', 65260: 'cute', 40287: 'bums', 48776: 'ahead', 29105: 'angel', 45409: 'evil', 10300: 'blood-thirsty', 10301: 'pirate', 54198: 'hated', 23109: '&', 30706: 'horrified', 57982: 'turns', 58015: \"y'know\", 10254: 'support', 65317: 'most', 10257: 'prejudice', 10264: 'hero-phobia', 10265: 'sickens', 21639: 'exit', 57421: 'breath', 10309: 'jubilation', 10310: 'committee', 28472: 'jubilant', 10367: 'waylon', 10374: 'vicious', 68154: 'pants', 65009: 'crap', 67667: 'tongue', 43055: 'boat', 54026: 'window', 25576: 'midnight', 10604: 'delivery', 10468: 'distract', 67406: 'until', 10472: 'safely', 25462: 'truck', 40650: 'forward', 65982: 'working', 66391: 'yourself', 10522: 'choices:', 10532: 'barney-guarding', 10541: 'contemplated', 17391: 'darkest', 54082: 'whatever', 10602: 'truck_driver:', 10638: 'dracula', 10660: 'marry', 68919: 'selma', 10703: 'jovial', 68436: 'kidding', 61686: 'compliment', 66297: 'beers', 10733: 'sickly', 68949: 'burp', 10744: 'ura', 10745: 'snotball', 65972: 'barn', 66363: 'said', 51047: 'calculate', 63306: 'tab', 57464: 'dead', 30228: 'results', 62287: 'came', 40258: 'owe', 10814: '70', 10848: 'billion', 10838: 'voyager', 29943: 'space', 10840: 'craft', 10846: \"tab's\", 10847: '14', 10855: 'alls', 44435: 'considering', 10871: 'halfway', 53591: 'snake_jailbird:', 34962: 'freeze', 67695: 'dude', 48218: 'move', 10888: 'muscle', 46379: 'blow', 10893: \"wino's\", 10900: 'muffled', 10905: 'inches', 10907: 'bullet-proof', 11074: 'reasonable', 67032: 'stay', 10947: 'student', 53541: 'ha-ha', 59162: \"stinkin'\", 67750: 'wonder', 10989: 'aggravazes', 10994: 'immiggants', 35267: \"livin'\", 11010: 'bothered', 66749: 'learn', 37668: 'themselves', 11015: 'language', 59965: 'exactly', 11025: 'sentimonies', 11040: \"jimbo's_dad:\", 51838: \"tellin'\", 34849: 'raise', 11053: \"dolph's_dad:\", 65697: 'live', 11066: 'throws', 46986: 'punch', 15543: 'oof', 11176: 'belt', 11090: 'ugh', 11093: \"kearney's_dad:\", 11096: \"somethin's\", 60699: 'wrong', 11109: \"fun's\", 11127: 'two-drink', 64957: 'jeez', 68803: 'stand', 11146: 'punishment', 11154: 'three-man', 11155: \"poundin'\", 67370: 'fall', 24306: 'glum', 11175: \"kid's\", 11191: 'beatings', 11204: 'spirit', 11210: 'prizefighters', 66485: 'boxing', 11240: 'perking', 11261: 'boxers', 16982: 'steak', 11267: 'lobster', 54142: 'salad', 12682: 'meal', 22814: 'awe', 11284: 'dressing', 68800: 'choice', 42542: 'test', 11318: 'limits', 59143: 'opportunity', 11339: 'arise', 11350: 'clincher', 11362: 'sixty', 44078: 'percent', 63255: 'woo', 12030: 'manage', 11398: 'wantcha', 55412: 'complete', 11402: 'faith', 65515: \"c'mere\", 58509: \"somethin'\", 16019: 'realized', 43521: \"hadn't\", 68068: 'ladies', 11443: '1979', 55376: 'turned', 11450: 'office', 12098: 'boxer', 63743: 'yep', 11585: 'gorgeous', 11483: 'presentable', 11489: 'gruesome', 65469: 'finally', 23479: \"meanin'\", 66067: 'empty', 11912: 'lucius', 67628: 'biggest', 68011: 'rich', 34073: 'famous', 42627: 'don', 50720: 'manager', 51974: 'somehow', 67200: \"'cause\", 36854: 'knocked', 40520: 'row', 11634: 'politics', 44707: 'bitter', 21870: 'agreement', 11646: 'democrats', 61420: \"you'd\", 11661: 'causes', 50094: 'brain', 11663: 'damage', 11719: 'fighting', 11674: 'boxcar', 32347: 'bob', 11679: 'brawled', 11685: 'boxcars', 63656: 'yet', 66909: 'lives', 59770: 'train', 61903: 'yard', 49258: 'hungry', 57358: 'young', 11712: 'fighter', 37992: 'fact', 64012: 'sandwich', 11735: 'mitts', 65492: 'touched', 11770: 'barbed', 11784: 'stinger', 11823: 'drawn', 67821: 'match', 29343: 'punches', 11847: \"tramp's\", 40418: 'energy', 12274: 'hobo', 11861: 'stops', 11862: 'punching', 11866: \"'cept\", 11871: 'bindle', 55000: 'tired', 11885: \"now's\", 69021: 'chance', 11892: 'nudge', 12161: 'lucius:', 11901: 'delightful', 14503: 'awed', 11918: 'glitterati', 61043: \"doin'\", 11940: 'managing', 47068: 'champ', 47108: 'drederick', 11945: 'highest', 11946: 'priority', 66242: 'though', 11952: 'temporarily', 11953: 'incarcerated', 11955: 'pushing', 68217: 'mother', 11960: 'stairs', 11965: 'impending', 42785: 'release', 11970: 'strategizing', 11973: 'glorious', 49143: 'return', 11977: 'shores', 11979: 'fistiana', 11993: 'comeback', 68745: 'fight', 12014: \"donatin'\", 51704: 'body', 67718: 'word', 12032: 'stalwart', 12034: 'pugilist', 30850: 'cannot', 41269: 'incredulous', 47070: 'tatum', 66158: 'fans', 31114: 'weary', 12064: 'fights', 12085: 'sustain', 12086: 'verticality', 12163: 'rounds', 35396: 'freak', 12107: \"tatum'll\", 12108: 'fustigate', 12115: 'fustigation', 12123: 'choice:', 68788: 'either', 56687: 'sit', 68545: 'room', 12135: 'faded', 55129: 'dramatic', 12192: 'tar-paper', 12197: 'naively', 12218: 'champion', 63528: 'saturday', 62537: 'parking', 48652: 'impressed', 47218: 'general', 12279: 'evasive', 68034: 'trust', 63561: \"buyin'\", 57269: 'bill', 12358: 'charged', 12367: 'landfill', 42730: 'remembering', 36872: 'fondly', 17675: 'worth', 12389: 'burg', 57320: 'against', 12397: 'pussycat', 12405: 'doll-baby', 52698: 'kirk_van_houten:', 63620: 'lady', 12438: 'starla', 12441: 'starla:', 64025: 'keys', 15960: 'lover', 66040: 'changing', 12457: 'wigs', 12465: \"starla's\", 12467: 'temp', 12469: 'k-zug', 12471: \"'kay-zugg'\", 36566: 'radio', 12474: '530', 68254: \"she's\", 12481: 'launch', 12496: 'demo', 35144: 'tape', 12518: 'borrow', 60560: 'front', 65343: 'already', 67512: 'happened', 21820: 'granted', 23317: 'twelve', 51479: 'helped', 12584: 'housework', 44163: \"could've\", 66426: 'least', 58474: 'stayed', 59920: 'shape', 45878: 'taken', 61626: 'sex', 12653: 'self-centered', 12672: 'though:', 12688: 'thawing', 57060: 'gas', 12695: 'station', 12696: 'sink', 12748: 'broken:', 52538: 'strong', 56447: 'built', 64142: 'solid', 12756: 'foundation', 27944: 'routine', 12791: 'mate', 37456: 'chum', 12812: 'helpful', 12816: 'crony', 37460: 'acquaintance', 12825: 'sam:', 12828: 'sympathizer', 12831: 'bumblebee_man:', 12832: 'compadre', 12835: 'kearney_zzyzwicz:', 12836: 'associate', 12842: 'contemporary', 12848: 'well-wisher', 12857: 'specific', 12858: 'harm', 12874: 'friday', 12900: 'düff', 12903: 'doof', 12906: 'sweden', 12914: 'skoal', 60805: 'sips', 12930: 'nasty', 68512: 'ha', 65720: 'hmm', 12970: 'refreshing', 54524: 'quite', 65640: 'finger', 52401: 'm', 65240: 'spend', 16878: 'quality', 13018: 'breathalyzer', 63209: 'drive', 13193: 'fox_mulder:', 13048: 'recreate', 64685: 'saw', 13057: 'alien', 67362: 'evening', 45676: 'began', 53815: \"gentleman's\", 56525: 'discussing', 13075: 'wittgenstein', 13080: 'backgammon', 13083: 'dana_scully:', 13090: 'felony', 48023: 'lie', 65929: 'sitting', 67289: \"barney's\", 13109: 'packets', 13111: 'mustard', 13197: 'scully', 13125: \"fine-lookin'\", 13148: 'remorseful', 38630: 'penny', 13190: 'anyhow', 13194: 'agents', 13195: 'mulder', 13204: 'edgy', 13212: \"s'cuse\", 13220: 'dimly', 13242: 'generously', 64865: \"money's\", 13279: 'raking', 51274: 'fat_tony:', 45671: 'clears', 68904: 'fat', 40260: 'tony', 26836: 'mafia', 13317: 'nervously', 58536: 'asking', 63428: 'favor', 54439: 'crime', 13361: 'syndicate', 66467: 'hurt', 40311: 'mob', 31693: 'indignant', 67714: 'hanging', 13462: 'ambrose', 13463: 'burnside', 65969: 'crazy', 13474: 'stonewall', 13475: 'jackson', 55243: 'south', 27805: 'entire', 13515: 'steel', 13498: 'mill', 47886: 'gay', 53111: 'surprised', 13516: \"industry's\", 13523: 'aerospace', 13529: 'railroads', 61019: 'else', 67478: 'nods', 13539: 'knowingly', 63344: 'broadway', 65587: 'always', 13547: 'hoped', 13548: \"bart'd\", 65405: 'grow', 13567: 'mystery', 69095: 'whole', 57702: 'modern', 13574: \"swishifyin'\", 13575: 'effect', 13582: \"mtv's\", 30842: 'diet', 13715: 'sodas', 62692: 'set', 68421: 'straight', 13966: 'neither', 61824: 'fast', 13632: 'lessee', 13650: \"shootin'\", 13652: \"man'd\", 45293: 'fix', 13666: 'wars', 13673: 'warren', 50253: 'christopher', 47335: 'shoot', 18731: 'deer', 38283: 'shooting', 65683: 'beautiful', 49941: 'bags', 13732: 'grandkids', 13739: 'considers', 22541: 'hunting', 40243: 'whiny', 13756: 'st', 64738: \"patrick's\", 68755: \"o'clock\", 65893: \"we'd\", 35276: 'kicked', 13818: 'metal', 13834: 'busiest', 63903: \"drinkin'\", 32886: 'designated', 59704: 'drivers', 13857: 'cheapskates', 13870: 'ireland', 13888: 'menacing', 13892: 'yew', 13901: 'bathtub', 13902: 'mint', 13903: 'julep', 53965: 'writing', 65444: 'believe', 30321: 'enemy', 65318: 'beloved', 65748: 'weird', 34866: 'accept', 36663: 'written', 49644: 'enemies', 61099: 'list', 14015: 'jane', 14016: 'fonda', 14018: 'daniel', 14019: 'schorr', 14022: 'anderson', 14030: 'richard', 14031: \"nixon's\", 60784: 'crossed', 20308: 'morose', 45789: 'invite', 67385: 'dinner', 14095: 'expecting', 32566: 'bam', 14136: 'chauffeur', 14141: 'lift', 52254: 'drug', 67840: 'yelling', 14186: \"washin'\", 14196: 'desperately', 44142: 'lonely', 14205: 'belly-aching', 14217: 'wh', 14233: 'abe', 14240: 'dea-d-d-dead', 14244: 'stooges', 40374: 'scared', 64960: 'sound', 45382: 'upbeat', 14313: 'love-matic', 52308: 'grampa', 60657: 'singers:', 30148: 'peppy', 14282: 'shopping', 14285: 'cans', 24693: 'passed', 14486: 'floated', 28460: 'toward', 63680: 'heaven', 14318: 'wise', 14319: 'socratic', 14324: 'swelling', 14326: 'mushy', 14332: 'hearts', 14365: 'pinball', 66287: 'quiet', 14388: 'western', 14398: 'dishrag', 14410: 'crab', 14415: 'talkers', 54137: 'defensive', 48937: 'sweeter', 14430: 'jewish', 56580: 'wine', 50404: 'walks', 14472: 'catch-phrase', 14476: 'grrrreetings', 67687: 'son', 14514: 'darn', 14515: \"tootin'\", 14519: 'fink', 67682: 'buried', 54340: 'naked', 56084: 'sold', 59679: 'suit', 14532: 'ping-pong', 19960: 'dismissive', 19823: 'snort', 62777: 'karaoke', 14565: 'plug', 14740: 'betty:', 14589: \"usin'\", 14591: \"phone's\", 14593: 'four-drink', 68792: 'mechanical', 14623: 'test-', 14626: 'test-lady', 14630: \"g'ahead\", 14643: 'clammy', 21814: 'suppose', 14671: 'lovelorn', 14673: 'you-need-man', 14675: 'moe-near-now', 14677: 'go-near-', 49951: 'confused', 56573: 'explaining', 57675: 'near', 14704: 'endorsement', 61398: 'sometime', 44246: 'fancy', 64311: 'french', 59866: 'sexy', 54828: 'having', 14762: 'breakfast', 15771: 'expert', 48065: 'dang', 67834: 'kissing', 53925: 'during', 19291: 'spread', 61799: 'germs', 14826: 'rush', 67424: 'clear', 67600: 'started', 14856: \"'evening\", 14862: \"'morning\", 14867: 'chauffeur:', 14895: '91', 68485: 'per', 34869: 'cent', 60380: 'traffic', 14901: 'accidents', 33542: 'caused', 61088: 'news', 14934: 'choose', 59160: 'same', 41359: 'pope', 67792: 'reach', 47329: 'draw', 67182: 'egg', 14954: 'whoever', 59172: 'gets', 14959: 'stays', 36263: 'sober', 14965: 'noooooooooo', 36276: 'peter', 14986: 'pantsless', 40149: 'pained', 65036: 'longer', 56963: 'duffman:', 15040: 'duffed', 54855: 'duffman', 61550: 'costume', 15055: 'creates', 15056: 'awareness', 34609: 'labels', 15086: 'bottomless', 53137: 'mug', 54367: 'extra', 55026: 'cold', 38014: 'card', 15107: 'cheerleaders:', 48705: 'cheers', 15110: 'and:', 35843: 'chug', 52526: 'straining', 32887: 'driver', 15136: 'perfunctory', 15138: 'brusque', 15140: 'ehhh', 15145: 'swell', 15148: 'wholeheartedly', 15149: 'supports', 44561: 'program', 15186: 'shaky', 66969: 'months', 56754: 'giving', 15200: 'lecture', 15202: 'villanova', 15212: 'streetcorner', 15218: 'anger', 15235: 'ought', 15265: 'parasol', 26664: 'conditioner', 15289: 'congratulations', 68060: 'chick', 67157: 'jar', 15330: 'cockroach', 15335: 'displeased', 33799: 'sweetheart', 37053: 'health', 36723: 'inspector', 15349: 'man_at_bar:', 58248: 'margarita', 15378: \"scammin'\", 30476: 'planning', 55229: 'vacation', 15413: 'easter', 15424: 'giant', 51424: 'heads', 64748: 'terrible', 15451: 'rumor', 41645: 'threw', 59819: 'recommend', 49594: 'severe', 15499: 'depression', 64710: 'booze', 15517: 'depressant', 52838: 'chase', 62982: 'blues', 34549: 'manjula', 15563: 'sight-unseen', 22964: \"countin'\", 15583: 'twenty-four', 35777: 'freedom', 66974: 'checking', 15597: 'chipper', 19391: 'showing', 67693: 'sad', 15640: 'dirge-like', 15647: 'blooded', 23085: 'fever', 51926: 'spending', 15679: 'bachelorhood', 15717: 'jasper_beardly:', 23005: 'reaching', 54429: 'switch', 38577: 'bubbles', 15740: 'hot-rod', 15742: 'souped', 31735: 'ways', 15755: 'gear-head', 63199: 'casual', 15780: 'six-barrel', 15781: 'hollye', 15782: 'carb', 15787: 'betcha', 15791: 'edelbrock', 15792: 'intakes', 15803: 'meyerhof', 15804: 'lifters', 15826: 'dignity', 49927: 'rough', 65947: 'christmas', 15853: 'breakdown', 15856: 'society', 60696: 'pissed', 15919: 'dateline:', 45401: 'kent', 57315: 'brockman', 66683: 'scene', 15931: 'burglary', 15935: 'creature', 62734: 'stirring', 35282: 'husband', 30671: \"ma'am\", 58419: 'church', 15981: 'intoxicated', 68659: 'smile', 15994: 'marjorie', 63703: 'threatening', 56516: 'absolutely', 16050: 'devastated', 68671: 'words', 16057: 'heart-broken', 16072: 'sweater', 16078: 'cajun', 16089: 'sneering', 30427: 'turkey', 16108: 'choke', 19031: 'scam', 20852: 'jesus', 68854: 'must', 65002: 'spinning', 16386: 'grave', 49626: 'illegal', 16155: 'enthusiastically', 61853: 'pats', 16175: 'stomach', 66092: 'cover', 66167: 'folks', 16210: 'bushes', 16214: 'tapping', 27225: 'mic', 16242: 'further', 16254: 'zinged', 68382: 'angry', 16273: 'spews', 65863: 'truth', 16277: 'orifice', 16291: 'indifference', 50565: \"watchin'\", 16313: 'clapping', 52874: \"seein'\", 16330: \"hawkin'\", 64166: 'products', 16336: 'vincent', 50369: 'price', 16338: \"floatin'\", 37129: 'toilet', 62967: 'cake', 16349: 'horrors', 16353: 'unfresh', 16371: 'winston', 16423: 'churchill', 37627: 'der', 16377: 'wienerschnitzel', 16384: 'madison', 16385: 'avenue', 16387: 'robbers', 16401: 'various', 63111: 'crowd', 16422: 'impeach', 16433: 'crooks', 54568: \"makin'\", 48134: 'agnes_skinner:', 16490: 'allowance', 57466: 'burn', 16511: 'cats', 48285: 'purse', 16531: '$42', 67114: 'everything', 68730: 'run', 16541: 'bury', 66352: 'mom', 65792: 'screw', 16598: 'businessman_#1:', 16592: 'businessman_#2:', 17809: 'firmly', 16609: 'boston', 64711: 'bag', 57854: 'case', 33117: \"drivin'\", 16659: 'suits', 61715: 'sports', 17092: 'utility', 16673: 'vehicle', 16677: 'oooo', 16703: 'ignoring', 16819: 'creeps', 16737: 'followed', 16741: 'begging', 16962: 'roomy', 17165: 'canyonero', 16764: 'combines', 65513: 'smooth', 16767: 'handling', 68707: 'european', 16775: 'rugged', 16776: 'driveability', 16779: 'sturdy', 16780: '4x4', 61705: 'noises', 54617: 'talking', 16838: \"ya'\", 16844: 'cadillac', 16846: 'automobiles', 67851: 'boo', 31732: 'plenty', 16870: 'beefs', 16872: 'fat-free', 46638: 'yogurt', 16877: 'th-th-th-the', 64847: 'computer', 41296: 'porn', 16884: 'groan', 16887: 'jay:', 16891: 'shoulda', 16912: 'shill', 16918: 'indifferent', 18861: 'thoughtfully', 33703: 'selling', 56976: 'ride', 17160: 'hank_williams_jr', 54556: ':', 68936: 'wheel', 51030: 'seats', 16985: '35', 62926: 'whip', 17114: 'crack', 17009: 'hammer', 17014: 'country-fried', 17016: 'endorsed', 17032: 'federal', 17041: 'highway', 34967: 'commission', 17036: 'ruled', 17039: 'unsafe', 67515: 'city', 62375: 'driving', 17047: 'chorus:', 67354: 'yards', 17062: 'lanes', 62987: 'wide', 17066: 'sixty-five', 17067: 'tons', 56440: 'american', 55061: 'pride', 17096: 'unexplained', 17097: 'fires', 17103: 'courts', 17121: 'blinds', 40415: 'beam', 17132: 'squirrel', 17133: 'squashing', 17136: \"smackin'\", 17150: 'canyoner-oooo', 17154: 'hyahh', 62300: 'toasting', 17182: 'blissful', 17186: 'hiding', 17214: 'rash', 17245: 'whatchacallit', 34614: 'mail', 39610: 'order', 38755: 'bride', 17267: 'homesick', 17273: 'diving', 17275: 'tourist', 17276: 'pennies', 17279: 'micronesian', 17280: 'swamp', 17304: 'mirror', 17315: 'puke-pail', 37687: 'fabulous', 17353: \"fendin'\", 17356: 'starlets', 17359: 'pointy', 55529: 'due', 17371: 'ugliness', 17409: 'dozen', 37206: 'roses', 18385: 'renee', 65383: 'treasure', 17442: 'ram', 17498: 'players', 17504: 'maxed', 67335: 'flowers', 17523: 'tenuous', 53902: 'girlfriend', 17559: 'pinchpenny', 17577: 'besides', 17613: 'tabs', 41519: 'bunch', 17620: 'ungrateful', 17621: 'ingrates', 35156: 'distraught', 17640: \"renee's\", 20206: 'kidney', 17686: 'insured', 17709: 'wreck', 17730: 'awkwardly', 49539: 'dropped', 18387: 'dearest', 25932: 'warily', 17800: 'insist', 42331: 'plan', 43021: 'placing', 17829: 'model', 17831: 'represents', 17839: 'olive', 17868: \"car's\", 17881: 'toy', 17913: 'waterfront', 63585: 'part', 49789: \"town's\", 17945: \"department's\", 17946: 'moonlight', 34607: 'charity', 17948: 'cruise', 17979: 'righ', 17997: 'alibi', 49480: 'park', 31093: 'railroad', 18010: 'tracks', 18015: '10:15', 18024: 'wham', 18027: 'insurance', 63321: 'pays', 18033: 'clams', 18053: 'troubles', 33757: 'coward', 18358: 'renee:', 62218: 'i-i', 57660: 'law', 18116: 'betrayed', 48879: 'wasting', 18137: 'low-life', 18155: 'y-you', 18182: 'hmf', 67550: 'being', 18188: 'locked', 33557: 'medicine', 59722: 'sudden', 50860: 'unless', 18219: 'clearing', 68926: 'hopeful', 18243: 'graveyard', 18370: 'corpses', 64418: 'stunned', 18267: 'we-we-we', 63636: 'pour', 18283: 'brandy', 18326: 'fwooof', 18334: 'hawaii', 18407: 'yelp', 60625: 'pain', 18424: 'murderously', 18443: 'oh-ho', 40434: 'attack', 28603: 'yell', 33495: 'sleep', 64768: 'also', 18498: \"g'night\", 18500: 'mommy', 68715: 'screams', 55556: \"world's\", 67074: 'rat', 68112: 'forgive', 18550: 'sincerely', 18556: 'tearfully', 65672: 'watching', 54241: 'aww', 66947: 'sobbing', 35105: 'puts', 63180: 'arm', 18603: 'beady', 18609: \"homer'll\", 35170: 'joined', 18624: 'naval', 42738: 'seeing', 18685: 'joining', 26992: 'although', 18694: 'strictly', 18695: 'forbids', 43172: 'military', 48556: 'hunter', 18739: 'hah', 32951: 'reminds', 18759: 'thorn', 54338: \"pope's\", 18767: 'grants', 18791: 'wondered', 18837: 'ironed', 18809: \"that'd\", 18833: 'heatherton', 18845: 'tempting', 18868: 'agent_miller:', 18873: 'flashing', 18874: 'badge', 18876: 'united', 18877: 'states', 54686: 'panicky', 18892: 'wiping', 49663: 'blown', 18920: 'signal', 21303: 'involved', 18947: 'activity', 18949: 'cause', 19115: 'agent_johnson:', 64950: \"sayin'\", 18984: 'commit', 19003: 'crimes', 19007: 'fired', 52761: 'running', 19020: 'moonshine', 19024: 'basement', 19030: 'telemarketing', 19037: 'uhhhh', 61089: 'involving', 19060: 'george', 27609: 'bush', 19072: 'seething', 19081: 'charlie:', 19089: 'militia', 19098: 'sorts', 19101: 'officials', 66246: \"that'll\", 19107: 'drag', 19111: 'high-definition', 19120: 'conspiracy', 56800: 'charlie', 19133: 'musta', 19134: 'ratted', 43271: 'ridiculous', 19148: 'transmission', 52759: 'campaign', 19161: 'disaster', 68692: 'public', 19178: 'wishful', 45001: \"they'd\", 19183: 'elect', 19189: 'vengeful', 60421: 'worried', 59751: 'focus', 19241: 'slogan', 19243: 'appeals', 23580: 'lazy', 19248: 'slobs', 52378: 'message', 21275: 'raises', 65265: 'arms', 19303: 'triumphantly', 46629: 'stagy', 60149: 'knowing', 58319: 'seriously', 19357: 'u2:', 19359: 'sanitation', 47635: 'jolly', 19365: 'blokes', 19367: 'courteous', 19369: 'easygoing', 19372: 'the_edge:', 63466: 'mop', 19378: 'overflowing', 19383: 'bono:', 19389: 'arse', 63342: 'broad', 30095: 'stands', 23312: 'ocean', 19412: 'knocks', 19594: 'bathing', 19429: 'omit', 19431: 'detail', 65137: 'small', 59434: 'filthy', 19487: 'spellbinding', 43025: 'upon', 19498: 'thomas', 19644: 'edison', 19505: 'dictating', 19509: 'fluoroscope', 19512: 'repeating', 19513: 'telegraph', 49719: 'increasingly', 19521: 'breathless', 19530: 'firm', 19531: 'believer', 19533: 'fletcherism', 50905: 'played', 20239: 'organ', 19547: 'heliotrope', 37252: 'middle', 19556: 'alva', 19565: 'wore', 19566: 'pajamas', 68227: 'dame', 19634: 'rubs', 19635: 'temples', 45237: 'worked', 19649: 'menlo', 19659: 'tasimeter', 19662: 'ore', 19663: 'separator', 50952: 'james', 19673: 'watt', 19676: 'steam', 19677: 'engine', 53599: 'boring', 19709: 'unusually', 19710: 'focused', 19718: 'squeal', 55948: 'hole', 40255: 'jockey', 62555: 'totally', 19730: 'waste', 19737: \"somebody's\", 41005: 'grumpy', 19740: 'gus', 19746: 'yoink', 19753: 'peeved', 47678: 'crying', 32036: \"springfield's\", 19771: 'citizens', 19773: 'murdered', 65891: 'bartender', 50409: 'szyslak', 19782: 'watered', 19786: 'highball', 19920: 'bigger', 19822: 'derisive', 19837: 'grocery', 41873: 'cotton', 45454: 'balls', 19852: 'absorbent', 19860: 'youuu', 62151: 'round', 59810: 'corner', 19880: 'ointment', 19881: 'aisle', 51022: 'none', 58873: 'mister', 61033: 'channel', 45406: '6', 19926: 'coy', 62605: 'promised', 19982: 'kim_basinger:', 19991: 'alec_baldwin:', 20002: 'ron_howard:', 60741: 'vodka', 20047: 'gentleman:', 20013: 'statesmanlike', 40172: 'celebrity', 39600: 'summer', 56185: 'bubble', 67560: 'telling', 65571: 'brave', 20183: 'operation', 20124: 'doctor', 20193: 'procedure', 20140: 'polenta', 20192: 'deadly', 20151: 'life-threatening', 23878: 'surgery', 57757: 'survive', 64159: 'correcting', 65847: 'point', 66134: 'able', 53511: \"tryin'\", 68456: 'scare', 20240: 'donor', 20241: 'sucker', 20242: 'lists', 50099: 'eyeball', 20251: 'spine', 20254: 'vestigial', 20264: 'plaintive', 20291: 'buttocks', 61999: 'comfortable', 37517: 'lips', 60615: 'catching', 20341: 'harvesting', 20354: 'eyeing', 20374: 'hostile', 20385: \"'round\", 34246: 'mess', 32200: 'bathroom', 20409: 'y', 20417: 'dime', 42296: 'mayor', 20420: 'quimby', 20440: 'puke-holes', 20450: 'reserved', 20456: 'cronies', 20466: 'düffenbraus', 20481: 'semi-imported', 20484: 'guzzles', 20499: 'generosity', 20501: 'greatly', 20502: 'appreciated', 53371: 'especially', 36896: 'inspection', 40178: 'season', 20533: 'stagey', 63405: \"workin'\", 20546: 'roach', 24109: 'grunt', 20576: 'hubub', 26820: 'isotopes', 63822: 'losers', 20621: 'sniper', 66484: 'all-star', 20628: 'blessing', 20630: 'disguise', 20799: 'wooooo', 20899: \"'topes\", 20653: 'ruuuule', 20661: 'die-hard', 58041: 'fan', 55397: 'history', 20681: 'winded', 59452: 'excitement', 38659: 'team', 67066: 'grabbing', 20735: \"brockman's\", 20736: 'microphone', 20738: 'woooooo', 46931: 'inspiring', 47992: \"who'll\", 20758: 'root', 52049: 'lose', 20769: 'ga', 40633: \"game's\", 20888: 'dennis_conroy:', 66759: 'bottom', 20823: 'ninth', 20826: 'outs', 23008: 'pitch', 64319: 'spanish', 20847: 'j', 20849: \"'s\", 20851: 'jumping', 20880: 'technical', 33641: 'director', 20884: 'stan', 20885: 'kadlubowski', 20917: 'rumaki', 20961: 'sports_announcer:', 59346: 'road', 52672: 'pointless', 20950: 'injury', 20952: \"football's\", 21328: 'conference', 20967: 'champs', 20971: 'harrowing', 62782: 'bye', 64092: 'week', 20977: 'enjoys', 20982: 'scornful', 49182: 'weeks', 20987: 'bronco', 20988: 'nagurski', 21001: 'reconsidering', 21247: 'wally:', 21040: 'coupon', 62976: 'flips', 21059: 'travel', 21060: 'agency', 21067: 'charter', 21090: 'dreamily', 21126: 'coach:', 21107: 'quarterback', 68930: \"wife's\", 62590: 'leg', 21158: 'wally', 26778: \"team's\", 21177: 'it:', 21216: 'atlanta', 21217: 'falcons', 27928: 'lowers', 68985: 'loved', 21233: 'count', 21240: 'broncos', 46829: 'grabs', 21282: 'hillary', 21299: 'adventure', 42495: 'mmm', 56050: 'foil', 21322: 'assassination', 43536: 'peace', 56954: 'character', 53225: 'yup', 21353: 'scarf', 56816: 'beating', 21368: 'lance', 37446: 'partner', 21537: 'detective_homer_simpson:', 21408: 'supervising', 40044: 'guns', 34262: 'toys', 53593: 'exasperated', 21550: 'simp-sonnnn', 48943: \"guy's\", 65805: 'changed', 21471: 'bumbling', 21472: 'sidekick', 46912: 'acting', 21496: 'infiltrate', 57549: 'gang', 49836: 'international', 21501: 'idiots', 21513: 'destroyed', 21516: 'shipment', 21524: 'indeedy', 21534: 'insulin', 21539: 'haplessly', 21543: \"spaghetti-o's\", 67324: 'act', 21589: 'dum-dum', 21593: 'unintelligent', 21599: 'shutup', 21607: 'diminish', 21615: 'bid', 58911: 'choking', 21631: 'who-o-oa', 21652: 'encore', 21666: 'encores', 68885: 'hour', 51927: \"valentine's\", 21866: 'men:', 21899: 'amid', 53410: \"men's\", 21713: 'reactions', 53235: 'edna', 21727: 'clap', 21729: 'erasers', 21732: 'sideshow_mel:', 21734: 'barbara', 21743: 'arts', 21750: 'stalking', 21753: 'bumped', 21776: 'murmurs', 21765: 'sympathy', 36997: 'yourselves', 21802: 'guiltily', 21818: 'maude', 46907: 'easier', 21900: 'curious', 21920: 'shriners', 21923: 'old_jewish_man:', 21941: 'traitor', 28343: 'matter-of-fact', 21972: 'astrid', 21976: 'dealer', 21985: 'gunter', 53905: 'kyoto', 21990: 'cecil', 21991: 'hampstead-on-cecil-cecil', 22002: 'eurotrash', 22017: 'gunter:', 22026: 'adrift', 22048: 'sea', 22031: 'decadent', 22032: 'luxury', 22034: 'meaningless', 22050: 'located', 22053: 'cecil_terwilliger:', 22060: 'hotel', 22062: 'practice', 22064: 'affectations', 22068: 'bon', 22069: 'soir', 52300: 'fritz', 22074: 'feld', 22096: 'priceless', 22097: 'sketch', 22100: 'certificate', 22102: 'authenticity', 22110: 'sketching', 53445: 'drawing', 22134: 'twelve-step', 50229: 'hilarious', 22216: 'novelty', 22217: 'item', 22296: 'chosen', 25449: 'justice', 22301: 'squadron', 22303: '8', 22308: 'monday', 22311: 'municipal', 22312: 'fortress', 22314: 'vengeance', 54277: 'professor_jonathan_frink:', 22327: 'studied', 47816: 'patterns', 22336: 'fastest', 57418: 'yellow', 22350: 'lights', 51000: 'frink', 22421: 'hawking:', 22359: 'theory', 22362: 'donut-shaped', 22363: 'universe', 22365: 'intriguing', 42144: \"hangin'\", 61836: 'paying', 22416: 'computer_voice_2:', 22440: 'larry', 22441: 'flynt', 22447: 'stink', 64327: 'japanese', 22474: \"hell's\", 28179: 'putting', 33322: 'tentative', 55206: 'annoyed', 28169: 'searching', 35450: 'umm', 57745: 'tap', 22519: 'jazz', 22524: 'regretted', 63206: 'supposed', 22567: 'helpless', 22583: 'frescas', 22594: 'hushed', 34472: 'embarrassing', 56885: 'needs', 22624: \"bladder's\", 22632: 'urine', 31521: 'past', 22665: 'heavyset', 22712: 'insulted', 22701: 'tommy', 65170: 'tune', 37975: 'honor', 22727: 'demand', 22731: 'slaps', 22879: 'glove', 32912: 'challenge', 22748: 'duel', 22758: 'extreme', 46267: 'given', 22798: 'slapped', 22801: \"duelin'\", 32809: 'slap', 22840: 'shack', 22861: \"b-52's:\", 22877: 'sat-is-fac-tion', 22898: 'feat', 22904: 'forgotten', 22917: 'depressed', 58851: 'tears', 22948: 'shred', 22955: 'shreda', 25674: 'cocktail', 22995: 'radishes', 54659: 'counting', 23011: 'fevered', 23012: 'rivalry', 30758: 'between', 28110: 'u', 23022: 'spreads', 23024: 'wildfever', 23026: 'th', 23038: 'writer:', 23059: 'thesaurus', 23074: 'preparation', 67621: 'stadium', 61040: 'caught', 23084: 'additional-seating-capacity', 23115: 'ivy-covered', 39125: 'cow', 56194: 'college', 23144: 'founded', 23162: 'kegs', 57215: 'finest', 23166: 'imported-sounding', 23173: 'tuborg', 23185: 'danish', 23179: 'kings', 58948: 'p', 23207: 'accounta', 23239: 'sun', 52932: 'across', 23243: 'sky', 41804: 'joking', 23292: 'sail', 23296: 'waters', 23304: 'theme', 42265: 'laws', 60377: 'held', 23332: 'tyson/secretariat', 35307: 'knees', 69017: 'throwing', 23359: 'wildest', 45312: 'seas', 45779: \"bein'\", 55911: 'eyesore', 58114: 'plastic', 23414: 'calendars', 23435: 'liquor', 23448: 'license', 23441: 'examines', 23449: 'expired', 23451: '1973', 23462: 'rhode', 23467: 'signed', 23483: 'updated', 23498: 'poster', 23503: 'moe-lennium', 23510: 'sticker', 23521: 'viva', 57019: 'la', 55826: 'jeff', 23564: 'relative', 67645: 'dumb', 59938: 'bald', 68190: 'worse', 23625: 'stickers', 56511: 'ugliest', 23651: 'uglier', 42027: 'white', 57437: 'castle', 64002: 'ho', 23670: 'pigtown', 63042: 'gargoyle', 23696: 'cauliflower', 23697: 'ear', 23702: 'lizard', 23718: 'caveman', 43027: 'brow', 67489: 'fish', 23729: 'snout', 43481: 'pleasant', 23777: 'emphasis', 23789: 'maher', 46118: 'dynamite', 25353: 'mount', 23817: 'crapmore', 23824: 'kisser', 66077: 'inside', 34380: 'carlson', 23894: 'spotting', 23933: 'windowshade', 23949: 'grope', 23958: 'softer', 27485: 'harder', 58021: 'women', 68613: 'busy', 67451: 're:', 30486: 'nearly', 24022: 'complicated', 60915: 'seem', 24059: 'maintenance', 65470: 'wash', 63513: 'rub', 24070: \"neat's-foot\", 24094: 'hooters', 24118: 'wraps', 24137: 'crushed', 68476: 'third', 42143: 'beats', 24209: 'tax', 24210: 'hike', 24217: 'mabel', 37379: 'trusted', 24236: 'voted', 24238: 'chastity', 24239: 'bono', 24283: 'influence', 59112: 'jerk', 24312: 'glummy', 62444: 'sincere', 24378: 'shindig', 24386: 'videotaped', 24415: 'slot', 24420: 'package', 24429: 'tha', 24471: 'poem', 24467: 'occasion', 24479: 'older', 24483: 'flew', 26410: 'grunts', 24527: 'planet', 45924: 'chinese', 45848: 'uncomfortable', 24553: 'upsetting', 24563: 'stage', 28705: 'professor', 24571: 'talkative', 24573: 'coherent', 64761: 'upset', 24612: 'yourse', 63765: 'precious', 24633: 'soaking', 24635: 'shag', 26759: 'disgrace', 24686: 'disgracefully', 24702: 'presents', 67029: 'mine', 24721: 'without:', 24722: 'morning-after', 47805: 'stationery', 24838: 'helicopter', 36087: 'flying', 64876: 'lessons', 24743: 'boozebag', 24749: 'whirlybird', 24793: 'tanked-up', 47242: 'sweetly', 24783: 'b-day', 24785: 'punkin', 63862: 'certain', 24815: 'tanking', 31388: 'fly', 24911: \"handwriting's\", 24918: 'afloat', 36517: \"bar's\", 47974: 'queer', 35529: 'guide', 66651: 'calmly', 24972: 'santeria', 24994: 'breaks', 25021: 'straighten', 25030: 'finish', 49476: 'seat', 25083: 'suspiciously', 25108: 'world-class', 25119: 'alcoholism', 25122: 'raging', 25139: 'barney-type', 25183: 'bad-mouth', 34480: 'suck', 25248: 'catty', 25257: 'consulting', 25271: 'amends', 25274: 'disgraceful', 25275: 'behavior', 25301: 'barstools', 25322: 'befouled', 65161: 'broom', 25306: 'closet', 42459: 'explain', 25332: 'drop-off', 25344: 'bulletin', 25350: 'broken', 25356: 'trapping', 25358: 'youngsters', 55388: 'unfortunately', 25379: 'trucks', 25381: 'unavailable', 25385: 'blaze', 38286: 'film', 41611: 'burt', 41612: 'reynolds', 25441: 'fireball', 25443: 'mudflap', 25434: 'burt_reynolds:', 39770: 'jerry', 25446: 'feisty', 25447: 'supreme', 25448: 'court', 25454: 'birth', 25457: 'competing', 25460: 'cross-country', 25463: 'race', 60223: 'garbage', 25490: 'flown', 31447: 'solo', 25505: 'heroism', 25511: 'charges', 61868: 'lowering', 25517: 'binoculars', 39968: 'sinister', 25533: 'grieving', 65257: \"ridin'\", 25579: 'slab', 43522: 'died', 59948: 'dear', 25628: 'tear', 65655: \"dad's\", 25635: 'reluctantly', 25675: 'onions', 25656: 'clenched', 57416: 'teeth', 67420: 'read', 25668: 'resigned', 25699: 'according', 25721: 'uses', 25722: 'appearance-altering', 25723: 'cosmetics', 25731: 'warned', 25915: 'x', 60545: 'closer', 44306: 'talked', 25844: 'tall', 36682: 'frosty', 46519: 'whisper', 64836: 'lotta', 51988: 'secrets', 25960: 'clandestine', 25964: 'disturbing', 52148: 'voice:', 57234: 'happily', 25983: 'pulitzer', 58406: 'rev', 50143: '_timothy_lovejoy:', 26010: 'helen', 55183: 'bible', 67326: 'human', 26046: 'guinea', 67295: 'pig', 26063: 'medical', 26078: \"chewin'\", 26089: 'chew', 26092: 'telephone', 44300: 'shock', 29008: 'satisfied', 26120: 'experiments', 68967: 'few', 26141: 'ears', 26147: 'winces', 58961: 'chest', 26161: 'hmmmm', 26183: 'effigy', 26186: 'dawning', 26203: 'appalled', 26206: 'fire_inspector:', 26227: 'brainiac', 58444: 'jobs', 57967: 'mention', 67368: 'smart', 26289: 'distinct', 26290: 'strain', 26292: 'anti-intellectualism', 26304: 'einstein', 48029: 'whaddaya', 26315: 'appendectomy', 26317: 'lipo', 26327: 'sampler', 67760: 'popular', 26337: 'dramatically', 26345: 'crayon', 26356: 'art', 26357: 'carney', 26359: 'flourish', 64000: \"ol'\", 26363: 'crayola', 26364: 'oblongata', 26382: 'deeper', 26385: 'pusillanimous', 26386: 'pilsner-pusher', 26399: 'inanely', 26407: 'dee-fense', 26411: 'twice', 26432: 'extended', 26433: 'warranty', 26464: 'sacajawea', 26493: 'manatee', 53178: 'comic_book_guy:', 26546: 'cranberry', 61624: 'schnapps', 26566: 'aah', 26570: 'painted', 26576: 'choices', 26586: 'scanning', 66064: 'sees', 26593: \"soakin's\", 26603: 'nectar', 26606: 'nitwit', 26613: \"knockin'\", 26619: 'badmouths', 26627: \"o'\", 57021: 'comic', 26657: 'mindless', 26658: 'droning', 26661: 'befriend', 26672: \"raggin'\", 26675: 'conditioners', 26715: 'klingon', 26704: 'loneliness', 26714: 'guttural', 39749: 'directions', 58533: 'baseball', 47544: 'mm', 29969: 'bought', 26789: 'heartless', 34941: 'corporation', 26817: 'owns', 26844: 'family-owned', 59252: 'tried', 67123: 'quick', 27350: 'thumb', 26933: 'eye-gouger', 42497: 'pickle', 26937: 'brine', 39673: 'fresh', 26979: 'massive', 50847: 'loss', 26997: 'occasional', 27018: 'total', 27019: 'rip-off', 27026: 'smurfs', 27040: 'gangrene', 55441: 'wake', 27052: 'cup', 27056: \"coffee'll\", 27064: 'waking-up', 27068: 'instantly', 27077: \"nick's\", 37005: 'disapproving', 27092: 'rude', 57935: 'moans', 27101: 'hitchhike', 27142: 'emergency', 27152: 'dollface', 27283: 'informant', 56306: 'wearing', 27173: 'nash', 27174: 'bridges', 27200: 'goods', 27419: 'smugglers', 27256: 'voice_on_transmitter:', 52361: 'delighted', 27198: 'illegally', 27199: 'smuggled', 27238: '2nd_voice_on_transmitter:', 27248: '3rd_voice:', 27264: 'presses', 45844: 'button', 37412: 'answering', 27299: 'snitch', 30161: 'mcbain', 27370: \"father's\", 27407: 'lotsa', 27413: 'mission', 27418: 'fireworks', 27426: 'incriminating', 38668: 'taps', 27432: 'recorder', 27443: 'hootie', 27446: 'blowfish', 27453: 'cheaper', 27455: 'blank', 27472: 'wells', 27474: 'aer', 27475: 'lingus', 59701: 'jets', 27494: 'leprechaun', 27503: 'cursed', 58925: 'dying', 27604: \"heat's\", 27624: 'dejected', 27643: 'slugger', 27678: 'italian', 63462: 'shotgun', 68528: 'rob', 28863: 'eventually', 67566: 'became', 27729: 'morlocks', 56394: 'future', 45708: 'liar', 49637: \"weren't\", 27777: \"spyin'\", 50239: 'naturally', 27788: 'assumed', 27795: 'stupidest', 27807: 'valley', 27809: 'series', 53596: 'drunks', 27829: 'shaggy', 67752: 'stories', 27855: 'quitcher', 27856: 'bellyaching', 27914: 'dumb-asses', 38685: 'gun', 60665: 'serve', 27952: 'yak', 27984: \"d'ya\", 27990: 'shesh', 63062: \"kiddin'\", 28007: 'smiled', 28012: 'nailed', 58334: 'passion', 48519: 'bartending', 28062: 'jigger', 28103: 'painting', 28095: 'illustrates', 28109: 'swigmore', 28127: 'fills', 56786: 'expression', 58243: 'coat', 59379: 'trip', 28187: 'alma', 28188: 'mater', 28191: 'rekindle', 28233: 'urban', 28245: \"tinklin'\", 50271: 'contest', 52026: 'potato', 28268: 'chips', 28358: \"when's\", 65256: 'mind', 28453: 'natured', 65165: 'jukebox', 28465: 'splattered', 28504: 'fonzie', 28532: 'ayyy', 28516: 'hemorrhage-amundo', 28536: 'yello', 64432: 'speak', 28587: 'tabooger', 28586: 'ollie', 48744: 'ooo', 37989: 'deliberate', 28609: 'booger', 28634: 'dirty', 28635: 'teen', 28659: 'hardhat', 28668: 'wrecking', 28680: 'giggle', 28684: 'fainted', 28709: 'prettied', 28716: 'renew', 28718: 'zeal', 28749: 'twentieth', 34137: 'century', 28770: 'formico:', 28767: 'formico', 28759: 'dean', 28761: 'design', 48026: 'spoken', 28819: 'certified', 28820: 'contractors', 28832: 'pages', 63027: 'glad', 29024: 'thanksgiving', 62968: 'band', 28903: 'hippies', 28912: 'rem', 28914: 'apology', 28917: 'eco-fraud', 28922: 'reluctant', 28941: 'rainforest', 28944: 'peter_buck:', 29019: 'thankful', 28960: 'michael', 28966: 'supplying', 28978: 'tofu', 28977: 'mike_mills:', 28980: 'gluten', 28987: 'ate', 28993: 'michael_stipe:', 29013: 'curds', 29011: 'mmmmm', 29030: 'alternative', 29031: 'rockers', 29066: 'gabriel', 29088: 'mortal', 29089: 'equivalent', 51749: 'ambrosia', 29095: 'gabriel:', 29114: 'temper', 29137: 'deliberately', 29145: 'girl-bart', 29160: 'loathe', 29173: 'knives', 58337: 'terrific', 29195: \"lady's\", 43591: 'cookies', 29206: \"'n'\", 29207: 'creme', 29208: 'martini', 29211: 'amber_dempsey:', 56255: 'beach', 29238: 'annoying', 39119: 'admiring', 29260: 'night-crawlers', 29265: 'bragging', 29274: 'mole', 32382: 'anywhere', 29282: 'wowww', 29287: 'amber', 29292: 'proves', 29298: 'buffet', 29312: 'clothespins', 29316: 'attach', 58479: 'eighty-seven', 58906: 'neck', 40230: 'palm', 62758: 'looked', 29371: 'clothespins:', 29372: 'swallowed', 29374: 'inserted', 29382: 'clipped', 29391: 'sixteen', 29410: 'magnanimous', 61726: 'tom', 29442: \"clancy's\", 29444: 'op', 29470: 'lovers', 29489: 'newsweek', 29495: 'failure', 56343: 'actors', 29512: 'thrust', 29530: 'trivia', 29547: 'lifetime', 29548: 'supply', 29556: 'chug-monkeys', 29559: 'beverage', 59557: 'brewed', 57688: 'ancient', 29569: 'hops', 29571: 'grains', 57026: 'hop', 29580: 'grain', 41275: 'juice', 29623: \"time's\", 29634: 'reading:', 29647: 'woulda', 29723: 'arrange', 29726: 'escort', 29737: 'orgasmville', 46943: 'losing', 37969: 'lindsay_naegle:', 50833: 'agree', 29786: 'enlightened', 29792: 'television', 29793: 'producers', 29796: 'booking', 29799: 'mid-seventies', 29836: 'alky', 30173: 'grandiose', 29846: \"round's\", 29856: 'payday', 29881: 'rented', 43942: 'boyfriend', 29908: 'swings', 29912: \"battin'\", 29913: 'cage', 29916: 'perverted', 29925: 'winner', 29942: 'sprawl', 68304: 'bed', 29972: 'hockey-fight', 35063: 'artie', 49619: 'spy', 60762: 'horrible', 50818: 'superior', 30127: 'settled', 30136: \"what'd\", 30146: 'lookalike:', 30153: 'chuck', 30162: 'exited', 30168: 'trunk', 30193: 'rainier', 30194: 'wolfcastle', 46700: 'teenage', 30206: 'ohmygod', 30218: 'ab', 30219: 'roller', 66315: 'gotten', 30278: 'rainier_wolfcastle:', 30239: 'backward', 30260: 'leftover', 67087: 'kill', 42783: 'authorized', 30291: 'lookalike', 30299: 'lookalikes', 30308: 'macaulay', 30309: 'culkin', 30319: 'killing', 30326: 'alpha-crow', 46077: 'uneasy', 63927: \"i-i'm\", 30349: 'enveloped', 52557: 'buttons', 30384: 'crow', 30392: 'crowbar', 30420: 'sloppy', 30447: 'wacky', 30448: 'tobacky', 30458: 'spacey', 30467: 'intervention', 30481: 'poisoning', 30498: 'excuses', 30504: 'funeral', 30531: 'interrupting', 44995: 'impatient', 30544: 'forty-seven', 59639: 'bottles', 64206: 'terrified', 30601: 'here-here-here', 30614: 'pepper', 58226: 'salt', 30620: 'shaker', 30628: 'dash', 61958: 'homie', 67934: 'eleven', 30667: 'dinks', 30695: 'squishee', 30698: 'canoodling', 30700: 'junkyard', 30701: 'rabbits', 34989: 'scum', 30730: 'soothing', 30774: 'promise', 30787: 'tropical', 30808: 'windex', 30803: 'windelle', 64874: 'afford', 30818: 'muhammad', 30819: 'ali', 30829: 'anti-lock', 30830: 'brakes', 30839: 'johnny', 30840: 'mathis', 30841: 'versus', 30843: 'pepsi', 34540: 'anniversary', 30877: 'koi', 30878: 'pond', 30885: 'meditative', 30886: 'lily-pond', 30893: 'fry', 65558: 'feed', 30921: 'squirrels', 31079: 'drown', 30948: 'super-genius', 30958: 'certainly', 30960: 'lenford', 30966: 'celebration', 51285: 'surprise', 30975: 'pasta', 30980: 'mini-beret', 40483: 'wang', 39985: 'gold', 31004: \"this'll\", 31009: 'speed', 45428: 'dating', 31021: 'nos', 31033: 'killer', 39928: 'sat', 53708: 'drank', 40276: 'i-i-i', 31152: 'stab', 67127: 'peanuts', 57018: 'à', 31169: 'simon', 31172: 'up-bup-bup', 36126: 'starting', 62822: 'force', 31264: 'badges', 56108: 'admitting', 31308: \"pickin'\", 31314: 'homer_doubles:', 31319: 'len-ny', 31374: 'billy_the_kid:', 31351: 'pian-ee', 31346: 'piano', 31360: 'cell-ee', 31370: 'cattle', 31371: \"rustlin'\", 64699: \"robbin'\", 56355: 'banks', 31389: 'shoo', 31392: \"calf's\", 31398: 'sneak', 60736: 'grab', 33763: \"'im\", 56441: 'bank', 31421: 'snatch', 42043: 'dough', 31469: 'ghouls', 31481: 'grammy', 31482: 'judges', 31500: 'perfected', 31502: 'device', 31536: 'flayvin', 31549: 'space-time', 31550: 'continuum', 31556: \"wait'll\", 31560: 'wasted', 31568: 'plotz', 31583: 'absentminded', 31585: 'polishing', 31640: 'diapers', 65056: 'fair', 31724: 'yuh-huh', 31739: 'alter', 31741: 'consciousness', 31789: 'glitz', 31791: 'glamour', 55332: 'emotional', 41991: 'color', 60754: 'skin', 58603: 'cries', 38153: 'alphabet', 60583: 'backwards', 31873: 'beligerent', 57515: 'rats', 31938: 'liable', 31951: 'taunting', 53360: 'jerks', 31980: 'smug', 61273: 'louder', 32002: 'accelerating', 32008: 'snapping', 32016: 'cab_driver:', 32037: 'newest', 32038: 'supermodel', 32056: 'longest', 32097: 'fuss', 32113: 'spit-backs', 67008: 'staying', 32150: \"tonight's\", 32153: 'cock', 32172: 'scoffs', 32205: 'tokens', 32217: 'reality', 32236: 'gimmick', 32258: '1895', 32269: 'lincoln', 32275: 'kennedy', 32282: 'mckinley', 32321: 'simple', 32337: 'slit', 32341: 'quick-like', 32364: 'sideshow_bob:', 32371: 'haikus', 32373: 'skinheads', 37116: 'soap', 32381: 'concentrate', 65458: 'aging', 61684: 'whenever', 32455: 'detective', 32457: 'unbelievable', 32467: 'digging', 32478: 'intimacy', 32487: 'cobbling', 32488: 'shoes', 32499: 'schizophrenia', 32508: 'hiring', 32542: 'swan', 32562: 'delts', 32564: 'clench', 63103: 'proud', 32589: 'bulked', 32593: 'managed', 32597: 'femininity', 32602: 'fierce', 32628: 'glyco-load', 32643: 'denser', 32633: 'ripping', 32634: 'gel', 32641: 'frightened', 32653: 'sacrifice', 32655: 'period', 38209: 'awkward', 32682: 'delicately', 58547: 'death', 32705: 'yammering', 32716: 'pile', 32722: 'disco_stu:', 32731: 'disco', 32728: 'stu', 32732: 'ducked', 32761: 'slim', 32763: 'bupkus', 32780: 'perplexed', 55216: 'complaining', 32804: 'rump', 32812: 'payback', 32816: 'revenge', 44825: 'magazine', 32830: 'subscriptions', 32846: 'brick', 32864: 'cerebral', 32873: 'booze-bags', 58063: 'andy', 32898: 'victorious', 61671: \"one's\", 32909: 'gallon', 32956: 'icelandic', 32957: 'boyhood', 32964: 'anti-crime', 32965: 'dealie', 32971: 'streetlights', 32980: 'strongly', 32986: 'pro', 32988: 'con', 32992: \"i'unno\", 32998: 'superdad', 33018: 'young_moe:', 33013: 'crystal', 33022: 'cheaped', 33026: 'shelf', 42694: 'memory', 33085: 'paramedic:', 33090: 'ingested', 33105: 'amount', 33100: 'defiantly', 33114: 'ihop', 33123: 'burger', 33133: 'absentmindedly', 33159: \"doctor's\", 60935: 'appointment', 65665: 'young_marge:', 64200: 'alone', 57781: 'video', 33189: 'neanderthal', 33252: 'taylor', 49006: 'mock', 33308: 'flatly', 33285: 'ing', 65082: 'bird', 39358: 'billboard', 60067: 'sisters', 33353: 'voters', 61020: 'decide', 33358: 'november', 33404: 'practically', 33405: 'everywhere', 54915: 'subject', 33475: 'resenting', 33500: 'appreciate', 37702: 'lush', 33568: 'shout', 33570: 'f-l-a-n-r-d-s', 33594: 'flame', 33710: 'david_byrne:', 33603: 'researching', 33604: 'indigenous', 33614: 'overhearing', 33616: 'delightfully', 53369: 'cruel', 58309: 'david', 33627: 'byrne', 33635: 'singer', 33637: 'artist', 33639: 'composer', 33655: 'wrestle', 33660: 'el', 33661: 'diablo', 33670: 'philip', 49059: 'wishes', 33707: 'rewound', 33724: 'produce', 33730: 'rolls', 58095: 'likes', 33746: 'kahlua', 57258: 'cream', 33765: 'fleabag', 33773: 'unsanitary', 57750: \"cat's\", 66197: \"sittin'\", 43758: 'nope', 33842: \"wearin'\", 33851: 'walked', 67641: 'instead', 33890: 'dark', 33892: 'dreary', 35848: 'boozy', 33907: 'drunkening', 33927: 'hangover', 33954: 'barber', 33966: 'frat', 33987: 'julienne', 33988: 'potatoes', 44666: 'dessert', 53268: 'peach', 34007: 'crumble', 34013: 'groin', 34040: 'shortcomings', 34052: 'banquet', 34074: 'poulet', 34075: 'au', 34076: 'vin', 34077: 'avec', 34078: 'champignons', 34085: 'kisses', 34124: 'botanical', 34125: 'gardens', 34133: 'blossoming', 34136: 'sumatran', 34142: 'occurs', 34155: 'customers-slash-only', 34175: 'cooler', 34172: 'replaced', 34192: \"mopin'\", 34213: 'alarm', 34237: 'tummies', 34258: 'elves:', 34264: 'cakes', 34266: 'pets', 34268: 'brotherhood', 34297: \"i'd'a\", 34318: 'delivery_boy:', 34305: 'pizza', 34309: \"y'money's\", 34312: 'counter', 55517: 'miserable', 62855: 'bastard', 34375: 'mona_simpson:', 34349: 'leonard', 34364: 'competitive', 64831: 'jump', 37819: 'dive', 34405: 'stevie', 34390: 'macgregor', 34395: 'musketeers', 34416: 'accusing', 66377: 'bless', 62365: 'woozy', 34494: 'lungs', 67725: 'attention', 34501: 'devils:', 34528: 'apulina', 44244: 'gifts', 34553: 'including', 34555: 'bouquet', 37771: 'diamond', 34560: 'earrings', 34584: 'paris', 34571: 'hilton', 55245: 'france', 49936: 'manjula_nahasapeemapetilon:', 53974: 'sheepish', 53181: 'address', 34647: \"city's\", 34675: 'society_matron:', 34688: 'remote', 34699: 'sharity', 34721: 'woman_bystander:', 34972: 'ziff', 34742: 'aristotle:', 35365: 'artie_ziff:', 34766: 'weep', 48647: 'cards', 34793: 'mamma', 34798: 'flush-town', 34805: 'population', 34811: 'nonchalant', 60177: 'fifty', 52954: 'fold', 34867: 'ninety-eight', 34872: 'outstanding', 35099: 'ziffcorp', 34912: 'achem', 34916: 'flush', 34926: 'jacks', 34940: 'multi-national', 52448: 'd', 35020: 'sec_agent_#1:', 34980: 'securities', 45093: 'exchange', 35043: 'sec_agent_#2:', 34978: 'manipulation', 57294: 'fraud', 34986: 'macho', 34993: 'undermine', 34999: 'investor', 35000: 'confidence', 55231: 'perhaps', 35004: 'affects', 35023: 'majority', 35024: 'shareholder', 35038: 'inherent', 35039: 'legal', 35040: 'liability', 35081: 'malfeasance', 60328: 'ground', 35129: 'result', 35150: 'deny', 46299: 'jail', 35188: 'showed', 35193: 'louse', 44582: 'nerve', 69037: 'patty_bouvier:', 35239: 'jogging', 48107: 'ran', 35252: 'intruding', 69045: 'selma_bouvier:', 35280: 'sending', 49088: 'prison', 35295: 'swooning', 53810: 'standing', 35313: 'odor', 35314: 'eaters', 57998: 'bedroom', 35348: 'beanbag', 35360: 'temple', 35362: 'doom', 35367: 'gentle', 35418: 'nightmares', 35447: 'orders', 35469: 'contemptuous', 35471: 'chateau', 35472: 'latour', 35474: 'eighteen', 35475: 'eighty-six', 35514: 'initially', 53845: 'value', 35528: \"collector's\", 36668: 'shakespeare', 35581: 'bidet', 35590: 'ladder', 60640: 'water', 35594: 'fountain', 46973: 'monster', 55679: 'watered-down', 35679: 'in-in-in', 35681: 'chipped', 35689: 'nail', 35690: 'sticking', 35713: 'poke', 35746: 'bachelor', 35751: 'peaked', 35759: 'and/or', 53007: 'underpants', 35798: 'buddies', 53967: \"kids'\", 35874: 'gary_chalmers:', 35837: 'chug-a-lug', 35840: 'a-lug', 49252: 'needy', 63719: 'kindly', 66087: 'funds', 35889: 'disposal', 35894: 'boisterous', 35904: 'exciting', 35913: 'photographer', 35925: 'van', 35941: 'notch', 35946: 'wiggle', 43078: 'lap', 35962: 'friction', 44081: 'dancing', 43198: \"what're\", 35974: 'killjoy', 35978: 'wussy', 35982: 'grinch', 35987: 'consoling', 36064: 'bugging', 36073: 'picked', 45433: 'seemed', 36082: 'zoomed', 36086: 'junebug', 36090: 'windshield', 49126: 'meaningful', 36146: \"secret's\", 56416: 'safe', 36161: 'bail', 51619: 'wedding', 52405: 'wiener', 36222: \"bringin'\", 61086: 'sauce', 36245: 'easily', 36250: 'sobriety', 36261: 'urge', 36271: 'sponsor', 36274: 'white_rabbit:', 36277: 'lorre', 55713: 'missed', 36310: 'warmth', 36316: 'penmanship', 36337: 'sucks', 36342: 'anyhoo', 53620: 'furious', 36383: 'cyrano', 64723: 'shoulder', 36521: 'americans', 36526: 'permanent', 36527: 'visas', 36542: 'dutch', 36554: \"leavin'\", 36564: \"president's\", 36572: 'rebuttal', 65687: 'vomit', 36634: 'mull', 36643: 'mugs', 36645: \"thinkin'\", 36664: 'symphonies', 36685: 'fuhgetaboutit', 36918: 'health_inspector:', 36740: 'filth', 36743: 'oughta', 36777: 'hideous', 36789: 'frankie', 55691: 'department', 36817: 'fella', 36827: 'dads', 36847: 'malted', 36850: 'tooth', 36862: 'blinded', 44741: 'bike', 36879: \"soundin'\", 36895: 'thorough', 36900: 'winks', 36906: 'infestation', 36912: 'sanitary', 36913: 'utensils', 36922: 'hygienically', 36923: 'stored', 36953: 'parked', 36958: 'hydrant', 37112: 'new_health_inspector:', 37017: 'exhale', 37030: 'whaddya', 37038: 'hunky', 37039: 'dory', 37051: 'rife', 37144: 'violations', 37074: 'starters', 37080: 'predecessor', 63784: 'floor', 37099: 'trash', 37103: 'wednesday', 37113: 'chicken', 37114: 'skins', 37117: 'dispenser', 50206: 'roof', 62779: 'shutting', 37175: 'john', 37180: 'danny', 48371: 'pipes', 59584: 'glen', 37197: 'mountain', 37201: \"summer's\", 37207: 'falling', 37212: \"'tis\", 37220: 'bide', 37227: 'tribute', 37257: 'e', 37261: 'acceptance', 59034: 'breaking', 37311: 'hafta', 62933: 'street', 45970: 'shrugs', 40113: \"beer's\", 37351: 'reopen', 37363: 'crestfallen', 58842: 'changes', 37448: 'nor', 37463: 'pen', 37467: 'parrot', 63665: 'conversation', 37474: 'brief', 37478: 'contact', 58834: 'suicide', 58699: 'hotline', 43561: 'dials', 37497: 'blocked', 37529: 'protecting', 37531: 'investment', 37574: 'cigars', 50490: 'allowed', 58417: 'sleeps', 37585: 'microwave', 37600: 'beans', 37611: 'stupidly', 60012: 'duh', 37622: 'jerk-ass', 37629: 'doy', 37643: 'cheerier', 58291: 'quotes', 44542: 'therefore', 37675: 'darkness', 37680: 'tactful', 39037: 'regulars', 37694: 'remodel', 37722: \"changin'\", 63317: 'skirt', 37730: 'susie-q', 37733: 'face-macer', 57769: 'prepared', 38369: 'trapped', 37800: 'guff', 37812: 'grub', 37822: 'proper', 37823: 'old-time', 37902: 'british', 37831: 'whaaa', 57658: 'rule', 37838: 'britannia', 37843: 'meatpies', 37846: 'lager', 37961: 'pint', 37854: 'classy', 37861: 'asses', 37885: 'so-ng', 37906: 'arm-pittish', 37925: \"renovatin'\", 37936: 'drapes', 37944: \"idea's\", 37986: 'judge_snyder:', 37958: 'lindsay', 37959: 'naegle', 38567: 'ale', 37990: 'mis-statement', 37999: 'allow', 38009: 'credit', 65431: 'numbers', 38024: 'bumpy-like', 64108: 'suds', 38056: 'counterfeit', 58544: 'cat', 38083: 'moe-clone', 38107: 'socialize', 38176: 'moe-clone:', 56749: 'attitude', 48021: 'letters', 38155: 'e-z', 53659: 'needed', 38186: 'clone', 38212: 'oopsie', 43932: 'edna_krabappel-flanders:', 54513: 'weirder', 38256: \"enjoyin'\", 38285: 'adult', 38312: 'tickets', 38314: \"santa's\", 38325: 'sleigh-horses', 67132: 'jerky', 38329: 'sells', 38387: 'impress', 51235: 'record', 38425: \"liftin'\", 38427: 'dumbbell', 38431: 'forty-nine', 38436: 'ninety-nine', 38454: \"lefty's\", 38487: 'victim', 38506: 'hustle', 55095: 'the_rich_texan:', 59554: 'bourbon', 38543: \"breakin'\", 38550: 'nerd', 38565: 'sugar-free', 51058: 'ginger', 38574: 'flat', 38580: 'buds', 38584: 'goldarnit', 38610: 'sissy', 38608: 'life-partner', 38619: 'whup', 58569: 'wrestling', 38635: 'yee-ha', 38639: 'gol-dangit', 38646: \"dimwit's\", 38647: 'kazoo', 65472: 'forehead', 38674: 'head-gunk', 38684: 'hears', 38686: 'cocking', 38696: 'texan', 38776: 're-al', 38797: 'moe-heads', 38812: 'polls', 38818: 'negative', 38820: 'ads', 38822: 'hurting', 63508: 'barely', 38838: 'homeless', 38847: 'bum:', 55380: 'flag', 38905: 'annual', 51681: 'tradition', 53284: 'attempting', 63943: 'sob', 38950: 'w-a-3-q-i-zed', 50753: 'push', 39004: 'mason', 65861: 'moment', 39024: 'arrived', 39029: \"rentin'\", 47357: \"takin'\", 39039: 'las', 39183: 'vegas', 39044: 'nevada', 39065: 'stingy', 39067: 'rat-like', 58903: 'rope', 39092: 'sued', 39100: 'settlement', 39141: 'partially', 39142: 'risqué', 39157: 'plane', 39159: 'soul-crushing', 42230: 'camp', 39202: 'cheat', 39192: 'blackjack', 57732: 'system', 39241: 'nelson_muntz:', 39243: 'haw', 39248: 'nelson', 39282: 'pair', 39294: 'paints', 39296: 'noggin', 39306: 'meanwhile', 54366: \"payin'\", 39323: \"yieldin'\", 39327: 'moe_recording:', 39366: 'ew', 39373: 'considering:', 39422: 'bar-boy', 39392: \"table's\", 39393: 'wobbly', 39396: 'jam', 64139: 'foot', 39414: 'ford', 39416: 'captain', 39417: 'kirk', 39477: \"i'm-so-stupid\", 39500: 'five-fifteen', 39508: 'eternity', 39512: 'fortune', 39516: 'fica', 39518: 'helping', 39543: 'steamed', 39549: 'cappuccino', 39584: '-ry', 39625: 'otherwise', 50637: 'known', 54286: 'bridge', 39692: 'neighbors', 39699: 'wife-swapping', 39733: 'strolled', 39843: 'museum', 39761: 'donation', 39771: 'lewis', 39818: 'coins', 39788: 'notorious', 53622: 'jailbird', 39795: 'idealistic', 39797: 'law-abiding', 39799: 'archaeologist', 39808: 'excavating', 39810: 'mayan', 39811: 'pyramid', 39815: 'unearth', 39829: 'pre-columbian', 39838: 'donate', 40541: 'wangs', 39864: 'statues', 67398: 'motel', 39890: 'handed', 47408: 'awful', 39894: 'dilemma', 39917: 'edner', 39930: \"playin'\", 39951: 'coin', 39976: 'poorer', 39994: 'worldly', 39995: 'possessions', 39997: \"'ceptin'\", 39999: 'nucular', 56228: 'photo', 57334: 'child', 40040: 'obsessive-compulsive', 45145: 'shoots', 40072: 'yee-haw', 40097: 'powered', 40099: 'non-american', 48589: 'workers', 40118: \"tv's\", 57680: 'america', 65637: 'then:', 40156: 'misfire', 40170: 'prolonged', 40177: 'playoff', 40188: \"hobo's\", 61890: 'louie:', 40203: 'owes', 57718: 'ominous', 40227: 'fist', 61546: 'clientele', 40313: \"puttin'\", 40315: 'screws', 40367: \"tony's\", 40378: 'all-all-all', 40421: 'reporter:', 40410: 'stars', 40413: 'firing', 40417: 'pure', 40458: 'irish', 40466: 'polish', 40540: \"drawin'\", 60760: 'marmaduke', 40489: 'heck', 40493: \"challengin'\", 40500: 'sudoku', 40510: 'puzzle', 40514: 'numeral', 40517: 'repeated', 40522: 'column', 40585: 'army', 40570: 'salvation', 40578: 'cocks', 40591: 'stripes', 40608: 'repay', 40627: 'colonel:', 40654: 'fishing', 60953: \"waitin'\", 56911: 'fragile', 40693: \"listenin'\", 40706: 'bursts', 40713: 'published', 40714: 'author', 40726: 'earlier', 40730: 'newly-published', 40757: 'snail', 40758: 'trail', 40779: 'name:', 40788: 'wolfe', 40800: 'bonfire', 40803: 'vanities', 40807: 'coined', 40809: 'phrase', 40811: 'radical', 40812: 'chic', 40827: \"squeezin'\", 40829: \"'roids\", 40847: 'wordloaf', 40848: 'festival', 40839: 'vermont', 40844: 'thrilled', 40888: \"wouldn't-a\", 54972: 'milhouse', 40940: 'greystash', 59465: 'dirt', 40975: 'outlive', 44559: 'fictional', 40978: 'wizard', 41720: \"what'sa\", 41000: 'upn', 41053: 'assert', 41054: 'herself', 41071: 'backbone', 41075: 'notices', 41155: 'fausto', 51882: 'doors', 41195: 'unlocked', 41207: 'beeps', 41229: 'declan', 41242: 'fruit', 41366: 'declan_desmond:', 41248: 'oddest', 41249: 'thing:', 41253: 'affection', 41256: 'knuckle-dragging', 41257: 'sub-monkeys', 41273: \"sippin'\", 41274: 'cuckoo', 41302: 'de-scramble', 41307: 'scrutinizing', 41313: 'shoe', 41314: 'inserts', 41324: \"writin'\", 41325: 'creepy', 66977: 'action', 41361: 'kills', 41400: 'title:', 41402: 'pontiff', 41439: 'gargoyles', 41445: 'good-looking', 41461: 'open-casket', 41462: 'material', 57073: 'pretending', 41513: 'sour', 55324: 'abandon', 41536: 'paparazzo', 47935: 'size', 41558: 'joy', 41573: 'robin', 41574: 'williams', 41599: 'bits', 68932: 'sister', 52013: 'airport', 41621: 'co-sign', 44072: 'mortgage', 41669: 'photos', 41703: \"ladies'\", 41673: 'turlet', 50326: 'dames', 41695: 'attractive_woman_#1:', 41707: 'attractive_woman_#2:', 41711: 'trade', 41712: 'bras', 41714: 'panties', 41786: 'appealing', 60105: 'reason', 63079: 'feelings', 41827: 'volunteer', 41846: 'assume', 41859: 'dentist', 48561: 'patient', 41891: 'mary', 61704: 'weirded-out', 55032: 'milhouse_van_houten:', 41917: \"school's\", 41920: 'bake', 41926: \"betsy'll\", 41936: 'runs', 41988: 'depending', 42005: 'strips', 42007: 'eggshell', 42011: 'malabar', 42012: 'ivory', 42016: 'mediterranean', 42017: 'ecru', 42042: 'tow', 67397: 'fanciest', 42075: 'lobster-politans', 42198: 'towed', 42112: 'smelling', 42119: 'one-hour', 42121: 'zone', 42138: 'eighty-one', 42134: 'correction', 42151: 'lobster-based', 42152: 'designer', 42212: 'joke', 42165: 'laughter', 42169: 'unhook', 42192: 'moving', 42206: 'tow-talitarian', 42216: 'totalitarians', 42222: 'stalin', 60647: 'grandmother', 42228: 'forced', 42229: 'labor', 42241: 'insensitive', 46245: 'bully', 42257: 'winch', 42269: 'enforced', 42278: 'fatty', 42288: 'ralph', 42293: 'ralphie', 42315: 'tow-joes', 42326: 'territorial', 63294: 'mel', 67661: 'bite', 42365: \"family's\", 47581: 'mixed', 61928: 'powerful', 42882: 'forget-me-shot', 64343: 'means', 42450: 'remembers', 42461: 'process', 42469: 'splash', 42471: 'jaegermeister', 42474: 'add', 42475: 'sloe', 42478: 'triple-sec', 42480: 'quadruple-sec', 42482: 'gunk', 42485: \"dog's\", 42488: 'absolut', 42505: 'stripe', 42507: 'aquafresh', 42515: 'funniest', 42521: 'venom', 42524: 'louisiana', 42525: 'loboto-moth', 42531: 'sweetie', 51729: 'stir', 42541: 'pregnancy', 59440: 'positive', 42555: 'presto:', 42580: 'ultimate', 42582: 'bleacher', 44985: 'slight', 42586: 'menace', 42589: 'swig', 42590: 'wipes', 42602: 'entering', 42610: 'forget-me-drinks', 42873: 'wipe', 42628: 'rickles', 42630: 'arabs', 42638: 'gibson', 42640: 'mexicans', 51150: 'latin', 42659: 'grammys', 42662: 'hispanic_crowd:', 42674: 'jeers', 42714: 'sternly', 42720: 'disturbance', 42775: 'filed', 55690: 'complaint', 42787: 'infor', 42814: 'ripper', 42822: 'doppler', 42825: \"queen's\", 42827: 'surgeonnn', 42928: 'piling', 42943: 'unkempt', 52077: 'obvious', 47946: 'thighs', 42967: 'attractive', 42982: 'spits', 42987: 'bottoms', 43004: 'retain', 62531: 'image', 60896: 'finding', 43017: 'misconstrue', 43023: \"cuckold's\", 43024: 'horns', 43058: 'moon-bounce', 43063: 'amiable', 43074: 'newsies', 43084: 'scruffy_blogger:', 44082: 'internet', 43089: 'access', 57410: 'mouse', 43118: 'politicians', 45346: 'media', 43134: 'issues', 43140: 'declare', 43142: 'frontrunner', 43148: 'mansions', 43155: 'abolish', 43156: 'democracy', 43173: 'dictator', 43176: 'juan', 43177: 'perón', 43186: 'disappeared', 43194: 'madonna', 43266: 'candidate', 43237: 'dennis', 43238: 'kucinich', 43250: 'dennis_kucinich:', 43243: 'twerpy', 43270: 'unbelievably', 66074: 'pockets', 60347: 'share', 43360: 'manuel', 43367: 'fake', 43368: 'moustache', 43376: 'ees', 43454: 'lurleen', 47942: 'jamaican', 43475: 'lurleen_lumpkin:', 43404: 'mild', 43420: 'backing', 43433: 'reminded', 58225: 'rock', 43462: 'quarry', 43466: 'stones', 43469: 'woodchucks', 53700: \"someone's\", 43502: 'mailbox', 43558: 'cell', 57648: 'l', 43590: 'butter', 43595: 'tasty', 43599: 'almond', 43605: 'listens', 67091: 'hangs', 44293: \"lenny's\", 61748: 'shows', 62053: 'midge', 54644: 'sneaky', 62582: 'pity', 43776: 'compromise:', 43813: 'luckiest', 43832: 'remaining', 43833: 'scratcher', 60308: 'winnings', 43837: 'kick-ass', 43858: 'shush', 53083: 'krabappel', 43900: 'difficult', 43905: 'propose', 43911: 'willing', 43914: 'halvsies', 43936: 'lugs', 43968: 'splendid', 55763: 'discuss', 43977: 'weather', 59374: 'gently', 44035: 'way:', 45914: 'unlike', 44065: 'tying', 44071: 'crippling', 44075: 'refinanced', 44077: 'twenty-six', 44083: 'cowboy', 44108: 'encouraged', 56479: 'compared', 44121: 'half-day', 44126: 'encouraging', 50453: 'decent', 44143: 'widow', 44148: 'option', 44161: 'pep', 44162: 'squad', 44164: 'cheered', 44173: 'runners', 60142: 'nineteen', 44177: 'ninety-seven', 44194: 'break-up', 44224: 'doreen', 44227: 'cheated', 44241: 'showered', 44247: 'soaps', 44249: 'massage', 44250: 'oils', 44297: 'doreen:', 45290: \"marge's\", 44349: 'maiden', 44373: 'nicer', 44394: \"she'll\", 44414: 'parenting', 44417: 'childless', 58828: 'available', 44438: 'goodwill', 44439: 'attached', 44476: 'direction', 44477: \"mecca's\", 44483: \"don'tcha\", 44488: 'oughtta', 44492: 'dint', 44495: \"son's\", 44503: \"bashir's\", 44507: 'derek', 44508: 'jeter', 44510: 'mariah', 44511: 'carey', 44621: 'bashir', 44539: 'muslim', 44562: 'espousing', 44566: 'view', 44569: 'fbi_agent:', 44575: 'fayed', 44595: 'arab_man:', 44589: 'statue', 44591: \"liberty's\", 61547: 'dress', 44627: 'principles', 44631: 'discriminate', 44637: 'employment', 44639: 'housing', 44645: 'patriotic', 44671: 'bauer', 64794: 'grimly', 44907: 'bees', 44715: 'sanctuary', 67806: 'lock', 44814: 'super-tough', 44815: 'africanized', 64696: 'african', 44829: 'honeys', 44868: 'combine', 44856: 'environment', 44870: 'dna', 44873: 'strains', 44877: 'species', 44912: 'protesting', 47729: 'meant', 44933: 'inclination', 64240: 'queen', 44956: 'anonymous', 61090: 'multiple', 44960: 'partners', 44973: 'privacy', 44982: 'buzziness', 68626: 'sniffles', 45075: 'vance', 45021: 'connor-politan', 45032: 'oh-so-sophisticated', 45054: 'connor', 45062: 'kidneys', 67459: 'election', 45097: 'guilt', 45126: 'haircuts', 45138: 'graves', 45192: 'dig', 45195: 'ballot', 45243: 'al_gore:', 45210: 'gore', 45219: 'presidential', 45221: 'stolen', 45268: 'nobel', 45259: 'prize', 45267: 'alfred', 45264: 'falsetto', 45274: 'albert', 45291: 'landlord', 48764: 'shower', 45302: 'and-and', 45308: 'getaway', 45341: 'flanders:', 45351: 'expose', 45368: 'dateline', 45388: 'nominated', 45391: 'peabody', 45407: 'exclusive:', 45415: 'forty-two', 45416: 'evergreen', 45417: 'terrace', 49887: 'tiny', 51739: 'slice', 45423: 'suburban', 45430: 'actress', 45453: 'billiard', 54967: 'sadder', 45479: \"spiffin'\", 45501: 'inquiries', 45553: 'enabling', 55903: 'yo', 45573: 'mags', 46030: 'playful', 45588: 'taught', 45591: 'abcs', 45596: 'a-b-', 45598: 'forgets', 45602: 'p-k', 45618: \"s'pose\", 52172: \"wonderin'\", 45626: \"cleanin'\", 45679: 'month', 45690: \"she'd\", 61939: 'defeated', 45725: 'stood', 45989: 'maya:', 45749: 'regretful', 62700: 'correct', 45762: 'term', 64787: 'pleased', 45812: 'tidy', 46345: 'maya', 45843: 'benjamin', 45872: 'life-sized', 45880: 'legoland', 68789: 'cable', 45920: \"stealin'\", 45932: 'chinese_restaurateur:', 45937: 'espn', 45951: 'ling', 45952: 'chow', 68332: 'whether', 46007: 'passenger', 46041: 'incredible', 56129: 'awww', 46094: 'thought_bubble_lenny:', 46109: \"somethin':\", 46117: 'generally', 46148: 'limericks', 46167: 'coast', 46169: 'massachusetts', 46175: 'nantucket', 46188: 'unusual', 46189: 'personal', 46190: 'characteristic', 46215: 'simplest', 60718: 'rhyme', 46221: 'a-a-b-b-a', 46223: 'dumbass', 65904: 'babies', 46237: 'whistling', 46238: 'nonchalantly', 46323: 'chained', 46335: 'tomato', 46337: 'tomahto', 46358: 'comedies', 46369: 'reckless', 46370: 'gesture', 46391: 'blows', 46453: 'sidelines', 46500: \"who'da\", 46524: 'chapter', 46608: 'un-sults', 46531: 'insults', 46532: 'disguised', 46919: 'courage', 46552: 'suspenders', 46558: 'circus', 46579: 'clown-like', 46587: 'insecure', 46616: 'envy-tations', 46618: 'hate-hugs', 46620: 'spamming', 46622: 'faint', 46623: 'praise', 46637: 'frozen', 55613: 'clearly', 46737: 'toledo', 46738: 'take-back', 46749: \"people's\", 46817: 'eager', 46884: 'reviews', 46833: 'happily:', 46839: 'community', 46840: 'playhouse', 46842: 'bathed', 47121: 'hibbert', 46871: 'banquo', 46876: 'glowers', 46922: 'sticking-place', 46926: 'fail', 46937: 'x-men', 46938: '2', 46946: 'macbeth', 46950: 'mac-who', 46955: 'gulliver_dark:', 47377: 'unlucky', 46991: 'bedridden', 47000: 'unable', 47007: 'toe', 47031: 'thought_bubble_homer:', 47027: 'paintings', 47033: 'melodramatic', 54759: 'somewhere', 47050: 'nonsense', 47060: 'training', 66454: 'met', 47126: 'bleeding', 47128: \"murphy's\", 47169: \"pressure's\", 66578: 'yap', 47215: 'bon-bons', 47260: 'declared', 47289: 'microbrew', 47305: 'cobra', 47306: 'solves', 63771: 'tries', 47326: 'cupid', 64372: 'bow', 47353: 'unattended', 47399: 'relax', 48096: 'wing', 47450: 'fl', 55631: 'anguished', 58608: 'helllp', 47503: 'ventriloquism', 47523: 'approval', 47537: 'cure', 47539: 'ails', 47882: 'talk-sings', 47576: 'tastes', 47564: 'cuddling', 47579: 'steaming', 47580: 'cocoa', 47583: 'rainbows', 47590: 'surprised/thrilled', 47600: 'full-bodied', 47609: 'full-blooded', 63779: 'lovely', 47632: 'harmony', 47638: 'loyal', 47662: 'hemoglobin', 47668: \"disrobin'\", 47688: 'rosey', 63747: 'cozy', 47692: 'bubbles-in-my-nose-y', 47701: \"mo'\", 48406: 'kang:', 47709: 'musical', 47715: 'kodos:', 47718: 'measure', 47719: 'distance', 47751: 'unrelated', 47755: 'seductive', 47761: 'cologne', 47763: 'shaved', 47765: 'knuckles', 63564: 'hoping', 47780: 'shakes', 47809: 'handwriting', 47813: 'idioms', 66946: 'begins', 47824: 'midge:', 64157: 'youse', 47877: 'gayer', 47893: 'occurred', 47912: 'timbuk-tee', 47919: 'fast-paced', 47940: 'nibble', 47945: 'teriyaki', 47958: 'frenchman', 47961: 'spoon', 47964: 'duke', 48060: 'amnesia', 48068: 'missing', 48076: 'squeeze', 48110: 'irishman', 48113: 'pretends', 48131: \"o'reilly\", 48154: 'radiator', 48163: 'rebuilt', 48173: 'briefly', 48190: 'uncreeped-out', 48205: 'mines', 55267: 'torn', 62068: 'warn', 48241: 'taste', 48243: 'romance', 48246: 'perverse', 48258: 'hearse', 48271: 'civil', 48273: 'nurse', 48307: 'proof', 48316: 'simultaneous', 48318: 'i/you', 48330: 'finale', 61106: 'possibly', 48370: 'indicates', 48374: 'half-beer', 48392: 'enjoyed', 51145: \"year's\", 48395: 'halloween', 48398: 'treehouse', 48400: 'horror', 48403: 'xx', 48407: 'shhh', 48420: 'habitrail', 48428: 'donuts', 48437: 'meals', 48470: 'philosophical', 48545: 'stranger:', 48487: 'southern', 48542: 'indeed', 48550: 'gator', 48551: 'mccall', 48645: 'gator:', 59700: 'corporate', 48567: 'recruiter', 48569: 'specializes', 67603: 'nuclear', 48580: 'headhunters', 48594: 'valuable', 62082: 'industry', 48611: 'protesters', 48613: 'marched', 48619: 'plants', 48624: 'radiation', 48625: \"poisonin'\", 62803: 'thoughtful', 48638: 'passports', 53648: 'awesome', 48681: 'loafers', 48719: 'hooray', 48757: 'nap', 48760: 'awake', 48763: 'meteor', 48773: 'flexible', 48889: 'marshmallow', 48930: 'dumbest', 48947: \"stabbin'\", 48980: 'humanity', 49009: 'decency', 63187: 'extremely', 49001: 'mocking', 49014: 'official', 49029: 'releasing', 49030: 'hounds', 49033: 'releases', 49034: 'wolverines', 49061: 'horses', 49064: \"eatin'\", 49065: 'wish-meat', 49090: 'bust', 49125: 'exchanged', 49146: 'whispered', 49147: 'huddle', 68886: 'bitterly', 49190: 'nursemaid', 64737: 'saint', 49227: \"elmo's\", 49230: 'reunion', 49232: 'andrew', 49233: 'mccarthy', 49238: 'attend', 49246: 'lied', 49263: 'itchy', 54682: 'type', 49312: 'planted', 66282: 'lou:', 49356: 'chair', 49392: 'refill', 49459: 'cozies', 49469: 'sassy', 49471: 'cushions', 49477: 'cushion', 49486: 'flash', 49487: 'drives', 49499: 'data', 49502: 'hammy', 49530: 'estranged', 49556: \"tomorrow's\", 49557: 'forecast', 54255: 'is:', 49574: 'partly', 49570: 'cloudy', 49575: 'sunny', 49580: 'guessing', 49598: 'golf', 49599: 'ball-sized', 49600: 'hail', 52939: 'continuing', 49595: 'thunder', 49596: 'storms', 49605: 'exultant', 61437: 'woo-hoo', 49614: 'ahem', 62128: 'electronic', 49627: 'wagering', 56720: 'cameras', 49640: 'installed', 49643: \"america's\", 49646: \"blowin'\", 49649: 'homeland', 54635: 'zero', 49681: 'mm-hmm', 49709: 'tsk', 49714: 'tsking', 49750: 'presided', 49758: 'suave', 49760: 'debonair', 49771: 'offa', 49775: \"narratin'\", 62318: 'tale', 49855: 'restroom', 49821: 'cricket', 49822: 'uniforms', 49831: 'rain', 60992: 'rules', 62556: 'calm', 49847: \"'pu\", 49849: 'she-pu', 49876: 'everyday', 49885: 'mimes', 49895: 'sitar', 55557: 'smallest', 49906: 'saving', 49912: 'gheet', 56027: 'sympathetic', 49944: 'darjeeling', 49945: 'limited', 51796: 'slightly', 49987: 'low-blow', 49994: 'boxer:', 49996: 'pre-recorded', 50008: 'nards', 50029: 'rug', 50057: \"mother's\", 50063: 'panicked', 50076: 'carny:', 50077: 'teacup', 50086: 'whispers', 50093: 'rutabaga', 62912: 'soup', 50122: 'putty', 58253: 'padre', 50135: 'innocuous', 50138: 'flashbacks', 61498: 'grim', 50162: 'ferry', 50186: 'pointedly', 50189: 'lovejoy', 50197: 'ralph_wiggum:', 50199: 'popping', 50249: 'man_with_crazy_beard:', 57639: 'lloyd', 50269: 'outrageous', 50270: 'beard', 50287: 'expense', 50295: 'beards', 50313: \"askin'\", 50396: 'scatter', 50399: 'cockroaches', 60661: 'candy', 50440: 'scary', 50470: 'rip', 50479: 'stretch', 50482: 'tee', 50493: 'california', 50502: 'judgments', 50521: 'legally', 50547: 'beep', 50559: 'side:', 53089: 'fox', 50603: 'murdoch', 50606: 'rupert_murdoch:', 50614: 'jay', 50615: 'leno', 50619: 'jay_leno:', 50628: 'iran', 50636: 'weapon', 50646: 'rig', 50661: 'leak', 50662: 'disappear', 50667: 'nbc', 50685: 'howya', 50715: 'strategy', 50735: 'button-pusher', 50765: 'obama', 66752: 'answers', 61311: 'frustrated', 50804: 'booth', 51062: 'gary:', 50814: 'cliff', 50815: 'lee', 50820: 'zack', 50822: 'grenky', 50858: 'grienke', 50832: 'completely', 50838: 'colossal', 50839: 'exception:', 65776: 'fourth', 50843: 'inning', 50850: 'domed', 50864: 'bunion', 50871: 'notably', 50872: 'ineffective', 61932: 'sport', 50896: 'portentous', 50908: 'dexterous', 50911: 'understood', 50914: 'poin-dexterous', 50924: 'laid', 51052: 'doug:', 50931: 'key', 50971: 'sabermetrics', 50948: 'developed', 50950: 'statistician', 50957: 'bill_james:', 50966: 'taxes', 50975: 'eight-year-old', 50980: 'ballclub', 50983: 'sagacity', 50986: 'stengel', 50989: 'single-mindedness', 50992: 'steinbrenner', 50998: 'stein-stengel-', 51019: 'stats', 51027: 'ratio', 51031: 'occupied', 51044: 'sobo', 51055: 'conversion', 51056: 'factor', 51068: 'refreshingness', 51070: 'effervescence', 51073: 'benjamin:', 51076: 'minus', 51082: 'rueful', 51087: 'advertise', 51090: 'specials', 51092: 'scientific', 51134: 'annus', 51135: 'horribilis', 51687: \"others'\", 51146: 'resolution', 51167: 'fixes', 62176: 'fixed', 51224: 'courthouse', 51256: 'compare', 51275: 'exquisite', 51279: 'reward', 51282: 'planned', 51307: 'scotch', 51347: 'addiction', 51348: 'compels', 51363: 'executive', 53751: 'assistant', 51386: 'average-looking', 51394: '_burns_heads:', 51433: 'admiration', 51441: 'self-made', 51462: 'suspect', 51486: 'hangout', 61538: 'proposing', 51529: 'offense', 51549: 'whatchamacallit', 51555: 'swishkabobs', 51618: \"grandmother's\", 51620: 'urinal', 51643: \"getting'\", 51650: 'renovations', 51699: \"friend's\", 51707: 'lainie:', 51716: 'carlotta:', 52269: 'drop', 51733: 'jägermeister', 51736: 'pink', 51737: 'lemonade', 51742: 'strawberry', 51743: 'chapstick', 51748: \"cupid's\", 51758: 'wazoo', 51773: 'drains', 60305: 'plans', 51827: 'scram', 51864: 'crinkly', 54302: 'weak', 63982: 'opening', 51918: 'hitler', 51903: 'eva', 51904: 'braun:', 51921: \"man's_voice:\", 51937: 'huhza', 51997: '_kissingher:', 51957: '3', 51961: 'whoopi', 52009: 'seminar', 52014: 'motor', 52015: 'lodge', 52029: 'tornado', 52038: 'kissingher', 52059: 'earth', 52092: 'casting', 52094: 'pall', 52107: 'dungeon', 52130: 'serum', 52324: 'walther_hotenhoffer:', 52159: 'walther', 52160: 'hotenhoffer', 52165: 'pharmaceutical', 52182: 'occupation', 52201: 'renders', 52204: 'tolerable', 52207: 'normals', 52227: 'irrelevant', 58067: 'stern', 52236: 'elaborate', 52247: 'extract', 52252: 'synthesize', 52260: 'scrutinizes', 56593: 'waltz', 52309: 'grease', 58361: 'suspicious', 52342: 'germans', 53826: 'roz:', 57127: 'text', 52434: 'when-i-get-a-hold-of-you', 52439: 'dammit', 52442: 'typed', 62960: 'f', 52455: 'rapidly', 58490: 'delete', 52470: 'donated', 52474: 'haiti', 52621: '_zander:', 68710: 'burps', 52548: \"y'see\", 52555: 'pushes', 52570: 'strangles', 64097: 'relieved', 56450: 'suing', 60938: 'therapist', 52622: 'sue', 52631: 'hollowed-out', 57309: 'tree', 52637: 'contented', 57882: 'skeptical', 66729: 'therapy', 52686: 'phony', 52687: 'grin', 52688: 'plastered', 52738: 'foibles', 52757: 'freaky', 52798: 'slipped', 52801: 'mickey', 52805: 'churchy', 52869: 'boneheaded', 52882: 'brainheaded', 52902: 'fence', 56810: 'relationship', 54042: 'twin', 54800: 'hall', 52951: 'sheet', 52959: 'wistful', 52966: 'prayers', 52971: 'choked', 63068: 'dreamed', 52983: 'iddilies', 52985: 'diddilies', 53006: 'christian', 53025: 'wuss', 53037: 'confession', 53039: 'make:', 53046: 'solely', 53049: 'noble', 53050: 'intention', 53135: 'two-thirds-empty', 53148: 'poetry', 53163: 'multi-purpose', 53180: 'email', 53183: 'edna-lover-one-seventy-two', 53188: 'lowest', 53224: 'joey_kramer:', 53210: \"edna's\", 53375: 'kramer', 53219: 'drummer', 53264: 'gulps', 53266: 'plucked', 53295: 'wikipedia', 53310: 'frankenstein', 53354: 'neighbor', 53345: 'neighboreeno', 53353: 'plain', 53387: 'bagged', 53389: 'tiger', 53651: 'wayne:', 53429: 'completing', 53431: \"other's\", 53427: 'prompting', 53435: 'sen', 53449: 'cesss', 53456: 'surprising', 53457: 'entrance', 53466: 'jewelry', 53468: 'pronto', 53490: 'drawer', 53499: \"linin'\", 53503: 'presidents', 53539: 'upgrade', 53633: 'wayne', 53553: 'commanding', 53584: 'appropriate', 53585: 'reaction', 53598: 'sooo', 53608: 'fresco', 53629: 'stealings', 53671: \"speakin'\", 53690: 'farthest', 57764: 'narrator:', 53726: 'drove', 53738: 'roz', 53744: 'ditched', 53800: 'lady-free', 53802: 'eighty-three', 53861: 'souvenir', 53870: 'sizes', 53896: 'hare-brained', 53897: 'schemes', 53903: 'pillows', 53915: 'adopted', 53917: 'capuchin', 54502: 'monkey', 53927: 'bonding', 53928: 'phase', 65572: 'crew', 53954: 'safecracker', 53963: 'caper', 53968: 'fantasy', 53969: 'novel', 53982: 'brag', 53989: 'publish', 53991: 'modestly', 60726: \"children's\", 65021: 'books', 54018: 'lucinda', 54019: 'placed', 54021: 'fifth', 54022: 'shard', 54025: 'stained-glass', 54031: 'read:', 54032: \"'your\", 54033: 'parents', 54037: \"'\", 54038: 'gregor', 54047: 'understood:', 54049: 'journey', 54065: 'reader', 54067: 'selection', 54080: 'steampunk', 54095: 'frink-y', 54097: 'mock-up', 54104: 'title', 56159: 'twins', 54155: 'underbridge', 54156: 'academy', 54135: 'neil_gaiman:', 54140: 'tuna', 54143: 'itself', 54173: 'square', 54168: 'kansas', 54176: 'golden', 58861: 'vulnerable', 54202: 'literary', 54208: 'lis', 54223: 'milhouses', 54229: 'jacksons', 54231: 'xanders', 54234: 'aidens', 54239: 'dreamy', 54247: 'aiden', 64023: 'copy', 54264: 'vampire', 54267: 'transylvania', 54268: 'prep', 54279: 'trolls', 54333: 'vampires', 54285: 'brooklyn', 54293: 'fuzzlepitch', 54296: 'bloodball', 54305: 'lame', 54312: 'publishers', 54325: 'sistine', 54326: 'chapel', 54342: 'mural', 54349: 'hems', 54351: 'haws', 65804: \"hasn't\", 54390: 'watched', 54398: 'bluff', 54404: 'conversations', 54410: 'annie', 54427: 'meaning', 54493: 'lenny:', 54566: 'carl:', 54465: 'brain-switching', 54466: 'ceremony', 54518: 'carll', 54485: 'sleeping', 54498: 'switched', 54550: 'dashes', 54554: 'lennyy', 56410: 'website', 56437: 'safer', 54636: 'sheets', 54639: 'wind', 54654: 'dignified', 54668: 'stumble', 54697: 'typing', 54741: 'lead', 54745: 'pledge', 54747: 'allegiance', 54767: 'conclude', 54769: 'thanking', 54774: 'hosting', 54781: 'fumigated', 54790: 'bedbugs', 54804: 'er', 54809: 'adjourned', 54816: 'convenient', 66234: 'duty', 54846: 'sangre', 54847: 'de', 54848: 'los', 54849: 'muertos', 54853: 'friend:', 54854: 'mexican', 54858: 'mexican_duffman:', 54866: 'ho-la', 54901: 'pepto-bismol', 54903: 'facebook', 63188: 'intense', 54939: 'scrubbing', 55301: 'rag', 54962: 'hardy', 54983: 'unhappy', 55028: 'friendship', 55033: 'taxi', 65182: \"crawlin'\", 55051: 'wears', 55055: 'nemo', 55058: 'brace', 55432: 'bar_rag:', 55133: 'lear', 55142: 'be-stainèd', 55143: 'swatch', 55152: 'gentles', 55155: 'begin', 55158: 'medieval', 55167: 'self-satisfied', 55170: 'tapestry', 55175: 'sponge:', 55182: 'gutenberg', 55186: 'bartholomé:', 55220: 'maman', 59714: 'failed', 55219: 'lise:', 55239: 'marguerite:', 55224: 'overstressed', 55256: 'helps', 55262: 'recap:', 55266: 'unjustly', 55270: 'lofty', 55271: 'perch', 55276: 'wound', 55280: 'barter', 55282: 'persia', 55327: 'raggie', 65091: 'cheese', 67754: 'degradation', 55369: 'continued', 55374: 'enterprising', 55375: 'seamstress', 55383: 'fledgling', 56445: 'nation', 55407: 'thousand-year', 55410: 'grace', 55427: 'predictable', 55434: 'startled', 55499: 'sensitivity', 55502: 'jobless', 55503: 'washouts', 55532: 'error', 55537: 'blamed', 55615: 'violin', 55570: 'rent', 55607: 'pizzicato', 55612: 'buyer', 55614: 'specified', 62407: 'heading', 55637: 'stepped', 55659: 'done:', 55668: 'arguing', 55709: 'guts', 55728: 'rationalizing', 55768: 'pack', 58234: 'raccoons', 55815: 'adjust', 55819: 'runaway', 55820: 'monorails', 55824: 'nascar', 55827: 'gordon', 55832: 'jeff_gordon:', 55870: \"plank's\", 55883: 'land', 55887: 'traitors', 55899: 'lou', 55909: 'eliminate', 55916: 'bulldozing', 55918: 'tire', 55923: 'sinkhole', 55941: 'administration', 55943: 'solved', 63557: 'filled', 55956: 'fears', 55957: 'most:', 56002: \"s'okay\", 56020: 'nuked', 56022: 'swimmers', 56033: 'shame', 56045: 'wrap', 56047: 'plums', 56049: 'tin', 56057: 'philosophic', 56082: 'samples', 56089: 'shelbyville', 56090: 'sperm', 56125: 'necklace', 56136: 'eww', 56195: 'fund', 56259: 'rolled', 56290: 'lend', 56299: 'sesame', 56336: 'kermit', 56321: 'trench', 56342: 'frog', 56331: 'frogs', 66039: 'keeps', 56351: 'settles', 56380: 'woe:', 56390: 'gamble', 56393: \"daughter's\", 56433: 'poker', 56420: 'fdic', 56424: 'grubby', 56434: 'site', 56453: 'onion', 56454: 'rings', 56475: 'badmouth', 56477: 'country', 56503: 'prettiest', 56526: \"aristotle's\", 56527: 'poetics', 56579: 'rice', 56581: 'promotion', 56723: 'dan_gillick:', 56624: 'poured', 56645: 'hooky', 56677: 'throats', 56679: 'grind', 56684: 'crunch', 56714: 'nature', 56738: 'dipping', 56757: 'edge', 56764: 'groveling', 56801: 'brown', 56802: 'wiggle-frowns', 56809: 'abusive', 66866: 'cowardly', 56852: 'tolerance', 56858: 'dejected_barfly:', 56862: 'slurred', 56919: 'hammock', 56939: 'bleak', 59333: 'outlook', 56946: 'icy', 56947: 'chill', 56953: 'dropping', 56969: 'janette', 56971: 'cheryl', 56990: 'rotten', 57011: 'pretend', 57020: 'improv', 57029: 'imaginary', 57044: 'motorcycle', 62904: 'belly', 57057: 'chip', 57074: 'ends', 57120: 'skydiving', 57139: \"pullin'\", 57151: 'ripcord', 57152: 'app', 57185: 'random', 57186: 'occurrence', 58694: 'reached', 57198: 'squeezed', 57200: 'sap', 57206: \"choosin'\", 57225: 'adequate', 57259: 'carnival', 57536: 'so-called', 57281: 'miracle', 57292: \"tree's\", 57330: 'disillusioned', 57356: '7-year-old_brockman:', 57341: 'reporter', 57342: 'kenny', 57343: 'brockelstein', 57344: 'investigating', 57375: 'cartoons', 57378: 'thirty-three', 57381: 'short_man:', 57383: 'gruff', 58575: 'muttering', 57423: 'rancid', 57426: 'innocence', 57439: 'plywood', 57446: 'man_with_tree_hat:', 57451: 'hoax', 57454: 'tree_hoper:', 57468: 'hats', 57506: 'crappy', 57518: 'pretentious_rat_lover:', 57520: 'manchego', 57522: 'aziz', 64359: 'despite', 57668: 'civilization', 57663: 'anarchy', 57540: 'lurks', 57547: 'racially-diverse', 57552: 'network', 57822: 'lloyd:', 57563: 'experienced', 57642: 'w', 58950: 'r', 57594: 'acronyms', 57632: 'kinderhook', 57682: 'collapse', 57689: 'rome', 57706: 'inexorable', 57707: 'march', 57709: 'progress', 57727: '_eugene_blatz:', 57729: 'slaves', 57736: 'supermarket', 57740: 'starve', 57778: 'unsourced', 57780: 'undated', 57783: 'convinced', 57785: 'beyond', 57839: 'suspended', 57861: 'voodoo', 57862: 'curse', 57865: 'gestated', 57872: 'popped', 57909: 'acquitted', 57914: 'nightmare', 57928: 'in-ground', 65332: \"readin'\", 57976: 'shades', 57978: 'grey', 60892: 'chicks', 57995: 'what-for', 58042: 'fiction', 58047: 'sheriff', 58055: 'kissed', 58060: 'said:', 58062: 'imitating', 58064: 'griffith', 58069: \"'now\", 58071: 'aunt', 58073: 'asks', 58080: \"fishin'\", 58081: \"hole'\", 58110: 'wooden', 58125: 'argue', 58128: 'stirrers', 58408: '_hooper:', 64978: 'theater', 58156: 'holy', 58171: 'faiths', 58184: 'easy-going', 58185: 'offshoot', 58187: 'protestantism', 58207: 'handler', 58221: \"thing's\", 58245: 'rims', 58267: 'ribbon', 58276: 'cherry', 58302: 'blurbs', 58310: 'sedaris', 58314: 'flack', 58322: 'pews', 58358: 'deacon', 58370: 'catholic', 58539: 'priest', 58387: 'sexton', 58391: 'rector', 58447: 'whim', 58488: \"nothin's\", 63132: 'important', 58515: 'mid-conversation', 58524: 'padres', 58527: 'tigers', 58553: 'polygon', 58557: 'hexa-', 58559: 'octa-', 58567: 'decide:', 58606: 'loudly', 58640: \"beggin'\", 58686: 'legend', 58822: 'warm_female_voice:', 58696: 'buzz', 58704: 'recorded', 58707: 'options', 58714: 'carefully', 58723: 'committing', 58801: 'vacuum', 58802: 'cleaner', 58805: 'press', 58829: 'life-extension', 58833: 'male_singers:', 58836: 'painless', 58839: 'brings', 58856: 'delays', 58874: 'ron', 58882: 'moe-ron', 63170: 'tie', 58937: 'libraries', 58939: 'newspaper', 58940: 'rods', 58962: 'compressions', 58966: 'gees', 58972: 'singing/pushing', 58998: \"stayin'\", 59020: 'living', 59025: 'fools', 64187: 'belong', 59134: 'lease', 59170: 'post-suicide', 59171: 'afterglow', 59173: 'shorter', 59203: 'applesauce', 59219: 'leaving', 59273: 'choked-up', 59302: 'passes', 59352: 'reentering', 59367: 'noosey', 59417: 'noose', 59441: 'worldview', 59446: 'cleaning', 59451: 'growing', 59458: 'carpet', 59463: 'layer', 59469: 'congoleum', 59473: 'hardwood', 59483: 'jig', 59502: 'improved', 59513: 'non-losers', 59531: 'getcha', 59734: 'glen:', 59540: 'aged', 59745: 'ken:', 59603: 'venture', 59604: 'capitalists', 65693: 'dreams', 59615: 'mostly', 59642: 'kentucky', 59643: 'kool', 59644: 'aid', 59678: 'fantastic', 59692: 'startup', 59695: 'branding', 59696: 'specialists', 59709: 'touch', 59791: 'rafter', 59793: 'comforting', 59805: 'holidays', 59825: 'expensive', 59826: 'beer:', 59828: 'platinum', 59841: 'paste', 59847: 'hairs', 59854: 'youth', 59876: 'babar', 59913: 'elephants', 59892: 'confidential', 59897: 'cousin', 59899: 'celeste', 59907: 'takeaway', 59912: 'royal', 59915: 'trainers', 59922: 'average', 59923: 'schmoe', 59945: \"can't-believe-how-bald-he-is\", 59981: 'science', 59982: 'exhibit', 64839: 'brothers', 60073: 'hunger', 60074: \"games'd\", 60079: 'womb', 60094: 'life:', 60096: 'ninety-six', 60101: \"number's\", 60144: 'twenty-two', 60146: 'sixty-nine', 60134: 'winning', 60190: 'celebrate', 60194: \"ragin'\", 60219: 'mini-dumpsters', 60224: 'wings', 60255: 'gasoline', 60313: 'build', 60318: 'swimming', 60324: 'freaking', 60365: \"cashin'\", 60535: \"carl's\", 60424: 'safety', 60430: 'ripped', 60463: 'tense', 60472: 'voicemail', 60483: 'offensive', 60490: 'sickened', 60519: 'moolah-stealing', 60520: 'jackpot-thief', 60529: \"something's\", 60530: 'reflected', 60533: 'lenses', 60536: 'sunglasses', 60553: 'geyser', 60596: 'strokkur', 60597: 'geysir', 60675: 'minors', 60680: 'fat_in_the_hat:', 60684: 'pawed', 60691: 'skunk', 60702: 'furry', 60747: 'knit', 60750: 'thnord', 60753: 'leathery', 60900: 'spied', 60801: 'hidden', 60810: 'selfish', 60842: 'radioactive', 60843: 'hellhole', 60854: 'superpower', 60883: 'whoa-ho', 60906: 'looooooooooooooooooong', 60907: 'experience', 60933: 'schedule', 60941: 'hers', 66202: 'bump', 60970: 'ideas', 60980: 'divorced', 61127: 'senator', 61108: 'senators', 61085: 'reliable', 61067: 'source', 61070: 's-a-u-r-c-e', 61076: 'touches', 61077: 'earpiece', 61118: 'senators:', 61122: 'abercrombie', 61125: 'billingsley', 61128: 'beaumont', 61138: \"plaster's\", 61139: 'flaking', 61194: 'lay', 61203: \"stallin'\", 61215: 'groans', 61241: 'squeals', 61279: 'omigod', 64806: 'brother', 61355: 'liser', 61448: 'cletus_spuckler:', 61465: 'conditioning', 61488: 'barkeeps', 61490: 'gin-slingers', 61493: 'beer-jerks', 61517: 'compete', 61521: 'stores', 61526: 'hooch', 61533: 'cap', 61607: 'superhero', 61560: 'masks', 61564: 'uninhibited', 61567: 'invulnerable', 61599: 'shuts', 61619: 'nick', 61620: 'fury', 61629: 'batmobile', 61633: 'wolveriskey', 61635: \"'ere\", 61642: 'portfolium', 61652: \"boy's\", 61655: 'knock-up', 61656: 'powers', 61665: 'created', 61688: 'virility', 61699: 'virile', 61727: \"brady's\", 61728: 'libido', 61758: 'rocks', 61764: 'sets', 61812: 'legs:', 61834: 'kidnaps', 61842: 'grateful', 61858: \"must've\", 61881: 'corn', 67299: 'pigs', 61902: 'eighty-five', 61905: 'goal', 61915: 'refresh', 61918: 'nfl_narrator:', 61924: 'breathtaking', 61925: 'ignorance', 61929: 'dislike', 61935: 'rookie', 61936: 'housewife', 61942: 'savvy', 61943: 'veteran', 62004: \"tv'll\", 62016: \"yesterday's\", 62017: 'whatsit', 62044: 'express', 62039: 'lifestyle', 62063: 'contract', 62081: 'fast-food', 62101: 'hibachi', 62104: \"how're\", 62281: 'bender:', 62123: 'transfer', 62129: 'hyper-credits', 62142: 'ding-a-ding-ding-ding-ding-ding-ding', 62156: 'ding-a-ding-ding-a-ding-ding', 62163: 'blade', 62172: 'spender', 62181: 'gossipy', 62192: 'jukebox_record:', 62222: 'robot', 62224: 'incapable', 62226: 'emotion', 62317: 'terrifying', 62322: 'quebec', 62323: 'nordiques', 62326: 'spooky', 62329: 'colorado', 62330: 'avalanche', 62338: \"toot's\", 62393: 'verdict', 62395: 'overturned', 62398: 'sequel', 62434: 'neon', 62456: 'repairman', 65989: 'mall', 62534: 'bolting', 62587: 'wrapped', 62615: 'shoulders', 62630: 'si-lent', 62633: 'ho-ly', 62644: 'eve', 64854: \"moe's_thoughts:\", 62667: \"startin'\", 62689: 'gift:', 62713: 'shrieks', 62741: 'angrily', 62757: 'wenceslas', 62768: 'karaoke_machine:', 62780: 'doooown', 65985: 'santa', 62809: 'weight', 62812: 'thirty-nine', 62816: \"foolin'\", 62821: 'car:', 62824: 'habit', 62841: 'hateful', 62846: 'chubby', 62848: 'chunky', 62850: 'blobbo', 62852: 'slobbo', 62857: 'michelin', 62860: 'stay-puft', 62862: 'chumbawamba', 62870: 'balloon', 62873: 'papa', 62874: 'grandé', 62876: 'augustus', 62877: 'gloop', 62879: 'beached', 62880: 'whale', 62883: 'boned', 62885: 'wisconsin', 62886: 'skinny', 62888: 'butterball', 62890: 'dumptruck', 62892: 'jelly', 62895: 'pudgy', 62896: 'wudgy', 62898: 'lard', 62901: 'blubberino', 62903: 'buddha', 62908: 'tubman', 62911: 'ton', 62977: 'page', 62918: 'blob', 62919: 'saget', 62921: 'chub', 62922: 'hub', 62924: 'calvin', 62928: 'manfred', 62929: 'manboobs', 62931: '21', 62932: 'lump', 62939: 'fatso', 62941: 'harvey', 62945: 'obese', 62947: 'cannoli', 62949: 'mahatma', 62950: 'gumbo', 62952: 'salvador', 62953: 'deli', 62955: 'elmer', 62956: 'pantry', 62966: 'sponge', 62970: 'snackie', 62971: 'onassis', 62981: 'foodie', 62984: 'hoagie', 62985: 'carmichael', 62988: 'load', 62997: 'belts', 63049: 'homunculus', 63055: \"feelin's\", 63077: 'goblins', 63095: 'pridesters:', 63121: 'movement', 63134: 'drinking:', 63156: 'relaxed', 63173: 'apron', 63175: 'limber', 63179: \"tap-pullin'\", 63260: 'hook', 63293: 'sideshow', 63336: 'laney', 63337: 'fontaine', 63839: 'brassiest', 63351: 'vulgar', 63353: 'fulla', 63363: 'jimmy', 63364: 'stewart', 63367: 'super-nice', 63382: \"can'tcha\", 63458: 'items', 63463: 'shells', 63470: 'lime', 63489: \"high-falutin'\", 63492: 'theatah', 63501: 'exits', 63962: 'nickels', 63596: 'sight', 63606: 'tomatoes', 63611: 'bachelorette', 63624: 'lady_duff:', 63662: 'hearing', 63664: 'interesting', 63670: 'clubs', 63769: 'book_club_member:', 63681: \"lovers'\", 63687: 'spiritual', 63690: 'other_book_club_member:', 63710: 'liven', 63815: 'laney_fontaine:', 63733: 'charming', 63756: 'whaaaa', 63766: 'craphole', 63780: 'bones', 63789: 'dazed', 63828: 'bounced', 63842: 'sass', 63866: 'heaving', 63887: \"coaster's\", 63902: 'mouths', 63930: \"snappin'\", 63939: 'ruint', 63945: \"i-i'll\", 63951: 'savings', 63960: 'rubbed', 63992: 'defected', 63994: 'north', 63995: 'korea', 64001: 'dae', 64009: 'pickles', 64035: 'background', 64040: 'ummmmmmmmm', 64044: 'ehhhhhhhh', 64048: 'errrrrrr', 64052: 'ehhhhhhhhh', 64056: 'ehhhhhh', 64085: 'kay', 64089: 'apply', 64106: 'jerking', 64140: 'chunk', 64143: 'oak', 64150: 'poplar', 64163: 'knowledge', 64165: 'wood', 64216: 'smile:', 64219: 'baritone', 64236: 'something:', 64241: 'elizabeth', 65380: 'kemi:', 64261: 'africa', 64289: 'languages', 64672: 'snorts', 64302: 'portuguese', 64304: 'eu', 64305: 'não', 64306: 'quero', 64307: 'dizer', 64308: 'para', 64309: 'mostrar', 64313: 'je', 64314: 'ne', 64315: 'veux', 64316: 'pas', 64317: 'montrer', 64323: 'refiero', 64325: 'presumir', 64329: 'watashi', 64334: 'wa', 64331: 'koji', 64332: 'suru', 64333: 'wakede', 64335: 'arimasen', 64382: 'scrape', 64391: 'majesty', 64393: 'notice', 64420: 'nigeria', 64425: 'repressed', 67167: 'level', 64496: 'spelling', 64498: 'grammar', 64521: 'ze-ro', 64535: 'kemi', 64548: 'nigerian', 65212: 'princess', 64549: 'prince', 64567: 'trashed', 64627: 'happens', 64635: 'cruiser', 64649: 'answered', 64667: 'tank', 64680: 'gil_gunderson:', 64990: 'princesses', 64755: 'mumble', 64833: 'conclusions', 64866: 'tied', 64870: 'jernt', 64875: 'elocution', 64882: 'pronounce', 64884: 'over-pronouncing', 64896: 'online', 64901: 'pernt', 64936: 'tease', 64939: 'thrown', 64968: 'rom', 64969: 'coms', 65003: 'wheels', 65005: 'witches', 65006: \"treatin'\", 66685: 'familiar', 65024: 'countryman', 65025: 'chinua', 65026: 'achebe', 65031: 'apart', 65038: 'ease', 65047: 'optimistic', 65363: 'literature', 65054: 'amused', 65057: 'comment', 65120: 'yawns', 65066: 'eaten', 65090: 'string', 65110: 'eats', 65118: 'stretches', 66358: 'stuck', 65193: 'goodnight', 65155: 'moon', 65178: 'dregs', 65181: 'bugs', 65191: 'mice', 65196: 'treats', 65227: 'bar:', 65231: 'cab', 65287: 'scooter', 65268: 'waist', 65273: 'shyly', 65281: 'lifts', 65282: 'index', 65314: 'examples', 65320: 'albeit', 65321: 'depressing', 65331: 'bedtime', 65337: 'premise', 65349: \"cheerin'\", 65393: 'pine', 65416: 'suffering', 65418: 'silence', 65435: 'rafters', 65475: 'aged_moe:', 65459: 'badly', 65477: 'smiles', 65479: 'divine', 65520: 'troy:', 65505: 'four-star', 65506: 'brother-in-law', 65612: 'young_homer:', 65560: 'nachos', 65579: 'triangle', 65609: 'atari', 65614: 'oblivious', 65619: 'aims', 65629: 'dumpster', 65635: 'gags', 65705: 'teenage_homer:', 65650: 'psst', 65656: 'asleep', 65713: 'mellow', 65765: 'teenage_bart:', 65727: 'aghast', 65777: 'grade', 65841: 'adult_bart:', 65877: \"homer's_brain:\", 65889: 'kirk_voice_milhouse:', 65896: 'milks', 65921: 'lumpa', 65922: 'coal', 65925: 'stocking', 65931: 'sucking', 65970: 'getup', 65980: 'part-time', 66008: 'selective', 67102: 'punk', 67103: 'someday', 66047: 'reaches', 68160: 'pocket', 66061: 'opens', 66070: 'whoops', 66118: 'explanation', 66457: 'boxing_announcer:', 66165: 'anxious', 66189: 'bloodiest', 66201: 'thirsty', 66205: 'log', 66209: 'eddie', 66333: 'eddie:', 66221: 'pretzels', 66272: 'peeping', 66273: 'toms', 66277: 'terrorizing', 66279: 'neighborhood', 66308: 'scent', 66317: 'bobo', 66327: 'wieners', 66335: 'figures', 66371: 'disappointment', 66384: 'onto', 66397: 'dealt', 66410: 'control', 66460: 'tremendous', 66479: 'tv-station_announcer:', 66726: 'marvin', 66727: \"monroe's\", 66628: 'tv_wife:', 66637: 'tv_husband:', 66572: 'this:', 66646: 'small_boy:', 66658: 'furiously', 66666: '_marvin_monroe:', 66679: 'monroe', 66695: 'gimmicks', 66698: 'pills', 66701: 'fad', 66702: 'diets', 66706: 'bliss', 66732: '1-800-555-hugs', 66754: \"life's\", 66764: 'heh-heh', 66807: 'thru', 66868: 'runt', 66879: 'gut', 66916: 'tragedy', 66943: 'ohhhh', 66965: 'hottest', 66991: 'heave-ho', 67035: 'dingy', 67036: 'flophouse', 67054: 'koholic', 67073: 'yellow-belly', 67075: 'jackass', 67108: \"'er\", 67130: 'hunka', 67131: 'beef', 67180: 'contemplates', 67185: 'jams', 67243: 'yells', 67257: 'drunkenly', 67293: \"larry's\", 67304: 'difference', 67317: 'slop', 67319: 'hose', 67327: 'beings', 67347: 'candles', 67349: 'tablecloth', 67415: 'drift', 67465: 'deals', 67514: 'capitol', 67981: \"dyin'\", 67533: 'curiosity', 67588: \"c'mom\", 67605: 'employees', 67607: 'spouses', 67629: 'decision', 67631: 'simpsons', 67633: 'faced', 67636: \"should've\", 67637: 'listened', 67666: 'bites', 67669: 'oooh', 67681: \"costume's\", 67694: 'ape-like', 67705: 'saga', 67732: 'riveting', 67756: 'humiliation', 67789: \"rasputin's\", 67801: \"professor's\", 67804: 'patented', 67805: 'coma', 67830: 'show-off', 67837: 'muscles', 67869: 'engraved', 67876: 'richard:', 67897: 'audience:', 67954: 'tv_announcer:', 67945: 'ref', 67947: 'issuing', 67949: 'warning', 67951: 'rasputin', 67970: 'referee', 67971: 'permitting', 67977: 'smitty:', 68131: 'squabbled', 68152: 'washed', 68396: 'refreshment', 68402: 'trustworthy', 68499: 'sharing', 68525: 'birthplace', 68529: 'roy', 68583: 'scum-sucking', 68584: 'pus-bucket', 68599: 'eyeballs', 68662: 'often', 68793: 'bull', 68858: 'connection', 68877: 'lighten', 68887: 'ironic', 68906: 'snotty', 68907: 'sister-in-law', 68945: 'picky', 68971: 'blur', 69013: 'patty', 68983: 'decided', 69023: 'happiness', 69042: 'pancakes', 69054: 'disdainful', 69075: 'heals', 69077: 'wounds'}\n"
     ]
    }
   ],
   "source": [
    "\"\"\"\n",
    "DON'T MODIFY ANYTHING IN THIS CELL\n",
    "\"\"\"\n",
    "# Preprocess Training, Validation, and Testing Data\n",
    "helper.preprocess_and_save_data(data_dir, token_lookup, create_lookup_tables)"
   ]
  },
  {
   "cell_type": "markdown",
   "metadata": {},
   "source": [
    "# Check Point\n",
    "This is your first checkpoint. If you ever decide to come back to this notebook or have to restart the notebook, you can start from here. The preprocessed data has been saved to disk."
   ]
  },
  {
   "cell_type": "code",
   "execution_count": 8,
   "metadata": {
    "collapsed": true
   },
   "outputs": [],
   "source": [
    "\"\"\"\n",
    "DON'T MODIFY ANYTHING IN THIS CELL\n",
    "\"\"\"\n",
    "import helper\n",
    "import numpy as np\n",
    "import problem_unittests as tests\n",
    "\n",
    "int_text, vocab_to_int, int_to_vocab, token_dict = helper.load_preprocess()"
   ]
  },
  {
   "cell_type": "markdown",
   "metadata": {},
   "source": [
    "## Build the Neural Network\n",
    "You'll build the components necessary to build a RNN by implementing the following functions below:\n",
    "- get_inputs\n",
    "- get_init_cell\n",
    "- get_embed\n",
    "- build_rnn\n",
    "- build_nn\n",
    "- get_batches\n",
    "\n",
    "### Check the Version of TensorFlow and Access to GPU"
   ]
  },
  {
   "cell_type": "code",
   "execution_count": 9,
   "metadata": {
    "scrolled": true
   },
   "outputs": [
    {
     "name": "stdout",
     "output_type": "stream",
     "text": [
      "Collecting tensorflow==1.0\n",
      "  Using cached tensorflow-1.0.0-cp36-cp36m-manylinux1_x86_64.whl\n",
      "Requirement already up-to-date: protobuf>=3.1.0 in /home/josh/.conda/envs/dlndtf1/lib/python3.6/site-packages (from tensorflow==1.0)\n",
      "Requirement already up-to-date: wheel>=0.26 in /home/josh/.conda/envs/dlndtf1/lib/python3.6/site-packages (from tensorflow==1.0)\n",
      "Requirement already up-to-date: numpy>=1.11.0 in /home/josh/.conda/envs/dlndtf1/lib/python3.6/site-packages (from tensorflow==1.0)\n",
      "Collecting six>=1.10.0 (from tensorflow==1.0)\n",
      "  Using cached six-1.11.0-py2.py3-none-any.whl\n",
      "Collecting setuptools (from protobuf>=3.1.0->tensorflow==1.0)\n",
      "  Using cached setuptools-36.5.0-py2.py3-none-any.whl\n",
      "Installing collected packages: six, tensorflow, setuptools\n",
      "  Found existing installation: six 1.10.0\n",
      "\u001b[31m    DEPRECATION: Uninstalling a distutils installed project (six) has been deprecated and will be removed in a future version. This is due to the fact that uninstalling a distutils project will only partially uninstall the project.\u001b[0m\n",
      "    Uninstalling six-1.10.0:\n",
      "      Successfully uninstalled six-1.10.0\n",
      "  Rolling back uninstall of six\n",
      "\u001b[31mException:\n",
      "Traceback (most recent call last):\n",
      "  File \"/home/josh/.conda/envs/dlndtf1/lib/python3.6/site-packages/pip/basecommand.py\", line 215, in main\n",
      "    status = self.run(options, args)\n",
      "  File \"/home/josh/.conda/envs/dlndtf1/lib/python3.6/site-packages/pip/commands/install.py\", line 342, in run\n",
      "    prefix=options.prefix_path,\n",
      "  File \"/home/josh/.conda/envs/dlndtf1/lib/python3.6/site-packages/pip/req/req_set.py\", line 784, in install\n",
      "    **kwargs\n",
      "  File \"/home/josh/.conda/envs/dlndtf1/lib/python3.6/site-packages/pip/req/req_install.py\", line 851, in install\n",
      "    self.move_wheel_files(self.source_dir, root=root, prefix=prefix)\n",
      "  File \"/home/josh/.conda/envs/dlndtf1/lib/python3.6/site-packages/pip/req/req_install.py\", line 1064, in move_wheel_files\n",
      "    isolated=self.isolated,\n",
      "  File \"/home/josh/.conda/envs/dlndtf1/lib/python3.6/site-packages/pip/wheel.py\", line 345, in move_wheel_files\n",
      "    clobber(source, lib_dir, True)\n",
      "  File \"/home/josh/.conda/envs/dlndtf1/lib/python3.6/site-packages/pip/wheel.py\", line 323, in clobber\n",
      "    shutil.copyfile(srcfile, destfile)\n",
      "  File \"/home/josh/.conda/envs/dlndtf1/lib/python3.6/shutil.py\", line 121, in copyfile\n",
      "    with open(dst, 'wb') as fdst:\n",
      "PermissionError: [Errno 13] Permission denied: '/home/josh/.conda/envs/dlndtf1/lib/python3.6/site-packages/six.py'\u001b[0m\n"
     ]
    }
   ],
   "source": [
    "# apparently 1.2.1 is a problem so Live support said to downgrade\n",
    "!pip install -U tensorflow==1.0"
   ]
  },
  {
   "cell_type": "code",
   "execution_count": 10,
   "metadata": {},
   "outputs": [
    {
     "name": "stdout",
     "output_type": "stream",
     "text": [
      "TensorFlow Version: 1.0.1\n",
      "Default GPU Device: /gpu:0\n"
     ]
    }
   ],
   "source": [
    "\"\"\"\n",
    "DON'T MODIFY ANYTHING IN THIS CELL\n",
    "\"\"\"\n",
    "from distutils.version import LooseVersion\n",
    "import warnings\n",
    "import tensorflow as tf\n",
    "\n",
    "# Check TensorFlow Version\n",
    "assert LooseVersion(tf.__version__) >= LooseVersion('1.0'), 'Please use TensorFlow version 1.0 or newer'\n",
    "print('TensorFlow Version: {}'.format(tf.__version__))\n",
    "\n",
    "# Check for a GPU\n",
    "if not tf.test.gpu_device_name():\n",
    "    warnings.warn('No GPU found. Please use a GPU to train your neural network.')\n",
    "else:\n",
    "    print('Default GPU Device: {}'.format(tf.test.gpu_device_name()))\n"
   ]
  },
  {
   "cell_type": "code",
   "execution_count": 11,
   "metadata": {},
   "outputs": [
    {
     "name": "stdout",
     "output_type": "stream",
     "text": [
      "TensorFlow Version: 1.0.1\n",
      "Default GPU Device: /gpu:0\n"
     ]
    }
   ],
   "source": [
    "\"\"\"\n",
    "DON'T MODIFY ANYTHING IN THIS CELL\n",
    "\"\"\"\n",
    "from distutils.version import LooseVersion\n",
    "import warnings\n",
    "import tensorflow as tf\n",
    "\n",
    "# Check TensorFlow Version\n",
    "assert LooseVersion(tf.__version__) >= LooseVersion('1.0'), 'Please use TensorFlow version 1.0 or newer'\n",
    "print('TensorFlow Version: {}'.format(tf.__version__))\n",
    "\n",
    "# Check for a GPU\n",
    "if not tf.test.gpu_device_name():\n",
    "    warnings.warn('No GPU found. Please use a GPU to train your neural network.')\n",
    "else:\n",
    "    print('Default GPU Device: {}'.format(tf.test.gpu_device_name()))"
   ]
  },
  {
   "cell_type": "markdown",
   "metadata": {},
   "source": [
    "### Input\n",
    "Implement the `get_inputs()` function to create TF Placeholders for the Neural Network.  It should create the following placeholders:\n",
    "- Input text placeholder named \"input\" using the [TF Placeholder](https://www.tensorflow.org/api_docs/python/tf/placeholder) `name` parameter.\n",
    "- Targets placeholder\n",
    "- Learning Rate placeholder\n",
    "\n",
    "Return the placeholders in the following tuple `(Input, Targets, LearningRate)`"
   ]
  },
  {
   "cell_type": "code",
   "execution_count": 12,
   "metadata": {},
   "outputs": [
    {
     "name": "stdout",
     "output_type": "stream",
     "text": [
      "Tests Passed\n"
     ]
    }
   ],
   "source": [
    "def get_inputs():\n",
    "    \"\"\"\n",
    "    Create TF Placeholders for input, targets, and learning rate.\n",
    "    :return: Tuple (input, targets, learning rate)\n",
    "    \"\"\"\n",
    "    # Done: Implement Function\n",
    "    #https://www.tensorflow.org/api_docs/python/tf/placeholder\n",
    "    # I don't think there is a char/text dtype, but int should be ok if python is like C. That said even though Python is so much \"easier\"*\" than C, but after years of low level coding, python is soooo much more confusing.. but not nearly as bad as R :p\n",
    "        # i joke, but sersiously statistics homework is hard enough without having to remember that data starts at location 1 instead of 0\n",
    "    \n",
    "    # P.S. if a reviewer actually does read my comments, sorry about commenting out broken code instead of deleting it always, sometimes at least in the case of this homework,it is helpful for me to see what I tried already\n",
    "    #  If I wasn't still learning all of this, I'd probably clean it up more. \n",
    "    \n",
    "    #Input = tf.placeholder(dtype=tf.int32,name=\"input\")\n",
    "    #Targets = tf.placeholder(dtype=tf.int32,name=\"Targets\")\n",
    "    #LearningRate = tf.placeholder(dtype=tf.int32,name=\"LearningRate\")\n",
    "    #ret = (Input, Targets, LearningRate)\n",
    "    \n",
    "    #AssertionError: Input has wrong rank.  Rank 0 found.\n",
    "    \n",
    "    #It should be ok, since the documentation says if nothing is specified that it will take anyshape, but for the unit test:\n",
    "    #Input = tf.placeholder(dtype=tf.int32,name=\"input\",shape=[None,None])\n",
    "    #Targets = tf.placeholder(dtype=tf.int32,name=\"Targets\",shape=[None,None])\n",
    "    #LearningRate = tf.placeholder(dtype=tf.int32,name=\"LearningRate\")\n",
    "    \n",
    "    # later it errored complaining:\n",
    "    #TypeError: Value passed to parameter 'indices' has DataType float32 not in list of allowed values: int32, int64\n",
    "    #32Input = tf.placeholder(dtype=tf.float32,name=\"input\",shape=[None,None])\n",
    "    #Targets = tf.placeholder(dtype=tf.float32,name=\"Targets\",shape=[None,None])\n",
    "    #LearningRate = tf.placeholder(dtype=tf.float32,name=\"LearningRate\")\n",
    "    \n",
    "    \n",
    "    #Input = tf.placeholder(dtype=tf.int32,name=\"input\",shape=[None,None])\n",
    "    #Targets = tf.placeholder(dtype=tf.int32,name=\"Targets\",shape=[None,None])\n",
    "    #LearningRate = tf.placeholder(dtype=tf.int32,name=\"LearningRate\")\n",
    "      \n",
    "    #now it says: AssertionError: Predicted word is wrong type. Found <class 'numpy.int64'> type.\n",
    "    Input = tf.placeholder(dtype=tf.int64,name=\"input\",shape=[None,None])\n",
    "    Targets = tf.placeholder(dtype=tf.int64,name=\"Targets\",shape=[None,None])\n",
    "    LearningRate = tf.placeholder(dtype=tf.int64,name=\"LearningRate\")\n",
    "    \n",
    "    \n",
    "    # Update: Actually, rank IS required. Just the values can be NONE, like in the case of an unknown batch size\n",
    "    ret = (Input, Targets, LearningRate)\n",
    "    \n",
    "    return ret#None, None, None\n",
    "\n",
    "\n",
    "\n",
    "\n",
    "\"\"\"\n",
    "DON'T MODIFY ANYTHING IN THIS CELL THAT IS BELOW THIS LINE\n",
    "\"\"\"\n",
    "tests.test_get_inputs(get_inputs)"
   ]
  },
  {
   "cell_type": "markdown",
   "metadata": {},
   "source": [
    "### Build RNN Cell and Initialize\n",
    "Stack one or more [`BasicLSTMCells`](https://www.tensorflow.org/api_docs/python/tf/contrib/rnn/BasicLSTMCell) in a [`MultiRNNCell`](https://www.tensorflow.org/api_docs/python/tf/contrib/rnn/MultiRNNCell).\n",
    "\n",
    "- The Rnn size should be set using `rnn_size`\n",
    "- Initalize Cell State using the MultiRNNCell's [`zero_state()`](https://www.tensorflow.org/api_docs/python/tf/contrib/rnn/MultiRNNCell#zero_state) function\n",
    "    - Apply the name \"initial_state\" to the initial state using [`tf.identity()`](https://www.tensorflow.org/api_docs/python/tf/identity)\n",
    "\n",
    "Return the cell and initial state in the following tuple `(Cell, InitialState)`"
   ]
  },
  {
   "cell_type": "code",
   "execution_count": 13,
   "metadata": {
    "scrolled": true
   },
   "outputs": [
    {
     "name": "stdout",
     "output_type": "stream",
     "text": [
      "Tests Passed\n"
     ]
    }
   ],
   "source": [
    "##### NO MATTERwhatidid it didn't work. II spoke with live support and we eentually found my code was OK, bt it only works with tf 1. I have 1.2.1\n",
    "#tensorflow-gpu            1.2.1                     <pip>\n",
    "#\n",
    "\n",
    "def get_init_cell(batch_size, rnn_size):\n",
    "    \"\"\"\n",
    "    Create an RNN Cell and initialize it.\n",
    "    :param batch_size: Size of batches\n",
    "    :param rnn_size: Size of RNNs\n",
    "    :return: Tuple (cell, initialize state)\n",
    "    \"\"\"\n",
    "    # doen: Implement Function\n",
    "    \n",
    "    #useful references: https://www.tensorflow.org/api_docs/python/tf/contrib/rnn/MultiRNNCell\n",
    "    # https://www.tensorflow.org/api_docs/python/tf/contrib/rnn/MultiRNNCell\n",
    "    # https://www.tensorflow.org/api_docs/python/tf/contrib/rnn/BasicLSTMCell\n",
    "    \n",
    "    # https://www.tensorflow.org/api_guides/python/contrib.rnn is also a useful link\n",
    "    \n",
    "    # Use parameter rnn_size\n",
    "    #slLSTM = tf.nn.rnn_cell.BasicRNNCell (rnn_size)\n",
    "    #singlelayer_LSTM = tf.nn.rnn_cell.BasicLSTMCells (rnn_size)\n",
    "     \n",
    "        \n",
    "    #AttributeError: module 'tensorflow.python.ops.rnn_cell' has no attribute 'BasicLSTMCells'\n",
    "    #loooks like theree is a typo in the expaination above.\n",
    "    #singlelayer_LSTM = tf.nn.rnn_cell.BasicLSTMCell (rnn_size)\n",
    "    singlelayer_LSTM = tf.contrib.rnn.BasicLSTMCell (rnn_size)\n",
    "     \n",
    "    \n",
    "    \n",
    "    #task: Stack one or more BasicLSTMCells in a MultiRNNCell.\n",
    "    \n",
    "    # These are both part of contrib. since they are the ones suggested by udacity I will use them, but i figure there should be official, non-contrib, rnn layer functions in tf bynow....\n",
    "    # oK. These are aliases\n",
    "    #Aliases:\n",
    "\n",
    "    #Class tf.contrib.rnn.MultiRNNCell\n",
    "    #Class tf.nn.rnn_cell.MultiRNNCell\n",
    "\n",
    "    # Does it matter how many i use? More is better right? I mean at the cost of speed / memory, but more ls tm cells really means that more \"histroy\\\" is possible to the rNN , ritght?\n",
    "    #cell = tf.nn.rnn_cell.MultiRNNCell([singlelayer_LSTM,singlelayer_LSTM,singlelayer_LSTM,singlelayer_LSTM])\n",
    "    #cell = tf.nn.rnn_cell.MultiRNNCell([singlelayer_LSTM,singlelayer_LSTM])\n",
    "    #rcell = tf.contrib.rnn.MultiRNNCell([singlelayer_LSTM,singlelayer_LSTM])\n",
    "    rcell = tf.contrib.rnn.MultiRNNCell([singlelayer_LSTM])\n",
    "    \n",
    "    \n",
    "    # 0 out its state of size batch\n",
    "\n",
    "    \n",
    "    # Honestly I don't get when to pick different types.\n",
    "    # unless it really should be int32, I figure float32 is the best I can do\n",
    "    # i see that float_  / float64 exist, but can I be garenteed that that would work on all gpus? I can't find a good answer\n",
    "    # but then woul;dn't I get better speeds with int either way..\n",
    "    #initialize_state = rcell.zero_state(batch_size,dtype=tf.float32)\n",
    "    initialize_state = rcell.zero_state(batch_size,dtype=tf.int32)\n",
    "    \n",
    "    \n",
    "    \n",
    "    #ValueError: prefix tensor must be either a scalar or vector, but saw tensor: Tensor(\"Placeholder:0\", dtype=int32)\n",
    "    initialize_state = tf.identity(initialize_state,name=\"initial_state\")\n",
    "    \n",
    "    #return: Tuple (cell, initialize state)\n",
    "    \n",
    "    \n",
    "    return (rcell, initialize_state)\n",
    "    #return None, None\n",
    "\n",
    "\n",
    "\"\"\"\n",
    "DON'T MODIFY ANYTHING IN THIS CELL THAT IS BELOW THIS LINE\n",
    "\"\"\"\n",
    "tests.test_get_init_cell(get_init_cell)"
   ]
  },
  {
   "cell_type": "markdown",
   "metadata": {},
   "source": [
    "### Word Embedding\n",
    "Apply embedding to `input_data` using TensorFlow.  Return the embedded sequence."
   ]
  },
  {
   "cell_type": "code",
   "execution_count": 14,
   "metadata": {},
   "outputs": [
    {
     "name": "stdout",
     "output_type": "stream",
     "text": [
      "Tests Passed\n"
     ]
    }
   ],
   "source": [
    "def get_embed(input_data, vocab_size, embed_dim):\n",
    "    \"\"\"\n",
    "    Create embedding for <input_data>.\n",
    "    :param input_data: TF placeholder for text input.\n",
    "    :param vocab_size: Number of words in vocabulary.\n",
    "    :param embed_dim: Number of embedding dimensions\n",
    "    :return: Embedded input.\n",
    "    \"\"\"\n",
    "    # done: Implement Function\n",
    "    #embedded sequence\n",
    "    #https://www.tensorflow.org/api_docs/python/tf/contrib/layers/embed_sequence\n",
    "\n",
    "    \n",
    "    \n",
    "    #embed_sequence(\n",
    "    #ids,\n",
    "    #vocab_size=None,vocab_size\n",
    "    #embed_dim=None,\n",
    "    #unique=False,\n",
    "    #initializer=None,\n",
    "    #regularizer=None,\n",
    "    #trainable=True,\n",
    "    #scope=None,\n",
    "    #reuse=None\n",
    "    #)\n",
    "\n",
    "    #(input_data, vocab_size, embed_dim):\n",
    "    #ret = tf.contrib.layers.embed_sequence ()\n",
    "    # so\n",
    "    ret =  tf.contrib.layers.embed_sequence (input_data,embed_dim=embed_dim,vocab_size=vocab_size)\n",
    "    \n",
    "    # from https://github.com/udacity/deep-learning/blob/master/embeddings/Skip-Grams-Solution.ipynb\n",
    "    #n_vocab = len(int_to_vocab)\n",
    "    #n_embedding = 200 # Number of embedding features \n",
    "    #with train_graph.as_default():\n",
    "    #    embedding = tf.Variable(tf.random_uniform((n_vocab, n_embedding), -1, 1))\n",
    "    #    embed = tf.nn.embedding_lookup(embedding, inputs)\n",
    "    \n",
    "    return ret\n",
    "\n",
    "\n",
    "\"\"\"\n",
    "DON'T MODIFY ANYTHING IN THIS CELL THAT IS BELOW THIS LINE\n",
    "\"\"\"\n",
    "tests.test_get_embed(get_embed)"
   ]
  },
  {
   "cell_type": "markdown",
   "metadata": {},
   "source": [
    "### Build RNN\n",
    "You created a RNN Cell in the `get_init_cell()` function.  Time to use the cell to create a RNN.\n",
    "- Build the RNN using the [`tf.nn.dynamic_rnn()`](https://www.tensorflow.org/api_docs/python/tf/nn/dynamic_rnn)\n",
    " - Apply the name \"final_state\" to the final state using [`tf.identity()`](https://www.tensorflow.org/api_docs/python/tf/identity)\n",
    "\n",
    "Return the outputs and final_state state in the following tuple `(Outputs, FinalState)` "
   ]
  },
  {
   "cell_type": "code",
   "execution_count": 15,
   "metadata": {
    "scrolled": true
   },
   "outputs": [
    {
     "name": "stdout",
     "output_type": "stream",
     "text": [
      "Tests Passed\n"
     ]
    }
   ],
   "source": [
    "def build_rnn(cell, inputs):\n",
    "    \"\"\"\n",
    "    Create a RNN using a RNN Cell\n",
    "    :param cell: RNN Cell\n",
    "    :param inputs: Input text data\n",
    "    :return: Tuple (Outputs, Final State)\n",
    "    \"\"\"\n",
    "    # done: Implement Functionre\n",
    "    \n",
    "    #https://www.tensorflow.org/api_docs/python/tf/nn/dynamic_rnn\n",
    "    \n",
    "    \n",
    "    #dynamic_rnn(\n",
    "    #cell,\n",
    "    #inputs,\n",
    "    #sequence_length=None,\n",
    "    #initial_state=None,\n",
    "    #type=None,\n",
    "    #parallel_iterations=None,\n",
    "    #swap_memory=False,\n",
    "    #time_major=False,\n",
    "    #scope=None\n",
    "    #)\n",
    "\n",
    "\n",
    "    \n",
    "    #ret= tf.nn.dynamic_rnn(cell, inputs)\n",
    "    #tf.identity(ret.state,name=\"final_state\")\n",
    "    #return ret#None, None\n",
    "    \n",
    "    retA,retB= tf.nn.dynamic_rnn(cell=cell,inputs= inputs,dtype=tf.float32)\n",
    "    #retA,retB= tf.nn.dynamic_rnn(cell=cell,inputs= inputs,dtype=tf.int32)\n",
    "    \n",
    "    \n",
    "    #identity(\n",
    "    #input,\n",
    "    # name=None\n",
    "    #)\n",
    "\n",
    "    retB = tf.identity(retB,name=\"final_state\")\n",
    "    return (retA, retB)   #None, None\n",
    "    \n",
    "    \n",
    "    #Ok let's trhy working with tuplez again  now once I fixed it\n",
    "    #ret= tf.nn.dynamic_rnn(cell, inputs)\n",
    "    #ret.state = tf.identity(ret.state,name=\"final_state\")\n",
    "    #return ret#None, None\n",
    "    \n",
    "\n",
    "\"\"\"\n",
    "DON'T MODIFY ANYTHING IN THIS CELL THAT IS BELOW THIS LINE\n",
    "\"\"\"\n",
    "tests.test_build_rnn(build_rnn)"
   ]
  },
  {
   "cell_type": "markdown",
   "metadata": {},
   "source": [
    "### Build the Neural Network\n",
    "Apply the functions you implemented above to:\n",
    "- Apply embedding to `input_data` using your `get_embed(input_data, vocab_size, embed_dim)` function.\n",
    "- Build RNN using `cell` and your `build_rnn(cell, inputs)` function.\n",
    "- Apply a fully connected layer with a linear activation and `vocab_size` as the number of outputs.\n",
    "\n",
    "Return the logits and final state in the following tuple (Logits, FinalState) "
   ]
  },
  {
   "cell_type": "code",
   "execution_count": 16,
   "metadata": {},
   "outputs": [
    {
     "name": "stdout",
     "output_type": "stream",
     "text": [
      "Tests Passed\n"
     ]
    }
   ],
   "source": [
    "def build_nn(cell, rnn_size, input_data, vocab_size, embed_dim):\n",
    "    \"\"\"\n",
    "    Build part of the neural network\n",
    "    :param cell: RNN cell\n",
    "    :param rnn_size: Size of rnns\n",
    "    :param input_data: Input data\n",
    "    :param vocab_size: Vocabulary size\n",
    "    :param embed_dim: Number of embedding dimensions\n",
    "    :return: Tuple (Logits, FinalState)\n",
    "    \"\"\"\n",
    "    #get._embed(input_data, vocab_size, embed_dim)\n",
    "    inputs= get_embed(input_data, vocab_size, embed_dim)#puts\n",
    "    #outputs, final_state = build_rnn(cell,embed_dim)\n",
    "    \n",
    "    outputs, final_state = build_rnn(cell,inputs)#ok that makes sense\n",
    "    \n",
    "    \n",
    "    \n",
    "    logits = tf.layers.dense(outputs, vocab_size)\n",
    "    return logits,final_state\n",
    "    \n",
    "    # doneO: Implement Function\n",
    "    #return None, None\n",
    "\n",
    "\n",
    "\"\"\"\n",
    "DON'T MODIFY ANYTHING IN THIS CELL THAT IS BELOW THIS LINE\n",
    "\"\"\"\n",
    "tests.test_build_nn(build_nn)"
   ]
  },
  {
   "cell_type": "markdown",
   "metadata": {},
   "source": [
    "### Batches\n",
    "Implement `get_batches` to create batches of input and targets using `int_text`.  The batches should be a Numpy array with the shape `(number of batches, 2, batch size, sequence length)`. Each batch contains two elements:\n",
    "- The first element is a single batch of **input** with the shape `[batch size, sequence length]`\n",
    "- The second element is a single batch of **targets** with the shape `[batch size, sequence length]`\n",
    "\n",
    "If you can't fill the last batch with enough data, drop the last batch.\n",
    "\n",
    "For exmple, `get_batches([1, 2, 3, 4, 5, 6, 7, 8, 9, 10, 11, 12, 13, 14, 15, 16, 17, 18, 19, 20], 3, 2)` would return a Numpy array of the following:\n",
    "```\n",
    "[\n",
    "  # First Batch\n",
    "  [\n",
    "    # Batch of Input\n",
    "    [[ 1  2], [ 7  8], [13 14]]\n",
    "    # Batch of targets\n",
    "    [[ 2  3], [ 8  9], [14 15]]\n",
    "  ]\n",
    "\n",
    "  # Second Batch\n",
    "  [\n",
    "    # Batch of Input\n",
    "    [[ 3  4], [ 9 10], [15 16]]\n",
    "    # Batch of targets\n",
    "    [[ 4  5], [10 11], [16 17]]\n",
    "  ]\n",
    "\n",
    "  # Third Batch\n",
    "  [\n",
    "    # Batch of Input\n",
    "    [[ 5  6], [11 12], [17 18]]\n",
    "    # Batch of targets\n",
    "    [[ 6  7], [12 13], [18  1]]\n",
    "  ]\n",
    "]\n",
    "```\n",
    "\n",
    "\n",
    "\n",
    "\n",
    "Notice that the last target value in the last batch is the first input value of the first batch. In this case, `1`. This is a common technique used when creating sequence batches, although it is rather unintuitive."
   ]
  },
  {
   "cell_type": "code",
   "execution_count": 17,
   "metadata": {},
   "outputs": [
    {
     "name": "stdout",
     "output_type": "stream",
     "text": [
      "Tests Passed\n"
     ]
    }
   ],
   "source": [
    "\n",
    "\n",
    "### another live help person helped me get rid of the last error. I don't understand what I dide wrong. please help, I want to use tf for other projects \n",
    "def get_batches(int_text, batch_size, seq_length):\n",
    "    n_batches = int(len(int_text)//(batch_size * seq_length))\n",
    "    \n",
    "    input_data = np.array(int_text[:n_batches *batch_size*seq_length])\n",
    "    targets_data = np.array(int_text[1:n_batches*batch_size*seq_length+1])\n",
    "    targets_data[-1]=input_data[0]\n",
    "    input_batches = np.split(input_data.reshape(batch_size,-1),n_batches,1)\n",
    "    targets_batches = np.split(targets_data.reshape(batch_size,-1),n_batches,1)\n",
    "    return np.array(list(zip(input_batches,targets_batches)))\n",
    "    \n",
    "def get_batches1old(int_text, batch_size, seq_length):\n",
    "    \"\"\"\n",
    "    Return batches of input and target\n",
    "    :param int_text: Text with the words replaced by their ids\n",
    "    :param batch_size: The size of batch\n",
    "    :param seq_length: The length of sequence\n",
    "    :return: Batches as a Numpy array\n",
    "    \"\"\"\n",
    "    # not yet done: Implement Function\n",
    "    #return 1\n",
    "    #The first element is a single batch of input with the shape [batch size, sequence length]\n",
    "    \n",
    "    #firstelement = \n",
    "    \n",
    "    # zip(...)\n",
    "    #ret \n",
    "    \n",
    "    ####### Realized this is just like the udacity course's embedding practices\n",
    "    # referenced: https://github.com/udacity/deep-learning/tree/master/embeddings\n",
    "    #n_batches = len(int_text) /batch_size * seq_length\n",
    "    \n",
    "    # only full batches\n",
    "    #texts = int_text[:n_batches*batch_size*seq_length]\n",
    "\n",
    "    \n",
    "    #for idx in range(0, len(int_text), batch_size):\n",
    "    #    x, y = [], []\n",
    "    #    batch = int_text[idx:idx+batch_size]\n",
    "    #    for ii in range(len(batch)):\n",
    "    #        batch_x = batch[ii]\n",
    "    #        batch_y = get_target(batch, ii, seq_length)\n",
    "    #        y.extend(batch_y)\n",
    "    #        x.extend([batch_x]*len(batch_y))\n",
    "    #    yield x,y\n",
    "    \n",
    "    #AssertionError: Batches is not a Numpy array\n",
    "    #return \n",
    "\n",
    "    #asked / got help from live support, who confirmed this is just a reshape problem\n",
    "    \n",
    "    \n",
    "    #n_batches = len(int_text)/batch_size * seq_length\n",
    "    \n",
    "    #maybe not still..\n",
    "    n_batches = (int(len(int_text)//(batch_size * seq_length)))\n",
    "    \n",
    "    \n",
    "    # I will say again, I HATE the [:::] nonsense. It takes me too long to figure this out\n",
    "    #x = np.array(int_text[:len(int_text)*seq_length])\n",
    "    #x = np.array(int_text[:len(int_text)/seq_length])\n",
    "    #TypeError: slice indices must be integers or None or have an __index__ metho\n",
    "    x = np.array(int_text[:(int(len(int_text)//seq_length))])\n",
    "    \n",
    "    \n",
    "    #live support pointed this line out. take the first and make it the last. for the shifting data thing\n",
    "    y = np.array(int_text[1:(int(len(int_text)//seq_length)+1)])\n",
    "    y[-1] = x[0]\n",
    "    #return 0\n",
    "    # it looks like i could have used np.roll too though\n",
    "    \n",
    "    #then to make it work,rehape\n",
    "    x = np.reshape(x,[batch_size,-1])\n",
    "   \n",
    "    y = np.reshape(y,[batch_size,-1]) \n",
    "   \n",
    "    #repackage\n",
    "    #ret = np.array(list(zip(x,y)))\n",
    "\n",
    "    \n",
    "    \n",
    "    #  oh split too\n",
    "    # add once it gets past reshape..\n",
    "    \n",
    "    return np.array(list(zip(x,y)))#ret\n",
    "\n",
    "    #note to self, don't misspell return. python does NOT have understandable errors\n",
    "   \n",
    "\n",
    "\"\"\"\n",
    "DON'T MODIFY ANYTHING IN THIS CELL THAT IS BELOW THIS LINE\n",
    "\"\"\"\n",
    "tests.test_get_batches(get_batches)"
   ]
  },
  {
   "cell_type": "markdown",
   "metadata": {},
   "source": [
    "## Neural Network Training\n",
    "### Hyperparameters\n",
    "Tune the following parameters:\n",
    "\n",
    "- Set `num_epochs` to the number of epochs.\n",
    "- Set `batch_size` to the batch size.\n",
    "- Set `rnn_size` to the size of the RNNs.\n",
    "- Set `embed_dim` to the size of the embedding.\n",
    "- Set `seq_length` to the length of sequence.\n",
    "- Set `learning_rate` to the learning rate.\n",
    "- Set `show_every_n_batches` to the number of batches the neural network should print progress."
   ]
  },
  {
   "cell_type": "code",
   "execution_count": 18,
   "metadata": {},
   "outputs": [],
   "source": [
    "# Number of Epochs\n",
    "\n",
    "# This is small text, not an image, so I'm going to try for more thanlast homework\n",
    "num_epochs =333 #25 #256 #None\n",
    "# Batch Size\n",
    "batch_size = 512 #None\n",
    "# RNN Size\n",
    "rnn_size = 10 #None\n",
    "# Embedding Dimension Size\n",
    "embed_dim = 5 #None\n",
    "# Sequence Length\n",
    "seq_length = 32 #None\n",
    "# Learning Rate\n",
    "\n",
    "#I had good resuls with around 0.4 to 0.6 so far but terrible results with lower and higher - ths may be a function of my machine, but the live suppor for last homework said that it made sense (I was tring to use <0.09\n",
    "\n",
    "learning_rate = 0.35 #None\n",
    "# Show stats for every n number of batches\n",
    "show_every_n_batches = 32# $64 #None\n",
    "\n",
    "\"\"\"\n",
    "DON'T MODIFY ANYTHING IN THIS CELL THAT IS BELOW THIS LINE\n",
    "\"\"\"\n",
    "save_dir = './save'"
   ]
  },
  {
   "cell_type": "markdown",
   "metadata": {},
   "source": [
    "### Build the Graph\n",
    "Build the graph using the neural network you implemented."
   ]
  },
  {
   "cell_type": "code",
   "execution_count": 19,
   "metadata": {},
   "outputs": [],
   "source": [
    "\"\"\"\n",
    "DON'T MODIFY ANYTHING IN THIS CELL\n",
    "\"\"\"\n",
    "from tensorflow.contrib import seq2seq\n",
    "\n",
    "train_graph = tf.Graph()\n",
    "with train_graph.as_default():\n",
    "    vocab_size = len(int_to_vocab)\n",
    "    input_text, targets, lr = get_inputs()\n",
    "    input_data_shape = tf.shape(input_text)\n",
    "    cell, initial_state = get_init_cell(input_data_shape[0], rnn_size)\n",
    "    logits, final_state = build_nn(cell, rnn_size, input_text, vocab_size, embed_dim)\n",
    "\n",
    "    # Probabilities for generating words\n",
    "    probs = tf.nn.softmax(logits, name='probs')\n",
    "\n",
    "    # Loss function\n",
    "    cost = seq2seq.sequence_loss(\n",
    "        logits,\n",
    "        targets,\n",
    "        tf.ones([input_data_shape[0], input_data_shape[1]]))\n",
    "\n",
    "    # Optimizer\n",
    "    optimizer = tf.train.AdamOptimizer(lr)\n",
    "\n",
    "    # Gradient Clipping\n",
    "    gradients = optimizer.compute_gradients(cost)\n",
    "    capped_gradients = [(tf.clip_by_value(grad, -1., 1.), var) for grad, var in gradients if grad is not None]\n",
    "    train_op = optimizer.apply_gradients(capped_gradients)"
   ]
  },
  {
   "cell_type": "markdown",
   "metadata": {},
   "source": [
    "## Train\n",
    "Train the neural network on the preprocessed data.  If you have a hard time getting a good loss, check the [forms](https://discussions.udacity.com/) to see if anyone is having the same problem."
   ]
  },
  {
   "cell_type": "code",
   "execution_count": 20,
   "metadata": {},
   "outputs": [
    {
     "name": "stdout",
     "output_type": "stream",
     "text": [
      "Epoch   0 Batch    0/4   train_loss = nan\n",
      "Epoch   8 Batch    0/4   train_loss = nan\n",
      "Epoch  16 Batch    0/4   train_loss = nan\n",
      "Epoch  24 Batch    0/4   train_loss = nan\n",
      "Epoch  32 Batch    0/4   train_loss = nan\n",
      "Epoch  40 Batch    0/4   train_loss = nan\n",
      "Epoch  48 Batch    0/4   train_loss = nan\n",
      "Epoch  56 Batch    0/4   train_loss = nan\n",
      "Epoch  64 Batch    0/4   train_loss = nan\n",
      "Epoch  72 Batch    0/4   train_loss = nan\n",
      "Epoch  80 Batch    0/4   train_loss = nan\n",
      "Epoch  88 Batch    0/4   train_loss = nan\n",
      "Epoch  96 Batch    0/4   train_loss = nan\n",
      "Epoch 104 Batch    0/4   train_loss = nan\n",
      "Epoch 112 Batch    0/4   train_loss = nan\n",
      "Epoch 120 Batch    0/4   train_loss = nan\n",
      "Epoch 128 Batch    0/4   train_loss = nan\n",
      "Epoch 136 Batch    0/4   train_loss = nan\n",
      "Epoch 144 Batch    0/4   train_loss = nan\n",
      "Epoch 152 Batch    0/4   train_loss = nan\n",
      "Epoch 160 Batch    0/4   train_loss = nan\n",
      "Epoch 168 Batch    0/4   train_loss = nan\n",
      "Epoch 176 Batch    0/4   train_loss = nan\n",
      "Epoch 184 Batch    0/4   train_loss = nan\n",
      "Epoch 192 Batch    0/4   train_loss = nan\n",
      "Epoch 200 Batch    0/4   train_loss = nan\n",
      "Epoch 208 Batch    0/4   train_loss = nan\n",
      "Epoch 216 Batch    0/4   train_loss = nan\n",
      "Epoch 224 Batch    0/4   train_loss = nan\n",
      "Epoch 232 Batch    0/4   train_loss = nan\n",
      "Epoch 240 Batch    0/4   train_loss = nan\n",
      "Epoch 248 Batch    0/4   train_loss = nan\n",
      "Epoch 256 Batch    0/4   train_loss = nan\n",
      "Epoch 264 Batch    0/4   train_loss = nan\n",
      "Epoch 272 Batch    0/4   train_loss = nan\n",
      "Epoch 280 Batch    0/4   train_loss = nan\n",
      "Epoch 288 Batch    0/4   train_loss = nan\n",
      "Epoch 296 Batch    0/4   train_loss = nan\n",
      "Epoch 304 Batch    0/4   train_loss = nan\n",
      "Epoch 312 Batch    0/4   train_loss = nan\n",
      "Epoch 320 Batch    0/4   train_loss = nan\n",
      "Epoch 328 Batch    0/4   train_loss = nan\n",
      "Model Trained and Saved\n"
     ]
    }
   ],
   "source": [
    "\"\"\"\n",
    "DON'T MODIFY ANYTHING IN THIS CELL\n",
    "\"\"\"\n",
    "batches = get_batches(int_text, batch_size, seq_length)\n",
    "\n",
    "with tf.Session(graph=train_graph) as sess:\n",
    "    sess.run(tf.global_variables_initializer())\n",
    "\n",
    "    for epoch_i in range(num_epochs):\n",
    "        state = sess.run(initial_state, {input_text: batches[0][0]})\n",
    "\n",
    "        for batch_i, (x, y) in enumerate(batches):\n",
    "            feed = {\n",
    "                input_text: x,\n",
    "                targets: y,\n",
    "                initial_state: state,\n",
    "                lr: learning_rate}\n",
    "            train_loss, state, _ = sess.run([cost, final_state, train_op], feed)\n",
    "\n",
    "            # Show every <show_every_n_batches> batches\n",
    "            if (epoch_i * len(batches) + batch_i) % show_every_n_batches == 0:\n",
    "                print('Epoch {:>3} Batch {:>4}/{}   train_loss = {:.3f}'.format(\n",
    "                    epoch_i,\n",
    "                    batch_i,\n",
    "                    len(batches),\n",
    "                    train_loss))\n",
    "\n",
    "    # Save Model\n",
    "    saver = tf.train.Saver()\n",
    "    saver.save(sess, save_dir)\n",
    "    print('Model Trained and Saved')"
   ]
  },
  {
   "cell_type": "markdown",
   "metadata": {},
   "source": [
    "## Save Parameters\n",
    "Save `seq_length` and `save_dir` for generating a new TV script."
   ]
  },
  {
   "cell_type": "code",
   "execution_count": 21,
   "metadata": {
    "collapsed": true
   },
   "outputs": [],
   "source": [
    "\"\"\"\n",
    "DON'T MODIFY ANYTHING IN THIS CELL\n",
    "\"\"\"\n",
    "# Save parameters for checkpoint\n",
    "helper.save_params((seq_length, save_dir))"
   ]
  },
  {
   "cell_type": "markdown",
   "metadata": {},
   "source": [
    "# Checkpoint"
   ]
  },
  {
   "cell_type": "code",
   "execution_count": 22,
   "metadata": {
    "collapsed": true
   },
   "outputs": [],
   "source": [
    "\"\"\"\n",
    "DON'T MODIFY ANYTHING IN THIS CELL\n",
    "\"\"\"\n",
    "import tensorflow as tf\n",
    "import numpy as np\n",
    "import helper\n",
    "import problem_unittests as tests\n",
    "\n",
    "_, vocab_to_int, int_to_vocab, token_dict = helper.load_preprocess()\n",
    "seq_length, load_dir = helper.load_params()"
   ]
  },
  {
   "cell_type": "markdown",
   "metadata": {},
   "source": [
    "## Implement Generate Functions\n",
    "### Get Tensors\n",
    "Get tensors from `loaded_graph` using the function [`get_tensor_by_name()`](https://www.tensorflow.org/api_docs/python/tf/Graph#get_tensor_by_name).  Get the tensors using the following names:\n",
    "- \"input:0\"\n",
    "- \"initial_state:0\"\n",
    "- \"final_state:0\"\n",
    "- \"probs:0\"\n",
    "\n",
    "Return the tensors in the following tuple `(InputTensor, InitialStateTensor, FinalStateTensor, ProbsTensor)` "
   ]
  },
  {
   "cell_type": "code",
   "execution_count": 23,
   "metadata": {},
   "outputs": [
    {
     "name": "stdout",
     "output_type": "stream",
     "text": [
      "Tests Passed\n"
     ]
    }
   ],
   "source": [
    "def get_tensors(loaded_graph):\n",
    "    \"\"\"\n",
    "    Get input, initial state, final state, and probabilities tensor from <loaded_graph>\n",
    "    :param loaded_graph: TensorFlow graph loaded from file\n",
    "    :return: Tuple (InputTensor, InitialStateTensor, FinalStateTensor, ProbsTensor)\n",
    "    \"\"\"\n",
    "    # Tdone: Implement Function\n",
    "    \n",
    "    \n",
    "    #using references provided by previous cell\n",
    "    #input\n",
    "    \n",
    "    #can I even use the term \"input\" jupyter  notbook hightlights it ike its a command\n",
    "    \n",
    "    inputs = loaded_graph.get_tensor_by_name(\"input:0\")\n",
    "    initial =loaded_graph.get_tensor_by_name(\"initial_state:0\")\n",
    "    final=loaded_graph.get_tensor_by_name(\"final_state:0\")\n",
    "    probabilities = loaded_graph.get_tensor_by_name(\"probs:0\")\n",
    "    return inputs, initial, final, probabilities\n",
    "\n",
    "\n",
    "\"\"\"\n",
    "DON'T MODIFY ANYTHING IN THIS CELL THAT IS BELOW THIS LINE\n",
    "\"\"\"\n",
    "tests.test_get_tensors(get_tensors)"
   ]
  },
  {
   "cell_type": "markdown",
   "metadata": {},
   "source": [
    "### Choose Word\n",
    "Implement the `pick_word()` function to select the next word using `probabilities`."
   ]
  },
  {
   "cell_type": "code",
   "execution_count": 26,
   "metadata": {},
   "outputs": [
    {
     "name": "stdout",
     "output_type": "stream",
     "text": [
      "Tests Passed\n"
     ]
    }
   ],
   "source": [
    "def pick_word(probabilities, int_to_vocab):\n",
    "    \"\"\"\n",
    "    Pick the next word in the generated text\n",
    "    :param probabilities: Probabilites of the next word\n",
    "    :param int_to_vocab: Dictionary of word ids as the keys and words as the values\n",
    "    :return: String of the predicted word\n",
    "    \"\"\"\n",
    "    # sonw: Implement Function\n",
    "    #print(int_to_vocab)\n",
    "    #print(vocab_to_int)\n",
    "    \n",
    "    #print(probabilities)\n",
    "    \n",
    "    #actually id din't read the info on param probabilities ... I should use argmax\n",
    "    #https://docs.scipy.org/doc/numpy-1.13.0/reference/generated/numpy.argmax.html\n",
    "    #ret = int_to_vocab[np.argmax(probabilities)]\n",
    "    #print(np.argmax(probabilities))\n",
    "    #print(ret)\n",
    "    \n",
    "    #ret = int_to_vocab[int(np.random.choice(len(probabilities),p=probabilities))]\n",
    "    \n",
    "    #### I keep getting KeyError: 0, which google says means it is tryhing to\n",
    "    # access 0 or less\n",
    "    \n",
    "    #select =  int(np.argmax(probabilities))\n",
    "    #if(select < 1):\n",
    "    #    select = 1\n",
    "    #if(select > len(int_to_vocab)):\n",
    "    #    select = len(int_to_vocab)\n",
    "    #ret = int_to_vocab[select]\n",
    "    #return ret\n",
    "    num_word = np.random.choice(len(int_to_vocab), p=probabilities)\n",
    "\n",
    "    return int_to_vocab[num_word]\n",
    "\n",
    "        \n",
    "    \n",
    "\n",
    "\n",
    "\"\"\"\n",
    "DON'T MODIFY ANYTHING IN THIS CELL THAT IS BELOW THIS LINE\n",
    "\"\"\"\n",
    "tests.test_pick_word(pick_word)"
   ]
  },
  {
   "cell_type": "markdown",
   "metadata": {},
   "source": [
    "## Generate TV Script\n",
    "This will generate the TV script for you.  Set `gen_length` to the length of TV script you want to generate."
   ]
  },
  {
   "cell_type": "code",
   "execution_count": 27,
   "metadata": {
    "scrolled": false
   },
   "outputs": [
    {
     "name": "stderr",
     "output_type": "stream",
     "text": [
      "/home/josh/.conda/envs/dlndtf1/lib/python3.6/site-packages/ipykernel_launcher.py:32: RuntimeWarning: invalid value encountered in less\n"
     ]
    },
    {
     "ename": "KeyError",
     "evalue": "0",
     "output_type": "error",
     "traceback": [
      "\u001b[0;31m---------------------------------------------------------------------------\u001b[0m",
      "\u001b[0;31mKeyError\u001b[0m                                  Traceback (most recent call last)",
      "\u001b[0;32m<ipython-input-27-53b0fa740451>\u001b[0m in \u001b[0;36m<module>\u001b[0;34m()\u001b[0m\n\u001b[1;32m     39\u001b[0m             {input_text: dyn_input, initial_state: prev_state})\n\u001b[1;32m     40\u001b[0m \u001b[0;34m\u001b[0m\u001b[0m\n\u001b[0;32m---> 41\u001b[0;31m         \u001b[0mpred_word\u001b[0m \u001b[0;34m=\u001b[0m \u001b[0mpick_word\u001b[0m\u001b[0;34m(\u001b[0m\u001b[0mprobabilities\u001b[0m\u001b[0;34m[\u001b[0m\u001b[0mdyn_seq_length\u001b[0m\u001b[0;34m-\u001b[0m\u001b[0;36m1\u001b[0m\u001b[0;34m]\u001b[0m\u001b[0;34m,\u001b[0m \u001b[0mint_to_vocab\u001b[0m\u001b[0;34m)\u001b[0m\u001b[0;34m\u001b[0m\u001b[0m\n\u001b[0m\u001b[1;32m     42\u001b[0m \u001b[0;34m\u001b[0m\u001b[0m\n\u001b[1;32m     43\u001b[0m         \u001b[0mgen_sentences\u001b[0m\u001b[0;34m.\u001b[0m\u001b[0mappend\u001b[0m\u001b[0;34m(\u001b[0m\u001b[0mpred_word\u001b[0m\u001b[0;34m)\u001b[0m\u001b[0;34m\u001b[0m\u001b[0m\n",
      "\u001b[0;32m<ipython-input-26-0667e73ebc4a>\u001b[0m in \u001b[0;36mpick_word\u001b[0;34m(probabilities, int_to_vocab)\u001b[0m\n\u001b[1;32m     32\u001b[0m     \u001b[0mnum_word\u001b[0m \u001b[0;34m=\u001b[0m \u001b[0mnp\u001b[0m\u001b[0;34m.\u001b[0m\u001b[0mrandom\u001b[0m\u001b[0;34m.\u001b[0m\u001b[0mchoice\u001b[0m\u001b[0;34m(\u001b[0m\u001b[0mlen\u001b[0m\u001b[0;34m(\u001b[0m\u001b[0mint_to_vocab\u001b[0m\u001b[0;34m)\u001b[0m\u001b[0;34m,\u001b[0m \u001b[0mp\u001b[0m\u001b[0;34m=\u001b[0m\u001b[0mprobabilities\u001b[0m\u001b[0;34m)\u001b[0m\u001b[0;34m\u001b[0m\u001b[0m\n\u001b[1;32m     33\u001b[0m \u001b[0;34m\u001b[0m\u001b[0m\n\u001b[0;32m---> 34\u001b[0;31m     \u001b[0;32mreturn\u001b[0m \u001b[0mint_to_vocab\u001b[0m\u001b[0;34m[\u001b[0m\u001b[0mnum_word\u001b[0m\u001b[0;34m]\u001b[0m\u001b[0;34m\u001b[0m\u001b[0m\n\u001b[0m\u001b[1;32m     35\u001b[0m \u001b[0;34m\u001b[0m\u001b[0m\n\u001b[1;32m     36\u001b[0m \u001b[0;34m\u001b[0m\u001b[0m\n",
      "\u001b[0;31mKeyError\u001b[0m: 0"
     ]
    }
   ],
   "source": [
    "#gen_length = #200\n",
    "\n",
    "\n",
    "\n",
    "# OK. So as I understand it in a TV episode there is about 1 page screenplay per minute.\n",
    "# at lets say aroudn 22 minute epidsode (commercials etc), that is 22 pages. 100 word s per page\n",
    "# 2200\n",
    "#gen_length =2200\n",
    "gen_length =33\n",
    "\n",
    "# homer_simpson, moe_szyslak, or Barney_Gumble\n",
    "prime_word = 'moe_szyslak'\n",
    "\n",
    "\"\"\"\n",
    "DON'T MODIFY ANYTHING IN THIS CELL THAT IS BELOW THIS LINE\n",
    "\"\"\"\n",
    "loaded_graph = tf.Graph()\n",
    "with tf.Session(graph=loaded_graph) as sess:\n",
    "    # Load saved model\n",
    "    loader = tf.train.import_meta_graph(load_dir + '.meta')\n",
    "    loader.restore(sess, load_dir)\n",
    "\n",
    "    # Get Tensors from loaded model\n",
    "    input_text, initial_state, final_state, probs = get_tensors(loaded_graph)\n",
    "\n",
    "    # Sentences generation setup\n",
    "    gen_sentences = [prime_word + ':']\n",
    "    prev_state = sess.run(initial_state, {input_text: np.array([[1]])})\n",
    "\n",
    "    # Generate sentences\n",
    "    for n in range(gen_length):\n",
    "        # Dynamic Input\n",
    "        dyn_input = [[vocab_to_int[word] for word in gen_sentences[-seq_length:]]]\n",
    "        dyn_seq_length = len(dyn_input[0])\n",
    "\n",
    "        # Get Prediction\n",
    "        probabilities, prev_state = sess.run(\n",
    "            [probs, final_state],\n",
    "            {input_text: dyn_input, initial_state: prev_state})\n",
    "        \n",
    "        pred_word = pick_word(probabilities[dyn_seq_length-1], int_to_vocab)\n",
    "\n",
    "        gen_sentences.append(pred_word)\n",
    "    \n",
    "    # Remove tokens\n",
    "    tv_script = ' '.join(gen_sentences)\n",
    "    for key, token in token_dict.items():\n",
    "        ending = ' ' if key in ['\\n', '(', '\"'] else ''\n",
    "        tv_script = tv_script.replace(' ' + token.lower(), key)\n",
    "    tv_script = tv_script.replace('\\n ', '\\n')\n",
    "    tv_script = tv_script.replace('( ', '(')\n",
    "        \n",
    "    print(tv_script.values())"
   ]
  },
  {
   "cell_type": "markdown",
   "metadata": {},
   "source": [
    "# The TV Script is Nonsensical\n",
    "It's ok if the TV script doesn't make any sense.  We trained on less than a megabyte of text.  In order to get good results, you'll have to use a smaller vocabulary or get more data.  Luckly there's more data!  As we mentioned in the begging of this project, this is a subset of [another dataset](https://www.kaggle.com/wcukierski/the-simpsons-by-the-data).  We didn't have you train on all the data, because that would take too long.  However, you are free to train your neural network on all the data.  After you complete the project, of course.\n",
    "# Submitting This Project\n",
    "When submitting this project, make sure to run all the cells before saving the notebook. Save the notebook file as \"dlnd_tv_script_generation.ipynb\" and save it as a HTML file under \"File\" -> \"Download as\". Include the \"helper.py\" and \"problem_unittests.py\" files in your submission."
   ]
  }
 ],
 "metadata": {
  "kernelspec": {
   "display_name": "Python 3",
   "language": "python",
   "name": "python3"
  },
  "language_info": {
   "codemirror_mode": {
    "name": "ipython",
    "version": 3
   },
   "file_extension": ".py",
   "mimetype": "text/x-python",
   "name": "python",
   "nbconvert_exporter": "python",
   "pygments_lexer": "ipython3",
   "version": "3.6.2"
  },
  "widgets": {
   "state": {},
   "version": "1.1.2"
  }
 },
 "nbformat": 4,
 "nbformat_minor": 1
}
