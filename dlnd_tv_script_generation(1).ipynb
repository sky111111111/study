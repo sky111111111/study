{
 "cells": [
  {
   "cell_type": "markdown",
   "metadata": {},
   "source": [
    "# TV Script Generation\n",
    "In this project, you'll generate your own [Simpsons](https://en.wikipedia.org/wiki/The_Simpsons) TV scripts using RNNs.  You'll be using part of the [Simpsons dataset](https://www.kaggle.com/wcukierski/the-simpsons-by-the-data) of scripts from 27 seasons.  The Neural Network you'll build will generate a new TV script for a scene at [Moe's Tavern](https://simpsonswiki.com/wiki/Moe's_Tavern).\n",
    "## Get the Data\n",
    "The data is already provided for you.  You'll be using a subset of the original dataset.  It consists of only the scenes in Moe's Tavern.  This doesn't include other versions of the tavern, like \"Moe's Cavern\", \"Flaming Moe's\", \"Uncle Moe's Family Feed-Bag\", etc.."
   ]
  },
  {
   "cell_type": "code",
   "execution_count": 1,
   "metadata": {
    "collapsed": true
   },
   "outputs": [],
   "source": [
    "# Computer is setup similarly to that for hw 1 and 2\n",
    "# "
   ]
  },
  {
   "cell_type": "code",
   "execution_count": 2,
   "metadata": {
    "collapsed": true
   },
   "outputs": [],
   "source": [
    "\"\"\"\n",
    "DON'T MODIFY ANYTHING IN THIS CELL\n",
    "\"\"\"\n",
    "import helper\n",
    "\n",
    "data_dir = './data/simpsons/moes_tavern_lines.txt'\n",
    "text = helper.load_data(data_dir)\n",
    "# Ignore notice, since we don't use it for analysing the data\n",
    "text = text[81:]"
   ]
  },
  {
   "cell_type": "markdown",
   "metadata": {},
   "source": [
    "## Explore the Data\n",
    "Play around with `view_sentence_range` to view different parts of the data."
   ]
  },
  {
   "cell_type": "code",
   "execution_count": 3,
   "metadata": {
    "collapsed": true
   },
   "outputs": [],
   "source": [
    "# Why is there code in the cell bellow that is above the DONTMODIFY note?\n",
    "#I mean, why wouldn't that be in a differenet cell"
   ]
  },
  {
   "cell_type": "code",
   "execution_count": 4,
   "metadata": {},
   "outputs": [
    {
     "name": "stdout",
     "output_type": "stream",
     "text": [
      "Dataset Stats\n",
      "Roughly the number of unique words: 11492\n",
      "Number of scenes: 262\n",
      "Average number of sentences in each scene: 15.248091603053435\n",
      "Number of lines: 4257\n",
      "Average number of words in each line: 11.50434578341555\n",
      "\n",
      "The sentences 5 to 20:\n",
      "Homer_Simpson: I got my problems, Moe. Give me another one.\n",
      "Moe_Szyslak: Homer, hey, you should not drink to forget your problems.\n",
      "Barney_Gumble: Yeah, you should only drink to enhance your social skills.\n",
      "\n",
      "\n",
      "Moe_Szyslak: Ah, isn't that nice. Now, there is a politician who cares.\n",
      "Barney_Gumble: If I ever vote, it'll be for him. (BELCH)\n",
      "\n",
      "\n",
      "Barney_Gumble: Hey Homer, how's your neighbor's store doing?\n",
      "Homer_Simpson: Lousy. He just sits there all day. He'd have a great job if he didn't own the place. (CHUCKLES)\n",
      "Moe_Szyslak: (STRUGGLING WITH CORKSCREW) Crummy right-handed corkscrews! What does he sell?\n",
      "Homer_Simpson: Uh, well actually, Moe...\n",
      "HOMER_(CONT'D: I dunno.\n",
      "\n"
     ]
    }
   ],
   "source": [
    "view_sentence_range = (5, 20)\n",
    "\n",
    "\"\"\"\n",
    "DON'T MODIFY ANYTHING IN THIS CELL\n",
    "\"\"\"\n",
    "import numpy as np\n",
    "\n",
    "print('Dataset Stats')\n",
    "print('Roughly the number of unique words: {}'.format(len({word: None for word in text.split()})))\n",
    "scenes = text.split('\\n\\n')\n",
    "print('Number of scenes: {}'.format(len(scenes)))\n",
    "sentence_count_scene = [scene.count('\\n') for scene in scenes]\n",
    "print('Average number of sentences in each scene: {}'.format(np.average(sentence_count_scene)))\n",
    "\n",
    "sentences = [sentence for scene in scenes for sentence in scene.split('\\n')]\n",
    "print('Number of lines: {}'.format(len(sentences)))\n",
    "word_count_sentence = [len(sentence.split()) for sentence in sentences]\n",
    "print('Average number of words in each line: {}'.format(np.average(word_count_sentence)))\n",
    "\n",
    "print()\n",
    "print('The sentences {} to {}:'.format(*view_sentence_range))\n",
    "print('\\n'.join(text.split('\\n')[view_sentence_range[0]:view_sentence_range[1]]))"
   ]
  },
  {
   "cell_type": "markdown",
   "metadata": {},
   "source": [
    "## Implement Preprocessing Functions\n",
    "The first thing to do to any dataset is preprocessing.  Implement the following preprocessing functions below:\n",
    "- Lookup Table\n",
    "- Tokenize Punctuation\n",
    "\n",
    "### Lookup Table\n",
    "To create a word embedding, you first need to transform the words to ids.  In this function, create two dictionaries:\n",
    "- Dictionary to go from the words to an id, we'll call `vocab_to_int`\n",
    "- Dictionary to go from the id to word, we'll call `int_to_vocab`\n",
    "\n",
    "Return these dictionaries in the following tuple `(vocab_to_int, int_to_vocab)`"
   ]
  },
  {
   "cell_type": "code",
   "execution_count": 27,
   "metadata": {},
   "outputs": [
    {
     "name": "stdout",
     "output_type": "stream",
     "text": [
      "{'gonna': 0, 'hey': 1, 'catch': 2, 'i': 3, 'matter': 4, 'name': 5, 'give': 6, 'elite': 7, 'not': 8, 'self': 9, 'the': 10, 'yeah': 11, 'an': 12, 'whats': 13, 'effervescent': 14, 'me': 15, 'tavern': 16, 'got': 17, 'has': 18, 'one': 19, 'homer': 20, 'ice': 21, \"i'll\": 22, \"moe's\": 23, 'enhance': 24, 'listen': 25, 'should': 26, 'rotch': 27, 'meet': 28, 'drink': 29, 'hold': 30, 'of': 31, 'forget': 32, 'there': 33, 'mike': 34, 'lately': 35, 'carve': 36, 'last': 37, 'my': 38, 'your': 39, 'barney_gumble': 40, 'you': 41, 'bart_simpson': 42, 'only': 43, 'check': 44, 'these': 45, 'with': 46, 'back': 47, 'moe_szyslak': 48, 'where': 49, 'little': 50, 'and': 51, 'eh': 52, 'problems': 53, 'anybody': 54, 'normal': 55, 'on': 56, 'to': 57, 'is': 58, 'days': 59, 'homer_simpson': 60, 'seen': 61, 'another': 62, 'social': 63, 'hello': 64, 'skills': 65, 'moe': 66, 'pick': 67, \"you're\": 68, 'puke': 69, \"i'm\": 70}\n",
      "\n",
      "\n",
      "=========\n",
      "\n",
      "{0: 'gonna', 1: 'hey', 2: 'catch', 3: 'i', 4: 'matter', 5: 'name', 6: 'give', 7: 'elite', 8: 'not', 9: 'self', 10: 'the', 11: 'yeah', 12: 'an', 13: 'whats', 14: 'effervescent', 15: 'me', 16: 'tavern', 17: 'got', 18: 'has', 19: 'one', 20: 'homer', 21: 'ice', 22: \"i'll\", 23: \"moe's\", 24: 'enhance', 25: 'listen', 26: 'should', 27: 'rotch', 28: 'meet', 29: 'drink', 30: 'hold', 31: 'of', 32: 'forget', 33: 'there', 34: 'mike', 35: 'lately', 36: 'carve', 37: 'last', 38: 'my', 39: 'your', 40: 'barney_gumble', 41: 'you', 42: 'bart_simpson', 43: 'only', 44: 'check', 45: 'these', 46: 'with', 47: 'back', 48: 'moe_szyslak', 49: 'where', 50: 'little', 51: 'and', 52: 'eh', 53: 'problems', 54: 'anybody', 55: 'normal', 56: 'on', 57: 'to', 58: 'is', 59: 'days', 60: 'homer_simpson', 61: 'seen', 62: 'another', 63: 'social', 64: 'hello', 65: 'skills', 66: 'moe', 67: 'pick', 68: \"you're\", 69: 'puke', 70: \"i'm\"}\n",
      "Tests Passed\n"
     ]
    }
   ],
   "source": [
    "import numpy as np\n",
    "import problem_unittests as tests\n",
    "\n",
    "def create_lookup_tables(text):\n",
    "    \"\"\"\n",
    "    Create lookup tables for vocabulary\n",
    "    :param text: The text of tv scripts split into words\n",
    "    :return: A tuple of dicts (vocab_to_int, int_to_vocab)\n",
    "    \"\"\"\n",
    "    # DONE: Implement Function\n",
    "    \n",
    "    #see ing what shape text is:    \n",
    "    #print(text)\n",
    "    ##text.shape()\n",
    "    vocab_to_int = {}\n",
    "    int_to_vocab = {}\n",
    "    \n",
    "    #googled dictionaries from lists: https://stackoverflow.com/questions/1747817/create-a-dictionary-with-list-comprehension-in-python\n",
    "    #d = {k:v for k, v in iterable}\n",
    "    \n",
    "    #don't use int here because keyword, using val instead.\n",
    "        #vocab_to_int = {vocab: val for vocab, v in len(text)}\n",
    "        #vocab_to_int = {vocab: val for vocab, val in enumerate(text)}\n",
    "        #int_to_vocab = {val:vocab for val, vocab in vocab_to_int.items()}\n",
    "   \n",
    "        #int_to_vocab = {val:vocab for vocab, vocab in vocab_to_int.items()}\n",
    "\n",
    "        ##  vocab_to_int = {vocab: val for vocab, vocab in enumerate(text)}\n",
    "        #int_to_vocab = {val:vocab for val, val in vocab_to_int.items()}\n",
    "\n",
    "    # OK I understand this now. I think I could code this again without so much guessing next time\n",
    "        \n",
    "    #vocab_to_int = {vocab: val for val, vocab in enumerate(text)}\n",
    "    #int_to_vocab = {val:vocab for vocab, val in vocab_to_int.items()}\n",
    "\n",
    "    #ok that makes sense. in this case it should be closer to d = {k:v for v, k in enum} I don't know why that took me so long.. :/\n",
    "    \n",
    "    # print(vocab_to_int)\n",
    "    #print(\"\\n\\n=========\\n\")\n",
    "    # print(int_to_vocab)\n",
    "\n",
    "    # This looks right\n",
    "    \n",
    "    \n",
    "    #it looked right but I guess it was wrong even though it passes the test. Livesupport ta helped clean it to be\n",
    "    for num, word in enumerate(set(text)):\n",
    "        vocab_to_int[word] = num\n",
    "        int_to_vocab[num] = word\n",
    "    \n",
    "    \n",
    "    print(vocab_to_int)\n",
    "    print(\"\\n\\n=========\\n\")\n",
    "    print(int_to_vocab)\n",
    "    return vocab_to_int, int_to_vocab  #None, None\n",
    "\n",
    "\n",
    "\"\"\"\n",
    "DON'T MODIFY ANYTHING IN THIS CELL THAT IS BELOW THIS LINE\n",
    "\"\"\"\n",
    "tests.test_create_lookup_tables(create_lookup_tables)"
   ]
  },
  {
   "cell_type": "markdown",
   "metadata": {},
   "source": [
    "### Tokenize Punctuation\n",
    "We'll be splitting the script into a word array using spaces as delimiters.  However, punctuations like periods and exclamation marks make it hard for the neural network to distinguish between the word \"bye\" and \"bye!\".\n",
    "\n",
    "Implement the function `token_lookup` to return a dict that will be used to tokenize symbols like \"!\" into \"||Exclamation_Mark||\".  Create a dictionary for the following symbols where the symbol is the key and value is the token:\n",
    "- Period ( . )\n",
    "- Comma ( , )\n",
    "- Quotation Mark ( \" )\n",
    "- Semicolon ( ; )\n",
    "- Exclamation mark ( ! )\n",
    "- Question mark ( ? )\n",
    "- Left Parentheses ( ( )\n",
    "- Right Parentheses ( ) )\n",
    "- Dash ( -- )\n",
    "- Return ( \\n )\n",
    "\n",
    "This dictionary will be used to token the symbols and add the delimiter (space) around it.  This separates the symbols as it's own word, making it easier for the neural network to predict on the next word. Make sure you don't use a token that could be confused as a word. Instead of using the token \"dash\", try using something like \"||dash||\"."
   ]
  },
  {
   "cell_type": "code",
   "execution_count": 6,
   "metadata": {},
   "outputs": [
    {
     "name": "stdout",
     "output_type": "stream",
     "text": [
      "Tests Passed\n"
     ]
    }
   ],
   "source": [
    "def token_lookup():\n",
    "    \"\"\"\n",
    "    Generate a dict to turn punctuation into a token.\n",
    "    :return: Tokenize dictionary where the key is the punctuation and the value is the token\n",
    "    \"\"\"\n",
    "    # DONE: Implement Function\n",
    "    #ret = {}\n",
    "    \n",
    "    \n",
    "    \n",
    "    \n",
    "    #Period ( . )\n",
    "    #Comma ( , )\n",
    "    #Quotation Mark ( \" )\n",
    "    #Semicolon ( ; )\n",
    "    #Exclamation mark ( ! )\n",
    "    #Question mark ( ? )\n",
    "    #Left Parentheses ( ( )\n",
    "    #Right Parentheses ( ) )\n",
    "    #Dash ( -- )\n",
    "    #Return ( \\n )\n",
    "    #(\"Period\",\".\")\n",
    "    #\"Comma\",\",\")\n",
    "    #(\"Quotation_Mark\", \"\\\")\n",
    "    #(\"Semicolon\", \";\" )\n",
    "    #(\"Exclamation_mark,\"!\" )\n",
    "    #(\"Question mark\",\"?\")\n",
    "    #(\"Left_Parentheses\",\"(\")\n",
    "    #(\"Right_Parentheses\",\")\")\n",
    "    #(\"Dash\",\"--\"),\n",
    "    #(\"Return\",\"\\\\n\")\n",
    "    \n",
    "    \n",
    "    #there must be an easier way to move stuff aroudn or find replace in Jupyter Notebook.. I finally just used a text editor (geany) though.\n",
    "    \n",
    "    \n",
    "    # use lowercase just in case a to upper or to loower is used on the text later\n",
    "    # break out \\.\n",
    "    ret = {\n",
    "        '||period||':'.',\n",
    "        '||comma||':',',\n",
    "        '||quotation_mark||':'\"',  \n",
    "        '||semicolon||':';' ,\n",
    "        '||exclamation_mark||':'!',\n",
    "        '||question_mark||':'?',\n",
    "        '||left_parentheses||':'(',\n",
    "        '||right_parentheses||':')',\n",
    "        '||dash||':'--',\n",
    "        '||return||':'\\n'}\n",
    "\n",
    "    # I guess I typed this in reverse. Rather than edit it by hand again, I figure this is a good time to learn how to flip keys and values\n",
    "    # I did a google search, and found https://stackoverflow.com/questions/14131089/better-one-liner-to-flip-keys-and-values-of-a-dictionary\n",
    "    #e = {v: k for k, v in a.iteritems()}\n",
    "    # so that would be:\n",
    "    \n",
    "    #ret_corrected = {values : keys for keys , values in ret.iteritems()}\n",
    "    #AttributeError: 'dict' object has no attribute 'iteritems'\n",
    "    #I did something wrong I gues, this was another option:\n",
    "    \n",
    "    #d = dict(map(reversed, a.items()))\n",
    "    ret_corrected = dict(map(reversed,ret.items()))\n",
    "    \n",
    "    # cool that worked. must remember.\n",
    "    \n",
    "    \n",
    "    # I asked about this later on the Live support, this is a difference between python 3 and 2 with iteritems removed in 3. See: PEP-469\n",
    "    return ret_corrected#ret\n",
    "\n",
    "    \n",
    "\n",
    "\"\"\"\n",
    "DON'T MODIFY ANYTHING IN THIS CELL THAT IS BELOW THIS LINE\n",
    "\"\"\"\n",
    "tests.test_tokenize(token_lookup)"
   ]
  },
  {
   "cell_type": "markdown",
   "metadata": {},
   "source": [
    "## Preprocess all the data and save it\n",
    "Running the code cell below will preprocess all the data and save it to file."
   ]
  },
  {
   "cell_type": "code",
   "execution_count": 7,
   "metadata": {},
   "outputs": [],
   "source": [
    "\"\"\"\n",
    "DON'T MODIFY ANYTHING IN THIS CELL\n",
    "\"\"\"\n",
    "# Preprocess Training, Validation, and Testing Data\n",
    "helper.preprocess_and_save_data(data_dir, token_lookup, create_lookup_tables)"
   ]
  },
  {
   "cell_type": "markdown",
   "metadata": {},
   "source": [
    "# Check Point\n",
    "This is your first checkpoint. If you ever decide to come back to this notebook or have to restart the notebook, you can start from here. The preprocessed data has been saved to disk."
   ]
  },
  {
   "cell_type": "code",
   "execution_count": 8,
   "metadata": {
    "collapsed": true
   },
   "outputs": [],
   "source": [
    "\"\"\"\n",
    "DON'T MODIFY ANYTHING IN THIS CELL\n",
    "\"\"\"\n",
    "import helper\n",
    "import numpy as np\n",
    "import problem_unittests as tests\n",
    "\n",
    "int_text, vocab_to_int, int_to_vocab, token_dict = helper.load_preprocess()"
   ]
  },
  {
   "cell_type": "markdown",
   "metadata": {},
   "source": [
    "## Build the Neural Network\n",
    "You'll build the components necessary to build a RNN by implementing the following functions below:\n",
    "- get_inputs\n",
    "- get_init_cell\n",
    "- get_embed\n",
    "- build_rnn\n",
    "- build_nn\n",
    "- get_batches\n",
    "\n",
    "### Check the Version of TensorFlow and Access to GPU"
   ]
  },
  {
   "cell_type": "code",
   "execution_count": 9,
   "metadata": {
    "scrolled": true
   },
   "outputs": [
    {
     "name": "stdout",
     "output_type": "stream",
     "text": [
      "Collecting tensorflow==1.0\n",
      "  Using cached tensorflow-1.0.0-cp36-cp36m-manylinux1_x86_64.whl\n",
      "Requirement already up-to-date: wheel>=0.26 in /home/josh/.conda/envs/dlndtf1/lib/python3.6/site-packages (from tensorflow==1.0)\n",
      "Requirement already up-to-date: protobuf>=3.1.0 in /home/josh/.conda/envs/dlndtf1/lib/python3.6/site-packages (from tensorflow==1.0)\n",
      "Collecting six>=1.10.0 (from tensorflow==1.0)\n",
      "  Using cached six-1.11.0-py2.py3-none-any.whl\n",
      "Requirement already up-to-date: numpy>=1.11.0 in /home/josh/.conda/envs/dlndtf1/lib/python3.6/site-packages (from tensorflow==1.0)\n",
      "Collecting setuptools (from protobuf>=3.1.0->tensorflow==1.0)\n",
      "  Using cached setuptools-36.5.0-py2.py3-none-any.whl\n",
      "Installing collected packages: six, tensorflow, setuptools\n",
      "  Found existing installation: six 1.10.0\n",
      "\u001b[31m    DEPRECATION: Uninstalling a distutils installed project (six) has been deprecated and will be removed in a future version. This is due to the fact that uninstalling a distutils project will only partially uninstall the project.\u001b[0m\n",
      "    Uninstalling six-1.10.0:\n",
      "      Successfully uninstalled six-1.10.0\n",
      "  Rolling back uninstall of six\n",
      "\u001b[31mException:\n",
      "Traceback (most recent call last):\n",
      "  File \"/home/josh/.conda/envs/dlndtf1/lib/python3.6/site-packages/pip/basecommand.py\", line 215, in main\n",
      "    status = self.run(options, args)\n",
      "  File \"/home/josh/.conda/envs/dlndtf1/lib/python3.6/site-packages/pip/commands/install.py\", line 342, in run\n",
      "    prefix=options.prefix_path,\n",
      "  File \"/home/josh/.conda/envs/dlndtf1/lib/python3.6/site-packages/pip/req/req_set.py\", line 784, in install\n",
      "    **kwargs\n",
      "  File \"/home/josh/.conda/envs/dlndtf1/lib/python3.6/site-packages/pip/req/req_install.py\", line 851, in install\n",
      "    self.move_wheel_files(self.source_dir, root=root, prefix=prefix)\n",
      "  File \"/home/josh/.conda/envs/dlndtf1/lib/python3.6/site-packages/pip/req/req_install.py\", line 1064, in move_wheel_files\n",
      "    isolated=self.isolated,\n",
      "  File \"/home/josh/.conda/envs/dlndtf1/lib/python3.6/site-packages/pip/wheel.py\", line 345, in move_wheel_files\n",
      "    clobber(source, lib_dir, True)\n",
      "  File \"/home/josh/.conda/envs/dlndtf1/lib/python3.6/site-packages/pip/wheel.py\", line 323, in clobber\n",
      "    shutil.copyfile(srcfile, destfile)\n",
      "  File \"/home/josh/.conda/envs/dlndtf1/lib/python3.6/shutil.py\", line 121, in copyfile\n",
      "    with open(dst, 'wb') as fdst:\n",
      "PermissionError: [Errno 13] Permission denied: '/home/josh/.conda/envs/dlndtf1/lib/python3.6/site-packages/six.py'\u001b[0m\n"
     ]
    }
   ],
   "source": [
    "# apparently 1.2.1 is a problem so Live support said to downgrade\n",
    "!pip install -U tensorflow==1.0"
   ]
  },
  {
   "cell_type": "code",
   "execution_count": 10,
   "metadata": {},
   "outputs": [
    {
     "name": "stdout",
     "output_type": "stream",
     "text": [
      "TensorFlow Version: 1.0.1\n",
      "Default GPU Device: /gpu:0\n"
     ]
    }
   ],
   "source": [
    "\"\"\"\n",
    "DON'T MODIFY ANYTHING IN THIS CELL\n",
    "\"\"\"\n",
    "from distutils.version import LooseVersion\n",
    "import warnings\n",
    "import tensorflow as tf\n",
    "\n",
    "# Check TensorFlow Version\n",
    "assert LooseVersion(tf.__version__) >= LooseVersion('1.0'), 'Please use TensorFlow version 1.0 or newer'\n",
    "print('TensorFlow Version: {}'.format(tf.__version__))\n",
    "\n",
    "# Check for a GPU\n",
    "if not tf.test.gpu_device_name():\n",
    "    warnings.warn('No GPU found. Please use a GPU to train your neural network.')\n",
    "else:\n",
    "    print('Default GPU Device: {}'.format(tf.test.gpu_device_name()))\n"
   ]
  },
  {
   "cell_type": "code",
   "execution_count": 11,
   "metadata": {},
   "outputs": [
    {
     "name": "stdout",
     "output_type": "stream",
     "text": [
      "TensorFlow Version: 1.0.1\n",
      "Default GPU Device: /gpu:0\n"
     ]
    }
   ],
   "source": [
    "\"\"\"\n",
    "DON'T MODIFY ANYTHING IN THIS CELL\n",
    "\"\"\"\n",
    "from distutils.version import LooseVersion\n",
    "import warnings\n",
    "import tensorflow as tf\n",
    "\n",
    "# Check TensorFlow Version\n",
    "assert LooseVersion(tf.__version__) >= LooseVersion('1.0'), 'Please use TensorFlow version 1.0 or newer'\n",
    "print('TensorFlow Version: {}'.format(tf.__version__))\n",
    "\n",
    "# Check for a GPU\n",
    "if not tf.test.gpu_device_name():\n",
    "    warnings.warn('No GPU found. Please use a GPU to train your neural network.')\n",
    "else:\n",
    "    print('Default GPU Device: {}'.format(tf.test.gpu_device_name()))"
   ]
  },
  {
   "cell_type": "markdown",
   "metadata": {},
   "source": [
    "### Input\n",
    "Implement the `get_inputs()` function to create TF Placeholders for the Neural Network.  It should create the following placeholders:\n",
    "- Input text placeholder named \"input\" using the [TF Placeholder](https://www.tensorflow.org/api_docs/python/tf/placeholder) `name` parameter.\n",
    "- Targets placeholder\n",
    "- Learning Rate placeholder\n",
    "\n",
    "Return the placeholders in the following tuple `(Input, Targets, LearningRate)`"
   ]
  },
  {
   "cell_type": "code",
   "execution_count": 12,
   "metadata": {},
   "outputs": [
    {
     "name": "stdout",
     "output_type": "stream",
     "text": [
      "Tests Passed\n"
     ]
    }
   ],
   "source": [
    "def get_inputs():\n",
    "    \"\"\"\n",
    "    Create TF Placeholders for input, targets, and learning rate.\n",
    "    :return: Tuple (input, targets, learning rate)\n",
    "    \"\"\"\n",
    "    # Done: Implement Function\n",
    "    #https://www.tensorflow.org/api_docs/python/tf/placeholder\n",
    "    # I don't think there is a char/text dtype, but int should be ok if python is like C. That said even though Python is so much \"easier\"*\" than C, but after years of low level coding, python is soooo much more confusing.. but not nearly as bad as R :p\n",
    "        # i joke, but sersiously statistics homework is hard enough without having to remember that data starts at location 1 instead of 0\n",
    "    \n",
    "    # P.S. if a reviewer actually does read my comments, sorry about commenting out broken code instead of deleting it always, sometimes at least in the case of this homework,it is helpful for me to see what I tried already\n",
    "    #  If I wasn't still learning all of this, I'd probably clean it up more. \n",
    "    \n",
    "    #Input = tf.placeholder(dtype=tf.int32,name=\"input\")\n",
    "    #Targets = tf.placeholder(dtype=tf.int32,name=\"Targets\")\n",
    "    #LearningRate = tf.placeholder(dtype=tf.int32,name=\"LearningRate\")\n",
    "    #ret = (Input, Targets, LearningRate)\n",
    "    \n",
    "    #AssertionError: Input has wrong rank.  Rank 0 found.\n",
    "    \n",
    "    #It should be ok, since the documentation says if nothing is specified that it will take anyshape, but for the unit test:\n",
    "    #Input = tf.placeholder(dtype=tf.int32,name=\"input\",shape=[None,None])\n",
    "    #Targets = tf.placeholder(dtype=tf.int32,name=\"Targets\",shape=[None,None])\n",
    "    #LearningRate = tf.placeholder(dtype=tf.int32,name=\"LearningRate\")\n",
    "    \n",
    "    # later it errored complaining:\n",
    "    #TypeError: Value passed to parameter 'indices' has DataType float32 not in list of allowed values: int32, int64\n",
    "    #32Input = tf.placeholder(dtype=tf.float32,name=\"input\",shape=[None,None])\n",
    "    #Targets = tf.placeholder(dtype=tf.float32,name=\"Targets\",shape=[None,None])\n",
    "    #LearningRate = tf.placeholder(dtype=tf.float32,name=\"LearningRate\")\n",
    "    \n",
    "    \n",
    "    #Input = tf.placeholder(dtype=tf.int32,name=\"input\",shape=[None,None])\n",
    "    #Targets = tf.placeholder(dtype=tf.int32,name=\"Targets\",shape=[None,None])\n",
    "    #LearningRate = tf.placeholder(dtype=tf.int32,name=\"LearningRate\")\n",
    "      \n",
    "    #now it says: AssertionError: Predicted word is wrong type. Found <class 'numpy.int64'> type.\n",
    "    Input = tf.placeholder(dtype=tf.int64,name=\"input\",shape=[None,None])\n",
    "    Targets = tf.placeholder(dtype=tf.int64,name=\"Targets\",shape=[None,None])\n",
    "    LearningRate = tf.placeholder(dtype=tf.int64,name=\"LearningRate\")\n",
    "    \n",
    "    \n",
    "    # Update: Actually, rank IS required. Just the values can be NONE, like in the case of an unknown batch size\n",
    "    ret = (Input, Targets, LearningRate)\n",
    "    \n",
    "    return ret#None, None, None\n",
    "\n",
    "\n",
    "\n",
    "\n",
    "\"\"\"\n",
    "DON'T MODIFY ANYTHING IN THIS CELL THAT IS BELOW THIS LINE\n",
    "\"\"\"\n",
    "tests.test_get_inputs(get_inputs)"
   ]
  },
  {
   "cell_type": "markdown",
   "metadata": {},
   "source": [
    "### Build RNN Cell and Initialize\n",
    "Stack one or more [`BasicLSTMCells`](https://www.tensorflow.org/api_docs/python/tf/contrib/rnn/BasicLSTMCell) in a [`MultiRNNCell`](https://www.tensorflow.org/api_docs/python/tf/contrib/rnn/MultiRNNCell).\n",
    "\n",
    "- The Rnn size should be set using `rnn_size`\n",
    "- Initalize Cell State using the MultiRNNCell's [`zero_state()`](https://www.tensorflow.org/api_docs/python/tf/contrib/rnn/MultiRNNCell#zero_state) function\n",
    "    - Apply the name \"initial_state\" to the initial state using [`tf.identity()`](https://www.tensorflow.org/api_docs/python/tf/identity)\n",
    "\n",
    "Return the cell and initial state in the following tuple `(Cell, InitialState)`"
   ]
  },
  {
   "cell_type": "code",
   "execution_count": 13,
   "metadata": {
    "scrolled": true
   },
   "outputs": [
    {
     "name": "stdout",
     "output_type": "stream",
     "text": [
      "Tests Passed\n"
     ]
    }
   ],
   "source": [
    "##### NO MATTERwhatidid it didn't work. II spoke with live support and we eentually found my code was OK, bt it only works with tf 1. I have 1.2.1\n",
    "#tensorflow-gpu            1.2.1                     <pip>\n",
    "#\n",
    "\n",
    "def get_init_cell(batch_size, rnn_size):\n",
    "    \"\"\"\n",
    "    Create an RNN Cell and initialize it.\n",
    "    :param batch_size: Size of batches\n",
    "    :param rnn_size: Size of RNNs\n",
    "    :return: Tuple (cell, initialize state)\n",
    "    \"\"\"\n",
    "    # doen: Implement Function\n",
    "    \n",
    "    #useful references: https://www.tensorflow.org/api_docs/python/tf/contrib/rnn/MultiRNNCell\n",
    "    # https://www.tensorflow.org/api_docs/python/tf/contrib/rnn/MultiRNNCell\n",
    "    # https://www.tensorflow.org/api_docs/python/tf/contrib/rnn/BasicLSTMCell\n",
    "    \n",
    "    # https://www.tensorflow.org/api_guides/python/contrib.rnn is also a useful link\n",
    "    \n",
    "    # Use parameter rnn_size\n",
    "    #slLSTM = tf.nn.rnn_cell.BasicRNNCell (rnn_size)\n",
    "    #singlelayer_LSTM = tf.nn.rnn_cell.BasicLSTMCells (rnn_size)\n",
    "     \n",
    "        \n",
    "    #AttributeError: module 'tensorflow.python.ops.rnn_cell' has no attribute 'BasicLSTMCells'\n",
    "    #loooks like theree is a typo in the expaination above.\n",
    "    #singlelayer_LSTM = tf.nn.rnn_cell.BasicLSTMCell (rnn_size)\n",
    "    singlelayer_LSTM = tf.contrib.rnn.BasicLSTMCell (rnn_size)\n",
    "     \n",
    "    \n",
    "    \n",
    "    #task: Stack one or more BasicLSTMCells in a MultiRNNCell.\n",
    "    \n",
    "    # These are both part of contrib. since they are the ones suggested by udacity I will use them, but i figure there should be official, non-contrib, rnn layer functions in tf bynow....\n",
    "    # oK. These are aliases\n",
    "    #Aliases:\n",
    "\n",
    "    #Class tf.contrib.rnn.MultiRNNCell\n",
    "    #Class tf.nn.rnn_cell.MultiRNNCell\n",
    "\n",
    "    # Does it matter how many i use? More is better right? I mean at the cost of speed / memory, but more ls tm cells really means that more \"histroy\\\" is possible to the rNN , ritght?\n",
    "    #cell = tf.nn.rnn_cell.MultiRNNCell([singlelayer_LSTM,singlelayer_LSTM,singlelayer_LSTM,singlelayer_LSTM])\n",
    "    #cell = tf.nn.rnn_cell.MultiRNNCell([singlelayer_LSTM,singlelayer_LSTM])\n",
    "    #rcell = tf.contrib.rnn.MultiRNNCell([singlelayer_LSTM,singlelayer_LSTM])\n",
    "    rcell = tf.contrib.rnn.MultiRNNCell([singlelayer_LSTM])\n",
    "    \n",
    "    \n",
    "    # 0 out its state of size batch\n",
    "\n",
    "    \n",
    "    # Honestly I don't get when to pick different types.\n",
    "    # unless it really should be int32, I figure float32 is the best I can do\n",
    "    # i see that float_  / float64 exist, but can I be garenteed that that would work on all gpus? I can't find a good answer\n",
    "    # but then woul;dn't I get better speeds with int either way..\n",
    "    #initialize_state = rcell.zero_state(batch_size,dtype=tf.float32)\n",
    "    initialize_state = rcell.zero_state(batch_size,dtype=tf.int32)\n",
    "    \n",
    "    \n",
    "    \n",
    "    #ValueError: prefix tensor must be either a scalar or vector, but saw tensor: Tensor(\"Placeholder:0\", dtype=int32)\n",
    "    initialize_state = tf.identity(initialize_state,name=\"initial_state\")\n",
    "    \n",
    "    #return: Tuple (cell, initialize state)\n",
    "    \n",
    "    \n",
    "    return (rcell, initialize_state)\n",
    "    #return None, None\n",
    "\n",
    "\n",
    "\"\"\"\n",
    "DON'T MODIFY ANYTHING IN THIS CELL THAT IS BELOW THIS LINE\n",
    "\"\"\"\n",
    "tests.test_get_init_cell(get_init_cell)"
   ]
  },
  {
   "cell_type": "markdown",
   "metadata": {},
   "source": [
    "### Word Embedding\n",
    "Apply embedding to `input_data` using TensorFlow.  Return the embedded sequence."
   ]
  },
  {
   "cell_type": "code",
   "execution_count": 14,
   "metadata": {},
   "outputs": [
    {
     "name": "stdout",
     "output_type": "stream",
     "text": [
      "Tests Passed\n"
     ]
    }
   ],
   "source": [
    "def get_embed(input_data, vocab_size, embed_dim):\n",
    "    \"\"\"\n",
    "    Create embedding for <input_data>.\n",
    "    :param input_data: TF placeholder for text input.\n",
    "    :param vocab_size: Number of words in vocabulary.\n",
    "    :param embed_dim: Number of embedding dimensions\n",
    "    :return: Embedded input.\n",
    "    \"\"\"\n",
    "    # done: Implement Function\n",
    "    #embedded sequence\n",
    "    #https://www.tensorflow.org/api_docs/python/tf/contrib/layers/embed_sequence\n",
    "\n",
    "    \n",
    "    \n",
    "    #embed_sequence(\n",
    "    #ids,\n",
    "    #vocab_size=None,vocab_size\n",
    "    #embed_dim=None,\n",
    "    #unique=False,\n",
    "    #initializer=None,\n",
    "    #regularizer=None,\n",
    "    #trainable=True,\n",
    "    #scope=None,\n",
    "    #reuse=None\n",
    "    #)\n",
    "\n",
    "    #(input_data, vocab_size, embed_dim):\n",
    "    #ret = tf.contrib.layers.embed_sequence ()\n",
    "    # so\n",
    "    ret =  tf.contrib.layers.embed_sequence (input_data,embed_dim=embed_dim,vocab_size=vocab_size)\n",
    "    \n",
    "    # from https://github.com/udacity/deep-learning/blob/master/embeddings/Skip-Grams-Solution.ipynb\n",
    "    #n_vocab = len(int_to_vocab)\n",
    "    #n_embedding = 200 # Number of embedding features \n",
    "    #with train_graph.as_default():\n",
    "    #    embedding = tf.Variable(tf.random_uniform((n_vocab, n_embedding), -1, 1))\n",
    "    #    embed = tf.nn.embedding_lookup(embedding, inputs)\n",
    "    \n",
    "    return ret\n",
    "\n",
    "\n",
    "\"\"\"\n",
    "DON'T MODIFY ANYTHING IN THIS CELL THAT IS BELOW THIS LINE\n",
    "\"\"\"\n",
    "tests.test_get_embed(get_embed)"
   ]
  },
  {
   "cell_type": "markdown",
   "metadata": {},
   "source": [
    "### Build RNN\n",
    "You created a RNN Cell in the `get_init_cell()` function.  Time to use the cell to create a RNN.\n",
    "- Build the RNN using the [`tf.nn.dynamic_rnn()`](https://www.tensorflow.org/api_docs/python/tf/nn/dynamic_rnn)\n",
    " - Apply the name \"final_state\" to the final state using [`tf.identity()`](https://www.tensorflow.org/api_docs/python/tf/identity)\n",
    "\n",
    "Return the outputs and final_state state in the following tuple `(Outputs, FinalState)` "
   ]
  },
  {
   "cell_type": "code",
   "execution_count": 15,
   "metadata": {
    "scrolled": true
   },
   "outputs": [
    {
     "name": "stdout",
     "output_type": "stream",
     "text": [
      "Tests Passed\n"
     ]
    }
   ],
   "source": [
    "def build_rnn(cell, inputs):\n",
    "    \"\"\"\n",
    "    Create a RNN using a RNN Cell\n",
    "    :param cell: RNN Cell\n",
    "    :param inputs: Input text data\n",
    "    :return: Tuple (Outputs, Final State)\n",
    "    \"\"\"\n",
    "    # done: Implement Functionre\n",
    "    \n",
    "    #https://www.tensorflow.org/api_docs/python/tf/nn/dynamic_rnn\n",
    "    \n",
    "    \n",
    "    #dynamic_rnn(\n",
    "    #cell,\n",
    "    #inputs,\n",
    "    #sequence_length=None,\n",
    "    #initial_state=None,\n",
    "    #type=None,\n",
    "    #parallel_iterations=None,\n",
    "    #swap_memory=False,\n",
    "    #time_major=False,\n",
    "    #scope=None\n",
    "    #)\n",
    "\n",
    "\n",
    "    \n",
    "    #ret= tf.nn.dynamic_rnn(cell, inputs)\n",
    "    #tf.identity(ret.state,name=\"final_state\")\n",
    "    #return ret#None, None\n",
    "    \n",
    "    retA,retB= tf.nn.dynamic_rnn(cell=cell,inputs= inputs,dtype=tf.float32)\n",
    "    #retA,retB= tf.nn.dynamic_rnn(cell=cell,inputs= inputs,dtype=tf.int32)\n",
    "    \n",
    "    \n",
    "    #identity(\n",
    "    #input,\n",
    "    # name=None\n",
    "    #)\n",
    "\n",
    "    retB = tf.identity(retB,name=\"final_state\")\n",
    "    return (retA, retB)   #None, None\n",
    "    \n",
    "    \n",
    "    #Ok let's trhy working with tuplez again  now once I fixed it\n",
    "    #ret= tf.nn.dynamic_rnn(cell, inputs)\n",
    "    #ret.state = tf.identity(ret.state,name=\"final_state\")\n",
    "    #return ret#None, None\n",
    "    \n",
    "\n",
    "\"\"\"\n",
    "DON'T MODIFY ANYTHING IN THIS CELL THAT IS BELOW THIS LINE\n",
    "\"\"\"\n",
    "tests.test_build_rnn(build_rnn)"
   ]
  },
  {
   "cell_type": "markdown",
   "metadata": {},
   "source": [
    "### Build the Neural Network\n",
    "Apply the functions you implemented above to:\n",
    "- Apply embedding to `input_data` using your `get_embed(input_data, vocab_size, embed_dim)` function.\n",
    "- Build RNN using `cell` and your `build_rnn(cell, inputs)` function.\n",
    "- Apply a fully connected layer with a linear activation and `vocab_size` as the number of outputs.\n",
    "\n",
    "Return the logits and final state in the following tuple (Logits, FinalState) "
   ]
  },
  {
   "cell_type": "code",
   "execution_count": 16,
   "metadata": {},
   "outputs": [
    {
     "name": "stdout",
     "output_type": "stream",
     "text": [
      "Tests Passed\n"
     ]
    }
   ],
   "source": [
    "def build_nn(cell, rnn_size, input_data, vocab_size, embed_dim):\n",
    "    \"\"\"\n",
    "    Build part of the neural network\n",
    "    :param cell: RNN cell\n",
    "    :param rnn_size: Size of rnns\n",
    "    :param input_data: Input data\n",
    "    :param vocab_size: Vocabulary size\n",
    "    :param embed_dim: Number of embedding dimensions\n",
    "    :return: Tuple (Logits, FinalState)\n",
    "    \"\"\"\n",
    "    #get._embed(input_data, vocab_size, embed_dim)\n",
    "    inputs= get_embed(input_data, vocab_size, embed_dim)#puts\n",
    "    #outputs, final_state = build_rnn(cell,embed_dim)\n",
    "    \n",
    "    outputs, final_state = build_rnn(cell,inputs)#ok that makes sense\n",
    "    \n",
    "    \n",
    "    \n",
    "    logits = tf.layers.dense(outputs, vocab_size)\n",
    "    return logits,final_state\n",
    "    \n",
    "    # doneO: Implement Function\n",
    "    #return None, None\n",
    "\n",
    "\n",
    "\"\"\"\n",
    "DON'T MODIFY ANYTHING IN THIS CELL THAT IS BELOW THIS LINE\n",
    "\"\"\"\n",
    "tests.test_build_nn(build_nn)"
   ]
  },
  {
   "cell_type": "markdown",
   "metadata": {},
   "source": [
    "### Batches\n",
    "Implement `get_batches` to create batches of input and targets using `int_text`.  The batches should be a Numpy array with the shape `(number of batches, 2, batch size, sequence length)`. Each batch contains two elements:\n",
    "- The first element is a single batch of **input** with the shape `[batch size, sequence length]`\n",
    "- The second element is a single batch of **targets** with the shape `[batch size, sequence length]`\n",
    "\n",
    "If you can't fill the last batch with enough data, drop the last batch.\n",
    "\n",
    "For exmple, `get_batches([1, 2, 3, 4, 5, 6, 7, 8, 9, 10, 11, 12, 13, 14, 15, 16, 17, 18, 19, 20], 3, 2)` would return a Numpy array of the following:\n",
    "```\n",
    "[\n",
    "  # First Batch\n",
    "  [\n",
    "    # Batch of Input\n",
    "    [[ 1  2], [ 7  8], [13 14]]\n",
    "    # Batch of targets\n",
    "    [[ 2  3], [ 8  9], [14 15]]\n",
    "  ]\n",
    "\n",
    "  # Second Batch\n",
    "  [\n",
    "    # Batch of Input\n",
    "    [[ 3  4], [ 9 10], [15 16]]\n",
    "    # Batch of targets\n",
    "    [[ 4  5], [10 11], [16 17]]\n",
    "  ]\n",
    "\n",
    "  # Third Batch\n",
    "  [\n",
    "    # Batch of Input\n",
    "    [[ 5  6], [11 12], [17 18]]\n",
    "    # Batch of targets\n",
    "    [[ 6  7], [12 13], [18  1]]\n",
    "  ]\n",
    "]\n",
    "```\n",
    "\n",
    "\n",
    "\n",
    "\n",
    "Notice that the last target value in the last batch is the first input value of the first batch. In this case, `1`. This is a common technique used when creating sequence batches, although it is rather unintuitive."
   ]
  },
  {
   "cell_type": "code",
   "execution_count": 17,
   "metadata": {},
   "outputs": [
    {
     "name": "stdout",
     "output_type": "stream",
     "text": [
      "Tests Passed\n"
     ]
    }
   ],
   "source": [
    "\n",
    "\n",
    "### another live help person helped me get rid of the last error. I don't understand what I dide wrong. please help, I want to use tf for other projects \n",
    "def get_batches(int_text, batch_size, seq_length):\n",
    "    n_batches = int(len(int_text)//(batch_size * seq_length))\n",
    "    \n",
    "    input_data = np.array(int_text[:n_batches *batch_size*seq_length])\n",
    "    targets_data = np.array(int_text[1:n_batches*batch_size*seq_length+1])\n",
    "    targets_data[-1]=input_data[0]\n",
    "    input_batches = np.split(input_data.reshape(batch_size,-1),n_batches,1)\n",
    "    targets_batches = np.split(targets_data.reshape(batch_size,-1),n_batches,1)\n",
    "    return np.array(list(zip(input_batches,targets_batches)))\n",
    "    \n",
    "def get_batches1old(int_text, batch_size, seq_length):\n",
    "    \"\"\"\n",
    "    Return batches of input and target\n",
    "    :param int_text: Text with the words replaced by their ids\n",
    "    :param batch_size: The size of batch\n",
    "    :param seq_length: The length of sequence\n",
    "    :return: Batches as a Numpy array\n",
    "    \"\"\"\n",
    "    # not yet done: Implement Function\n",
    "    #return 1\n",
    "    #The first element is a single batch of input with the shape [batch size, sequence length]\n",
    "    \n",
    "    #firstelement = \n",
    "    \n",
    "    # zip(...)\n",
    "    #ret \n",
    "    \n",
    "    ####### Realized this is just like the udacity course's embedding practices\n",
    "    # referenced: https://github.com/udacity/deep-learning/tree/master/embeddings\n",
    "    #n_batches = len(int_text) /batch_size * seq_length\n",
    "    \n",
    "    # only full batches\n",
    "    #texts = int_text[:n_batches*batch_size*seq_length]\n",
    "\n",
    "    \n",
    "    #for idx in range(0, len(int_text), batch_size):\n",
    "    #    x, y = [], []\n",
    "    #    batch = int_text[idx:idx+batch_size]\n",
    "    #    for ii in range(len(batch)):\n",
    "    #        batch_x = batch[ii]\n",
    "    #        batch_y = get_target(batch, ii, seq_length)\n",
    "    #        y.extend(batch_y)\n",
    "    #        x.extend([batch_x]*len(batch_y))\n",
    "    #    yield x,y\n",
    "    \n",
    "    #AssertionError: Batches is not a Numpy array\n",
    "    #return \n",
    "\n",
    "    #asked / got help from live support, who confirmed this is just a reshape problem\n",
    "    \n",
    "    \n",
    "    #n_batches = len(int_text)/batch_size * seq_length\n",
    "    \n",
    "    #maybe not still..\n",
    "    n_batches = (int(len(int_text)//(batch_size * seq_length)))\n",
    "    \n",
    "    \n",
    "    # I will say again, I HATE the [:::] nonsense. It takes me too long to figure this out\n",
    "    #x = np.array(int_text[:len(int_text)*seq_length])\n",
    "    #x = np.array(int_text[:len(int_text)/seq_length])\n",
    "    #TypeError: slice indices must be integers or None or have an __index__ metho\n",
    "    x = np.array(int_text[:(int(len(int_text)//seq_length))])\n",
    "    \n",
    "    \n",
    "    #live support pointed this line out. take the first and make it the last. for the shifting data thing\n",
    "    y = np.array(int_text[1:(int(len(int_text)//seq_length)+1)])\n",
    "    y[-1] = x[0]\n",
    "    #return 0\n",
    "    # it looks like i could have used np.roll too though\n",
    "    \n",
    "    #then to make it work,rehape\n",
    "    x = np.reshape(x,[batch_size,-1])\n",
    "   \n",
    "    y = np.reshape(y,[batch_size,-1]) \n",
    "   \n",
    "    #repackage\n",
    "    #ret = np.array(list(zip(x,y)))\n",
    "\n",
    "    \n",
    "    \n",
    "    #  oh split too\n",
    "    # add once it gets past reshape..\n",
    "    \n",
    "    return np.array(list(zip(x,y)))#ret\n",
    "\n",
    "    #note to self, don't misspell return. python does NOT have understandable errors\n",
    "   \n",
    "\n",
    "\"\"\"\n",
    "DON'T MODIFY ANYTHING IN THIS CELL THAT IS BELOW THIS LINE\n",
    "\"\"\"\n",
    "tests.test_get_batches(get_batches)"
   ]
  },
  {
   "cell_type": "markdown",
   "metadata": {},
   "source": [
    "## Neural Network Training\n",
    "### Hyperparameters\n",
    "Tune the following parameters:\n",
    "\n",
    "- Set `num_epochs` to the number of epochs.\n",
    "- Set `batch_size` to the batch size.\n",
    "- Set `rnn_size` to the size of the RNNs.\n",
    "- Set `embed_dim` to the size of the embedding.\n",
    "- Set `seq_length` to the length of sequence.\n",
    "- Set `learning_rate` to the learning rate.\n",
    "- Set `show_every_n_batches` to the number of batches the neural network should print progress."
   ]
  },
  {
   "cell_type": "code",
   "execution_count": 18,
   "metadata": {
    "collapsed": true
   },
   "outputs": [],
   "source": [
    "# Number of Epochs\n",
    "\n",
    "# This is small text, not an image, so I'm going to try for more thanlast homework\n",
    "num_epochs =32 #25 #256 #None\n",
    "# Batch Size\n",
    "batch_size = 512 #None\n",
    "# RNN Size\n",
    "rnn_size = 10 #None\n",
    "# Embedding Dimension Size\n",
    "embed_dim = 5 #None\n",
    "# Sequence Length\n",
    "seq_length = 32 #None\n",
    "# Learning Rate\n",
    "\n",
    "#I had good resuls with around 0.4 to 0.6 so far but terrible results with lower and higher - ths may be a function of my machine, but the live suppor for last homework said that it made sense (I was tring to use <0.09\n",
    "\n",
    "learning_rate = 0.35 #None\n",
    "# Show stats for every n number of batches\n",
    "show_every_n_batches = 32# $64 #None\n",
    "\n",
    "\"\"\"\n",
    "DON'T MODIFY ANYTHING IN THIS CELL THAT IS BELOW THIS LINE\n",
    "\"\"\"\n",
    "save_dir = './save'"
   ]
  },
  {
   "cell_type": "markdown",
   "metadata": {},
   "source": [
    "### Build the Graph\n",
    "Build the graph using the neural network you implemented."
   ]
  },
  {
   "cell_type": "code",
   "execution_count": 19,
   "metadata": {
    "collapsed": true
   },
   "outputs": [],
   "source": [
    "\"\"\"\n",
    "DON'T MODIFY ANYTHING IN THIS CELL\n",
    "\"\"\"\n",
    "from tensorflow.contrib import seq2seq\n",
    "\n",
    "train_graph = tf.Graph()\n",
    "with train_graph.as_default():\n",
    "    vocab_size = len(int_to_vocab)\n",
    "    input_text, targets, lr = get_inputs()\n",
    "    input_data_shape = tf.shape(input_text)\n",
    "    cell, initial_state = get_init_cell(input_data_shape[0], rnn_size)\n",
    "    logits, final_state = build_nn(cell, rnn_size, input_text, vocab_size, embed_dim)\n",
    "\n",
    "    # Probabilities for generating words\n",
    "    probs = tf.nn.softmax(logits, name='probs')\n",
    "\n",
    "    # Loss function\n",
    "    cost = seq2seq.sequence_loss(\n",
    "        logits,\n",
    "        targets,\n",
    "        tf.ones([input_data_shape[0], input_data_shape[1]]))\n",
    "\n",
    "    # Optimizer\n",
    "    optimizer = tf.train.AdamOptimizer(lr)\n",
    "\n",
    "    # Gradient Clipping\n",
    "    gradients = optimizer.compute_gradients(cost)\n",
    "    capped_gradients = [(tf.clip_by_value(grad, -1., 1.), var) for grad, var in gradients if grad is not None]\n",
    "    train_op = optimizer.apply_gradients(capped_gradients)"
   ]
  },
  {
   "cell_type": "markdown",
   "metadata": {},
   "source": [
    "## Train\n",
    "Train the neural network on the preprocessed data.  If you have a hard time getting a good loss, check the [forms](https://discussions.udacity.com/) to see if anyone is having the same problem."
   ]
  },
  {
   "cell_type": "code",
   "execution_count": 20,
   "metadata": {},
   "outputs": [
    {
     "name": "stdout",
     "output_type": "stream",
     "text": [
      "Epoch   0 Batch    0/4   train_loss = 8.822\n",
      "Epoch   8 Batch    0/4   train_loss = 8.822\n",
      "Epoch  16 Batch    0/4   train_loss = 8.822\n",
      "Epoch  24 Batch    0/4   train_loss = 8.822\n",
      "Model Trained and Saved\n"
     ]
    }
   ],
   "source": [
    "\"\"\"\n",
    "DON'T MODIFY ANYTHING IN THIS CELL\n",
    "\"\"\"\n",
    "batches = get_batches(int_text, batch_size, seq_length)\n",
    "\n",
    "with tf.Session(graph=train_graph) as sess:\n",
    "    sess.run(tf.global_variables_initializer())\n",
    "\n",
    "    for epoch_i in range(num_epochs):\n",
    "        state = sess.run(initial_state, {input_text: batches[0][0]})\n",
    "\n",
    "        for batch_i, (x, y) in enumerate(batches):\n",
    "            feed = {\n",
    "                input_text: x,\n",
    "                targets: y,\n",
    "                initial_state: state,\n",
    "                lr: learning_rate}\n",
    "            train_loss, state, _ = sess.run([cost, final_state, train_op], feed)\n",
    "\n",
    "            # Show every <show_every_n_batches> batches\n",
    "            if (epoch_i * len(batches) + batch_i) % show_every_n_batches == 0:\n",
    "                print('Epoch {:>3} Batch {:>4}/{}   train_loss = {:.3f}'.format(\n",
    "                    epoch_i,\n",
    "                    batch_i,\n",
    "                    len(batches),\n",
    "                    train_loss))\n",
    "\n",
    "    # Save Model\n",
    "    saver = tf.train.Saver()\n",
    "    saver.save(sess, save_dir)\n",
    "    print('Model Trained and Saved')"
   ]
  },
  {
   "cell_type": "markdown",
   "metadata": {},
   "source": [
    "## Save Parameters\n",
    "Save `seq_length` and `save_dir` for generating a new TV script."
   ]
  },
  {
   "cell_type": "code",
   "execution_count": 21,
   "metadata": {
    "collapsed": true
   },
   "outputs": [],
   "source": [
    "\"\"\"\n",
    "DON'T MODIFY ANYTHING IN THIS CELL\n",
    "\"\"\"\n",
    "# Save parameters for checkpoint\n",
    "helper.save_params((seq_length, save_dir))"
   ]
  },
  {
   "cell_type": "markdown",
   "metadata": {},
   "source": [
    "# Checkpoint"
   ]
  },
  {
   "cell_type": "code",
   "execution_count": 22,
   "metadata": {
    "collapsed": true
   },
   "outputs": [],
   "source": [
    "\"\"\"\n",
    "DON'T MODIFY ANYTHING IN THIS CELL\n",
    "\"\"\"\n",
    "import tensorflow as tf\n",
    "import numpy as np\n",
    "import helper\n",
    "import problem_unittests as tests\n",
    "\n",
    "_, vocab_to_int, int_to_vocab, token_dict = helper.load_preprocess()\n",
    "seq_length, load_dir = helper.load_params()"
   ]
  },
  {
   "cell_type": "markdown",
   "metadata": {},
   "source": [
    "## Implement Generate Functions\n",
    "### Get Tensors\n",
    "Get tensors from `loaded_graph` using the function [`get_tensor_by_name()`](https://www.tensorflow.org/api_docs/python/tf/Graph#get_tensor_by_name).  Get the tensors using the following names:\n",
    "- \"input:0\"\n",
    "- \"initial_state:0\"\n",
    "- \"final_state:0\"\n",
    "- \"probs:0\"\n",
    "\n",
    "Return the tensors in the following tuple `(InputTensor, InitialStateTensor, FinalStateTensor, ProbsTensor)` "
   ]
  },
  {
   "cell_type": "code",
   "execution_count": 23,
   "metadata": {},
   "outputs": [
    {
     "name": "stdout",
     "output_type": "stream",
     "text": [
      "Tests Passed\n"
     ]
    }
   ],
   "source": [
    "def get_tensors(loaded_graph):\n",
    "    \"\"\"\n",
    "    Get input, initial state, final state, and probabilities tensor from <loaded_graph>\n",
    "    :param loaded_graph: TensorFlow graph loaded from file\n",
    "    :return: Tuple (InputTensor, InitialStateTensor, FinalStateTensor, ProbsTensor)\n",
    "    \"\"\"\n",
    "    # Tdone: Implement Function\n",
    "    \n",
    "    \n",
    "    #using references provided by previous cell\n",
    "    #input\n",
    "    \n",
    "    #can I even use the term \"input\" jupyter  notbook hightlights it ike its a command\n",
    "    \n",
    "    inputs = loaded_graph.get_tensor_by_name(\"input:0\")\n",
    "    initial =loaded_graph.get_tensor_by_name(\"initial_state:0\")\n",
    "    final=loaded_graph.get_tensor_by_name(\"final_state:0\")\n",
    "    probabilities = loaded_graph.get_tensor_by_name(\"probs:0\")\n",
    "    return inputs, initial, final, probabilities\n",
    "\n",
    "\n",
    "\"\"\"\n",
    "DON'T MODIFY ANYTHING IN THIS CELL THAT IS BELOW THIS LINE\n",
    "\"\"\"\n",
    "tests.test_get_tensors(get_tensors)"
   ]
  },
  {
   "cell_type": "markdown",
   "metadata": {},
   "source": [
    "### Choose Word\n",
    "Implement the `pick_word()` function to select the next word using `probabilities`."
   ]
  },
  {
   "cell_type": "code",
   "execution_count": 24,
   "metadata": {},
   "outputs": [
    {
     "name": "stdout",
     "output_type": "stream",
     "text": [
      "Tests Passed\n"
     ]
    }
   ],
   "source": [
    "def pick_word(probabilities, int_to_vocab):\n",
    "    \"\"\"\n",
    "    Pick the next word in the generated text\n",
    "    :param probabilities: Probabilites of the next word\n",
    "    :param int_to_vocab: Dictionary of word ids as the keys and words as the values\n",
    "    :return: String of the predicted word\n",
    "    \"\"\"\n",
    "    # sonw: Implement Function\n",
    "    #print(int_to_vocab)\n",
    "    #print(vocab_to_int)\n",
    "    \n",
    "    #print(probabilities)\n",
    "    \n",
    "    #actually id din't read the info on param probabilities ... I should use argmax\n",
    "    #https://docs.scipy.org/doc/numpy-1.13.0/reference/generated/numpy.argmax.html\n",
    "    #ret = int_to_vocab[np.argmax(probabilities)]\n",
    "    #print(np.argmax(probabilities))\n",
    "    #print(ret)\n",
    "    \n",
    "    #ret = int_to_vocab[int(np.random.choice(len(probabilities),p=probabilities))]\n",
    "    \n",
    "    #### I keep getting KeyError: 0, which google says means it is tryhing to\n",
    "    # access 0 or less\n",
    "    \n",
    "    #select =  int(np.argmax(probabilities))\n",
    "    #if(select < 1):\n",
    "    #    select = 1\n",
    "    #if(select > len(int_to_vocab)):\n",
    "    #    select = len(int_to_vocab)\n",
    "    #ret = int_to_vocab[select]\n",
    "    #return ret\n",
    "    num_word = np.random.choice(len(int_to_vocab), p=probabilities)\n",
    "\n",
    "    return int_to_vocab[num_word]\n",
    "\n",
    "        \n",
    "    \n",
    "\n",
    "\n",
    "\"\"\"\n",
    "DON'T MODIFY ANYTHING IN THIS CELL THAT IS BELOW THIS LINE\n",
    "\"\"\"\n",
    "tests.test_pick_word(pick_word)"
   ]
  },
  {
   "cell_type": "markdown",
   "metadata": {},
   "source": [
    "## Generate TV Script\n",
    "This will generate the TV script for you.  Set `gen_length` to the length of TV script you want to generate."
   ]
  },
  {
   "cell_type": "code",
   "execution_count": 25,
   "metadata": {
    "scrolled": false
   },
   "outputs": [
    {
     "ename": "AttributeError",
     "evalue": "'str' object has no attribute 'values'",
     "output_type": "error",
     "traceback": [
      "\u001b[0;31m---------------------------------------------------------------------------\u001b[0m",
      "\u001b[0;31mAttributeError\u001b[0m                            Traceback (most recent call last)",
      "\u001b[0;32m<ipython-input-25-53b0fa740451>\u001b[0m in \u001b[0;36m<module>\u001b[0;34m()\u001b[0m\n\u001b[1;32m     51\u001b[0m     \u001b[0mtv_script\u001b[0m \u001b[0;34m=\u001b[0m \u001b[0mtv_script\u001b[0m\u001b[0;34m.\u001b[0m\u001b[0mreplace\u001b[0m\u001b[0;34m(\u001b[0m\u001b[0;34m'( '\u001b[0m\u001b[0;34m,\u001b[0m \u001b[0;34m'('\u001b[0m\u001b[0;34m)\u001b[0m\u001b[0;34m\u001b[0m\u001b[0m\n\u001b[1;32m     52\u001b[0m \u001b[0;34m\u001b[0m\u001b[0m\n\u001b[0;32m---> 53\u001b[0;31m     \u001b[0mprint\u001b[0m\u001b[0;34m(\u001b[0m\u001b[0mtv_script\u001b[0m\u001b[0;34m.\u001b[0m\u001b[0mvalues\u001b[0m\u001b[0;34m(\u001b[0m\u001b[0;34m)\u001b[0m\u001b[0;34m)\u001b[0m\u001b[0;34m\u001b[0m\u001b[0m\n\u001b[0m",
      "\u001b[0;31mAttributeError\u001b[0m: 'str' object has no attribute 'values'"
     ]
    }
   ],
   "source": [
    "#gen_length = #200\n",
    "\n",
    "\n",
    "\n",
    "# OK. So as I understand it in a TV episode there is about 1 page screenplay per minute.\n",
    "# at lets say aroudn 22 minute epidsode (commercials etc), that is 22 pages. 100 word s per page\n",
    "# 2200\n",
    "#gen_length =2200\n",
    "gen_length =33\n",
    "\n",
    "# homer_simpson, moe_szyslak, or Barney_Gumble\n",
    "prime_word = 'moe_szyslak'\n",
    "\n",
    "\"\"\"\n",
    "DON'T MODIFY ANYTHING IN THIS CELL THAT IS BELOW THIS LINE\n",
    "\"\"\"\n",
    "loaded_graph = tf.Graph()\n",
    "with tf.Session(graph=loaded_graph) as sess:\n",
    "    # Load saved model\n",
    "    loader = tf.train.import_meta_graph(load_dir + '.meta')\n",
    "    loader.restore(sess, load_dir)\n",
    "\n",
    "    # Get Tensors from loaded model\n",
    "    input_text, initial_state, final_state, probs = get_tensors(loaded_graph)\n",
    "\n",
    "    # Sentences generation setup\n",
    "    gen_sentences = [prime_word + ':']\n",
    "    prev_state = sess.run(initial_state, {input_text: np.array([[1]])})\n",
    "\n",
    "    # Generate sentences\n",
    "    for n in range(gen_length):\n",
    "        # Dynamic Input\n",
    "        dyn_input = [[vocab_to_int[word] for word in gen_sentences[-seq_length:]]]\n",
    "        dyn_seq_length = len(dyn_input[0])\n",
    "\n",
    "        # Get Prediction\n",
    "        probabilities, prev_state = sess.run(\n",
    "            [probs, final_state],\n",
    "            {input_text: dyn_input, initial_state: prev_state})\n",
    "        \n",
    "        pred_word = pick_word(probabilities[dyn_seq_length-1], int_to_vocab)\n",
    "\n",
    "        gen_sentences.append(pred_word)\n",
    "    \n",
    "    # Remove tokens\n",
    "    tv_script = ' '.join(gen_sentences)\n",
    "    for key, token in token_dict.items():\n",
    "        ending = ' ' if key in ['\\n', '(', '\"'] else ''\n",
    "        tv_script = tv_script.replace(' ' + token.lower(), key)\n",
    "    tv_script = tv_script.replace('\\n ', '\\n')\n",
    "    tv_script = tv_script.replace('( ', '(')\n",
    "        \n",
    "    print(tv_script.values())"
   ]
  },
  {
   "cell_type": "markdown",
   "metadata": {},
   "source": [
    "# The TV Script is Nonsensical\n",
    "It's ok if the TV script doesn't make any sense.  We trained on less than a megabyte of text.  In order to get good results, you'll have to use a smaller vocabulary or get more data.  Luckly there's more data!  As we mentioned in the begging of this project, this is a subset of [another dataset](https://www.kaggle.com/wcukierski/the-simpsons-by-the-data).  We didn't have you train on all the data, because that would take too long.  However, you are free to train your neural network on all the data.  After you complete the project, of course.\n",
    "# Submitting This Project\n",
    "When submitting this project, make sure to run all the cells before saving the notebook. Save the notebook file as \"dlnd_tv_script_generation.ipynb\" and save it as a HTML file under \"File\" -> \"Download as\". Include the \"helper.py\" and \"problem_unittests.py\" files in your submission."
   ]
  }
 ],
 "metadata": {
  "kernelspec": {
   "display_name": "Python 3",
   "language": "python",
   "name": "python3"
  },
  "language_info": {
   "codemirror_mode": {
    "name": "ipython",
    "version": 3
   },
   "file_extension": ".py",
   "mimetype": "text/x-python",
   "name": "python",
   "nbconvert_exporter": "python",
   "pygments_lexer": "ipython3",
   "version": "3.6.2"
  },
  "widgets": {
   "state": {},
   "version": "1.1.2"
  }
 },
 "nbformat": 4,
 "nbformat_minor": 1
}
